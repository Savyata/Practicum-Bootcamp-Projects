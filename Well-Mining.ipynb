{
 "cells": [
  {
   "cell_type": "markdown",
   "metadata": {},
   "source": [
    "# Project Description"
   ]
  },
  {
   "cell_type": "markdown",
   "metadata": {},
   "source": [
    "The objective of this project is to help finding the best place for a new well for XYZ mining company.\n",
    "\n",
    "Steps to choose the location:\n",
    "- Collect the oil well parameters in the selected region: oil quality and volume of reserves;\n",
    "- Build a model for predicting the volume of reserves in the new wells;\n",
    "- Pick the oil wells with the highest estimated values;\n",
    "- Pick the region with the highest total profit for the selected oil wells.\n",
    "We have data on oil samples from three regions. Parameters of each oil well in the region are already known. We are build a model that will help to pick the region with the highest profit margin."
   ]
  },
  {
   "cell_type": "markdown",
   "metadata": {},
   "source": [
    "## Importing necessary libraries"
   ]
  },
  {
   "cell_type": "code",
   "execution_count": 1,
   "metadata": {},
   "outputs": [],
   "source": [
    "import pandas as pd\n",
    "import numpy as np\n",
    "from sklearn.linear_model import LinearRegression\n",
    "from sklearn.metrics import accuracy_score \n",
    "from sklearn.model_selection import train_test_split\n",
    "from sklearn.metrics import r2_score\n",
    "from sklearn.metrics import mean_squared_error\n",
    "from scipy import stats as st\n"
   ]
  },
  {
   "cell_type": "markdown",
   "metadata": {},
   "source": [
    "## Importing and Preparing the data"
   ]
  },
  {
   "cell_type": "markdown",
   "metadata": {},
   "source": [
    "**Importing and studying Region 1 data**"
   ]
  },
  {
   "cell_type": "code",
   "execution_count": 2,
   "metadata": {},
   "outputs": [
    {
     "data": {
      "text/html": [
       "<div>\n",
       "<style scoped>\n",
       "    .dataframe tbody tr th:only-of-type {\n",
       "        vertical-align: middle;\n",
       "    }\n",
       "\n",
       "    .dataframe tbody tr th {\n",
       "        vertical-align: top;\n",
       "    }\n",
       "\n",
       "    .dataframe thead th {\n",
       "        text-align: right;\n",
       "    }\n",
       "</style>\n",
       "<table border=\"1\" class=\"dataframe\">\n",
       "  <thead>\n",
       "    <tr style=\"text-align: right;\">\n",
       "      <th></th>\n",
       "      <th>id</th>\n",
       "      <th>f0</th>\n",
       "      <th>f1</th>\n",
       "      <th>f2</th>\n",
       "      <th>product</th>\n",
       "    </tr>\n",
       "  </thead>\n",
       "  <tbody>\n",
       "    <tr>\n",
       "      <td>0</td>\n",
       "      <td>txEyH</td>\n",
       "      <td>0.705745</td>\n",
       "      <td>-0.497823</td>\n",
       "      <td>1.221170</td>\n",
       "      <td>105.280062</td>\n",
       "    </tr>\n",
       "    <tr>\n",
       "      <td>1</td>\n",
       "      <td>2acmU</td>\n",
       "      <td>1.334711</td>\n",
       "      <td>-0.340164</td>\n",
       "      <td>4.365080</td>\n",
       "      <td>73.037750</td>\n",
       "    </tr>\n",
       "    <tr>\n",
       "      <td>2</td>\n",
       "      <td>409Wp</td>\n",
       "      <td>1.022732</td>\n",
       "      <td>0.151990</td>\n",
       "      <td>1.419926</td>\n",
       "      <td>85.265647</td>\n",
       "    </tr>\n",
       "    <tr>\n",
       "      <td>3</td>\n",
       "      <td>iJLyR</td>\n",
       "      <td>-0.032172</td>\n",
       "      <td>0.139033</td>\n",
       "      <td>2.978566</td>\n",
       "      <td>168.620776</td>\n",
       "    </tr>\n",
       "    <tr>\n",
       "      <td>4</td>\n",
       "      <td>Xdl7t</td>\n",
       "      <td>1.988431</td>\n",
       "      <td>0.155413</td>\n",
       "      <td>4.751769</td>\n",
       "      <td>154.036647</td>\n",
       "    </tr>\n",
       "    <tr>\n",
       "      <td>5</td>\n",
       "      <td>wX4Hy</td>\n",
       "      <td>0.969570</td>\n",
       "      <td>0.489775</td>\n",
       "      <td>-0.735383</td>\n",
       "      <td>64.741541</td>\n",
       "    </tr>\n",
       "    <tr>\n",
       "      <td>6</td>\n",
       "      <td>tL6pL</td>\n",
       "      <td>0.645075</td>\n",
       "      <td>0.530656</td>\n",
       "      <td>1.780266</td>\n",
       "      <td>49.055285</td>\n",
       "    </tr>\n",
       "    <tr>\n",
       "      <td>7</td>\n",
       "      <td>BYPU6</td>\n",
       "      <td>-0.400648</td>\n",
       "      <td>0.808337</td>\n",
       "      <td>-5.624670</td>\n",
       "      <td>72.943292</td>\n",
       "    </tr>\n",
       "    <tr>\n",
       "      <td>8</td>\n",
       "      <td>j9Oui</td>\n",
       "      <td>0.643105</td>\n",
       "      <td>-0.551583</td>\n",
       "      <td>2.372141</td>\n",
       "      <td>113.356160</td>\n",
       "    </tr>\n",
       "    <tr>\n",
       "      <td>9</td>\n",
       "      <td>OLuZU</td>\n",
       "      <td>2.173381</td>\n",
       "      <td>0.563698</td>\n",
       "      <td>9.441852</td>\n",
       "      <td>127.910945</td>\n",
       "    </tr>\n",
       "  </tbody>\n",
       "</table>\n",
       "</div>"
      ],
      "text/plain": [
       "      id        f0        f1        f2     product\n",
       "0  txEyH  0.705745 -0.497823  1.221170  105.280062\n",
       "1  2acmU  1.334711 -0.340164  4.365080   73.037750\n",
       "2  409Wp  1.022732  0.151990  1.419926   85.265647\n",
       "3  iJLyR -0.032172  0.139033  2.978566  168.620776\n",
       "4  Xdl7t  1.988431  0.155413  4.751769  154.036647\n",
       "5  wX4Hy  0.969570  0.489775 -0.735383   64.741541\n",
       "6  tL6pL  0.645075  0.530656  1.780266   49.055285\n",
       "7  BYPU6 -0.400648  0.808337 -5.624670   72.943292\n",
       "8  j9Oui  0.643105 -0.551583  2.372141  113.356160\n",
       "9  OLuZU  2.173381  0.563698  9.441852  127.910945"
      ]
     },
     "execution_count": 2,
     "metadata": {},
     "output_type": "execute_result"
    }
   ],
   "source": [
    "data1 = pd.read_csv('/datasets/geo_data_0.csv')\n",
    "data1.head(10)"
   ]
  },
  {
   "cell_type": "code",
   "execution_count": 3,
   "metadata": {},
   "outputs": [
    {
     "data": {
      "text/plain": [
       "(100000, 5)"
      ]
     },
     "execution_count": 3,
     "metadata": {},
     "output_type": "execute_result"
    }
   ],
   "source": [
    "data1.shape"
   ]
  },
  {
   "cell_type": "code",
   "execution_count": 4,
   "metadata": {},
   "outputs": [
    {
     "data": {
      "text/plain": [
       "id          object\n",
       "f0         float64\n",
       "f1         float64\n",
       "f2         float64\n",
       "product    float64\n",
       "dtype: object"
      ]
     },
     "execution_count": 4,
     "metadata": {},
     "output_type": "execute_result"
    }
   ],
   "source": [
    "data1.dtypes"
   ]
  },
  {
   "cell_type": "code",
   "execution_count": 5,
   "metadata": {},
   "outputs": [
    {
     "data": {
      "text/plain": [
       "id         0\n",
       "f0         0\n",
       "f1         0\n",
       "f2         0\n",
       "product    0\n",
       "dtype: int64"
      ]
     },
     "execution_count": 5,
     "metadata": {},
     "output_type": "execute_result"
    }
   ],
   "source": [
    "data1.isnull().sum()"
   ]
  },
  {
   "cell_type": "markdown",
   "metadata": {},
   "source": [
    "We dont have any null value in Region 1 data"
   ]
  },
  {
   "cell_type": "markdown",
   "metadata": {},
   "source": [
    "**Importing and studying Region 2 data**"
   ]
  },
  {
   "cell_type": "code",
   "execution_count": 6,
   "metadata": {},
   "outputs": [
    {
     "data": {
      "text/html": [
       "<div>\n",
       "<style scoped>\n",
       "    .dataframe tbody tr th:only-of-type {\n",
       "        vertical-align: middle;\n",
       "    }\n",
       "\n",
       "    .dataframe tbody tr th {\n",
       "        vertical-align: top;\n",
       "    }\n",
       "\n",
       "    .dataframe thead th {\n",
       "        text-align: right;\n",
       "    }\n",
       "</style>\n",
       "<table border=\"1\" class=\"dataframe\">\n",
       "  <thead>\n",
       "    <tr style=\"text-align: right;\">\n",
       "      <th></th>\n",
       "      <th>id</th>\n",
       "      <th>f0</th>\n",
       "      <th>f1</th>\n",
       "      <th>f2</th>\n",
       "      <th>product</th>\n",
       "    </tr>\n",
       "  </thead>\n",
       "  <tbody>\n",
       "    <tr>\n",
       "      <td>0</td>\n",
       "      <td>kBEdx</td>\n",
       "      <td>-15.001348</td>\n",
       "      <td>-8.276000</td>\n",
       "      <td>-0.005876</td>\n",
       "      <td>3.179103</td>\n",
       "    </tr>\n",
       "    <tr>\n",
       "      <td>1</td>\n",
       "      <td>62mP7</td>\n",
       "      <td>14.272088</td>\n",
       "      <td>-3.475083</td>\n",
       "      <td>0.999183</td>\n",
       "      <td>26.953261</td>\n",
       "    </tr>\n",
       "    <tr>\n",
       "      <td>2</td>\n",
       "      <td>vyE1P</td>\n",
       "      <td>6.263187</td>\n",
       "      <td>-5.948386</td>\n",
       "      <td>5.001160</td>\n",
       "      <td>134.766305</td>\n",
       "    </tr>\n",
       "    <tr>\n",
       "      <td>3</td>\n",
       "      <td>KcrkZ</td>\n",
       "      <td>-13.081196</td>\n",
       "      <td>-11.506057</td>\n",
       "      <td>4.999415</td>\n",
       "      <td>137.945408</td>\n",
       "    </tr>\n",
       "    <tr>\n",
       "      <td>4</td>\n",
       "      <td>AHL4O</td>\n",
       "      <td>12.702195</td>\n",
       "      <td>-8.147433</td>\n",
       "      <td>5.004363</td>\n",
       "      <td>134.766305</td>\n",
       "    </tr>\n",
       "  </tbody>\n",
       "</table>\n",
       "</div>"
      ],
      "text/plain": [
       "      id         f0         f1        f2     product\n",
       "0  kBEdx -15.001348  -8.276000 -0.005876    3.179103\n",
       "1  62mP7  14.272088  -3.475083  0.999183   26.953261\n",
       "2  vyE1P   6.263187  -5.948386  5.001160  134.766305\n",
       "3  KcrkZ -13.081196 -11.506057  4.999415  137.945408\n",
       "4  AHL4O  12.702195  -8.147433  5.004363  134.766305"
      ]
     },
     "execution_count": 6,
     "metadata": {},
     "output_type": "execute_result"
    }
   ],
   "source": [
    "data2 = pd.read_csv('/datasets/geo_data_1.csv')\n",
    "data2.head()"
   ]
  },
  {
   "cell_type": "code",
   "execution_count": 7,
   "metadata": {},
   "outputs": [
    {
     "data": {
      "text/plain": [
       "(100000, 5)"
      ]
     },
     "execution_count": 7,
     "metadata": {},
     "output_type": "execute_result"
    }
   ],
   "source": [
    "data2.shape"
   ]
  },
  {
   "cell_type": "code",
   "execution_count": 8,
   "metadata": {},
   "outputs": [
    {
     "data": {
      "text/plain": [
       "id          object\n",
       "f0         float64\n",
       "f1         float64\n",
       "f2         float64\n",
       "product    float64\n",
       "dtype: object"
      ]
     },
     "execution_count": 8,
     "metadata": {},
     "output_type": "execute_result"
    }
   ],
   "source": [
    "data2.dtypes"
   ]
  },
  {
   "cell_type": "code",
   "execution_count": 9,
   "metadata": {},
   "outputs": [
    {
     "data": {
      "text/plain": [
       "id         0\n",
       "f0         0\n",
       "f1         0\n",
       "f2         0\n",
       "product    0\n",
       "dtype: int64"
      ]
     },
     "execution_count": 9,
     "metadata": {},
     "output_type": "execute_result"
    }
   ],
   "source": [
    "data2.isnull().sum()"
   ]
  },
  {
   "cell_type": "markdown",
   "metadata": {},
   "source": [
    "We dont have any null value in Region 2 data."
   ]
  },
  {
   "cell_type": "markdown",
   "metadata": {},
   "source": [
    "**Importing and studying Region 3 data**"
   ]
  },
  {
   "cell_type": "code",
   "execution_count": 10,
   "metadata": {},
   "outputs": [
    {
     "data": {
      "text/html": [
       "<div>\n",
       "<style scoped>\n",
       "    .dataframe tbody tr th:only-of-type {\n",
       "        vertical-align: middle;\n",
       "    }\n",
       "\n",
       "    .dataframe tbody tr th {\n",
       "        vertical-align: top;\n",
       "    }\n",
       "\n",
       "    .dataframe thead th {\n",
       "        text-align: right;\n",
       "    }\n",
       "</style>\n",
       "<table border=\"1\" class=\"dataframe\">\n",
       "  <thead>\n",
       "    <tr style=\"text-align: right;\">\n",
       "      <th></th>\n",
       "      <th>id</th>\n",
       "      <th>f0</th>\n",
       "      <th>f1</th>\n",
       "      <th>f2</th>\n",
       "      <th>product</th>\n",
       "    </tr>\n",
       "  </thead>\n",
       "  <tbody>\n",
       "    <tr>\n",
       "      <td>0</td>\n",
       "      <td>fwXo0</td>\n",
       "      <td>-1.146987</td>\n",
       "      <td>0.963328</td>\n",
       "      <td>-0.828965</td>\n",
       "      <td>27.758673</td>\n",
       "    </tr>\n",
       "    <tr>\n",
       "      <td>1</td>\n",
       "      <td>WJtFt</td>\n",
       "      <td>0.262778</td>\n",
       "      <td>0.269839</td>\n",
       "      <td>-2.530187</td>\n",
       "      <td>56.069697</td>\n",
       "    </tr>\n",
       "    <tr>\n",
       "      <td>2</td>\n",
       "      <td>ovLUW</td>\n",
       "      <td>0.194587</td>\n",
       "      <td>0.289035</td>\n",
       "      <td>-5.586433</td>\n",
       "      <td>62.871910</td>\n",
       "    </tr>\n",
       "    <tr>\n",
       "      <td>3</td>\n",
       "      <td>q6cA6</td>\n",
       "      <td>2.236060</td>\n",
       "      <td>-0.553760</td>\n",
       "      <td>0.930038</td>\n",
       "      <td>114.572842</td>\n",
       "    </tr>\n",
       "    <tr>\n",
       "      <td>4</td>\n",
       "      <td>WPMUX</td>\n",
       "      <td>-0.515993</td>\n",
       "      <td>1.716266</td>\n",
       "      <td>5.899011</td>\n",
       "      <td>149.600746</td>\n",
       "    </tr>\n",
       "  </tbody>\n",
       "</table>\n",
       "</div>"
      ],
      "text/plain": [
       "      id        f0        f1        f2     product\n",
       "0  fwXo0 -1.146987  0.963328 -0.828965   27.758673\n",
       "1  WJtFt  0.262778  0.269839 -2.530187   56.069697\n",
       "2  ovLUW  0.194587  0.289035 -5.586433   62.871910\n",
       "3  q6cA6  2.236060 -0.553760  0.930038  114.572842\n",
       "4  WPMUX -0.515993  1.716266  5.899011  149.600746"
      ]
     },
     "execution_count": 10,
     "metadata": {},
     "output_type": "execute_result"
    }
   ],
   "source": [
    "data3 = pd.read_csv('/datasets/geo_data_2.csv')\n",
    "data3.head()"
   ]
  },
  {
   "cell_type": "code",
   "execution_count": 11,
   "metadata": {},
   "outputs": [
    {
     "data": {
      "text/plain": [
       "id          object\n",
       "f0         float64\n",
       "f1         float64\n",
       "f2         float64\n",
       "product    float64\n",
       "dtype: object"
      ]
     },
     "execution_count": 11,
     "metadata": {},
     "output_type": "execute_result"
    }
   ],
   "source": [
    "data3.dtypes"
   ]
  },
  {
   "cell_type": "code",
   "execution_count": 12,
   "metadata": {},
   "outputs": [
    {
     "data": {
      "text/plain": [
       "(100000, 5)"
      ]
     },
     "execution_count": 12,
     "metadata": {},
     "output_type": "execute_result"
    }
   ],
   "source": [
    "data3.shape"
   ]
  },
  {
   "cell_type": "code",
   "execution_count": 13,
   "metadata": {},
   "outputs": [
    {
     "data": {
      "text/plain": [
       "id         0\n",
       "f0         0\n",
       "f1         0\n",
       "f2         0\n",
       "product    0\n",
       "dtype: int64"
      ]
     },
     "execution_count": 13,
     "metadata": {},
     "output_type": "execute_result"
    }
   ],
   "source": [
    "data3.isnull().sum()"
   ]
  },
  {
   "cell_type": "markdown",
   "metadata": {},
   "source": [
    "We dont have any null value in Region 3 data."
   ]
  },
  {
   "cell_type": "markdown",
   "metadata": {},
   "source": [
    "## Train and test the model for each region"
   ]
  },
  {
   "cell_type": "markdown",
   "metadata": {},
   "source": [
    "### Train and test the model for region 1 :"
   ]
  },
  {
   "cell_type": "code",
   "execution_count": 14,
   "metadata": {},
   "outputs": [],
   "source": [
    "target = data1['product']\n",
    "features = data1.drop(['product','id'], axis=1)"
   ]
  },
  {
   "cell_type": "code",
   "execution_count": 15,
   "metadata": {},
   "outputs": [],
   "source": [
    "#splitting data into 2 sets first: train = 60% and remaining=40%\n",
    "features_train, features_valid, target_train, target_valid= train_test_split(features,target,test_size=0.25, random_state=12345)\n"
   ]
  },
  {
   "cell_type": "code",
   "execution_count": 16,
   "metadata": {},
   "outputs": [],
   "source": [
    "model = LinearRegression().fit(features_train,target_train)\n",
    "prediction = model.predict(features_valid)"
   ]
  },
  {
   "cell_type": "code",
   "execution_count": 17,
   "metadata": {},
   "outputs": [
    {
     "data": {
      "text/plain": [
       "92.59256778438038"
      ]
     },
     "execution_count": 17,
     "metadata": {},
     "output_type": "execute_result"
    }
   ],
   "source": [
    "prediction.mean()"
   ]
  },
  {
   "cell_type": "code",
   "execution_count": 18,
   "metadata": {},
   "outputs": [
    {
     "name": "stdout",
     "output_type": "stream",
     "text": [
      "[  3.59280585 -14.09794419   6.59316617]\n",
      "77.85671856415696\n"
     ]
    }
   ],
   "source": [
    "print(model.coef_)\n",
    "print(model.intercept_)"
   ]
  },
  {
   "cell_type": "code",
   "execution_count": 19,
   "metadata": {},
   "outputs": [
    {
     "data": {
      "text/plain": [
       "-1.6290772227286001"
      ]
     },
     "execution_count": 19,
     "metadata": {},
     "output_type": "execute_result"
    }
   ],
   "source": [
    "r2_score(prediction, target_valid)"
   ]
  },
  {
   "cell_type": "code",
   "execution_count": 20,
   "metadata": {},
   "outputs": [
    {
     "data": {
      "text/plain": [
       "37.5794217150813"
      ]
     },
     "execution_count": 20,
     "metadata": {},
     "output_type": "execute_result"
    }
   ],
   "source": [
    "MSE = mean_squared_error(prediction, target_valid)\n",
    "#RMSE\n",
    "MSE ** 0.5"
   ]
  },
  {
   "cell_type": "markdown",
   "metadata": {},
   "source": [
    "### Train and test the model for region 2 :"
   ]
  },
  {
   "cell_type": "code",
   "execution_count": 21,
   "metadata": {},
   "outputs": [],
   "source": [
    "target2 = data2['product']\n",
    "features2 = data2.drop(['product','id'], axis=1)"
   ]
  },
  {
   "cell_type": "code",
   "execution_count": 22,
   "metadata": {},
   "outputs": [],
   "source": [
    "#splitting data into 2 sets first: train = 60% and remaining=40%\n",
    "features_train2, features_valid2, target_train2, target_valid2= train_test_split(features2,target2,test_size=0.25, random_state=12345)\n"
   ]
  },
  {
   "cell_type": "code",
   "execution_count": 23,
   "metadata": {},
   "outputs": [
    {
     "data": {
      "text/plain": [
       "68.728546895446"
      ]
     },
     "execution_count": 23,
     "metadata": {},
     "output_type": "execute_result"
    }
   ],
   "source": [
    "model2 = LinearRegression().fit(features_train2,target_train2)\n",
    "prediction2 = model2.predict(features_valid2)\n",
    "prediction2.mean()"
   ]
  },
  {
   "cell_type": "code",
   "execution_count": 24,
   "metadata": {},
   "outputs": [
    {
     "data": {
      "text/plain": [
       "0.9996232023840883"
      ]
     },
     "execution_count": 24,
     "metadata": {},
     "output_type": "execute_result"
    }
   ],
   "source": [
    "r2_score(prediction2, target_valid2)"
   ]
  },
  {
   "cell_type": "code",
   "execution_count": 25,
   "metadata": {},
   "outputs": [
    {
     "data": {
      "text/plain": [
       "0.893099286775616"
      ]
     },
     "execution_count": 25,
     "metadata": {},
     "output_type": "execute_result"
    }
   ],
   "source": [
    "MSE2 = mean_squared_error(prediction2, target_valid2)\n",
    "#RMSE\n",
    "MSE2 ** 0.5"
   ]
  },
  {
   "cell_type": "markdown",
   "metadata": {},
   "source": [
    "### Train and test the model for region 3 :"
   ]
  },
  {
   "cell_type": "code",
   "execution_count": 26,
   "metadata": {},
   "outputs": [
    {
     "data": {
      "text/plain": [
       "94.96504596800489"
      ]
     },
     "execution_count": 26,
     "metadata": {},
     "output_type": "execute_result"
    }
   ],
   "source": [
    "target3 = data3['product']\n",
    "features3 = data3.drop(['product','id'], axis=1)\n",
    "#splitting data into 2 sets first: train = 60% and remaining=40%\n",
    "features_train3, features_valid3, target_train3, target_valid3= train_test_split(features3,target3,test_size=0.25, random_state=12345)\n",
    "\n",
    "model3 = LinearRegression().fit(features_train3,target_train3)\n",
    "prediction3 = model3.predict(features_valid3)\n",
    "prediction3.mean()\n"
   ]
  },
  {
   "cell_type": "code",
   "execution_count": 27,
   "metadata": {},
   "outputs": [
    {
     "data": {
      "text/plain": [
       "-3.065349333298901"
      ]
     },
     "execution_count": 27,
     "metadata": {},
     "output_type": "execute_result"
    }
   ],
   "source": [
    "\n",
    "r2_score(prediction3, target_valid3)"
   ]
  },
  {
   "cell_type": "code",
   "execution_count": 28,
   "metadata": {},
   "outputs": [
    {
     "data": {
      "text/plain": [
       "40.02970873393434"
      ]
     },
     "execution_count": 28,
     "metadata": {},
     "output_type": "execute_result"
    }
   ],
   "source": [
    "MSE3 = mean_squared_error(prediction3, target_valid3)\n",
    "RMSE3 = MSE3 ** 0.5\n",
    "RMSE3"
   ]
  },
  {
   "cell_type": "markdown",
   "metadata": {},
   "source": [
    "**Conclusion**: Among the 3 models from 3 regions, we have the higest R-square score in region 2 data 0.999 as well as the value of RMSE is 0.89 which implies that the regression model fits our observations in region 2 data more accurately than other 2 regions."
   ]
  },
  {
   "cell_type": "markdown",
   "metadata": {},
   "source": [
    "## Prepare for profit calculation:"
   ]
  },
  {
   "cell_type": "markdown",
   "metadata": {},
   "source": [
    "Calculate Break even point"
   ]
  },
  {
   "cell_type": "code",
   "execution_count": 34,
   "metadata": {},
   "outputs": [
    {
     "name": "stdout",
     "output_type": "stream",
     "text": [
      "111.11111111111111\n"
     ]
    }
   ],
   "source": [
    "#The budget for development of 200 oil wells\n",
    "cost_well_build = 100000000\n",
    "\n",
    "#revenue from one unit of product\n",
    "revenue_per_unit = 4500\n",
    "costof1cell= 100000000 / 200\n",
    "break_even_point = costof1cell/4500\n",
    "print(break_even_point)"
   ]
  },
  {
   "cell_type": "markdown",
   "metadata": {},
   "source": [
    "## Profit and Risk Calculation"
   ]
  },
  {
   "cell_type": "markdown",
   "metadata": {},
   "source": [
    "### Region 1 profit and risk calculation"
   ]
  },
  {
   "cell_type": "code",
   "execution_count": 30,
   "metadata": {},
   "outputs": [],
   "source": [
    "target_valid1 = target_valid.reset_index(drop=True)\n",
    "target_valid1 = pd.Series(target_valid1)\n",
    "prediction1=pd.Series(prediction)"
   ]
  },
  {
   "cell_type": "code",
   "execution_count": 39,
   "metadata": {},
   "outputs": [
    {
     "name": "stdout",
     "output_type": "stream",
     "text": [
      "Average revenue: 4259385.269105923\n",
      "The percentage of risk loss is 6.0 %\n",
      "95% Confidence Interval:\n",
      "Lower quantile: -1020900.9483793724\n",
      "Upper quantile: 9479763.533583675\n"
     ]
    }
   ],
   "source": [
    "\n",
    "def revenue(target_valid1,prediction1,count):\n",
    "    state = np.random.RandomState(12345)\n",
    "    sorted_predictions = prediction1.sort_values(ascending=False) # sort prediction1\n",
    "    target_sorted_by_preds = target_valid1[sorted_predictions.index][:count] # select target by sorted_predictions index\n",
    "    target_sorted_by_preds_top200 =  target_sorted_by_preds[:200]# select first 200 elements from target_sorted_by_preds\n",
    "    profit = ((target_sorted_by_preds_top200.sum()) * 4500) - 100000000\n",
    "    return profit # sum of target_sorted_by_preds_top200 * revenue per unit - cost\n",
    "\n",
    "\n",
    "\n",
    "state = np.random.RandomState(12345)\n",
    "   \n",
    "profit_list = []\n",
    "for i in range(1000):\n",
    "    target_subsample = target_valid1.sample(n=500,replace=True, random_state=state)\n",
    "    probs_subsample = prediction1[target_subsample.index] \n",
    "    \n",
    "    profit_list.append(revenue(target_subsample,probs_subsample,500))\n",
    "                 \n",
    "profit_list = pd.Series(profit_list)\n",
    "lower = profit_list.quantile(0.01)\n",
    "mean = profit_list.mean()\n",
    "print(\"Average revenue:\", mean)\n",
    "\n",
    "neg_count = len(list(filter(lambda x: (x < 0), profit_list)))\n",
    "risk_loss = (neg_count/1000)*100\n",
    "print(\"The percentage of risk loss is\", risk_loss, \"%\")\n",
    "\n",
    "lower = profit_list.quantile(0.025)\n",
    "upper = profit_list.quantile(0.975)\n",
    "\n",
    "\n",
    "print(\"95% Confidence Interval:\")\n",
    "print(\"Lower quantile:\", lower)\n",
    "print(\"Upper quantile:\", upper)"
   ]
  },
  {
   "cell_type": "markdown",
   "metadata": {},
   "source": [
    "### Region 2 Profit and Risk Calculation"
   ]
  },
  {
   "cell_type": "code",
   "execution_count": 42,
   "metadata": {},
   "outputs": [
    {
     "name": "stdout",
     "output_type": "stream",
     "text": [
      "Average revenue: 5152227.734432899\n",
      "The percentage of risk loss is 1.0\n",
      "95% Confidence Interval:\n",
      "Lower quantile: 688732.2537050088\n",
      "Upper quantile: 9315475.912570495\n"
     ]
    }
   ],
   "source": [
    "target_valid2 = target_valid2.reset_index(drop=True)\n",
    "target_valid2 = pd.Series(target_valid2)\n",
    "prediction2=pd.Series(prediction2)\n",
    "\n",
    "def revenue2(target_valid2,prediction2,count):\n",
    "    state = np.random.RandomState(12345)\n",
    "    sorted_predictions = prediction2.sort_values(ascending=False) # sort prediction2\n",
    "    target_sorted_by_preds = target_valid2[sorted_predictions.index][:count] # select target by sorted_predictions index\n",
    "    target_sorted_by_preds_top200 =  target_sorted_by_preds[:200]# select first 200 elements from target_sorted_by_preds\n",
    "    profit = (target_sorted_by_preds_top200.sum() * 4500) - 100000000\n",
    "    return profit # sum of target_sorted_by_preds_top200 * revenue per unit - cost\n",
    "\n",
    "\n",
    "\n",
    "state = np.random.RandomState(12345)\n",
    "   \n",
    "profit_list2 = []\n",
    "for i in range(1000):\n",
    "    target_subsample = target_valid2.sample(n=500,replace=True, random_state=state)\n",
    "    probs_subsample = prediction2[target_subsample.index] \n",
    "    \n",
    "    profit_list2.append(revenue2(target_subsample,probs_subsample,500))\n",
    "                 \n",
    "profit_list2 = pd.Series(profit_list2)\n",
    "lower = profit_list2.quantile(0.01)\n",
    "mean2 = profit_list2.mean()\n",
    "print(\"Average revenue:\", mean2)\n",
    "\n",
    "neg_count2 = len(list(filter(lambda x: (x < 0), profit_list2)))\n",
    "risk_loss2 = (neg_count2/1000)*100\n",
    "print(\"The percentage of risk loss is\", risk_loss2)\n",
    "\n",
    "lower2 = profit_list2.quantile(0.025)\n",
    "upper2 = profit_list2.quantile(0.975)\n",
    "\n",
    "\n",
    "print(\"95% Confidence Interval:\")\n",
    "print(\"Lower quantile:\", lower2)\n",
    "print(\"Upper quantile:\", upper2)"
   ]
  },
  {
   "cell_type": "markdown",
   "metadata": {},
   "source": [
    "### Region 3 Profit and Risk Calculation"
   ]
  },
  {
   "cell_type": "code",
   "execution_count": 41,
   "metadata": {},
   "outputs": [
    {
     "name": "stdout",
     "output_type": "stream",
     "text": [
      "Average revenue: 4350083.627827557\n",
      "The percentage of risk loss is 6.4\n",
      "95% Confidence Interval:\n",
      "Lower quantile: -1288805.473297878\n",
      "Upper quantile: 9697069.541802669\n"
     ]
    }
   ],
   "source": [
    "target_valid3 = target_valid3.reset_index(drop=True)\n",
    "target_valid3 = pd.Series(target_valid3)\n",
    "prediction3=pd.Series(prediction3)\n",
    "\n",
    "def revenue3(target_valid3,prediction3,count):\n",
    "    state = np.random.RandomState(12345)\n",
    "    sorted_predictions = prediction3.sort_values(ascending=False) # sort prediction3\n",
    "    target_sorted_by_preds = target_valid3[sorted_predictions.index][:count] # select target by sorted_predictions index\n",
    "    target_sorted_by_preds_top200 =  target_sorted_by_preds[:200]# select first 200 elements from target_sorted_by_preds\n",
    "    profit = (target_sorted_by_preds_top200.sum() * 4500) - 100000000\n",
    "    return profit # sum of target_sorted_by_preds_top200 * revenue per unit - cost\n",
    "\n",
    "\n",
    "\n",
    "state = np.random.RandomState(12345)\n",
    "   \n",
    "profit_list3 = []\n",
    "for i in range(1000):\n",
    "    target_subsample = target_valid3.sample(n=500,replace=True, random_state=state)\n",
    "    probs_subsample = prediction3[target_subsample.index] \n",
    "    \n",
    "    profit_list3.append(revenue3(target_subsample,probs_subsample,500))\n",
    "                 \n",
    "profit_list3 = pd.Series(profit_list3)\n",
    "\n",
    "mean3 = profit_list3.mean()\n",
    "print(\"Average revenue:\", mean3)\n",
    "\n",
    "neg_count3 = len(list(filter(lambda x: (x < 0), profit_list3)))\n",
    "risk_loss3 = (neg_count3/1000)*100\n",
    "print(\"The percentage of risk loss is\", risk_loss3)\n",
    "\n",
    "lower3 = profit_list3.quantile(0.025)\n",
    "upper3 = profit_list3.quantile(0.975)\n",
    "\n",
    "\n",
    "print(\"95% Confidence Interval:\")\n",
    "print(\"Lower quantile:\", lower3)\n",
    "print(\"Upper quantile:\", upper3)"
   ]
  },
  {
   "cell_type": "markdown",
   "metadata": {},
   "source": [
    "## Conclusion"
   ]
  },
  {
   "cell_type": "markdown",
   "metadata": {},
   "source": [
    "- We can see we have the lowest risk of loss for Region 2 data which is 1%, while the risk of loss is ~6 % for Region 1 and Region 2.\n",
    "- There is highest amount of average revenue generation for Region 2 data which is ~$ 5152227.\n",
    "- Therefore, we can conclude that Region 2 is the most profitable option with lowest risk for oil mining than region 1 and region 3\n"
   ]
  }
 ],
 "metadata": {
  "ExecuteTimeLog": [
   {
    "duration": 1295,
    "start_time": "2021-11-05T01:13:56.974Z"
   },
   {
    "duration": 184,
    "start_time": "2021-11-05T01:16:32.504Z"
   },
   {
    "duration": 170,
    "start_time": "2021-11-05T01:16:59.868Z"
   },
   {
    "duration": 1839,
    "start_time": "2021-11-05T01:17:35.724Z"
   },
   {
    "duration": 162,
    "start_time": "2021-11-05T01:17:45.168Z"
   },
   {
    "duration": 264,
    "start_time": "2021-11-05T01:22:42.258Z"
   },
   {
    "duration": 5,
    "start_time": "2021-11-05T01:23:08.932Z"
   },
   {
    "duration": 258,
    "start_time": "2021-11-05T01:23:34.142Z"
   },
   {
    "duration": 13,
    "start_time": "2021-11-05T01:23:41.734Z"
   },
   {
    "duration": 245,
    "start_time": "2021-11-05T01:24:29.198Z"
   },
   {
    "duration": 272,
    "start_time": "2021-11-05T01:24:33.242Z"
   },
   {
    "duration": 248,
    "start_time": "2021-11-05T01:25:13.104Z"
   },
   {
    "duration": 249,
    "start_time": "2021-11-05T01:25:19.155Z"
   },
   {
    "duration": 6,
    "start_time": "2021-11-05T01:25:59.417Z"
   },
   {
    "duration": 5,
    "start_time": "2021-11-05T01:33:20.756Z"
   },
   {
    "duration": 252,
    "start_time": "2021-11-05T01:33:37.262Z"
   },
   {
    "duration": 8,
    "start_time": "2021-11-05T01:33:40.379Z"
   },
   {
    "duration": 18,
    "start_time": "2021-11-05T01:33:55.261Z"
   },
   {
    "duration": 247,
    "start_time": "2021-11-05T01:35:47.076Z"
   },
   {
    "duration": 239,
    "start_time": "2021-11-05T01:35:56.110Z"
   },
   {
    "duration": 8,
    "start_time": "2021-11-05T01:35:59.820Z"
   },
   {
    "duration": 235,
    "start_time": "2021-11-05T01:36:06.380Z"
   },
   {
    "duration": 6,
    "start_time": "2021-11-05T01:36:10.700Z"
   },
   {
    "duration": 16,
    "start_time": "2021-11-05T01:36:23.064Z"
   },
   {
    "duration": 893,
    "start_time": "2021-11-11T01:57:30.683Z"
   },
   {
    "duration": 1432,
    "start_time": "2021-11-11T01:57:37.149Z"
   },
   {
    "duration": 173,
    "start_time": "2021-11-11T01:57:40.241Z"
   },
   {
    "duration": 5,
    "start_time": "2021-11-11T01:57:40.639Z"
   },
   {
    "duration": 7,
    "start_time": "2021-11-11T01:57:40.934Z"
   },
   {
    "duration": 12,
    "start_time": "2021-11-11T01:57:41.217Z"
   },
   {
    "duration": 157,
    "start_time": "2021-11-11T01:57:42.227Z"
   },
   {
    "duration": 5,
    "start_time": "2021-11-11T01:57:42.453Z"
   },
   {
    "duration": 7,
    "start_time": "2021-11-11T01:57:42.662Z"
   },
   {
    "duration": 13,
    "start_time": "2021-11-11T01:57:42.824Z"
   },
   {
    "duration": 155,
    "start_time": "2021-11-11T01:57:44.321Z"
   },
   {
    "duration": 6,
    "start_time": "2021-11-11T01:57:45.672Z"
   },
   {
    "duration": 5,
    "start_time": "2021-11-11T01:57:46.054Z"
   },
   {
    "duration": 13,
    "start_time": "2021-11-11T01:57:46.432Z"
   },
   {
    "duration": 325,
    "start_time": "2021-11-11T01:58:29.857Z"
   },
   {
    "duration": 259,
    "start_time": "2021-11-11T01:58:35.488Z"
   },
   {
    "duration": 1326,
    "start_time": "2021-11-11T01:58:40.830Z"
   },
   {
    "duration": 173,
    "start_time": "2021-11-11T01:58:44.034Z"
   },
   {
    "duration": 6,
    "start_time": "2021-11-11T01:58:45.656Z"
   },
   {
    "duration": 7,
    "start_time": "2021-11-11T01:58:46.155Z"
   },
   {
    "duration": 13,
    "start_time": "2021-11-11T01:58:46.548Z"
   },
   {
    "duration": 166,
    "start_time": "2021-11-11T01:58:47.547Z"
   },
   {
    "duration": 5,
    "start_time": "2021-11-11T01:58:48.385Z"
   },
   {
    "duration": 6,
    "start_time": "2021-11-11T01:58:48.429Z"
   },
   {
    "duration": 14,
    "start_time": "2021-11-11T01:58:50.207Z"
   },
   {
    "duration": 173,
    "start_time": "2021-11-11T01:58:50.223Z"
   },
   {
    "duration": 6,
    "start_time": "2021-11-11T01:58:50.399Z"
   },
   {
    "duration": 24,
    "start_time": "2021-11-11T01:58:50.407Z"
   },
   {
    "duration": 25,
    "start_time": "2021-11-11T01:58:50.433Z"
   },
   {
    "duration": 458,
    "start_time": "2021-11-11T01:59:30.519Z"
   },
   {
    "duration": 1335,
    "start_time": "2021-11-11T01:59:39.329Z"
   },
   {
    "duration": 179,
    "start_time": "2021-11-11T01:59:40.667Z"
   },
   {
    "duration": 5,
    "start_time": "2021-11-11T01:59:40.850Z"
   },
   {
    "duration": 7,
    "start_time": "2021-11-11T01:59:40.858Z"
   },
   {
    "duration": 13,
    "start_time": "2021-11-11T01:59:40.867Z"
   },
   {
    "duration": 161,
    "start_time": "2021-11-11T01:59:41.307Z"
   },
   {
    "duration": 5,
    "start_time": "2021-11-11T01:59:41.471Z"
   },
   {
    "duration": 7,
    "start_time": "2021-11-11T01:59:41.615Z"
   },
   {
    "duration": 13,
    "start_time": "2021-11-11T01:59:41.792Z"
   },
   {
    "duration": 154,
    "start_time": "2021-11-11T01:59:42.302Z"
   },
   {
    "duration": 7,
    "start_time": "2021-11-11T01:59:42.496Z"
   },
   {
    "duration": 6,
    "start_time": "2021-11-11T01:59:42.686Z"
   },
   {
    "duration": 13,
    "start_time": "2021-11-11T01:59:42.891Z"
   },
   {
    "duration": 7,
    "start_time": "2021-11-11T01:59:43.204Z"
   },
   {
    "duration": 26,
    "start_time": "2021-11-11T01:59:43.383Z"
   },
   {
    "duration": 1681,
    "start_time": "2021-11-11T02:00:37.570Z"
   },
   {
    "duration": 172,
    "start_time": "2021-11-11T02:00:41.392Z"
   },
   {
    "duration": 6,
    "start_time": "2021-11-11T02:00:42.776Z"
   },
   {
    "duration": 7,
    "start_time": "2021-11-11T02:00:43.526Z"
   },
   {
    "duration": 13,
    "start_time": "2021-11-11T02:00:44.824Z"
   },
   {
    "duration": 153,
    "start_time": "2021-11-11T02:00:48.086Z"
   },
   {
    "duration": 5,
    "start_time": "2021-11-11T02:00:49.418Z"
   },
   {
    "duration": 7,
    "start_time": "2021-11-11T02:00:51.089Z"
   },
   {
    "duration": 13,
    "start_time": "2021-11-11T02:00:52.336Z"
   },
   {
    "duration": 162,
    "start_time": "2021-11-11T02:00:55.904Z"
   },
   {
    "duration": 8,
    "start_time": "2021-11-11T02:00:57.984Z"
   },
   {
    "duration": 6,
    "start_time": "2021-11-11T02:00:58.372Z"
   },
   {
    "duration": 14,
    "start_time": "2021-11-11T02:00:58.778Z"
   },
   {
    "duration": 9,
    "start_time": "2021-11-11T02:01:01.455Z"
   },
   {
    "duration": 27,
    "start_time": "2021-11-11T02:01:03.168Z"
   },
   {
    "duration": 4,
    "start_time": "2021-11-11T02:16:45.129Z"
   },
   {
    "duration": 412,
    "start_time": "2021-11-11T02:20:27.279Z"
   },
   {
    "duration": 269,
    "start_time": "2021-11-11T02:21:55.564Z"
   },
   {
    "duration": 9,
    "start_time": "2021-11-11T02:22:22.656Z"
   },
   {
    "duration": 20,
    "start_time": "2021-11-11T02:22:24.994Z"
   },
   {
    "duration": 14,
    "start_time": "2021-11-11T02:22:26.058Z"
   },
   {
    "duration": 15,
    "start_time": "2021-11-11T02:26:24.363Z"
   },
   {
    "duration": 6,
    "start_time": "2021-11-11T02:28:45.148Z"
   },
   {
    "duration": 335,
    "start_time": "2021-11-11T02:29:01.120Z"
   },
   {
    "duration": 261,
    "start_time": "2021-11-11T02:29:07.788Z"
   },
   {
    "duration": 5,
    "start_time": "2021-11-11T02:29:20.016Z"
   },
   {
    "duration": 283,
    "start_time": "2021-11-11T02:29:49.761Z"
   },
   {
    "duration": 4,
    "start_time": "2021-11-11T02:30:46.623Z"
   },
   {
    "duration": 7,
    "start_time": "2021-11-11T02:30:51.700Z"
   },
   {
    "duration": 800,
    "start_time": "2021-11-11T02:31:20.888Z"
   },
   {
    "duration": 268,
    "start_time": "2021-11-11T02:31:51.052Z"
   },
   {
    "duration": 581,
    "start_time": "2021-11-11T02:32:00.372Z"
   },
   {
    "duration": 6,
    "start_time": "2021-11-11T02:32:10.294Z"
   },
   {
    "duration": 22,
    "start_time": "2021-11-11T02:41:34.789Z"
   },
   {
    "duration": 5,
    "start_time": "2021-11-11T02:42:13.064Z"
   },
   {
    "duration": 6,
    "start_time": "2021-11-11T02:43:36.364Z"
   },
   {
    "duration": 18,
    "start_time": "2021-11-11T02:43:37.269Z"
   },
   {
    "duration": 14,
    "start_time": "2021-11-11T02:43:38.300Z"
   },
   {
    "duration": 5,
    "start_time": "2021-11-11T02:43:39.352Z"
   },
   {
    "duration": 8,
    "start_time": "2021-11-11T02:43:40.858Z"
   },
   {
    "duration": 286,
    "start_time": "2021-11-11T02:44:16.332Z"
   },
   {
    "duration": 4,
    "start_time": "2021-11-11T02:44:45.377Z"
   },
   {
    "duration": 7,
    "start_time": "2021-11-11T02:44:48.726Z"
   },
   {
    "duration": 4,
    "start_time": "2021-11-11T02:45:32.171Z"
   },
   {
    "duration": 6,
    "start_time": "2021-11-11T02:47:04.059Z"
   },
   {
    "duration": 18,
    "start_time": "2021-11-11T02:47:04.853Z"
   },
   {
    "duration": 14,
    "start_time": "2021-11-11T02:47:05.299Z"
   },
   {
    "duration": 5,
    "start_time": "2021-11-11T02:47:05.778Z"
   },
   {
    "duration": 6,
    "start_time": "2021-11-11T02:47:06.235Z"
   },
   {
    "duration": 6,
    "start_time": "2021-11-11T02:47:07.909Z"
   },
   {
    "duration": 5,
    "start_time": "2021-11-11T02:47:11.648Z"
   },
   {
    "duration": 328,
    "start_time": "2021-11-11T02:50:38.264Z"
   },
   {
    "duration": 277,
    "start_time": "2021-11-11T02:50:47.342Z"
   },
   {
    "duration": 20,
    "start_time": "2021-11-11T02:50:52.034Z"
   },
   {
    "duration": 6,
    "start_time": "2021-11-11T02:51:25.388Z"
   },
   {
    "duration": 17,
    "start_time": "2021-11-11T02:51:26.326Z"
   },
   {
    "duration": 21,
    "start_time": "2021-11-11T02:51:27.186Z"
   },
   {
    "duration": 5,
    "start_time": "2021-11-11T02:51:28.012Z"
   },
   {
    "duration": 8,
    "start_time": "2021-11-11T02:51:29.650Z"
   },
   {
    "duration": 5,
    "start_time": "2021-11-11T02:52:08.616Z"
   },
   {
    "duration": 7,
    "start_time": "2021-11-11T03:28:32.067Z"
   },
   {
    "duration": 17,
    "start_time": "2021-11-11T03:28:34.151Z"
   },
   {
    "duration": 14,
    "start_time": "2021-11-11T03:28:34.578Z"
   },
   {
    "duration": 6,
    "start_time": "2021-11-11T03:28:34.965Z"
   },
   {
    "duration": 5,
    "start_time": "2021-11-11T03:28:35.224Z"
   },
   {
    "duration": 6,
    "start_time": "2021-11-11T03:28:35.444Z"
   },
   {
    "duration": 7,
    "start_time": "2021-11-11T03:28:36.111Z"
   },
   {
    "duration": 5,
    "start_time": "2021-11-11T03:28:36.981Z"
   },
   {
    "duration": 6,
    "start_time": "2021-11-11T03:28:59.687Z"
   },
   {
    "duration": 6,
    "start_time": "2021-11-11T03:29:19.576Z"
   },
   {
    "duration": 17,
    "start_time": "2021-11-11T03:29:20.490Z"
   },
   {
    "duration": 21,
    "start_time": "2021-11-11T03:29:21.321Z"
   },
   {
    "duration": 6,
    "start_time": "2021-11-11T03:29:22.161Z"
   },
   {
    "duration": 5,
    "start_time": "2021-11-11T03:29:23.017Z"
   },
   {
    "duration": 7,
    "start_time": "2021-11-11T03:29:24.339Z"
   },
   {
    "duration": 6,
    "start_time": "2021-11-11T03:29:26.733Z"
   },
   {
    "duration": 5,
    "start_time": "2021-11-11T03:29:28.435Z"
   },
   {
    "duration": 287,
    "start_time": "2021-11-11T03:29:58.331Z"
   },
   {
    "duration": 7,
    "start_time": "2021-11-11T03:30:07.321Z"
   },
   {
    "duration": 18,
    "start_time": "2021-11-11T03:30:08.137Z"
   },
   {
    "duration": 22,
    "start_time": "2021-11-11T03:30:25.232Z"
   },
   {
    "duration": 17,
    "start_time": "2021-11-11T03:30:34.231Z"
   },
   {
    "duration": 8,
    "start_time": "2021-11-11T03:30:46.311Z"
   },
   {
    "duration": 38,
    "start_time": "2021-11-11T03:32:07.104Z"
   },
   {
    "duration": 32,
    "start_time": "2021-11-11T03:32:20.448Z"
   },
   {
    "duration": 7,
    "start_time": "2021-11-11T03:32:22.741Z"
   },
   {
    "duration": 7,
    "start_time": "2021-11-11T03:36:34.244Z"
   },
   {
    "duration": 32,
    "start_time": "2021-11-11T03:37:08.916Z"
   },
   {
    "duration": 6,
    "start_time": "2021-11-11T03:37:15.834Z"
   },
   {
    "duration": 33,
    "start_time": "2021-11-11T03:37:35.178Z"
   },
   {
    "duration": 7,
    "start_time": "2021-11-11T03:37:42.144Z"
   },
   {
    "duration": 6,
    "start_time": "2021-11-11T03:37:47.252Z"
   },
   {
    "duration": 7,
    "start_time": "2021-11-11T03:37:52.907Z"
   },
   {
    "duration": 16,
    "start_time": "2021-11-11T03:38:06.675Z"
   },
   {
    "duration": 6,
    "start_time": "2021-11-11T03:39:55.126Z"
   },
   {
    "duration": 32,
    "start_time": "2021-11-11T03:40:44.082Z"
   },
   {
    "duration": 6,
    "start_time": "2021-11-11T03:40:45.074Z"
   },
   {
    "duration": 6,
    "start_time": "2021-11-11T03:40:45.984Z"
   },
   {
    "duration": 6,
    "start_time": "2021-11-11T03:40:46.784Z"
   },
   {
    "duration": 6,
    "start_time": "2021-11-11T03:40:52.702Z"
   },
   {
    "duration": 4,
    "start_time": "2021-11-11T03:51:33.550Z"
   },
   {
    "duration": 5,
    "start_time": "2021-11-11T03:51:45.646Z"
   },
   {
    "duration": 7,
    "start_time": "2021-11-11T03:53:00.782Z"
   },
   {
    "duration": 391,
    "start_time": "2021-11-11T03:53:08.639Z"
   },
   {
    "duration": 8,
    "start_time": "2021-11-11T03:53:17.941Z"
   },
   {
    "duration": 8,
    "start_time": "2021-11-11T03:54:23.017Z"
   },
   {
    "duration": 8,
    "start_time": "2021-11-11T03:54:33.591Z"
   },
   {
    "duration": 7,
    "start_time": "2021-11-11T03:55:19.525Z"
   },
   {
    "duration": 994,
    "start_time": "2021-11-14T18:18:37.837Z"
   },
   {
    "duration": 130,
    "start_time": "2021-11-14T18:18:41.522Z"
   },
   {
    "duration": 4,
    "start_time": "2021-11-14T18:18:42.354Z"
   },
   {
    "duration": 6,
    "start_time": "2021-11-14T18:18:42.870Z"
   },
   {
    "duration": 10,
    "start_time": "2021-11-14T18:18:43.207Z"
   },
   {
    "duration": 123,
    "start_time": "2021-11-14T18:18:43.762Z"
   },
   {
    "duration": 4,
    "start_time": "2021-11-14T18:18:43.948Z"
   },
   {
    "duration": 5,
    "start_time": "2021-11-14T18:18:44.134Z"
   },
   {
    "duration": 9,
    "start_time": "2021-11-14T18:18:44.332Z"
   },
   {
    "duration": 123,
    "start_time": "2021-11-14T18:18:44.883Z"
   },
   {
    "duration": 4,
    "start_time": "2021-11-14T18:18:45.072Z"
   },
   {
    "duration": 3,
    "start_time": "2021-11-14T18:18:45.278Z"
   },
   {
    "duration": 10,
    "start_time": "2021-11-14T18:18:45.469Z"
   },
   {
    "duration": 4,
    "start_time": "2021-11-14T18:18:46.597Z"
   },
   {
    "duration": 13,
    "start_time": "2021-11-14T18:18:46.878Z"
   },
   {
    "duration": 19,
    "start_time": "2021-11-14T18:18:47.408Z"
   },
   {
    "duration": 3,
    "start_time": "2021-11-14T18:18:48.104Z"
   },
   {
    "duration": 3,
    "start_time": "2021-11-14T18:18:48.500Z"
   },
   {
    "duration": 4,
    "start_time": "2021-11-14T18:18:48.890Z"
   },
   {
    "duration": 4,
    "start_time": "2021-11-14T18:18:49.620Z"
   },
   {
    "duration": 3,
    "start_time": "2021-11-14T18:18:50.008Z"
   },
   {
    "duration": 5,
    "start_time": "2021-11-14T18:19:41.490Z"
   },
   {
    "duration": 14,
    "start_time": "2021-11-14T18:19:42.295Z"
   },
   {
    "duration": 13,
    "start_time": "2021-11-14T18:19:42.816Z"
   },
   {
    "duration": 5,
    "start_time": "2021-11-14T18:19:43.205Z"
   },
   {
    "duration": 28,
    "start_time": "2021-11-14T18:19:43.839Z"
   },
   {
    "duration": 5,
    "start_time": "2021-11-14T18:19:44.104Z"
   },
   {
    "duration": 5,
    "start_time": "2021-11-14T18:19:44.455Z"
   },
   {
    "duration": 4,
    "start_time": "2021-11-14T18:19:44.768Z"
   },
   {
    "duration": 5,
    "start_time": "2021-11-14T18:19:46.559Z"
   },
   {
    "duration": 5,
    "start_time": "2021-11-14T18:19:47.334Z"
   },
   {
    "duration": 5,
    "start_time": "2021-11-14T18:19:48.074Z"
   },
   {
    "duration": 3,
    "start_time": "2021-11-14T18:26:43.510Z"
   },
   {
    "duration": 3,
    "start_time": "2021-11-14T18:27:24.970Z"
   },
   {
    "duration": 4,
    "start_time": "2021-11-14T18:27:51.109Z"
   },
   {
    "duration": 4,
    "start_time": "2021-11-14T18:28:48.891Z"
   },
   {
    "duration": 451,
    "start_time": "2021-11-14T18:29:05.677Z"
   },
   {
    "duration": 3,
    "start_time": "2021-11-14T18:29:10.646Z"
   },
   {
    "duration": 3,
    "start_time": "2021-11-14T18:29:11.852Z"
   },
   {
    "duration": 5,
    "start_time": "2021-11-14T18:29:29.969Z"
   },
   {
    "duration": 4,
    "start_time": "2021-11-14T18:29:59.902Z"
   },
   {
    "duration": 5,
    "start_time": "2021-11-14T18:30:38.922Z"
   },
   {
    "duration": 5,
    "start_time": "2021-11-14T18:31:21.992Z"
   },
   {
    "duration": 113,
    "start_time": "2021-11-14T18:42:44.660Z"
   },
   {
    "duration": 5,
    "start_time": "2021-11-14T18:42:53.868Z"
   },
   {
    "duration": 108,
    "start_time": "2021-11-14T18:42:54.870Z"
   },
   {
    "duration": 2,
    "start_time": "2021-11-14T18:43:06.662Z"
   },
   {
    "duration": 5,
    "start_time": "2021-11-14T18:43:13.384Z"
   },
   {
    "duration": 3,
    "start_time": "2021-11-14T18:44:56.039Z"
   },
   {
    "duration": 2,
    "start_time": "2021-11-14T18:47:51.330Z"
   },
   {
    "duration": 3,
    "start_time": "2021-11-14T18:48:19.433Z"
   },
   {
    "duration": 3,
    "start_time": "2021-11-14T18:48:26.716Z"
   },
   {
    "duration": 113,
    "start_time": "2021-11-14T18:50:22.685Z"
   },
   {
    "duration": 4,
    "start_time": "2021-11-14T18:50:34.230Z"
   },
   {
    "duration": 351,
    "start_time": "2021-11-14T18:50:52.220Z"
   },
   {
    "duration": 4,
    "start_time": "2021-11-14T18:50:54.059Z"
   },
   {
    "duration": 4,
    "start_time": "2021-11-14T18:50:54.730Z"
   },
   {
    "duration": 2,
    "start_time": "2021-11-14T18:51:21.416Z"
   },
   {
    "duration": 2,
    "start_time": "2021-11-14T18:51:40.695Z"
   },
   {
    "duration": 5,
    "start_time": "2021-11-14T18:51:44.826Z"
   },
   {
    "duration": 4,
    "start_time": "2021-11-14T18:51:46.151Z"
   },
   {
    "duration": 5,
    "start_time": "2021-11-14T18:53:26.089Z"
   },
   {
    "duration": 4,
    "start_time": "2021-11-14T18:54:38.695Z"
   },
   {
    "duration": 14,
    "start_time": "2021-11-14T19:04:56.593Z"
   },
   {
    "duration": 12,
    "start_time": "2021-11-14T19:05:05.312Z"
   },
   {
    "duration": 134,
    "start_time": "2021-11-14T19:22:08.343Z"
   },
   {
    "duration": 420,
    "start_time": "2021-11-14T19:23:06.815Z"
   },
   {
    "duration": 346,
    "start_time": "2021-11-14T19:23:45.401Z"
   },
   {
    "duration": 4,
    "start_time": "2021-11-14T19:25:10.271Z"
   },
   {
    "duration": 3,
    "start_time": "2021-11-14T19:27:53.091Z"
   },
   {
    "duration": 4,
    "start_time": "2021-11-14T19:28:29.077Z"
   },
   {
    "duration": 384,
    "start_time": "2021-11-14T19:32:50.115Z"
   },
   {
    "duration": 413,
    "start_time": "2021-11-14T19:34:25.852Z"
   },
   {
    "duration": 368,
    "start_time": "2021-11-14T19:35:17.365Z"
   },
   {
    "duration": 376,
    "start_time": "2021-11-14T19:35:26.201Z"
   },
   {
    "duration": 4,
    "start_time": "2021-11-14T19:35:45.561Z"
   },
   {
    "duration": 365,
    "start_time": "2021-11-14T19:35:54.045Z"
   },
   {
    "duration": 419,
    "start_time": "2021-11-14T19:36:00.761Z"
   },
   {
    "duration": 395,
    "start_time": "2021-11-14T19:36:21.989Z"
   },
   {
    "duration": 435,
    "start_time": "2021-11-14T19:36:29.653Z"
   },
   {
    "duration": 1548,
    "start_time": "2021-11-14T19:36:38.414Z"
   },
   {
    "duration": 377,
    "start_time": "2021-11-14T19:36:57.189Z"
   },
   {
    "duration": 359,
    "start_time": "2021-11-14T19:37:04.973Z"
   },
   {
    "duration": 566,
    "start_time": "2021-11-14T19:37:39.301Z"
   },
   {
    "duration": 349,
    "start_time": "2021-11-14T19:38:24.887Z"
   },
   {
    "duration": 366,
    "start_time": "2021-11-14T19:39:47.719Z"
   },
   {
    "duration": 7,
    "start_time": "2021-11-14T19:40:11.216Z"
   },
   {
    "duration": 343,
    "start_time": "2021-11-14T19:40:59.009Z"
   },
   {
    "duration": 396,
    "start_time": "2021-11-14T19:41:04.591Z"
   },
   {
    "duration": 9,
    "start_time": "2021-11-14T19:41:46.968Z"
   },
   {
    "duration": 5,
    "start_time": "2021-11-14T19:42:21.985Z"
   },
   {
    "duration": 356,
    "start_time": "2021-11-14T19:42:25.771Z"
   },
   {
    "duration": 3,
    "start_time": "2021-11-14T19:42:45.517Z"
   },
   {
    "duration": 346,
    "start_time": "2021-11-14T19:42:52.687Z"
   },
   {
    "duration": 639,
    "start_time": "2021-11-14T19:43:02.465Z"
   },
   {
    "duration": 4,
    "start_time": "2021-11-14T19:45:18.191Z"
   },
   {
    "duration": 606,
    "start_time": "2021-11-14T19:45:50.948Z"
   },
   {
    "duration": 575,
    "start_time": "2021-11-14T19:46:24.609Z"
   },
   {
    "duration": 577,
    "start_time": "2021-11-14T19:46:59.569Z"
   },
   {
    "duration": 3,
    "start_time": "2021-11-14T19:48:11.747Z"
   },
   {
    "duration": 7,
    "start_time": "2021-11-14T19:48:17.265Z"
   },
   {
    "duration": 3,
    "start_time": "2021-11-14T19:48:21.729Z"
   },
   {
    "duration": 1384,
    "start_time": "2021-11-14T19:48:22.955Z"
   },
   {
    "duration": 591,
    "start_time": "2021-11-14T19:48:49.563Z"
   },
   {
    "duration": 4,
    "start_time": "2021-11-14T19:50:04.083Z"
   },
   {
    "duration": 3,
    "start_time": "2021-11-14T20:26:15.544Z"
   },
   {
    "duration": 622,
    "start_time": "2021-11-14T20:26:20.860Z"
   },
   {
    "duration": 593,
    "start_time": "2021-11-14T20:26:56.596Z"
   },
   {
    "duration": 356,
    "start_time": "2021-11-14T20:27:09.414Z"
   },
   {
    "duration": 6,
    "start_time": "2021-11-14T20:27:14.283Z"
   },
   {
    "duration": 131,
    "start_time": "2021-11-14T20:27:36.799Z"
   },
   {
    "duration": 127,
    "start_time": "2021-11-14T20:28:20.597Z"
   },
   {
    "duration": 509,
    "start_time": "2021-11-14T20:29:30.438Z"
   },
   {
    "duration": 125,
    "start_time": "2021-11-14T20:29:50.573Z"
   },
   {
    "duration": 466,
    "start_time": "2021-11-14T21:42:06.438Z"
   },
   {
    "duration": 257,
    "start_time": "2021-11-14T21:42:37.846Z"
   },
   {
    "duration": 508,
    "start_time": "2021-11-14T21:43:01.167Z"
   },
   {
    "duration": 490,
    "start_time": "2021-11-14T21:43:13.198Z"
   },
   {
    "duration": 488,
    "start_time": "2021-11-14T21:43:26.021Z"
   },
   {
    "duration": 525,
    "start_time": "2021-11-14T21:43:39.078Z"
   },
   {
    "duration": 200,
    "start_time": "2021-11-14T21:44:04.610Z"
   },
   {
    "duration": 124,
    "start_time": "2021-11-14T21:44:12.046Z"
   },
   {
    "duration": 1058,
    "start_time": "2021-11-16T03:07:06.147Z"
   },
   {
    "duration": 142,
    "start_time": "2021-11-16T03:07:09.956Z"
   },
   {
    "duration": 4,
    "start_time": "2021-11-16T03:07:10.884Z"
   },
   {
    "duration": 5,
    "start_time": "2021-11-16T03:07:11.395Z"
   },
   {
    "duration": 10,
    "start_time": "2021-11-16T03:07:11.890Z"
   },
   {
    "duration": 135,
    "start_time": "2021-11-16T03:07:12.777Z"
   },
   {
    "duration": 4,
    "start_time": "2021-11-16T03:07:13.033Z"
   },
   {
    "duration": 5,
    "start_time": "2021-11-16T03:07:13.266Z"
   },
   {
    "duration": 14,
    "start_time": "2021-11-16T03:07:13.481Z"
   },
   {
    "duration": 139,
    "start_time": "2021-11-16T03:07:14.049Z"
   },
   {
    "duration": 5,
    "start_time": "2021-11-16T03:07:14.203Z"
   },
   {
    "duration": 4,
    "start_time": "2021-11-16T03:07:14.381Z"
   },
   {
    "duration": 9,
    "start_time": "2021-11-16T03:07:14.565Z"
   },
   {
    "duration": 5,
    "start_time": "2021-11-16T03:07:15.314Z"
   },
   {
    "duration": 15,
    "start_time": "2021-11-16T03:07:15.517Z"
   },
   {
    "duration": 21,
    "start_time": "2021-11-16T03:07:15.706Z"
   },
   {
    "duration": 4,
    "start_time": "2021-11-16T03:07:15.887Z"
   },
   {
    "duration": 3,
    "start_time": "2021-11-16T03:07:16.064Z"
   },
   {
    "duration": 5,
    "start_time": "2021-11-16T03:07:16.263Z"
   },
   {
    "duration": 6,
    "start_time": "2021-11-16T03:07:16.437Z"
   },
   {
    "duration": 6,
    "start_time": "2021-11-16T03:07:17.020Z"
   },
   {
    "duration": 16,
    "start_time": "2021-11-16T03:07:17.225Z"
   },
   {
    "duration": 111,
    "start_time": "2021-11-16T03:07:17.453Z"
   },
   {
    "duration": 6,
    "start_time": "2021-11-16T03:07:57.507Z"
   },
   {
    "duration": 5,
    "start_time": "2021-11-16T03:07:58.715Z"
   },
   {
    "duration": 58,
    "start_time": "2021-11-16T03:08:00.204Z"
   },
   {
    "duration": 5,
    "start_time": "2021-11-16T03:08:00.929Z"
   },
   {
    "duration": 5,
    "start_time": "2021-11-16T03:08:01.758Z"
   },
   {
    "duration": 3,
    "start_time": "2021-11-16T03:08:09.417Z"
   },
   {
    "duration": 6,
    "start_time": "2021-11-16T03:08:10.740Z"
   },
   {
    "duration": 4,
    "start_time": "2021-11-16T03:08:11.400Z"
   },
   {
    "duration": 4,
    "start_time": "2021-11-16T03:08:11.998Z"
   },
   {
    "duration": 6,
    "start_time": "2021-11-16T03:08:13.642Z"
   },
   {
    "duration": 4,
    "start_time": "2021-11-16T03:08:14.001Z"
   },
   {
    "duration": 5,
    "start_time": "2021-11-16T03:08:14.841Z"
   },
   {
    "duration": 4,
    "start_time": "2021-11-16T03:08:15.097Z"
   },
   {
    "duration": 6,
    "start_time": "2021-11-16T03:08:16.524Z"
   },
   {
    "duration": 125,
    "start_time": "2021-11-16T03:08:17.036Z"
   },
   {
    "duration": 528,
    "start_time": "2021-11-16T03:11:36.055Z"
   },
   {
    "duration": 1169,
    "start_time": "2021-11-16T03:27:33.134Z"
   },
   {
    "duration": 512,
    "start_time": "2021-11-16T03:29:02.638Z"
   },
   {
    "duration": 1166,
    "start_time": "2021-11-16T03:29:10.979Z"
   },
   {
    "duration": 1178,
    "start_time": "2021-11-16T03:30:03.398Z"
   },
   {
    "duration": 1207,
    "start_time": "2021-11-16T03:30:27.574Z"
   },
   {
    "duration": 1155,
    "start_time": "2021-11-16T03:31:56.015Z"
   },
   {
    "duration": 1186,
    "start_time": "2021-11-16T03:32:13.030Z"
   },
   {
    "duration": 1297,
    "start_time": "2021-11-16T03:32:54.577Z"
   },
   {
    "duration": 286,
    "start_time": "2021-11-16T03:37:12.031Z"
   },
   {
    "duration": 406,
    "start_time": "2021-11-16T03:37:52.295Z"
   },
   {
    "duration": 274,
    "start_time": "2021-11-16T03:38:13.485Z"
   },
   {
    "duration": 249,
    "start_time": "2021-11-16T03:41:09.273Z"
   },
   {
    "duration": 273,
    "start_time": "2021-11-16T03:41:35.005Z"
   },
   {
    "duration": 420,
    "start_time": "2021-11-16T03:42:59.661Z"
   },
   {
    "duration": 379,
    "start_time": "2021-11-16T03:43:07.654Z"
   },
   {
    "duration": 286,
    "start_time": "2021-11-16T03:43:13.193Z"
   },
   {
    "duration": 120,
    "start_time": "2021-11-16T03:43:21.389Z"
   },
   {
    "duration": 278,
    "start_time": "2021-11-16T03:45:00.261Z"
   },
   {
    "duration": 253,
    "start_time": "2021-11-16T03:45:08.070Z"
   },
   {
    "duration": 99,
    "start_time": "2021-11-16T03:45:50.073Z"
   },
   {
    "duration": 5,
    "start_time": "2021-11-16T03:46:02.590Z"
   },
   {
    "duration": 804,
    "start_time": "2021-11-16T03:46:25.101Z"
   },
   {
    "duration": 787,
    "start_time": "2021-11-16T03:46:53.811Z"
   },
   {
    "duration": 5,
    "start_time": "2021-11-16T03:49:37.916Z"
   },
   {
    "duration": 53,
    "start_time": "2021-11-17T01:27:41.437Z"
   },
   {
    "duration": 62,
    "start_time": "2021-11-17T01:29:17.333Z"
   },
   {
    "duration": 3,
    "start_time": "2021-11-17T01:32:12.168Z"
   },
   {
    "duration": 3,
    "start_time": "2021-11-17T01:32:53.434Z"
   },
   {
    "duration": 275,
    "start_time": "2021-11-17T01:34:17.765Z"
   },
   {
    "duration": 69,
    "start_time": "2021-11-17T01:34:33.853Z"
   },
   {
    "duration": 3,
    "start_time": "2021-11-17T01:34:47.598Z"
   },
   {
    "duration": 4,
    "start_time": "2021-11-17T01:35:09.907Z"
   },
   {
    "duration": 216,
    "start_time": "2021-11-17T01:35:18.528Z"
   },
   {
    "duration": 56,
    "start_time": "2021-11-17T01:36:50.569Z"
   },
   {
    "duration": 64,
    "start_time": "2021-11-17T01:41:04.654Z"
   },
   {
    "duration": 3,
    "start_time": "2021-11-17T01:41:10.781Z"
   },
   {
    "duration": 3,
    "start_time": "2021-11-17T01:41:26.169Z"
   },
   {
    "duration": 185,
    "start_time": "2021-11-17T01:41:31.291Z"
   },
   {
    "duration": 3,
    "start_time": "2021-11-17T01:41:40.692Z"
   },
   {
    "duration": 3,
    "start_time": "2021-11-17T01:41:53.191Z"
   },
   {
    "duration": 69,
    "start_time": "2021-11-17T01:43:21.365Z"
   },
   {
    "duration": 64,
    "start_time": "2021-11-17T01:43:32.196Z"
   },
   {
    "duration": 169,
    "start_time": "2021-11-17T01:43:41.954Z"
   },
   {
    "duration": 171,
    "start_time": "2021-11-17T01:44:03.645Z"
   },
   {
    "duration": 64,
    "start_time": "2021-11-17T01:44:34.076Z"
   },
   {
    "duration": 186,
    "start_time": "2021-11-17T01:44:40.081Z"
   },
   {
    "duration": 190,
    "start_time": "2021-11-17T01:46:34.020Z"
   },
   {
    "duration": 178,
    "start_time": "2021-11-17T01:59:35.584Z"
   },
   {
    "duration": 425,
    "start_time": "2021-11-17T01:59:50.900Z"
   },
   {
    "duration": 184,
    "start_time": "2021-11-17T02:01:01.484Z"
   },
   {
    "duration": 183,
    "start_time": "2021-11-17T03:25:10.973Z"
   },
   {
    "duration": 813,
    "start_time": "2021-11-17T03:25:35.670Z"
   },
   {
    "duration": 637,
    "start_time": "2021-11-17T03:25:37.275Z"
   },
   {
    "duration": 4,
    "start_time": "2021-11-17T03:25:37.914Z"
   },
   {
    "duration": 16,
    "start_time": "2021-11-17T03:25:37.921Z"
   },
   {
    "duration": 26,
    "start_time": "2021-11-17T03:25:37.940Z"
   },
   {
    "duration": 131,
    "start_time": "2021-11-17T03:25:38.451Z"
   },
   {
    "duration": 4,
    "start_time": "2021-11-17T03:25:38.609Z"
   },
   {
    "duration": 12,
    "start_time": "2021-11-17T03:25:38.793Z"
   },
   {
    "duration": 15,
    "start_time": "2021-11-17T03:25:38.987Z"
   },
   {
    "duration": 134,
    "start_time": "2021-11-17T03:25:39.546Z"
   },
   {
    "duration": 5,
    "start_time": "2021-11-17T03:25:39.727Z"
   },
   {
    "duration": 4,
    "start_time": "2021-11-17T03:25:39.916Z"
   },
   {
    "duration": 10,
    "start_time": "2021-11-17T03:25:40.135Z"
   },
   {
    "duration": 4,
    "start_time": "2021-11-17T03:25:40.971Z"
   },
   {
    "duration": 19,
    "start_time": "2021-11-17T03:25:41.185Z"
   },
   {
    "duration": 16,
    "start_time": "2021-11-17T03:25:41.404Z"
   },
   {
    "duration": 5,
    "start_time": "2021-11-17T03:25:41.592Z"
   },
   {
    "duration": 4,
    "start_time": "2021-11-17T03:25:41.773Z"
   },
   {
    "duration": 5,
    "start_time": "2021-11-17T03:25:41.965Z"
   },
   {
    "duration": 5,
    "start_time": "2021-11-17T03:25:42.163Z"
   },
   {
    "duration": 6,
    "start_time": "2021-11-17T03:25:42.975Z"
   },
   {
    "duration": 15,
    "start_time": "2021-11-17T03:25:43.138Z"
   },
   {
    "duration": 17,
    "start_time": "2021-11-17T03:25:43.340Z"
   },
   {
    "duration": 5,
    "start_time": "2021-11-17T03:25:43.548Z"
   },
   {
    "duration": 5,
    "start_time": "2021-11-17T03:25:43.748Z"
   },
   {
    "duration": 34,
    "start_time": "2021-11-17T03:25:44.201Z"
   },
   {
    "duration": 5,
    "start_time": "2021-11-17T03:25:44.409Z"
   },
   {
    "duration": 6,
    "start_time": "2021-11-17T03:25:44.661Z"
   },
   {
    "duration": 2,
    "start_time": "2021-11-17T03:25:45.861Z"
   },
   {
    "duration": 6,
    "start_time": "2021-11-17T03:25:46.455Z"
   },
   {
    "duration": 4,
    "start_time": "2021-11-17T03:25:46.658Z"
   },
   {
    "duration": 4,
    "start_time": "2021-11-17T03:25:46.875Z"
   },
   {
    "duration": 6,
    "start_time": "2021-11-17T03:25:47.683Z"
   },
   {
    "duration": 5,
    "start_time": "2021-11-17T03:25:47.887Z"
   },
   {
    "duration": 7,
    "start_time": "2021-11-17T03:25:48.503Z"
   },
   {
    "duration": 4,
    "start_time": "2021-11-17T03:25:48.682Z"
   },
   {
    "duration": 8,
    "start_time": "2021-11-17T03:25:49.601Z"
   },
   {
    "duration": 4,
    "start_time": "2021-11-17T03:25:50.225Z"
   },
   {
    "duration": 3500,
    "start_time": "2021-11-17T03:25:51.390Z"
   },
   {
    "duration": 3534,
    "start_time": "2021-11-17T03:27:52.053Z"
   },
   {
    "duration": 3478,
    "start_time": "2021-11-17T03:28:52.173Z"
   },
   {
    "duration": 3456,
    "start_time": "2021-11-17T03:29:02.337Z"
   },
   {
    "duration": 3464,
    "start_time": "2021-11-17T03:34:34.394Z"
   },
   {
    "duration": 3482,
    "start_time": "2021-11-17T03:35:48.559Z"
   },
   {
    "duration": 3616,
    "start_time": "2021-11-17T03:36:05.002Z"
   },
   {
    "duration": 3468,
    "start_time": "2021-11-17T03:36:13.530Z"
   },
   {
    "duration": 74,
    "start_time": "2021-11-17T03:39:03.276Z"
   },
   {
    "duration": 3413,
    "start_time": "2021-11-17T03:39:37.466Z"
   },
   {
    "duration": 3428,
    "start_time": "2021-11-17T03:39:59.095Z"
   },
   {
    "duration": 3408,
    "start_time": "2021-11-17T03:40:14.735Z"
   },
   {
    "duration": 3177,
    "start_time": "2021-11-17T03:40:40.477Z"
   },
   {
    "duration": 3197,
    "start_time": "2021-11-17T03:41:35.415Z"
   },
   {
    "duration": 3210,
    "start_time": "2021-11-17T03:43:46.772Z"
   },
   {
    "duration": 3,
    "start_time": "2021-11-17T03:45:30.773Z"
   },
   {
    "duration": 3,
    "start_time": "2021-11-17T03:45:48.619Z"
   },
   {
    "duration": 6,
    "start_time": "2021-11-17T03:46:28.099Z"
   },
   {
    "duration": 443,
    "start_time": "2021-11-17T03:48:14.836Z"
   },
   {
    "duration": 3169,
    "start_time": "2021-11-17T03:48:38.996Z"
   },
   {
    "duration": 3200,
    "start_time": "2021-11-17T03:51:44.228Z"
   },
   {
    "duration": 3219,
    "start_time": "2021-11-17T03:52:33.680Z"
   },
   {
    "duration": 3208,
    "start_time": "2021-11-17T03:52:36.901Z"
   },
   {
    "duration": 3226,
    "start_time": "2021-11-17T03:53:16.626Z"
   },
   {
    "duration": 3291,
    "start_time": "2021-11-17T03:53:53.625Z"
   },
   {
    "duration": 36999,
    "start_time": "2021-11-17T03:55:52.362Z"
   },
   {
    "duration": 36910,
    "start_time": "2021-11-17T04:00:49.701Z"
   },
   {
    "duration": 3240,
    "start_time": "2021-11-17T04:01:47.517Z"
   },
   {
    "duration": 36403,
    "start_time": "2021-11-17T04:02:03.708Z"
   },
   {
    "duration": 175,
    "start_time": "2021-11-17T04:03:42.633Z"
   },
   {
    "duration": 5,
    "start_time": "2021-11-17T04:03:52.619Z"
   },
   {
    "duration": 35045,
    "start_time": "2021-11-17T04:05:06.764Z"
   },
   {
    "duration": 5,
    "start_time": "2021-11-17T04:05:41.811Z"
   },
   {
    "duration": 183,
    "start_time": "2021-11-17T04:10:20.541Z"
   },
   {
    "duration": 183,
    "start_time": "2021-11-17T04:10:36.988Z"
   },
   {
    "duration": 3,
    "start_time": "2021-11-17T04:10:41.131Z"
   },
   {
    "duration": 177,
    "start_time": "2021-11-17T04:10:47.331Z"
   },
   {
    "duration": 181,
    "start_time": "2021-11-17T04:11:13.293Z"
   },
   {
    "duration": 3,
    "start_time": "2021-11-17T04:11:30.747Z"
   },
   {
    "duration": 66,
    "start_time": "2021-11-17T04:12:47.675Z"
   },
   {
    "duration": 3,
    "start_time": "2021-11-17T04:12:54.250Z"
   },
   {
    "duration": 3173,
    "start_time": "2021-11-17T04:14:07.762Z"
   },
   {
    "duration": 3236,
    "start_time": "2021-11-17T04:14:13.706Z"
   },
   {
    "duration": 3196,
    "start_time": "2021-11-17T04:14:30.554Z"
   },
   {
    "duration": 35120,
    "start_time": "2021-11-17T04:14:41.206Z"
   },
   {
    "duration": 34836,
    "start_time": "2021-11-17T04:16:09.774Z"
   },
   {
    "duration": 3214,
    "start_time": "2021-11-17T04:16:44.612Z"
   },
   {
    "duration": 34923,
    "start_time": "2021-11-17T04:16:47.827Z"
   },
   {
    "duration": 15,
    "start_time": "2021-11-17T05:26:00.533Z"
   },
   {
    "duration": 1676,
    "start_time": "2021-11-17T23:34:14.097Z"
   },
   {
    "duration": 259,
    "start_time": "2021-11-17T23:34:19.206Z"
   },
   {
    "duration": 7,
    "start_time": "2021-11-17T23:34:19.557Z"
   },
   {
    "duration": 9,
    "start_time": "2021-11-17T23:34:19.889Z"
   },
   {
    "duration": 19,
    "start_time": "2021-11-17T23:34:20.250Z"
   },
   {
    "duration": 163,
    "start_time": "2021-11-17T23:34:21.315Z"
   },
   {
    "duration": 6,
    "start_time": "2021-11-17T23:34:21.669Z"
   },
   {
    "duration": 7,
    "start_time": "2021-11-17T23:34:22.024Z"
   },
   {
    "duration": 14,
    "start_time": "2021-11-17T23:34:22.393Z"
   },
   {
    "duration": 164,
    "start_time": "2021-11-17T23:34:23.403Z"
   },
   {
    "duration": 8,
    "start_time": "2021-11-17T23:34:23.773Z"
   },
   {
    "duration": 5,
    "start_time": "2021-11-17T23:34:24.096Z"
   },
   {
    "duration": 13,
    "start_time": "2021-11-17T23:34:24.479Z"
   },
   {
    "duration": 6,
    "start_time": "2021-11-17T23:34:25.833Z"
   },
   {
    "duration": 19,
    "start_time": "2021-11-17T23:34:26.172Z"
   },
   {
    "duration": 24,
    "start_time": "2021-11-17T23:34:26.378Z"
   },
   {
    "duration": 6,
    "start_time": "2021-11-17T23:34:26.584Z"
   },
   {
    "duration": 5,
    "start_time": "2021-11-17T23:34:26.718Z"
   },
   {
    "duration": 7,
    "start_time": "2021-11-17T23:34:26.882Z"
   },
   {
    "duration": 8,
    "start_time": "2021-11-17T23:34:27.052Z"
   },
   {
    "duration": 9,
    "start_time": "2021-11-17T23:34:28.256Z"
   },
   {
    "duration": 17,
    "start_time": "2021-11-17T23:34:29.961Z"
   },
   {
    "duration": 58,
    "start_time": "2021-11-17T23:34:30.424Z"
   },
   {
    "duration": 6,
    "start_time": "2021-11-17T23:34:30.780Z"
   },
   {
    "duration": 7,
    "start_time": "2021-11-17T23:34:31.060Z"
   },
   {
    "duration": 39,
    "start_time": "2021-11-17T23:34:31.507Z"
   },
   {
    "duration": 8,
    "start_time": "2021-11-17T23:34:31.707Z"
   },
   {
    "duration": 7,
    "start_time": "2021-11-17T23:34:31.874Z"
   },
   {
    "duration": 5,
    "start_time": "2021-11-17T23:34:34.373Z"
   },
   {
    "duration": 5,
    "start_time": "2021-11-17T23:34:36.179Z"
   },
   {
    "duration": 4,
    "start_time": "2021-11-17T23:53:41.150Z"
   },
   {
    "duration": 5,
    "start_time": "2021-11-17T23:53:56.570Z"
   },
   {
    "duration": 5,
    "start_time": "2021-11-17T23:55:02.332Z"
   },
   {
    "duration": 5,
    "start_time": "2021-11-17T23:55:49.536Z"
   },
   {
    "duration": 50558,
    "start_time": "2021-11-17T23:56:14.864Z"
   },
   {
    "duration": 5985,
    "start_time": "2021-11-17T23:57:52.783Z"
   },
   {
    "duration": 5909,
    "start_time": "2021-11-17T23:58:14.316Z"
   },
   {
    "duration": 6098,
    "start_time": "2021-11-18T00:14:29.871Z"
   },
   {
    "duration": 5614,
    "start_time": "2021-11-18T00:14:52.197Z"
   },
   {
    "duration": 5960,
    "start_time": "2021-11-18T00:16:25.247Z"
   },
   {
    "duration": 5559,
    "start_time": "2021-11-18T00:19:34.251Z"
   },
   {
    "duration": 5748,
    "start_time": "2021-11-18T00:19:57.866Z"
   },
   {
    "duration": 4,
    "start_time": "2021-12-14T04:25:05.059Z"
   }
  ],
  "kernelspec": {
   "display_name": "Python 3",
   "language": "python",
   "name": "python3"
  },
  "language_info": {
   "codemirror_mode": {
    "name": "ipython",
    "version": 3
   },
   "file_extension": ".py",
   "mimetype": "text/x-python",
   "name": "python",
   "nbconvert_exporter": "python",
   "pygments_lexer": "ipython3",
   "version": "3.7.8"
  },
  "toc": {
   "base_numbering": 1,
   "nav_menu": {},
   "number_sections": true,
   "sideBar": true,
   "skip_h1_title": true,
   "title_cell": "Table of Contents",
   "title_sidebar": "Contents",
   "toc_cell": false,
   "toc_position": {},
   "toc_section_display": true,
   "toc_window_display": false
  }
 },
 "nbformat": 4,
 "nbformat_minor": 2
}
