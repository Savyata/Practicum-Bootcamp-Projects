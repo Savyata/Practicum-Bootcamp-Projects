{
 "cells": [
  {
   "cell_type": "markdown",
   "metadata": {},
   "source": [
    "\n",
    "# Statistical Data Analysis"
   ]
  },
  {
   "cell_type": "markdown",
   "metadata": {},
   "source": [
    "## Project Description"
   ]
  },
  {
   "cell_type": "markdown",
   "metadata": {},
   "source": [
    "The telecom operator company, Megaline, offers its clients two prepaid plans, Surf and Ultimate. The commercial department wants to know which of the plans brings in more revenue in order to adjust the advertising budget.\n",
    "\n",
    "In this project, I am going to carry out a preliminary analysis of the plans based on a relatively small client selection. I'll have the data on 500 Megaline clients: who the clients are, where they're from, which plan they use, and the number of calls they made and text messages they sent in 2018. I will be analysing clients' behavior and determine which prepaid plan brings in more revenue for the company."
   ]
  },
  {
   "cell_type": "markdown",
   "metadata": {},
   "source": [
    "**I will be performing the following tasks in order to accomplish my goal in this project:**"
   ]
  },
  {
   "cell_type": "markdown",
   "metadata": {},
   "source": [
    "##### 1. Loading the datasets and Studying General Informations <a class=\"anchor\" id=\"Step 1\"></a>\n",
    "- Loading datasets with 5 different tables named: **calls, messages, users, internet, plans**\n",
    "- Printing the first 5 rows of each tables to review the general information.\n",
    "\n",
    "##### 2. Prepare the data <a class=\"anchor\" id=\"Step 2\"></a>\n",
    "- Converting the data to the necessary types\n",
    "- Finding and eliminating errors in the data such as filling in missing values, deleting duplicates, etc. when necessary\n",
    "- Performing Calculations\n",
    "  - Finding the number of calls made and minutes used per months for each users\n",
    "  - Finding the number of text messages sent per month for each users\n",
    "  - Finding the monthly revenue from each user (subtract the free package limit from the total number of calls, text messages,      and data; multiply the result by the calling plan value; add the monthly charge depending on the calling plan)\n",
    "\n",
    "##### 3. Analysing the data <a class=\"anchor\" id=\"Step 3\"></a>\n",
    "- Describing the customer's behavior by finding the minutes, texts, and volume of data the users of each plan require per         month.\n",
    "- Calculating the mean, variance, and standard deviation.\n",
    "- Plotting histograms.\n",
    "- Describing the distributions\n",
    "\n",
    "##### 4. Testing the hypothesis <a class=\"anchor\" id=\"Step 4\"></a>\n",
    "- Testing hypothesis on:\n",
    "  - The average revenue from users of Ultimate and Surf calling plans differs.\n",
    "  - The average revenue from users in NY-NJ area is different from that of the users from other regions.\n",
    "- Deciding what alpha value to use.\n",
    "- Explain:\n",
    "  - How I formulated the null and alternative hypotheses.\n",
    "  - What criterion I used to test the hypotheses and why.\n",
    "\n",
    "##### 5. Writing an overall conclusion <a class=\"anchor\" id=\"Step 5\"></a>"
   ]
  },
  {
   "cell_type": "markdown",
   "metadata": {},
   "source": [
    "### Description of the prepaid plans"
   ]
  },
  {
   "cell_type": "markdown",
   "metadata": {},
   "source": [
    "Note: Megaline rounds seconds up to minutes, and megabytes to gigabytes. For calls, each individual call is rounded up: even if the call lasted just one second, it will be counted as one minute. For web traffic, individual web sessions are not rounded up. Instead, the total for the month is rounded up. If someone uses 1025 megabytes this month, they will be charged for 2 gigabytes.\n",
    "\n",
    "**Surf**\n",
    "1. Monthly charge: 20 (in USD)\n",
    "2. 500 monthly minutes, 50 texts, and 15 GB of data\n",
    "3. After exceeding the package limits:\n",
    "   - 1 minute: 3 cents\n",
    "   - 1 text message: 3 cents\n",
    "   - 1 GB of data: 10 (in USD)\n",
    "\n",
    "**Ultimate**\n",
    "1. Monthly charge: 70 (in USD)\n",
    "2. 3000 monthly minutes, 1000 text messages, and 30 GB of data\n",
    "3. After exceeding the package limits:\n",
    "   - 1 minute: 1 cent\n",
    "   - 1 text message: 1 cent\n",
    "   - 1 GB of data: 7 (in USD)"
   ]
  },
  {
   "cell_type": "markdown",
   "metadata": {},
   "source": [
    "## Data Description\n",
    "\n",
    "Remember! Megaline rounds seconds up to minutes, and megabytes to gigabytes. For calls, each individual call is rounded up: even if the call lasted just one second, it will be counted as one minute. For web traffic, individual web sessions are not rounded up. Instead, the total for the month is rounded up. If someone uses 1025 megabytes this month, they will be charged for 2 gigabytes.\n",
    "\n",
    "**The users table (data on users):**\n",
    "- user_id — unique user identifier\n",
    "- first_name — user's name\n",
    "- last_name — user's last name\n",
    "- age — user's age (years)\n",
    "- reg_date — subscription date (dd, mm, yy)\n",
    "- churn_date — the date the user stopped using the service (if the value is missing, the calling plan was being used when this database was extracted)\n",
    "- city — user's city of residence\n",
    "- plan — calling plan name\n",
    "\n",
    "**The calls table (data on calls):**\n",
    "- id — unique call identifier\n",
    "- call_date — call date\n",
    "- duration — call duration (in minutes)\n",
    "- user_id — the identifier of the user making the call\n",
    "\n",
    "**The messages table (data on texts):**\n",
    "- id — unique text message identifier\n",
    "- message_date — text message date\n",
    "- user_id — the identifier of the user sending the text\n",
    "\n",
    "**The internet table (data on web sessions):**\n",
    "- id — unique session identifier\n",
    "- mb_used — the volume of data spent during the session (in megabytes)\n",
    "- session_date — web session date\n",
    "- user_id — user identifier\n",
    "\n",
    "**The plans table (data on the plans):**\n",
    "- plan_name — calling plan name\n",
    "- usd_monthly_fee — monthly charge in US dollars\n",
    "- minutes_included — monthly minute allowance\n",
    "- messages_included — monthly text allowance\n",
    "- mb_per_month_included — data volume allowance (in megabytes)\n",
    "- usd_per_minute — price per minute after exceeding the package limits (e.g., if the package includes 100 minutes, the 101st minute will be charged)\n",
    "- usd_per_message — price per text after exceeding the package limits\n",
    "- usd_per_gb — price per extra gigabyte of data after exceeding the package limits (1 GB = 1024 megabytes)"
   ]
  },
  {
   "cell_type": "markdown",
   "metadata": {},
   "source": [
    "# Step 1. Open the data file and study the general information. <a class=\"anchor\" id=\"Step 1\"></a>"
   ]
  },
  {
   "cell_type": "markdown",
   "metadata": {},
   "source": [
    "**Importing necessary python libraries**"
   ]
  },
  {
   "cell_type": "code",
   "execution_count": 133,
   "metadata": {},
   "outputs": [],
   "source": [
    "import pandas as pd\n",
    "import numpy as np\n",
    "import random\n",
    "%matplotlib inline\n",
    "import seaborn as sns\n",
    "import matplotlib.pyplot as plt\n",
    "from scipy import stats as st\n",
    "from statsmodels.stats import weightstats as statsmodelsweightstats\n",
    "from statsmodels.stats.weightstats import ttest_ind"
   ]
  },
  {
   "cell_type": "markdown",
   "metadata": {},
   "source": [
    "**Reading the CSV files containing our datasets**"
   ]
  },
  {
   "cell_type": "code",
   "execution_count": 134,
   "metadata": {},
   "outputs": [],
   "source": [
    "##reading a csv file containing users data\n",
    "try:\n",
    "    users = pd.read_csv(\"/Users/rsavy/Downloads/megaline_users.csv\")\n",
    "    \n",
    "except:\n",
    "    users = pd.read_csv(\"/datasets/megaline_users.csv\")\n",
    "\n",
    "##reading a csv file containing plans data\n",
    "try:\n",
    "    plans = pd.read_csv(\"/Users/rsavy/Downloads/megaline_plans.csv\")\n",
    "    \n",
    "except:\n",
    "    plans = pd.read_csv(\"/datasets/megaline_plans.csv\")\n",
    "\n",
    "##reading a csv file containing messages data\n",
    "try:\n",
    "    messages = pd.read_csv(\"/Users/rsavy/Downloads/megaline_messages.csv\")\n",
    "    \n",
    "except:\n",
    "    messages = pd.read_csv(\"/datasets/megaline_messages.csv\")\n",
    "\n",
    "##reading a csv file containing internet data\n",
    "try:\n",
    "    internet = pd.read_csv(\"/Users/rsavy/Downloads/megaline_internet.csv\")\n",
    "    \n",
    "except:\n",
    "    internet = pd.read_csv(\"/datasets/megaline_internet.csv\")\n",
    "    \n",
    "#reading a csv file containing calls data\n",
    "try:\n",
    "    calls = pd.read_csv(\"/Users/rsavy/Downloads/megaline_calls.csv\")\n",
    "    \n",
    "except:\n",
    "    calls = pd.read_csv(\"/datasets/megaline_calls.csv\") "
   ]
  },
  {
   "cell_type": "markdown",
   "metadata": {},
   "source": [
    "**Printing the first five rows of each datasets to get a general ideas on how our data look like**"
   ]
  },
  {
   "cell_type": "code",
   "execution_count": 135,
   "metadata": {},
   "outputs": [
    {
     "name": "stdout",
     "output_type": "stream",
     "text": [
      "Plans Dataset\n"
     ]
    },
    {
     "data": {
      "text/html": [
       "<div>\n",
       "<style scoped>\n",
       "    .dataframe tbody tr th:only-of-type {\n",
       "        vertical-align: middle;\n",
       "    }\n",
       "\n",
       "    .dataframe tbody tr th {\n",
       "        vertical-align: top;\n",
       "    }\n",
       "\n",
       "    .dataframe thead th {\n",
       "        text-align: right;\n",
       "    }\n",
       "</style>\n",
       "<table border=\"1\" class=\"dataframe\">\n",
       "  <thead>\n",
       "    <tr style=\"text-align: right;\">\n",
       "      <th></th>\n",
       "      <th>messages_included</th>\n",
       "      <th>mb_per_month_included</th>\n",
       "      <th>minutes_included</th>\n",
       "      <th>usd_monthly_pay</th>\n",
       "      <th>usd_per_gb</th>\n",
       "      <th>usd_per_message</th>\n",
       "      <th>usd_per_minute</th>\n",
       "      <th>plan_name</th>\n",
       "    </tr>\n",
       "  </thead>\n",
       "  <tbody>\n",
       "    <tr>\n",
       "      <td>0</td>\n",
       "      <td>50</td>\n",
       "      <td>15360</td>\n",
       "      <td>500</td>\n",
       "      <td>20</td>\n",
       "      <td>10</td>\n",
       "      <td>0.03</td>\n",
       "      <td>0.03</td>\n",
       "      <td>surf</td>\n",
       "    </tr>\n",
       "    <tr>\n",
       "      <td>1</td>\n",
       "      <td>1000</td>\n",
       "      <td>30720</td>\n",
       "      <td>3000</td>\n",
       "      <td>70</td>\n",
       "      <td>7</td>\n",
       "      <td>0.01</td>\n",
       "      <td>0.01</td>\n",
       "      <td>ultimate</td>\n",
       "    </tr>\n",
       "  </tbody>\n",
       "</table>\n",
       "</div>"
      ],
      "text/plain": [
       "   messages_included  mb_per_month_included  minutes_included  \\\n",
       "0                 50                  15360               500   \n",
       "1               1000                  30720              3000   \n",
       "\n",
       "   usd_monthly_pay  usd_per_gb  usd_per_message  usd_per_minute plan_name  \n",
       "0               20          10             0.03            0.03      surf  \n",
       "1               70           7             0.01            0.01  ultimate  "
      ]
     },
     "execution_count": 135,
     "metadata": {},
     "output_type": "execute_result"
    }
   ],
   "source": [
    "print(\"Plans Dataset\")\n",
    "plans.head()\n"
   ]
  },
  {
   "cell_type": "code",
   "execution_count": 136,
   "metadata": {},
   "outputs": [
    {
     "name": "stdout",
     "output_type": "stream",
     "text": [
      "Calls Dataset\n"
     ]
    },
    {
     "data": {
      "text/html": [
       "<div>\n",
       "<style scoped>\n",
       "    .dataframe tbody tr th:only-of-type {\n",
       "        vertical-align: middle;\n",
       "    }\n",
       "\n",
       "    .dataframe tbody tr th {\n",
       "        vertical-align: top;\n",
       "    }\n",
       "\n",
       "    .dataframe thead th {\n",
       "        text-align: right;\n",
       "    }\n",
       "</style>\n",
       "<table border=\"1\" class=\"dataframe\">\n",
       "  <thead>\n",
       "    <tr style=\"text-align: right;\">\n",
       "      <th></th>\n",
       "      <th>id</th>\n",
       "      <th>user_id</th>\n",
       "      <th>call_date</th>\n",
       "      <th>duration</th>\n",
       "    </tr>\n",
       "  </thead>\n",
       "  <tbody>\n",
       "    <tr>\n",
       "      <td>0</td>\n",
       "      <td>1000_93</td>\n",
       "      <td>1000</td>\n",
       "      <td>2018-12-27</td>\n",
       "      <td>8.52</td>\n",
       "    </tr>\n",
       "    <tr>\n",
       "      <td>1</td>\n",
       "      <td>1000_145</td>\n",
       "      <td>1000</td>\n",
       "      <td>2018-12-27</td>\n",
       "      <td>13.66</td>\n",
       "    </tr>\n",
       "    <tr>\n",
       "      <td>2</td>\n",
       "      <td>1000_247</td>\n",
       "      <td>1000</td>\n",
       "      <td>2018-12-27</td>\n",
       "      <td>14.48</td>\n",
       "    </tr>\n",
       "    <tr>\n",
       "      <td>3</td>\n",
       "      <td>1000_309</td>\n",
       "      <td>1000</td>\n",
       "      <td>2018-12-28</td>\n",
       "      <td>5.76</td>\n",
       "    </tr>\n",
       "    <tr>\n",
       "      <td>4</td>\n",
       "      <td>1000_380</td>\n",
       "      <td>1000</td>\n",
       "      <td>2018-12-30</td>\n",
       "      <td>4.22</td>\n",
       "    </tr>\n",
       "  </tbody>\n",
       "</table>\n",
       "</div>"
      ],
      "text/plain": [
       "         id  user_id   call_date  duration\n",
       "0   1000_93     1000  2018-12-27      8.52\n",
       "1  1000_145     1000  2018-12-27     13.66\n",
       "2  1000_247     1000  2018-12-27     14.48\n",
       "3  1000_309     1000  2018-12-28      5.76\n",
       "4  1000_380     1000  2018-12-30      4.22"
      ]
     },
     "execution_count": 136,
     "metadata": {},
     "output_type": "execute_result"
    }
   ],
   "source": [
    "print(\"Calls Dataset\")\n",
    "calls.head()"
   ]
  },
  {
   "cell_type": "code",
   "execution_count": 137,
   "metadata": {},
   "outputs": [
    {
     "name": "stdout",
     "output_type": "stream",
     "text": [
      "Internet Dataset\n"
     ]
    },
    {
     "data": {
      "text/html": [
       "<div>\n",
       "<style scoped>\n",
       "    .dataframe tbody tr th:only-of-type {\n",
       "        vertical-align: middle;\n",
       "    }\n",
       "\n",
       "    .dataframe tbody tr th {\n",
       "        vertical-align: top;\n",
       "    }\n",
       "\n",
       "    .dataframe thead th {\n",
       "        text-align: right;\n",
       "    }\n",
       "</style>\n",
       "<table border=\"1\" class=\"dataframe\">\n",
       "  <thead>\n",
       "    <tr style=\"text-align: right;\">\n",
       "      <th></th>\n",
       "      <th>id</th>\n",
       "      <th>user_id</th>\n",
       "      <th>session_date</th>\n",
       "      <th>mb_used</th>\n",
       "    </tr>\n",
       "  </thead>\n",
       "  <tbody>\n",
       "    <tr>\n",
       "      <td>0</td>\n",
       "      <td>1000_13</td>\n",
       "      <td>1000</td>\n",
       "      <td>2018-12-29</td>\n",
       "      <td>89.86</td>\n",
       "    </tr>\n",
       "    <tr>\n",
       "      <td>1</td>\n",
       "      <td>1000_204</td>\n",
       "      <td>1000</td>\n",
       "      <td>2018-12-31</td>\n",
       "      <td>0.00</td>\n",
       "    </tr>\n",
       "    <tr>\n",
       "      <td>2</td>\n",
       "      <td>1000_379</td>\n",
       "      <td>1000</td>\n",
       "      <td>2018-12-28</td>\n",
       "      <td>660.40</td>\n",
       "    </tr>\n",
       "    <tr>\n",
       "      <td>3</td>\n",
       "      <td>1000_413</td>\n",
       "      <td>1000</td>\n",
       "      <td>2018-12-26</td>\n",
       "      <td>270.99</td>\n",
       "    </tr>\n",
       "    <tr>\n",
       "      <td>4</td>\n",
       "      <td>1000_442</td>\n",
       "      <td>1000</td>\n",
       "      <td>2018-12-27</td>\n",
       "      <td>880.22</td>\n",
       "    </tr>\n",
       "  </tbody>\n",
       "</table>\n",
       "</div>"
      ],
      "text/plain": [
       "         id  user_id session_date  mb_used\n",
       "0   1000_13     1000   2018-12-29    89.86\n",
       "1  1000_204     1000   2018-12-31     0.00\n",
       "2  1000_379     1000   2018-12-28   660.40\n",
       "3  1000_413     1000   2018-12-26   270.99\n",
       "4  1000_442     1000   2018-12-27   880.22"
      ]
     },
     "execution_count": 137,
     "metadata": {},
     "output_type": "execute_result"
    }
   ],
   "source": [
    "print(\"Internet Dataset\")\n",
    "internet.head()"
   ]
  },
  {
   "cell_type": "code",
   "execution_count": 138,
   "metadata": {},
   "outputs": [
    {
     "name": "stdout",
     "output_type": "stream",
     "text": [
      "Messages Dataset\n"
     ]
    },
    {
     "data": {
      "text/html": [
       "<div>\n",
       "<style scoped>\n",
       "    .dataframe tbody tr th:only-of-type {\n",
       "        vertical-align: middle;\n",
       "    }\n",
       "\n",
       "    .dataframe tbody tr th {\n",
       "        vertical-align: top;\n",
       "    }\n",
       "\n",
       "    .dataframe thead th {\n",
       "        text-align: right;\n",
       "    }\n",
       "</style>\n",
       "<table border=\"1\" class=\"dataframe\">\n",
       "  <thead>\n",
       "    <tr style=\"text-align: right;\">\n",
       "      <th></th>\n",
       "      <th>id</th>\n",
       "      <th>user_id</th>\n",
       "      <th>message_date</th>\n",
       "    </tr>\n",
       "  </thead>\n",
       "  <tbody>\n",
       "    <tr>\n",
       "      <td>0</td>\n",
       "      <td>1000_125</td>\n",
       "      <td>1000</td>\n",
       "      <td>2018-12-27</td>\n",
       "    </tr>\n",
       "    <tr>\n",
       "      <td>1</td>\n",
       "      <td>1000_160</td>\n",
       "      <td>1000</td>\n",
       "      <td>2018-12-31</td>\n",
       "    </tr>\n",
       "    <tr>\n",
       "      <td>2</td>\n",
       "      <td>1000_223</td>\n",
       "      <td>1000</td>\n",
       "      <td>2018-12-31</td>\n",
       "    </tr>\n",
       "    <tr>\n",
       "      <td>3</td>\n",
       "      <td>1000_251</td>\n",
       "      <td>1000</td>\n",
       "      <td>2018-12-27</td>\n",
       "    </tr>\n",
       "    <tr>\n",
       "      <td>4</td>\n",
       "      <td>1000_255</td>\n",
       "      <td>1000</td>\n",
       "      <td>2018-12-26</td>\n",
       "    </tr>\n",
       "  </tbody>\n",
       "</table>\n",
       "</div>"
      ],
      "text/plain": [
       "         id  user_id message_date\n",
       "0  1000_125     1000   2018-12-27\n",
       "1  1000_160     1000   2018-12-31\n",
       "2  1000_223     1000   2018-12-31\n",
       "3  1000_251     1000   2018-12-27\n",
       "4  1000_255     1000   2018-12-26"
      ]
     },
     "execution_count": 138,
     "metadata": {},
     "output_type": "execute_result"
    }
   ],
   "source": [
    "print(\"Messages Dataset\")\n",
    "messages.head()"
   ]
  },
  {
   "cell_type": "code",
   "execution_count": 139,
   "metadata": {},
   "outputs": [
    {
     "name": "stdout",
     "output_type": "stream",
     "text": [
      "Users Dataset\n"
     ]
    },
    {
     "data": {
      "text/html": [
       "<div>\n",
       "<style scoped>\n",
       "    .dataframe tbody tr th:only-of-type {\n",
       "        vertical-align: middle;\n",
       "    }\n",
       "\n",
       "    .dataframe tbody tr th {\n",
       "        vertical-align: top;\n",
       "    }\n",
       "\n",
       "    .dataframe thead th {\n",
       "        text-align: right;\n",
       "    }\n",
       "</style>\n",
       "<table border=\"1\" class=\"dataframe\">\n",
       "  <thead>\n",
       "    <tr style=\"text-align: right;\">\n",
       "      <th></th>\n",
       "      <th>user_id</th>\n",
       "      <th>first_name</th>\n",
       "      <th>last_name</th>\n",
       "      <th>age</th>\n",
       "      <th>city</th>\n",
       "      <th>reg_date</th>\n",
       "      <th>plan</th>\n",
       "      <th>churn_date</th>\n",
       "    </tr>\n",
       "  </thead>\n",
       "  <tbody>\n",
       "    <tr>\n",
       "      <td>0</td>\n",
       "      <td>1000</td>\n",
       "      <td>Anamaria</td>\n",
       "      <td>Bauer</td>\n",
       "      <td>45</td>\n",
       "      <td>Atlanta-Sandy Springs-Roswell, GA MSA</td>\n",
       "      <td>2018-12-24</td>\n",
       "      <td>ultimate</td>\n",
       "      <td>NaN</td>\n",
       "    </tr>\n",
       "    <tr>\n",
       "      <td>1</td>\n",
       "      <td>1001</td>\n",
       "      <td>Mickey</td>\n",
       "      <td>Wilkerson</td>\n",
       "      <td>28</td>\n",
       "      <td>Seattle-Tacoma-Bellevue, WA MSA</td>\n",
       "      <td>2018-08-13</td>\n",
       "      <td>surf</td>\n",
       "      <td>NaN</td>\n",
       "    </tr>\n",
       "    <tr>\n",
       "      <td>2</td>\n",
       "      <td>1002</td>\n",
       "      <td>Carlee</td>\n",
       "      <td>Hoffman</td>\n",
       "      <td>36</td>\n",
       "      <td>Las Vegas-Henderson-Paradise, NV MSA</td>\n",
       "      <td>2018-10-21</td>\n",
       "      <td>surf</td>\n",
       "      <td>NaN</td>\n",
       "    </tr>\n",
       "    <tr>\n",
       "      <td>3</td>\n",
       "      <td>1003</td>\n",
       "      <td>Reynaldo</td>\n",
       "      <td>Jenkins</td>\n",
       "      <td>52</td>\n",
       "      <td>Tulsa, OK MSA</td>\n",
       "      <td>2018-01-28</td>\n",
       "      <td>surf</td>\n",
       "      <td>NaN</td>\n",
       "    </tr>\n",
       "    <tr>\n",
       "      <td>4</td>\n",
       "      <td>1004</td>\n",
       "      <td>Leonila</td>\n",
       "      <td>Thompson</td>\n",
       "      <td>40</td>\n",
       "      <td>Seattle-Tacoma-Bellevue, WA MSA</td>\n",
       "      <td>2018-05-23</td>\n",
       "      <td>surf</td>\n",
       "      <td>NaN</td>\n",
       "    </tr>\n",
       "  </tbody>\n",
       "</table>\n",
       "</div>"
      ],
      "text/plain": [
       "   user_id first_name  last_name  age                                   city  \\\n",
       "0     1000   Anamaria      Bauer   45  Atlanta-Sandy Springs-Roswell, GA MSA   \n",
       "1     1001     Mickey  Wilkerson   28        Seattle-Tacoma-Bellevue, WA MSA   \n",
       "2     1002     Carlee    Hoffman   36   Las Vegas-Henderson-Paradise, NV MSA   \n",
       "3     1003   Reynaldo    Jenkins   52                          Tulsa, OK MSA   \n",
       "4     1004    Leonila   Thompson   40        Seattle-Tacoma-Bellevue, WA MSA   \n",
       "\n",
       "     reg_date      plan churn_date  \n",
       "0  2018-12-24  ultimate        NaN  \n",
       "1  2018-08-13      surf        NaN  \n",
       "2  2018-10-21      surf        NaN  \n",
       "3  2018-01-28      surf        NaN  \n",
       "4  2018-05-23      surf        NaN  "
      ]
     },
     "execution_count": 139,
     "metadata": {},
     "output_type": "execute_result"
    }
   ],
   "source": [
    "print(\"Users Dataset\")\n",
    "users.head()"
   ]
  },
  {
   "cell_type": "markdown",
   "metadata": {},
   "source": [
    "**Observing the datatypes and total entries in each columns**"
   ]
  },
  {
   "cell_type": "code",
   "execution_count": 140,
   "metadata": {},
   "outputs": [
    {
     "name": "stdout",
     "output_type": "stream",
     "text": [
      "Information on 'users' table\n",
      "<class 'pandas.core.frame.DataFrame'>\n",
      "RangeIndex: 500 entries, 0 to 499\n",
      "Data columns (total 8 columns):\n",
      "user_id       500 non-null int64\n",
      "first_name    500 non-null object\n",
      "last_name     500 non-null object\n",
      "age           500 non-null int64\n",
      "city          500 non-null object\n",
      "reg_date      500 non-null object\n",
      "plan          500 non-null object\n",
      "churn_date    34 non-null object\n",
      "dtypes: int64(2), object(6)\n",
      "memory usage: 31.4+ KB\n",
      "\n",
      "Information on 'calls' table\n",
      "<class 'pandas.core.frame.DataFrame'>\n",
      "RangeIndex: 137735 entries, 0 to 137734\n",
      "Data columns (total 4 columns):\n",
      "id           137735 non-null object\n",
      "user_id      137735 non-null int64\n",
      "call_date    137735 non-null object\n",
      "duration     137735 non-null float64\n",
      "dtypes: float64(1), int64(1), object(2)\n",
      "memory usage: 4.2+ MB\n",
      "\n",
      "Information on 'Messages' table\n",
      "<class 'pandas.core.frame.DataFrame'>\n",
      "RangeIndex: 76051 entries, 0 to 76050\n",
      "Data columns (total 3 columns):\n",
      "id              76051 non-null object\n",
      "user_id         76051 non-null int64\n",
      "message_date    76051 non-null object\n",
      "dtypes: int64(1), object(2)\n",
      "memory usage: 1.7+ MB\n",
      "\n",
      "Information on 'internet' table\n",
      "<class 'pandas.core.frame.DataFrame'>\n",
      "RangeIndex: 104825 entries, 0 to 104824\n",
      "Data columns (total 4 columns):\n",
      "id              104825 non-null object\n",
      "user_id         104825 non-null int64\n",
      "session_date    104825 non-null object\n",
      "mb_used         104825 non-null float64\n",
      "dtypes: float64(1), int64(1), object(2)\n",
      "memory usage: 3.2+ MB\n",
      "\n",
      "Information on 'plans' table\n",
      "<class 'pandas.core.frame.DataFrame'>\n",
      "RangeIndex: 2 entries, 0 to 1\n",
      "Data columns (total 8 columns):\n",
      "messages_included        2 non-null int64\n",
      "mb_per_month_included    2 non-null int64\n",
      "minutes_included         2 non-null int64\n",
      "usd_monthly_pay          2 non-null int64\n",
      "usd_per_gb               2 non-null int64\n",
      "usd_per_message          2 non-null float64\n",
      "usd_per_minute           2 non-null float64\n",
      "plan_name                2 non-null object\n",
      "dtypes: float64(2), int64(5), object(1)\n",
      "memory usage: 256.0+ bytes\n"
     ]
    }
   ],
   "source": [
    "print(\"Information on 'users' table\")\n",
    "users.info()\n",
    "print(\"\")\n",
    "\n",
    "print(\"Information on 'calls' table\")\n",
    "calls.info()\n",
    "print(\"\")\n",
    "\n",
    "print(\"Information on 'Messages' table\")\n",
    "messages.info()\n",
    "print(\"\")\n",
    "\n",
    "print(\"Information on 'internet' table\")\n",
    "internet.info()\n",
    "print(\"\")\n",
    "\n",
    "print(\"Information on 'plans' table\")\n",
    "plans.info()\n"
   ]
  },
  {
   "cell_type": "markdown",
   "metadata": {},
   "source": [
    "**Observing the counts of missing values in each tables**"
   ]
  },
  {
   "cell_type": "code",
   "execution_count": 141,
   "metadata": {},
   "outputs": [
    {
     "data": {
      "text/plain": [
       "user_id         0\n",
       "first_name      0\n",
       "last_name       0\n",
       "age             0\n",
       "city            0\n",
       "reg_date        0\n",
       "plan            0\n",
       "churn_date    466\n",
       "dtype: int64"
      ]
     },
     "execution_count": 141,
     "metadata": {},
     "output_type": "execute_result"
    }
   ],
   "source": [
    "users.isnull().sum()"
   ]
  },
  {
   "cell_type": "code",
   "execution_count": 142,
   "metadata": {},
   "outputs": [
    {
     "data": {
      "text/plain": [
       "id           0\n",
       "user_id      0\n",
       "call_date    0\n",
       "duration     0\n",
       "dtype: int64"
      ]
     },
     "execution_count": 142,
     "metadata": {},
     "output_type": "execute_result"
    }
   ],
   "source": [
    "calls.isnull().sum()"
   ]
  },
  {
   "cell_type": "code",
   "execution_count": 143,
   "metadata": {},
   "outputs": [
    {
     "data": {
      "text/plain": [
       "messages_included        0\n",
       "mb_per_month_included    0\n",
       "minutes_included         0\n",
       "usd_monthly_pay          0\n",
       "usd_per_gb               0\n",
       "usd_per_message          0\n",
       "usd_per_minute           0\n",
       "plan_name                0\n",
       "dtype: int64"
      ]
     },
     "execution_count": 143,
     "metadata": {},
     "output_type": "execute_result"
    }
   ],
   "source": [
    "plans.isnull().sum()"
   ]
  },
  {
   "cell_type": "code",
   "execution_count": 144,
   "metadata": {},
   "outputs": [
    {
     "data": {
      "text/plain": [
       "id              0\n",
       "user_id         0\n",
       "message_date    0\n",
       "dtype: int64"
      ]
     },
     "execution_count": 144,
     "metadata": {},
     "output_type": "execute_result"
    }
   ],
   "source": [
    "messages.isnull().sum()"
   ]
  },
  {
   "cell_type": "code",
   "execution_count": 145,
   "metadata": {},
   "outputs": [
    {
     "data": {
      "text/plain": [
       "id              0\n",
       "user_id         0\n",
       "session_date    0\n",
       "mb_used         0\n",
       "dtype: int64"
      ]
     },
     "execution_count": 145,
     "metadata": {},
     "output_type": "execute_result"
    }
   ],
   "source": [
    "internet.isnull().sum()"
   ]
  },
  {
   "cell_type": "markdown",
   "metadata": {},
   "source": [
    "**Checking for duplicate rows in each tables**"
   ]
  },
  {
   "cell_type": "code",
   "execution_count": 146,
   "metadata": {},
   "outputs": [
    {
     "name": "stdout",
     "output_type": "stream",
     "text": [
      "There are 0 duplicate values in \"plan\" table\n",
      "There are 0 duplicate values in \"calls\" table\n",
      "There are 0 duplicate values in \"messages\" table\n",
      "There are 0 duplicate values in \"users\" table\n",
      "There are 0 duplicate values in \"internet\" table\n"
     ]
    }
   ],
   "source": [
    "print('There are',plans.duplicated().sum(), 'duplicate values in \"plan\" table')\n",
    "print('There are',calls.duplicated().sum(), 'duplicate values in \"calls\" table')\n",
    "print('There are',messages.duplicated().sum(), 'duplicate values in \"messages\" table')\n",
    "print('There are',users.duplicated().sum(), 'duplicate values in \"users\" table')\n",
    "print('There are',internet.duplicated().sum(), 'duplicate values in \"internet\" table')"
   ]
  },
  {
   "cell_type": "markdown",
   "metadata": {},
   "source": [
    "**Conclusion**\n",
    "\n",
    "1. We will need to perform datatype conversion. We will change **reg_date, churn_date, call_date, message_date, session_date** from object datatype to datetime.\n",
    "2. We have missing values in **churn_date** column of **users** table.\n",
    "3. We do not have any duplicates in our datasets."
   ]
  },
  {
   "cell_type": "markdown",
   "metadata": {},
   "source": [
    "# Step 2. Prepare the Data"
   ]
  },
  {
   "cell_type": "markdown",
   "metadata": {},
   "source": [
    "**Changing Datatypes**"
   ]
  },
  {
   "cell_type": "code",
   "execution_count": 147,
   "metadata": {},
   "outputs": [],
   "source": [
    "users['reg_date'] = pd.to_datetime(users['reg_date'], format = '%Y-%m-%d')\n",
    "users['churn_date'] = pd.to_datetime(users['churn_date'], format = '%Y-%m-%d')\n",
    "calls['call_date'] = pd.to_datetime(calls['call_date'], format = '%Y-%m-%d')\n",
    "messages['message_date'] = pd.to_datetime(messages['message_date'], format = '%Y-%m-%d')\n",
    "internet['session_date'] = pd.to_datetime(internet['session_date'], format = '%Y-%m-%d')"
   ]
  },
  {
   "cell_type": "code",
   "execution_count": 148,
   "metadata": {},
   "outputs": [
    {
     "name": "stdout",
     "output_type": "stream",
     "text": [
      "<class 'pandas.core.frame.DataFrame'>\n",
      "RangeIndex: 500 entries, 0 to 499\n",
      "Data columns (total 8 columns):\n",
      "user_id       500 non-null int64\n",
      "first_name    500 non-null object\n",
      "last_name     500 non-null object\n",
      "age           500 non-null int64\n",
      "city          500 non-null object\n",
      "reg_date      500 non-null datetime64[ns]\n",
      "plan          500 non-null object\n",
      "churn_date    34 non-null datetime64[ns]\n",
      "dtypes: datetime64[ns](2), int64(2), object(4)\n",
      "memory usage: 31.4+ KB\n",
      "<class 'pandas.core.frame.DataFrame'>\n",
      "RangeIndex: 137735 entries, 0 to 137734\n",
      "Data columns (total 4 columns):\n",
      "id           137735 non-null object\n",
      "user_id      137735 non-null int64\n",
      "call_date    137735 non-null datetime64[ns]\n",
      "duration     137735 non-null float64\n",
      "dtypes: datetime64[ns](1), float64(1), int64(1), object(1)\n",
      "memory usage: 4.2+ MB\n",
      "<class 'pandas.core.frame.DataFrame'>\n",
      "RangeIndex: 76051 entries, 0 to 76050\n",
      "Data columns (total 3 columns):\n",
      "id              76051 non-null object\n",
      "user_id         76051 non-null int64\n",
      "message_date    76051 non-null datetime64[ns]\n",
      "dtypes: datetime64[ns](1), int64(1), object(1)\n",
      "memory usage: 1.7+ MB\n",
      "<class 'pandas.core.frame.DataFrame'>\n",
      "RangeIndex: 104825 entries, 0 to 104824\n",
      "Data columns (total 4 columns):\n",
      "id              104825 non-null object\n",
      "user_id         104825 non-null int64\n",
      "session_date    104825 non-null datetime64[ns]\n",
      "mb_used         104825 non-null float64\n",
      "dtypes: datetime64[ns](1), float64(1), int64(1), object(1)\n",
      "memory usage: 3.2+ MB\n"
     ]
    }
   ],
   "source": [
    "users.info()\n",
    "calls.info()\n",
    "messages.info()\n",
    "internet.info()"
   ]
  },
  {
   "cell_type": "markdown",
   "metadata": {},
   "source": [
    "**Looking closely on Missing Values**"
   ]
  },
  {
   "cell_type": "code",
   "execution_count": 149,
   "metadata": {},
   "outputs": [
    {
     "data": {
      "text/html": [
       "<div>\n",
       "<style scoped>\n",
       "    .dataframe tbody tr th:only-of-type {\n",
       "        vertical-align: middle;\n",
       "    }\n",
       "\n",
       "    .dataframe tbody tr th {\n",
       "        vertical-align: top;\n",
       "    }\n",
       "\n",
       "    .dataframe thead th {\n",
       "        text-align: right;\n",
       "    }\n",
       "</style>\n",
       "<table border=\"1\" class=\"dataframe\">\n",
       "  <thead>\n",
       "    <tr style=\"text-align: right;\">\n",
       "      <th></th>\n",
       "      <th>user_id</th>\n",
       "      <th>first_name</th>\n",
       "      <th>last_name</th>\n",
       "      <th>age</th>\n",
       "      <th>city</th>\n",
       "      <th>reg_date</th>\n",
       "      <th>plan</th>\n",
       "      <th>churn_date</th>\n",
       "    </tr>\n",
       "  </thead>\n",
       "  <tbody>\n",
       "    <tr>\n",
       "      <td>0</td>\n",
       "      <td>1000</td>\n",
       "      <td>Anamaria</td>\n",
       "      <td>Bauer</td>\n",
       "      <td>45</td>\n",
       "      <td>Atlanta-Sandy Springs-Roswell, GA MSA</td>\n",
       "      <td>2018-12-24</td>\n",
       "      <td>ultimate</td>\n",
       "      <td>NaT</td>\n",
       "    </tr>\n",
       "    <tr>\n",
       "      <td>1</td>\n",
       "      <td>1001</td>\n",
       "      <td>Mickey</td>\n",
       "      <td>Wilkerson</td>\n",
       "      <td>28</td>\n",
       "      <td>Seattle-Tacoma-Bellevue, WA MSA</td>\n",
       "      <td>2018-08-13</td>\n",
       "      <td>surf</td>\n",
       "      <td>NaT</td>\n",
       "    </tr>\n",
       "    <tr>\n",
       "      <td>2</td>\n",
       "      <td>1002</td>\n",
       "      <td>Carlee</td>\n",
       "      <td>Hoffman</td>\n",
       "      <td>36</td>\n",
       "      <td>Las Vegas-Henderson-Paradise, NV MSA</td>\n",
       "      <td>2018-10-21</td>\n",
       "      <td>surf</td>\n",
       "      <td>NaT</td>\n",
       "    </tr>\n",
       "    <tr>\n",
       "      <td>3</td>\n",
       "      <td>1003</td>\n",
       "      <td>Reynaldo</td>\n",
       "      <td>Jenkins</td>\n",
       "      <td>52</td>\n",
       "      <td>Tulsa, OK MSA</td>\n",
       "      <td>2018-01-28</td>\n",
       "      <td>surf</td>\n",
       "      <td>NaT</td>\n",
       "    </tr>\n",
       "    <tr>\n",
       "      <td>4</td>\n",
       "      <td>1004</td>\n",
       "      <td>Leonila</td>\n",
       "      <td>Thompson</td>\n",
       "      <td>40</td>\n",
       "      <td>Seattle-Tacoma-Bellevue, WA MSA</td>\n",
       "      <td>2018-05-23</td>\n",
       "      <td>surf</td>\n",
       "      <td>NaT</td>\n",
       "    </tr>\n",
       "  </tbody>\n",
       "</table>\n",
       "</div>"
      ],
      "text/plain": [
       "   user_id first_name  last_name  age                                   city  \\\n",
       "0     1000   Anamaria      Bauer   45  Atlanta-Sandy Springs-Roswell, GA MSA   \n",
       "1     1001     Mickey  Wilkerson   28        Seattle-Tacoma-Bellevue, WA MSA   \n",
       "2     1002     Carlee    Hoffman   36   Las Vegas-Henderson-Paradise, NV MSA   \n",
       "3     1003   Reynaldo    Jenkins   52                          Tulsa, OK MSA   \n",
       "4     1004    Leonila   Thompson   40        Seattle-Tacoma-Bellevue, WA MSA   \n",
       "\n",
       "    reg_date      plan churn_date  \n",
       "0 2018-12-24  ultimate        NaT  \n",
       "1 2018-08-13      surf        NaT  \n",
       "2 2018-10-21      surf        NaT  \n",
       "3 2018-01-28      surf        NaT  \n",
       "4 2018-05-23      surf        NaT  "
      ]
     },
     "execution_count": 149,
     "metadata": {},
     "output_type": "execute_result"
    }
   ],
   "source": [
    "data_with_null = users[users.isnull().any(axis=1)]\n",
    "data_with_null.head()"
   ]
  },
  {
   "cell_type": "markdown",
   "metadata": {},
   "source": [
    "If we look into the **data description** section, it is mentioned that if the **churn_date** column has missing values, that means the calling plan was being used when this database was extracted). That means those users are still using the service and are the current customers.\n"
   ]
  },
  {
   "cell_type": "markdown",
   "metadata": {},
   "source": [
    "**Extracting months from date columns in \"calls\",\"internet\", and \"messages\" tables and converting them into months name**"
   ]
  },
  {
   "cell_type": "code",
   "execution_count": 150,
   "metadata": {},
   "outputs": [
    {
     "data": {
      "text/html": [
       "<div>\n",
       "<style scoped>\n",
       "    .dataframe tbody tr th:only-of-type {\n",
       "        vertical-align: middle;\n",
       "    }\n",
       "\n",
       "    .dataframe tbody tr th {\n",
       "        vertical-align: top;\n",
       "    }\n",
       "\n",
       "    .dataframe thead th {\n",
       "        text-align: right;\n",
       "    }\n",
       "</style>\n",
       "<table border=\"1\" class=\"dataframe\">\n",
       "  <thead>\n",
       "    <tr style=\"text-align: right;\">\n",
       "      <th></th>\n",
       "      <th>id</th>\n",
       "      <th>user_id</th>\n",
       "      <th>message_date</th>\n",
       "      <th>month</th>\n",
       "    </tr>\n",
       "  </thead>\n",
       "  <tbody>\n",
       "    <tr>\n",
       "      <td>0</td>\n",
       "      <td>1000_125</td>\n",
       "      <td>1000</td>\n",
       "      <td>2018-12-27</td>\n",
       "      <td>December</td>\n",
       "    </tr>\n",
       "    <tr>\n",
       "      <td>1</td>\n",
       "      <td>1000_160</td>\n",
       "      <td>1000</td>\n",
       "      <td>2018-12-31</td>\n",
       "      <td>December</td>\n",
       "    </tr>\n",
       "    <tr>\n",
       "      <td>2</td>\n",
       "      <td>1000_223</td>\n",
       "      <td>1000</td>\n",
       "      <td>2018-12-31</td>\n",
       "      <td>December</td>\n",
       "    </tr>\n",
       "    <tr>\n",
       "      <td>3</td>\n",
       "      <td>1000_251</td>\n",
       "      <td>1000</td>\n",
       "      <td>2018-12-27</td>\n",
       "      <td>December</td>\n",
       "    </tr>\n",
       "    <tr>\n",
       "      <td>4</td>\n",
       "      <td>1000_255</td>\n",
       "      <td>1000</td>\n",
       "      <td>2018-12-26</td>\n",
       "      <td>December</td>\n",
       "    </tr>\n",
       "  </tbody>\n",
       "</table>\n",
       "</div>"
      ],
      "text/plain": [
       "         id  user_id message_date     month\n",
       "0  1000_125     1000   2018-12-27  December\n",
       "1  1000_160     1000   2018-12-31  December\n",
       "2  1000_223     1000   2018-12-31  December\n",
       "3  1000_251     1000   2018-12-27  December\n",
       "4  1000_255     1000   2018-12-26  December"
      ]
     },
     "execution_count": 150,
     "metadata": {},
     "output_type": "execute_result"
    }
   ],
   "source": [
    "messages['month'] = messages['message_date'].dt.strftime('%B')\n",
    "calls['month'] = calls['call_date'].dt.strftime('%B')\n",
    "internet['month'] = internet['session_date'].dt.strftime('%B')\n",
    "messages.head()"
   ]
  },
  {
   "cell_type": "code",
   "execution_count": 151,
   "metadata": {},
   "outputs": [
    {
     "data": {
      "text/html": [
       "<div>\n",
       "<style scoped>\n",
       "    .dataframe tbody tr th:only-of-type {\n",
       "        vertical-align: middle;\n",
       "    }\n",
       "\n",
       "    .dataframe tbody tr th {\n",
       "        vertical-align: top;\n",
       "    }\n",
       "\n",
       "    .dataframe thead th {\n",
       "        text-align: right;\n",
       "    }\n",
       "</style>\n",
       "<table border=\"1\" class=\"dataframe\">\n",
       "  <thead>\n",
       "    <tr style=\"text-align: right;\">\n",
       "      <th></th>\n",
       "      <th>id</th>\n",
       "      <th>user_id</th>\n",
       "      <th>session_date</th>\n",
       "      <th>mb_used</th>\n",
       "      <th>month</th>\n",
       "    </tr>\n",
       "  </thead>\n",
       "  <tbody>\n",
       "    <tr>\n",
       "      <td>0</td>\n",
       "      <td>1000_13</td>\n",
       "      <td>1000</td>\n",
       "      <td>2018-12-29</td>\n",
       "      <td>89.86</td>\n",
       "      <td>December</td>\n",
       "    </tr>\n",
       "    <tr>\n",
       "      <td>1</td>\n",
       "      <td>1000_204</td>\n",
       "      <td>1000</td>\n",
       "      <td>2018-12-31</td>\n",
       "      <td>0.00</td>\n",
       "      <td>December</td>\n",
       "    </tr>\n",
       "    <tr>\n",
       "      <td>2</td>\n",
       "      <td>1000_379</td>\n",
       "      <td>1000</td>\n",
       "      <td>2018-12-28</td>\n",
       "      <td>660.40</td>\n",
       "      <td>December</td>\n",
       "    </tr>\n",
       "    <tr>\n",
       "      <td>3</td>\n",
       "      <td>1000_413</td>\n",
       "      <td>1000</td>\n",
       "      <td>2018-12-26</td>\n",
       "      <td>270.99</td>\n",
       "      <td>December</td>\n",
       "    </tr>\n",
       "    <tr>\n",
       "      <td>4</td>\n",
       "      <td>1000_442</td>\n",
       "      <td>1000</td>\n",
       "      <td>2018-12-27</td>\n",
       "      <td>880.22</td>\n",
       "      <td>December</td>\n",
       "    </tr>\n",
       "  </tbody>\n",
       "</table>\n",
       "</div>"
      ],
      "text/plain": [
       "         id  user_id session_date  mb_used     month\n",
       "0   1000_13     1000   2018-12-29    89.86  December\n",
       "1  1000_204     1000   2018-12-31     0.00  December\n",
       "2  1000_379     1000   2018-12-28   660.40  December\n",
       "3  1000_413     1000   2018-12-26   270.99  December\n",
       "4  1000_442     1000   2018-12-27   880.22  December"
      ]
     },
     "execution_count": 151,
     "metadata": {},
     "output_type": "execute_result"
    }
   ],
   "source": [
    "internet.head()"
   ]
  },
  {
   "cell_type": "code",
   "execution_count": 152,
   "metadata": {},
   "outputs": [
    {
     "data": {
      "text/html": [
       "<div>\n",
       "<style scoped>\n",
       "    .dataframe tbody tr th:only-of-type {\n",
       "        vertical-align: middle;\n",
       "    }\n",
       "\n",
       "    .dataframe tbody tr th {\n",
       "        vertical-align: top;\n",
       "    }\n",
       "\n",
       "    .dataframe thead th {\n",
       "        text-align: right;\n",
       "    }\n",
       "</style>\n",
       "<table border=\"1\" class=\"dataframe\">\n",
       "  <thead>\n",
       "    <tr style=\"text-align: right;\">\n",
       "      <th></th>\n",
       "      <th>id</th>\n",
       "      <th>user_id</th>\n",
       "      <th>call_date</th>\n",
       "      <th>duration</th>\n",
       "      <th>month</th>\n",
       "    </tr>\n",
       "  </thead>\n",
       "  <tbody>\n",
       "    <tr>\n",
       "      <td>0</td>\n",
       "      <td>1000_93</td>\n",
       "      <td>1000</td>\n",
       "      <td>2018-12-27</td>\n",
       "      <td>8.52</td>\n",
       "      <td>December</td>\n",
       "    </tr>\n",
       "    <tr>\n",
       "      <td>1</td>\n",
       "      <td>1000_145</td>\n",
       "      <td>1000</td>\n",
       "      <td>2018-12-27</td>\n",
       "      <td>13.66</td>\n",
       "      <td>December</td>\n",
       "    </tr>\n",
       "    <tr>\n",
       "      <td>2</td>\n",
       "      <td>1000_247</td>\n",
       "      <td>1000</td>\n",
       "      <td>2018-12-27</td>\n",
       "      <td>14.48</td>\n",
       "      <td>December</td>\n",
       "    </tr>\n",
       "    <tr>\n",
       "      <td>3</td>\n",
       "      <td>1000_309</td>\n",
       "      <td>1000</td>\n",
       "      <td>2018-12-28</td>\n",
       "      <td>5.76</td>\n",
       "      <td>December</td>\n",
       "    </tr>\n",
       "    <tr>\n",
       "      <td>4</td>\n",
       "      <td>1000_380</td>\n",
       "      <td>1000</td>\n",
       "      <td>2018-12-30</td>\n",
       "      <td>4.22</td>\n",
       "      <td>December</td>\n",
       "    </tr>\n",
       "  </tbody>\n",
       "</table>\n",
       "</div>"
      ],
      "text/plain": [
       "         id  user_id  call_date  duration     month\n",
       "0   1000_93     1000 2018-12-27      8.52  December\n",
       "1  1000_145     1000 2018-12-27     13.66  December\n",
       "2  1000_247     1000 2018-12-27     14.48  December\n",
       "3  1000_309     1000 2018-12-28      5.76  December\n",
       "4  1000_380     1000 2018-12-30      4.22  December"
      ]
     },
     "execution_count": 152,
     "metadata": {},
     "output_type": "execute_result"
    }
   ],
   "source": [
    "calls.head()"
   ]
  },
  {
   "cell_type": "markdown",
   "metadata": {},
   "source": [
    "**Calculating the number of calls made, minutes used, messages sent, data used per month for each users**"
   ]
  },
  {
   "cell_type": "code",
   "execution_count": 153,
   "metadata": {},
   "outputs": [],
   "source": [
    "#Calls per user per month\n",
    "calls_made = calls.groupby(['user_id','month']).agg({'id':'count'}).rename(columns={'id':'Calls Made'})\n",
    "\n",
    "#Minutes per user per month\n",
    "min_spent = calls.groupby(['user_id','month']).agg({'duration':'sum'}).rename(columns={'duration':'Minutes Spent'})\n",
    " \n",
    "#Traffic per user per month\n",
    "mb_used = internet.groupby(['user_id','month']).agg({'mb_used':'sum'}).rename(columns={'mb_used':'Mb Used'})\n",
    " \n",
    "#Messages per user per month\n",
    "messages_sent = messages.groupby(['user_id','month']).agg({'id':'count'}).rename(columns={'id':'Messages Sent'})\n",
    " \n",
    "#Plan for each user\n",
    "plan = users[['user_id','plan']]\n",
    " \n",
    "#Combined into one table\n",
    "df1 = calls_made.join(min_spent, on= [\"user_id\",\"month\"])\n",
    "df2 = df1.join(mb_used, on= [\"user_id\",\"month\"])\n",
    "df_usage = df2.join(messages_sent, on= [\"user_id\",\"month\"]).reset_index().merge(plan, on='user_id')\n",
    "df_usage.head(20)"
   ]
  },
  {
   "cell_type": "markdown",
   "metadata": {},
   "source": [
    "**Converting data in megabytes to gigabytes and rounding up Data Usage and Minutes Spent**"
   ]
  },
  {
   "cell_type": "code",
   "execution_count": 22,
   "metadata": {},
   "outputs": [
    {
     "data": {
      "text/html": [
       "<div>\n",
       "<style scoped>\n",
       "    .dataframe tbody tr th:only-of-type {\n",
       "        vertical-align: middle;\n",
       "    }\n",
       "\n",
       "    .dataframe tbody tr th {\n",
       "        vertical-align: top;\n",
       "    }\n",
       "\n",
       "    .dataframe thead th {\n",
       "        text-align: right;\n",
       "    }\n",
       "</style>\n",
       "<table border=\"1\" class=\"dataframe\">\n",
       "  <thead>\n",
       "    <tr style=\"text-align: right;\">\n",
       "      <th></th>\n",
       "      <th>user_id</th>\n",
       "      <th>month</th>\n",
       "      <th>Calls Made</th>\n",
       "      <th>Minutes Spent</th>\n",
       "      <th>Mb Used</th>\n",
       "      <th>Messages Sent</th>\n",
       "      <th>plan</th>\n",
       "      <th>gb_used</th>\n",
       "    </tr>\n",
       "  </thead>\n",
       "  <tbody>\n",
       "    <tr>\n",
       "      <td>0</td>\n",
       "      <td>1000</td>\n",
       "      <td>December</td>\n",
       "      <td>16</td>\n",
       "      <td>117.0</td>\n",
       "      <td>1901.47</td>\n",
       "      <td>11.0</td>\n",
       "      <td>ultimate</td>\n",
       "      <td>2.0</td>\n",
       "    </tr>\n",
       "    <tr>\n",
       "      <td>1</td>\n",
       "      <td>1001</td>\n",
       "      <td>August</td>\n",
       "      <td>27</td>\n",
       "      <td>172.0</td>\n",
       "      <td>6919.15</td>\n",
       "      <td>30.0</td>\n",
       "      <td>surf</td>\n",
       "      <td>7.0</td>\n",
       "    </tr>\n",
       "    <tr>\n",
       "      <td>2</td>\n",
       "      <td>1001</td>\n",
       "      <td>December</td>\n",
       "      <td>56</td>\n",
       "      <td>393.0</td>\n",
       "      <td>19369.18</td>\n",
       "      <td>44.0</td>\n",
       "      <td>surf</td>\n",
       "      <td>19.0</td>\n",
       "    </tr>\n",
       "    <tr>\n",
       "      <td>3</td>\n",
       "      <td>1001</td>\n",
       "      <td>November</td>\n",
       "      <td>64</td>\n",
       "      <td>405.0</td>\n",
       "      <td>18504.30</td>\n",
       "      <td>36.0</td>\n",
       "      <td>surf</td>\n",
       "      <td>19.0</td>\n",
       "    </tr>\n",
       "    <tr>\n",
       "      <td>4</td>\n",
       "      <td>1001</td>\n",
       "      <td>October</td>\n",
       "      <td>65</td>\n",
       "      <td>375.0</td>\n",
       "      <td>22330.49</td>\n",
       "      <td>53.0</td>\n",
       "      <td>surf</td>\n",
       "      <td>22.0</td>\n",
       "    </tr>\n",
       "  </tbody>\n",
       "</table>\n",
       "</div>"
      ],
      "text/plain": [
       "   user_id     month  Calls Made  Minutes Spent   Mb Used  Messages Sent  \\\n",
       "0     1000  December          16          117.0   1901.47           11.0   \n",
       "1     1001    August          27          172.0   6919.15           30.0   \n",
       "2     1001  December          56          393.0  19369.18           44.0   \n",
       "3     1001  November          64          405.0  18504.30           36.0   \n",
       "4     1001   October          65          375.0  22330.49           53.0   \n",
       "\n",
       "       plan  gb_used  \n",
       "0  ultimate      2.0  \n",
       "1      surf      7.0  \n",
       "2      surf     19.0  \n",
       "3      surf     19.0  \n",
       "4      surf     22.0  "
      ]
     },
     "execution_count": 22,
     "metadata": {},
     "output_type": "execute_result"
    }
   ],
   "source": [
    "df_usage['gb_used'] = np.ceil(df_usage['Mb Used'] / 1024)\n",
    "df_usage['Minutes Spent'] = np.ceil(df_usage['Minutes Spent'])\n",
    "df_usage.head()"
   ]
  },
  {
   "cell_type": "markdown",
   "metadata": {},
   "source": [
    "**Checking for Null Values in New Table**"
   ]
  },
  {
   "cell_type": "code",
   "execution_count": 23,
   "metadata": {},
   "outputs": [
    {
     "data": {
      "text/plain": [
       "user_id            0\n",
       "month              0\n",
       "Calls Made         0\n",
       "Minutes Spent      0\n",
       "Mb Used           15\n",
       "Messages Sent    485\n",
       "plan               0\n",
       "gb_used           15\n",
       "dtype: int64"
      ]
     },
     "execution_count": 23,
     "metadata": {},
     "output_type": "execute_result"
    }
   ],
   "source": [
    "df_usage.isnull().sum()"
   ]
  },
  {
   "cell_type": "code",
   "execution_count": 24,
   "metadata": {},
   "outputs": [
    {
     "data": {
      "text/html": [
       "<div>\n",
       "<style scoped>\n",
       "    .dataframe tbody tr th:only-of-type {\n",
       "        vertical-align: middle;\n",
       "    }\n",
       "\n",
       "    .dataframe tbody tr th {\n",
       "        vertical-align: top;\n",
       "    }\n",
       "\n",
       "    .dataframe thead th {\n",
       "        text-align: right;\n",
       "    }\n",
       "</style>\n",
       "<table border=\"1\" class=\"dataframe\">\n",
       "  <thead>\n",
       "    <tr style=\"text-align: right;\">\n",
       "      <th></th>\n",
       "      <th>user_id</th>\n",
       "      <th>month</th>\n",
       "      <th>Calls Made</th>\n",
       "      <th>Minutes Spent</th>\n",
       "      <th>Mb Used</th>\n",
       "      <th>Messages Sent</th>\n",
       "      <th>plan</th>\n",
       "      <th>gb_used</th>\n",
       "    </tr>\n",
       "  </thead>\n",
       "  <tbody>\n",
       "    <tr>\n",
       "      <td>325</td>\n",
       "      <td>1071</td>\n",
       "      <td>August</td>\n",
       "      <td>74</td>\n",
       "      <td>490.0</td>\n",
       "      <td>13747.50</td>\n",
       "      <td>NaN</td>\n",
       "      <td>surf</td>\n",
       "      <td>14.0</td>\n",
       "    </tr>\n",
       "    <tr>\n",
       "      <td>504</td>\n",
       "      <td>1109</td>\n",
       "      <td>June</td>\n",
       "      <td>78</td>\n",
       "      <td>543.0</td>\n",
       "      <td>12202.07</td>\n",
       "      <td>NaN</td>\n",
       "      <td>surf</td>\n",
       "      <td>12.0</td>\n",
       "    </tr>\n",
       "    <tr>\n",
       "      <td>1953</td>\n",
       "      <td>1426</td>\n",
       "      <td>December</td>\n",
       "      <td>82</td>\n",
       "      <td>583.0</td>\n",
       "      <td>28124.62</td>\n",
       "      <td>NaN</td>\n",
       "      <td>ultimate</td>\n",
       "      <td>28.0</td>\n",
       "    </tr>\n",
       "    <tr>\n",
       "      <td>1998</td>\n",
       "      <td>1437</td>\n",
       "      <td>November</td>\n",
       "      <td>60</td>\n",
       "      <td>445.0</td>\n",
       "      <td>15189.99</td>\n",
       "      <td>NaN</td>\n",
       "      <td>surf</td>\n",
       "      <td>15.0</td>\n",
       "    </tr>\n",
       "    <tr>\n",
       "      <td>1311</td>\n",
       "      <td>1288</td>\n",
       "      <td>December</td>\n",
       "      <td>45</td>\n",
       "      <td>263.0</td>\n",
       "      <td>14622.88</td>\n",
       "      <td>NaN</td>\n",
       "      <td>surf</td>\n",
       "      <td>15.0</td>\n",
       "    </tr>\n",
       "    <tr>\n",
       "      <td>1443</td>\n",
       "      <td>1321</td>\n",
       "      <td>November</td>\n",
       "      <td>72</td>\n",
       "      <td>491.0</td>\n",
       "      <td>11822.98</td>\n",
       "      <td>NaN</td>\n",
       "      <td>surf</td>\n",
       "      <td>12.0</td>\n",
       "    </tr>\n",
       "    <tr>\n",
       "      <td>542</td>\n",
       "      <td>1117</td>\n",
       "      <td>July</td>\n",
       "      <td>57</td>\n",
       "      <td>423.0</td>\n",
       "      <td>17769.81</td>\n",
       "      <td>NaN</td>\n",
       "      <td>surf</td>\n",
       "      <td>18.0</td>\n",
       "    </tr>\n",
       "    <tr>\n",
       "      <td>799</td>\n",
       "      <td>1171</td>\n",
       "      <td>June</td>\n",
       "      <td>47</td>\n",
       "      <td>288.0</td>\n",
       "      <td>18007.14</td>\n",
       "      <td>NaN</td>\n",
       "      <td>surf</td>\n",
       "      <td>18.0</td>\n",
       "    </tr>\n",
       "    <tr>\n",
       "      <td>500</td>\n",
       "      <td>1109</td>\n",
       "      <td>April</td>\n",
       "      <td>29</td>\n",
       "      <td>202.0</td>\n",
       "      <td>8246.83</td>\n",
       "      <td>NaN</td>\n",
       "      <td>surf</td>\n",
       "      <td>9.0</td>\n",
       "    </tr>\n",
       "    <tr>\n",
       "      <td>54</td>\n",
       "      <td>1012</td>\n",
       "      <td>November</td>\n",
       "      <td>10</td>\n",
       "      <td>72.0</td>\n",
       "      <td>13935.03</td>\n",
       "      <td>NaN</td>\n",
       "      <td>surf</td>\n",
       "      <td>14.0</td>\n",
       "    </tr>\n",
       "  </tbody>\n",
       "</table>\n",
       "</div>"
      ],
      "text/plain": [
       "      user_id     month  Calls Made  Minutes Spent   Mb Used  Messages Sent  \\\n",
       "325      1071    August          74          490.0  13747.50            NaN   \n",
       "504      1109      June          78          543.0  12202.07            NaN   \n",
       "1953     1426  December          82          583.0  28124.62            NaN   \n",
       "1998     1437  November          60          445.0  15189.99            NaN   \n",
       "1311     1288  December          45          263.0  14622.88            NaN   \n",
       "1443     1321  November          72          491.0  11822.98            NaN   \n",
       "542      1117      July          57          423.0  17769.81            NaN   \n",
       "799      1171      June          47          288.0  18007.14            NaN   \n",
       "500      1109     April          29          202.0   8246.83            NaN   \n",
       "54       1012  November          10           72.0  13935.03            NaN   \n",
       "\n",
       "          plan  gb_used  \n",
       "325       surf     14.0  \n",
       "504       surf     12.0  \n",
       "1953  ultimate     28.0  \n",
       "1998      surf     15.0  \n",
       "1311      surf     15.0  \n",
       "1443      surf     12.0  \n",
       "542       surf     18.0  \n",
       "799       surf     18.0  \n",
       "500       surf      9.0  \n",
       "54        surf     14.0  "
      ]
     },
     "execution_count": 24,
     "metadata": {},
     "output_type": "execute_result"
    }
   ],
   "source": [
    "null_data = df_usage[df_usage.isna().any(axis=1)]\n",
    "null_data.sample(10)"
   ]
  },
  {
   "cell_type": "markdown",
   "metadata": {},
   "source": [
    "Here, I see we have null values in columns which we created by combining individual values into monthly value. Therefore, we have null values for all those rows if customer had no activities for that month. For example, if a customer did not sent any messages in November, we have NaN value for **Message Sent** column for that customer.\n",
    "\n",
    "I am going to give **0** value for all **Null values** in the newly added columns in our dataset so that the dataset looks cleaner and we can maintain the originality of the dataset."
   ]
  },
  {
   "cell_type": "code",
   "execution_count": 25,
   "metadata": {},
   "outputs": [
    {
     "data": {
      "text/plain": [
       "user_id          0\n",
       "month            0\n",
       "Calls Made       0\n",
       "Minutes Spent    0\n",
       "Mb Used          0\n",
       "Messages Sent    0\n",
       "plan             0\n",
       "gb_used          0\n",
       "dtype: int64"
      ]
     },
     "execution_count": 25,
     "metadata": {},
     "output_type": "execute_result"
    }
   ],
   "source": [
    "df_usage.fillna(value = 0, inplace=True)\n",
    "df_usage.isnull().sum()"
   ]
  },
  {
   "cell_type": "code",
   "execution_count": 26,
   "metadata": {},
   "outputs": [
    {
     "data": {
      "text/html": [
       "<div>\n",
       "<style scoped>\n",
       "    .dataframe tbody tr th:only-of-type {\n",
       "        vertical-align: middle;\n",
       "    }\n",
       "\n",
       "    .dataframe tbody tr th {\n",
       "        vertical-align: top;\n",
       "    }\n",
       "\n",
       "    .dataframe thead th {\n",
       "        text-align: right;\n",
       "    }\n",
       "</style>\n",
       "<table border=\"1\" class=\"dataframe\">\n",
       "  <thead>\n",
       "    <tr style=\"text-align: right;\">\n",
       "      <th></th>\n",
       "      <th>messages_included</th>\n",
       "      <th>mb_per_month_included</th>\n",
       "      <th>minutes_included</th>\n",
       "      <th>usd_monthly_pay</th>\n",
       "      <th>usd_per_gb</th>\n",
       "      <th>usd_per_message</th>\n",
       "      <th>usd_per_minute</th>\n",
       "      <th>plan_name</th>\n",
       "    </tr>\n",
       "  </thead>\n",
       "  <tbody>\n",
       "    <tr>\n",
       "      <td>0</td>\n",
       "      <td>50</td>\n",
       "      <td>15360</td>\n",
       "      <td>500</td>\n",
       "      <td>20</td>\n",
       "      <td>10</td>\n",
       "      <td>0.03</td>\n",
       "      <td>0.03</td>\n",
       "      <td>surf</td>\n",
       "    </tr>\n",
       "    <tr>\n",
       "      <td>1</td>\n",
       "      <td>1000</td>\n",
       "      <td>30720</td>\n",
       "      <td>3000</td>\n",
       "      <td>70</td>\n",
       "      <td>7</td>\n",
       "      <td>0.01</td>\n",
       "      <td>0.01</td>\n",
       "      <td>ultimate</td>\n",
       "    </tr>\n",
       "  </tbody>\n",
       "</table>\n",
       "</div>"
      ],
      "text/plain": [
       "   messages_included  mb_per_month_included  minutes_included  \\\n",
       "0                 50                  15360               500   \n",
       "1               1000                  30720              3000   \n",
       "\n",
       "   usd_monthly_pay  usd_per_gb  usd_per_message  usd_per_minute plan_name  \n",
       "0               20          10             0.03            0.03      surf  \n",
       "1               70           7             0.01            0.01  ultimate  "
      ]
     },
     "execution_count": 26,
     "metadata": {},
     "output_type": "execute_result"
    }
   ],
   "source": [
    "plans.head()"
   ]
  },
  {
   "cell_type": "markdown",
   "metadata": {},
   "source": [
    "Adding a new column **gb_used** in **plans** table."
   ]
  },
  {
   "cell_type": "code",
   "execution_count": 27,
   "metadata": {
    "scrolled": false
   },
   "outputs": [
    {
     "data": {
      "text/html": [
       "<div>\n",
       "<style scoped>\n",
       "    .dataframe tbody tr th:only-of-type {\n",
       "        vertical-align: middle;\n",
       "    }\n",
       "\n",
       "    .dataframe tbody tr th {\n",
       "        vertical-align: top;\n",
       "    }\n",
       "\n",
       "    .dataframe thead th {\n",
       "        text-align: right;\n",
       "    }\n",
       "</style>\n",
       "<table border=\"1\" class=\"dataframe\">\n",
       "  <thead>\n",
       "    <tr style=\"text-align: right;\">\n",
       "      <th></th>\n",
       "      <th>messages_included</th>\n",
       "      <th>mb_per_month_included</th>\n",
       "      <th>minutes_included</th>\n",
       "      <th>usd_monthly_pay</th>\n",
       "      <th>usd_per_gb</th>\n",
       "      <th>usd_per_message</th>\n",
       "      <th>usd_per_minute</th>\n",
       "      <th>plan_name</th>\n",
       "      <th>gb_included</th>\n",
       "    </tr>\n",
       "  </thead>\n",
       "  <tbody>\n",
       "    <tr>\n",
       "      <td>0</td>\n",
       "      <td>50</td>\n",
       "      <td>15360</td>\n",
       "      <td>500</td>\n",
       "      <td>20</td>\n",
       "      <td>10</td>\n",
       "      <td>0.03</td>\n",
       "      <td>0.03</td>\n",
       "      <td>surf</td>\n",
       "      <td>15.0</td>\n",
       "    </tr>\n",
       "    <tr>\n",
       "      <td>1</td>\n",
       "      <td>1000</td>\n",
       "      <td>30720</td>\n",
       "      <td>3000</td>\n",
       "      <td>70</td>\n",
       "      <td>7</td>\n",
       "      <td>0.01</td>\n",
       "      <td>0.01</td>\n",
       "      <td>ultimate</td>\n",
       "      <td>30.0</td>\n",
       "    </tr>\n",
       "  </tbody>\n",
       "</table>\n",
       "</div>"
      ],
      "text/plain": [
       "   messages_included  mb_per_month_included  minutes_included  \\\n",
       "0                 50                  15360               500   \n",
       "1               1000                  30720              3000   \n",
       "\n",
       "   usd_monthly_pay  usd_per_gb  usd_per_message  usd_per_minute plan_name  \\\n",
       "0               20          10             0.03            0.03      surf   \n",
       "1               70           7             0.01            0.01  ultimate   \n",
       "\n",
       "   gb_included  \n",
       "0         15.0  \n",
       "1         30.0  "
      ]
     },
     "execution_count": 27,
     "metadata": {},
     "output_type": "execute_result"
    }
   ],
   "source": [
    "plans['gb_included'] = plans['mb_per_month_included']/ 1024\n",
    "plans.head()"
   ]
  },
  {
   "cell_type": "markdown",
   "metadata": {},
   "source": [
    "Renaming ***plan_name*** column as ***plan*** in plans table."
   ]
  },
  {
   "cell_type": "code",
   "execution_count": 28,
   "metadata": {},
   "outputs": [
    {
     "data": {
      "text/html": [
       "<div>\n",
       "<style scoped>\n",
       "    .dataframe tbody tr th:only-of-type {\n",
       "        vertical-align: middle;\n",
       "    }\n",
       "\n",
       "    .dataframe tbody tr th {\n",
       "        vertical-align: top;\n",
       "    }\n",
       "\n",
       "    .dataframe thead th {\n",
       "        text-align: right;\n",
       "    }\n",
       "</style>\n",
       "<table border=\"1\" class=\"dataframe\">\n",
       "  <thead>\n",
       "    <tr style=\"text-align: right;\">\n",
       "      <th></th>\n",
       "      <th>messages_included</th>\n",
       "      <th>mb_per_month_included</th>\n",
       "      <th>minutes_included</th>\n",
       "      <th>usd_monthly_pay</th>\n",
       "      <th>usd_per_gb</th>\n",
       "      <th>usd_per_message</th>\n",
       "      <th>usd_per_minute</th>\n",
       "      <th>plan</th>\n",
       "      <th>gb_included</th>\n",
       "    </tr>\n",
       "  </thead>\n",
       "  <tbody>\n",
       "    <tr>\n",
       "      <td>0</td>\n",
       "      <td>50</td>\n",
       "      <td>15360</td>\n",
       "      <td>500</td>\n",
       "      <td>20</td>\n",
       "      <td>10</td>\n",
       "      <td>0.03</td>\n",
       "      <td>0.03</td>\n",
       "      <td>surf</td>\n",
       "      <td>15.0</td>\n",
       "    </tr>\n",
       "    <tr>\n",
       "      <td>1</td>\n",
       "      <td>1000</td>\n",
       "      <td>30720</td>\n",
       "      <td>3000</td>\n",
       "      <td>70</td>\n",
       "      <td>7</td>\n",
       "      <td>0.01</td>\n",
       "      <td>0.01</td>\n",
       "      <td>ultimate</td>\n",
       "      <td>30.0</td>\n",
       "    </tr>\n",
       "  </tbody>\n",
       "</table>\n",
       "</div>"
      ],
      "text/plain": [
       "   messages_included  mb_per_month_included  minutes_included  \\\n",
       "0                 50                  15360               500   \n",
       "1               1000                  30720              3000   \n",
       "\n",
       "   usd_monthly_pay  usd_per_gb  usd_per_message  usd_per_minute      plan  \\\n",
       "0               20          10             0.03            0.03      surf   \n",
       "1               70           7             0.01            0.01  ultimate   \n",
       "\n",
       "   gb_included  \n",
       "0         15.0  \n",
       "1         30.0  "
      ]
     },
     "execution_count": 28,
     "metadata": {},
     "output_type": "execute_result"
    }
   ],
   "source": [
    "plans = plans.rename(columns={'plan_name': 'plan'})\n",
    "plans"
   ]
  },
  {
   "cell_type": "markdown",
   "metadata": {},
   "source": [
    "**Merging *df_usage* table with *plans* table on \"plan\"**"
   ]
  },
  {
   "cell_type": "code",
   "execution_count": 29,
   "metadata": {
    "scrolled": true
   },
   "outputs": [
    {
     "data": {
      "text/html": [
       "<div>\n",
       "<style scoped>\n",
       "    .dataframe tbody tr th:only-of-type {\n",
       "        vertical-align: middle;\n",
       "    }\n",
       "\n",
       "    .dataframe tbody tr th {\n",
       "        vertical-align: top;\n",
       "    }\n",
       "\n",
       "    .dataframe thead th {\n",
       "        text-align: right;\n",
       "    }\n",
       "</style>\n",
       "<table border=\"1\" class=\"dataframe\">\n",
       "  <thead>\n",
       "    <tr style=\"text-align: right;\">\n",
       "      <th></th>\n",
       "      <th>user_id</th>\n",
       "      <th>month</th>\n",
       "      <th>Calls Made</th>\n",
       "      <th>Minutes Spent</th>\n",
       "      <th>Mb Used</th>\n",
       "      <th>Messages Sent</th>\n",
       "      <th>plan</th>\n",
       "      <th>gb_used</th>\n",
       "      <th>messages_included</th>\n",
       "      <th>mb_per_month_included</th>\n",
       "      <th>minutes_included</th>\n",
       "      <th>usd_monthly_pay</th>\n",
       "      <th>usd_per_gb</th>\n",
       "      <th>usd_per_message</th>\n",
       "      <th>usd_per_minute</th>\n",
       "      <th>gb_included</th>\n",
       "    </tr>\n",
       "  </thead>\n",
       "  <tbody>\n",
       "    <tr>\n",
       "      <td>0</td>\n",
       "      <td>1000</td>\n",
       "      <td>December</td>\n",
       "      <td>16</td>\n",
       "      <td>117.0</td>\n",
       "      <td>1901.47</td>\n",
       "      <td>11.0</td>\n",
       "      <td>ultimate</td>\n",
       "      <td>2.0</td>\n",
       "      <td>1000</td>\n",
       "      <td>30720</td>\n",
       "      <td>3000</td>\n",
       "      <td>70</td>\n",
       "      <td>7</td>\n",
       "      <td>0.01</td>\n",
       "      <td>0.01</td>\n",
       "      <td>30.0</td>\n",
       "    </tr>\n",
       "    <tr>\n",
       "      <td>1</td>\n",
       "      <td>1006</td>\n",
       "      <td>December</td>\n",
       "      <td>9</td>\n",
       "      <td>55.0</td>\n",
       "      <td>32118.82</td>\n",
       "      <td>139.0</td>\n",
       "      <td>ultimate</td>\n",
       "      <td>32.0</td>\n",
       "      <td>1000</td>\n",
       "      <td>30720</td>\n",
       "      <td>3000</td>\n",
       "      <td>70</td>\n",
       "      <td>7</td>\n",
       "      <td>0.01</td>\n",
       "      <td>0.01</td>\n",
       "      <td>30.0</td>\n",
       "    </tr>\n",
       "    <tr>\n",
       "      <td>2</td>\n",
       "      <td>1006</td>\n",
       "      <td>November</td>\n",
       "      <td>2</td>\n",
       "      <td>10.0</td>\n",
       "      <td>2068.37</td>\n",
       "      <td>15.0</td>\n",
       "      <td>ultimate</td>\n",
       "      <td>3.0</td>\n",
       "      <td>1000</td>\n",
       "      <td>30720</td>\n",
       "      <td>3000</td>\n",
       "      <td>70</td>\n",
       "      <td>7</td>\n",
       "      <td>0.01</td>\n",
       "      <td>0.01</td>\n",
       "      <td>30.0</td>\n",
       "    </tr>\n",
       "    <tr>\n",
       "      <td>3</td>\n",
       "      <td>1008</td>\n",
       "      <td>December</td>\n",
       "      <td>85</td>\n",
       "      <td>601.0</td>\n",
       "      <td>14689.33</td>\n",
       "      <td>26.0</td>\n",
       "      <td>ultimate</td>\n",
       "      <td>15.0</td>\n",
       "      <td>1000</td>\n",
       "      <td>30720</td>\n",
       "      <td>3000</td>\n",
       "      <td>70</td>\n",
       "      <td>7</td>\n",
       "      <td>0.01</td>\n",
       "      <td>0.01</td>\n",
       "      <td>30.0</td>\n",
       "    </tr>\n",
       "    <tr>\n",
       "      <td>4</td>\n",
       "      <td>1008</td>\n",
       "      <td>November</td>\n",
       "      <td>63</td>\n",
       "      <td>423.0</td>\n",
       "      <td>23676.72</td>\n",
       "      <td>37.0</td>\n",
       "      <td>ultimate</td>\n",
       "      <td>24.0</td>\n",
       "      <td>1000</td>\n",
       "      <td>30720</td>\n",
       "      <td>3000</td>\n",
       "      <td>70</td>\n",
       "      <td>7</td>\n",
       "      <td>0.01</td>\n",
       "      <td>0.01</td>\n",
       "      <td>30.0</td>\n",
       "    </tr>\n",
       "  </tbody>\n",
       "</table>\n",
       "</div>"
      ],
      "text/plain": [
       "   user_id     month  Calls Made  Minutes Spent   Mb Used  Messages Sent  \\\n",
       "0     1000  December          16          117.0   1901.47           11.0   \n",
       "1     1006  December           9           55.0  32118.82          139.0   \n",
       "2     1006  November           2           10.0   2068.37           15.0   \n",
       "3     1008  December          85          601.0  14689.33           26.0   \n",
       "4     1008  November          63          423.0  23676.72           37.0   \n",
       "\n",
       "       plan  gb_used  messages_included  mb_per_month_included  \\\n",
       "0  ultimate      2.0               1000                  30720   \n",
       "1  ultimate     32.0               1000                  30720   \n",
       "2  ultimate      3.0               1000                  30720   \n",
       "3  ultimate     15.0               1000                  30720   \n",
       "4  ultimate     24.0               1000                  30720   \n",
       "\n",
       "   minutes_included  usd_monthly_pay  usd_per_gb  usd_per_message  \\\n",
       "0              3000               70           7             0.01   \n",
       "1              3000               70           7             0.01   \n",
       "2              3000               70           7             0.01   \n",
       "3              3000               70           7             0.01   \n",
       "4              3000               70           7             0.01   \n",
       "\n",
       "   usd_per_minute  gb_included  \n",
       "0            0.01         30.0  \n",
       "1            0.01         30.0  \n",
       "2            0.01         30.0  \n",
       "3            0.01         30.0  \n",
       "4            0.01         30.0  "
      ]
     },
     "execution_count": 29,
     "metadata": {},
     "output_type": "execute_result"
    }
   ],
   "source": [
    "result = df_usage.merge(plans, on = \"plan\")\n",
    "result.head()"
   ]
  },
  {
   "cell_type": "markdown",
   "metadata": {},
   "source": [
    "**Calculating the Monthly Revenue for each User**"
   ]
  },
  {
   "cell_type": "code",
   "execution_count": 30,
   "metadata": {
    "scrolled": true
   },
   "outputs": [
    {
     "data": {
      "text/html": [
       "<div>\n",
       "<style scoped>\n",
       "    .dataframe tbody tr th:only-of-type {\n",
       "        vertical-align: middle;\n",
       "    }\n",
       "\n",
       "    .dataframe tbody tr th {\n",
       "        vertical-align: top;\n",
       "    }\n",
       "\n",
       "    .dataframe thead th {\n",
       "        text-align: right;\n",
       "    }\n",
       "</style>\n",
       "<table border=\"1\" class=\"dataframe\">\n",
       "  <thead>\n",
       "    <tr style=\"text-align: right;\">\n",
       "      <th></th>\n",
       "      <th>user_id</th>\n",
       "      <th>month</th>\n",
       "      <th>Calls Made</th>\n",
       "      <th>Minutes Spent</th>\n",
       "      <th>Mb Used</th>\n",
       "      <th>Messages Sent</th>\n",
       "      <th>plan</th>\n",
       "      <th>gb_used</th>\n",
       "      <th>messages_included</th>\n",
       "      <th>mb_per_month_included</th>\n",
       "      <th>minutes_included</th>\n",
       "      <th>usd_monthly_pay</th>\n",
       "      <th>usd_per_gb</th>\n",
       "      <th>usd_per_message</th>\n",
       "      <th>usd_per_minute</th>\n",
       "      <th>gb_included</th>\n",
       "      <th>monthly_revenue</th>\n",
       "    </tr>\n",
       "  </thead>\n",
       "  <tbody>\n",
       "    <tr>\n",
       "      <td>0</td>\n",
       "      <td>1000</td>\n",
       "      <td>December</td>\n",
       "      <td>16</td>\n",
       "      <td>117.0</td>\n",
       "      <td>1901.47</td>\n",
       "      <td>11.0</td>\n",
       "      <td>ultimate</td>\n",
       "      <td>2.0</td>\n",
       "      <td>1000</td>\n",
       "      <td>30720</td>\n",
       "      <td>3000</td>\n",
       "      <td>70</td>\n",
       "      <td>7</td>\n",
       "      <td>0.01</td>\n",
       "      <td>0.01</td>\n",
       "      <td>30.0</td>\n",
       "      <td>70.0</td>\n",
       "    </tr>\n",
       "    <tr>\n",
       "      <td>1</td>\n",
       "      <td>1006</td>\n",
       "      <td>December</td>\n",
       "      <td>9</td>\n",
       "      <td>55.0</td>\n",
       "      <td>32118.82</td>\n",
       "      <td>139.0</td>\n",
       "      <td>ultimate</td>\n",
       "      <td>32.0</td>\n",
       "      <td>1000</td>\n",
       "      <td>30720</td>\n",
       "      <td>3000</td>\n",
       "      <td>70</td>\n",
       "      <td>7</td>\n",
       "      <td>0.01</td>\n",
       "      <td>0.01</td>\n",
       "      <td>30.0</td>\n",
       "      <td>84.0</td>\n",
       "    </tr>\n",
       "    <tr>\n",
       "      <td>2</td>\n",
       "      <td>1006</td>\n",
       "      <td>November</td>\n",
       "      <td>2</td>\n",
       "      <td>10.0</td>\n",
       "      <td>2068.37</td>\n",
       "      <td>15.0</td>\n",
       "      <td>ultimate</td>\n",
       "      <td>3.0</td>\n",
       "      <td>1000</td>\n",
       "      <td>30720</td>\n",
       "      <td>3000</td>\n",
       "      <td>70</td>\n",
       "      <td>7</td>\n",
       "      <td>0.01</td>\n",
       "      <td>0.01</td>\n",
       "      <td>30.0</td>\n",
       "      <td>70.0</td>\n",
       "    </tr>\n",
       "    <tr>\n",
       "      <td>3</td>\n",
       "      <td>1008</td>\n",
       "      <td>December</td>\n",
       "      <td>85</td>\n",
       "      <td>601.0</td>\n",
       "      <td>14689.33</td>\n",
       "      <td>26.0</td>\n",
       "      <td>ultimate</td>\n",
       "      <td>15.0</td>\n",
       "      <td>1000</td>\n",
       "      <td>30720</td>\n",
       "      <td>3000</td>\n",
       "      <td>70</td>\n",
       "      <td>7</td>\n",
       "      <td>0.01</td>\n",
       "      <td>0.01</td>\n",
       "      <td>30.0</td>\n",
       "      <td>70.0</td>\n",
       "    </tr>\n",
       "    <tr>\n",
       "      <td>4</td>\n",
       "      <td>1008</td>\n",
       "      <td>November</td>\n",
       "      <td>63</td>\n",
       "      <td>423.0</td>\n",
       "      <td>23676.72</td>\n",
       "      <td>37.0</td>\n",
       "      <td>ultimate</td>\n",
       "      <td>24.0</td>\n",
       "      <td>1000</td>\n",
       "      <td>30720</td>\n",
       "      <td>3000</td>\n",
       "      <td>70</td>\n",
       "      <td>7</td>\n",
       "      <td>0.01</td>\n",
       "      <td>0.01</td>\n",
       "      <td>30.0</td>\n",
       "      <td>70.0</td>\n",
       "    </tr>\n",
       "    <tr>\n",
       "      <td>5</td>\n",
       "      <td>1008</td>\n",
       "      <td>October</td>\n",
       "      <td>71</td>\n",
       "      <td>451.0</td>\n",
       "      <td>17106.99</td>\n",
       "      <td>21.0</td>\n",
       "      <td>ultimate</td>\n",
       "      <td>17.0</td>\n",
       "      <td>1000</td>\n",
       "      <td>30720</td>\n",
       "      <td>3000</td>\n",
       "      <td>70</td>\n",
       "      <td>7</td>\n",
       "      <td>0.01</td>\n",
       "      <td>0.01</td>\n",
       "      <td>30.0</td>\n",
       "      <td>70.0</td>\n",
       "    </tr>\n",
       "    <tr>\n",
       "      <td>6</td>\n",
       "      <td>1011</td>\n",
       "      <td>August</td>\n",
       "      <td>61</td>\n",
       "      <td>461.0</td>\n",
       "      <td>21099.37</td>\n",
       "      <td>54.0</td>\n",
       "      <td>ultimate</td>\n",
       "      <td>21.0</td>\n",
       "      <td>1000</td>\n",
       "      <td>30720</td>\n",
       "      <td>3000</td>\n",
       "      <td>70</td>\n",
       "      <td>7</td>\n",
       "      <td>0.01</td>\n",
       "      <td>0.01</td>\n",
       "      <td>30.0</td>\n",
       "      <td>70.0</td>\n",
       "    </tr>\n",
       "    <tr>\n",
       "      <td>7</td>\n",
       "      <td>1011</td>\n",
       "      <td>December</td>\n",
       "      <td>56</td>\n",
       "      <td>293.0</td>\n",
       "      <td>19630.63</td>\n",
       "      <td>61.0</td>\n",
       "      <td>ultimate</td>\n",
       "      <td>20.0</td>\n",
       "      <td>1000</td>\n",
       "      <td>30720</td>\n",
       "      <td>3000</td>\n",
       "      <td>70</td>\n",
       "      <td>7</td>\n",
       "      <td>0.01</td>\n",
       "      <td>0.01</td>\n",
       "      <td>30.0</td>\n",
       "      <td>70.0</td>\n",
       "    </tr>\n",
       "    <tr>\n",
       "      <td>8</td>\n",
       "      <td>1011</td>\n",
       "      <td>July</td>\n",
       "      <td>63</td>\n",
       "      <td>473.0</td>\n",
       "      <td>21046.41</td>\n",
       "      <td>53.0</td>\n",
       "      <td>ultimate</td>\n",
       "      <td>21.0</td>\n",
       "      <td>1000</td>\n",
       "      <td>30720</td>\n",
       "      <td>3000</td>\n",
       "      <td>70</td>\n",
       "      <td>7</td>\n",
       "      <td>0.01</td>\n",
       "      <td>0.01</td>\n",
       "      <td>30.0</td>\n",
       "      <td>70.0</td>\n",
       "    </tr>\n",
       "    <tr>\n",
       "      <td>9</td>\n",
       "      <td>1011</td>\n",
       "      <td>June</td>\n",
       "      <td>19</td>\n",
       "      <td>112.0</td>\n",
       "      <td>6685.11</td>\n",
       "      <td>21.0</td>\n",
       "      <td>ultimate</td>\n",
       "      <td>7.0</td>\n",
       "      <td>1000</td>\n",
       "      <td>30720</td>\n",
       "      <td>3000</td>\n",
       "      <td>70</td>\n",
       "      <td>7</td>\n",
       "      <td>0.01</td>\n",
       "      <td>0.01</td>\n",
       "      <td>30.0</td>\n",
       "      <td>70.0</td>\n",
       "    </tr>\n",
       "  </tbody>\n",
       "</table>\n",
       "</div>"
      ],
      "text/plain": [
       "   user_id     month  Calls Made  Minutes Spent   Mb Used  Messages Sent  \\\n",
       "0     1000  December          16          117.0   1901.47           11.0   \n",
       "1     1006  December           9           55.0  32118.82          139.0   \n",
       "2     1006  November           2           10.0   2068.37           15.0   \n",
       "3     1008  December          85          601.0  14689.33           26.0   \n",
       "4     1008  November          63          423.0  23676.72           37.0   \n",
       "5     1008   October          71          451.0  17106.99           21.0   \n",
       "6     1011    August          61          461.0  21099.37           54.0   \n",
       "7     1011  December          56          293.0  19630.63           61.0   \n",
       "8     1011      July          63          473.0  21046.41           53.0   \n",
       "9     1011      June          19          112.0   6685.11           21.0   \n",
       "\n",
       "       plan  gb_used  messages_included  mb_per_month_included  \\\n",
       "0  ultimate      2.0               1000                  30720   \n",
       "1  ultimate     32.0               1000                  30720   \n",
       "2  ultimate      3.0               1000                  30720   \n",
       "3  ultimate     15.0               1000                  30720   \n",
       "4  ultimate     24.0               1000                  30720   \n",
       "5  ultimate     17.0               1000                  30720   \n",
       "6  ultimate     21.0               1000                  30720   \n",
       "7  ultimate     20.0               1000                  30720   \n",
       "8  ultimate     21.0               1000                  30720   \n",
       "9  ultimate      7.0               1000                  30720   \n",
       "\n",
       "   minutes_included  usd_monthly_pay  usd_per_gb  usd_per_message  \\\n",
       "0              3000               70           7             0.01   \n",
       "1              3000               70           7             0.01   \n",
       "2              3000               70           7             0.01   \n",
       "3              3000               70           7             0.01   \n",
       "4              3000               70           7             0.01   \n",
       "5              3000               70           7             0.01   \n",
       "6              3000               70           7             0.01   \n",
       "7              3000               70           7             0.01   \n",
       "8              3000               70           7             0.01   \n",
       "9              3000               70           7             0.01   \n",
       "\n",
       "   usd_per_minute  gb_included  monthly_revenue  \n",
       "0            0.01         30.0             70.0  \n",
       "1            0.01         30.0             84.0  \n",
       "2            0.01         30.0             70.0  \n",
       "3            0.01         30.0             70.0  \n",
       "4            0.01         30.0             70.0  \n",
       "5            0.01         30.0             70.0  \n",
       "6            0.01         30.0             70.0  \n",
       "7            0.01         30.0             70.0  \n",
       "8            0.01         30.0             70.0  \n",
       "9            0.01         30.0             70.0  "
      ]
     },
     "execution_count": 30,
     "metadata": {},
     "output_type": "execute_result"
    }
   ],
   "source": [
    "minute_revenue = np.where(result['Minutes Spent'] > result['minutes_included'],((result['Minutes Spent']-result['minutes_included'])* result['usd_per_minute']),0)\n",
    "message_revenue = np.where(result['Messages Sent'] > result['messages_included'],((result['Messages Sent']-result['messages_included'])* result['usd_per_message']),0)\n",
    "data_revenue = np.where(result['gb_used'] > result['gb_included'],((result['gb_used']-result['gb_included'])* result['usd_per_gb']),0)\n",
    "    \n",
    "result['monthly_revenue'] = message_revenue + minute_revenue + data_revenue + result['usd_monthly_pay']\n",
    "result.head(10) \n"
   ]
  },
  {
   "cell_type": "code",
   "execution_count": 31,
   "metadata": {},
   "outputs": [
    {
     "data": {
      "text/html": [
       "<div>\n",
       "<style scoped>\n",
       "    .dataframe tbody tr th:only-of-type {\n",
       "        vertical-align: middle;\n",
       "    }\n",
       "\n",
       "    .dataframe tbody tr th {\n",
       "        vertical-align: top;\n",
       "    }\n",
       "\n",
       "    .dataframe thead th {\n",
       "        text-align: right;\n",
       "    }\n",
       "</style>\n",
       "<table border=\"1\" class=\"dataframe\">\n",
       "  <thead>\n",
       "    <tr style=\"text-align: right;\">\n",
       "      <th></th>\n",
       "      <th>user_id</th>\n",
       "      <th>month</th>\n",
       "      <th>Calls Made</th>\n",
       "      <th>Minutes Spent</th>\n",
       "      <th>Mb Used</th>\n",
       "      <th>Messages Sent</th>\n",
       "      <th>plan</th>\n",
       "      <th>gb_used</th>\n",
       "      <th>messages_included</th>\n",
       "      <th>mb_per_month_included</th>\n",
       "      <th>minutes_included</th>\n",
       "      <th>usd_monthly_pay</th>\n",
       "      <th>usd_per_gb</th>\n",
       "      <th>usd_per_message</th>\n",
       "      <th>usd_per_minute</th>\n",
       "      <th>gb_included</th>\n",
       "      <th>monthly_revenue</th>\n",
       "    </tr>\n",
       "  </thead>\n",
       "  <tbody>\n",
       "    <tr>\n",
       "      <td>2132</td>\n",
       "      <td>1447</td>\n",
       "      <td>December</td>\n",
       "      <td>85</td>\n",
       "      <td>553.0</td>\n",
       "      <td>37464.81</td>\n",
       "      <td>71.0</td>\n",
       "      <td>surf</td>\n",
       "      <td>37.0</td>\n",
       "      <td>50</td>\n",
       "      <td>15360</td>\n",
       "      <td>500</td>\n",
       "      <td>20</td>\n",
       "      <td>10</td>\n",
       "      <td>0.03</td>\n",
       "      <td>0.03</td>\n",
       "      <td>15.0</td>\n",
       "      <td>242.22</td>\n",
       "    </tr>\n",
       "    <tr>\n",
       "      <td>2133</td>\n",
       "      <td>1447</td>\n",
       "      <td>November</td>\n",
       "      <td>69</td>\n",
       "      <td>458.0</td>\n",
       "      <td>40217.22</td>\n",
       "      <td>68.0</td>\n",
       "      <td>surf</td>\n",
       "      <td>40.0</td>\n",
       "      <td>50</td>\n",
       "      <td>15360</td>\n",
       "      <td>500</td>\n",
       "      <td>20</td>\n",
       "      <td>10</td>\n",
       "      <td>0.03</td>\n",
       "      <td>0.03</td>\n",
       "      <td>15.0</td>\n",
       "      <td>270.54</td>\n",
       "    </tr>\n",
       "    <tr>\n",
       "      <td>2134</td>\n",
       "      <td>1447</td>\n",
       "      <td>October</td>\n",
       "      <td>20</td>\n",
       "      <td>165.0</td>\n",
       "      <td>6043.80</td>\n",
       "      <td>17.0</td>\n",
       "      <td>surf</td>\n",
       "      <td>6.0</td>\n",
       "      <td>50</td>\n",
       "      <td>15360</td>\n",
       "      <td>500</td>\n",
       "      <td>20</td>\n",
       "      <td>10</td>\n",
       "      <td>0.03</td>\n",
       "      <td>0.03</td>\n",
       "      <td>15.0</td>\n",
       "      <td>20.00</td>\n",
       "    </tr>\n",
       "  </tbody>\n",
       "</table>\n",
       "</div>"
      ],
      "text/plain": [
       "      user_id     month  Calls Made  Minutes Spent   Mb Used  Messages Sent  \\\n",
       "2132     1447  December          85          553.0  37464.81           71.0   \n",
       "2133     1447  November          69          458.0  40217.22           68.0   \n",
       "2134     1447   October          20          165.0   6043.80           17.0   \n",
       "\n",
       "      plan  gb_used  messages_included  mb_per_month_included  \\\n",
       "2132  surf     37.0                 50                  15360   \n",
       "2133  surf     40.0                 50                  15360   \n",
       "2134  surf      6.0                 50                  15360   \n",
       "\n",
       "      minutes_included  usd_monthly_pay  usd_per_gb  usd_per_message  \\\n",
       "2132               500               20          10             0.03   \n",
       "2133               500               20          10             0.03   \n",
       "2134               500               20          10             0.03   \n",
       "\n",
       "      usd_per_minute  gb_included  monthly_revenue  \n",
       "2132            0.03         15.0           242.22  \n",
       "2133            0.03         15.0           270.54  \n",
       "2134            0.03         15.0            20.00  "
      ]
     },
     "execution_count": 31,
     "metadata": {},
     "output_type": "execute_result"
    }
   ],
   "source": [
    "#Reviewer's code\n",
    "result[result['user_id'] == 1447]\n"
   ]
  },
  {
   "cell_type": "markdown",
   "metadata": {},
   "source": [
    "**Validating the Monthly_Revenue values Manually**"
   ]
  },
  {
   "cell_type": "markdown",
   "metadata": {},
   "source": [
    "- Taking the last four rows of the dataset"
   ]
  },
  {
   "cell_type": "code",
   "execution_count": 32,
   "metadata": {
    "scrolled": true
   },
   "outputs": [
    {
     "data": {
      "text/html": [
       "<div>\n",
       "<style scoped>\n",
       "    .dataframe tbody tr th:only-of-type {\n",
       "        vertical-align: middle;\n",
       "    }\n",
       "\n",
       "    .dataframe tbody tr th {\n",
       "        vertical-align: top;\n",
       "    }\n",
       "\n",
       "    .dataframe thead th {\n",
       "        text-align: right;\n",
       "    }\n",
       "</style>\n",
       "<table border=\"1\" class=\"dataframe\">\n",
       "  <thead>\n",
       "    <tr style=\"text-align: right;\">\n",
       "      <th></th>\n",
       "      <th>user_id</th>\n",
       "      <th>month</th>\n",
       "      <th>Calls Made</th>\n",
       "      <th>Minutes Spent</th>\n",
       "      <th>Mb Used</th>\n",
       "      <th>Messages Sent</th>\n",
       "      <th>plan</th>\n",
       "      <th>gb_used</th>\n",
       "      <th>messages_included</th>\n",
       "      <th>mb_per_month_included</th>\n",
       "      <th>minutes_included</th>\n",
       "      <th>usd_monthly_pay</th>\n",
       "      <th>usd_per_gb</th>\n",
       "      <th>usd_per_message</th>\n",
       "      <th>usd_per_minute</th>\n",
       "      <th>gb_included</th>\n",
       "      <th>monthly_revenue</th>\n",
       "    </tr>\n",
       "  </thead>\n",
       "  <tbody>\n",
       "    <tr>\n",
       "      <td>2254</td>\n",
       "      <td>1499</td>\n",
       "      <td>December</td>\n",
       "      <td>65</td>\n",
       "      <td>469.0</td>\n",
       "      <td>22059.21</td>\n",
       "      <td>0.0</td>\n",
       "      <td>surf</td>\n",
       "      <td>22.0</td>\n",
       "      <td>50</td>\n",
       "      <td>15360</td>\n",
       "      <td>500</td>\n",
       "      <td>20</td>\n",
       "      <td>10</td>\n",
       "      <td>0.03</td>\n",
       "      <td>0.03</td>\n",
       "      <td>15.0</td>\n",
       "      <td>90.0</td>\n",
       "    </tr>\n",
       "    <tr>\n",
       "      <td>2255</td>\n",
       "      <td>1499</td>\n",
       "      <td>November</td>\n",
       "      <td>45</td>\n",
       "      <td>289.0</td>\n",
       "      <td>16813.83</td>\n",
       "      <td>0.0</td>\n",
       "      <td>surf</td>\n",
       "      <td>17.0</td>\n",
       "      <td>50</td>\n",
       "      <td>15360</td>\n",
       "      <td>500</td>\n",
       "      <td>20</td>\n",
       "      <td>10</td>\n",
       "      <td>0.03</td>\n",
       "      <td>0.03</td>\n",
       "      <td>15.0</td>\n",
       "      <td>40.0</td>\n",
       "    </tr>\n",
       "    <tr>\n",
       "      <td>2256</td>\n",
       "      <td>1499</td>\n",
       "      <td>October</td>\n",
       "      <td>53</td>\n",
       "      <td>364.0</td>\n",
       "      <td>19492.43</td>\n",
       "      <td>0.0</td>\n",
       "      <td>surf</td>\n",
       "      <td>20.0</td>\n",
       "      <td>50</td>\n",
       "      <td>15360</td>\n",
       "      <td>500</td>\n",
       "      <td>20</td>\n",
       "      <td>10</td>\n",
       "      <td>0.03</td>\n",
       "      <td>0.03</td>\n",
       "      <td>15.0</td>\n",
       "      <td>70.0</td>\n",
       "    </tr>\n",
       "    <tr>\n",
       "      <td>2257</td>\n",
       "      <td>1499</td>\n",
       "      <td>September</td>\n",
       "      <td>41</td>\n",
       "      <td>331.0</td>\n",
       "      <td>12984.76</td>\n",
       "      <td>0.0</td>\n",
       "      <td>surf</td>\n",
       "      <td>13.0</td>\n",
       "      <td>50</td>\n",
       "      <td>15360</td>\n",
       "      <td>500</td>\n",
       "      <td>20</td>\n",
       "      <td>10</td>\n",
       "      <td>0.03</td>\n",
       "      <td>0.03</td>\n",
       "      <td>15.0</td>\n",
       "      <td>20.0</td>\n",
       "    </tr>\n",
       "  </tbody>\n",
       "</table>\n",
       "</div>"
      ],
      "text/plain": [
       "      user_id      month  Calls Made  Minutes Spent   Mb Used  Messages Sent  \\\n",
       "2254     1499   December          65          469.0  22059.21            0.0   \n",
       "2255     1499   November          45          289.0  16813.83            0.0   \n",
       "2256     1499    October          53          364.0  19492.43            0.0   \n",
       "2257     1499  September          41          331.0  12984.76            0.0   \n",
       "\n",
       "      plan  gb_used  messages_included  mb_per_month_included  \\\n",
       "2254  surf     22.0                 50                  15360   \n",
       "2255  surf     17.0                 50                  15360   \n",
       "2256  surf     20.0                 50                  15360   \n",
       "2257  surf     13.0                 50                  15360   \n",
       "\n",
       "      minutes_included  usd_monthly_pay  usd_per_gb  usd_per_message  \\\n",
       "2254               500               20          10             0.03   \n",
       "2255               500               20          10             0.03   \n",
       "2256               500               20          10             0.03   \n",
       "2257               500               20          10             0.03   \n",
       "\n",
       "      usd_per_minute  gb_included  monthly_revenue  \n",
       "2254            0.03         15.0             90.0  \n",
       "2255            0.03         15.0             40.0  \n",
       "2256            0.03         15.0             70.0  \n",
       "2257            0.03         15.0             20.0  "
      ]
     },
     "execution_count": 32,
     "metadata": {},
     "output_type": "execute_result"
    }
   ],
   "source": [
    "result.tail(4)"
   ]
  },
  {
   "cell_type": "markdown",
   "metadata": {},
   "source": [
    "**We calcualted the Monthly_Revenue on the Basis of this Rule**:"
   ]
  },
  {
   "cell_type": "markdown",
   "metadata": {},
   "source": [
    "Monthly_revenue = message_revenue + minute_revenue + data_revenue + result['usd_monthly_pay']\n",
    "\n",
    "**Surf: Monthly charge: 20 (in USD)**\n",
    "- 500 monthly minutes, 50 texts, and 15 GB of data\n",
    "- After exceeding the package limits:\n",
    "  - 1 minute: 3 cents\n",
    "  - 1 text message: 3 cents\n",
    "  - 1 GB of data: 10 (in USD)\n",
    "  \n",
    "**Ultimate:Monthly charge: 70 (in USD)**\n",
    "- 3000 monthly minutes, 1000 text messages, and 30 GB of data\n",
    "- After exceeding the package limits:\n",
    "  - 1 minute: 1 cent\n",
    "  - 1 text message: 1 cent\n",
    "  - 1 GB of data: 7 (in USD)"
   ]
  },
  {
   "cell_type": "code",
   "execution_count": 33,
   "metadata": {},
   "outputs": [
    {
     "name": "stdout",
     "output_type": "stream",
     "text": [
      "For user_id 1499\n",
      "September Revenue: 20\n",
      "\n",
      "For user_id 1499\n",
      "October Revenue: 70\n",
      "\n",
      "For user_id 1499\n",
      "November Revenue: 40\n",
      "\n",
      "For user_id 1499\n",
      "December Revenue: 90\n"
     ]
    }
   ],
   "source": [
    "print(\"For user_id\",\"1499\")\n",
    "print(\"September Revenue:\",(20+0))\n",
    "print()\n",
    "print(\"For user_id\",\"1499\")\n",
    "print(\"October Revenue:\",(20+ ((20-15)*10)))\n",
    "print()\n",
    "print(\"For user_id\",\"1499\")\n",
    "print(\"November Revenue:\",(20+ ((17-15)*10)))\n",
    "print()\n",
    "print(\"For user_id\",\"1499\")\n",
    "print(\"December Revenue:\",20+ ((22-15)*10))"
   ]
  },
  {
   "cell_type": "markdown",
   "metadata": {},
   "source": [
    "- I have same values from manual calculation and automated calculation, Therefore I confirm that Monthly_Revenue calcualtion is correct"
   ]
  },
  {
   "cell_type": "markdown",
   "metadata": {},
   "source": [
    "**Conclusion**\n",
    "\n",
    "- Changed the data-types of date columns from several tables:**reg_date** and **churn_date** from users table,**call_date** from calls table, **message_date** from messages table, **session_date** from internet table.\n",
    "- Added **month** column in **calls**,**messages**, and **internet** table.\n",
    "- Calculated calls_made, messages_sent, minutes_spent, gb_used and merged it to a new dataframe along with user_id and month.\n",
    "- Calcualted monthly revenue for each users and added to the table and validated the results with manual calculation.\n"
   ]
  },
  {
   "cell_type": "markdown",
   "metadata": {},
   "source": [
    "# Step 3: Analyzing the Data"
   ]
  },
  {
   "cell_type": "markdown",
   "metadata": {},
   "source": [
    "Observing the minutes, texts, and volume of data the users of each plan require per month along with the Monthly Revenue from each plans"
   ]
  },
  {
   "cell_type": "code",
   "execution_count": 34,
   "metadata": {
    "scrolled": true
   },
   "outputs": [
    {
     "data": {
      "text/html": [
       "<div>\n",
       "<style scoped>\n",
       "    .dataframe tbody tr th:only-of-type {\n",
       "        vertical-align: middle;\n",
       "    }\n",
       "\n",
       "    .dataframe tbody tr th {\n",
       "        vertical-align: top;\n",
       "    }\n",
       "\n",
       "    .dataframe thead th {\n",
       "        text-align: right;\n",
       "    }\n",
       "</style>\n",
       "<table border=\"1\" class=\"dataframe\">\n",
       "  <thead>\n",
       "    <tr style=\"text-align: right;\">\n",
       "      <th></th>\n",
       "      <th></th>\n",
       "      <th>Messages Sent</th>\n",
       "      <th>Minutes Spent</th>\n",
       "      <th>gb_used</th>\n",
       "      <th>monthly_revenue</th>\n",
       "    </tr>\n",
       "    <tr>\n",
       "      <th>month</th>\n",
       "      <th>plan</th>\n",
       "      <th></th>\n",
       "      <th></th>\n",
       "      <th></th>\n",
       "      <th></th>\n",
       "    </tr>\n",
       "  </thead>\n",
       "  <tbody>\n",
       "    <tr>\n",
       "      <td>December</td>\n",
       "      <td>surf</td>\n",
       "      <td>11884.0</td>\n",
       "      <td>142459.0</td>\n",
       "      <td>5627.0</td>\n",
       "      <td>21372.00</td>\n",
       "    </tr>\n",
       "    <tr>\n",
       "      <td>November</td>\n",
       "      <td>surf</td>\n",
       "      <td>8896.0</td>\n",
       "      <td>113219.0</td>\n",
       "      <td>4538.0</td>\n",
       "      <td>15718.86</td>\n",
       "    </tr>\n",
       "    <tr>\n",
       "      <td>October</td>\n",
       "      <td>surf</td>\n",
       "      <td>7718.0</td>\n",
       "      <td>96270.0</td>\n",
       "      <td>4024.0</td>\n",
       "      <td>14944.92</td>\n",
       "    </tr>\n",
       "    <tr>\n",
       "      <td>December</td>\n",
       "      <td>ultimate</td>\n",
       "      <td>6718.0</td>\n",
       "      <td>65466.0</td>\n",
       "      <td>2741.0</td>\n",
       "      <td>10885.00</td>\n",
       "    </tr>\n",
       "    <tr>\n",
       "      <td>September</td>\n",
       "      <td>surf</td>\n",
       "      <td>5802.0</td>\n",
       "      <td>75942.0</td>\n",
       "      <td>3160.0</td>\n",
       "      <td>10851.55</td>\n",
       "    </tr>\n",
       "    <tr>\n",
       "      <td>August</td>\n",
       "      <td>surf</td>\n",
       "      <td>4588.0</td>\n",
       "      <td>62801.0</td>\n",
       "      <td>2696.0</td>\n",
       "      <td>10179.43</td>\n",
       "    </tr>\n",
       "    <tr>\n",
       "      <td>November</td>\n",
       "      <td>ultimate</td>\n",
       "      <td>4861.0</td>\n",
       "      <td>53460.0</td>\n",
       "      <td>2153.0</td>\n",
       "      <td>9037.00</td>\n",
       "    </tr>\n",
       "    <tr>\n",
       "      <td>October</td>\n",
       "      <td>ultimate</td>\n",
       "      <td>4179.0</td>\n",
       "      <td>45124.0</td>\n",
       "      <td>1878.0</td>\n",
       "      <td>7595.00</td>\n",
       "    </tr>\n",
       "    <tr>\n",
       "      <td>July</td>\n",
       "      <td>surf</td>\n",
       "      <td>3243.0</td>\n",
       "      <td>51425.0</td>\n",
       "      <td>2025.0</td>\n",
       "      <td>7489.41</td>\n",
       "    </tr>\n",
       "    <tr>\n",
       "      <td>September</td>\n",
       "      <td>ultimate</td>\n",
       "      <td>3259.0</td>\n",
       "      <td>35585.0</td>\n",
       "      <td>1463.0</td>\n",
       "      <td>6195.00</td>\n",
       "    </tr>\n",
       "    <tr>\n",
       "      <td>August</td>\n",
       "      <td>ultimate</td>\n",
       "      <td>2732.0</td>\n",
       "      <td>28243.0</td>\n",
       "      <td>1267.0</td>\n",
       "      <td>5173.00</td>\n",
       "    </tr>\n",
       "    <tr>\n",
       "      <td>June</td>\n",
       "      <td>surf</td>\n",
       "      <td>2427.0</td>\n",
       "      <td>39546.0</td>\n",
       "      <td>1487.0</td>\n",
       "      <td>4726.71</td>\n",
       "    </tr>\n",
       "    <tr>\n",
       "      <td>July</td>\n",
       "      <td>ultimate</td>\n",
       "      <td>1937.0</td>\n",
       "      <td>23852.0</td>\n",
       "      <td>973.0</td>\n",
       "      <td>4242.00</td>\n",
       "    </tr>\n",
       "    <tr>\n",
       "      <td>May</td>\n",
       "      <td>surf</td>\n",
       "      <td>1829.0</td>\n",
       "      <td>29070.0</td>\n",
       "      <td>1078.0</td>\n",
       "      <td>3597.49</td>\n",
       "    </tr>\n",
       "    <tr>\n",
       "      <td>June</td>\n",
       "      <td>ultimate</td>\n",
       "      <td>1374.0</td>\n",
       "      <td>16467.0</td>\n",
       "      <td>720.0</td>\n",
       "      <td>3227.00</td>\n",
       "    </tr>\n",
       "    <tr>\n",
       "      <td>May</td>\n",
       "      <td>ultimate</td>\n",
       "      <td>931.0</td>\n",
       "      <td>11142.0</td>\n",
       "      <td>489.0</td>\n",
       "      <td>2051.00</td>\n",
       "    </tr>\n",
       "    <tr>\n",
       "      <td rowspan=\"2\" valign=\"top\">April</td>\n",
       "      <td>surf</td>\n",
       "      <td>870.0</td>\n",
       "      <td>16646.0</td>\n",
       "      <td>611.0</td>\n",
       "      <td>2022.93</td>\n",
       "    </tr>\n",
       "    <tr>\n",
       "      <td>ultimate</td>\n",
       "      <td>463.0</td>\n",
       "      <td>6659.0</td>\n",
       "      <td>343.0</td>\n",
       "      <td>1533.00</td>\n",
       "    </tr>\n",
       "    <tr>\n",
       "      <td rowspan=\"2\" valign=\"top\">March</td>\n",
       "      <td>surf</td>\n",
       "      <td>351.0</td>\n",
       "      <td>7163.0</td>\n",
       "      <td>312.0</td>\n",
       "      <td>1053.23</td>\n",
       "    </tr>\n",
       "    <tr>\n",
       "      <td>ultimate</td>\n",
       "      <td>243.0</td>\n",
       "      <td>3434.0</td>\n",
       "      <td>221.0</td>\n",
       "      <td>896.00</td>\n",
       "    </tr>\n",
       "    <tr>\n",
       "      <td rowspan=\"2\" valign=\"top\">February</td>\n",
       "      <td>ultimate</td>\n",
       "      <td>139.0</td>\n",
       "      <td>2663.0</td>\n",
       "      <td>108.0</td>\n",
       "      <td>420.00</td>\n",
       "    </tr>\n",
       "    <tr>\n",
       "      <td>surf</td>\n",
       "      <td>108.0</td>\n",
       "      <td>2532.0</td>\n",
       "      <td>110.0</td>\n",
       "      <td>308.34</td>\n",
       "    </tr>\n",
       "    <tr>\n",
       "      <td rowspan=\"2\" valign=\"top\">January</td>\n",
       "      <td>ultimate</td>\n",
       "      <td>62.0</td>\n",
       "      <td>735.0</td>\n",
       "      <td>29.0</td>\n",
       "      <td>280.00</td>\n",
       "    </tr>\n",
       "    <tr>\n",
       "      <td>surf</td>\n",
       "      <td>21.0</td>\n",
       "      <td>386.0</td>\n",
       "      <td>10.0</td>\n",
       "      <td>40.00</td>\n",
       "    </tr>\n",
       "  </tbody>\n",
       "</table>\n",
       "</div>"
      ],
      "text/plain": [
       "                    Messages Sent  Minutes Spent  gb_used  monthly_revenue\n",
       "month     plan                                                            \n",
       "December  surf            11884.0       142459.0   5627.0         21372.00\n",
       "November  surf             8896.0       113219.0   4538.0         15718.86\n",
       "October   surf             7718.0        96270.0   4024.0         14944.92\n",
       "December  ultimate         6718.0        65466.0   2741.0         10885.00\n",
       "September surf             5802.0        75942.0   3160.0         10851.55\n",
       "August    surf             4588.0        62801.0   2696.0         10179.43\n",
       "November  ultimate         4861.0        53460.0   2153.0          9037.00\n",
       "October   ultimate         4179.0        45124.0   1878.0          7595.00\n",
       "July      surf             3243.0        51425.0   2025.0          7489.41\n",
       "September ultimate         3259.0        35585.0   1463.0          6195.00\n",
       "August    ultimate         2732.0        28243.0   1267.0          5173.00\n",
       "June      surf             2427.0        39546.0   1487.0          4726.71\n",
       "July      ultimate         1937.0        23852.0    973.0          4242.00\n",
       "May       surf             1829.0        29070.0   1078.0          3597.49\n",
       "June      ultimate         1374.0        16467.0    720.0          3227.00\n",
       "May       ultimate          931.0        11142.0    489.0          2051.00\n",
       "April     surf              870.0        16646.0    611.0          2022.93\n",
       "          ultimate          463.0         6659.0    343.0          1533.00\n",
       "March     surf              351.0         7163.0    312.0          1053.23\n",
       "          ultimate          243.0         3434.0    221.0           896.00\n",
       "February  ultimate          139.0         2663.0    108.0           420.00\n",
       "          surf              108.0         2532.0    110.0           308.34\n",
       "January   ultimate           62.0          735.0     29.0           280.00\n",
       "          surf               21.0          386.0     10.0            40.00"
      ]
     },
     "execution_count": 34,
     "metadata": {},
     "output_type": "execute_result"
    }
   ],
   "source": [
    "User_required_service = pd.pivot_table(result, values=['gb_used','Messages Sent','Minutes Spent','monthly_revenue'], index = ['month','plan'], aggfunc=np.sum)\n",
    "User_required_service.sort_values(by='monthly_revenue',ascending=False)"
   ]
  },
  {
   "cell_type": "markdown",
   "metadata": {},
   "source": [
    "- We can see customers using **surf** plan uses more data, call minutes and text service and hence We generate more revenue from customers who uses Surf plan.\n",
    "- There is high traffic of service usuage in December with Surf Plan."
   ]
  },
  {
   "cell_type": "markdown",
   "metadata": {},
   "source": [
    "**Querying Customers Data who uses Surf Plan**"
   ]
  },
  {
   "cell_type": "code",
   "execution_count": 35,
   "metadata": {
    "scrolled": true
   },
   "outputs": [
    {
     "data": {
      "text/html": [
       "<div>\n",
       "<style scoped>\n",
       "    .dataframe tbody tr th:only-of-type {\n",
       "        vertical-align: middle;\n",
       "    }\n",
       "\n",
       "    .dataframe tbody tr th {\n",
       "        vertical-align: top;\n",
       "    }\n",
       "\n",
       "    .dataframe thead th {\n",
       "        text-align: right;\n",
       "    }\n",
       "</style>\n",
       "<table border=\"1\" class=\"dataframe\">\n",
       "  <thead>\n",
       "    <tr style=\"text-align: right;\">\n",
       "      <th></th>\n",
       "      <th>user_id</th>\n",
       "      <th>Messages Sent</th>\n",
       "      <th>month</th>\n",
       "      <th>Minutes Spent</th>\n",
       "      <th>gb_used</th>\n",
       "      <th>monthly_revenue</th>\n",
       "    </tr>\n",
       "  </thead>\n",
       "  <tbody>\n",
       "    <tr>\n",
       "      <td>0</td>\n",
       "      <td>1001</td>\n",
       "      <td>30.0</td>\n",
       "      <td>August</td>\n",
       "      <td>172.0</td>\n",
       "      <td>7.0</td>\n",
       "      <td>20.00</td>\n",
       "    </tr>\n",
       "    <tr>\n",
       "      <td>1</td>\n",
       "      <td>1001</td>\n",
       "      <td>44.0</td>\n",
       "      <td>December</td>\n",
       "      <td>393.0</td>\n",
       "      <td>19.0</td>\n",
       "      <td>60.00</td>\n",
       "    </tr>\n",
       "    <tr>\n",
       "      <td>2</td>\n",
       "      <td>1001</td>\n",
       "      <td>36.0</td>\n",
       "      <td>November</td>\n",
       "      <td>405.0</td>\n",
       "      <td>19.0</td>\n",
       "      <td>60.00</td>\n",
       "    </tr>\n",
       "    <tr>\n",
       "      <td>3</td>\n",
       "      <td>1001</td>\n",
       "      <td>53.0</td>\n",
       "      <td>October</td>\n",
       "      <td>375.0</td>\n",
       "      <td>22.0</td>\n",
       "      <td>90.09</td>\n",
       "    </tr>\n",
       "    <tr>\n",
       "      <td>4</td>\n",
       "      <td>1001</td>\n",
       "      <td>44.0</td>\n",
       "      <td>September</td>\n",
       "      <td>298.0</td>\n",
       "      <td>14.0</td>\n",
       "      <td>20.00</td>\n",
       "    </tr>\n",
       "  </tbody>\n",
       "</table>\n",
       "</div>"
      ],
      "text/plain": [
       "   user_id  Messages Sent      month  Minutes Spent  gb_used  monthly_revenue\n",
       "0     1001           30.0     August          172.0      7.0            20.00\n",
       "1     1001           44.0   December          393.0     19.0            60.00\n",
       "2     1001           36.0   November          405.0     19.0            60.00\n",
       "3     1001           53.0    October          375.0     22.0            90.09\n",
       "4     1001           44.0  September          298.0     14.0            20.00"
      ]
     },
     "execution_count": 35,
     "metadata": {},
     "output_type": "execute_result"
    }
   ],
   "source": [
    "surf_query = result.query('plan==\"surf\"').reset_index()\n",
    "surf = surf_query[['user_id','Messages Sent','month','Minutes Spent','gb_used','monthly_revenue']]\n",
    "surf.head()"
   ]
  },
  {
   "cell_type": "markdown",
   "metadata": {},
   "source": [
    "**Querying Customers Data who uses Surf Plan**"
   ]
  },
  {
   "cell_type": "code",
   "execution_count": 36,
   "metadata": {
    "scrolled": true
   },
   "outputs": [
    {
     "data": {
      "text/html": [
       "<div>\n",
       "<style scoped>\n",
       "    .dataframe tbody tr th:only-of-type {\n",
       "        vertical-align: middle;\n",
       "    }\n",
       "\n",
       "    .dataframe tbody tr th {\n",
       "        vertical-align: top;\n",
       "    }\n",
       "\n",
       "    .dataframe thead th {\n",
       "        text-align: right;\n",
       "    }\n",
       "</style>\n",
       "<table border=\"1\" class=\"dataframe\">\n",
       "  <thead>\n",
       "    <tr style=\"text-align: right;\">\n",
       "      <th></th>\n",
       "      <th>user_id</th>\n",
       "      <th>Messages Sent</th>\n",
       "      <th>month</th>\n",
       "      <th>Minutes Spent</th>\n",
       "      <th>gb_used</th>\n",
       "      <th>monthly_revenue</th>\n",
       "    </tr>\n",
       "  </thead>\n",
       "  <tbody>\n",
       "    <tr>\n",
       "      <td>0</td>\n",
       "      <td>1000</td>\n",
       "      <td>11.0</td>\n",
       "      <td>December</td>\n",
       "      <td>117.0</td>\n",
       "      <td>2.0</td>\n",
       "      <td>70.0</td>\n",
       "    </tr>\n",
       "    <tr>\n",
       "      <td>1</td>\n",
       "      <td>1006</td>\n",
       "      <td>139.0</td>\n",
       "      <td>December</td>\n",
       "      <td>55.0</td>\n",
       "      <td>32.0</td>\n",
       "      <td>84.0</td>\n",
       "    </tr>\n",
       "    <tr>\n",
       "      <td>2</td>\n",
       "      <td>1006</td>\n",
       "      <td>15.0</td>\n",
       "      <td>November</td>\n",
       "      <td>10.0</td>\n",
       "      <td>3.0</td>\n",
       "      <td>70.0</td>\n",
       "    </tr>\n",
       "    <tr>\n",
       "      <td>3</td>\n",
       "      <td>1008</td>\n",
       "      <td>26.0</td>\n",
       "      <td>December</td>\n",
       "      <td>601.0</td>\n",
       "      <td>15.0</td>\n",
       "      <td>70.0</td>\n",
       "    </tr>\n",
       "    <tr>\n",
       "      <td>4</td>\n",
       "      <td>1008</td>\n",
       "      <td>37.0</td>\n",
       "      <td>November</td>\n",
       "      <td>423.0</td>\n",
       "      <td>24.0</td>\n",
       "      <td>70.0</td>\n",
       "    </tr>\n",
       "  </tbody>\n",
       "</table>\n",
       "</div>"
      ],
      "text/plain": [
       "   user_id  Messages Sent     month  Minutes Spent  gb_used  monthly_revenue\n",
       "0     1000           11.0  December          117.0      2.0             70.0\n",
       "1     1006          139.0  December           55.0     32.0             84.0\n",
       "2     1006           15.0  November           10.0      3.0             70.0\n",
       "3     1008           26.0  December          601.0     15.0             70.0\n",
       "4     1008           37.0  November          423.0     24.0             70.0"
      ]
     },
     "execution_count": 36,
     "metadata": {},
     "output_type": "execute_result"
    }
   ],
   "source": [
    "ultimate_query = result.query('plan==\"ultimate\"').reset_index()\n",
    "ultimate = ultimate_query[['user_id','Messages Sent','month','Minutes Spent','gb_used','monthly_revenue']]\n",
    "ultimate.head()"
   ]
  },
  {
   "cell_type": "markdown",
   "metadata": {},
   "source": [
    "### Observing the Data Distribution on Messages, Minutes, and Data Usage on Each Plan"
   ]
  },
  {
   "cell_type": "markdown",
   "metadata": {},
   "source": [
    "**Messages Sent per Month**"
   ]
  },
  {
   "cell_type": "code",
   "execution_count": 37,
   "metadata": {},
   "outputs": [
    {
     "data": {
      "text/plain": [
       "<matplotlib.legend.Legend at 0x7fa6910ee2d0>"
      ]
     },
     "execution_count": 37,
     "metadata": {},
     "output_type": "execute_result"
    },
    {
     "data": {
      "image/png": "[encoded data removed]",
      "text/plain": [
       "<Figure size 576x576 with 1 Axes>"
      ]
     },
     "metadata": {
      "needs_background": "light"
     },
     "output_type": "display_data"
    }
   ],
   "source": [
    "plt.figure(figsize=(8,8))\n",
    "plt.hist(surf['Messages Sent'], bins=100, alpha=0.5,color=\"red\", label=\"Surf\")\n",
    "plt.hist(ultimate['Messages Sent'], bins=100, alpha=0.5,color=\"green\", label=\"Ultimate\")\n",
    "plt.xlabel(\"Customers\", size=14)\n",
    "plt.ylabel(\"Number of Messages Sent\", size=14)\n",
    "plt.title(\"Messages Sent in Each Plan\", size=16)\n",
    "plt.legend(loc='upper right')\n"
   ]
  },
  {
   "cell_type": "markdown",
   "metadata": {},
   "source": [
    "- The Monthly Messages service used by customers with both Ultimate and Surf plan shows **Right-Skewed distribution** which can also be interpreted as the **Mean > Median** for this data.\n",
    "- Customers using Surf Plan uses messages service more than the customers using Ultimate plan.\n"
   ]
  },
  {
   "cell_type": "markdown",
   "metadata": {},
   "source": [
    "**Minutes Spent Per Month**"
   ]
  },
  {
   "cell_type": "code",
   "execution_count": 38,
   "metadata": {},
   "outputs": [
    {
     "data": {
      "text/plain": [
       "<matplotlib.legend.Legend at 0x7fa690e2d990>"
      ]
     },
     "execution_count": 38,
     "metadata": {},
     "output_type": "execute_result"
    },
    {
     "data": {
      "image/png": "[encoded data removed]",
      "text/plain": [
       "<Figure size 576x576 with 1 Axes>"
      ]
     },
     "metadata": {
      "needs_background": "light"
     },
     "output_type": "display_data"
    }
   ],
   "source": [
    "plt.figure(figsize=(8,8))\n",
    "plt.hist(surf['Minutes Spent'], alpha=0.5, bins=100,color=\"blue\", label=\"Surf\")\n",
    "plt.hist(ultimate['Minutes Spent'], bins=100, alpha=0.5,color=\"yellow\", label=\"Ultimate\")\n",
    "plt.xlabel(\"Customers\", size=14)\n",
    "plt.ylabel(\"Minutes Spent\", size=14)\n",
    "plt.title(\" Monthly Minutes Spent in Each Plan\", size=16)\n",
    "plt.legend(loc='upper right')"
   ]
  },
  {
   "cell_type": "markdown",
   "metadata": {},
   "source": [
    "- The Monthly Minutes spent by customers with both Ultimate and Surf plan shows **Right-Skewed distribution** which can also be interpreted as the **Mean is greater than Median** for this data.\n",
    "- Customers using Surf Plan spends more time on calls than the customers using Ultimate plan."
   ]
  },
  {
   "cell_type": "markdown",
   "metadata": {},
   "source": [
    "**Volume of Data Used Per Month**"
   ]
  },
  {
   "cell_type": "code",
   "execution_count": 39,
   "metadata": {},
   "outputs": [
    {
     "data": {
      "text/plain": [
       "<matplotlib.legend.Legend at 0x7fa6910ee310>"
      ]
     },
     "execution_count": 39,
     "metadata": {},
     "output_type": "execute_result"
    },
    {
     "data": {
      "image/png": "[encoded data removed]",
      "text/plain": [
       "<Figure size 576x432 with 1 Axes>"
      ]
     },
     "metadata": {
      "needs_background": "light"
     },
     "output_type": "display_data"
    }
   ],
   "source": [
    "plt.figure(figsize=(8,6))\n",
    "plt.hist(surf['gb_used'], bins=100, alpha=0.5,color=\"pink\", label=\"Surf\")\n",
    "plt.hist(ultimate['gb_used'], bins=100, alpha=0.5, color=\"blue\", label=\"Ultimate\")\n",
    "plt.xlabel(\"Customers\", size=14)\n",
    "plt.ylabel(\"Data Used in Gigabytes\", size=14)\n",
    "plt.title(\" Monthly Data Volume Used in Each Plan\", size=16)\n",
    "plt.legend(loc='upper right')"
   ]
  },
  {
   "cell_type": "markdown",
   "metadata": {},
   "source": [
    "- The volume of data consumption on each plans also shows **Right-Skewed distribution** which can also be interpreted as the **mean is greater than median** for this data.\n",
    "- Customers using Surf Plan uses more volume of data than the customers using Ultimate plan."
   ]
  },
  {
   "cell_type": "markdown",
   "metadata": {},
   "source": [
    "**Monthly Revenue from Each Plan**"
   ]
  },
  {
   "cell_type": "code",
   "execution_count": 40,
   "metadata": {},
   "outputs": [
    {
     "data": {
      "text/plain": [
       "<matplotlib.legend.Legend at 0x7fa687f8cd90>"
      ]
     },
     "execution_count": 40,
     "metadata": {},
     "output_type": "execute_result"
    },
    {
     "data": {
      "image/png": "[encoded data removed]",
      "text/plain": [
       "<Figure size 576x576 with 1 Axes>"
      ]
     },
     "metadata": {
      "needs_background": "light"
     },
     "output_type": "display_data"
    }
   ],
   "source": [
    "plt.figure(figsize=(8,8))\n",
    "plt.hist(surf['monthly_revenue'], alpha=0.5,color=\"pink\", label=\"Surf\")\n",
    "plt.hist(ultimate['monthly_revenue'], alpha=0.5, color=\"blue\", label=\"Ultimate\")\n",
    "plt.xlabel(\"Customers\", size=14)\n",
    "plt.ylabel(\"Monthly Revenue in (USD)\", size=14)\n",
    "plt.title(\"Monthly Revenue Distribution from Customers using Surf Plan\", size=16)\n",
    "plt.legend(loc='upper right')"
   ]
  },
  {
   "cell_type": "markdown",
   "metadata": {},
   "source": [
    "- This is also a **Right_Skewed** distribution. This data distribution looks quiet interesting.Customers using Surf plan brings comparatively huge amount of revenue than customers using Ultimate plan."
   ]
  },
  {
   "cell_type": "markdown",
   "metadata": {},
   "source": [
    "### Statistical Summary of Data"
   ]
  },
  {
   "cell_type": "markdown",
   "metadata": {},
   "source": [
    "**Mean, Variance and Standard Deviation with Surf Plan Data**"
   ]
  },
  {
   "cell_type": "code",
   "execution_count": 41,
   "metadata": {},
   "outputs": [
    {
     "name": "stdout",
     "output_type": "stream",
     "text": [
      "Mean for Surf data\n",
      "Messages Sent       30.897735\n",
      "Minutes Spent      412.594822\n",
      "gb_used             16.620065\n",
      "monthly_revenue     59.744252\n",
      "dtype: float64\n",
      "\n",
      "Variance for Surf data\n",
      "Messages Sent       1131.216726\n",
      "Minutes Spent      46972.581462\n",
      "gb_used               59.064063\n",
      "monthly_revenue     2849.540168\n",
      "dtype: float64\n",
      "\n",
      "Standard Deviation for Surf data\n",
      "Messages Sent       33.633565\n",
      "Minutes Spent      216.731589\n",
      "gb_used              7.685315\n",
      "monthly_revenue     53.381084\n",
      "dtype: float64\n"
     ]
    }
   ],
   "source": [
    "stats_surf=surf[['Messages Sent','Minutes Spent','gb_used','monthly_revenue']]\n",
    "mean_surf1= np.mean(stats_surf)\n",
    "print(\"Mean for Surf data\")\n",
    "print(mean_surf1)\n",
    "print()\n",
    "\n",
    "variance_surf= np.var(stats_surf)\n",
    "print(\"Variance for Surf data\")\n",
    "print(variance_surf)\n",
    "print()\n",
    "\n",
    "sd_surf = np.std(stats_surf)\n",
    "print(\"Standard Deviation for Surf data\")\n",
    "print(sd_surf)"
   ]
  },
  {
   "cell_type": "code",
   "execution_count": 42,
   "metadata": {},
   "outputs": [
    {
     "name": "stdout",
     "output_type": "stream",
     "text": [
      "Mean for Ultimate Data\n",
      "Messages Sent       37.725105\n",
      "Minutes Spent      410.701262\n",
      "gb_used             17.370266\n",
      "monthly_revenue     72.277700\n",
      "dtype: float64\n",
      "\n",
      "Variance for Ultimate Data\n",
      "Messages Sent       1208.446172\n",
      "Minutes Spent      50446.417067\n",
      "gb_used               57.377629\n",
      "monthly_revenue      128.685856\n",
      "dtype: float64\n",
      "\n",
      "Standard Deviation for Ultimate Data\n",
      "Messages Sent       34.762712\n",
      "Minutes Spent      224.602798\n",
      "gb_used              7.574802\n",
      "monthly_revenue     11.343979\n",
      "dtype: float64\n"
     ]
    }
   ],
   "source": [
    "stats_ultimate=ultimate[['Messages Sent','Minutes Spent','gb_used','monthly_revenue']]\n",
    "\n",
    "mean_ultimate = np.mean(stats_ultimate)\n",
    "print(\"Mean for Ultimate Data\")\n",
    "print(mean_ultimate)\n",
    "print()\n",
    "\n",
    "variance_ultimate = np.var(stats_ultimate)\n",
    "print(\"Variance for Ultimate Data\")\n",
    "print(variance_ultimate)\n",
    "print()\n",
    "\n",
    "\n",
    "sd_ultimate = np.std(stats_ultimate)\n",
    "print(\"Standard Deviation for Ultimate Data\")\n",
    "print(sd_ultimate)"
   ]
  },
  {
   "cell_type": "markdown",
   "metadata": {},
   "source": [
    "1. Mean\n",
    "   - The **Average** Messages Sent, Minutes Spent and Data Used by both Ultimate Plan and Surf Plan customers are almost **close to each other**.\n",
    "\n",
    "2. Variance\n",
    "   - The data points in Minutes Spent is more **spread out from the mean** and other data points for Ultimate plan than Surf Plan.\n",
    "   - The data points in Monthly revenue for Surf Plan is **highly spread out from the mean and other data points** for ultimate plan.\n",
    "\n",
    "\n",
    "3. Standard Deviation\n",
    "   - The data points for monthly revenue values are more spread out for Surf Plan than ultimate plan.\n",
    "   - The data points for Minutes Spent is close to mean for Surf plan than for Ultimate plan."
   ]
  },
  {
   "cell_type": "markdown",
   "metadata": {},
   "source": [
    "# Step 4. Hypothesis Testing"
   ]
  },
  {
   "cell_type": "markdown",
   "metadata": {},
   "source": [
    " ### Experiment 1:\n",
    " **The average revenue from users of Ultimate and Surf calling plans differs.**"
   ]
  },
  {
   "cell_type": "markdown",
   "metadata": {},
   "source": [
    "- **Null Hypothesis**: The average revenue from users of Ultimate and Surf calling plans belongs to the same statistical population.\n",
    "- **Alternative Hypothesis**: The average revenue from users of Ultimate and Surf calling plans doesn't belong to the same statistical population."
   ]
  },
  {
   "cell_type": "markdown",
   "metadata": {},
   "source": [
    "I am choosing 0.05 for the value of alpha, which means there is 95% confidence that the conclusion of this test will be valid."
   ]
  },
  {
   "cell_type": "markdown",
   "metadata": {},
   "source": [
    "In this two-tailed hypothesis testing, I am testing whether the average revenue from Ultimate and Surf plans is same or not."
   ]
  },
  {
   "cell_type": "code",
   "execution_count": 43,
   "metadata": {},
   "outputs": [
    {
     "name": "stdout",
     "output_type": "stream",
     "text": [
      "Surf Revenue Observation: 1545\n",
      "Ultimate Revenue Observation: 713\n",
      "Degrees_of_freedom: 2256\n"
     ]
    }
   ],
   "source": [
    "surf_revenue = surf['monthly_revenue']\n",
    "ultimate_revenue = ultimate['monthly_revenue']\n",
    "surf_revenue_observations = len(surf_revenue)\n",
    "ultimate_revenue_observations=len(ultimate_revenue)\n",
    "print(\"Surf Revenue Observation:\",surf_revenue_observations)\n",
    "print(\"Ultimate Revenue Observation:\",ultimate_revenue_observations)\n",
    "\n",
    "degrees_of_freedom = surf_revenue_observations + ultimate_revenue_observations  - 2\n",
    "print(\"Degrees_of_freedom:\",degrees_of_freedom)"
   ]
  },
  {
   "cell_type": "markdown",
   "metadata": {},
   "source": [
    "This is a two-tailed t-test so each tail probability on the t-distribution is 0.025. We use that value below."
   ]
  },
  {
   "cell_type": "code",
   "execution_count": 44,
   "metadata": {},
   "outputs": [
    {
     "name": "stdout",
     "output_type": "stream",
     "text": [
      "t-critical -1.961\n"
     ]
    }
   ],
   "source": [
    "alpha = 0.05\n",
    "two_tailed_test_prob_tail = alpha/2\n",
    "t_critical = round(st.t.ppf(two_tailed_test_prob_tail, degrees_of_freedom),3)\n",
    "print(\"t-critical\",t_critical)"
   ]
  },
  {
   "cell_type": "markdown",
   "metadata": {},
   "source": [
    "- Since this is a two-tailed test, the t-critical value is actually ±1.961"
   ]
  },
  {
   "cell_type": "code",
   "execution_count": 45,
   "metadata": {
    "scrolled": true
   },
   "outputs": [
    {
     "name": "stdout",
     "output_type": "stream",
     "text": [
      "P-Value:6.596684931934826e-10 T-Statistic:-6.202352698767828\n"
     ]
    }
   ],
   "source": [
    "tStat, pValue = st.ttest_ind(surf_revenue, ultimate_revenue, equal_var = True, nan_policy='omit') #run independent sample T-Test\n",
    "print(\"P-Value:{0} T-Statistic:{1}\".format(pValue,tStat))\n"
   ]
  },
  {
   "cell_type": "markdown",
   "metadata": {},
   "source": [
    "We can also confirm the variation in the mean by calculating the R-Square value to see the proportion of difference."
   ]
  },
  {
   "cell_type": "code",
   "execution_count": 46,
   "metadata": {},
   "outputs": [
    {
     "data": {
      "text/plain": [
       "0.017"
      ]
     },
     "execution_count": 46,
     "metadata": {},
     "output_type": "execute_result"
    }
   ],
   "source": [
    "r_squared_revenue = round(tStat**2 / (tStat**2 + degrees_of_freedom), 3)\n",
    "r_squared_revenue"
   ]
  },
  {
   "cell_type": "markdown",
   "metadata": {},
   "source": [
    "Our Value of R-Square is 0.033. That means, there is only 3% differences between the Average Revenue of Surf Plan and Ultimate Plan."
   ]
  },
  {
   "cell_type": "markdown",
   "metadata": {},
   "source": [
    "From the experiment above, we got 2 conclusions:\n",
    "\n",
    "  - P-value is less than 0.05 or value of alpha.\n",
    "  - T-statistic value is less than calculated critical value.\n",
    "We do not have enough evidence support either hypothesis.\n",
    "\n",
    "Also, our R-square value suggests there is difference.\n",
    "\n",
    "So, I want to conduct another hypothesis test: Levene Test."
   ]
  },
  {
   "cell_type": "code",
   "execution_count": 47,
   "metadata": {},
   "outputs": [
    {
     "name": "stdout",
     "output_type": "stream",
     "text": [
      "59.74425242718446 40.33\n",
      "72.27769985974754 70.0\n"
     ]
    }
   ],
   "source": [
    "print(surf_revenue.mean(), surf_revenue.median())\n",
    "print(ultimate_revenue.mean(), ultimate_revenue.median())"
   ]
  },
  {
   "cell_type": "markdown",
   "metadata": {},
   "source": [
    "There is variance in median and mean, so I will use Median for the Test"
   ]
  },
  {
   "cell_type": "code",
   "execution_count": 48,
   "metadata": {},
   "outputs": [
    {
     "data": {
      "text/plain": [
       "LeveneResult(statistic=423.0314867512972, pvalue=2.7072359981108696e-86)"
      ]
     },
     "execution_count": 48,
     "metadata": {},
     "output_type": "execute_result"
    }
   ],
   "source": [
    "st.levene(surf_revenue, ultimate_revenue, center='median')"
   ]
  },
  {
   "cell_type": "markdown",
   "metadata": {},
   "source": [
    "**Conclusion 1**: From the Levene test above, we reject the null hypothesis and accept the alternative hypothesis.\n",
    "We can reject null hypothesis with 2 basis in the experiment above:\n",
    "1. P-value is less than 0.05 or value of alpha.\n",
    "2. T-statistic value is greater than calculated critical value.\n",
    "\n",
    "Therefore, we have enough evidence to reject the null hypothesis and accept that there is statistical insignificant differences between the average revenue from users of Ultimate and Surf calling plans.\n"
   ]
  },
  {
   "cell_type": "markdown",
   "metadata": {},
   "source": [
    "### Experiment 2:"
   ]
  },
  {
   "cell_type": "markdown",
   "metadata": {},
   "source": [
    "**The average revenue from users in NY-NJ area is different from that of the users from other regions.**"
   ]
  },
  {
   "cell_type": "markdown",
   "metadata": {},
   "source": [
    "- **Null Hypothesis**: The average revenue from users in NY-NJ area and other regions belongs to same statistical population.\n",
    "- **Alternative Hypothesis**: The average revenue from users in NY-NJ area and other regions does not belongs to same statistical population. "
   ]
  },
  {
   "cell_type": "markdown",
   "metadata": {},
   "source": [
    "I kept the Null Hypothesis as revenue of NY-NY is less than the users of other regions assuming that the average revenue from rest of the states could be higher than the  revenue from only 2 states. The \"equal\" sign is used as Null Hypothesis should always have \"=\" or \"<=\" or \">=\" sign."
   ]
  },
  {
   "cell_type": "code",
   "execution_count": 49,
   "metadata": {},
   "outputs": [
    {
     "name": "stdout",
     "output_type": "stream",
     "text": [
      "New York-New Jersey Revenue Observation: 371\n",
      "Other City Revenue Observation: 1887\n",
      "Degrees_of_freedom: 2256\n"
     ]
    }
   ],
   "source": [
    "ny_nj_bool = users['city'].apply(lambda x: True if 'NY-NJ' in x else False)\n",
    "ny_nj_users = users[ny_nj_bool]['user_id'].values.tolist()\n",
    "\n",
    "sample_ny_nj = result[result['user_id'].isin(ny_nj_users)]['monthly_revenue']\n",
    "sample_other = result[~result['user_id'].isin(ny_nj_users)]['monthly_revenue']\n",
    "\n",
    "ny_nj_observations = len(sample_ny_nj)\n",
    "other_observations=len(sample_other)\n",
    "\n",
    "print(\"New York-New Jersey Revenue Observation:\",ny_nj_observations)\n",
    "print(\"Other City Revenue Observation:\",other_observations)\n",
    "\n",
    "degrees_of_freedom1 = ny_nj_observations + other_observations  - 2\n",
    "print(\"Degrees_of_freedom:\",degrees_of_freedom1)\n"
   ]
  },
  {
   "cell_type": "code",
   "execution_count": 50,
   "metadata": {},
   "outputs": [
    {
     "name": "stdout",
     "output_type": "stream",
     "text": [
      "t-critical -1.961\n"
     ]
    }
   ],
   "source": [
    "alpha = 0.05\n",
    "two_tailed_test_prob_tail1 = alpha/2\n",
    "\n",
    "t_critical1 = round(st.t.ppf(two_tailed_test_prob_tail1, degrees_of_freedom1), 3)\n",
    "print(\"t-critical\",t_critical1)"
   ]
  },
  {
   "cell_type": "markdown",
   "metadata": {},
   "source": [
    "- Since this is a two-tailed test, the t-critical value is actually ±1.961."
   ]
  },
  {
   "cell_type": "code",
   "execution_count": 51,
   "metadata": {},
   "outputs": [
    {
     "name": "stdout",
     "output_type": "stream",
     "text": [
      "P-Value:0.01586051056225454 T-Statistic:-2.4139334864749906\n"
     ]
    }
   ],
   "source": [
    "tStat1, pValue1 = st.ttest_ind(sample_ny_nj, sample_other, equal_var = True, nan_policy='omit') #run independent sample T-Test\n",
    "print(\"P-Value:{0} T-Statistic:{1}\".format(pValue1,tStat1))\n"
   ]
  },
  {
   "cell_type": "markdown",
   "metadata": {},
   "source": [
    "We can also confirm the variation in the mean by calculating the R-Square value to see the proportion of difference."
   ]
  },
  {
   "cell_type": "code",
   "execution_count": 52,
   "metadata": {},
   "outputs": [
    {
     "data": {
      "text/plain": [
       "0.003"
      ]
     },
     "execution_count": 52,
     "metadata": {},
     "output_type": "execute_result"
    }
   ],
   "source": [
    "r_squared_revenue = round(tStat1**2 / (tStat1**2 + degrees_of_freedom1), 3)\n",
    "r_squared_revenue"
   ]
  },
  {
   "cell_type": "markdown",
   "metadata": {},
   "source": [
    "Our Value of R-Square is 0.003. That means, there is only 0.3% differences between the Average Revenue from NY-NJ customers and other city customers"
   ]
  },
  {
   "cell_type": "markdown",
   "metadata": {},
   "source": [
    "**Conclusion 2**: From the experiment above, we cannot reject the null hypothesis as p-value is\n",
    "1. P-value is less than 0.05 or value of alpha.\n",
    "2. T-statistic value is negative. (If the absolute value of the experimental t-value is smaller than the value found on the degrees of freedom chart, then the means of the two groups can be said to be significantly different)\n",
    "\n",
    "Therefore, we have enough evidence to reject the null hypothesis and accept the alternative hypothesis that there is statistical insignificant difference between the average revenue from users in NY-NJ area and other regions."
   ]
  },
  {
   "cell_type": "markdown",
   "metadata": {},
   "source": [
    "### Conclusion\n",
    "\n",
    "I chose 0.05 for the value of alpha for both experiments because alpha=0.05 implies that there is 95% confidence that the conclusion of the test will be valid.\n",
    "\n",
    "**Experiment 1**:\n",
    "\n",
    "**2 Levene Test**\n",
    "- **Null Hypothesis**: The average revenue from users of Ultimate and Surf calling plans belongs to the same statistical population.\n",
    "- **Alternative Hypothesis**: There is statistical insignificant differences between the average revenue from users of Ultimate and Surf calling plans.\n",
    "\n",
    "- critical value = ±1.961\n",
    "- P-Value= 2.7072359981108696e-86\n",
    "- T-Statistic= 423.03\n",
    "\n",
    "**Conclusion 1**: From the experiment above, we reject the null hypothesis and accept the alternative hypothesis.\n",
    "We can reject null hypothesis with 2 basis in the experiment above:\n",
    "1. P-value is less than 0.05 or value of alpha.\n",
    "2. T-statistic value is greater than calculated critical value.\n",
    "\n",
    "Therefore, we have enough evidence to reject the null hypothesis and accept that there is statistical insignificant differences between the average revenue from users of Ultimate and Surf calling plans.\n",
    "\n",
    "R-Square = 0.033 (There is 3% differences between the Average Revenue of Surf Plan and Ultimate Plan).\n",
    "\n",
    "\n",
    "**Experiment 2**:\n",
    "\n",
    "**The average revenue from users in NY-NJ area is different from that of the users from other regions.**\n",
    "- **Null Hypothesis**: The average revenue from users in NY-NJ area and other regions belongs to same statistical population.\n",
    "- **Alternative Hypothesis**: There is statistical insignificant difference between the average revenue from users in NY-NJ area and other regions.\n",
    "\n",
    "**2 tailed T-Test**\n",
    "\n",
    "- critical value = ±1.961\n",
    "- T-Statistic=-2.41\n",
    "- P-Value=0.01\n",
    "\n",
    "**Conclusion 2**: From the experiment above, we reject the null hypothesis and accept the alternative hypothesis.\n",
    "We can reject null hypothesis with 2 basis in the experiment above:\n",
    "1. P-value is less than 0.05 or value of alpha.\n",
    "2. T-statistic value is negative.(If the absolute value of the experimental t-value is smaller than the value found on the degrees of freedom chart, then the means of the two groups can be said to be significantly different)\n",
    "\n",
    "Therefore, we have enough evidence to reject the null hypothesis and accept that there is statistical insignificant difference between the average revenue from users in NY-NJ area and other regions.\n",
    "\n",
    "R-Square = 0.003 (There is only 0.3% differences between the Average Revenue from NY-NJ customers and other cities customers)."
   ]
  },
  {
   "cell_type": "markdown",
   "metadata": {},
   "source": [
    "# Step 5: Conclusion"
   ]
  },
  {
   "cell_type": "markdown",
   "metadata": {},
   "source": [
    "### Reading Data and Observing General Information:\n",
    "\n",
    "1. We have 5 tables: Users, Messages, Internet, Calls, Plans.\n",
    "2. We need to perform datatype conversion on **reg_date, churn_date, call_date, message_date, session_date** columns from object datatype to datetime.\n",
    "3. We have missing values in **churn_date** column of **users** table. The data was missing for the customers who were still using the service when this database was created.\n",
    "4. We do not have any duplicates in our datasets.\n",
    "\n",
    "### Data Preprocessing and Doing Calculations:\n",
    "\n",
    "1. Changed the data-types of date columns from several tables:**reg_date** and **churn_date** from users table,**call_date** from calls table, **message_date** from messages table, **session_date** from internet table.\n",
    "2. Added **month** column in **calls**,**messages**, and **internet** table.\n",
    "3. Calculated calls_made, messages_sent, minutes_spent, gb_used and merged it to a new dataframe along with user_id and month.\n",
    "4. Calcualted monthly revenue for each users and added to the table and validated the results with manual calculation.\n",
    "\n",
    "### Statistical Analysis:\n",
    "\n",
    "-- General Insights on plans and services used\n",
    "\n",
    "1. Customers using **surf** plan uses more data, call minutes and text service and hence We generate more revenue from customers who uses Surf plan.\n",
    "2. There is high traffic of service usuage in December with Surf Plan.\n",
    "\n",
    "-- Data Distribution\n",
    "\n",
    "1. The Monthly Messages service used by customers with both Ultimate and Surf plan shows **Right-Skewed distribution** which can also be interpreted as the **Mean > Median** for this data.\n",
    "2. Customers using Surf Plan uses messages service more than the customers using Ultimate plan.\n",
    "\n",
    "3. The Monthly Minutes spent by customers with both Ultimate and Surf plan shows **Right-Skewed distribution** which can also be interpreted as the **Mean is greater than Median** for this data.\n",
    "- Customers using Surf Plan spends more time on calls than the customers using Ultimate plan.\n",
    "\n",
    "4. The volume of data consumption on each plans also shows **Right-Skewed distribution** which can also be interpreted as the **mean is greater than median** for this data.\n",
    "- Customers using Surf Plan uses more volume of data than the customers using Ultimate plan.\n",
    "\n",
    "5. The Monthly Revenue also a **Right_Skewed** distribution. This data distribution looks quiet interesting.Customers using Surf plan brings comparatively huge amount of revenue than customers using Ultimate plan.\n",
    "\n",
    "\n",
    "-- Statistical Summary\n",
    "\n",
    "1. Mean\n",
    "   - The **Average** Messages Sent, Minutes Spent and Data Used by both Ultimate Plan and Surf Plan customers are **equal** or almost **close to each other**.\n",
    "\n",
    "\n",
    "\n",
    "2. Variance\n",
    "   - The data points in Minutes Spent is more **spread out from the mean** and other data points for Ultimate plan than Surf Plan.\n",
    "   - The data points in Monthly revenue for Surf Plan is **highly spread out from the mean and other data points** for ultimate plan.\n",
    "\n",
    "\n",
    "3. Standard Deviation\n",
    "   - The data points for monthly revenue values are more spread out for Surf Plan than ultimate plan.\n",
    "   - The data points for Minutes Spent is close to mean for Surf plan than for Ultimate plan.\n",
    "   \n",
    "\n",
    "### Hypothesis Testing\n",
    "\n",
    "I chose 0.05 for the value of alpha for both experiments because alpha=0.05 implies that there is 95% confidence that the conclusion of the test will be valid.\n",
    "\n",
    "**Experiment 1**:\n",
    "\n",
    "**2 Levene Test**\n",
    "- **Null Hypothesis**: The average revenue from users of Ultimate and Surf calling plans belongs to the same statistical population.\n",
    "- **Alternative Hypothesis**: There is statistical insignificant differences between the average revenue from users of Ultimate and Surf calling plans.\n",
    "\n",
    "- critical value = ±1.961\n",
    "- P-Value= 2.7072359981108696e-86\n",
    "- T-Statistic= 423.03\n",
    "\n",
    "**Conclusion 1**: From the experiment above, we reject the null hypothesis and accept the alternative hypothesis.\n",
    "We can reject null hypothesis with 2 basis in the experiment above:\n",
    "1. P-value is less than 0.05 or value of alpha.\n",
    "2. T-statistic value is greater than calculated critical value.\n",
    "\n",
    "Therefore, we have enough evidence to reject the null hypothesis and accept that there is statistical insignificant differences between the average revenue from users of Ultimate and Surf calling plans.\n",
    "\n",
    "R-Square = 0.033 (There is 3% differences between the Average Revenue of Surf Plan and Ultimate Plan).\n",
    "\n",
    "\n",
    "**Experiment 2**:\n",
    "\n",
    "**The average revenue from users in NY-NJ area is different from that of the users from other regions.**\n",
    "- **Null Hypothesis**: The average revenue from users in NY-NJ area and other regions belongs to same statistical population.\n",
    "- **Alternative Hypothesis**: There is statistical insignificant difference between the average revenue from users in NY-NJ area and other regions.\n",
    "\n",
    "**2 tailed T-Test**\n",
    "\n",
    "- critical value = ±1.961\n",
    "- T-Statistic=-2.41\n",
    "- P-Value=0.01\n",
    "\n",
    "**Conclusion 2**: From the experiment above, we reject the null hypothesis and accept the alternative hypothesis.\n",
    "We can reject null hypothesis with 2 basis in the experiment above:\n",
    "1. P-value is less than 0.05 or value of alpha.\n",
    "2. T-statistic value is negative.(If the absolute value of the experimental t-value is smaller than the value found on the degrees of freedom chart, then the means of the two groups can be said to be significantly different)\n",
    "\n",
    "Therefore, we have enough evidence to reject the null hypothesis and accept that there is statistical insignificant difference between the average revenue from users in NY-NJ area and other regions.\n",
    "\n",
    "R-Square = 0.003 (There is only 0.3% differences between the Average Revenue from NY-NJ customers and other cities customers)."
   ]
  }
 ],
 "metadata": {
  "ExecuteTimeLog": [
   {
    "duration": 1045,
    "start_time": "2021-06-30T07:28:51.282Z"
   },
   {
    "duration": 934,
    "start_time": "2021-06-30T07:28:52.329Z"
   },
   {
    "duration": 15,
    "start_time": "2021-06-30T07:28:53.265Z"
   },
   {
    "duration": 10,
    "start_time": "2021-06-30T07:28:53.282Z"
   },
   {
    "duration": 11,
    "start_time": "2021-06-30T07:28:53.294Z"
   },
   {
    "duration": 10,
    "start_time": "2021-06-30T07:28:53.307Z"
   },
   {
    "duration": 13,
    "start_time": "2021-06-30T07:28:53.319Z"
   },
   {
    "duration": 73,
    "start_time": "2021-06-30T07:28:53.333Z"
   },
   {
    "duration": 5,
    "start_time": "2021-06-30T07:28:53.409Z"
   },
   {
    "duration": 16,
    "start_time": "2021-06-30T07:28:53.416Z"
   },
   {
    "duration": 4,
    "start_time": "2021-06-30T07:28:53.434Z"
   },
   {
    "duration": 12,
    "start_time": "2021-06-30T07:28:53.440Z"
   },
   {
    "duration": 34,
    "start_time": "2021-06-30T07:28:53.453Z"
   },
   {
    "duration": 116,
    "start_time": "2021-06-30T07:28:53.489Z"
   },
   {
    "duration": 41,
    "start_time": "2021-06-30T07:28:53.607Z"
   },
   {
    "duration": 44,
    "start_time": "2021-06-30T07:28:53.650Z"
   },
   {
    "duration": 16,
    "start_time": "2021-06-30T07:28:53.696Z"
   },
   {
    "duration": 20,
    "start_time": "2021-06-30T07:28:53.714Z"
   },
   {
    "duration": 17,
    "start_time": "2021-06-30T07:28:53.736Z"
   },
   {
    "duration": 39,
    "start_time": "2021-06-30T07:28:53.754Z"
   },
   {
    "duration": 45,
    "start_time": "2021-06-30T07:28:53.794Z"
   },
   {
    "duration": 8,
    "start_time": "2021-06-30T07:28:53.841Z"
   },
   {
    "duration": 56,
    "start_time": "2021-06-30T07:28:53.851Z"
   },
   {
    "duration": 32,
    "start_time": "2021-06-30T07:28:53.908Z"
   },
   {
    "duration": 152,
    "start_time": "2021-06-30T07:28:53.941Z"
   },
   {
    "duration": 13,
    "start_time": "2021-06-30T07:28:54.095Z"
   },
   {
    "duration": 8,
    "start_time": "2021-06-30T07:28:54.111Z"
   },
   {
    "duration": 13,
    "start_time": "2021-06-30T07:28:54.120Z"
   },
   {
    "duration": 10,
    "start_time": "2021-06-30T07:28:54.134Z"
   },
   {
    "duration": 44,
    "start_time": "2021-06-30T07:28:54.145Z"
   },
   {
    "duration": 23,
    "start_time": "2021-06-30T07:28:54.190Z"
   },
   {
    "duration": 19,
    "start_time": "2021-06-30T07:28:54.215Z"
   },
   {
    "duration": 14,
    "start_time": "2021-06-30T07:28:54.235Z"
   },
   {
    "duration": 43,
    "start_time": "2021-06-30T07:28:54.250Z"
   },
   {
    "duration": 606,
    "start_time": "2021-06-30T07:28:54.294Z"
   },
   {
    "duration": 694,
    "start_time": "2021-06-30T07:28:54.902Z"
   },
   {
    "duration": 631,
    "start_time": "2021-06-30T07:28:55.597Z"
   },
   {
    "duration": 319,
    "start_time": "2021-06-30T07:28:56.230Z"
   },
   {
    "duration": 9,
    "start_time": "2021-06-30T07:28:56.551Z"
   },
   {
    "duration": 23,
    "start_time": "2021-06-30T07:28:56.562Z"
   },
   {
    "duration": 7,
    "start_time": "2021-06-30T07:28:56.586Z"
   },
   {
    "duration": 13,
    "start_time": "2021-06-30T07:28:56.594Z"
   },
   {
    "duration": 7,
    "start_time": "2021-06-30T07:28:56.608Z"
   },
   {
    "duration": 1035,
    "start_time": "2021-06-30T07:29:55.238Z"
   },
   {
    "duration": 294,
    "start_time": "2021-06-30T07:29:56.275Z"
   },
   {
    "duration": 16,
    "start_time": "2021-06-30T07:29:56.571Z"
   },
   {
    "duration": 9,
    "start_time": "2021-06-30T07:29:56.589Z"
   },
   {
    "duration": 8,
    "start_time": "2021-06-30T07:29:56.599Z"
   },
   {
    "duration": 9,
    "start_time": "2021-06-30T07:29:56.608Z"
   },
   {
    "duration": 11,
    "start_time": "2021-06-30T07:29:56.619Z"
   },
   {
    "duration": 75,
    "start_time": "2021-06-30T07:29:56.633Z"
   },
   {
    "duration": 5,
    "start_time": "2021-06-30T07:29:56.710Z"
   },
   {
    "duration": 17,
    "start_time": "2021-06-30T07:29:56.717Z"
   },
   {
    "duration": 6,
    "start_time": "2021-06-30T07:29:56.736Z"
   },
   {
    "duration": 11,
    "start_time": "2021-06-30T07:29:56.743Z"
   },
   {
    "duration": 41,
    "start_time": "2021-06-30T07:29:56.755Z"
   },
   {
    "duration": 114,
    "start_time": "2021-06-30T07:29:56.797Z"
   },
   {
    "duration": 42,
    "start_time": "2021-06-30T07:29:56.913Z"
   },
   {
    "duration": 41,
    "start_time": "2021-06-30T07:29:56.957Z"
   },
   {
    "duration": 18,
    "start_time": "2021-06-30T07:29:57.000Z"
   },
   {
    "duration": 21,
    "start_time": "2021-06-30T07:29:57.020Z"
   },
   {
    "duration": 44,
    "start_time": "2021-06-30T07:29:57.042Z"
   },
   {
    "duration": 15,
    "start_time": "2021-06-30T07:29:57.088Z"
   },
   {
    "duration": 48,
    "start_time": "2021-06-30T07:29:57.104Z"
   },
   {
    "duration": 9,
    "start_time": "2021-06-30T07:29:57.154Z"
   },
   {
    "duration": 42,
    "start_time": "2021-06-30T07:29:57.187Z"
   },
   {
    "duration": 55,
    "start_time": "2021-06-30T07:29:57.231Z"
   },
   {
    "duration": 140,
    "start_time": "2021-06-30T07:29:57.287Z"
   },
   {
    "duration": 13,
    "start_time": "2021-06-30T07:29:57.429Z"
   },
   {
    "duration": 12,
    "start_time": "2021-06-30T07:29:57.444Z"
   },
   {
    "duration": 27,
    "start_time": "2021-06-30T07:29:57.458Z"
   },
   {
    "duration": 9,
    "start_time": "2021-06-30T07:29:57.487Z"
   },
   {
    "duration": 20,
    "start_time": "2021-06-30T07:29:57.498Z"
   },
   {
    "duration": 21,
    "start_time": "2021-06-30T07:29:57.519Z"
   },
   {
    "duration": 45,
    "start_time": "2021-06-30T07:29:57.541Z"
   },
   {
    "duration": 14,
    "start_time": "2021-06-30T07:29:57.587Z"
   },
   {
    "duration": 13,
    "start_time": "2021-06-30T07:29:57.602Z"
   },
   {
    "duration": 643,
    "start_time": "2021-06-30T07:29:57.617Z"
   },
   {
    "duration": 709,
    "start_time": "2021-06-30T07:29:58.262Z"
   },
   {
    "duration": 629,
    "start_time": "2021-06-30T07:29:58.973Z"
   },
   {
    "duration": 316,
    "start_time": "2021-06-30T07:29:59.603Z"
   },
   {
    "duration": 10,
    "start_time": "2021-06-30T07:29:59.921Z"
   },
   {
    "duration": 11,
    "start_time": "2021-06-30T07:29:59.932Z"
   },
   {
    "duration": 6,
    "start_time": "2021-06-30T07:29:59.944Z"
   },
   {
    "duration": 34,
    "start_time": "2021-06-30T07:29:59.952Z"
   },
   {
    "duration": 5,
    "start_time": "2021-06-30T07:29:59.988Z"
   },
   {
    "duration": 62,
    "start_time": "2021-06-30T07:49:04.851Z"
   },
   {
    "duration": 4,
    "start_time": "2021-06-30T08:30:40.589Z"
   },
   {
    "duration": 727,
    "start_time": "2021-06-30T08:30:40.596Z"
   },
   {
    "duration": 9,
    "start_time": "2021-06-30T08:30:41.325Z"
   },
   {
    "duration": 10,
    "start_time": "2021-06-30T08:30:41.335Z"
   },
   {
    "duration": 7,
    "start_time": "2021-06-30T08:30:41.346Z"
   },
   {
    "duration": 33,
    "start_time": "2021-06-30T08:30:41.354Z"
   },
   {
    "duration": 14,
    "start_time": "2021-06-30T08:30:41.389Z"
   },
   {
    "duration": 43,
    "start_time": "2021-06-30T08:30:41.406Z"
   },
   {
    "duration": 5,
    "start_time": "2021-06-30T08:30:41.451Z"
   },
   {
    "duration": 43,
    "start_time": "2021-06-30T08:30:41.457Z"
   },
   {
    "duration": 7,
    "start_time": "2021-06-30T08:30:41.502Z"
   },
   {
    "duration": 15,
    "start_time": "2021-06-30T08:30:41.511Z"
   },
   {
    "duration": 16,
    "start_time": "2021-06-30T08:30:41.528Z"
   },
   {
    "duration": 120,
    "start_time": "2021-06-30T08:30:41.546Z"
   },
   {
    "duration": 51,
    "start_time": "2021-06-30T08:30:41.668Z"
   },
   {
    "duration": 27,
    "start_time": "2021-06-30T08:30:41.721Z"
   },
   {
    "duration": 36,
    "start_time": "2021-06-30T08:30:41.750Z"
   },
   {
    "duration": 29,
    "start_time": "2021-06-30T08:30:41.788Z"
   },
   {
    "duration": 19,
    "start_time": "2021-06-30T08:30:41.820Z"
   },
   {
    "duration": 14,
    "start_time": "2021-06-30T08:30:41.840Z"
   },
   {
    "duration": 2,
    "start_time": "2021-06-30T08:30:41.856Z"
   },
   {
    "duration": 273,
    "start_time": "2021-06-30T08:30:44.781Z"
   },
   {
    "duration": 306,
    "start_time": "2021-06-30T08:31:05.405Z"
   },
   {
    "duration": 5,
    "start_time": "2021-06-30T08:31:13.117Z"
   },
   {
    "duration": 1139,
    "start_time": "2021-06-30T08:48:32.480Z"
   },
   {
    "duration": 312,
    "start_time": "2021-06-30T08:48:33.621Z"
   },
   {
    "duration": 12,
    "start_time": "2021-06-30T08:48:33.937Z"
   },
   {
    "duration": 10,
    "start_time": "2021-06-30T08:48:33.951Z"
   },
   {
    "duration": 29,
    "start_time": "2021-06-30T08:48:33.962Z"
   },
   {
    "duration": 7,
    "start_time": "2021-06-30T08:48:33.992Z"
   },
   {
    "duration": 19,
    "start_time": "2021-06-30T08:48:34.002Z"
   },
   {
    "duration": 50,
    "start_time": "2021-06-30T08:48:34.023Z"
   },
   {
    "duration": 6,
    "start_time": "2021-06-30T08:48:34.084Z"
   },
   {
    "duration": 28,
    "start_time": "2021-06-30T08:48:34.091Z"
   },
   {
    "duration": 12,
    "start_time": "2021-06-30T08:48:34.120Z"
   },
   {
    "duration": 21,
    "start_time": "2021-06-30T08:48:34.133Z"
   },
   {
    "duration": 27,
    "start_time": "2021-06-30T08:48:34.155Z"
   },
   {
    "duration": 110,
    "start_time": "2021-06-30T08:48:34.183Z"
   },
   {
    "duration": 42,
    "start_time": "2021-06-30T08:48:34.295Z"
   },
   {
    "duration": 25,
    "start_time": "2021-06-30T08:48:34.339Z"
   },
   {
    "duration": 34,
    "start_time": "2021-06-30T08:48:34.366Z"
   },
   {
    "duration": 23,
    "start_time": "2021-06-30T08:48:34.402Z"
   },
   {
    "duration": 18,
    "start_time": "2021-06-30T08:48:34.426Z"
   },
   {
    "duration": 40,
    "start_time": "2021-06-30T08:48:34.446Z"
   },
   {
    "duration": 50,
    "start_time": "2021-06-30T08:48:34.488Z"
   },
   {
    "duration": 9,
    "start_time": "2021-06-30T08:48:34.541Z"
   },
   {
    "duration": 64,
    "start_time": "2021-06-30T08:48:34.552Z"
   },
   {
    "duration": 34,
    "start_time": "2021-06-30T08:48:34.617Z"
   },
   {
    "duration": 145,
    "start_time": "2021-06-30T08:48:34.653Z"
   },
   {
    "duration": 14,
    "start_time": "2021-06-30T08:48:34.800Z"
   },
   {
    "duration": 8,
    "start_time": "2021-06-30T08:48:34.815Z"
   },
   {
    "duration": 14,
    "start_time": "2021-06-30T08:48:34.825Z"
   },
   {
    "duration": 17,
    "start_time": "2021-06-30T08:48:34.841Z"
   },
   {
    "duration": 39,
    "start_time": "2021-06-30T08:48:34.859Z"
   },
   {
    "duration": 21,
    "start_time": "2021-06-30T08:48:34.899Z"
   },
   {
    "duration": 19,
    "start_time": "2021-06-30T08:48:34.922Z"
   },
   {
    "duration": 19,
    "start_time": "2021-06-30T08:48:34.942Z"
   },
   {
    "duration": 33,
    "start_time": "2021-06-30T08:48:34.962Z"
   },
   {
    "duration": 620,
    "start_time": "2021-06-30T08:48:34.997Z"
   },
   {
    "duration": 715,
    "start_time": "2021-06-30T08:48:35.618Z"
   },
   {
    "duration": 631,
    "start_time": "2021-06-30T08:48:36.334Z"
   },
   {
    "duration": 314,
    "start_time": "2021-06-30T08:48:36.967Z"
   },
   {
    "duration": 10,
    "start_time": "2021-06-30T08:48:37.283Z"
   },
   {
    "duration": 9,
    "start_time": "2021-06-30T08:48:37.295Z"
   },
   {
    "duration": 6,
    "start_time": "2021-06-30T08:48:37.305Z"
   },
   {
    "duration": 9,
    "start_time": "2021-06-30T08:48:37.312Z"
   },
   {
    "duration": 5,
    "start_time": "2021-06-30T08:48:37.322Z"
   },
   {
    "duration": 11,
    "start_time": "2021-06-30T08:50:06.598Z"
   },
   {
    "duration": 13,
    "start_time": "2021-06-30T08:55:37.154Z"
   },
   {
    "duration": 5,
    "start_time": "2021-06-30T08:58:43.774Z"
   },
   {
    "duration": 346,
    "start_time": "2021-06-30T08:58:43.781Z"
   },
   {
    "duration": 10,
    "start_time": "2021-06-30T08:58:44.130Z"
   },
   {
    "duration": 12,
    "start_time": "2021-06-30T08:59:31.158Z"
   },
   {
    "duration": 14,
    "start_time": "2021-06-30T08:59:57.960Z"
   },
   {
    "duration": 12,
    "start_time": "2021-06-30T09:01:58.805Z"
   },
   {
    "duration": 1072,
    "start_time": "2021-06-30T09:03:10.549Z"
   },
   {
    "duration": 305,
    "start_time": "2021-06-30T09:03:11.623Z"
   },
   {
    "duration": 13,
    "start_time": "2021-06-30T09:03:11.933Z"
   },
   {
    "duration": 15,
    "start_time": "2021-06-30T09:03:11.947Z"
   },
   {
    "duration": 22,
    "start_time": "2021-06-30T09:03:11.964Z"
   },
   {
    "duration": 7,
    "start_time": "2021-06-30T09:03:11.987Z"
   },
   {
    "duration": 17,
    "start_time": "2021-06-30T09:03:11.997Z"
   },
   {
    "duration": 40,
    "start_time": "2021-06-30T09:03:12.016Z"
   },
   {
    "duration": 28,
    "start_time": "2021-06-30T09:03:12.058Z"
   },
   {
    "duration": 17,
    "start_time": "2021-06-30T09:03:12.088Z"
   },
   {
    "duration": 6,
    "start_time": "2021-06-30T09:03:12.107Z"
   },
   {
    "duration": 12,
    "start_time": "2021-06-30T09:03:12.114Z"
   },
   {
    "duration": 12,
    "start_time": "2021-06-30T09:03:12.128Z"
   },
   {
    "duration": 129,
    "start_time": "2021-06-30T09:03:12.142Z"
   },
   {
    "duration": 49,
    "start_time": "2021-06-30T09:03:12.272Z"
   },
   {
    "duration": 25,
    "start_time": "2021-06-30T09:03:12.323Z"
   },
   {
    "duration": 37,
    "start_time": "2021-06-30T09:03:12.350Z"
   },
   {
    "duration": 22,
    "start_time": "2021-06-30T09:03:12.388Z"
   },
   {
    "duration": 17,
    "start_time": "2021-06-30T09:03:12.412Z"
   },
   {
    "duration": 14,
    "start_time": "2021-06-30T09:03:12.430Z"
   },
   {
    "duration": 71,
    "start_time": "2021-06-30T09:03:12.445Z"
   },
   {
    "duration": 9,
    "start_time": "2021-06-30T09:03:12.519Z"
   },
   {
    "duration": 39,
    "start_time": "2021-06-30T09:03:12.530Z"
   },
   {
    "duration": 33,
    "start_time": "2021-06-30T09:03:12.585Z"
   },
   {
    "duration": 145,
    "start_time": "2021-06-30T09:03:12.619Z"
   },
   {
    "duration": 21,
    "start_time": "2021-06-30T09:03:12.765Z"
   },
   {
    "duration": 14,
    "start_time": "2021-06-30T09:03:12.787Z"
   },
   {
    "duration": 8,
    "start_time": "2021-06-30T09:03:12.803Z"
   },
   {
    "duration": 26,
    "start_time": "2021-06-30T09:03:12.813Z"
   },
   {
    "duration": 11,
    "start_time": "2021-06-30T09:03:12.841Z"
   },
   {
    "duration": 40,
    "start_time": "2021-06-30T09:03:12.854Z"
   },
   {
    "duration": 25,
    "start_time": "2021-06-30T09:03:12.896Z"
   },
   {
    "duration": 22,
    "start_time": "2021-06-30T09:03:12.922Z"
   },
   {
    "duration": 39,
    "start_time": "2021-06-30T09:03:12.946Z"
   },
   {
    "duration": 14,
    "start_time": "2021-06-30T09:03:12.987Z"
   },
   {
    "duration": 666,
    "start_time": "2021-06-30T09:03:13.003Z"
   },
   {
    "duration": 719,
    "start_time": "2021-06-30T09:03:13.671Z"
   },
   {
    "duration": 617,
    "start_time": "2021-06-30T09:03:14.392Z"
   },
   {
    "duration": 324,
    "start_time": "2021-06-30T09:03:15.011Z"
   },
   {
    "duration": 10,
    "start_time": "2021-06-30T09:03:15.337Z"
   },
   {
    "duration": 9,
    "start_time": "2021-06-30T09:03:15.349Z"
   },
   {
    "duration": 28,
    "start_time": "2021-06-30T09:03:15.360Z"
   },
   {
    "duration": 15,
    "start_time": "2021-06-30T09:03:15.389Z"
   },
   {
    "duration": 7,
    "start_time": "2021-06-30T09:03:15.405Z"
   },
   {
    "duration": 12,
    "start_time": "2021-06-30T09:04:59.823Z"
   },
   {
    "duration": 13,
    "start_time": "2021-06-30T09:05:14.798Z"
   },
   {
    "duration": 19,
    "start_time": "2021-06-30T09:08:22.589Z"
   },
   {
    "duration": 14,
    "start_time": "2021-06-30T09:08:35.659Z"
   },
   {
    "duration": 12,
    "start_time": "2021-06-30T09:09:03.075Z"
   },
   {
    "duration": 12,
    "start_time": "2021-06-30T09:09:29.829Z"
   },
   {
    "duration": 18,
    "start_time": "2021-06-30T09:09:58.223Z"
   },
   {
    "duration": 4232,
    "start_time": "2021-06-30T09:10:43.029Z"
   },
   {
    "duration": 12,
    "start_time": "2021-06-30T09:11:16.499Z"
   },
   {
    "duration": 5,
    "start_time": "2021-06-30T09:46:06.530Z"
   },
   {
    "duration": 310,
    "start_time": "2021-06-30T09:46:06.536Z"
   },
   {
    "duration": 10,
    "start_time": "2021-06-30T09:46:06.848Z"
   },
   {
    "duration": 25,
    "start_time": "2021-06-30T09:46:06.860Z"
   },
   {
    "duration": 12,
    "start_time": "2021-06-30T09:46:06.887Z"
   },
   {
    "duration": 20,
    "start_time": "2021-06-30T09:46:06.901Z"
   },
   {
    "duration": 13,
    "start_time": "2021-06-30T09:46:06.924Z"
   },
   {
    "duration": 60,
    "start_time": "2021-06-30T09:46:06.939Z"
   },
   {
    "duration": 5,
    "start_time": "2021-06-30T09:46:07.001Z"
   },
   {
    "duration": 24,
    "start_time": "2021-06-30T09:46:07.008Z"
   },
   {
    "duration": 9,
    "start_time": "2021-06-30T09:46:07.033Z"
   },
   {
    "duration": 13,
    "start_time": "2021-06-30T09:46:07.043Z"
   },
   {
    "duration": 29,
    "start_time": "2021-06-30T09:46:07.059Z"
   },
   {
    "duration": 103,
    "start_time": "2021-06-30T09:46:07.090Z"
   },
   {
    "duration": 42,
    "start_time": "2021-06-30T09:46:07.195Z"
   },
   {
    "duration": 46,
    "start_time": "2021-06-30T09:46:07.239Z"
   },
   {
    "duration": 20,
    "start_time": "2021-06-30T09:46:07.286Z"
   },
   {
    "duration": 22,
    "start_time": "2021-06-30T09:46:07.308Z"
   },
   {
    "duration": 17,
    "start_time": "2021-06-30T09:46:07.333Z"
   },
   {
    "duration": 42,
    "start_time": "2021-06-30T09:46:07.352Z"
   },
   {
    "duration": 42,
    "start_time": "2021-06-30T09:46:07.396Z"
   },
   {
    "duration": 9,
    "start_time": "2021-06-30T09:46:07.439Z"
   },
   {
    "duration": 60,
    "start_time": "2021-06-30T09:46:07.449Z"
   },
   {
    "duration": 34,
    "start_time": "2021-06-30T09:46:07.510Z"
   },
   {
    "duration": 226,
    "start_time": "2021-06-30T09:46:07.546Z"
   },
   {
    "duration": 4,
    "start_time": "2021-06-30T09:53:03.105Z"
   },
   {
    "duration": 305,
    "start_time": "2021-06-30T09:53:03.116Z"
   },
   {
    "duration": 9,
    "start_time": "2021-06-30T09:53:03.423Z"
   },
   {
    "duration": 16,
    "start_time": "2021-06-30T09:53:03.434Z"
   },
   {
    "duration": 13,
    "start_time": "2021-06-30T09:53:03.452Z"
   },
   {
    "duration": 26,
    "start_time": "2021-06-30T09:53:03.467Z"
   },
   {
    "duration": 14,
    "start_time": "2021-06-30T09:53:03.495Z"
   },
   {
    "duration": 40,
    "start_time": "2021-06-30T09:53:03.511Z"
   },
   {
    "duration": 5,
    "start_time": "2021-06-30T09:53:03.553Z"
   },
   {
    "duration": 36,
    "start_time": "2021-06-30T09:53:03.561Z"
   },
   {
    "duration": 5,
    "start_time": "2021-06-30T09:53:03.599Z"
   },
   {
    "duration": 10,
    "start_time": "2021-06-30T09:53:03.606Z"
   },
   {
    "duration": 18,
    "start_time": "2021-06-30T09:53:03.618Z"
   },
   {
    "duration": 107,
    "start_time": "2021-06-30T09:53:03.638Z"
   },
   {
    "duration": 55,
    "start_time": "2021-06-30T09:53:03.747Z"
   },
   {
    "duration": 26,
    "start_time": "2021-06-30T09:53:03.804Z"
   },
   {
    "duration": 18,
    "start_time": "2021-06-30T09:53:03.832Z"
   },
   {
    "duration": 41,
    "start_time": "2021-06-30T09:53:03.852Z"
   },
   {
    "duration": 17,
    "start_time": "2021-06-30T09:53:03.895Z"
   },
   {
    "duration": 15,
    "start_time": "2021-06-30T09:53:03.913Z"
   },
   {
    "duration": 70,
    "start_time": "2021-06-30T09:53:03.929Z"
   },
   {
    "duration": 9,
    "start_time": "2021-06-30T09:53:04.000Z"
   },
   {
    "duration": 44,
    "start_time": "2021-06-30T09:53:04.011Z"
   },
   {
    "duration": 48,
    "start_time": "2021-06-30T09:53:04.057Z"
   },
   {
    "duration": 138,
    "start_time": "2021-06-30T09:53:04.106Z"
   },
   {
    "duration": 4,
    "start_time": "2021-06-30T09:53:09.695Z"
   },
   {
    "duration": 18,
    "start_time": "2021-06-30T09:53:19.400Z"
   },
   {
    "duration": 3,
    "start_time": "2021-06-30T09:53:32.805Z"
   },
   {
    "duration": 18,
    "start_time": "2021-06-30T09:53:34.366Z"
   },
   {
    "duration": 14,
    "start_time": "2021-06-30T09:53:58.037Z"
   },
   {
    "duration": 8,
    "start_time": "2021-06-30T09:53:58.053Z"
   },
   {
    "duration": 10,
    "start_time": "2021-06-30T09:53:58.063Z"
   },
   {
    "duration": 9,
    "start_time": "2021-06-30T09:53:58.075Z"
   },
   {
    "duration": 19,
    "start_time": "2021-06-30T09:53:58.085Z"
   },
   {
    "duration": 21,
    "start_time": "2021-06-30T09:53:58.105Z"
   },
   {
    "duration": 19,
    "start_time": "2021-06-30T09:53:58.127Z"
   },
   {
    "duration": 38,
    "start_time": "2021-06-30T09:53:58.148Z"
   },
   {
    "duration": 14,
    "start_time": "2021-06-30T09:53:58.187Z"
   },
   {
    "duration": 608,
    "start_time": "2021-06-30T09:53:58.203Z"
   },
   {
    "duration": 725,
    "start_time": "2021-06-30T09:53:58.813Z"
   },
   {
    "duration": 614,
    "start_time": "2021-06-30T09:53:59.540Z"
   },
   {
    "duration": 323,
    "start_time": "2021-06-30T09:54:00.155Z"
   },
   {
    "duration": 11,
    "start_time": "2021-06-30T09:54:00.479Z"
   },
   {
    "duration": 24,
    "start_time": "2021-06-30T09:54:00.491Z"
   },
   {
    "duration": 22,
    "start_time": "2021-06-30T09:54:00.517Z"
   },
   {
    "duration": 26,
    "start_time": "2021-06-30T09:54:00.540Z"
   },
   {
    "duration": 32,
    "start_time": "2021-06-30T09:54:00.568Z"
   },
   {
    "duration": 21,
    "start_time": "2021-06-30T09:54:23.230Z"
   },
   {
    "duration": 5,
    "start_time": "2021-06-30T10:10:43.936Z"
   },
   {
    "duration": 320,
    "start_time": "2021-06-30T10:10:43.947Z"
   },
   {
    "duration": 18,
    "start_time": "2021-06-30T10:10:44.269Z"
   },
   {
    "duration": 9,
    "start_time": "2021-06-30T10:10:44.290Z"
   },
   {
    "duration": 10,
    "start_time": "2021-06-30T10:10:44.301Z"
   },
   {
    "duration": 12,
    "start_time": "2021-06-30T10:10:44.313Z"
   },
   {
    "duration": 11,
    "start_time": "2021-06-30T10:10:44.327Z"
   },
   {
    "duration": 84,
    "start_time": "2021-06-30T10:10:44.340Z"
   },
   {
    "duration": 6,
    "start_time": "2021-06-30T10:10:44.426Z"
   },
   {
    "duration": 16,
    "start_time": "2021-06-30T10:10:44.436Z"
   },
   {
    "duration": 7,
    "start_time": "2021-06-30T10:10:44.484Z"
   },
   {
    "duration": 13,
    "start_time": "2021-06-30T10:10:44.493Z"
   },
   {
    "duration": 16,
    "start_time": "2021-06-30T10:10:44.508Z"
   },
   {
    "duration": 116,
    "start_time": "2021-06-30T10:10:44.526Z"
   },
   {
    "duration": 53,
    "start_time": "2021-06-30T10:10:44.644Z"
   },
   {
    "duration": 25,
    "start_time": "2021-06-30T10:10:44.699Z"
   },
   {
    "duration": 18,
    "start_time": "2021-06-30T10:10:44.725Z"
   },
   {
    "duration": 43,
    "start_time": "2021-06-30T10:10:44.745Z"
   },
   {
    "duration": 20,
    "start_time": "2021-06-30T10:10:44.789Z"
   },
   {
    "duration": 14,
    "start_time": "2021-06-30T10:10:44.811Z"
   },
   {
    "duration": 69,
    "start_time": "2021-06-30T10:10:44.827Z"
   },
   {
    "duration": 9,
    "start_time": "2021-06-30T10:10:44.898Z"
   },
   {
    "duration": 41,
    "start_time": "2021-06-30T10:10:44.909Z"
   },
   {
    "duration": 57,
    "start_time": "2021-06-30T10:10:44.952Z"
   },
   {
    "duration": 155,
    "start_time": "2021-06-30T10:10:45.011Z"
   },
   {
    "duration": 23,
    "start_time": "2021-06-30T10:10:45.168Z"
   },
   {
    "duration": 13,
    "start_time": "2021-06-30T10:10:45.193Z"
   },
   {
    "duration": 11,
    "start_time": "2021-06-30T10:10:45.209Z"
   },
   {
    "duration": 180,
    "start_time": "2021-06-30T10:10:58.667Z"
   },
   {
    "duration": 191,
    "start_time": "2021-06-30T10:11:51.835Z"
   },
   {
    "duration": 11,
    "start_time": "2021-06-30T10:12:02.449Z"
   },
   {
    "duration": 8,
    "start_time": "2021-06-30T10:12:06.178Z"
   },
   {
    "duration": 24,
    "start_time": "2021-06-30T10:12:21.761Z"
   },
   {
    "duration": 4,
    "start_time": "2021-06-30T10:12:32.125Z"
   },
   {
    "duration": 315,
    "start_time": "2021-06-30T10:12:32.131Z"
   },
   {
    "duration": 11,
    "start_time": "2021-06-30T10:12:32.448Z"
   },
   {
    "duration": 25,
    "start_time": "2021-06-30T10:12:32.461Z"
   },
   {
    "duration": 8,
    "start_time": "2021-06-30T10:12:32.488Z"
   },
   {
    "duration": 14,
    "start_time": "2021-06-30T10:12:32.498Z"
   },
   {
    "duration": 13,
    "start_time": "2021-06-30T10:12:32.514Z"
   },
   {
    "duration": 70,
    "start_time": "2021-06-30T10:12:32.529Z"
   },
   {
    "duration": 5,
    "start_time": "2021-06-30T10:12:32.601Z"
   },
   {
    "duration": 18,
    "start_time": "2021-06-30T10:12:32.608Z"
   },
   {
    "duration": 6,
    "start_time": "2021-06-30T10:12:32.627Z"
   },
   {
    "duration": 23,
    "start_time": "2021-06-30T10:12:32.635Z"
   },
   {
    "duration": 30,
    "start_time": "2021-06-30T10:12:32.659Z"
   },
   {
    "duration": 109,
    "start_time": "2021-06-30T10:12:32.691Z"
   },
   {
    "duration": 43,
    "start_time": "2021-06-30T10:12:32.801Z"
   },
   {
    "duration": 45,
    "start_time": "2021-06-30T10:12:32.846Z"
   },
   {
    "duration": 19,
    "start_time": "2021-06-30T10:12:32.892Z"
   },
   {
    "duration": 22,
    "start_time": "2021-06-30T10:12:32.913Z"
   },
   {
    "duration": 20,
    "start_time": "2021-06-30T10:12:32.937Z"
   },
   {
    "duration": 16,
    "start_time": "2021-06-30T10:12:32.986Z"
   },
   {
    "duration": 47,
    "start_time": "2021-06-30T10:12:33.004Z"
   },
   {
    "duration": 10,
    "start_time": "2021-06-30T10:12:33.052Z"
   },
   {
    "duration": 61,
    "start_time": "2021-06-30T10:12:33.063Z"
   },
   {
    "duration": 34,
    "start_time": "2021-06-30T10:12:33.126Z"
   },
   {
    "duration": 168,
    "start_time": "2021-06-30T10:12:33.162Z"
   },
   {
    "duration": 14,
    "start_time": "2021-06-30T10:12:33.331Z"
   },
   {
    "duration": 23,
    "start_time": "2021-06-30T10:12:33.347Z"
   },
   {
    "duration": 19,
    "start_time": "2021-06-30T10:12:33.372Z"
   },
   {
    "duration": 19,
    "start_time": "2021-06-30T10:12:33.393Z"
   },
   {
    "duration": 7,
    "start_time": "2021-06-30T10:12:44.843Z"
   },
   {
    "duration": 23,
    "start_time": "2021-06-30T10:12:50.240Z"
   },
   {
    "duration": 1086,
    "start_time": "2021-06-30T10:14:00.941Z"
   },
   {
    "duration": 318,
    "start_time": "2021-06-30T10:14:02.029Z"
   },
   {
    "duration": 12,
    "start_time": "2021-06-30T10:14:02.350Z"
   },
   {
    "duration": 8,
    "start_time": "2021-06-30T10:14:02.364Z"
   },
   {
    "duration": 8,
    "start_time": "2021-06-30T10:14:02.385Z"
   },
   {
    "duration": 8,
    "start_time": "2021-06-30T10:14:02.395Z"
   },
   {
    "duration": 13,
    "start_time": "2021-06-30T10:14:02.405Z"
   },
   {
    "duration": 68,
    "start_time": "2021-06-30T10:14:02.420Z"
   },
   {
    "duration": 5,
    "start_time": "2021-06-30T10:14:02.490Z"
   },
   {
    "duration": 20,
    "start_time": "2021-06-30T10:14:02.497Z"
   },
   {
    "duration": 5,
    "start_time": "2021-06-30T10:14:02.518Z"
   },
   {
    "duration": 13,
    "start_time": "2021-06-30T10:14:02.524Z"
   },
   {
    "duration": 12,
    "start_time": "2021-06-30T10:14:02.538Z"
   },
   {
    "duration": 135,
    "start_time": "2021-06-30T10:14:02.552Z"
   },
   {
    "duration": 41,
    "start_time": "2021-06-30T10:14:02.689Z"
   },
   {
    "duration": 25,
    "start_time": "2021-06-30T10:14:02.732Z"
   },
   {
    "duration": 39,
    "start_time": "2021-06-30T10:14:02.758Z"
   },
   {
    "duration": 21,
    "start_time": "2021-06-30T10:14:02.799Z"
   },
   {
    "duration": 18,
    "start_time": "2021-06-30T10:14:02.822Z"
   },
   {
    "duration": 14,
    "start_time": "2021-06-30T10:14:02.842Z"
   },
   {
    "duration": 71,
    "start_time": "2021-06-30T10:14:02.858Z"
   },
   {
    "duration": 10,
    "start_time": "2021-06-30T10:14:02.930Z"
   },
   {
    "duration": 57,
    "start_time": "2021-06-30T10:14:02.943Z"
   },
   {
    "duration": 35,
    "start_time": "2021-06-30T10:14:03.002Z"
   },
   {
    "duration": 147,
    "start_time": "2021-06-30T10:14:03.039Z"
   },
   {
    "duration": 14,
    "start_time": "2021-06-30T10:14:03.188Z"
   },
   {
    "duration": 9,
    "start_time": "2021-06-30T10:14:03.203Z"
   },
   {
    "duration": 13,
    "start_time": "2021-06-30T10:14:03.214Z"
   },
   {
    "duration": 13,
    "start_time": "2021-06-30T10:14:03.229Z"
   },
   {
    "duration": 50,
    "start_time": "2021-06-30T10:14:03.244Z"
   },
   {
    "duration": 24,
    "start_time": "2021-06-30T10:14:03.296Z"
   },
   {
    "duration": 20,
    "start_time": "2021-06-30T10:14:03.322Z"
   },
   {
    "duration": 41,
    "start_time": "2021-06-30T10:14:03.344Z"
   },
   {
    "duration": 14,
    "start_time": "2021-06-30T10:14:03.387Z"
   },
   {
    "duration": 663,
    "start_time": "2021-06-30T10:14:03.403Z"
   },
   {
    "duration": 747,
    "start_time": "2021-06-30T10:14:04.067Z"
   },
   {
    "duration": 658,
    "start_time": "2021-06-30T10:14:04.816Z"
   },
   {
    "duration": 317,
    "start_time": "2021-06-30T10:14:05.476Z"
   },
   {
    "duration": 11,
    "start_time": "2021-06-30T10:14:05.794Z"
   },
   {
    "duration": 9,
    "start_time": "2021-06-30T10:14:05.807Z"
   },
   {
    "duration": 9,
    "start_time": "2021-06-30T10:14:05.818Z"
   },
   {
    "duration": 10,
    "start_time": "2021-06-30T10:14:05.829Z"
   },
   {
    "duration": 10,
    "start_time": "2021-06-30T10:14:05.840Z"
   },
   {
    "duration": 15,
    "start_time": "2021-06-30T10:23:34.370Z"
   },
   {
    "duration": 15,
    "start_time": "2021-06-30T10:37:55.083Z"
   },
   {
    "duration": 5,
    "start_time": "2021-06-30T10:52:02.665Z"
   },
   {
    "duration": 132,
    "start_time": "2021-06-30T10:53:36.078Z"
   },
   {
    "duration": 4,
    "start_time": "2021-06-30T10:54:11.405Z"
   },
   {
    "duration": 17,
    "start_time": "2021-06-30T10:54:12.248Z"
   },
   {
    "duration": 18,
    "start_time": "2021-06-30T10:55:47.502Z"
   },
   {
    "duration": 4,
    "start_time": "2021-06-30T11:03:44.389Z"
   },
   {
    "duration": 317,
    "start_time": "2021-06-30T11:03:44.395Z"
   },
   {
    "duration": 9,
    "start_time": "2021-06-30T11:03:44.714Z"
   },
   {
    "duration": 9,
    "start_time": "2021-06-30T11:03:44.725Z"
   },
   {
    "duration": 10,
    "start_time": "2021-06-30T11:03:44.735Z"
   },
   {
    "duration": 12,
    "start_time": "2021-06-30T11:03:44.747Z"
   },
   {
    "duration": 34,
    "start_time": "2021-06-30T11:03:44.761Z"
   },
   {
    "duration": 42,
    "start_time": "2021-06-30T11:03:44.797Z"
   },
   {
    "duration": 5,
    "start_time": "2021-06-30T11:03:44.841Z"
   },
   {
    "duration": 44,
    "start_time": "2021-06-30T11:03:44.848Z"
   },
   {
    "duration": 4,
    "start_time": "2021-06-30T11:03:44.894Z"
   },
   {
    "duration": 11,
    "start_time": "2021-06-30T11:03:44.900Z"
   },
   {
    "duration": 12,
    "start_time": "2021-06-30T11:03:44.913Z"
   },
   {
    "duration": 112,
    "start_time": "2021-06-30T11:03:44.927Z"
   },
   {
    "duration": 60,
    "start_time": "2021-06-30T11:03:45.040Z"
   },
   {
    "duration": 27,
    "start_time": "2021-06-30T11:03:45.101Z"
   },
   {
    "duration": 19,
    "start_time": "2021-06-30T11:03:45.130Z"
   },
   {
    "duration": 42,
    "start_time": "2021-06-30T11:03:45.151Z"
   },
   {
    "duration": 19,
    "start_time": "2021-06-30T11:03:45.197Z"
   },
   {
    "duration": 16,
    "start_time": "2021-06-30T11:03:45.218Z"
   },
   {
    "duration": 70,
    "start_time": "2021-06-30T11:03:45.236Z"
   },
   {
    "duration": 9,
    "start_time": "2021-06-30T11:03:45.308Z"
   },
   {
    "duration": 43,
    "start_time": "2021-06-30T11:03:45.319Z"
   },
   {
    "duration": 51,
    "start_time": "2021-06-30T11:03:45.364Z"
   },
   {
    "duration": 219,
    "start_time": "2021-06-30T11:03:45.417Z"
   },
   {
    "duration": 13,
    "start_time": "2021-06-30T11:03:45.638Z"
   },
   {
    "duration": 11,
    "start_time": "2021-06-30T11:03:45.652Z"
   },
   {
    "duration": 27,
    "start_time": "2021-06-30T11:03:45.664Z"
   },
   {
    "duration": 9,
    "start_time": "2021-06-30T11:03:45.692Z"
   },
   {
    "duration": 22,
    "start_time": "2021-06-30T11:03:45.703Z"
   },
   {
    "duration": 21,
    "start_time": "2021-06-30T11:03:45.727Z"
   },
   {
    "duration": 16,
    "start_time": "2021-06-30T11:03:49.849Z"
   },
   {
    "duration": 5,
    "start_time": "2021-06-30T11:44:21.188Z"
   },
   {
    "duration": 6,
    "start_time": "2021-06-30T11:50:31.066Z"
   },
   {
    "duration": 6,
    "start_time": "2021-06-30T11:50:39.953Z"
   },
   {
    "duration": 63,
    "start_time": "2021-06-30T12:10:46.945Z"
   },
   {
    "duration": 60,
    "start_time": "2021-06-30T12:57:21.282Z"
   },
   {
    "duration": 57,
    "start_time": "2021-06-30T14:33:59.697Z"
   },
   {
    "duration": 69,
    "start_time": "2021-06-30T14:41:03.804Z"
   },
   {
    "duration": 1178,
    "start_time": "2021-06-30T14:56:52.178Z"
   },
   {
    "duration": 321,
    "start_time": "2021-06-30T14:56:53.358Z"
   },
   {
    "duration": 16,
    "start_time": "2021-06-30T14:56:53.685Z"
   },
   {
    "duration": 13,
    "start_time": "2021-06-30T14:56:53.703Z"
   },
   {
    "duration": 11,
    "start_time": "2021-06-30T14:56:53.718Z"
   },
   {
    "duration": 8,
    "start_time": "2021-06-30T14:56:53.730Z"
   },
   {
    "duration": 49,
    "start_time": "2021-06-30T14:56:53.740Z"
   },
   {
    "duration": 41,
    "start_time": "2021-06-30T14:56:53.792Z"
   },
   {
    "duration": 5,
    "start_time": "2021-06-30T14:56:53.836Z"
   },
   {
    "duration": 48,
    "start_time": "2021-06-30T14:56:53.843Z"
   },
   {
    "duration": 7,
    "start_time": "2021-06-30T14:56:53.893Z"
   },
   {
    "duration": 12,
    "start_time": "2021-06-30T14:56:53.902Z"
   },
   {
    "duration": 17,
    "start_time": "2021-06-30T14:56:53.916Z"
   },
   {
    "duration": 152,
    "start_time": "2021-06-30T14:56:53.935Z"
   },
   {
    "duration": 42,
    "start_time": "2021-06-30T14:56:54.089Z"
   },
   {
    "duration": 28,
    "start_time": "2021-06-30T14:56:54.133Z"
   },
   {
    "duration": 20,
    "start_time": "2021-06-30T14:56:54.185Z"
   },
   {
    "duration": 25,
    "start_time": "2021-06-30T14:56:54.207Z"
   },
   {
    "duration": 18,
    "start_time": "2021-06-30T14:56:54.233Z"
   },
   {
    "duration": 44,
    "start_time": "2021-06-30T14:56:54.253Z"
   },
   {
    "duration": 50,
    "start_time": "2021-06-30T14:56:54.298Z"
   },
   {
    "duration": 36,
    "start_time": "2021-06-30T14:56:54.350Z"
   },
   {
    "duration": 42,
    "start_time": "2021-06-30T14:56:54.388Z"
   },
   {
    "duration": 58,
    "start_time": "2021-06-30T14:56:54.433Z"
   },
   {
    "duration": 166,
    "start_time": "2021-06-30T14:56:54.493Z"
   },
   {
    "duration": 15,
    "start_time": "2021-06-30T14:56:54.663Z"
   },
   {
    "duration": 9,
    "start_time": "2021-06-30T14:56:54.685Z"
   },
   {
    "duration": 12,
    "start_time": "2021-06-30T14:56:54.696Z"
   },
   {
    "duration": 12,
    "start_time": "2021-06-30T14:56:54.709Z"
   },
   {
    "duration": 23,
    "start_time": "2021-06-30T14:56:54.723Z"
   },
   {
    "duration": 58,
    "start_time": "2021-06-30T14:56:54.747Z"
   },
   {
    "duration": 17,
    "start_time": "2021-06-30T14:56:54.806Z"
   },
   {
    "duration": 25,
    "start_time": "2021-06-30T14:56:54.825Z"
   },
   {
    "duration": 47,
    "start_time": "2021-06-30T14:56:54.852Z"
   },
   {
    "duration": 16,
    "start_time": "2021-06-30T14:56:54.901Z"
   },
   {
    "duration": 671,
    "start_time": "2021-06-30T14:56:54.919Z"
   },
   {
    "duration": 750,
    "start_time": "2021-06-30T14:56:55.592Z"
   },
   {
    "duration": 665,
    "start_time": "2021-06-30T14:56:56.344Z"
   },
   {
    "duration": 326,
    "start_time": "2021-06-30T14:56:57.011Z"
   },
   {
    "duration": 15,
    "start_time": "2021-06-30T14:56:57.339Z"
   },
   {
    "duration": 30,
    "start_time": "2021-06-30T14:56:57.356Z"
   },
   {
    "duration": 8,
    "start_time": "2021-06-30T14:56:57.388Z"
   },
   {
    "duration": 10,
    "start_time": "2021-06-30T14:56:57.397Z"
   },
   {
    "duration": 6,
    "start_time": "2021-06-30T14:56:57.410Z"
   },
   {
    "duration": 591,
    "start_time": "2021-07-02T09:44:15.065Z"
   },
   {
    "duration": 1622,
    "start_time": "2021-07-02T09:44:24.231Z"
   },
   {
    "duration": 402,
    "start_time": "2021-07-02T09:44:25.856Z"
   },
   {
    "duration": 26,
    "start_time": "2021-07-02T09:44:26.261Z"
   },
   {
    "duration": 14,
    "start_time": "2021-07-02T09:44:26.290Z"
   },
   {
    "duration": 14,
    "start_time": "2021-07-02T09:44:26.307Z"
   },
   {
    "duration": 17,
    "start_time": "2021-07-02T09:44:26.324Z"
   },
   {
    "duration": 22,
    "start_time": "2021-07-02T09:44:26.387Z"
   },
   {
    "duration": 92,
    "start_time": "2021-07-02T09:44:26.412Z"
   },
   {
    "duration": 10,
    "start_time": "2021-07-02T09:44:26.508Z"
   },
   {
    "duration": 21,
    "start_time": "2021-07-02T09:44:26.522Z"
   },
   {
    "duration": 42,
    "start_time": "2021-07-02T09:44:26.545Z"
   },
   {
    "duration": 23,
    "start_time": "2021-07-02T09:44:26.589Z"
   },
   {
    "duration": 19,
    "start_time": "2021-07-02T09:44:26.615Z"
   },
   {
    "duration": 198,
    "start_time": "2021-07-02T09:44:26.637Z"
   },
   {
    "duration": 82,
    "start_time": "2021-07-02T09:44:26.837Z"
   },
   {
    "duration": 41,
    "start_time": "2021-07-02T09:44:26.922Z"
   },
   {
    "duration": 19,
    "start_time": "2021-07-02T09:44:26.986Z"
   },
   {
    "duration": 2161,
    "start_time": "2021-07-02T09:44:27.007Z"
   },
   {
    "duration": 21,
    "start_time": "2021-07-02T09:44:29.170Z"
   },
   {
    "duration": 15,
    "start_time": "2021-07-02T09:44:29.195Z"
   },
   {
    "duration": 337,
    "start_time": "2021-07-02T09:44:29.213Z"
   },
   {
    "duration": 36,
    "start_time": "2021-07-02T09:44:29.552Z"
   },
   {
    "duration": 9,
    "start_time": "2021-07-02T09:44:29.590Z"
   },
   {
    "duration": 22,
    "start_time": "2021-07-02T09:44:29.602Z"
   },
   {
    "duration": 10,
    "start_time": "2021-07-02T09:44:29.626Z"
   },
   {
    "duration": 53,
    "start_time": "2021-07-02T09:44:29.639Z"
   },
   {
    "duration": 16,
    "start_time": "2021-07-02T09:44:29.698Z"
   },
   {
    "duration": 18,
    "start_time": "2021-07-02T09:44:29.717Z"
   },
   {
    "duration": 57,
    "start_time": "2021-07-02T09:44:29.738Z"
   },
   {
    "duration": 36,
    "start_time": "2021-07-02T09:44:29.797Z"
   },
   {
    "duration": 57,
    "start_time": "2021-07-02T09:44:29.836Z"
   },
   {
    "duration": 11,
    "start_time": "2021-07-02T09:44:29.896Z"
   },
   {
    "duration": 85,
    "start_time": "2021-07-02T09:44:29.910Z"
   },
   {
    "duration": 35,
    "start_time": "2021-07-02T09:44:29.998Z"
   },
   {
    "duration": 23,
    "start_time": "2021-07-02T09:44:30.035Z"
   },
   {
    "duration": 23,
    "start_time": "2021-07-02T09:44:30.087Z"
   },
   {
    "duration": 1077,
    "start_time": "2021-07-02T09:44:30.113Z"
   },
   {
    "duration": 1165,
    "start_time": "2021-07-02T09:44:31.194Z"
   },
   {
    "duration": 1050,
    "start_time": "2021-07-02T09:44:32.361Z"
   },
   {
    "duration": 513,
    "start_time": "2021-07-02T09:44:33.414Z"
   },
   {
    "duration": 18,
    "start_time": "2021-07-02T09:44:33.930Z"
   },
   {
    "duration": 38,
    "start_time": "2021-07-02T09:44:33.950Z"
   },
   {
    "duration": 10,
    "start_time": "2021-07-02T09:44:33.990Z"
   },
   {
    "duration": 10,
    "start_time": "2021-07-02T09:44:34.002Z"
   },
   {
    "duration": 9,
    "start_time": "2021-07-02T09:44:34.015Z"
   },
   {
    "duration": 8,
    "start_time": "2021-07-02T09:44:34.027Z"
   },
   {
    "duration": 62,
    "start_time": "2021-07-02T09:44:34.038Z"
   },
   {
    "duration": 6,
    "start_time": "2021-07-02T09:44:34.102Z"
   },
   {
    "duration": 7,
    "start_time": "2021-07-02T09:44:34.111Z"
   },
   {
    "duration": 10,
    "start_time": "2021-07-02T09:44:34.122Z"
   },
   {
    "duration": 50,
    "start_time": "2021-07-02T09:44:34.135Z"
   },
   {
    "duration": 10,
    "start_time": "2021-07-02T09:44:34.189Z"
   },
   {
    "duration": 24,
    "start_time": "2021-07-02T09:48:40.051Z"
   },
   {
    "duration": 23,
    "start_time": "2021-07-02T09:49:03.745Z"
   },
   {
    "duration": 18,
    "start_time": "2021-07-02T09:49:27.800Z"
   },
   {
    "duration": 13,
    "start_time": "2021-07-02T09:50:43.501Z"
   },
   {
    "duration": 19,
    "start_time": "2021-07-02T09:52:40.103Z"
   },
   {
    "duration": 40,
    "start_time": "2021-07-02T09:55:04.994Z"
   },
   {
    "duration": 44,
    "start_time": "2021-07-02T09:55:10.985Z"
   },
   {
    "duration": 8,
    "start_time": "2021-07-02T09:56:05.697Z"
   },
   {
    "duration": 458,
    "start_time": "2021-07-02T09:56:05.707Z"
   },
   {
    "duration": 18,
    "start_time": "2021-07-02T09:56:06.168Z"
   },
   {
    "duration": 28,
    "start_time": "2021-07-02T09:56:06.190Z"
   },
   {
    "duration": 15,
    "start_time": "2021-07-02T09:56:06.221Z"
   },
   {
    "duration": 13,
    "start_time": "2021-07-02T09:56:06.239Z"
   },
   {
    "duration": 52,
    "start_time": "2021-07-02T09:56:06.255Z"
   },
   {
    "duration": 96,
    "start_time": "2021-07-02T09:56:06.311Z"
   },
   {
    "duration": 7,
    "start_time": "2021-07-02T09:56:06.409Z"
   },
   {
    "duration": 25,
    "start_time": "2021-07-02T09:56:06.419Z"
   },
   {
    "duration": 39,
    "start_time": "2021-07-02T09:56:06.447Z"
   },
   {
    "duration": 22,
    "start_time": "2021-07-02T09:56:06.490Z"
   },
   {
    "duration": 19,
    "start_time": "2021-07-02T09:56:06.515Z"
   },
   {
    "duration": 200,
    "start_time": "2021-07-02T09:56:06.537Z"
   },
   {
    "duration": 92,
    "start_time": "2021-07-02T09:56:06.740Z"
   },
   {
    "duration": 51,
    "start_time": "2021-07-02T09:56:06.835Z"
   },
   {
    "duration": 24,
    "start_time": "2021-07-02T09:56:06.889Z"
   },
   {
    "duration": 2274,
    "start_time": "2021-07-02T09:56:06.916Z"
   },
   {
    "duration": 16,
    "start_time": "2021-07-02T09:56:09.193Z"
   },
   {
    "duration": 18,
    "start_time": "2021-07-02T09:56:09.212Z"
   },
   {
    "duration": 430,
    "start_time": "2021-07-02T09:56:09.233Z"
   },
   {
    "duration": 52,
    "start_time": "2021-07-02T09:56:12.672Z"
   },
   {
    "duration": 26,
    "start_time": "2021-07-02T09:56:13.847Z"
   },
   {
    "duration": 18,
    "start_time": "2021-07-02T09:56:46.462Z"
   },
   {
    "duration": 20,
    "start_time": "2021-07-02T09:57:15.326Z"
   },
   {
    "duration": 23,
    "start_time": "2021-07-02T09:57:23.368Z"
   },
   {
    "duration": 33,
    "start_time": "2021-07-02T09:57:30.117Z"
   },
   {
    "duration": 22,
    "start_time": "2021-07-02T09:57:35.310Z"
   },
   {
    "duration": 23,
    "start_time": "2021-07-02T09:57:49.212Z"
   },
   {
    "duration": 40,
    "start_time": "2021-07-02T09:58:39.499Z"
   },
   {
    "duration": 31,
    "start_time": "2021-07-02T09:58:41.260Z"
   },
   {
    "duration": 6,
    "start_time": "2021-07-02T09:58:48.108Z"
   },
   {
    "duration": 398,
    "start_time": "2021-07-02T09:58:48.117Z"
   },
   {
    "duration": 13,
    "start_time": "2021-07-02T09:58:48.518Z"
   },
   {
    "duration": 30,
    "start_time": "2021-07-02T09:58:48.534Z"
   },
   {
    "duration": 29,
    "start_time": "2021-07-02T09:58:48.566Z"
   },
   {
    "duration": 24,
    "start_time": "2021-07-02T09:58:48.597Z"
   },
   {
    "duration": 31,
    "start_time": "2021-07-02T09:58:48.624Z"
   },
   {
    "duration": 71,
    "start_time": "2021-07-02T09:58:48.658Z"
   },
   {
    "duration": 8,
    "start_time": "2021-07-02T09:58:48.731Z"
   },
   {
    "duration": 34,
    "start_time": "2021-07-02T09:58:48.741Z"
   },
   {
    "duration": 8,
    "start_time": "2021-07-02T09:58:48.785Z"
   },
   {
    "duration": 28,
    "start_time": "2021-07-02T09:58:48.795Z"
   },
   {
    "duration": 24,
    "start_time": "2021-07-02T09:58:48.827Z"
   },
   {
    "duration": 172,
    "start_time": "2021-07-02T09:58:48.853Z"
   },
   {
    "duration": 78,
    "start_time": "2021-07-02T09:58:49.028Z"
   },
   {
    "duration": 39,
    "start_time": "2021-07-02T09:58:49.108Z"
   },
   {
    "duration": 38,
    "start_time": "2021-07-02T09:58:49.149Z"
   },
   {
    "duration": 2157,
    "start_time": "2021-07-02T09:58:49.189Z"
   },
   {
    "duration": 14,
    "start_time": "2021-07-02T09:58:51.350Z"
   },
   {
    "duration": 14,
    "start_time": "2021-07-02T09:58:51.385Z"
   },
   {
    "duration": 224,
    "start_time": "2021-07-02T09:58:51.401Z"
   },
   {
    "duration": 41,
    "start_time": "2021-07-02T09:58:51.627Z"
   },
   {
    "duration": 38,
    "start_time": "2021-07-02T09:58:56.642Z"
   },
   {
    "duration": 33,
    "start_time": "2021-07-02T09:58:57.298Z"
   },
   {
    "duration": 6,
    "start_time": "2021-07-02T09:59:07.644Z"
   },
   {
    "duration": 465,
    "start_time": "2021-07-02T09:59:07.652Z"
   },
   {
    "duration": 21,
    "start_time": "2021-07-02T09:59:08.121Z"
   },
   {
    "duration": 42,
    "start_time": "2021-07-02T09:59:08.145Z"
   },
   {
    "duration": 30,
    "start_time": "2021-07-02T09:59:08.190Z"
   },
   {
    "duration": 20,
    "start_time": "2021-07-02T09:59:08.223Z"
   },
   {
    "duration": 38,
    "start_time": "2021-07-02T09:59:08.247Z"
   },
   {
    "duration": 58,
    "start_time": "2021-07-02T09:59:08.288Z"
   },
   {
    "duration": 7,
    "start_time": "2021-07-02T09:59:08.349Z"
   },
   {
    "duration": 42,
    "start_time": "2021-07-02T09:59:08.358Z"
   },
   {
    "duration": 10,
    "start_time": "2021-07-02T09:59:08.402Z"
   },
   {
    "duration": 30,
    "start_time": "2021-07-02T09:59:08.415Z"
   },
   {
    "duration": 46,
    "start_time": "2021-07-02T09:59:08.449Z"
   },
   {
    "duration": 180,
    "start_time": "2021-07-02T09:59:08.498Z"
   },
   {
    "duration": 65,
    "start_time": "2021-07-02T09:59:08.681Z"
   },
   {
    "duration": 67,
    "start_time": "2021-07-02T09:59:08.748Z"
   },
   {
    "duration": 18,
    "start_time": "2021-07-02T09:59:08.819Z"
   },
   {
    "duration": 2069,
    "start_time": "2021-07-02T09:59:08.840Z"
   },
   {
    "duration": 13,
    "start_time": "2021-07-02T09:59:10.915Z"
   },
   {
    "duration": 15,
    "start_time": "2021-07-02T09:59:10.931Z"
   },
   {
    "duration": 242,
    "start_time": "2021-07-02T09:59:10.949Z"
   },
   {
    "duration": 36,
    "start_time": "2021-07-02T09:59:14.886Z"
   },
   {
    "duration": 26,
    "start_time": "2021-07-02T09:59:15.579Z"
   },
   {
    "duration": 22,
    "start_time": "2021-07-02T09:59:42.820Z"
   },
   {
    "duration": 21,
    "start_time": "2021-07-02T10:00:27.697Z"
   },
   {
    "duration": 6,
    "start_time": "2021-07-02T10:00:54.490Z"
   },
   {
    "duration": 8,
    "start_time": "2021-07-02T10:01:51.656Z"
   },
   {
    "duration": 40,
    "start_time": "2021-07-02T10:05:03.953Z"
   },
   {
    "duration": 27,
    "start_time": "2021-07-02T10:05:04.534Z"
   },
   {
    "duration": 6,
    "start_time": "2021-07-02T10:05:48.526Z"
   },
   {
    "duration": 8,
    "start_time": "2021-07-02T10:05:56.365Z"
   },
   {
    "duration": 497,
    "start_time": "2021-07-02T10:05:56.393Z"
   },
   {
    "duration": 20,
    "start_time": "2021-07-02T10:05:56.893Z"
   },
   {
    "duration": 22,
    "start_time": "2021-07-02T10:05:56.916Z"
   },
   {
    "duration": 15,
    "start_time": "2021-07-02T10:05:56.941Z"
   },
   {
    "duration": 12,
    "start_time": "2021-07-02T10:05:56.985Z"
   },
   {
    "duration": 20,
    "start_time": "2021-07-02T10:05:57.000Z"
   },
   {
    "duration": 98,
    "start_time": "2021-07-02T10:05:57.022Z"
   },
   {
    "duration": 8,
    "start_time": "2021-07-02T10:05:57.123Z"
   },
   {
    "duration": 55,
    "start_time": "2021-07-02T10:05:57.136Z"
   },
   {
    "duration": 13,
    "start_time": "2021-07-02T10:05:57.194Z"
   },
   {
    "duration": 19,
    "start_time": "2021-07-02T10:05:57.210Z"
   },
   {
    "duration": 19,
    "start_time": "2021-07-02T10:05:57.232Z"
   },
   {
    "duration": 191,
    "start_time": "2021-07-02T10:05:57.255Z"
   },
   {
    "duration": 71,
    "start_time": "2021-07-02T10:05:57.448Z"
   },
   {
    "duration": 43,
    "start_time": "2021-07-02T10:05:57.522Z"
   },
   {
    "duration": 36,
    "start_time": "2021-07-02T10:05:57.567Z"
   },
   {
    "duration": 2069,
    "start_time": "2021-07-02T10:05:57.605Z"
   },
   {
    "duration": 18,
    "start_time": "2021-07-02T10:05:59.677Z"
   },
   {
    "duration": 20,
    "start_time": "2021-07-02T10:05:59.698Z"
   },
   {
    "duration": 233,
    "start_time": "2021-07-02T10:05:59.721Z"
   },
   {
    "duration": 40,
    "start_time": "2021-07-02T10:06:02.527Z"
   },
   {
    "duration": 28,
    "start_time": "2021-07-02T10:06:03.161Z"
   },
   {
    "duration": 6,
    "start_time": "2021-07-02T10:06:06.182Z"
   },
   {
    "duration": 7,
    "start_time": "2021-07-02T10:06:41.539Z"
   },
   {
    "duration": 385,
    "start_time": "2021-07-02T10:06:41.549Z"
   },
   {
    "duration": 14,
    "start_time": "2021-07-02T10:06:41.937Z"
   },
   {
    "duration": 34,
    "start_time": "2021-07-02T10:06:41.954Z"
   },
   {
    "duration": 22,
    "start_time": "2021-07-02T10:06:41.991Z"
   },
   {
    "duration": 18,
    "start_time": "2021-07-02T10:06:42.015Z"
   },
   {
    "duration": 25,
    "start_time": "2021-07-02T10:06:42.035Z"
   },
   {
    "duration": 59,
    "start_time": "2021-07-02T10:06:42.088Z"
   },
   {
    "duration": 8,
    "start_time": "2021-07-02T10:06:42.150Z"
   },
   {
    "duration": 25,
    "start_time": "2021-07-02T10:06:42.185Z"
   },
   {
    "duration": 8,
    "start_time": "2021-07-02T10:06:42.212Z"
   },
   {
    "duration": 16,
    "start_time": "2021-07-02T10:06:42.222Z"
   },
   {
    "duration": 51,
    "start_time": "2021-07-02T10:06:42.241Z"
   },
   {
    "duration": 171,
    "start_time": "2021-07-02T10:06:42.295Z"
   },
   {
    "duration": 75,
    "start_time": "2021-07-02T10:06:42.469Z"
   },
   {
    "duration": 61,
    "start_time": "2021-07-02T10:06:42.546Z"
   },
   {
    "duration": 19,
    "start_time": "2021-07-02T10:06:42.609Z"
   },
   {
    "duration": 2032,
    "start_time": "2021-07-02T10:06:42.631Z"
   },
   {
    "duration": 23,
    "start_time": "2021-07-02T10:06:44.666Z"
   },
   {
    "duration": 26,
    "start_time": "2021-07-02T10:06:44.691Z"
   },
   {
    "duration": 229,
    "start_time": "2021-07-02T10:06:44.720Z"
   },
   {
    "duration": 40,
    "start_time": "2021-07-02T10:06:48.711Z"
   },
   {
    "duration": 24,
    "start_time": "2021-07-02T10:06:49.344Z"
   },
   {
    "duration": 8,
    "start_time": "2021-07-02T10:06:52.337Z"
   },
   {
    "duration": 6,
    "start_time": "2021-07-02T10:08:09.039Z"
   },
   {
    "duration": 6,
    "start_time": "2021-07-02T10:08:24.937Z"
   },
   {
    "duration": 417,
    "start_time": "2021-07-02T10:08:24.945Z"
   },
   {
    "duration": 14,
    "start_time": "2021-07-02T10:08:25.365Z"
   },
   {
    "duration": 18,
    "start_time": "2021-07-02T10:08:25.381Z"
   },
   {
    "duration": 23,
    "start_time": "2021-07-02T10:08:25.402Z"
   },
   {
    "duration": 14,
    "start_time": "2021-07-02T10:08:25.427Z"
   },
   {
    "duration": 51,
    "start_time": "2021-07-02T10:08:25.443Z"
   },
   {
    "duration": 60,
    "start_time": "2021-07-02T10:08:25.497Z"
   },
   {
    "duration": 29,
    "start_time": "2021-07-02T10:08:25.561Z"
   },
   {
    "duration": 23,
    "start_time": "2021-07-02T10:08:25.593Z"
   },
   {
    "duration": 8,
    "start_time": "2021-07-02T10:08:25.618Z"
   },
   {
    "duration": 20,
    "start_time": "2021-07-02T10:08:25.628Z"
   },
   {
    "duration": 16,
    "start_time": "2021-07-02T10:08:25.687Z"
   },
   {
    "duration": 174,
    "start_time": "2021-07-02T10:08:25.705Z"
   },
   {
    "duration": 66,
    "start_time": "2021-07-02T10:08:25.885Z"
   },
   {
    "duration": 59,
    "start_time": "2021-07-02T10:08:25.953Z"
   },
   {
    "duration": 18,
    "start_time": "2021-07-02T10:08:26.015Z"
   },
   {
    "duration": 3476,
    "start_time": "2021-07-02T10:08:26.042Z"
   },
   {
    "duration": 17,
    "start_time": "2021-07-02T10:08:29.521Z"
   },
   {
    "duration": 19,
    "start_time": "2021-07-02T10:08:29.541Z"
   },
   {
    "duration": 307,
    "start_time": "2021-07-02T10:08:29.587Z"
   },
   {
    "duration": 57,
    "start_time": "2021-07-02T10:08:35.988Z"
   },
   {
    "duration": 36,
    "start_time": "2021-07-02T10:08:36.597Z"
   },
   {
    "duration": 7,
    "start_time": "2021-07-02T10:08:39.141Z"
   },
   {
    "duration": 9,
    "start_time": "2021-07-02T10:08:40.316Z"
   },
   {
    "duration": 44,
    "start_time": "2021-07-02T10:13:14.237Z"
   },
   {
    "duration": 25,
    "start_time": "2021-07-02T10:13:14.631Z"
   },
   {
    "duration": 7,
    "start_time": "2021-07-02T10:13:17.516Z"
   },
   {
    "duration": 8,
    "start_time": "2021-07-02T10:13:18.106Z"
   },
   {
    "duration": 7,
    "start_time": "2021-07-02T10:13:30.924Z"
   },
   {
    "duration": 409,
    "start_time": "2021-07-02T10:13:30.935Z"
   },
   {
    "duration": 14,
    "start_time": "2021-07-02T10:13:31.347Z"
   },
   {
    "duration": 29,
    "start_time": "2021-07-02T10:13:31.364Z"
   },
   {
    "duration": 23,
    "start_time": "2021-07-02T10:13:31.397Z"
   },
   {
    "duration": 29,
    "start_time": "2021-07-02T10:13:31.423Z"
   },
   {
    "duration": 31,
    "start_time": "2021-07-02T10:13:31.455Z"
   },
   {
    "duration": 109,
    "start_time": "2021-07-02T10:13:31.489Z"
   },
   {
    "duration": 9,
    "start_time": "2021-07-02T10:13:31.602Z"
   },
   {
    "duration": 42,
    "start_time": "2021-07-02T10:13:31.614Z"
   },
   {
    "duration": 28,
    "start_time": "2021-07-02T10:13:31.659Z"
   },
   {
    "duration": 42,
    "start_time": "2021-07-02T10:13:31.689Z"
   },
   {
    "duration": 26,
    "start_time": "2021-07-02T10:13:31.734Z"
   },
   {
    "duration": 166,
    "start_time": "2021-07-02T10:13:31.762Z"
   },
   {
    "duration": 80,
    "start_time": "2021-07-02T10:13:31.931Z"
   },
   {
    "duration": 40,
    "start_time": "2021-07-02T10:13:32.014Z"
   },
   {
    "duration": 45,
    "start_time": "2021-07-02T10:13:32.056Z"
   },
   {
    "duration": 2006,
    "start_time": "2021-07-02T10:13:32.103Z"
   },
   {
    "duration": 14,
    "start_time": "2021-07-02T10:13:34.111Z"
   },
   {
    "duration": 36,
    "start_time": "2021-07-02T10:13:34.127Z"
   },
   {
    "duration": 320,
    "start_time": "2021-07-02T10:13:34.165Z"
   },
   {
    "duration": 38,
    "start_time": "2021-07-02T10:13:39.733Z"
   },
   {
    "duration": 25,
    "start_time": "2021-07-02T10:13:40.774Z"
   },
   {
    "duration": 6,
    "start_time": "2021-07-02T10:13:54.892Z"
   },
   {
    "duration": 512,
    "start_time": "2021-07-02T10:13:54.901Z"
   },
   {
    "duration": 18,
    "start_time": "2021-07-02T10:13:55.417Z"
   },
   {
    "duration": 46,
    "start_time": "2021-07-02T10:13:55.439Z"
   },
   {
    "duration": 18,
    "start_time": "2021-07-02T10:13:55.488Z"
   },
   {
    "duration": 14,
    "start_time": "2021-07-02T10:13:55.509Z"
   },
   {
    "duration": 58,
    "start_time": "2021-07-02T10:13:55.527Z"
   },
   {
    "duration": 108,
    "start_time": "2021-07-02T10:13:55.591Z"
   },
   {
    "duration": 10,
    "start_time": "2021-07-02T10:13:55.703Z"
   },
   {
    "duration": 38,
    "start_time": "2021-07-02T10:13:55.716Z"
   },
   {
    "duration": 37,
    "start_time": "2021-07-02T10:13:55.758Z"
   },
   {
    "duration": 23,
    "start_time": "2021-07-02T10:13:55.798Z"
   },
   {
    "duration": 26,
    "start_time": "2021-07-02T10:13:55.824Z"
   },
   {
    "duration": 161,
    "start_time": "2021-07-02T10:13:55.853Z"
   },
   {
    "duration": 75,
    "start_time": "2021-07-02T10:13:56.016Z"
   },
   {
    "duration": 38,
    "start_time": "2021-07-02T10:13:56.094Z"
   },
   {
    "duration": 18,
    "start_time": "2021-07-02T10:13:56.134Z"
   },
   {
    "duration": 2066,
    "start_time": "2021-07-02T10:13:56.154Z"
   },
   {
    "duration": 21,
    "start_time": "2021-07-02T10:13:58.223Z"
   },
   {
    "duration": 18,
    "start_time": "2021-07-02T10:13:58.246Z"
   },
   {
    "duration": 318,
    "start_time": "2021-07-02T10:13:58.267Z"
   },
   {
    "duration": 35,
    "start_time": "2021-07-02T10:14:05.902Z"
   },
   {
    "duration": 26,
    "start_time": "2021-07-02T10:14:06.473Z"
   },
   {
    "duration": 6,
    "start_time": "2021-07-02T10:14:08.867Z"
   },
   {
    "duration": 8,
    "start_time": "2021-07-02T10:14:09.698Z"
   },
   {
    "duration": 38,
    "start_time": "2021-07-02T10:14:34.682Z"
   },
   {
    "duration": 29,
    "start_time": "2021-07-02T10:14:35.250Z"
   },
   {
    "duration": 1825,
    "start_time": "2021-07-02T10:14:46.523Z"
   },
   {
    "duration": 404,
    "start_time": "2021-07-02T10:14:48.352Z"
   },
   {
    "duration": 27,
    "start_time": "2021-07-02T10:14:48.759Z"
   },
   {
    "duration": 13,
    "start_time": "2021-07-02T10:14:48.789Z"
   },
   {
    "duration": 15,
    "start_time": "2021-07-02T10:14:48.804Z"
   },
   {
    "duration": 16,
    "start_time": "2021-07-02T10:14:48.822Z"
   },
   {
    "duration": 64,
    "start_time": "2021-07-02T10:14:48.840Z"
   },
   {
    "duration": 122,
    "start_time": "2021-07-02T10:14:48.908Z"
   },
   {
    "duration": 11,
    "start_time": "2021-07-02T10:14:49.034Z"
   },
   {
    "duration": 54,
    "start_time": "2021-07-02T10:14:49.047Z"
   },
   {
    "duration": 10,
    "start_time": "2021-07-02T10:14:49.103Z"
   },
   {
    "duration": 16,
    "start_time": "2021-07-02T10:14:49.115Z"
   },
   {
    "duration": 51,
    "start_time": "2021-07-02T10:14:49.135Z"
   },
   {
    "duration": 178,
    "start_time": "2021-07-02T10:14:49.189Z"
   },
   {
    "duration": 78,
    "start_time": "2021-07-02T10:14:49.369Z"
   },
   {
    "duration": 62,
    "start_time": "2021-07-02T10:14:49.449Z"
   },
   {
    "duration": 20,
    "start_time": "2021-07-02T10:14:49.514Z"
   },
   {
    "duration": 2513,
    "start_time": "2021-07-02T10:14:49.536Z"
   },
   {
    "duration": 16,
    "start_time": "2021-07-02T10:14:52.052Z"
   },
   {
    "duration": 15,
    "start_time": "2021-07-02T10:14:52.087Z"
   },
   {
    "duration": 249,
    "start_time": "2021-07-02T10:14:52.106Z"
   },
   {
    "duration": 906,
    "start_time": "2021-07-02T10:14:52.358Z"
   },
   {
    "duration": -239,
    "start_time": "2021-07-02T10:14:53.507Z"
   },
   {
    "duration": -246,
    "start_time": "2021-07-02T10:14:53.516Z"
   },
   {
    "duration": -249,
    "start_time": "2021-07-02T10:14:53.520Z"
   },
   {
    "duration": -252,
    "start_time": "2021-07-02T10:14:53.524Z"
   },
   {
    "duration": -256,
    "start_time": "2021-07-02T10:14:53.530Z"
   },
   {
    "duration": -259,
    "start_time": "2021-07-02T10:14:53.535Z"
   },
   {
    "duration": -262,
    "start_time": "2021-07-02T10:14:53.539Z"
   },
   {
    "duration": -265,
    "start_time": "2021-07-02T10:14:53.543Z"
   },
   {
    "duration": -270,
    "start_time": "2021-07-02T10:14:53.549Z"
   },
   {
    "duration": -273,
    "start_time": "2021-07-02T10:14:53.553Z"
   },
   {
    "duration": -275,
    "start_time": "2021-07-02T10:14:53.556Z"
   },
   {
    "duration": -280,
    "start_time": "2021-07-02T10:14:53.562Z"
   },
   {
    "duration": -282,
    "start_time": "2021-07-02T10:14:53.566Z"
   },
   {
    "duration": -285,
    "start_time": "2021-07-02T10:14:53.570Z"
   },
   {
    "duration": -289,
    "start_time": "2021-07-02T10:14:53.575Z"
   },
   {
    "duration": -295,
    "start_time": "2021-07-02T10:14:53.582Z"
   },
   {
    "duration": -298,
    "start_time": "2021-07-02T10:14:53.586Z"
   },
   {
    "duration": -299,
    "start_time": "2021-07-02T10:14:53.589Z"
   },
   {
    "duration": -306,
    "start_time": "2021-07-02T10:14:53.597Z"
   },
   {
    "duration": -307,
    "start_time": "2021-07-02T10:14:53.600Z"
   },
   {
    "duration": -311,
    "start_time": "2021-07-02T10:14:53.605Z"
   },
   {
    "duration": -313,
    "start_time": "2021-07-02T10:14:53.609Z"
   },
   {
    "duration": -318,
    "start_time": "2021-07-02T10:14:53.615Z"
   },
   {
    "duration": -320,
    "start_time": "2021-07-02T10:14:53.619Z"
   },
   {
    "duration": -324,
    "start_time": "2021-07-02T10:14:53.625Z"
   },
   {
    "duration": -328,
    "start_time": "2021-07-02T10:14:53.630Z"
   },
   {
    "duration": -343,
    "start_time": "2021-07-02T10:14:53.647Z"
   },
   {
    "duration": -345,
    "start_time": "2021-07-02T10:14:53.651Z"
   },
   {
    "duration": -348,
    "start_time": "2021-07-02T10:14:53.655Z"
   },
   {
    "duration": -350,
    "start_time": "2021-07-02T10:14:53.659Z"
   },
   {
    "duration": -356,
    "start_time": "2021-07-02T10:14:53.666Z"
   },
   {
    "duration": -723,
    "start_time": "2021-07-02T10:14:54.035Z"
   },
   {
    "duration": -730,
    "start_time": "2021-07-02T10:14:54.044Z"
   },
   {
    "duration": -733,
    "start_time": "2021-07-02T10:14:54.048Z"
   },
   {
    "duration": 975,
    "start_time": "2021-07-02T10:15:21.495Z"
   },
   {
    "duration": 52,
    "start_time": "2021-07-02T10:15:41.551Z"
   },
   {
    "duration": 47,
    "start_time": "2021-07-02T10:15:43.826Z"
   },
   {
    "duration": 10,
    "start_time": "2021-07-02T10:15:48.945Z"
   },
   {
    "duration": 9,
    "start_time": "2021-07-02T10:15:49.974Z"
   },
   {
    "duration": 8,
    "start_time": "2021-07-02T10:15:54.493Z"
   },
   {
    "duration": 443,
    "start_time": "2021-07-02T10:15:54.504Z"
   },
   {
    "duration": 16,
    "start_time": "2021-07-02T10:15:54.950Z"
   },
   {
    "duration": 27,
    "start_time": "2021-07-02T10:15:54.970Z"
   },
   {
    "duration": 17,
    "start_time": "2021-07-02T10:15:55.002Z"
   },
   {
    "duration": 33,
    "start_time": "2021-07-02T10:15:55.021Z"
   },
   {
    "duration": 45,
    "start_time": "2021-07-02T10:15:55.059Z"
   },
   {
    "duration": 92,
    "start_time": "2021-07-02T10:15:55.108Z"
   },
   {
    "duration": 8,
    "start_time": "2021-07-02T10:15:55.203Z"
   },
   {
    "duration": 30,
    "start_time": "2021-07-02T10:15:55.214Z"
   },
   {
    "duration": 9,
    "start_time": "2021-07-02T10:15:55.246Z"
   },
   {
    "duration": 41,
    "start_time": "2021-07-02T10:15:55.257Z"
   },
   {
    "duration": 20,
    "start_time": "2021-07-02T10:15:55.300Z"
   },
   {
    "duration": 178,
    "start_time": "2021-07-02T10:15:55.323Z"
   },
   {
    "duration": 66,
    "start_time": "2021-07-02T10:15:55.504Z"
   },
   {
    "duration": 41,
    "start_time": "2021-07-02T10:15:55.585Z"
   },
   {
    "duration": 19,
    "start_time": "2021-07-02T10:15:55.628Z"
   },
   {
    "duration": 2183,
    "start_time": "2021-07-02T10:15:55.650Z"
   },
   {
    "duration": 14,
    "start_time": "2021-07-02T10:15:57.837Z"
   },
   {
    "duration": 39,
    "start_time": "2021-07-02T10:15:57.853Z"
   },
   {
    "duration": 244,
    "start_time": "2021-07-02T10:15:57.894Z"
   },
   {
    "duration": 58,
    "start_time": "2021-07-02T10:15:58.141Z"
   },
   {
    "duration": 33,
    "start_time": "2021-07-02T10:16:01.046Z"
   },
   {
    "duration": 7,
    "start_time": "2021-07-02T10:16:03.523Z"
   },
   {
    "duration": 9,
    "start_time": "2021-07-02T10:16:04.201Z"
   },
   {
    "duration": 455,
    "start_time": "2021-07-02T10:17:33.218Z"
   },
   {
    "duration": 329,
    "start_time": "2021-07-02T10:19:07.671Z"
   },
   {
    "duration": 14,
    "start_time": "2021-07-02T10:20:39.187Z"
   },
   {
    "duration": 12,
    "start_time": "2021-07-02T10:22:41.192Z"
   },
   {
    "duration": 14,
    "start_time": "2021-07-02T10:23:54.405Z"
   },
   {
    "duration": 8,
    "start_time": "2021-07-02T10:24:11.942Z"
   },
   {
    "duration": 8,
    "start_time": "2021-07-02T10:24:45.542Z"
   },
   {
    "duration": 433,
    "start_time": "2021-07-02T10:24:45.553Z"
   },
   {
    "duration": 15,
    "start_time": "2021-07-02T10:24:45.989Z"
   },
   {
    "duration": 17,
    "start_time": "2021-07-02T10:24:46.007Z"
   },
   {
    "duration": 19,
    "start_time": "2021-07-02T10:24:46.028Z"
   },
   {
    "duration": 48,
    "start_time": "2021-07-02T10:24:46.049Z"
   },
   {
    "duration": 18,
    "start_time": "2021-07-02T10:24:46.101Z"
   },
   {
    "duration": 165,
    "start_time": "2021-07-02T10:24:46.125Z"
   },
   {
    "duration": 8,
    "start_time": "2021-07-02T10:24:46.293Z"
   },
   {
    "duration": 22,
    "start_time": "2021-07-02T10:24:46.304Z"
   },
   {
    "duration": 8,
    "start_time": "2021-07-02T10:24:46.328Z"
   },
   {
    "duration": 55,
    "start_time": "2021-07-02T10:24:46.338Z"
   },
   {
    "duration": 17,
    "start_time": "2021-07-02T10:24:46.396Z"
   },
   {
    "duration": 181,
    "start_time": "2021-07-02T10:24:46.416Z"
   },
   {
    "duration": 64,
    "start_time": "2021-07-02T10:24:46.600Z"
   },
   {
    "duration": 57,
    "start_time": "2021-07-02T10:24:46.667Z"
   },
   {
    "duration": 18,
    "start_time": "2021-07-02T10:24:46.727Z"
   },
   {
    "duration": 2176,
    "start_time": "2021-07-02T10:24:46.748Z"
   },
   {
    "duration": 13,
    "start_time": "2021-07-02T10:24:48.926Z"
   },
   {
    "duration": 17,
    "start_time": "2021-07-02T10:24:48.942Z"
   },
   {
    "duration": 224,
    "start_time": "2021-07-02T10:24:48.985Z"
   },
   {
    "duration": 43,
    "start_time": "2021-07-02T10:24:53.967Z"
   },
   {
    "duration": 10,
    "start_time": "2021-07-02T10:24:55.797Z"
   },
   {
    "duration": 5,
    "start_time": "2021-07-02T10:24:57.127Z"
   },
   {
    "duration": 7,
    "start_time": "2021-07-02T10:25:07.252Z"
   },
   {
    "duration": 7,
    "start_time": "2021-07-02T10:25:16.914Z"
   },
   {
    "duration": 395,
    "start_time": "2021-07-02T10:25:16.923Z"
   },
   {
    "duration": 15,
    "start_time": "2021-07-02T10:25:17.320Z"
   },
   {
    "duration": 18,
    "start_time": "2021-07-02T10:25:17.338Z"
   },
   {
    "duration": 37,
    "start_time": "2021-07-02T10:25:17.359Z"
   },
   {
    "duration": 18,
    "start_time": "2021-07-02T10:25:17.399Z"
   },
   {
    "duration": 17,
    "start_time": "2021-07-02T10:25:17.419Z"
   },
   {
    "duration": 96,
    "start_time": "2021-07-02T10:25:17.440Z"
   },
   {
    "duration": 7,
    "start_time": "2021-07-02T10:25:17.539Z"
   },
   {
    "duration": 42,
    "start_time": "2021-07-02T10:25:17.548Z"
   },
   {
    "duration": 7,
    "start_time": "2021-07-02T10:25:17.593Z"
   },
   {
    "duration": 19,
    "start_time": "2021-07-02T10:25:17.603Z"
   },
   {
    "duration": 18,
    "start_time": "2021-07-02T10:25:17.624Z"
   },
   {
    "duration": 188,
    "start_time": "2021-07-02T10:25:17.645Z"
   },
   {
    "duration": 80,
    "start_time": "2021-07-02T10:25:17.835Z"
   },
   {
    "duration": 41,
    "start_time": "2021-07-02T10:25:17.917Z"
   },
   {
    "duration": 40,
    "start_time": "2021-07-02T10:25:17.960Z"
   },
   {
    "duration": 2345,
    "start_time": "2021-07-02T10:25:18.002Z"
   },
   {
    "duration": 14,
    "start_time": "2021-07-02T10:25:20.349Z"
   },
   {
    "duration": 13,
    "start_time": "2021-07-02T10:25:20.385Z"
   },
   {
    "duration": 225,
    "start_time": "2021-07-02T10:25:20.401Z"
   },
   {
    "duration": 36,
    "start_time": "2021-07-02T10:25:24.325Z"
   },
   {
    "duration": 10,
    "start_time": "2021-07-02T10:25:24.926Z"
   },
   {
    "duration": 7,
    "start_time": "2021-07-02T10:25:25.484Z"
   },
   {
    "duration": 9,
    "start_time": "2021-07-02T10:25:26.053Z"
   },
   {
    "duration": 1964,
    "start_time": "2021-07-02T10:25:39.242Z"
   },
   {
    "duration": 391,
    "start_time": "2021-07-02T10:25:41.209Z"
   },
   {
    "duration": 18,
    "start_time": "2021-07-02T10:25:41.603Z"
   },
   {
    "duration": 16,
    "start_time": "2021-07-02T10:25:41.623Z"
   },
   {
    "duration": 46,
    "start_time": "2021-07-02T10:25:41.641Z"
   },
   {
    "duration": 17,
    "start_time": "2021-07-02T10:25:41.690Z"
   },
   {
    "duration": 28,
    "start_time": "2021-07-02T10:25:41.710Z"
   },
   {
    "duration": 93,
    "start_time": "2021-07-02T10:25:41.742Z"
   },
   {
    "duration": 8,
    "start_time": "2021-07-02T10:25:41.838Z"
   },
   {
    "duration": 42,
    "start_time": "2021-07-02T10:25:41.849Z"
   },
   {
    "duration": 8,
    "start_time": "2021-07-02T10:25:41.894Z"
   },
   {
    "duration": 20,
    "start_time": "2021-07-02T10:25:41.905Z"
   },
   {
    "duration": 17,
    "start_time": "2021-07-02T10:25:41.927Z"
   },
   {
    "duration": 205,
    "start_time": "2021-07-02T10:25:41.947Z"
   },
   {
    "duration": 76,
    "start_time": "2021-07-02T10:25:42.155Z"
   },
   {
    "duration": 67,
    "start_time": "2021-07-02T10:25:42.234Z"
   },
   {
    "duration": 20,
    "start_time": "2021-07-02T10:25:42.305Z"
   },
   {
    "duration": 2160,
    "start_time": "2021-07-02T10:25:42.327Z"
   },
   {
    "duration": 18,
    "start_time": "2021-07-02T10:25:44.490Z"
   },
   {
    "duration": 31,
    "start_time": "2021-07-02T10:25:44.512Z"
   },
   {
    "duration": 364,
    "start_time": "2021-07-02T10:25:44.546Z"
   },
   {
    "duration": 38,
    "start_time": "2021-07-02T10:25:44.913Z"
   },
   {
    "duration": 31,
    "start_time": "2021-07-02T10:25:44.957Z"
   },
   {
    "duration": 7,
    "start_time": "2021-07-02T10:25:44.993Z"
   },
   {
    "duration": 18,
    "start_time": "2021-07-02T10:25:45.003Z"
   },
   {
    "duration": 113,
    "start_time": "2021-07-02T10:25:45.024Z"
   },
   {
    "duration": -268,
    "start_time": "2021-07-02T10:25:45.408Z"
   },
   {
    "duration": -272,
    "start_time": "2021-07-02T10:25:45.413Z"
   },
   {
    "duration": -278,
    "start_time": "2021-07-02T10:25:45.421Z"
   },
   {
    "duration": -283,
    "start_time": "2021-07-02T10:25:45.427Z"
   },
   {
    "duration": -286,
    "start_time": "2021-07-02T10:25:45.432Z"
   },
   {
    "duration": -293,
    "start_time": "2021-07-02T10:25:45.440Z"
   },
   {
    "duration": -297,
    "start_time": "2021-07-02T10:25:45.446Z"
   },
   {
    "duration": -303,
    "start_time": "2021-07-02T10:25:45.453Z"
   },
   {
    "duration": -306,
    "start_time": "2021-07-02T10:25:45.458Z"
   },
   {
    "duration": -309,
    "start_time": "2021-07-02T10:25:45.462Z"
   },
   {
    "duration": -315,
    "start_time": "2021-07-02T10:25:45.470Z"
   },
   {
    "duration": -318,
    "start_time": "2021-07-02T10:25:45.474Z"
   },
   {
    "duration": -321,
    "start_time": "2021-07-02T10:25:45.479Z"
   },
   {
    "duration": -328,
    "start_time": "2021-07-02T10:25:45.487Z"
   },
   {
    "duration": -331,
    "start_time": "2021-07-02T10:25:45.492Z"
   },
   {
    "duration": -334,
    "start_time": "2021-07-02T10:25:45.496Z"
   },
   {
    "duration": -340,
    "start_time": "2021-07-02T10:25:45.504Z"
   },
   {
    "duration": -344,
    "start_time": "2021-07-02T10:25:45.509Z"
   },
   {
    "duration": -360,
    "start_time": "2021-07-02T10:25:45.527Z"
   },
   {
    "duration": -376,
    "start_time": "2021-07-02T10:25:45.544Z"
   },
   {
    "duration": -382,
    "start_time": "2021-07-02T10:25:45.552Z"
   },
   {
    "duration": -385,
    "start_time": "2021-07-02T10:25:45.557Z"
   },
   {
    "duration": -387,
    "start_time": "2021-07-02T10:25:45.560Z"
   },
   {
    "duration": -394,
    "start_time": "2021-07-02T10:25:45.569Z"
   },
   {
    "duration": -389,
    "start_time": "2021-07-02T10:25:45.573Z"
   },
   {
    "duration": -392,
    "start_time": "2021-07-02T10:25:45.578Z"
   },
   {
    "duration": -398,
    "start_time": "2021-07-02T10:25:45.586Z"
   },
   {
    "duration": -401,
    "start_time": "2021-07-02T10:25:45.590Z"
   },
   {
    "duration": -404,
    "start_time": "2021-07-02T10:25:45.595Z"
   },
   {
    "duration": -410,
    "start_time": "2021-07-02T10:25:45.602Z"
   },
   {
    "duration": -413,
    "start_time": "2021-07-02T10:25:45.607Z"
   },
   {
    "duration": 7,
    "start_time": "2021-07-02T10:29:01.107Z"
   },
   {
    "duration": 35,
    "start_time": "2021-07-02T10:30:22.681Z"
   },
   {
    "duration": 37,
    "start_time": "2021-07-02T10:30:52.702Z"
   },
   {
    "duration": 10,
    "start_time": "2021-07-02T10:30:53.204Z"
   },
   {
    "duration": 7,
    "start_time": "2021-07-02T10:30:54.203Z"
   },
   {
    "duration": 8,
    "start_time": "2021-07-02T10:30:57.667Z"
   },
   {
    "duration": 6,
    "start_time": "2021-07-02T10:31:30.076Z"
   },
   {
    "duration": 432,
    "start_time": "2021-07-02T10:31:30.086Z"
   },
   {
    "duration": 17,
    "start_time": "2021-07-02T10:31:30.522Z"
   },
   {
    "duration": 44,
    "start_time": "2021-07-02T10:31:30.543Z"
   },
   {
    "duration": 20,
    "start_time": "2021-07-02T10:31:30.590Z"
   },
   {
    "duration": 15,
    "start_time": "2021-07-02T10:31:30.613Z"
   },
   {
    "duration": 23,
    "start_time": "2021-07-02T10:31:30.630Z"
   },
   {
    "duration": 88,
    "start_time": "2021-07-02T10:31:30.656Z"
   },
   {
    "duration": 36,
    "start_time": "2021-07-02T10:31:30.750Z"
   },
   {
    "duration": 33,
    "start_time": "2021-07-02T10:31:30.789Z"
   },
   {
    "duration": 15,
    "start_time": "2021-07-02T10:31:30.825Z"
   },
   {
    "duration": 25,
    "start_time": "2021-07-02T10:31:30.843Z"
   },
   {
    "duration": 34,
    "start_time": "2021-07-02T10:31:30.871Z"
   },
   {
    "duration": 178,
    "start_time": "2021-07-02T10:31:30.909Z"
   },
   {
    "duration": 66,
    "start_time": "2021-07-02T10:31:31.090Z"
   },
   {
    "duration": 65,
    "start_time": "2021-07-02T10:31:31.159Z"
   },
   {
    "duration": 20,
    "start_time": "2021-07-02T10:31:31.227Z"
   },
   {
    "duration": 2161,
    "start_time": "2021-07-02T10:31:31.250Z"
   },
   {
    "duration": 14,
    "start_time": "2021-07-02T10:31:33.413Z"
   },
   {
    "duration": 17,
    "start_time": "2021-07-02T10:31:33.429Z"
   },
   {
    "duration": 299,
    "start_time": "2021-07-02T10:31:33.449Z"
   },
   {
    "duration": 193,
    "start_time": "2021-07-02T10:31:37.981Z"
   },
   {
    "duration": 6,
    "start_time": "2021-07-02T10:31:41.083Z"
   },
   {
    "duration": 39,
    "start_time": "2021-07-02T10:31:44.273Z"
   },
   {
    "duration": 11,
    "start_time": "2021-07-02T10:31:45.522Z"
   },
   {
    "duration": 5,
    "start_time": "2021-07-02T10:31:47.609Z"
   },
   {
    "duration": 7,
    "start_time": "2021-07-02T10:31:55.319Z"
   },
   {
    "duration": 22,
    "start_time": "2021-07-02T10:32:04.490Z"
   },
   {
    "duration": 1719,
    "start_time": "2021-07-02T11:04:34.712Z"
   },
   {
    "duration": 491,
    "start_time": "2021-07-02T11:04:36.433Z"
   },
   {
    "duration": 19,
    "start_time": "2021-07-02T11:04:36.930Z"
   },
   {
    "duration": 37,
    "start_time": "2021-07-02T11:04:36.952Z"
   },
   {
    "duration": 23,
    "start_time": "2021-07-02T11:04:36.992Z"
   },
   {
    "duration": 12,
    "start_time": "2021-07-02T11:04:37.018Z"
   },
   {
    "duration": 57,
    "start_time": "2021-07-02T11:04:37.034Z"
   },
   {
    "duration": 111,
    "start_time": "2021-07-02T11:04:37.095Z"
   },
   {
    "duration": 12,
    "start_time": "2021-07-02T11:04:37.209Z"
   },
   {
    "duration": 27,
    "start_time": "2021-07-02T11:04:37.224Z"
   },
   {
    "duration": 37,
    "start_time": "2021-07-02T11:04:37.254Z"
   },
   {
    "duration": 20,
    "start_time": "2021-07-02T11:04:37.294Z"
   },
   {
    "duration": 35,
    "start_time": "2021-07-02T11:04:37.317Z"
   },
   {
    "duration": 207,
    "start_time": "2021-07-02T11:04:37.354Z"
   },
   {
    "duration": 83,
    "start_time": "2021-07-02T11:04:37.564Z"
   },
   {
    "duration": 72,
    "start_time": "2021-07-02T11:04:37.649Z"
   },
   {
    "duration": 19,
    "start_time": "2021-07-02T11:04:37.723Z"
   },
   {
    "duration": 2400,
    "start_time": "2021-07-02T11:04:37.744Z"
   },
   {
    "duration": 18,
    "start_time": "2021-07-02T11:04:40.147Z"
   },
   {
    "duration": 42,
    "start_time": "2021-07-02T11:04:40.168Z"
   },
   {
    "duration": 260,
    "start_time": "2021-07-02T11:04:40.213Z"
   },
   {
    "duration": 32,
    "start_time": "2021-07-02T11:04:40.487Z"
   },
   {
    "duration": 10,
    "start_time": "2021-07-02T11:04:40.522Z"
   },
   {
    "duration": 54,
    "start_time": "2021-07-02T11:04:40.535Z"
   },
   {
    "duration": 16,
    "start_time": "2021-07-02T11:04:40.593Z"
   },
   {
    "duration": 18,
    "start_time": "2021-07-02T11:04:40.612Z"
   },
   {
    "duration": 33,
    "start_time": "2021-07-02T11:04:40.632Z"
   },
   {
    "duration": 25,
    "start_time": "2021-07-02T11:04:40.686Z"
   },
   {
    "duration": 42,
    "start_time": "2021-07-02T11:04:40.714Z"
   },
   {
    "duration": 53,
    "start_time": "2021-07-02T11:04:40.786Z"
   },
   {
    "duration": 57,
    "start_time": "2021-07-02T11:04:40.842Z"
   },
   {
    "duration": 11,
    "start_time": "2021-07-02T11:04:40.902Z"
   },
   {
    "duration": 65,
    "start_time": "2021-07-02T11:04:40.915Z"
   },
   {
    "duration": 40,
    "start_time": "2021-07-02T11:04:40.990Z"
   },
   {
    "duration": 30,
    "start_time": "2021-07-02T11:04:41.033Z"
   },
   {
    "duration": 28,
    "start_time": "2021-07-02T11:04:41.087Z"
   },
   {
    "duration": 1125,
    "start_time": "2021-07-02T11:04:41.118Z"
   },
   {
    "duration": 1268,
    "start_time": "2021-07-02T11:04:42.246Z"
   },
   {
    "duration": 1323,
    "start_time": "2021-07-02T11:04:43.517Z"
   },
   {
    "duration": 632,
    "start_time": "2021-07-02T11:04:44.843Z"
   },
   {
    "duration": 18,
    "start_time": "2021-07-02T11:04:45.486Z"
   },
   {
    "duration": 18,
    "start_time": "2021-07-02T11:04:45.507Z"
   },
   {
    "duration": 8,
    "start_time": "2021-07-02T11:04:45.528Z"
   },
   {
    "duration": 49,
    "start_time": "2021-07-02T11:04:45.539Z"
   },
   {
    "duration": 18,
    "start_time": "2021-07-02T11:04:45.592Z"
   },
   {
    "duration": 16,
    "start_time": "2021-07-02T11:04:45.612Z"
   },
   {
    "duration": 23,
    "start_time": "2021-07-02T11:04:45.631Z"
   },
   {
    "duration": 17,
    "start_time": "2021-07-02T11:04:45.657Z"
   },
   {
    "duration": 7,
    "start_time": "2021-07-02T11:04:45.693Z"
   },
   {
    "duration": 16,
    "start_time": "2021-07-02T11:04:45.704Z"
   },
   {
    "duration": 17,
    "start_time": "2021-07-02T11:04:45.723Z"
   },
   {
    "duration": 21,
    "start_time": "2021-07-02T11:04:45.742Z"
   },
   {
    "duration": 23,
    "start_time": "2021-07-02T11:28:08.677Z"
   },
   {
    "duration": 25,
    "start_time": "2021-07-02T11:28:20.771Z"
   },
   {
    "duration": 25,
    "start_time": "2021-07-02T11:31:03.975Z"
   },
   {
    "duration": 23,
    "start_time": "2021-07-02T11:31:08.466Z"
   },
   {
    "duration": 24,
    "start_time": "2021-07-02T11:33:42.923Z"
   },
   {
    "duration": 24,
    "start_time": "2021-07-02T11:36:06.097Z"
   },
   {
    "duration": 38,
    "start_time": "2021-07-02T11:39:20.665Z"
   },
   {
    "duration": 27,
    "start_time": "2021-07-02T11:39:24.417Z"
   },
   {
    "duration": 25,
    "start_time": "2021-07-02T11:42:38.792Z"
   },
   {
    "duration": 36,
    "start_time": "2021-07-02T11:44:49.977Z"
   },
   {
    "duration": 25,
    "start_time": "2021-07-02T11:44:54.162Z"
   },
   {
    "duration": 120,
    "start_time": "2021-07-02T19:33:45.481Z"
   },
   {
    "duration": 385,
    "start_time": "2021-07-02T19:34:14.921Z"
   },
   {
    "duration": 1555,
    "start_time": "2021-07-02T19:34:21.469Z"
   },
   {
    "duration": 390,
    "start_time": "2021-07-02T19:34:23.026Z"
   },
   {
    "duration": 19,
    "start_time": "2021-07-02T19:34:23.419Z"
   },
   {
    "duration": 31,
    "start_time": "2021-07-02T19:34:23.440Z"
   },
   {
    "duration": 18,
    "start_time": "2021-07-02T19:34:23.474Z"
   },
   {
    "duration": 20,
    "start_time": "2021-07-02T19:34:23.494Z"
   },
   {
    "duration": 45,
    "start_time": "2021-07-02T19:34:23.516Z"
   },
   {
    "duration": 59,
    "start_time": "2021-07-02T19:34:23.565Z"
   },
   {
    "duration": 8,
    "start_time": "2021-07-02T19:34:23.627Z"
   },
   {
    "duration": 21,
    "start_time": "2021-07-02T19:34:23.661Z"
   },
   {
    "duration": 9,
    "start_time": "2021-07-02T19:34:23.684Z"
   },
   {
    "duration": 19,
    "start_time": "2021-07-02T19:34:23.697Z"
   },
   {
    "duration": 59,
    "start_time": "2021-07-02T19:34:23.719Z"
   },
   {
    "duration": 181,
    "start_time": "2021-07-02T19:34:23.781Z"
   },
   {
    "duration": 65,
    "start_time": "2021-07-02T19:34:23.964Z"
   },
   {
    "duration": 57,
    "start_time": "2021-07-02T19:34:24.032Z"
   },
   {
    "duration": 20,
    "start_time": "2021-07-02T19:34:24.092Z"
   },
   {
    "duration": 2216,
    "start_time": "2021-07-02T19:34:24.114Z"
   },
   {
    "duration": 16,
    "start_time": "2021-07-02T19:34:26.332Z"
   },
   {
    "duration": 15,
    "start_time": "2021-07-02T19:34:26.363Z"
   },
   {
    "duration": 253,
    "start_time": "2021-07-02T19:34:26.380Z"
   },
   {
    "duration": 36,
    "start_time": "2021-07-02T19:34:26.636Z"
   },
   {
    "duration": 8,
    "start_time": "2021-07-02T19:34:26.677Z"
   },
   {
    "duration": 26,
    "start_time": "2021-07-02T19:34:26.688Z"
   },
   {
    "duration": 10,
    "start_time": "2021-07-02T19:34:26.716Z"
   },
   {
    "duration": 43,
    "start_time": "2021-07-02T19:34:26.728Z"
   },
   {
    "duration": 15,
    "start_time": "2021-07-02T19:34:26.774Z"
   },
   {
    "duration": 19,
    "start_time": "2021-07-02T19:34:26.791Z"
   },
   {
    "duration": 65,
    "start_time": "2021-07-02T19:34:26.814Z"
   },
   {
    "duration": 37,
    "start_time": "2021-07-02T19:34:26.882Z"
   },
   {
    "duration": 43,
    "start_time": "2021-07-02T19:34:26.922Z"
   },
   {
    "duration": 23,
    "start_time": "2021-07-02T19:34:26.967Z"
   },
   {
    "duration": 9,
    "start_time": "2021-07-02T19:34:26.992Z"
   },
   {
    "duration": 68,
    "start_time": "2021-07-02T19:34:27.003Z"
   },
   {
    "duration": 22,
    "start_time": "2021-07-02T19:34:27.073Z"
   },
   {
    "duration": 20,
    "start_time": "2021-07-02T19:34:27.097Z"
   },
   {
    "duration": 1050,
    "start_time": "2021-07-02T19:34:27.120Z"
   },
   {
    "duration": 1162,
    "start_time": "2021-07-02T19:34:28.173Z"
   },
   {
    "duration": 1060,
    "start_time": "2021-07-02T19:34:29.338Z"
   },
   {
    "duration": 501,
    "start_time": "2021-07-02T19:34:30.402Z"
   },
   {
    "duration": 15,
    "start_time": "2021-07-02T19:34:30.905Z"
   },
   {
    "duration": 39,
    "start_time": "2021-07-02T19:34:30.923Z"
   },
   {
    "duration": 8,
    "start_time": "2021-07-02T19:34:30.965Z"
   },
   {
    "duration": 24,
    "start_time": "2021-07-02T19:34:30.975Z"
   },
   {
    "duration": 34,
    "start_time": "2021-07-02T19:34:31.001Z"
   },
   {
    "duration": 23,
    "start_time": "2021-07-02T19:34:31.038Z"
   },
   {
    "duration": 16,
    "start_time": "2021-07-02T19:34:31.064Z"
   },
   {
    "duration": 15,
    "start_time": "2021-07-02T19:34:31.082Z"
   },
   {
    "duration": 44,
    "start_time": "2021-07-02T19:34:31.099Z"
   },
   {
    "duration": 13,
    "start_time": "2021-07-02T19:34:31.145Z"
   },
   {
    "duration": 30,
    "start_time": "2021-07-02T19:34:31.161Z"
   },
   {
    "duration": 29,
    "start_time": "2021-07-02T19:34:31.193Z"
   },
   {
    "duration": 23,
    "start_time": "2021-07-02T19:39:20.437Z"
   },
   {
    "duration": 151,
    "start_time": "2021-07-02T19:42:57.140Z"
   },
   {
    "duration": 589,
    "start_time": "2021-07-02T19:47:23.910Z"
   },
   {
    "duration": 135,
    "start_time": "2021-07-02T19:49:14.277Z"
   },
   {
    "duration": 454,
    "start_time": "2021-07-02T19:49:25.542Z"
   },
   {
    "duration": 108,
    "start_time": "2021-07-02T19:49:44.305Z"
   },
   {
    "duration": 149,
    "start_time": "2021-07-02T19:49:51.895Z"
   },
   {
    "duration": 131,
    "start_time": "2021-07-02T19:51:52.653Z"
   },
   {
    "duration": 121,
    "start_time": "2021-07-02T19:52:16.498Z"
   },
   {
    "duration": 339,
    "start_time": "2021-07-02T19:52:39.773Z"
   },
   {
    "duration": 443,
    "start_time": "2021-07-02T19:56:45.598Z"
   },
   {
    "duration": 467,
    "start_time": "2021-07-02T19:59:05.251Z"
   },
   {
    "duration": 132,
    "start_time": "2021-07-02T20:00:53.153Z"
   },
   {
    "duration": 126,
    "start_time": "2021-07-02T20:02:18.402Z"
   },
   {
    "duration": 155,
    "start_time": "2021-07-02T20:03:43.049Z"
   },
   {
    "duration": 166,
    "start_time": "2021-07-02T20:10:55.557Z"
   },
   {
    "duration": 531,
    "start_time": "2021-07-02T20:11:28.999Z"
   },
   {
    "duration": 152,
    "start_time": "2021-07-02T20:15:32.714Z"
   },
   {
    "duration": 171,
    "start_time": "2021-07-02T20:15:36.379Z"
   },
   {
    "duration": 521,
    "start_time": "2021-07-02T20:15:48.684Z"
   },
   {
    "duration": 244,
    "start_time": "2021-07-02T20:16:44.293Z"
   },
   {
    "duration": 240,
    "start_time": "2021-07-02T20:17:03.072Z"
   },
   {
    "duration": 594,
    "start_time": "2021-07-02T20:17:45.540Z"
   },
   {
    "duration": 237,
    "start_time": "2021-07-02T20:17:56.423Z"
   },
   {
    "duration": 171,
    "start_time": "2021-07-02T20:18:18.845Z"
   },
   {
    "duration": 180,
    "start_time": "2021-07-02T20:18:43.542Z"
   },
   {
    "duration": 28,
    "start_time": "2021-07-02T20:18:46.595Z"
   },
   {
    "duration": 9,
    "start_time": "2021-07-02T20:18:54.092Z"
   },
   {
    "duration": 30,
    "start_time": "2021-07-02T20:19:01.450Z"
   },
   {
    "duration": 169,
    "start_time": "2021-07-02T20:19:47.025Z"
   },
   {
    "duration": 168,
    "start_time": "2021-07-02T20:20:03.420Z"
   },
   {
    "duration": 1099,
    "start_time": "2021-07-05T12:14:04.207Z"
   },
   {
    "duration": 262,
    "start_time": "2021-07-05T12:14:05.308Z"
   },
   {
    "duration": 12,
    "start_time": "2021-07-05T12:14:05.572Z"
   },
   {
    "duration": 8,
    "start_time": "2021-07-05T12:14:05.591Z"
   },
   {
    "duration": 12,
    "start_time": "2021-07-05T12:14:05.600Z"
   },
   {
    "duration": 8,
    "start_time": "2021-07-05T12:14:05.613Z"
   },
   {
    "duration": 13,
    "start_time": "2021-07-05T12:14:05.622Z"
   },
   {
    "duration": 85,
    "start_time": "2021-07-05T12:14:05.637Z"
   },
   {
    "duration": 6,
    "start_time": "2021-07-05T12:14:05.725Z"
   },
   {
    "duration": 27,
    "start_time": "2021-07-05T12:14:05.733Z"
   },
   {
    "duration": 8,
    "start_time": "2021-07-05T12:14:05.762Z"
   },
   {
    "duration": 29,
    "start_time": "2021-07-05T12:14:05.771Z"
   },
   {
    "duration": 11,
    "start_time": "2021-07-05T12:14:05.802Z"
   },
   {
    "duration": 117,
    "start_time": "2021-07-05T12:14:05.815Z"
   },
   {
    "duration": 38,
    "start_time": "2021-07-05T12:14:05.934Z"
   },
   {
    "duration": 34,
    "start_time": "2021-07-05T12:14:05.973Z"
   },
   {
    "duration": 10,
    "start_time": "2021-07-05T12:14:06.008Z"
   },
   {
    "duration": 1600,
    "start_time": "2021-07-05T12:14:06.020Z"
   },
   {
    "duration": 10,
    "start_time": "2021-07-05T12:14:07.622Z"
   },
   {
    "duration": 15,
    "start_time": "2021-07-05T12:14:07.634Z"
   },
   {
    "duration": 162,
    "start_time": "2021-07-05T12:14:07.650Z"
   },
   {
    "duration": 13,
    "start_time": "2021-07-05T12:14:07.814Z"
   },
   {
    "duration": 8,
    "start_time": "2021-07-05T12:14:07.830Z"
   },
   {
    "duration": 14,
    "start_time": "2021-07-05T12:14:07.840Z"
   },
   {
    "duration": 6,
    "start_time": "2021-07-05T12:14:07.855Z"
   },
   {
    "duration": 11,
    "start_time": "2021-07-05T12:14:07.862Z"
   },
   {
    "duration": 9,
    "start_time": "2021-07-05T12:14:07.891Z"
   },
   {
    "duration": 9,
    "start_time": "2021-07-05T12:14:07.901Z"
   },
   {
    "duration": 29,
    "start_time": "2021-07-05T12:14:07.911Z"
   },
   {
    "duration": 18,
    "start_time": "2021-07-05T12:14:07.941Z"
   },
   {
    "duration": 12,
    "start_time": "2021-07-05T12:14:07.961Z"
   },
   {
    "duration": 11,
    "start_time": "2021-07-05T12:14:07.991Z"
   },
   {
    "duration": 9,
    "start_time": "2021-07-05T12:14:08.004Z"
   },
   {
    "duration": 33,
    "start_time": "2021-07-05T12:14:08.014Z"
   },
   {
    "duration": 15,
    "start_time": "2021-07-05T12:14:08.049Z"
   },
   {
    "duration": 20,
    "start_time": "2021-07-05T12:14:08.066Z"
   },
   {
    "duration": 649,
    "start_time": "2021-07-05T12:14:08.091Z"
   },
   {
    "duration": 546,
    "start_time": "2021-07-05T12:14:08.742Z"
   },
   {
    "duration": 591,
    "start_time": "2021-07-05T12:14:09.290Z"
   },
   {
    "duration": 270,
    "start_time": "2021-07-05T12:14:09.883Z"
   },
   {
    "duration": 10,
    "start_time": "2021-07-05T12:14:10.155Z"
   },
   {
    "duration": 26,
    "start_time": "2021-07-05T12:14:10.166Z"
   },
   {
    "duration": 5,
    "start_time": "2021-07-05T12:14:10.194Z"
   },
   {
    "duration": 9,
    "start_time": "2021-07-05T12:14:10.200Z"
   },
   {
    "duration": 21,
    "start_time": "2021-07-05T12:14:10.210Z"
   },
   {
    "duration": 12,
    "start_time": "2021-07-05T12:14:10.232Z"
   },
   {
    "duration": 11,
    "start_time": "2021-07-05T12:14:10.245Z"
   },
   {
    "duration": 10,
    "start_time": "2021-07-05T12:14:10.258Z"
   },
   {
    "duration": 11,
    "start_time": "2021-07-05T12:14:10.270Z"
   },
   {
    "duration": 8,
    "start_time": "2021-07-05T12:14:10.282Z"
   },
   {
    "duration": 10,
    "start_time": "2021-07-05T12:14:10.292Z"
   },
   {
    "duration": 9,
    "start_time": "2021-07-05T12:14:10.304Z"
   },
   {
    "duration": 297,
    "start_time": "2021-07-05T12:16:10.164Z"
   },
   {
    "duration": 4,
    "start_time": "2021-07-05T12:16:31.651Z"
   },
   {
    "duration": 5427,
    "start_time": "2021-07-05T12:17:34.365Z"
   },
   {
    "duration": 5,
    "start_time": "2021-07-05T12:18:26.638Z"
   },
   {
    "duration": 291,
    "start_time": "2021-07-05T12:18:26.647Z"
   },
   {
    "duration": 9,
    "start_time": "2021-07-05T12:18:26.940Z"
   },
   {
    "duration": 20,
    "start_time": "2021-07-05T12:18:26.951Z"
   },
   {
    "duration": 7,
    "start_time": "2021-07-05T12:18:26.973Z"
   },
   {
    "duration": 14,
    "start_time": "2021-07-05T12:18:26.981Z"
   },
   {
    "duration": 13,
    "start_time": "2021-07-05T12:18:26.996Z"
   },
   {
    "duration": 46,
    "start_time": "2021-07-05T12:18:27.010Z"
   },
   {
    "duration": 4,
    "start_time": "2021-07-05T12:18:27.059Z"
   },
   {
    "duration": 18,
    "start_time": "2021-07-05T12:18:27.065Z"
   },
   {
    "duration": 5,
    "start_time": "2021-07-05T12:18:27.091Z"
   },
   {
    "duration": 13,
    "start_time": "2021-07-05T12:18:27.098Z"
   },
   {
    "duration": 15,
    "start_time": "2021-07-05T12:18:27.112Z"
   },
   {
    "duration": 103,
    "start_time": "2021-07-05T12:18:27.128Z"
   },
   {
    "duration": 36,
    "start_time": "2021-07-05T12:18:27.233Z"
   },
   {
    "duration": 45,
    "start_time": "2021-07-05T12:18:27.271Z"
   },
   {
    "duration": 11,
    "start_time": "2021-07-05T12:18:27.318Z"
   },
   {
    "duration": 1196,
    "start_time": "2021-07-05T12:18:27.331Z"
   },
   {
    "duration": 8,
    "start_time": "2021-07-05T12:18:28.529Z"
   },
   {
    "duration": 14,
    "start_time": "2021-07-05T12:18:28.538Z"
   },
   {
    "duration": 80,
    "start_time": "2021-07-05T12:18:30.875Z"
   },
   {
    "duration": 5320,
    "start_time": "2021-07-05T12:18:32.535Z"
   },
   {
    "duration": 65,
    "start_time": "2021-07-05T12:18:49.847Z"
   },
   {
    "duration": 5475,
    "start_time": "2021-07-05T12:18:52.519Z"
   },
   {
    "duration": 10,
    "start_time": "2021-07-05T12:19:18.177Z"
   },
   {
    "duration": 6499,
    "start_time": "2021-07-05T12:19:19.695Z"
   },
   {
    "duration": 5,
    "start_time": "2021-07-05T12:19:36.988Z"
   },
   {
    "duration": 4,
    "start_time": "2021-07-05T12:19:38.316Z"
   },
   {
    "duration": 4,
    "start_time": "2021-07-05T12:36:40.752Z"
   },
   {
    "duration": 290,
    "start_time": "2021-07-05T12:36:40.758Z"
   },
   {
    "duration": 8,
    "start_time": "2021-07-05T12:36:41.050Z"
   },
   {
    "duration": 15,
    "start_time": "2021-07-05T12:36:41.060Z"
   },
   {
    "duration": 16,
    "start_time": "2021-07-05T12:36:41.076Z"
   },
   {
    "duration": 9,
    "start_time": "2021-07-05T12:36:41.093Z"
   },
   {
    "duration": 16,
    "start_time": "2021-07-05T12:36:41.104Z"
   },
   {
    "duration": 36,
    "start_time": "2021-07-05T12:36:41.122Z"
   },
   {
    "duration": 4,
    "start_time": "2021-07-05T12:36:41.160Z"
   },
   {
    "duration": 31,
    "start_time": "2021-07-05T12:36:41.166Z"
   },
   {
    "duration": 6,
    "start_time": "2021-07-05T12:36:41.198Z"
   },
   {
    "duration": 12,
    "start_time": "2021-07-05T12:36:41.205Z"
   },
   {
    "duration": 12,
    "start_time": "2021-07-05T12:36:41.218Z"
   },
   {
    "duration": 117,
    "start_time": "2021-07-05T12:36:41.232Z"
   },
   {
    "duration": 50,
    "start_time": "2021-07-05T12:36:41.351Z"
   },
   {
    "duration": 25,
    "start_time": "2021-07-05T12:36:41.402Z"
   },
   {
    "duration": 11,
    "start_time": "2021-07-05T12:36:41.428Z"
   },
   {
    "duration": 1240,
    "start_time": "2021-07-05T12:36:41.441Z"
   },
   {
    "duration": 14,
    "start_time": "2021-07-05T12:36:42.684Z"
   },
   {
    "duration": 8,
    "start_time": "2021-07-05T12:36:42.699Z"
   },
   {
    "duration": 97,
    "start_time": "2021-07-05T12:36:42.709Z"
   },
   {
    "duration": 241,
    "start_time": "2021-07-05T12:36:45.837Z"
   },
   {
    "duration": 20,
    "start_time": "2021-07-05T12:37:13.801Z"
   },
   {
    "duration": 5547,
    "start_time": "2021-07-05T12:37:35.158Z"
   },
   {
    "duration": 21,
    "start_time": "2021-07-05T12:37:55.014Z"
   },
   {
    "duration": 4,
    "start_time": "2021-07-05T12:37:56.447Z"
   },
   {
    "duration": 14,
    "start_time": "2021-07-05T12:38:24.468Z"
   },
   {
    "duration": 4,
    "start_time": "2021-07-05T12:39:03.116Z"
   },
   {
    "duration": 293,
    "start_time": "2021-07-05T12:39:03.123Z"
   },
   {
    "duration": 8,
    "start_time": "2021-07-05T12:39:03.418Z"
   },
   {
    "duration": 13,
    "start_time": "2021-07-05T12:39:03.428Z"
   },
   {
    "duration": 16,
    "start_time": "2021-07-05T12:39:03.443Z"
   },
   {
    "duration": 12,
    "start_time": "2021-07-05T12:39:03.460Z"
   },
   {
    "duration": 13,
    "start_time": "2021-07-05T12:39:03.474Z"
   },
   {
    "duration": 42,
    "start_time": "2021-07-05T12:39:03.491Z"
   },
   {
    "duration": 5,
    "start_time": "2021-07-05T12:39:03.536Z"
   },
   {
    "duration": 17,
    "start_time": "2021-07-05T12:39:03.542Z"
   },
   {
    "duration": 4,
    "start_time": "2021-07-05T12:39:03.560Z"
   },
   {
    "duration": 30,
    "start_time": "2021-07-05T12:39:03.565Z"
   },
   {
    "duration": 13,
    "start_time": "2021-07-05T12:39:03.596Z"
   },
   {
    "duration": 94,
    "start_time": "2021-07-05T12:39:03.610Z"
   },
   {
    "duration": 36,
    "start_time": "2021-07-05T12:39:03.706Z"
   },
   {
    "duration": 23,
    "start_time": "2021-07-05T12:39:03.744Z"
   },
   {
    "duration": 26,
    "start_time": "2021-07-05T12:39:03.768Z"
   },
   {
    "duration": 1204,
    "start_time": "2021-07-05T12:39:03.795Z"
   },
   {
    "duration": 8,
    "start_time": "2021-07-05T12:39:05.000Z"
   },
   {
    "duration": 18,
    "start_time": "2021-07-05T12:39:05.009Z"
   },
   {
    "duration": 111,
    "start_time": "2021-07-05T12:39:36.217Z"
   },
   {
    "duration": 4,
    "start_time": "2021-07-05T12:39:41.228Z"
   },
   {
    "duration": 5,
    "start_time": "2021-07-05T12:41:55.133Z"
   },
   {
    "duration": 280,
    "start_time": "2021-07-05T12:41:55.142Z"
   },
   {
    "duration": 8,
    "start_time": "2021-07-05T12:41:55.424Z"
   },
   {
    "duration": 18,
    "start_time": "2021-07-05T12:41:55.433Z"
   },
   {
    "duration": 17,
    "start_time": "2021-07-05T12:41:55.453Z"
   },
   {
    "duration": 15,
    "start_time": "2021-07-05T12:41:55.471Z"
   },
   {
    "duration": 29,
    "start_time": "2021-07-05T12:41:55.488Z"
   },
   {
    "duration": 37,
    "start_time": "2021-07-05T12:41:55.519Z"
   },
   {
    "duration": 5,
    "start_time": "2021-07-05T12:41:55.558Z"
   },
   {
    "duration": 16,
    "start_time": "2021-07-05T12:41:55.565Z"
   },
   {
    "duration": 6,
    "start_time": "2021-07-05T12:41:55.583Z"
   },
   {
    "duration": 22,
    "start_time": "2021-07-05T12:41:55.590Z"
   },
   {
    "duration": 16,
    "start_time": "2021-07-05T12:41:55.614Z"
   },
   {
    "duration": 90,
    "start_time": "2021-07-05T12:41:55.632Z"
   },
   {
    "duration": 38,
    "start_time": "2021-07-05T12:41:55.723Z"
   },
   {
    "duration": 37,
    "start_time": "2021-07-05T12:41:55.762Z"
   },
   {
    "duration": 11,
    "start_time": "2021-07-05T12:41:55.800Z"
   },
   {
    "duration": 1372,
    "start_time": "2021-07-05T12:41:55.812Z"
   },
   {
    "duration": 11,
    "start_time": "2021-07-05T12:41:57.186Z"
   },
   {
    "duration": 13,
    "start_time": "2021-07-05T12:41:57.198Z"
   },
   {
    "duration": 86,
    "start_time": "2021-07-05T12:42:01.714Z"
   },
   {
    "duration": 22,
    "start_time": "2021-07-05T12:42:06.288Z"
   },
   {
    "duration": 5,
    "start_time": "2021-07-05T12:42:08.145Z"
   }
  ],
  "kernelspec": {
   "display_name": "Python 3",
   "language": "python",
   "name": "python3"
  },
  "language_info": {
   "codemirror_mode": {
    "name": "ipython",
    "version": 3
   },
   "file_extension": ".py",
   "mimetype": "text/x-python",
   "name": "python",
   "nbconvert_exporter": "python",
   "pygments_lexer": "ipython3",
   "version": "3.8.5"
  },
  "toc": {
   "base_numbering": 1,
   "nav_menu": {},
   "number_sections": true,
   "sideBar": true,
   "skip_h1_title": true,
   "title_cell": "Table of Contents",
   "title_sidebar": "Contents",
   "toc_cell": false,
   "toc_position": {
    "height": "calc(100% - 180px)",
    "left": "10px",
    "top": "150px",
    "width": "165px"
   },
   "toc_section_display": true,
   "toc_window_display": false
  }
 },
 "nbformat": 4,
 "nbformat_minor": 4
}
