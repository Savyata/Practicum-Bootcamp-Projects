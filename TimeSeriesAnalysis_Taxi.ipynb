{
 "cells": [
  {
   "cell_type": "markdown",
   "metadata": {},
   "source": [
    "# Project Background and Objectives\n",
    "\n",
    "Sweet Lift Taxi company has collected historical data on taxi orders at airports. To attract more drivers during peak hours, we need to predict the amount of taxi orders for the next hour. Build a model for such a prediction.\n",
    "\n",
    "The RMSE metric on the test set should not be more than 48.\n"
   ]
  },
  {
   "cell_type": "markdown",
   "metadata": {},
   "source": [
    "#### Importing the necessary libraries"
   ]
  },
  {
   "cell_type": "code",
   "execution_count": 2,
   "metadata": {},
   "outputs": [],
   "source": [
    "import pandas as pd\n",
    "import numpy as np\n",
    "import math\n",
    "from sklearn.model_selection import train_test_split\n",
    "from sklearn.linear_model import LinearRegression\n",
    "from sklearn.metrics import mean_squared_error\n",
    "from statsmodels.tsa.seasonal import seasonal_decompose\n",
    "import matplotlib.pyplot as plt"
   ]
  },
  {
   "cell_type": "markdown",
   "metadata": {},
   "source": [
    "Loading and reading the dataset"
   ]
  },
  {
   "cell_type": "code",
   "execution_count": 4,
   "metadata": {},
   "outputs": [
    {
     "data": {
      "text/html": [
       "<div>\n",
       "<style scoped>\n",
       "    .dataframe tbody tr th:only-of-type {\n",
       "        vertical-align: middle;\n",
       "    }\n",
       "\n",
       "    .dataframe tbody tr th {\n",
       "        vertical-align: top;\n",
       "    }\n",
       "\n",
       "    .dataframe thead th {\n",
       "        text-align: right;\n",
       "    }\n",
       "</style>\n",
       "<table border=\"1\" class=\"dataframe\">\n",
       "  <thead>\n",
       "    <tr style=\"text-align: right;\">\n",
       "      <th></th>\n",
       "      <th>num_orders</th>\n",
       "    </tr>\n",
       "    <tr>\n",
       "      <th>datetime</th>\n",
       "      <th></th>\n",
       "    </tr>\n",
       "  </thead>\n",
       "  <tbody>\n",
       "    <tr>\n",
       "      <th>2018-03-01 00:00:00</th>\n",
       "      <td>9</td>\n",
       "    </tr>\n",
       "    <tr>\n",
       "      <th>2018-03-01 00:10:00</th>\n",
       "      <td>14</td>\n",
       "    </tr>\n",
       "    <tr>\n",
       "      <th>2018-03-01 00:20:00</th>\n",
       "      <td>28</td>\n",
       "    </tr>\n",
       "    <tr>\n",
       "      <th>2018-03-01 00:30:00</th>\n",
       "      <td>20</td>\n",
       "    </tr>\n",
       "    <tr>\n",
       "      <th>2018-03-01 00:40:00</th>\n",
       "      <td>32</td>\n",
       "    </tr>\n",
       "  </tbody>\n",
       "</table>\n",
       "</div>"
      ],
      "text/plain": [
       "                     num_orders\n",
       "datetime                       \n",
       "2018-03-01 00:00:00           9\n",
       "2018-03-01 00:10:00          14\n",
       "2018-03-01 00:20:00          28\n",
       "2018-03-01 00:30:00          20\n",
       "2018-03-01 00:40:00          32"
      ]
     },
     "execution_count": 4,
     "metadata": {},
     "output_type": "execute_result"
    }
   ],
   "source": [
    "data = pd.read_csv('/Users/rsavy/Downloads/taxi.csv',parse_dates=['datetime'], index_col='datetime')\n",
    "data.head()"
   ]
  },
  {
   "cell_type": "code",
   "execution_count": 5,
   "metadata": {},
   "outputs": [
    {
     "data": {
      "text/plain": [
       "DatetimeIndex(['2018-03-01 00:00:00', '2018-03-01 00:10:00',\n",
       "               '2018-03-01 00:20:00', '2018-03-01 00:30:00',\n",
       "               '2018-03-01 00:40:00', '2018-03-01 00:50:00',\n",
       "               '2018-03-01 01:00:00', '2018-03-01 01:10:00',\n",
       "               '2018-03-01 01:20:00', '2018-03-01 01:30:00',\n",
       "               ...\n",
       "               '2018-08-31 22:20:00', '2018-08-31 22:30:00',\n",
       "               '2018-08-31 22:40:00', '2018-08-31 22:50:00',\n",
       "               '2018-08-31 23:00:00', '2018-08-31 23:10:00',\n",
       "               '2018-08-31 23:20:00', '2018-08-31 23:30:00',\n",
       "               '2018-08-31 23:40:00', '2018-08-31 23:50:00'],\n",
       "              dtype='datetime64[ns]', name='datetime', length=26496, freq=None)"
      ]
     },
     "execution_count": 5,
     "metadata": {},
     "output_type": "execute_result"
    }
   ],
   "source": [
    "data.index"
   ]
  },
  {
   "cell_type": "markdown",
   "metadata": {},
   "source": [
    "**Checking if the data is in Chronological Order**"
   ]
  },
  {
   "cell_type": "code",
   "execution_count": 6,
   "metadata": {},
   "outputs": [
    {
     "name": "stdout",
     "output_type": "stream",
     "text": [
      "True\n"
     ]
    }
   ],
   "source": [
    "data.sort_index(inplace=True)\n",
    "print(data.index.is_monotonic)"
   ]
  },
  {
   "cell_type": "markdown",
   "metadata": {},
   "source": [
    "The data is in Chronological Order"
   ]
  },
  {
   "cell_type": "code",
   "execution_count": 7,
   "metadata": {},
   "outputs": [
    {
     "name": "stdout",
     "output_type": "stream",
     "text": [
      "<class 'pandas.core.frame.DataFrame'>\n",
      "DatetimeIndex: 26496 entries, 2018-03-01 00:00:00 to 2018-08-31 23:50:00\n",
      "Data columns (total 1 columns):\n",
      " #   Column      Non-Null Count  Dtype\n",
      "---  ------      --------------  -----\n",
      " 0   num_orders  26496 non-null  int64\n",
      "dtypes: int64(1)\n",
      "memory usage: 414.0 KB\n"
     ]
    }
   ],
   "source": [
    "data.info()"
   ]
  },
  {
   "cell_type": "markdown",
   "metadata": {},
   "source": [
    "We have 26496 rows of data...We have num of orders from 2018 March 1st to 2018 August 31st. So we have 6 months worth of data."
   ]
  },
  {
   "cell_type": "code",
   "execution_count": 9,
   "metadata": {},
   "outputs": [
    {
     "data": {
      "text/plain": [
       "<AxesSubplot:xlabel='datetime'>"
      ]
     },
     "execution_count": 9,
     "metadata": {},
     "output_type": "execute_result"
    },
    {
     "data": {
      "image/png": "[encoded data removed]",
      "text/plain": [
       "<Figure size 432x288 with 1 Axes>"
      ]
     },
     "metadata": {
      "needs_background": "light"
     },
     "output_type": "display_data"
    }
   ],
   "source": [
    "data.plot(color='r')"
   ]
  },
  {
   "cell_type": "markdown",
   "metadata": {},
   "source": [
    "**Checking if data is stationary or non-stationary**"
   ]
  },
  {
   "cell_type": "code",
   "execution_count": 10,
   "metadata": {},
   "outputs": [],
   "source": [
    "def test_stationarity(timeseries):\n",
    "    #Determing rolling statistics\n",
    "    rolmean = timeseries.rolling(12).mean()\n",
    "    rolstd = timeseries.rolling(12).std()\n",
    "\n",
    "    #Plot rolling statistics:\n",
    "    orig = plt.plot(timeseries, color='blue',label='Original')\n",
    "    mean = plt.plot(rolmean, color='red', label='Rolling Mean')\n",
    "    std = plt.plot(rolstd, color='black', label = 'Rolling Std')\n",
    "    plt.legend(loc='best')\n",
    "    plt.title('Rolling Mean & Standard Deviation')\n",
    "    plt.show(block=False)"
   ]
  },
  {
   "cell_type": "code",
   "execution_count": 11,
   "metadata": {},
   "outputs": [
    {
     "data": {
      "image/png": "[encoded data removed]",
      "text/plain": [
       "<Figure size 432x288 with 1 Axes>"
      ]
     },
     "metadata": {
      "needs_background": "light"
     },
     "output_type": "display_data"
    }
   ],
   "source": [
    "test_stationarity(data)"
   ]
  },
  {
   "cell_type": "markdown",
   "metadata": {},
   "source": [
    "There is a trend in the data, therefore data is non-stationary."
   ]
  },
  {
   "cell_type": "markdown",
   "metadata": {},
   "source": [
    "**Resampling the data--Changing the Interval by 1 Hour**"
   ]
  },
  {
   "cell_type": "code",
   "execution_count": 12,
   "metadata": {},
   "outputs": [
    {
     "name": "stdout",
     "output_type": "stream",
     "text": [
      "<class 'pandas.core.frame.DataFrame'>\n",
      "DatetimeIndex: 4416 entries, 2018-03-01 00:00:00 to 2018-08-31 23:00:00\n",
      "Freq: H\n",
      "Data columns (total 1 columns):\n",
      " #   Column      Non-Null Count  Dtype\n",
      "---  ------      --------------  -----\n",
      " 0   num_orders  4416 non-null   int64\n",
      "dtypes: int64(1)\n",
      "memory usage: 69.0 KB\n"
     ]
    }
   ],
   "source": [
    "dataset=data.resample('1H').sum()\n",
    "dataset.info()"
   ]
  },
  {
   "cell_type": "markdown",
   "metadata": {},
   "source": [
    "There are now 4416 rows after resampling by 1H"
   ]
  },
  {
   "cell_type": "code",
   "execution_count": 13,
   "metadata": {},
   "outputs": [
    {
     "data": {
      "text/plain": [
       "[<matplotlib.lines.Line2D at 0x258fda3f1c0>]"
      ]
     },
     "execution_count": 13,
     "metadata": {},
     "output_type": "execute_result"
    },
    {
     "data": {
      "image/png": "[encoded data removed]",
      "text/plain": [
       "<Figure size 432x288 with 1 Axes>"
      ]
     },
     "metadata": {
      "needs_background": "light"
     },
     "output_type": "display_data"
    }
   ],
   "source": [
    "ts_log = np.log(dataset)\n",
    "ts_log_diff = ts_log - ts_log.shift()\n",
    "plt.plot(ts_log_diff)"
   ]
  },
  {
   "cell_type": "code",
   "execution_count": 14,
   "metadata": {},
   "outputs": [
    {
     "data": {
      "image/png": "[encoded data removed]",
      "text/plain": [
       "<Figure size 432x288 with 1 Axes>"
      ]
     },
     "metadata": {
      "needs_background": "light"
     },
     "output_type": "display_data"
    }
   ],
   "source": [
    "ts_log_diff.dropna(inplace=True)\n",
    "test_stationarity(ts_log_diff)"
   ]
  },
  {
   "cell_type": "code",
   "execution_count": 15,
   "metadata": {},
   "outputs": [
    {
     "data": {
      "text/plain": [
       "Text(0.5, 1.0, 'Residuals')"
      ]
     },
     "execution_count": 15,
     "metadata": {},
     "output_type": "execute_result"
    },
    {
     "data": {
      "image/png": "[encoded data removed]",
      "text/plain": [
       "<Figure size 1080x1080 with 4 Axes>"
      ]
     },
     "metadata": {
      "needs_background": "light"
     },
     "output_type": "display_data"
    }
   ],
   "source": [
    "decomposed = seasonal_decompose(dataset)\n",
    "trend = decomposed.trend\n",
    "seasonal = decomposed.seasonal\n",
    "residual = decomposed.resid\n",
    "plt.figure(figsize=(15, 15))\n",
    "\n",
    "plt.subplot(411)\n",
    "plt.plot(ts_log, label='Original')\n",
    "plt.legend(loc='best')\n",
    "\n",
    "plt.subplot(412)\n",
    "decomposed.trend.plot(ax=plt.gca())\n",
    "plt.title('Trend')\n",
    "plt.legend(loc='best')\n",
    "plt.subplot(413)\n",
    "decomposed.seasonal.plot(ax=plt.gca())\n",
    "plt.title('Seasonality')\n",
    "plt.legend(loc='best')\n",
    "plt.subplot(414)\n",
    "decomposed.resid.plot(ax=plt.gca())\n",
    "plt.title('Residuals')"
   ]
  },
  {
   "cell_type": "code",
   "execution_count": 16,
   "metadata": {},
   "outputs": [
    {
     "data": {
      "image/png": "[encoded data removed]",
      "text/plain": [
       "<Figure size 432x288 with 1 Axes>"
      ]
     },
     "metadata": {
      "needs_background": "light"
     },
     "output_type": "display_data"
    }
   ],
   "source": [
    "ts_log_decompose = residual\n",
    "ts_log_decompose.dropna(inplace=True)\n",
    "test_stationarity(ts_log_decompose)"
   ]
  },
  {
   "cell_type": "markdown",
   "metadata": {},
   "source": [
    "## Creating Features"
   ]
  },
  {
   "cell_type": "code",
   "execution_count": 17,
   "metadata": {},
   "outputs": [],
   "source": [
    "def make_features(dataset, max_lag, rolling_mean_size):\n",
    "    dataset['year'] = dataset.index.year\n",
    "    dataset['month'] = dataset.index.month\n",
    "    dataset['day'] = dataset.index.day\n",
    "    dataset['dayofweek'] = dataset.index.dayofweek\n",
    "\n",
    "    for lag in range(1, max_lag + 1):\n",
    "        dataset['lag_{}'.format(lag)] = dataset[\"num_orders\"].shift(lag)\n",
    "\n",
    "    dataset['rolling_mean'] = (\n",
    "        dataset[\"num_orders\"].shift().rolling(rolling_mean_size).mean()\n",
    "    )\n",
    "    return dataset"
   ]
  },
  {
   "cell_type": "code",
   "execution_count": 18,
   "metadata": {},
   "outputs": [],
   "source": [
    "dataset = make_features(dataset, 6, 8)"
   ]
  },
  {
   "cell_type": "code",
   "execution_count": 19,
   "metadata": {},
   "outputs": [
    {
     "data": {
      "text/html": [
       "<div>\n",
       "<style scoped>\n",
       "    .dataframe tbody tr th:only-of-type {\n",
       "        vertical-align: middle;\n",
       "    }\n",
       "\n",
       "    .dataframe tbody tr th {\n",
       "        vertical-align: top;\n",
       "    }\n",
       "\n",
       "    .dataframe thead th {\n",
       "        text-align: right;\n",
       "    }\n",
       "</style>\n",
       "<table border=\"1\" class=\"dataframe\">\n",
       "  <thead>\n",
       "    <tr style=\"text-align: right;\">\n",
       "      <th></th>\n",
       "      <th>num_orders</th>\n",
       "      <th>year</th>\n",
       "      <th>month</th>\n",
       "      <th>day</th>\n",
       "      <th>dayofweek</th>\n",
       "      <th>lag_1</th>\n",
       "      <th>lag_2</th>\n",
       "      <th>lag_3</th>\n",
       "      <th>lag_4</th>\n",
       "      <th>lag_5</th>\n",
       "      <th>lag_6</th>\n",
       "      <th>rolling_mean</th>\n",
       "    </tr>\n",
       "    <tr>\n",
       "      <th>datetime</th>\n",
       "      <th></th>\n",
       "      <th></th>\n",
       "      <th></th>\n",
       "      <th></th>\n",
       "      <th></th>\n",
       "      <th></th>\n",
       "      <th></th>\n",
       "      <th></th>\n",
       "      <th></th>\n",
       "      <th></th>\n",
       "      <th></th>\n",
       "      <th></th>\n",
       "    </tr>\n",
       "  </thead>\n",
       "  <tbody>\n",
       "    <tr>\n",
       "      <th>2018-03-01 00:00:00</th>\n",
       "      <td>124</td>\n",
       "      <td>2018</td>\n",
       "      <td>3</td>\n",
       "      <td>1</td>\n",
       "      <td>3</td>\n",
       "      <td>NaN</td>\n",
       "      <td>NaN</td>\n",
       "      <td>NaN</td>\n",
       "      <td>NaN</td>\n",
       "      <td>NaN</td>\n",
       "      <td>NaN</td>\n",
       "      <td>NaN</td>\n",
       "    </tr>\n",
       "    <tr>\n",
       "      <th>2018-03-01 01:00:00</th>\n",
       "      <td>85</td>\n",
       "      <td>2018</td>\n",
       "      <td>3</td>\n",
       "      <td>1</td>\n",
       "      <td>3</td>\n",
       "      <td>124.0</td>\n",
       "      <td>NaN</td>\n",
       "      <td>NaN</td>\n",
       "      <td>NaN</td>\n",
       "      <td>NaN</td>\n",
       "      <td>NaN</td>\n",
       "      <td>NaN</td>\n",
       "    </tr>\n",
       "    <tr>\n",
       "      <th>2018-03-01 02:00:00</th>\n",
       "      <td>71</td>\n",
       "      <td>2018</td>\n",
       "      <td>3</td>\n",
       "      <td>1</td>\n",
       "      <td>3</td>\n",
       "      <td>85.0</td>\n",
       "      <td>124.0</td>\n",
       "      <td>NaN</td>\n",
       "      <td>NaN</td>\n",
       "      <td>NaN</td>\n",
       "      <td>NaN</td>\n",
       "      <td>NaN</td>\n",
       "    </tr>\n",
       "    <tr>\n",
       "      <th>2018-03-01 03:00:00</th>\n",
       "      <td>66</td>\n",
       "      <td>2018</td>\n",
       "      <td>3</td>\n",
       "      <td>1</td>\n",
       "      <td>3</td>\n",
       "      <td>71.0</td>\n",
       "      <td>85.0</td>\n",
       "      <td>124.0</td>\n",
       "      <td>NaN</td>\n",
       "      <td>NaN</td>\n",
       "      <td>NaN</td>\n",
       "      <td>NaN</td>\n",
       "    </tr>\n",
       "    <tr>\n",
       "      <th>2018-03-01 04:00:00</th>\n",
       "      <td>43</td>\n",
       "      <td>2018</td>\n",
       "      <td>3</td>\n",
       "      <td>1</td>\n",
       "      <td>3</td>\n",
       "      <td>66.0</td>\n",
       "      <td>71.0</td>\n",
       "      <td>85.0</td>\n",
       "      <td>124.0</td>\n",
       "      <td>NaN</td>\n",
       "      <td>NaN</td>\n",
       "      <td>NaN</td>\n",
       "    </tr>\n",
       "    <tr>\n",
       "      <th>...</th>\n",
       "      <td>...</td>\n",
       "      <td>...</td>\n",
       "      <td>...</td>\n",
       "      <td>...</td>\n",
       "      <td>...</td>\n",
       "      <td>...</td>\n",
       "      <td>...</td>\n",
       "      <td>...</td>\n",
       "      <td>...</td>\n",
       "      <td>...</td>\n",
       "      <td>...</td>\n",
       "      <td>...</td>\n",
       "    </tr>\n",
       "    <tr>\n",
       "      <th>2018-08-31 19:00:00</th>\n",
       "      <td>136</td>\n",
       "      <td>2018</td>\n",
       "      <td>8</td>\n",
       "      <td>31</td>\n",
       "      <td>4</td>\n",
       "      <td>207.0</td>\n",
       "      <td>217.0</td>\n",
       "      <td>197.0</td>\n",
       "      <td>116.0</td>\n",
       "      <td>133.0</td>\n",
       "      <td>166.0</td>\n",
       "      <td>167.375</td>\n",
       "    </tr>\n",
       "    <tr>\n",
       "      <th>2018-08-31 20:00:00</th>\n",
       "      <td>154</td>\n",
       "      <td>2018</td>\n",
       "      <td>8</td>\n",
       "      <td>31</td>\n",
       "      <td>4</td>\n",
       "      <td>136.0</td>\n",
       "      <td>207.0</td>\n",
       "      <td>217.0</td>\n",
       "      <td>197.0</td>\n",
       "      <td>116.0</td>\n",
       "      <td>133.0</td>\n",
       "      <td>163.500</td>\n",
       "    </tr>\n",
       "    <tr>\n",
       "      <th>2018-08-31 21:00:00</th>\n",
       "      <td>159</td>\n",
       "      <td>2018</td>\n",
       "      <td>8</td>\n",
       "      <td>31</td>\n",
       "      <td>4</td>\n",
       "      <td>154.0</td>\n",
       "      <td>136.0</td>\n",
       "      <td>207.0</td>\n",
       "      <td>217.0</td>\n",
       "      <td>197.0</td>\n",
       "      <td>116.0</td>\n",
       "      <td>165.750</td>\n",
       "    </tr>\n",
       "    <tr>\n",
       "      <th>2018-08-31 22:00:00</th>\n",
       "      <td>223</td>\n",
       "      <td>2018</td>\n",
       "      <td>8</td>\n",
       "      <td>31</td>\n",
       "      <td>4</td>\n",
       "      <td>159.0</td>\n",
       "      <td>154.0</td>\n",
       "      <td>136.0</td>\n",
       "      <td>207.0</td>\n",
       "      <td>217.0</td>\n",
       "      <td>197.0</td>\n",
       "      <td>164.875</td>\n",
       "    </tr>\n",
       "    <tr>\n",
       "      <th>2018-08-31 23:00:00</th>\n",
       "      <td>205</td>\n",
       "      <td>2018</td>\n",
       "      <td>8</td>\n",
       "      <td>31</td>\n",
       "      <td>4</td>\n",
       "      <td>223.0</td>\n",
       "      <td>159.0</td>\n",
       "      <td>154.0</td>\n",
       "      <td>136.0</td>\n",
       "      <td>207.0</td>\n",
       "      <td>217.0</td>\n",
       "      <td>176.125</td>\n",
       "    </tr>\n",
       "  </tbody>\n",
       "</table>\n",
       "<p>4416 rows × 12 columns</p>\n",
       "</div>"
      ],
      "text/plain": [
       "                     num_orders  year  month  day  dayofweek  lag_1  lag_2  \\\n",
       "datetime                                                                     \n",
       "2018-03-01 00:00:00         124  2018      3    1          3    NaN    NaN   \n",
       "2018-03-01 01:00:00          85  2018      3    1          3  124.0    NaN   \n",
       "2018-03-01 02:00:00          71  2018      3    1          3   85.0  124.0   \n",
       "2018-03-01 03:00:00          66  2018      3    1          3   71.0   85.0   \n",
       "2018-03-01 04:00:00          43  2018      3    1          3   66.0   71.0   \n",
       "...                         ...   ...    ...  ...        ...    ...    ...   \n",
       "2018-08-31 19:00:00         136  2018      8   31          4  207.0  217.0   \n",
       "2018-08-31 20:00:00         154  2018      8   31          4  136.0  207.0   \n",
       "2018-08-31 21:00:00         159  2018      8   31          4  154.0  136.0   \n",
       "2018-08-31 22:00:00         223  2018      8   31          4  159.0  154.0   \n",
       "2018-08-31 23:00:00         205  2018      8   31          4  223.0  159.0   \n",
       "\n",
       "                     lag_3  lag_4  lag_5  lag_6  rolling_mean  \n",
       "datetime                                                       \n",
       "2018-03-01 00:00:00    NaN    NaN    NaN    NaN           NaN  \n",
       "2018-03-01 01:00:00    NaN    NaN    NaN    NaN           NaN  \n",
       "2018-03-01 02:00:00    NaN    NaN    NaN    NaN           NaN  \n",
       "2018-03-01 03:00:00  124.0    NaN    NaN    NaN           NaN  \n",
       "2018-03-01 04:00:00   85.0  124.0    NaN    NaN           NaN  \n",
       "...                    ...    ...    ...    ...           ...  \n",
       "2018-08-31 19:00:00  197.0  116.0  133.0  166.0       167.375  \n",
       "2018-08-31 20:00:00  217.0  197.0  116.0  133.0       163.500  \n",
       "2018-08-31 21:00:00  207.0  217.0  197.0  116.0       165.750  \n",
       "2018-08-31 22:00:00  136.0  207.0  217.0  197.0       164.875  \n",
       "2018-08-31 23:00:00  154.0  136.0  207.0  217.0       176.125  \n",
       "\n",
       "[4416 rows x 12 columns]"
      ]
     },
     "execution_count": 19,
     "metadata": {},
     "output_type": "execute_result"
    }
   ],
   "source": [
    "dataset"
   ]
  },
  {
   "cell_type": "markdown",
   "metadata": {},
   "source": [
    "## Model Training"
   ]
  },
  {
   "cell_type": "code",
   "execution_count": 22,
   "metadata": {},
   "outputs": [],
   "source": [
    "train, rest = train_test_split(dataset, shuffle=True, test_size=0.2, random_state=12345)\n",
    "valid, test = train_test_split(rest, shuffle=False, test_size=0.5, random_state=12345)\n",
    "\n",
    "train = train.dropna()\n",
    "valid = valid.dropna()\n",
    "test = test.dropna()"
   ]
  },
  {
   "cell_type": "code",
   "execution_count": 23,
   "metadata": {},
   "outputs": [],
   "source": [
    "features_train = train.drop(['num_orders'], axis=1)\n",
    "target_train = train['num_orders']\n",
    "\n",
    "features_valid = valid.drop(['num_orders'], axis=1)\n",
    "target_valid = valid['num_orders']\n",
    "\n",
    "features_test = test.drop(['num_orders'], axis=1)\n",
    "target_test = test['num_orders']\n"
   ]
  },
  {
   "cell_type": "markdown",
   "metadata": {},
   "source": [
    "### Random Forest"
   ]
  },
  {
   "cell_type": "code",
   "execution_count": 24,
   "metadata": {},
   "outputs": [],
   "source": [
    "from sklearn.ensemble import RandomForestRegressor"
   ]
  },
  {
   "cell_type": "code",
   "execution_count": 25,
   "metadata": {},
   "outputs": [
    {
     "name": "stdout",
     "output_type": "stream",
     "text": [
      "estimator = 150 RMSE:  33.695571244127535\n",
      "estimator = 151 RMSE:  33.69057358125316\n",
      "estimator = 152 RMSE:  33.680480192306035\n",
      "estimator = 153 RMSE:  33.69318748485129\n",
      "estimator = 154 RMSE:  33.70578969593633\n",
      "estimator = 155 RMSE:  33.71081577060223\n",
      "estimator = 156 RMSE:  33.68751044454944\n",
      "estimator = 157 RMSE:  33.67987995473357\n",
      "estimator = 158 RMSE:  33.68995664177363\n",
      "estimator = 159 RMSE:  33.68154320646006\n",
      "estimator = 160 RMSE:  33.688455724507364\n",
      "estimator = 161 RMSE:  33.688026280170405\n",
      "estimator = 162 RMSE:  33.67914802208117\n",
      "estimator = 163 RMSE:  33.681207029645634\n",
      "estimator = 164 RMSE:  33.66289923866725\n",
      "estimator = 165 RMSE:  33.64800466114685\n",
      "estimator = 166 RMSE:  33.67348212531013\n",
      "estimator = 167 RMSE:  33.64744484509961\n",
      "estimator = 168 RMSE:  33.64934128924922\n",
      "estimator = 169 RMSE:  33.668313400613854\n",
      "estimator = 170 RMSE:  33.6527187464458\n",
      "estimator = 171 RMSE:  33.64412639248385\n",
      "estimator = 172 RMSE:  33.65193887518879\n",
      "estimator = 173 RMSE:  33.62163195172277\n",
      "estimator = 174 RMSE:  33.60505314719224\n",
      "estimator = 175 RMSE:  33.60666807177296\n",
      "estimator = 176 RMSE:  33.616907619803285\n",
      "estimator = 177 RMSE:  33.637165449630416\n",
      "estimator = 178 RMSE:  33.6346258482172\n",
      "estimator = 179 RMSE:  33.6136994987759\n",
      "estimator = 180 RMSE:  33.61763416730676\n",
      "estimator = 181 RMSE:  33.62324453388458\n",
      "estimator = 182 RMSE:  33.60870552898427\n",
      "estimator = 183 RMSE:  33.59651058822555\n",
      "estimator = 184 RMSE:  33.61342500918997\n",
      "estimator = 185 RMSE:  33.63971280605751\n",
      "estimator = 186 RMSE:  33.64994762592409\n",
      "estimator = 187 RMSE:  33.64021415152255\n",
      "estimator = 188 RMSE:  33.63392982391623\n",
      "estimator = 189 RMSE:  33.64593085763334\n",
      "estimator = 190 RMSE:  33.62012286802798\n",
      "estimator = 191 RMSE:  33.630917370559025\n",
      "estimator = 192 RMSE:  33.62133589634869\n",
      "estimator = 193 RMSE:  33.60686602696376\n",
      "estimator = 194 RMSE:  33.587247612608024\n",
      "estimator = 195 RMSE:  33.58808414103516\n",
      "estimator = 196 RMSE:  33.59771774812662\n",
      "estimator = 197 RMSE:  33.60425853473287\n",
      "estimator = 198 RMSE:  33.58890547973945\n",
      "estimator = 199 RMSE:  33.58335054202452\n"
     ]
    }
   ],
   "source": [
    "for estimator in range(150,200):\n",
    "    RF = RandomForestRegressor(random_state=12345, n_estimators=estimator) \n",
    "   \n",
    "    RF.fit(features_train, target_train)\n",
    "    pred_train1 = RF.predict(features_valid)\n",
    "    RMSE =  math.sqrt(mean_squared_error(target_valid, pred_train1)) \n",
    "    print(\"estimator =\", estimator, \"RMSE: \",RMSE)"
   ]
  },
  {
   "cell_type": "markdown",
   "metadata": {},
   "source": [
    "### Desicion Tree"
   ]
  },
  {
   "cell_type": "code",
   "execution_count": 26,
   "metadata": {},
   "outputs": [],
   "source": [
    "from sklearn.tree import DecisionTreeRegressor"
   ]
  },
  {
   "cell_type": "code",
   "execution_count": 27,
   "metadata": {},
   "outputs": [
    {
     "name": "stdout",
     "output_type": "stream",
     "text": [
      "Depth = 10 RMSE:  33.58335054202452\n",
      "Depth = 11 RMSE:  33.58335054202452\n",
      "Depth = 12 RMSE:  33.58335054202452\n",
      "Depth = 13 RMSE:  33.58335054202452\n",
      "Depth = 14 RMSE:  33.58335054202452\n",
      "Depth = 15 RMSE:  33.58335054202452\n",
      "Depth = 16 RMSE:  33.58335054202452\n",
      "Depth = 17 RMSE:  33.58335054202452\n",
      "Depth = 18 RMSE:  33.58335054202452\n",
      "Depth = 19 RMSE:  33.58335054202452\n",
      "Depth = 20 RMSE:  33.58335054202452\n",
      "Depth = 21 RMSE:  33.58335054202452\n",
      "Depth = 22 RMSE:  33.58335054202452\n",
      "Depth = 23 RMSE:  33.58335054202452\n",
      "Depth = 24 RMSE:  33.58335054202452\n",
      "Depth = 25 RMSE:  33.58335054202452\n",
      "Depth = 26 RMSE:  33.58335054202452\n",
      "Depth = 27 RMSE:  33.58335054202452\n",
      "Depth = 28 RMSE:  33.58335054202452\n",
      "Depth = 29 RMSE:  33.58335054202452\n"
     ]
    }
   ],
   "source": [
    "for depth in range(10,30):\n",
    "    regr_2 = DecisionTreeRegressor(max_depth=20).fit(features_train, target_train)\n",
    "    pred_train2 = regr_2.predict(features_valid)\n",
    "    RMSE1 =  math.sqrt(mean_squared_error(target_valid, pred_train2)) \n",
    "    print(\"Depth =\", depth, \"RMSE: \",RMSE)"
   ]
  },
  {
   "cell_type": "markdown",
   "metadata": {},
   "source": [
    "### LightGBM "
   ]
  },
  {
   "cell_type": "code",
   "execution_count": 30,
   "metadata": {},
   "outputs": [],
   "source": [
    "hyper_params = {\n",
    "    'task': 'train',\n",
    "    'boosting_type': 'gbdt',\n",
    "    'objective': 'rmse',\n",
    "    'metric': ['l1','l2'],\n",
    "    'learning_rate': 0.005,\n",
    "    'feature_fraction': 0.9,\n",
    "    'bagging_fraction': 0.7,\n",
    "    'bagging_freq': 10,\n",
    "    'verbose': 0,\n",
    "    \"max_depth\": 20,\n",
    "    \"n_estimators\": 100000\n",
    "}"
   ]
  },
  {
   "cell_type": "code",
   "execution_count": 32,
   "metadata": {},
   "outputs": [
    {
     "name": "stdout",
     "output_type": "stream",
     "text": [
      "Collecting lightgbm\n",
      "  Downloading lightgbm-3.3.2-py3-none-win_amd64.whl (1.0 MB)\n",
      "Requirement already satisfied: scikit-learn!=0.22.0 in c:\\users\\rsavy\\anaconda3\\lib\\site-packages (from lightgbm) (0.24.2)\n",
      "Requirement already satisfied: scipy in c:\\users\\rsavy\\anaconda3\\lib\\site-packages (from lightgbm) (1.7.1)\n",
      "Requirement already satisfied: numpy in c:\\users\\rsavy\\anaconda3\\lib\\site-packages (from lightgbm) (1.20.3)\n",
      "Requirement already satisfied: wheel in c:\\users\\rsavy\\anaconda3\\lib\\site-packages (from lightgbm) (0.37.0)\n",
      "Requirement already satisfied: joblib>=0.11 in c:\\users\\rsavy\\anaconda3\\lib\\site-packages (from scikit-learn!=0.22.0->lightgbm) (1.1.0)\n",
      "Requirement already satisfied: threadpoolctl>=2.0.0 in c:\\users\\rsavy\\anaconda3\\lib\\site-packages (from scikit-learn!=0.22.0->lightgbm) (2.2.0)\n",
      "Installing collected packages: lightgbm\n",
      "Successfully installed lightgbm-3.3.2\n",
      "Note: you may need to restart the kernel to use updated packages.\n"
     ]
    }
   ],
   "source": [
    "pip install lightgbm"
   ]
  },
  {
   "cell_type": "code",
   "execution_count": 33,
   "metadata": {},
   "outputs": [
    {
     "name": "stderr",
     "output_type": "stream",
     "text": [
      "C:\\Users\\rsavy\\anaconda3\\lib\\site-packages\\lightgbm\\sklearn.py:726: UserWarning: 'early_stopping_rounds' argument is deprecated and will be removed in a future release of LightGBM. Pass 'early_stopping()' callback via 'callbacks' argument instead.\n",
      "  _log_warning(\"'early_stopping_rounds' argument is deprecated and will be removed in a future release of LightGBM. \"\n"
     ]
    },
    {
     "name": "stdout",
     "output_type": "stream",
     "text": [
      "[LightGBM] [Warning] feature_fraction is set=0.9, colsample_bytree=1.0 will be ignored. Current value: feature_fraction=0.9\n",
      "[LightGBM] [Warning] bagging_fraction is set=0.7, subsample=1.0 will be ignored. Current value: bagging_fraction=0.7\n",
      "[LightGBM] [Warning] bagging_freq is set=10, subsample_freq=0 will be ignored. Current value: bagging_freq=10\n",
      "[LightGBM] [Warning] Accuracy may be bad since you didn't explicitly set num_leaves OR 2^max_depth > num_leaves. (num_leaves=31).\n",
      "[LightGBM] [Warning] feature_fraction is set=0.9, colsample_bytree=1.0 will be ignored. Current value: feature_fraction=0.9\n",
      "[LightGBM] [Warning] bagging_fraction is set=0.7, subsample=1.0 will be ignored. Current value: bagging_fraction=0.7\n",
      "[LightGBM] [Warning] bagging_freq is set=10, subsample_freq=0 will be ignored. Current value: bagging_freq=10\n",
      "[LightGBM] [Warning] Accuracy may be bad since you didn't explicitly set num_leaves OR 2^max_depth > num_leaves. (num_leaves=31).\n",
      "[LightGBM] [Warning] Auto-choosing col-wise multi-threading, the overhead of testing was 0.000816 seconds.\n",
      "You can set `force_col_wise=true` to remove the overhead.\n",
      "[LightGBM] [Warning] feature_fraction is set=0.9, colsample_bytree=1.0 will be ignored. Current value: feature_fraction=0.9\n",
      "[LightGBM] [Warning] bagging_fraction is set=0.7, subsample=1.0 will be ignored. Current value: bagging_fraction=0.7\n",
      "[LightGBM] [Warning] bagging_freq is set=10, subsample_freq=0 will be ignored. Current value: bagging_freq=10\n",
      "[LightGBM] [Warning] Accuracy may be bad since you didn't explicitly set num_leaves OR 2^max_depth > num_leaves. (num_leaves=31).\n",
      "[1]\tvalid_0's rmse: 49.0173\tvalid_0's l1: 36.5857\tvalid_0's l2: 2402.7\n",
      "[2]\tvalid_0's rmse: 48.9087\tvalid_0's l1: 36.5017\tvalid_0's l2: 2392.06\n",
      "[3]\tvalid_0's rmse: 48.8028\tvalid_0's l1: 36.422\tvalid_0's l2: 2381.72\n",
      "[4]\tvalid_0's rmse: 48.6986\tvalid_0's l1: 36.3444\tvalid_0's l2: 2371.55\n",
      "[5]\tvalid_0's rmse: 48.593\tvalid_0's l1: 36.2664\tvalid_0's l2: 2361.28\n",
      "[6]\tvalid_0's rmse: 48.4863\tvalid_0's l1: 36.1863\tvalid_0's l2: 2350.92\n",
      "[7]\tvalid_0's rmse: 48.4028\tvalid_0's l1: 36.1249\tvalid_0's l2: 2342.84\n",
      "[8]\tvalid_0's rmse: 48.3009\tvalid_0's l1: 36.0481\tvalid_0's l2: 2332.97\n",
      "[9]\tvalid_0's rmse: 48.1981\tvalid_0's l1: 35.9716\tvalid_0's l2: 2323.06\n",
      "[10]\tvalid_0's rmse: 48.0947\tvalid_0's l1: 35.8948\tvalid_0's l2: 2313.1\n",
      "[11]\tvalid_0's rmse: 47.995\tvalid_0's l1: 35.8187\tvalid_0's l2: 2303.52\n",
      "[12]\tvalid_0's rmse: 47.9021\tvalid_0's l1: 35.751\tvalid_0's l2: 2294.61\n",
      "[13]\tvalid_0's rmse: 47.8055\tvalid_0's l1: 35.6773\tvalid_0's l2: 2285.37\n",
      "[14]\tvalid_0's rmse: 47.7123\tvalid_0's l1: 35.6045\tvalid_0's l2: 2276.46\n",
      "[15]\tvalid_0's rmse: 47.6179\tvalid_0's l1: 35.5306\tvalid_0's l2: 2267.47\n",
      "[16]\tvalid_0's rmse: 47.5284\tvalid_0's l1: 35.4613\tvalid_0's l2: 2258.95\n",
      "[17]\tvalid_0's rmse: 47.4294\tvalid_0's l1: 35.3893\tvalid_0's l2: 2249.55\n",
      "[18]\tvalid_0's rmse: 47.3413\tvalid_0's l1: 35.3208\tvalid_0's l2: 2241.19\n",
      "[19]\tvalid_0's rmse: 47.2521\tvalid_0's l1: 35.25\tvalid_0's l2: 2232.76\n",
      "[20]\tvalid_0's rmse: 47.165\tvalid_0's l1: 35.185\tvalid_0's l2: 2224.54\n",
      "[21]\tvalid_0's rmse: 47.0762\tvalid_0's l1: 35.1103\tvalid_0's l2: 2216.17\n",
      "[22]\tvalid_0's rmse: 46.9875\tvalid_0's l1: 35.0361\tvalid_0's l2: 2207.82\n",
      "[23]\tvalid_0's rmse: 46.8965\tvalid_0's l1: 34.9588\tvalid_0's l2: 2199.28\n",
      "[24]\tvalid_0's rmse: 46.8141\tvalid_0's l1: 34.8894\tvalid_0's l2: 2191.56\n",
      "[25]\tvalid_0's rmse: 46.7268\tvalid_0's l1: 34.816\tvalid_0's l2: 2183.39\n",
      "[26]\tvalid_0's rmse: 46.6375\tvalid_0's l1: 34.7397\tvalid_0's l2: 2175.05\n",
      "[27]\tvalid_0's rmse: 46.5497\tvalid_0's l1: 34.6724\tvalid_0's l2: 2166.88\n",
      "[28]\tvalid_0's rmse: 46.4633\tvalid_0's l1: 34.6059\tvalid_0's l2: 2158.83\n",
      "[29]\tvalid_0's rmse: 46.3764\tvalid_0's l1: 34.532\tvalid_0's l2: 2150.77\n",
      "[30]\tvalid_0's rmse: 46.2902\tvalid_0's l1: 34.4602\tvalid_0's l2: 2142.79\n",
      "[31]\tvalid_0's rmse: 46.2009\tvalid_0's l1: 34.3954\tvalid_0's l2: 2134.52\n",
      "[32]\tvalid_0's rmse: 46.1128\tvalid_0's l1: 34.3305\tvalid_0's l2: 2126.39\n",
      "[33]\tvalid_0's rmse: 46.0255\tvalid_0's l1: 34.2656\tvalid_0's l2: 2118.35\n",
      "[34]\tvalid_0's rmse: 45.9395\tvalid_0's l1: 34.2012\tvalid_0's l2: 2110.44\n",
      "[35]\tvalid_0's rmse: 45.8546\tvalid_0's l1: 34.1379\tvalid_0's l2: 2102.64\n",
      "[36]\tvalid_0's rmse: 45.7987\tvalid_0's l1: 34.0928\tvalid_0's l2: 2097.52\n",
      "[37]\tvalid_0's rmse: 45.7128\tvalid_0's l1: 34.0284\tvalid_0's l2: 2089.66\n",
      "[38]\tvalid_0's rmse: 45.658\tvalid_0's l1: 33.9842\tvalid_0's l2: 2084.65\n",
      "[39]\tvalid_0's rmse: 45.5734\tvalid_0's l1: 33.92\tvalid_0's l2: 2076.93\n",
      "[40]\tvalid_0's rmse: 45.4896\tvalid_0's l1: 33.8578\tvalid_0's l2: 2069.31\n",
      "[41]\tvalid_0's rmse: 45.4099\tvalid_0's l1: 33.7956\tvalid_0's l2: 2062.06\n",
      "[42]\tvalid_0's rmse: 45.3369\tvalid_0's l1: 33.7383\tvalid_0's l2: 2055.44\n",
      "[43]\tvalid_0's rmse: 45.2616\tvalid_0's l1: 33.6796\tvalid_0's l2: 2048.62\n",
      "[44]\tvalid_0's rmse: 45.1832\tvalid_0's l1: 33.6192\tvalid_0's l2: 2041.53\n",
      "[45]\tvalid_0's rmse: 45.1182\tvalid_0's l1: 33.5704\tvalid_0's l2: 2035.65\n",
      "[46]\tvalid_0's rmse: 45.0428\tvalid_0's l1: 33.515\tvalid_0's l2: 2028.85\n",
      "[47]\tvalid_0's rmse: 44.9662\tvalid_0's l1: 33.4581\tvalid_0's l2: 2021.96\n",
      "[48]\tvalid_0's rmse: 44.9029\tvalid_0's l1: 33.4102\tvalid_0's l2: 2016.27\n",
      "[49]\tvalid_0's rmse: 44.8265\tvalid_0's l1: 33.3512\tvalid_0's l2: 2009.41\n",
      "[50]\tvalid_0's rmse: 44.7548\tvalid_0's l1: 33.2963\tvalid_0's l2: 2002.99\n",
      "[51]\tvalid_0's rmse: 44.68\tvalid_0's l1: 33.2428\tvalid_0's l2: 1996.3\n",
      "[52]\tvalid_0's rmse: 44.6053\tvalid_0's l1: 33.1872\tvalid_0's l2: 1989.63\n",
      "[53]\tvalid_0's rmse: 44.5319\tvalid_0's l1: 33.1318\tvalid_0's l2: 1983.09\n",
      "[54]\tvalid_0's rmse: 44.4585\tvalid_0's l1: 33.0768\tvalid_0's l2: 1976.56\n",
      "[55]\tvalid_0's rmse: 44.3868\tvalid_0's l1: 33.0227\tvalid_0's l2: 1970.19\n",
      "[56]\tvalid_0's rmse: 44.3164\tvalid_0's l1: 32.969\tvalid_0's l2: 1963.95\n",
      "[57]\tvalid_0's rmse: 44.2453\tvalid_0's l1: 32.915\tvalid_0's l2: 1957.65\n",
      "[58]\tvalid_0's rmse: 44.1772\tvalid_0's l1: 32.8624\tvalid_0's l2: 1951.63\n",
      "[59]\tvalid_0's rmse: 44.1078\tvalid_0's l1: 32.8095\tvalid_0's l2: 1945.49\n",
      "[60]\tvalid_0's rmse: 44.0398\tvalid_0's l1: 32.7597\tvalid_0's l2: 1939.5\n",
      "[61]\tvalid_0's rmse: 43.9759\tvalid_0's l1: 32.7083\tvalid_0's l2: 1933.88\n",
      "[62]\tvalid_0's rmse: 43.9163\tvalid_0's l1: 32.6595\tvalid_0's l2: 1928.64\n",
      "[63]\tvalid_0's rmse: 43.8504\tvalid_0's l1: 32.6056\tvalid_0's l2: 1922.86\n",
      "[64]\tvalid_0's rmse: 43.7844\tvalid_0's l1: 32.5518\tvalid_0's l2: 1917.07\n",
      "[65]\tvalid_0's rmse: 43.7209\tvalid_0's l1: 32.4994\tvalid_0's l2: 1911.52\n",
      "[66]\tvalid_0's rmse: 43.6602\tvalid_0's l1: 32.4498\tvalid_0's l2: 1906.22\n",
      "[67]\tvalid_0's rmse: 43.6011\tvalid_0's l1: 32.3982\tvalid_0's l2: 1901.06\n",
      "[68]\tvalid_0's rmse: 43.5392\tvalid_0's l1: 32.3468\tvalid_0's l2: 1895.66\n",
      "[69]\tvalid_0's rmse: 43.4772\tvalid_0's l1: 32.2957\tvalid_0's l2: 1890.26\n",
      "[70]\tvalid_0's rmse: 43.4184\tvalid_0's l1: 32.249\tvalid_0's l2: 1885.16\n",
      "[71]\tvalid_0's rmse: 43.3548\tvalid_0's l1: 32.2012\tvalid_0's l2: 1879.64\n",
      "[72]\tvalid_0's rmse: 43.2917\tvalid_0's l1: 32.152\tvalid_0's l2: 1874.17\n",
      "[73]\tvalid_0's rmse: 43.2274\tvalid_0's l1: 32.1022\tvalid_0's l2: 1868.61\n",
      "[74]\tvalid_0's rmse: 43.1691\tvalid_0's l1: 32.0552\tvalid_0's l2: 1863.57\n",
      "[75]\tvalid_0's rmse: 43.1074\tvalid_0's l1: 32.0083\tvalid_0's l2: 1858.25\n",
      "[76]\tvalid_0's rmse: 43.0472\tvalid_0's l1: 31.9624\tvalid_0's l2: 1853.06\n",
      "[77]\tvalid_0's rmse: 42.9906\tvalid_0's l1: 31.9161\tvalid_0's l2: 1848.19\n",
      "[78]\tvalid_0's rmse: 42.9305\tvalid_0's l1: 31.8683\tvalid_0's l2: 1843.02\n",
      "[79]\tvalid_0's rmse: 42.8726\tvalid_0's l1: 31.8215\tvalid_0's l2: 1838.06\n",
      "[80]\tvalid_0's rmse: 42.8209\tvalid_0's l1: 31.7779\tvalid_0's l2: 1833.63\n",
      "[81]\tvalid_0's rmse: 42.7636\tvalid_0's l1: 31.7327\tvalid_0's l2: 1828.73\n",
      "[82]\tvalid_0's rmse: 42.7068\tvalid_0's l1: 31.6889\tvalid_0's l2: 1823.87\n",
      "[83]\tvalid_0's rmse: 42.6486\tvalid_0's l1: 31.6471\tvalid_0's l2: 1818.9\n",
      "[84]\tvalid_0's rmse: 42.5921\tvalid_0's l1: 31.6042\tvalid_0's l2: 1814.09\n",
      "[85]\tvalid_0's rmse: 42.543\tvalid_0's l1: 31.5647\tvalid_0's l2: 1809.91\n",
      "[86]\tvalid_0's rmse: 42.4944\tvalid_0's l1: 31.5253\tvalid_0's l2: 1805.78\n",
      "[87]\tvalid_0's rmse: 42.4394\tvalid_0's l1: 31.4831\tvalid_0's l2: 1801.1\n",
      "[88]\tvalid_0's rmse: 42.3858\tvalid_0's l1: 31.444\tvalid_0's l2: 1796.55\n",
      "[89]\tvalid_0's rmse: 42.3332\tvalid_0's l1: 31.4048\tvalid_0's l2: 1792.1\n",
      "[90]\tvalid_0's rmse: 42.2821\tvalid_0's l1: 31.3668\tvalid_0's l2: 1787.78\n",
      "[91]\tvalid_0's rmse: 42.2228\tvalid_0's l1: 31.3214\tvalid_0's l2: 1782.77\n",
      "[92]\tvalid_0's rmse: 42.1642\tvalid_0's l1: 31.276\tvalid_0's l2: 1777.82\n",
      "[93]\tvalid_0's rmse: 42.1195\tvalid_0's l1: 31.244\tvalid_0's l2: 1774.05\n",
      "[94]\tvalid_0's rmse: 42.0618\tvalid_0's l1: 31.2\tvalid_0's l2: 1769.2\n",
      "[95]\tvalid_0's rmse: 42.0072\tvalid_0's l1: 31.158\tvalid_0's l2: 1764.61\n",
      "[96]\tvalid_0's rmse: 41.9477\tvalid_0's l1: 31.1152\tvalid_0's l2: 1759.61\n",
      "[97]\tvalid_0's rmse: 41.893\tvalid_0's l1: 31.0737\tvalid_0's l2: 1755.02\n",
      "[98]\tvalid_0's rmse: 41.8422\tvalid_0's l1: 31.0343\tvalid_0's l2: 1750.77\n",
      "[99]\tvalid_0's rmse: 41.7891\tvalid_0's l1: 30.9935\tvalid_0's l2: 1746.33\n",
      "[100]\tvalid_0's rmse: 41.7352\tvalid_0's l1: 30.951\tvalid_0's l2: 1741.83\n",
      "[101]\tvalid_0's rmse: 41.68\tvalid_0's l1: 30.9115\tvalid_0's l2: 1737.22\n",
      "[102]\tvalid_0's rmse: 41.6323\tvalid_0's l1: 30.8738\tvalid_0's l2: 1733.25\n",
      "[103]\tvalid_0's rmse: 41.585\tvalid_0's l1: 30.8359\tvalid_0's l2: 1729.31\n",
      "[104]\tvalid_0's rmse: 41.5412\tvalid_0's l1: 30.7996\tvalid_0's l2: 1725.67\n",
      "[105]\tvalid_0's rmse: 41.4933\tvalid_0's l1: 30.7625\tvalid_0's l2: 1721.7\n",
      "[106]\tvalid_0's rmse: 41.4413\tvalid_0's l1: 30.7224\tvalid_0's l2: 1717.38\n",
      "[107]\tvalid_0's rmse: 41.3946\tvalid_0's l1: 30.6855\tvalid_0's l2: 1713.51\n",
      "[108]\tvalid_0's rmse: 41.3477\tvalid_0's l1: 30.6478\tvalid_0's l2: 1709.63\n",
      "[109]\tvalid_0's rmse: 41.3038\tvalid_0's l1: 30.6088\tvalid_0's l2: 1706\n",
      "[110]\tvalid_0's rmse: 41.2543\tvalid_0's l1: 30.5706\tvalid_0's l2: 1701.92\n",
      "[111]\tvalid_0's rmse: 41.203\tvalid_0's l1: 30.5338\tvalid_0's l2: 1697.69\n",
      "[112]\tvalid_0's rmse: 41.1571\tvalid_0's l1: 30.4993\tvalid_0's l2: 1693.91\n",
      "[113]\tvalid_0's rmse: 41.1035\tvalid_0's l1: 30.4613\tvalid_0's l2: 1689.5\n",
      "[114]\tvalid_0's rmse: 41.0574\tvalid_0's l1: 30.4273\tvalid_0's l2: 1685.71\n",
      "[115]\tvalid_0's rmse: 41.0099\tvalid_0's l1: 30.3938\tvalid_0's l2: 1681.81\n",
      "[116]\tvalid_0's rmse: 40.96\tvalid_0's l1: 30.3596\tvalid_0's l2: 1677.72\n",
      "[117]\tvalid_0's rmse: 40.9115\tvalid_0's l1: 30.326\tvalid_0's l2: 1673.75\n",
      "[118]\tvalid_0's rmse: 40.8648\tvalid_0's l1: 30.2937\tvalid_0's l2: 1669.93\n",
      "[119]\tvalid_0's rmse: 40.8174\tvalid_0's l1: 30.2602\tvalid_0's l2: 1666.06\n",
      "[120]\tvalid_0's rmse: 40.7696\tvalid_0's l1: 30.2268\tvalid_0's l2: 1662.16\n",
      "[121]\tvalid_0's rmse: 40.7269\tvalid_0's l1: 30.1984\tvalid_0's l2: 1658.68\n",
      "[122]\tvalid_0's rmse: 40.6848\tvalid_0's l1: 30.1684\tvalid_0's l2: 1655.25\n",
      "[123]\tvalid_0's rmse: 40.6435\tvalid_0's l1: 30.1395\tvalid_0's l2: 1651.89\n",
      "[124]\tvalid_0's rmse: 40.6027\tvalid_0's l1: 30.1087\tvalid_0's l2: 1648.58\n",
      "[125]\tvalid_0's rmse: 40.5601\tvalid_0's l1: 30.0798\tvalid_0's l2: 1645.12\n",
      "[126]\tvalid_0's rmse: 40.5165\tvalid_0's l1: 30.0466\tvalid_0's l2: 1641.58\n",
      "[127]\tvalid_0's rmse: 40.4743\tvalid_0's l1: 30.0166\tvalid_0's l2: 1638.17\n",
      "[128]\tvalid_0's rmse: 40.4349\tvalid_0's l1: 29.9884\tvalid_0's l2: 1634.98\n",
      "[129]\tvalid_0's rmse: 40.3926\tvalid_0's l1: 29.9581\tvalid_0's l2: 1631.56\n",
      "[130]\tvalid_0's rmse: 40.3535\tvalid_0's l1: 29.9274\tvalid_0's l2: 1628.4\n",
      "[131]\tvalid_0's rmse: 40.3128\tvalid_0's l1: 29.8943\tvalid_0's l2: 1625.12\n",
      "[132]\tvalid_0's rmse: 40.2713\tvalid_0's l1: 29.8612\tvalid_0's l2: 1621.78\n",
      "[133]\tvalid_0's rmse: 40.2318\tvalid_0's l1: 29.831\tvalid_0's l2: 1618.6\n",
      "[134]\tvalid_0's rmse: 40.1932\tvalid_0's l1: 29.7984\tvalid_0's l2: 1615.49\n",
      "[135]\tvalid_0's rmse: 40.1543\tvalid_0's l1: 29.7685\tvalid_0's l2: 1612.37\n",
      "[136]\tvalid_0's rmse: 40.1068\tvalid_0's l1: 29.7321\tvalid_0's l2: 1608.56\n",
      "[137]\tvalid_0's rmse: 40.0703\tvalid_0's l1: 29.7038\tvalid_0's l2: 1605.63\n",
      "[138]\tvalid_0's rmse: 40.0313\tvalid_0's l1: 29.6699\tvalid_0's l2: 1602.5\n",
      "[139]\tvalid_0's rmse: 39.9932\tvalid_0's l1: 29.6392\tvalid_0's l2: 1599.45\n",
      "[140]\tvalid_0's rmse: 39.9588\tvalid_0's l1: 29.61\tvalid_0's l2: 1596.7\n",
      "[141]\tvalid_0's rmse: 39.9212\tvalid_0's l1: 29.5796\tvalid_0's l2: 1593.71\n",
      "[142]\tvalid_0's rmse: 39.8778\tvalid_0's l1: 29.5478\tvalid_0's l2: 1590.24\n",
      "[143]\tvalid_0's rmse: 39.8426\tvalid_0's l1: 29.519\tvalid_0's l2: 1587.43\n",
      "[144]\tvalid_0's rmse: 39.7995\tvalid_0's l1: 29.4882\tvalid_0's l2: 1584\n",
      "[145]\tvalid_0's rmse: 39.7556\tvalid_0's l1: 29.4575\tvalid_0's l2: 1580.51\n",
      "[146]\tvalid_0's rmse: 39.7175\tvalid_0's l1: 29.4322\tvalid_0's l2: 1577.48\n",
      "[147]\tvalid_0's rmse: 39.6765\tvalid_0's l1: 29.4058\tvalid_0's l2: 1574.22\n",
      "[148]\tvalid_0's rmse: 39.6362\tvalid_0's l1: 29.3797\tvalid_0's l2: 1571.02\n"
     ]
    },
    {
     "name": "stdout",
     "output_type": "stream",
     "text": [
      "[149]\tvalid_0's rmse: 39.5946\tvalid_0's l1: 29.3528\tvalid_0's l2: 1567.73\n",
      "[150]\tvalid_0's rmse: 39.5538\tvalid_0's l1: 29.3285\tvalid_0's l2: 1564.5\n",
      "[151]\tvalid_0's rmse: 39.515\tvalid_0's l1: 29.3027\tvalid_0's l2: 1561.44\n",
      "[152]\tvalid_0's rmse: 39.4841\tvalid_0's l1: 29.281\tvalid_0's l2: 1559\n",
      "[153]\tvalid_0's rmse: 39.4436\tvalid_0's l1: 29.2547\tvalid_0's l2: 1555.8\n",
      "[154]\tvalid_0's rmse: 39.4067\tvalid_0's l1: 29.2299\tvalid_0's l2: 1552.89\n",
      "[155]\tvalid_0's rmse: 39.3686\tvalid_0's l1: 29.2048\tvalid_0's l2: 1549.89\n",
      "[156]\tvalid_0's rmse: 39.3325\tvalid_0's l1: 29.1799\tvalid_0's l2: 1547.05\n",
      "[157]\tvalid_0's rmse: 39.2944\tvalid_0's l1: 29.1548\tvalid_0's l2: 1544.05\n",
      "[158]\tvalid_0's rmse: 39.2571\tvalid_0's l1: 29.1311\tvalid_0's l2: 1541.12\n",
      "[159]\tvalid_0's rmse: 39.2213\tvalid_0's l1: 29.1084\tvalid_0's l2: 1538.31\n",
      "[160]\tvalid_0's rmse: 39.1924\tvalid_0's l1: 29.0875\tvalid_0's l2: 1536.04\n",
      "[161]\tvalid_0's rmse: 39.1601\tvalid_0's l1: 29.0621\tvalid_0's l2: 1533.51\n",
      "[162]\tvalid_0's rmse: 39.1213\tvalid_0's l1: 29.0339\tvalid_0's l2: 1530.48\n",
      "[163]\tvalid_0's rmse: 39.0897\tvalid_0's l1: 29.0089\tvalid_0's l2: 1528.01\n",
      "[164]\tvalid_0's rmse: 39.056\tvalid_0's l1: 28.982\tvalid_0's l2: 1525.37\n",
      "[165]\tvalid_0's rmse: 39.0227\tvalid_0's l1: 28.955\tvalid_0's l2: 1522.77\n",
      "[166]\tvalid_0's rmse: 38.9898\tvalid_0's l1: 28.9289\tvalid_0's l2: 1520.21\n",
      "[167]\tvalid_0's rmse: 38.9541\tvalid_0's l1: 28.9037\tvalid_0's l2: 1517.42\n",
      "[168]\tvalid_0's rmse: 38.9195\tvalid_0's l1: 28.8774\tvalid_0's l2: 1514.73\n",
      "[169]\tvalid_0's rmse: 38.8904\tvalid_0's l1: 28.8563\tvalid_0's l2: 1512.47\n",
      "[170]\tvalid_0's rmse: 38.854\tvalid_0's l1: 28.8297\tvalid_0's l2: 1509.63\n",
      "[171]\tvalid_0's rmse: 38.8215\tvalid_0's l1: 28.8086\tvalid_0's l2: 1507.11\n",
      "[172]\tvalid_0's rmse: 38.7922\tvalid_0's l1: 28.7897\tvalid_0's l2: 1504.83\n",
      "[173]\tvalid_0's rmse: 38.7643\tvalid_0's l1: 28.7718\tvalid_0's l2: 1502.67\n",
      "[174]\tvalid_0's rmse: 38.7383\tvalid_0's l1: 28.7539\tvalid_0's l2: 1500.66\n",
      "[175]\tvalid_0's rmse: 38.7131\tvalid_0's l1: 28.7338\tvalid_0's l2: 1498.7\n",
      "[176]\tvalid_0's rmse: 38.6808\tvalid_0's l1: 28.7109\tvalid_0's l2: 1496.2\n",
      "[177]\tvalid_0's rmse: 38.6545\tvalid_0's l1: 28.6938\tvalid_0's l2: 1494.17\n",
      "[178]\tvalid_0's rmse: 38.6314\tvalid_0's l1: 28.6751\tvalid_0's l2: 1492.39\n",
      "[179]\tvalid_0's rmse: 38.6034\tvalid_0's l1: 28.6571\tvalid_0's l2: 1490.22\n",
      "[180]\tvalid_0's rmse: 38.5808\tvalid_0's l1: 28.6386\tvalid_0's l2: 1488.48\n",
      "[181]\tvalid_0's rmse: 38.5538\tvalid_0's l1: 28.6179\tvalid_0's l2: 1486.4\n",
      "[182]\tvalid_0's rmse: 38.5272\tvalid_0's l1: 28.5972\tvalid_0's l2: 1484.34\n",
      "[183]\tvalid_0's rmse: 38.4987\tvalid_0's l1: 28.5753\tvalid_0's l2: 1482.15\n",
      "[184]\tvalid_0's rmse: 38.4713\tvalid_0's l1: 28.5541\tvalid_0's l2: 1480.04\n",
      "[185]\tvalid_0's rmse: 38.4453\tvalid_0's l1: 28.5342\tvalid_0's l2: 1478.04\n",
      "[186]\tvalid_0's rmse: 38.4144\tvalid_0's l1: 28.5111\tvalid_0's l2: 1475.67\n",
      "[187]\tvalid_0's rmse: 38.3874\tvalid_0's l1: 28.4877\tvalid_0's l2: 1473.59\n",
      "[188]\tvalid_0's rmse: 38.3597\tvalid_0's l1: 28.465\tvalid_0's l2: 1471.47\n",
      "[189]\tvalid_0's rmse: 38.331\tvalid_0's l1: 28.4457\tvalid_0's l2: 1469.27\n",
      "[190]\tvalid_0's rmse: 38.3038\tvalid_0's l1: 28.4239\tvalid_0's l2: 1467.18\n",
      "[191]\tvalid_0's rmse: 38.2811\tvalid_0's l1: 28.404\tvalid_0's l2: 1465.45\n",
      "[192]\tvalid_0's rmse: 38.2624\tvalid_0's l1: 28.3899\tvalid_0's l2: 1464.01\n",
      "[193]\tvalid_0's rmse: 38.2439\tvalid_0's l1: 28.3758\tvalid_0's l2: 1462.6\n",
      "[194]\tvalid_0's rmse: 38.2192\tvalid_0's l1: 28.3601\tvalid_0's l2: 1460.71\n",
      "[195]\tvalid_0's rmse: 38.1933\tvalid_0's l1: 28.3415\tvalid_0's l2: 1458.73\n",
      "[196]\tvalid_0's rmse: 38.1753\tvalid_0's l1: 28.3264\tvalid_0's l2: 1457.35\n",
      "[197]\tvalid_0's rmse: 38.1521\tvalid_0's l1: 28.3085\tvalid_0's l2: 1455.59\n",
      "[198]\tvalid_0's rmse: 38.1281\tvalid_0's l1: 28.2904\tvalid_0's l2: 1453.75\n",
      "[199]\tvalid_0's rmse: 38.1058\tvalid_0's l1: 28.2731\tvalid_0's l2: 1452.05\n",
      "[200]\tvalid_0's rmse: 38.0848\tvalid_0's l1: 28.2556\tvalid_0's l2: 1450.45\n",
      "[201]\tvalid_0's rmse: 38.0601\tvalid_0's l1: 28.2352\tvalid_0's l2: 1448.57\n",
      "[202]\tvalid_0's rmse: 38.0343\tvalid_0's l1: 28.214\tvalid_0's l2: 1446.61\n",
      "[203]\tvalid_0's rmse: 38.0101\tvalid_0's l1: 28.1941\tvalid_0's l2: 1444.77\n",
      "[204]\tvalid_0's rmse: 37.9864\tvalid_0's l1: 28.175\tvalid_0's l2: 1442.96\n",
      "[205]\tvalid_0's rmse: 37.9658\tvalid_0's l1: 28.1618\tvalid_0's l2: 1441.4\n",
      "[206]\tvalid_0's rmse: 37.9422\tvalid_0's l1: 28.1427\tvalid_0's l2: 1439.61\n",
      "[207]\tvalid_0's rmse: 37.9222\tvalid_0's l1: 28.1268\tvalid_0's l2: 1438.1\n",
      "[208]\tvalid_0's rmse: 37.9\tvalid_0's l1: 28.1104\tvalid_0's l2: 1436.41\n",
      "[209]\tvalid_0's rmse: 37.8761\tvalid_0's l1: 28.0913\tvalid_0's l2: 1434.6\n",
      "[210]\tvalid_0's rmse: 37.8592\tvalid_0's l1: 28.0765\tvalid_0's l2: 1433.32\n",
      "[211]\tvalid_0's rmse: 37.8363\tvalid_0's l1: 28.0613\tvalid_0's l2: 1431.58\n",
      "[212]\tvalid_0's rmse: 37.811\tvalid_0's l1: 28.0454\tvalid_0's l2: 1429.67\n",
      "[213]\tvalid_0's rmse: 37.791\tvalid_0's l1: 28.0325\tvalid_0's l2: 1428.16\n",
      "[214]\tvalid_0's rmse: 37.7675\tvalid_0's l1: 28.0155\tvalid_0's l2: 1426.38\n",
      "[215]\tvalid_0's rmse: 37.7407\tvalid_0's l1: 27.9966\tvalid_0's l2: 1424.36\n",
      "[216]\tvalid_0's rmse: 37.7191\tvalid_0's l1: 27.9791\tvalid_0's l2: 1422.73\n",
      "[217]\tvalid_0's rmse: 37.6966\tvalid_0's l1: 27.9626\tvalid_0's l2: 1421.04\n",
      "[218]\tvalid_0's rmse: 37.6757\tvalid_0's l1: 27.9487\tvalid_0's l2: 1419.46\n",
      "[219]\tvalid_0's rmse: 37.6525\tvalid_0's l1: 27.9344\tvalid_0's l2: 1417.71\n",
      "[220]\tvalid_0's rmse: 37.6338\tvalid_0's l1: 27.9225\tvalid_0's l2: 1416.31\n",
      "[221]\tvalid_0's rmse: 37.6128\tvalid_0's l1: 27.91\tvalid_0's l2: 1414.72\n",
      "[222]\tvalid_0's rmse: 37.5908\tvalid_0's l1: 27.8964\tvalid_0's l2: 1413.07\n",
      "[223]\tvalid_0's rmse: 37.5696\tvalid_0's l1: 27.8834\tvalid_0's l2: 1411.47\n",
      "[224]\tvalid_0's rmse: 37.5483\tvalid_0's l1: 27.8705\tvalid_0's l2: 1409.87\n",
      "[225]\tvalid_0's rmse: 37.524\tvalid_0's l1: 27.8532\tvalid_0's l2: 1408.05\n",
      "[226]\tvalid_0's rmse: 37.5042\tvalid_0's l1: 27.8418\tvalid_0's l2: 1406.57\n",
      "[227]\tvalid_0's rmse: 37.4826\tvalid_0's l1: 27.8306\tvalid_0's l2: 1404.95\n",
      "[228]\tvalid_0's rmse: 37.4613\tvalid_0's l1: 27.8185\tvalid_0's l2: 1403.35\n",
      "[229]\tvalid_0's rmse: 37.4405\tvalid_0's l1: 27.8065\tvalid_0's l2: 1401.79\n",
      "[230]\tvalid_0's rmse: 37.4198\tvalid_0's l1: 27.7948\tvalid_0's l2: 1400.24\n",
      "[231]\tvalid_0's rmse: 37.4009\tvalid_0's l1: 27.7825\tvalid_0's l2: 1398.83\n",
      "[232]\tvalid_0's rmse: 37.3785\tvalid_0's l1: 27.7669\tvalid_0's l2: 1397.15\n",
      "[233]\tvalid_0's rmse: 37.3581\tvalid_0's l1: 27.752\tvalid_0's l2: 1395.62\n",
      "[234]\tvalid_0's rmse: 37.337\tvalid_0's l1: 27.7365\tvalid_0's l2: 1394.05\n",
      "[235]\tvalid_0's rmse: 37.3201\tvalid_0's l1: 27.7243\tvalid_0's l2: 1392.79\n",
      "[236]\tvalid_0's rmse: 37.3001\tvalid_0's l1: 27.7096\tvalid_0's l2: 1391.3\n",
      "[237]\tvalid_0's rmse: 37.2845\tvalid_0's l1: 27.6999\tvalid_0's l2: 1390.13\n",
      "[238]\tvalid_0's rmse: 37.2665\tvalid_0's l1: 27.6877\tvalid_0's l2: 1388.79\n",
      "[239]\tvalid_0's rmse: 37.2471\tvalid_0's l1: 27.6736\tvalid_0's l2: 1387.35\n",
      "[240]\tvalid_0's rmse: 37.2271\tvalid_0's l1: 27.6585\tvalid_0's l2: 1385.86\n",
      "[241]\tvalid_0's rmse: 37.2131\tvalid_0's l1: 27.6459\tvalid_0's l2: 1384.82\n",
      "[242]\tvalid_0's rmse: 37.1955\tvalid_0's l1: 27.6341\tvalid_0's l2: 1383.5\n",
      "[243]\tvalid_0's rmse: 37.1812\tvalid_0's l1: 27.6197\tvalid_0's l2: 1382.44\n",
      "[244]\tvalid_0's rmse: 37.16\tvalid_0's l1: 27.6021\tvalid_0's l2: 1380.86\n",
      "[245]\tvalid_0's rmse: 37.146\tvalid_0's l1: 27.588\tvalid_0's l2: 1379.83\n",
      "[246]\tvalid_0's rmse: 37.1294\tvalid_0's l1: 27.577\tvalid_0's l2: 1378.59\n",
      "[247]\tvalid_0's rmse: 37.113\tvalid_0's l1: 27.566\tvalid_0's l2: 1377.38\n",
      "[248]\tvalid_0's rmse: 37.0974\tvalid_0's l1: 27.5515\tvalid_0's l2: 1376.22\n",
      "[249]\tvalid_0's rmse: 37.0812\tvalid_0's l1: 27.5367\tvalid_0's l2: 1375.02\n",
      "[250]\tvalid_0's rmse: 37.0652\tvalid_0's l1: 27.5259\tvalid_0's l2: 1373.83\n",
      "[251]\tvalid_0's rmse: 37.0515\tvalid_0's l1: 27.5109\tvalid_0's l2: 1372.81\n",
      "[252]\tvalid_0's rmse: 37.0342\tvalid_0's l1: 27.4952\tvalid_0's l2: 1371.53\n",
      "[253]\tvalid_0's rmse: 37.021\tvalid_0's l1: 27.4817\tvalid_0's l2: 1370.55\n",
      "[254]\tvalid_0's rmse: 37.0042\tvalid_0's l1: 27.4662\tvalid_0's l2: 1369.31\n",
      "[255]\tvalid_0's rmse: 36.9865\tvalid_0's l1: 27.4512\tvalid_0's l2: 1368\n",
      "[256]\tvalid_0's rmse: 36.9691\tvalid_0's l1: 27.4356\tvalid_0's l2: 1366.71\n",
      "[257]\tvalid_0's rmse: 36.9515\tvalid_0's l1: 27.4217\tvalid_0's l2: 1365.41\n",
      "[258]\tvalid_0's rmse: 36.9368\tvalid_0's l1: 27.4092\tvalid_0's l2: 1364.33\n",
      "[259]\tvalid_0's rmse: 36.9221\tvalid_0's l1: 27.3951\tvalid_0's l2: 1363.24\n",
      "[260]\tvalid_0's rmse: 36.9073\tvalid_0's l1: 27.3804\tvalid_0's l2: 1362.15\n",
      "[261]\tvalid_0's rmse: 36.8883\tvalid_0's l1: 27.3665\tvalid_0's l2: 1360.75\n",
      "[262]\tvalid_0's rmse: 36.8691\tvalid_0's l1: 27.3529\tvalid_0's l2: 1359.33\n",
      "[263]\tvalid_0's rmse: 36.8484\tvalid_0's l1: 27.3384\tvalid_0's l2: 1357.81\n",
      "[264]\tvalid_0's rmse: 36.8308\tvalid_0's l1: 27.323\tvalid_0's l2: 1356.51\n",
      "[265]\tvalid_0's rmse: 36.8115\tvalid_0's l1: 27.3083\tvalid_0's l2: 1355.09\n",
      "[266]\tvalid_0's rmse: 36.7965\tvalid_0's l1: 27.2978\tvalid_0's l2: 1353.98\n",
      "[267]\tvalid_0's rmse: 36.7793\tvalid_0's l1: 27.2856\tvalid_0's l2: 1352.72\n",
      "[268]\tvalid_0's rmse: 36.7609\tvalid_0's l1: 27.2722\tvalid_0's l2: 1351.37\n",
      "[269]\tvalid_0's rmse: 36.7468\tvalid_0's l1: 27.2621\tvalid_0's l2: 1350.33\n",
      "[270]\tvalid_0's rmse: 36.7288\tvalid_0's l1: 27.2492\tvalid_0's l2: 1349\n",
      "[271]\tvalid_0's rmse: 36.7138\tvalid_0's l1: 27.2356\tvalid_0's l2: 1347.9\n",
      "[272]\tvalid_0's rmse: 36.7009\tvalid_0's l1: 27.223\tvalid_0's l2: 1346.96\n",
      "[273]\tvalid_0's rmse: 36.6825\tvalid_0's l1: 27.2078\tvalid_0's l2: 1345.61\n",
      "[274]\tvalid_0's rmse: 36.6687\tvalid_0's l1: 27.1946\tvalid_0's l2: 1344.6\n",
      "[275]\tvalid_0's rmse: 36.657\tvalid_0's l1: 27.1826\tvalid_0's l2: 1343.73\n",
      "[276]\tvalid_0's rmse: 36.6392\tvalid_0's l1: 27.1677\tvalid_0's l2: 1342.43\n",
      "[277]\tvalid_0's rmse: 36.6204\tvalid_0's l1: 27.1523\tvalid_0's l2: 1341.06\n",
      "[278]\tvalid_0's rmse: 36.6026\tvalid_0's l1: 27.1382\tvalid_0's l2: 1339.75\n",
      "[279]\tvalid_0's rmse: 36.5865\tvalid_0's l1: 27.1247\tvalid_0's l2: 1338.57\n",
      "[280]\tvalid_0's rmse: 36.5689\tvalid_0's l1: 27.1105\tvalid_0's l2: 1337.28\n",
      "[281]\tvalid_0's rmse: 36.562\tvalid_0's l1: 27.1036\tvalid_0's l2: 1336.78\n",
      "[282]\tvalid_0's rmse: 36.5447\tvalid_0's l1: 27.0911\tvalid_0's l2: 1335.52\n",
      "[283]\tvalid_0's rmse: 36.5288\tvalid_0's l1: 27.0794\tvalid_0's l2: 1334.35\n",
      "[284]\tvalid_0's rmse: 36.5211\tvalid_0's l1: 27.0729\tvalid_0's l2: 1333.79\n",
      "[285]\tvalid_0's rmse: 36.5111\tvalid_0's l1: 27.0649\tvalid_0's l2: 1333.06\n",
      "[286]\tvalid_0's rmse: 36.5016\tvalid_0's l1: 27.0571\tvalid_0's l2: 1332.37\n",
      "[287]\tvalid_0's rmse: 36.4918\tvalid_0's l1: 27.049\tvalid_0's l2: 1331.65\n",
      "[288]\tvalid_0's rmse: 36.4855\tvalid_0's l1: 27.0419\tvalid_0's l2: 1331.2\n",
      "[289]\tvalid_0's rmse: 36.4784\tvalid_0's l1: 27.0356\tvalid_0's l2: 1330.68\n",
      "[290]\tvalid_0's rmse: 36.4691\tvalid_0's l1: 27.0269\tvalid_0's l2: 1329.99\n",
      "[291]\tvalid_0's rmse: 36.4538\tvalid_0's l1: 27.0141\tvalid_0's l2: 1328.88\n",
      "[292]\tvalid_0's rmse: 36.4389\tvalid_0's l1: 27.0015\tvalid_0's l2: 1327.79\n",
      "[293]\tvalid_0's rmse: 36.4246\tvalid_0's l1: 26.9894\tvalid_0's l2: 1326.75\n",
      "[294]\tvalid_0's rmse: 36.4086\tvalid_0's l1: 26.9757\tvalid_0's l2: 1325.59\n",
      "[295]\tvalid_0's rmse: 36.3966\tvalid_0's l1: 26.9663\tvalid_0's l2: 1324.71\n",
      "[296]\tvalid_0's rmse: 36.3828\tvalid_0's l1: 26.9536\tvalid_0's l2: 1323.71\n",
      "[297]\tvalid_0's rmse: 36.3646\tvalid_0's l1: 26.9398\tvalid_0's l2: 1322.38\n",
      "[298]\tvalid_0's rmse: 36.3509\tvalid_0's l1: 26.929\tvalid_0's l2: 1321.39\n",
      "[299]\tvalid_0's rmse: 36.3337\tvalid_0's l1: 26.9165\tvalid_0's l2: 1320.14\n",
      "[300]\tvalid_0's rmse: 36.3178\tvalid_0's l1: 26.9062\tvalid_0's l2: 1318.98\n",
      "[301]\tvalid_0's rmse: 36.3099\tvalid_0's l1: 26.8972\tvalid_0's l2: 1318.41\n",
      "[302]\tvalid_0's rmse: 36.3043\tvalid_0's l1: 26.8905\tvalid_0's l2: 1318\n",
      "[303]\tvalid_0's rmse: 36.292\tvalid_0's l1: 26.8829\tvalid_0's l2: 1317.11\n",
      "[304]\tvalid_0's rmse: 36.277\tvalid_0's l1: 26.8731\tvalid_0's l2: 1316.02\n",
      "[305]\tvalid_0's rmse: 36.2688\tvalid_0's l1: 26.8678\tvalid_0's l2: 1315.42\n",
      "[306]\tvalid_0's rmse: 36.2564\tvalid_0's l1: 26.8599\tvalid_0's l2: 1314.53\n",
      "[307]\tvalid_0's rmse: 36.2488\tvalid_0's l1: 26.8516\tvalid_0's l2: 1313.97\n",
      "[308]\tvalid_0's rmse: 36.2361\tvalid_0's l1: 26.8423\tvalid_0's l2: 1313.06\n",
      "[309]\tvalid_0's rmse: 36.2246\tvalid_0's l1: 26.8368\tvalid_0's l2: 1312.22\n",
      "[310]\tvalid_0's rmse: 36.2164\tvalid_0's l1: 26.8336\tvalid_0's l2: 1311.63\n",
      "[311]\tvalid_0's rmse: 36.2141\tvalid_0's l1: 26.8288\tvalid_0's l2: 1311.46\n",
      "[312]\tvalid_0's rmse: 36.2127\tvalid_0's l1: 26.8274\tvalid_0's l2: 1311.36\n",
      "[313]\tvalid_0's rmse: 36.2134\tvalid_0's l1: 26.8262\tvalid_0's l2: 1311.41\n",
      "[314]\tvalid_0's rmse: 36.2028\tvalid_0's l1: 26.8218\tvalid_0's l2: 1310.65\n",
      "[315]\tvalid_0's rmse: 36.2018\tvalid_0's l1: 26.8204\tvalid_0's l2: 1310.57\n",
      "[316]\tvalid_0's rmse: 36.1964\tvalid_0's l1: 26.8144\tvalid_0's l2: 1310.18\n",
      "[317]\tvalid_0's rmse: 36.1972\tvalid_0's l1: 26.8117\tvalid_0's l2: 1310.24\n",
      "[318]\tvalid_0's rmse: 36.1907\tvalid_0's l1: 26.8069\tvalid_0's l2: 1309.77\n",
      "[319]\tvalid_0's rmse: 36.1809\tvalid_0's l1: 26.8028\tvalid_0's l2: 1309.06\n",
      "[320]\tvalid_0's rmse: 36.1812\tvalid_0's l1: 26.8024\tvalid_0's l2: 1309.08\n",
      "[321]\tvalid_0's rmse: 36.1717\tvalid_0's l1: 26.7965\tvalid_0's l2: 1308.39\n",
      "[322]\tvalid_0's rmse: 36.1622\tvalid_0's l1: 26.7905\tvalid_0's l2: 1307.7\n",
      "[323]\tvalid_0's rmse: 36.1509\tvalid_0's l1: 26.7815\tvalid_0's l2: 1306.89\n",
      "[324]\tvalid_0's rmse: 36.1397\tvalid_0's l1: 26.7725\tvalid_0's l2: 1306.08\n",
      "[325]\tvalid_0's rmse: 36.1275\tvalid_0's l1: 26.7632\tvalid_0's l2: 1305.2\n"
     ]
    },
    {
     "name": "stdout",
     "output_type": "stream",
     "text": [
      "[326]\tvalid_0's rmse: 36.1182\tvalid_0's l1: 26.7568\tvalid_0's l2: 1304.53\n",
      "[327]\tvalid_0's rmse: 36.1063\tvalid_0's l1: 26.7468\tvalid_0's l2: 1303.67\n",
      "[328]\tvalid_0's rmse: 36.1008\tvalid_0's l1: 26.7439\tvalid_0's l2: 1303.26\n",
      "[329]\tvalid_0's rmse: 36.09\tvalid_0's l1: 26.7389\tvalid_0's l2: 1302.49\n",
      "[330]\tvalid_0's rmse: 36.0793\tvalid_0's l1: 26.7338\tvalid_0's l2: 1301.72\n",
      "[331]\tvalid_0's rmse: 36.0684\tvalid_0's l1: 26.7245\tvalid_0's l2: 1300.93\n",
      "[332]\tvalid_0's rmse: 36.0589\tvalid_0's l1: 26.718\tvalid_0's l2: 1300.24\n",
      "[333]\tvalid_0's rmse: 36.0487\tvalid_0's l1: 26.711\tvalid_0's l2: 1299.51\n",
      "[334]\tvalid_0's rmse: 36.0423\tvalid_0's l1: 26.7031\tvalid_0's l2: 1299.05\n",
      "[335]\tvalid_0's rmse: 36.0359\tvalid_0's l1: 26.6973\tvalid_0's l2: 1298.58\n",
      "[336]\tvalid_0's rmse: 36.0271\tvalid_0's l1: 26.6925\tvalid_0's l2: 1297.95\n",
      "[337]\tvalid_0's rmse: 36.0199\tvalid_0's l1: 26.6879\tvalid_0's l2: 1297.44\n",
      "[338]\tvalid_0's rmse: 36.009\tvalid_0's l1: 26.6807\tvalid_0's l2: 1296.65\n",
      "[339]\tvalid_0's rmse: 35.9983\tvalid_0's l1: 26.6738\tvalid_0's l2: 1295.88\n",
      "[340]\tvalid_0's rmse: 35.9915\tvalid_0's l1: 26.6676\tvalid_0's l2: 1295.39\n",
      "[341]\tvalid_0's rmse: 35.9798\tvalid_0's l1: 26.6586\tvalid_0's l2: 1294.54\n",
      "[342]\tvalid_0's rmse: 35.9717\tvalid_0's l1: 26.6532\tvalid_0's l2: 1293.96\n",
      "[343]\tvalid_0's rmse: 35.9569\tvalid_0's l1: 26.643\tvalid_0's l2: 1292.9\n",
      "[344]\tvalid_0's rmse: 35.9415\tvalid_0's l1: 26.6329\tvalid_0's l2: 1291.79\n",
      "[345]\tvalid_0's rmse: 35.9344\tvalid_0's l1: 26.6269\tvalid_0's l2: 1291.28\n",
      "[346]\tvalid_0's rmse: 35.9235\tvalid_0's l1: 26.6191\tvalid_0's l2: 1290.5\n",
      "[347]\tvalid_0's rmse: 35.9116\tvalid_0's l1: 26.6096\tvalid_0's l2: 1289.64\n",
      "[348]\tvalid_0's rmse: 35.8999\tvalid_0's l1: 26.6018\tvalid_0's l2: 1288.8\n",
      "[349]\tvalid_0's rmse: 35.8887\tvalid_0's l1: 26.5935\tvalid_0's l2: 1288\n",
      "[350]\tvalid_0's rmse: 35.8764\tvalid_0's l1: 26.5872\tvalid_0's l2: 1287.12\n",
      "[351]\tvalid_0's rmse: 35.8631\tvalid_0's l1: 26.5752\tvalid_0's l2: 1286.16\n",
      "[352]\tvalid_0's rmse: 35.8523\tvalid_0's l1: 26.5646\tvalid_0's l2: 1285.39\n",
      "[353]\tvalid_0's rmse: 35.8424\tvalid_0's l1: 26.5559\tvalid_0's l2: 1284.68\n",
      "[354]\tvalid_0's rmse: 35.8313\tvalid_0's l1: 26.5461\tvalid_0's l2: 1283.88\n",
      "[355]\tvalid_0's rmse: 35.8202\tvalid_0's l1: 26.5363\tvalid_0's l2: 1283.09\n",
      "[356]\tvalid_0's rmse: 35.8189\tvalid_0's l1: 26.5333\tvalid_0's l2: 1282.99\n",
      "[357]\tvalid_0's rmse: 35.8075\tvalid_0's l1: 26.5231\tvalid_0's l2: 1282.17\n",
      "[358]\tvalid_0's rmse: 35.7962\tvalid_0's l1: 26.513\tvalid_0's l2: 1281.37\n",
      "[359]\tvalid_0's rmse: 35.7863\tvalid_0's l1: 26.5052\tvalid_0's l2: 1280.66\n",
      "[360]\tvalid_0's rmse: 35.7721\tvalid_0's l1: 26.494\tvalid_0's l2: 1279.64\n",
      "[361]\tvalid_0's rmse: 35.7684\tvalid_0's l1: 26.491\tvalid_0's l2: 1279.38\n",
      "[362]\tvalid_0's rmse: 35.7619\tvalid_0's l1: 26.4858\tvalid_0's l2: 1278.92\n",
      "[363]\tvalid_0's rmse: 35.7556\tvalid_0's l1: 26.4823\tvalid_0's l2: 1278.47\n",
      "[364]\tvalid_0's rmse: 35.7488\tvalid_0's l1: 26.4767\tvalid_0's l2: 1277.98\n",
      "[365]\tvalid_0's rmse: 35.7412\tvalid_0's l1: 26.4706\tvalid_0's l2: 1277.43\n",
      "[366]\tvalid_0's rmse: 35.7328\tvalid_0's l1: 26.4644\tvalid_0's l2: 1276.84\n",
      "[367]\tvalid_0's rmse: 35.7268\tvalid_0's l1: 26.4592\tvalid_0's l2: 1276.4\n",
      "[368]\tvalid_0's rmse: 35.7217\tvalid_0's l1: 26.4554\tvalid_0's l2: 1276.04\n",
      "[369]\tvalid_0's rmse: 35.7158\tvalid_0's l1: 26.4502\tvalid_0's l2: 1275.62\n",
      "[370]\tvalid_0's rmse: 35.7084\tvalid_0's l1: 26.4439\tvalid_0's l2: 1275.09\n",
      "[371]\tvalid_0's rmse: 35.6992\tvalid_0's l1: 26.4351\tvalid_0's l2: 1274.43\n",
      "[372]\tvalid_0's rmse: 35.6948\tvalid_0's l1: 26.4286\tvalid_0's l2: 1274.12\n",
      "[373]\tvalid_0's rmse: 35.6883\tvalid_0's l1: 26.4214\tvalid_0's l2: 1273.66\n",
      "[374]\tvalid_0's rmse: 35.6795\tvalid_0's l1: 26.4123\tvalid_0's l2: 1273.03\n",
      "[375]\tvalid_0's rmse: 35.6723\tvalid_0's l1: 26.4055\tvalid_0's l2: 1272.52\n",
      "[376]\tvalid_0's rmse: 35.6638\tvalid_0's l1: 26.3993\tvalid_0's l2: 1271.9\n",
      "[377]\tvalid_0's rmse: 35.6572\tvalid_0's l1: 26.3934\tvalid_0's l2: 1271.44\n",
      "[378]\tvalid_0's rmse: 35.6506\tvalid_0's l1: 26.387\tvalid_0's l2: 1270.97\n",
      "[379]\tvalid_0's rmse: 35.6417\tvalid_0's l1: 26.3798\tvalid_0's l2: 1270.33\n",
      "[380]\tvalid_0's rmse: 35.6333\tvalid_0's l1: 26.3728\tvalid_0's l2: 1269.73\n",
      "[381]\tvalid_0's rmse: 35.6256\tvalid_0's l1: 26.3676\tvalid_0's l2: 1269.18\n",
      "[382]\tvalid_0's rmse: 35.6134\tvalid_0's l1: 26.3594\tvalid_0's l2: 1268.31\n",
      "[383]\tvalid_0's rmse: 35.6031\tvalid_0's l1: 26.3519\tvalid_0's l2: 1267.58\n",
      "[384]\tvalid_0's rmse: 35.5962\tvalid_0's l1: 26.3456\tvalid_0's l2: 1267.09\n",
      "[385]\tvalid_0's rmse: 35.5849\tvalid_0's l1: 26.3381\tvalid_0's l2: 1266.29\n",
      "[386]\tvalid_0's rmse: 35.5766\tvalid_0's l1: 26.3346\tvalid_0's l2: 1265.7\n",
      "[387]\tvalid_0's rmse: 35.5667\tvalid_0's l1: 26.3272\tvalid_0's l2: 1264.99\n",
      "[388]\tvalid_0's rmse: 35.5544\tvalid_0's l1: 26.3185\tvalid_0's l2: 1264.12\n",
      "[389]\tvalid_0's rmse: 35.5449\tvalid_0's l1: 26.3116\tvalid_0's l2: 1263.44\n",
      "[390]\tvalid_0's rmse: 35.5392\tvalid_0's l1: 26.3051\tvalid_0's l2: 1263.04\n",
      "[391]\tvalid_0's rmse: 35.534\tvalid_0's l1: 26.2986\tvalid_0's l2: 1262.67\n",
      "[392]\tvalid_0's rmse: 35.5285\tvalid_0's l1: 26.293\tvalid_0's l2: 1262.27\n",
      "[393]\tvalid_0's rmse: 35.5229\tvalid_0's l1: 26.2874\tvalid_0's l2: 1261.88\n",
      "[394]\tvalid_0's rmse: 35.5172\tvalid_0's l1: 26.2817\tvalid_0's l2: 1261.47\n",
      "[395]\tvalid_0's rmse: 35.5118\tvalid_0's l1: 26.2762\tvalid_0's l2: 1261.09\n",
      "[396]\tvalid_0's rmse: 35.5069\tvalid_0's l1: 26.2698\tvalid_0's l2: 1260.74\n",
      "[397]\tvalid_0's rmse: 35.5007\tvalid_0's l1: 26.2637\tvalid_0's l2: 1260.3\n",
      "[398]\tvalid_0's rmse: 35.4943\tvalid_0's l1: 26.258\tvalid_0's l2: 1259.85\n",
      "[399]\tvalid_0's rmse: 35.4886\tvalid_0's l1: 26.2526\tvalid_0's l2: 1259.44\n",
      "[400]\tvalid_0's rmse: 35.484\tvalid_0's l1: 26.2466\tvalid_0's l2: 1259.11\n",
      "[401]\tvalid_0's rmse: 35.4755\tvalid_0's l1: 26.241\tvalid_0's l2: 1258.51\n",
      "[402]\tvalid_0's rmse: 35.4697\tvalid_0's l1: 26.2382\tvalid_0's l2: 1258.1\n",
      "[403]\tvalid_0's rmse: 35.4617\tvalid_0's l1: 26.2332\tvalid_0's l2: 1257.53\n",
      "[404]\tvalid_0's rmse: 35.454\tvalid_0's l1: 26.227\tvalid_0's l2: 1256.98\n",
      "[405]\tvalid_0's rmse: 35.4466\tvalid_0's l1: 26.2214\tvalid_0's l2: 1256.46\n",
      "[406]\tvalid_0's rmse: 35.4399\tvalid_0's l1: 26.2174\tvalid_0's l2: 1255.99\n",
      "[407]\tvalid_0's rmse: 35.4308\tvalid_0's l1: 26.2111\tvalid_0's l2: 1255.34\n",
      "[408]\tvalid_0's rmse: 35.4228\tvalid_0's l1: 26.2063\tvalid_0's l2: 1254.77\n",
      "[409]\tvalid_0's rmse: 35.4131\tvalid_0's l1: 26.1994\tvalid_0's l2: 1254.09\n",
      "[410]\tvalid_0's rmse: 35.4043\tvalid_0's l1: 26.1935\tvalid_0's l2: 1253.47\n",
      "[411]\tvalid_0's rmse: 35.4032\tvalid_0's l1: 26.1912\tvalid_0's l2: 1253.38\n",
      "[412]\tvalid_0's rmse: 35.3984\tvalid_0's l1: 26.1856\tvalid_0's l2: 1253.04\n",
      "[413]\tvalid_0's rmse: 35.3926\tvalid_0's l1: 26.1804\tvalid_0's l2: 1252.64\n",
      "[414]\tvalid_0's rmse: 35.3921\tvalid_0's l1: 26.1805\tvalid_0's l2: 1252.6\n",
      "[415]\tvalid_0's rmse: 35.3915\tvalid_0's l1: 26.1806\tvalid_0's l2: 1252.56\n",
      "[416]\tvalid_0's rmse: 35.3912\tvalid_0's l1: 26.1786\tvalid_0's l2: 1252.53\n",
      "[417]\tvalid_0's rmse: 35.3854\tvalid_0's l1: 26.1749\tvalid_0's l2: 1252.13\n",
      "[418]\tvalid_0's rmse: 35.3833\tvalid_0's l1: 26.1725\tvalid_0's l2: 1251.98\n",
      "[419]\tvalid_0's rmse: 35.3789\tvalid_0's l1: 26.1669\tvalid_0's l2: 1251.67\n",
      "[420]\tvalid_0's rmse: 35.3765\tvalid_0's l1: 26.1638\tvalid_0's l2: 1251.49\n",
      "[421]\tvalid_0's rmse: 35.3731\tvalid_0's l1: 26.1603\tvalid_0's l2: 1251.26\n",
      "[422]\tvalid_0's rmse: 35.3688\tvalid_0's l1: 26.1554\tvalid_0's l2: 1250.95\n",
      "[423]\tvalid_0's rmse: 35.3656\tvalid_0's l1: 26.152\tvalid_0's l2: 1250.73\n",
      "[424]\tvalid_0's rmse: 35.3606\tvalid_0's l1: 26.1465\tvalid_0's l2: 1250.37\n",
      "[425]\tvalid_0's rmse: 35.3572\tvalid_0's l1: 26.1423\tvalid_0's l2: 1250.13\n",
      "[426]\tvalid_0's rmse: 35.351\tvalid_0's l1: 26.134\tvalid_0's l2: 1249.69\n",
      "[427]\tvalid_0's rmse: 35.3439\tvalid_0's l1: 26.1278\tvalid_0's l2: 1249.19\n",
      "[428]\tvalid_0's rmse: 35.3386\tvalid_0's l1: 26.1229\tvalid_0's l2: 1248.81\n",
      "[429]\tvalid_0's rmse: 35.3349\tvalid_0's l1: 26.121\tvalid_0's l2: 1248.55\n",
      "[430]\tvalid_0's rmse: 35.3317\tvalid_0's l1: 26.1176\tvalid_0's l2: 1248.33\n",
      "[431]\tvalid_0's rmse: 35.3204\tvalid_0's l1: 26.1082\tvalid_0's l2: 1247.53\n",
      "[432]\tvalid_0's rmse: 35.3139\tvalid_0's l1: 26.1046\tvalid_0's l2: 1247.07\n",
      "[433]\tvalid_0's rmse: 35.3064\tvalid_0's l1: 26.1006\tvalid_0's l2: 1246.54\n",
      "[434]\tvalid_0's rmse: 35.3017\tvalid_0's l1: 26.0987\tvalid_0's l2: 1246.21\n",
      "[435]\tvalid_0's rmse: 35.2977\tvalid_0's l1: 26.0965\tvalid_0's l2: 1245.93\n",
      "[436]\tvalid_0's rmse: 35.2915\tvalid_0's l1: 26.0929\tvalid_0's l2: 1245.49\n",
      "[437]\tvalid_0's rmse: 35.2855\tvalid_0's l1: 26.0894\tvalid_0's l2: 1245.06\n",
      "[438]\tvalid_0's rmse: 35.2778\tvalid_0's l1: 26.0846\tvalid_0's l2: 1244.52\n",
      "[439]\tvalid_0's rmse: 35.2719\tvalid_0's l1: 26.0812\tvalid_0's l2: 1244.11\n",
      "[440]\tvalid_0's rmse: 35.2647\tvalid_0's l1: 26.0749\tvalid_0's l2: 1243.6\n",
      "[441]\tvalid_0's rmse: 35.2598\tvalid_0's l1: 26.0709\tvalid_0's l2: 1243.25\n",
      "[442]\tvalid_0's rmse: 35.2529\tvalid_0's l1: 26.0675\tvalid_0's l2: 1242.77\n",
      "[443]\tvalid_0's rmse: 35.2466\tvalid_0's l1: 26.0659\tvalid_0's l2: 1242.32\n",
      "[444]\tvalid_0's rmse: 35.2424\tvalid_0's l1: 26.0638\tvalid_0's l2: 1242.02\n",
      "[445]\tvalid_0's rmse: 35.2358\tvalid_0's l1: 26.0602\tvalid_0's l2: 1241.56\n",
      "[446]\tvalid_0's rmse: 35.2297\tvalid_0's l1: 26.0587\tvalid_0's l2: 1241.13\n",
      "[447]\tvalid_0's rmse: 35.2225\tvalid_0's l1: 26.0532\tvalid_0's l2: 1240.63\n",
      "[448]\tvalid_0's rmse: 35.2186\tvalid_0's l1: 26.0512\tvalid_0's l2: 1240.35\n",
      "[449]\tvalid_0's rmse: 35.2105\tvalid_0's l1: 26.0449\tvalid_0's l2: 1239.78\n",
      "[450]\tvalid_0's rmse: 35.2039\tvalid_0's l1: 26.0416\tvalid_0's l2: 1239.32\n",
      "[451]\tvalid_0's rmse: 35.1968\tvalid_0's l1: 26.0365\tvalid_0's l2: 1238.81\n",
      "[452]\tvalid_0's rmse: 35.1966\tvalid_0's l1: 26.037\tvalid_0's l2: 1238.8\n",
      "[453]\tvalid_0's rmse: 35.1924\tvalid_0's l1: 26.0355\tvalid_0's l2: 1238.51\n",
      "[454]\tvalid_0's rmse: 35.1923\tvalid_0's l1: 26.0359\tvalid_0's l2: 1238.5\n",
      "[455]\tvalid_0's rmse: 35.1894\tvalid_0's l1: 26.0339\tvalid_0's l2: 1238.3\n",
      "[456]\tvalid_0's rmse: 35.1888\tvalid_0's l1: 26.033\tvalid_0's l2: 1238.25\n",
      "[457]\tvalid_0's rmse: 35.1872\tvalid_0's l1: 26.0324\tvalid_0's l2: 1238.14\n",
      "[458]\tvalid_0's rmse: 35.1822\tvalid_0's l1: 26.0286\tvalid_0's l2: 1237.79\n",
      "[459]\tvalid_0's rmse: 35.1789\tvalid_0's l1: 26.0254\tvalid_0's l2: 1237.56\n",
      "[460]\tvalid_0's rmse: 35.1749\tvalid_0's l1: 26.0226\tvalid_0's l2: 1237.27\n",
      "[461]\tvalid_0's rmse: 35.17\tvalid_0's l1: 26.0177\tvalid_0's l2: 1236.93\n",
      "[462]\tvalid_0's rmse: 35.1595\tvalid_0's l1: 26.0092\tvalid_0's l2: 1236.19\n",
      "[463]\tvalid_0's rmse: 35.1548\tvalid_0's l1: 26.0044\tvalid_0's l2: 1235.86\n",
      "[464]\tvalid_0's rmse: 35.1497\tvalid_0's l1: 26.002\tvalid_0's l2: 1235.5\n",
      "[465]\tvalid_0's rmse: 35.1447\tvalid_0's l1: 25.9968\tvalid_0's l2: 1235.15\n",
      "[466]\tvalid_0's rmse: 35.14\tvalid_0's l1: 25.9923\tvalid_0's l2: 1234.82\n",
      "[467]\tvalid_0's rmse: 35.1348\tvalid_0's l1: 25.9855\tvalid_0's l2: 1234.45\n",
      "[468]\tvalid_0's rmse: 35.1246\tvalid_0's l1: 25.9772\tvalid_0's l2: 1233.74\n",
      "[469]\tvalid_0's rmse: 35.1218\tvalid_0's l1: 25.975\tvalid_0's l2: 1233.54\n",
      "[470]\tvalid_0's rmse: 35.1173\tvalid_0's l1: 25.9706\tvalid_0's l2: 1233.22\n",
      "[471]\tvalid_0's rmse: 35.1116\tvalid_0's l1: 25.9673\tvalid_0's l2: 1232.82\n",
      "[472]\tvalid_0's rmse: 35.1054\tvalid_0's l1: 25.9636\tvalid_0's l2: 1232.39\n",
      "[473]\tvalid_0's rmse: 35.0998\tvalid_0's l1: 25.9603\tvalid_0's l2: 1232\n",
      "[474]\tvalid_0's rmse: 35.0942\tvalid_0's l1: 25.9583\tvalid_0's l2: 1231.6\n",
      "[475]\tvalid_0's rmse: 35.0897\tvalid_0's l1: 25.9571\tvalid_0's l2: 1231.29\n",
      "[476]\tvalid_0's rmse: 35.0851\tvalid_0's l1: 25.9547\tvalid_0's l2: 1230.96\n",
      "[477]\tvalid_0's rmse: 35.0806\tvalid_0's l1: 25.9531\tvalid_0's l2: 1230.65\n",
      "[478]\tvalid_0's rmse: 35.0755\tvalid_0's l1: 25.9513\tvalid_0's l2: 1230.29\n",
      "[479]\tvalid_0's rmse: 35.0709\tvalid_0's l1: 25.9484\tvalid_0's l2: 1229.97\n",
      "[480]\tvalid_0's rmse: 35.0656\tvalid_0's l1: 25.9461\tvalid_0's l2: 1229.6\n",
      "[481]\tvalid_0's rmse: 35.0582\tvalid_0's l1: 25.9416\tvalid_0's l2: 1229.08\n",
      "[482]\tvalid_0's rmse: 35.0528\tvalid_0's l1: 25.9385\tvalid_0's l2: 1228.7\n",
      "[483]\tvalid_0's rmse: 35.0461\tvalid_0's l1: 25.9356\tvalid_0's l2: 1228.23\n",
      "[484]\tvalid_0's rmse: 35.0395\tvalid_0's l1: 25.9328\tvalid_0's l2: 1227.77\n",
      "[485]\tvalid_0's rmse: 35.0339\tvalid_0's l1: 25.9288\tvalid_0's l2: 1227.37\n",
      "[486]\tvalid_0's rmse: 35.0287\tvalid_0's l1: 25.9259\tvalid_0's l2: 1227.01\n",
      "[487]\tvalid_0's rmse: 35.0223\tvalid_0's l1: 25.9232\tvalid_0's l2: 1226.56\n",
      "[488]\tvalid_0's rmse: 35.0146\tvalid_0's l1: 25.9192\tvalid_0's l2: 1226.02\n",
      "[489]\tvalid_0's rmse: 35.0076\tvalid_0's l1: 25.9141\tvalid_0's l2: 1225.53\n",
      "[490]\tvalid_0's rmse: 35.0007\tvalid_0's l1: 25.9089\tvalid_0's l2: 1225.05\n",
      "[491]\tvalid_0's rmse: 34.9946\tvalid_0's l1: 25.9053\tvalid_0's l2: 1224.62\n",
      "[492]\tvalid_0's rmse: 34.9871\tvalid_0's l1: 25.901\tvalid_0's l2: 1224.1\n",
      "[493]\tvalid_0's rmse: 34.9788\tvalid_0's l1: 25.8954\tvalid_0's l2: 1223.52\n",
      "[494]\tvalid_0's rmse: 34.9754\tvalid_0's l1: 25.8928\tvalid_0's l2: 1223.28\n",
      "[495]\tvalid_0's rmse: 34.9784\tvalid_0's l1: 25.8943\tvalid_0's l2: 1223.49\n",
      "[496]\tvalid_0's rmse: 34.9743\tvalid_0's l1: 25.8914\tvalid_0's l2: 1223.2\n",
      "[497]\tvalid_0's rmse: 34.9751\tvalid_0's l1: 25.8921\tvalid_0's l2: 1223.26\n",
      "[498]\tvalid_0's rmse: 34.9739\tvalid_0's l1: 25.8921\tvalid_0's l2: 1223.17\n",
      "[499]\tvalid_0's rmse: 34.97\tvalid_0's l1: 25.8892\tvalid_0's l2: 1222.9\n",
      "[500]\tvalid_0's rmse: 34.9674\tvalid_0's l1: 25.8881\tvalid_0's l2: 1222.72\n",
      "[501]\tvalid_0's rmse: 34.9623\tvalid_0's l1: 25.8867\tvalid_0's l2: 1222.36\n",
      "[502]\tvalid_0's rmse: 34.9584\tvalid_0's l1: 25.886\tvalid_0's l2: 1222.09\n"
     ]
    },
    {
     "name": "stdout",
     "output_type": "stream",
     "text": [
      "[503]\tvalid_0's rmse: 34.9593\tvalid_0's l1: 25.8887\tvalid_0's l2: 1222.15\n",
      "[504]\tvalid_0's rmse: 34.9532\tvalid_0's l1: 25.8854\tvalid_0's l2: 1221.73\n",
      "[505]\tvalid_0's rmse: 34.9515\tvalid_0's l1: 25.885\tvalid_0's l2: 1221.61\n",
      "[506]\tvalid_0's rmse: 34.9477\tvalid_0's l1: 25.8848\tvalid_0's l2: 1221.34\n",
      "[507]\tvalid_0's rmse: 34.9457\tvalid_0's l1: 25.8831\tvalid_0's l2: 1221.2\n",
      "[508]\tvalid_0's rmse: 34.9427\tvalid_0's l1: 25.8819\tvalid_0's l2: 1220.99\n",
      "[509]\tvalid_0's rmse: 34.9389\tvalid_0's l1: 25.8819\tvalid_0's l2: 1220.73\n",
      "[510]\tvalid_0's rmse: 34.9387\tvalid_0's l1: 25.8812\tvalid_0's l2: 1220.71\n",
      "[511]\tvalid_0's rmse: 34.9364\tvalid_0's l1: 25.8802\tvalid_0's l2: 1220.55\n",
      "[512]\tvalid_0's rmse: 34.9338\tvalid_0's l1: 25.8782\tvalid_0's l2: 1220.37\n",
      "[513]\tvalid_0's rmse: 34.9318\tvalid_0's l1: 25.8755\tvalid_0's l2: 1220.23\n",
      "[514]\tvalid_0's rmse: 34.9294\tvalid_0's l1: 25.8749\tvalid_0's l2: 1220.06\n",
      "[515]\tvalid_0's rmse: 34.9252\tvalid_0's l1: 25.8715\tvalid_0's l2: 1219.77\n",
      "[516]\tvalid_0's rmse: 34.9235\tvalid_0's l1: 25.8691\tvalid_0's l2: 1219.65\n",
      "[517]\tvalid_0's rmse: 34.9211\tvalid_0's l1: 25.868\tvalid_0's l2: 1219.48\n",
      "[518]\tvalid_0's rmse: 34.9188\tvalid_0's l1: 25.8674\tvalid_0's l2: 1219.32\n",
      "[519]\tvalid_0's rmse: 34.9168\tvalid_0's l1: 25.8665\tvalid_0's l2: 1219.18\n",
      "[520]\tvalid_0's rmse: 34.9129\tvalid_0's l1: 25.863\tvalid_0's l2: 1218.91\n",
      "[521]\tvalid_0's rmse: 34.9079\tvalid_0's l1: 25.8607\tvalid_0's l2: 1218.56\n",
      "[522]\tvalid_0's rmse: 34.9048\tvalid_0's l1: 25.8577\tvalid_0's l2: 1218.35\n",
      "[523]\tvalid_0's rmse: 34.8957\tvalid_0's l1: 25.8523\tvalid_0's l2: 1217.71\n",
      "[524]\tvalid_0's rmse: 34.8908\tvalid_0's l1: 25.8496\tvalid_0's l2: 1217.37\n",
      "[525]\tvalid_0's rmse: 34.8856\tvalid_0's l1: 25.8474\tvalid_0's l2: 1217\n",
      "[526]\tvalid_0's rmse: 34.8827\tvalid_0's l1: 25.8442\tvalid_0's l2: 1216.8\n",
      "[527]\tvalid_0's rmse: 34.8778\tvalid_0's l1: 25.8417\tvalid_0's l2: 1216.46\n",
      "[528]\tvalid_0's rmse: 34.8699\tvalid_0's l1: 25.8351\tvalid_0's l2: 1215.91\n",
      "[529]\tvalid_0's rmse: 34.8646\tvalid_0's l1: 25.8323\tvalid_0's l2: 1215.54\n",
      "[530]\tvalid_0's rmse: 34.8556\tvalid_0's l1: 25.8257\tvalid_0's l2: 1214.92\n",
      "[531]\tvalid_0's rmse: 34.8516\tvalid_0's l1: 25.823\tvalid_0's l2: 1214.64\n",
      "[532]\tvalid_0's rmse: 34.8486\tvalid_0's l1: 25.8206\tvalid_0's l2: 1214.42\n",
      "[533]\tvalid_0's rmse: 34.8458\tvalid_0's l1: 25.8173\tvalid_0's l2: 1214.23\n",
      "[534]\tvalid_0's rmse: 34.8372\tvalid_0's l1: 25.8104\tvalid_0's l2: 1213.63\n",
      "[535]\tvalid_0's rmse: 34.8334\tvalid_0's l1: 25.8057\tvalid_0's l2: 1213.36\n",
      "[536]\tvalid_0's rmse: 34.8267\tvalid_0's l1: 25.7998\tvalid_0's l2: 1212.9\n",
      "[537]\tvalid_0's rmse: 34.82\tvalid_0's l1: 25.7945\tvalid_0's l2: 1212.43\n",
      "[538]\tvalid_0's rmse: 34.8163\tvalid_0's l1: 25.7904\tvalid_0's l2: 1212.18\n",
      "[539]\tvalid_0's rmse: 34.8117\tvalid_0's l1: 25.7858\tvalid_0's l2: 1211.85\n",
      "[540]\tvalid_0's rmse: 34.8085\tvalid_0's l1: 25.7816\tvalid_0's l2: 1211.63\n",
      "[541]\tvalid_0's rmse: 34.7993\tvalid_0's l1: 25.775\tvalid_0's l2: 1210.99\n",
      "[542]\tvalid_0's rmse: 34.7962\tvalid_0's l1: 25.7716\tvalid_0's l2: 1210.77\n",
      "[543]\tvalid_0's rmse: 34.793\tvalid_0's l1: 25.7685\tvalid_0's l2: 1210.55\n",
      "[544]\tvalid_0's rmse: 34.7913\tvalid_0's l1: 25.7689\tvalid_0's l2: 1210.44\n",
      "[545]\tvalid_0's rmse: 34.7821\tvalid_0's l1: 25.7621\tvalid_0's l2: 1209.79\n",
      "[546]\tvalid_0's rmse: 34.7856\tvalid_0's l1: 25.7629\tvalid_0's l2: 1210.03\n",
      "[547]\tvalid_0's rmse: 34.7861\tvalid_0's l1: 25.7637\tvalid_0's l2: 1210.07\n",
      "[548]\tvalid_0's rmse: 34.7812\tvalid_0's l1: 25.7581\tvalid_0's l2: 1209.73\n",
      "[549]\tvalid_0's rmse: 34.7799\tvalid_0's l1: 25.7596\tvalid_0's l2: 1209.64\n",
      "[550]\tvalid_0's rmse: 34.7745\tvalid_0's l1: 25.7551\tvalid_0's l2: 1209.26\n",
      "[551]\tvalid_0's rmse: 34.7705\tvalid_0's l1: 25.7541\tvalid_0's l2: 1208.98\n",
      "[552]\tvalid_0's rmse: 34.7653\tvalid_0's l1: 25.751\tvalid_0's l2: 1208.62\n",
      "[553]\tvalid_0's rmse: 34.7595\tvalid_0's l1: 25.748\tvalid_0's l2: 1208.22\n",
      "[554]\tvalid_0's rmse: 34.7559\tvalid_0's l1: 25.7472\tvalid_0's l2: 1207.97\n",
      "[555]\tvalid_0's rmse: 34.7509\tvalid_0's l1: 25.746\tvalid_0's l2: 1207.63\n",
      "[556]\tvalid_0's rmse: 34.7471\tvalid_0's l1: 25.7451\tvalid_0's l2: 1207.36\n",
      "[557]\tvalid_0's rmse: 34.7415\tvalid_0's l1: 25.7421\tvalid_0's l2: 1206.97\n",
      "[558]\tvalid_0's rmse: 34.738\tvalid_0's l1: 25.7399\tvalid_0's l2: 1206.73\n",
      "[559]\tvalid_0's rmse: 34.7344\tvalid_0's l1: 25.7393\tvalid_0's l2: 1206.48\n",
      "[560]\tvalid_0's rmse: 34.731\tvalid_0's l1: 25.7374\tvalid_0's l2: 1206.24\n",
      "[561]\tvalid_0's rmse: 34.7301\tvalid_0's l1: 25.7365\tvalid_0's l2: 1206.18\n",
      "[562]\tvalid_0's rmse: 34.7264\tvalid_0's l1: 25.7329\tvalid_0's l2: 1205.92\n",
      "[563]\tvalid_0's rmse: 34.7211\tvalid_0's l1: 25.731\tvalid_0's l2: 1205.55\n",
      "[564]\tvalid_0's rmse: 34.72\tvalid_0's l1: 25.7295\tvalid_0's l2: 1205.48\n",
      "[565]\tvalid_0's rmse: 34.7127\tvalid_0's l1: 25.7245\tvalid_0's l2: 1204.97\n",
      "[566]\tvalid_0's rmse: 34.7118\tvalid_0's l1: 25.7237\tvalid_0's l2: 1204.91\n",
      "[567]\tvalid_0's rmse: 34.706\tvalid_0's l1: 25.7212\tvalid_0's l2: 1204.5\n",
      "[568]\tvalid_0's rmse: 34.7002\tvalid_0's l1: 25.7186\tvalid_0's l2: 1204.11\n",
      "[569]\tvalid_0's rmse: 34.6975\tvalid_0's l1: 25.718\tvalid_0's l2: 1203.92\n",
      "[570]\tvalid_0's rmse: 34.6915\tvalid_0's l1: 25.7149\tvalid_0's l2: 1203.5\n",
      "[571]\tvalid_0's rmse: 34.6888\tvalid_0's l1: 25.7145\tvalid_0's l2: 1203.32\n",
      "[572]\tvalid_0's rmse: 34.6851\tvalid_0's l1: 25.7129\tvalid_0's l2: 1203.06\n",
      "[573]\tvalid_0's rmse: 34.6817\tvalid_0's l1: 25.7103\tvalid_0's l2: 1202.82\n",
      "[574]\tvalid_0's rmse: 34.6786\tvalid_0's l1: 25.7084\tvalid_0's l2: 1202.61\n",
      "[575]\tvalid_0's rmse: 34.6746\tvalid_0's l1: 25.7064\tvalid_0's l2: 1202.33\n",
      "[576]\tvalid_0's rmse: 34.6709\tvalid_0's l1: 25.7033\tvalid_0's l2: 1202.07\n",
      "[577]\tvalid_0's rmse: 34.667\tvalid_0's l1: 25.7018\tvalid_0's l2: 1201.8\n",
      "[578]\tvalid_0's rmse: 34.6639\tvalid_0's l1: 25.701\tvalid_0's l2: 1201.59\n",
      "[579]\tvalid_0's rmse: 34.6641\tvalid_0's l1: 25.7\tvalid_0's l2: 1201.6\n",
      "[580]\tvalid_0's rmse: 34.6594\tvalid_0's l1: 25.6962\tvalid_0's l2: 1201.28\n",
      "[581]\tvalid_0's rmse: 34.6579\tvalid_0's l1: 25.6952\tvalid_0's l2: 1201.17\n",
      "[582]\tvalid_0's rmse: 34.657\tvalid_0's l1: 25.6946\tvalid_0's l2: 1201.11\n",
      "[583]\tvalid_0's rmse: 34.6525\tvalid_0's l1: 25.6903\tvalid_0's l2: 1200.8\n",
      "[584]\tvalid_0's rmse: 34.6502\tvalid_0's l1: 25.6909\tvalid_0's l2: 1200.64\n",
      "[585]\tvalid_0's rmse: 34.6508\tvalid_0's l1: 25.6892\tvalid_0's l2: 1200.68\n",
      "[586]\tvalid_0's rmse: 34.6498\tvalid_0's l1: 25.6866\tvalid_0's l2: 1200.61\n",
      "[587]\tvalid_0's rmse: 34.6482\tvalid_0's l1: 25.6855\tvalid_0's l2: 1200.5\n",
      "[588]\tvalid_0's rmse: 34.6493\tvalid_0's l1: 25.6846\tvalid_0's l2: 1200.58\n",
      "[589]\tvalid_0's rmse: 34.6487\tvalid_0's l1: 25.6825\tvalid_0's l2: 1200.53\n",
      "[590]\tvalid_0's rmse: 34.6465\tvalid_0's l1: 25.6831\tvalid_0's l2: 1200.38\n",
      "[591]\tvalid_0's rmse: 34.6463\tvalid_0's l1: 25.6813\tvalid_0's l2: 1200.37\n",
      "[592]\tvalid_0's rmse: 34.6467\tvalid_0's l1: 25.6805\tvalid_0's l2: 1200.39\n",
      "[593]\tvalid_0's rmse: 34.6466\tvalid_0's l1: 25.6782\tvalid_0's l2: 1200.38\n",
      "[594]\tvalid_0's rmse: 34.6483\tvalid_0's l1: 25.6796\tvalid_0's l2: 1200.5\n",
      "[595]\tvalid_0's rmse: 34.6479\tvalid_0's l1: 25.6789\tvalid_0's l2: 1200.48\n",
      "[596]\tvalid_0's rmse: 34.6457\tvalid_0's l1: 25.6769\tvalid_0's l2: 1200.32\n",
      "[597]\tvalid_0's rmse: 34.6471\tvalid_0's l1: 25.6762\tvalid_0's l2: 1200.42\n",
      "[598]\tvalid_0's rmse: 34.6483\tvalid_0's l1: 25.6783\tvalid_0's l2: 1200.51\n",
      "[599]\tvalid_0's rmse: 34.6466\tvalid_0's l1: 25.6771\tvalid_0's l2: 1200.38\n",
      "[600]\tvalid_0's rmse: 34.647\tvalid_0's l1: 25.675\tvalid_0's l2: 1200.42\n",
      "[601]\tvalid_0's rmse: 34.6491\tvalid_0's l1: 25.6749\tvalid_0's l2: 1200.56\n",
      "[602]\tvalid_0's rmse: 34.6496\tvalid_0's l1: 25.6726\tvalid_0's l2: 1200.6\n",
      "[603]\tvalid_0's rmse: 34.6506\tvalid_0's l1: 25.6701\tvalid_0's l2: 1200.67\n",
      "[604]\tvalid_0's rmse: 34.6507\tvalid_0's l1: 25.6672\tvalid_0's l2: 1200.67\n",
      "[605]\tvalid_0's rmse: 34.6476\tvalid_0's l1: 25.6665\tvalid_0's l2: 1200.45\n",
      "[606]\tvalid_0's rmse: 34.6486\tvalid_0's l1: 25.6653\tvalid_0's l2: 1200.53\n",
      "[607]\tvalid_0's rmse: 34.6489\tvalid_0's l1: 25.6627\tvalid_0's l2: 1200.55\n",
      "[608]\tvalid_0's rmse: 34.6464\tvalid_0's l1: 25.6584\tvalid_0's l2: 1200.37\n",
      "[609]\tvalid_0's rmse: 34.6467\tvalid_0's l1: 25.6564\tvalid_0's l2: 1200.4\n",
      "[610]\tvalid_0's rmse: 34.6437\tvalid_0's l1: 25.6558\tvalid_0's l2: 1200.19\n",
      "[611]\tvalid_0's rmse: 34.6356\tvalid_0's l1: 25.6542\tvalid_0's l2: 1199.62\n",
      "[612]\tvalid_0's rmse: 34.6289\tvalid_0's l1: 25.6524\tvalid_0's l2: 1199.16\n",
      "[613]\tvalid_0's rmse: 34.6209\tvalid_0's l1: 25.6509\tvalid_0's l2: 1198.61\n",
      "[614]\tvalid_0's rmse: 34.6185\tvalid_0's l1: 25.6492\tvalid_0's l2: 1198.44\n",
      "[615]\tvalid_0's rmse: 34.6149\tvalid_0's l1: 25.6503\tvalid_0's l2: 1198.19\n",
      "[616]\tvalid_0's rmse: 34.611\tvalid_0's l1: 25.6507\tvalid_0's l2: 1197.92\n",
      "[617]\tvalid_0's rmse: 34.6058\tvalid_0's l1: 25.6498\tvalid_0's l2: 1197.56\n",
      "[618]\tvalid_0's rmse: 34.603\tvalid_0's l1: 25.6486\tvalid_0's l2: 1197.37\n",
      "[619]\tvalid_0's rmse: 34.5988\tvalid_0's l1: 25.646\tvalid_0's l2: 1197.08\n",
      "[620]\tvalid_0's rmse: 34.5967\tvalid_0's l1: 25.6459\tvalid_0's l2: 1196.93\n",
      "[621]\tvalid_0's rmse: 34.5989\tvalid_0's l1: 25.6438\tvalid_0's l2: 1197.09\n",
      "[622]\tvalid_0's rmse: 34.5968\tvalid_0's l1: 25.6426\tvalid_0's l2: 1196.94\n",
      "[623]\tvalid_0's rmse: 34.5955\tvalid_0's l1: 25.6398\tvalid_0's l2: 1196.85\n",
      "[624]\tvalid_0's rmse: 34.5934\tvalid_0's l1: 25.6381\tvalid_0's l2: 1196.7\n",
      "[625]\tvalid_0's rmse: 34.591\tvalid_0's l1: 25.6342\tvalid_0's l2: 1196.54\n",
      "[626]\tvalid_0's rmse: 34.5928\tvalid_0's l1: 25.6334\tvalid_0's l2: 1196.66\n",
      "[627]\tvalid_0's rmse: 34.5906\tvalid_0's l1: 25.6315\tvalid_0's l2: 1196.51\n",
      "[628]\tvalid_0's rmse: 34.5894\tvalid_0's l1: 25.6288\tvalid_0's l2: 1196.43\n",
      "[629]\tvalid_0's rmse: 34.5916\tvalid_0's l1: 25.6276\tvalid_0's l2: 1196.58\n",
      "[630]\tvalid_0's rmse: 34.5896\tvalid_0's l1: 25.626\tvalid_0's l2: 1196.44\n",
      "[631]\tvalid_0's rmse: 34.5876\tvalid_0's l1: 25.6248\tvalid_0's l2: 1196.3\n",
      "[632]\tvalid_0's rmse: 34.5844\tvalid_0's l1: 25.6219\tvalid_0's l2: 1196.08\n",
      "[633]\tvalid_0's rmse: 34.5825\tvalid_0's l1: 25.6192\tvalid_0's l2: 1195.95\n",
      "[634]\tvalid_0's rmse: 34.5739\tvalid_0's l1: 25.6153\tvalid_0's l2: 1195.36\n",
      "[635]\tvalid_0's rmse: 34.5688\tvalid_0's l1: 25.6121\tvalid_0's l2: 1195\n",
      "[636]\tvalid_0's rmse: 34.5657\tvalid_0's l1: 25.6097\tvalid_0's l2: 1194.79\n",
      "[637]\tvalid_0's rmse: 34.563\tvalid_0's l1: 25.6065\tvalid_0's l2: 1194.6\n",
      "[638]\tvalid_0's rmse: 34.5609\tvalid_0's l1: 25.6044\tvalid_0's l2: 1194.46\n",
      "[639]\tvalid_0's rmse: 34.5525\tvalid_0's l1: 25.6005\tvalid_0's l2: 1193.87\n",
      "[640]\tvalid_0's rmse: 34.5507\tvalid_0's l1: 25.5982\tvalid_0's l2: 1193.75\n",
      "[641]\tvalid_0's rmse: 34.5527\tvalid_0's l1: 25.5984\tvalid_0's l2: 1193.89\n",
      "[642]\tvalid_0's rmse: 34.5544\tvalid_0's l1: 25.598\tvalid_0's l2: 1194.01\n",
      "[643]\tvalid_0's rmse: 34.5488\tvalid_0's l1: 25.5939\tvalid_0's l2: 1193.62\n",
      "[644]\tvalid_0's rmse: 34.55\tvalid_0's l1: 25.5933\tvalid_0's l2: 1193.7\n",
      "[645]\tvalid_0's rmse: 34.5486\tvalid_0's l1: 25.5907\tvalid_0's l2: 1193.61\n",
      "[646]\tvalid_0's rmse: 34.5481\tvalid_0's l1: 25.5876\tvalid_0's l2: 1193.57\n",
      "[647]\tvalid_0's rmse: 34.5445\tvalid_0's l1: 25.5855\tvalid_0's l2: 1193.32\n",
      "[648]\tvalid_0's rmse: 34.541\tvalid_0's l1: 25.5833\tvalid_0's l2: 1193.08\n",
      "[649]\tvalid_0's rmse: 34.5426\tvalid_0's l1: 25.5845\tvalid_0's l2: 1193.19\n",
      "[650]\tvalid_0's rmse: 34.5424\tvalid_0's l1: 25.5823\tvalid_0's l2: 1193.18\n",
      "[651]\tvalid_0's rmse: 34.5421\tvalid_0's l1: 25.5822\tvalid_0's l2: 1193.16\n",
      "[652]\tvalid_0's rmse: 34.5414\tvalid_0's l1: 25.582\tvalid_0's l2: 1193.11\n",
      "[653]\tvalid_0's rmse: 34.5407\tvalid_0's l1: 25.5809\tvalid_0's l2: 1193.06\n",
      "[654]\tvalid_0's rmse: 34.5399\tvalid_0's l1: 25.5796\tvalid_0's l2: 1193\n",
      "[655]\tvalid_0's rmse: 34.5393\tvalid_0's l1: 25.5795\tvalid_0's l2: 1192.96\n",
      "[656]\tvalid_0's rmse: 34.5381\tvalid_0's l1: 25.5781\tvalid_0's l2: 1192.88\n",
      "[657]\tvalid_0's rmse: 34.5376\tvalid_0's l1: 25.579\tvalid_0's l2: 1192.84\n",
      "[658]\tvalid_0's rmse: 34.5371\tvalid_0's l1: 25.5787\tvalid_0's l2: 1192.81\n",
      "[659]\tvalid_0's rmse: 34.5348\tvalid_0's l1: 25.577\tvalid_0's l2: 1192.66\n",
      "[660]\tvalid_0's rmse: 34.5343\tvalid_0's l1: 25.5771\tvalid_0's l2: 1192.61\n",
      "[661]\tvalid_0's rmse: 34.5319\tvalid_0's l1: 25.5763\tvalid_0's l2: 1192.45\n",
      "[662]\tvalid_0's rmse: 34.5324\tvalid_0's l1: 25.5767\tvalid_0's l2: 1192.48\n",
      "[663]\tvalid_0's rmse: 34.5294\tvalid_0's l1: 25.5752\tvalid_0's l2: 1192.28\n",
      "[664]\tvalid_0's rmse: 34.528\tvalid_0's l1: 25.5744\tvalid_0's l2: 1192.18\n",
      "[665]\tvalid_0's rmse: 34.5251\tvalid_0's l1: 25.5732\tvalid_0's l2: 1191.98\n",
      "[666]\tvalid_0's rmse: 34.5245\tvalid_0's l1: 25.5729\tvalid_0's l2: 1191.94\n",
      "[667]\tvalid_0's rmse: 34.524\tvalid_0's l1: 25.5732\tvalid_0's l2: 1191.91\n",
      "[668]\tvalid_0's rmse: 34.5247\tvalid_0's l1: 25.5741\tvalid_0's l2: 1191.96\n",
      "[669]\tvalid_0's rmse: 34.5243\tvalid_0's l1: 25.5743\tvalid_0's l2: 1191.93\n",
      "[670]\tvalid_0's rmse: 34.5238\tvalid_0's l1: 25.574\tvalid_0's l2: 1191.89\n",
      "[671]\tvalid_0's rmse: 34.5279\tvalid_0's l1: 25.5783\tvalid_0's l2: 1192.17\n",
      "[672]\tvalid_0's rmse: 34.5293\tvalid_0's l1: 25.5783\tvalid_0's l2: 1192.27\n",
      "[673]\tvalid_0's rmse: 34.5323\tvalid_0's l1: 25.5799\tvalid_0's l2: 1192.48\n",
      "[674]\tvalid_0's rmse: 34.5351\tvalid_0's l1: 25.5824\tvalid_0's l2: 1192.67\n",
      "[675]\tvalid_0's rmse: 34.5379\tvalid_0's l1: 25.5845\tvalid_0's l2: 1192.86\n",
      "[676]\tvalid_0's rmse: 34.5408\tvalid_0's l1: 25.5861\tvalid_0's l2: 1193.07\n",
      "[677]\tvalid_0's rmse: 34.5424\tvalid_0's l1: 25.5859\tvalid_0's l2: 1193.18\n",
      "[678]\tvalid_0's rmse: 34.5444\tvalid_0's l1: 25.5865\tvalid_0's l2: 1193.32\n",
      "[679]\tvalid_0's rmse: 34.5417\tvalid_0's l1: 25.5838\tvalid_0's l2: 1193.13\n",
      "[680]\tvalid_0's rmse: 34.5423\tvalid_0's l1: 25.5844\tvalid_0's l2: 1193.17\n",
      "[681]\tvalid_0's rmse: 34.5416\tvalid_0's l1: 25.583\tvalid_0's l2: 1193.12\n",
      "[682]\tvalid_0's rmse: 34.5411\tvalid_0's l1: 25.5796\tvalid_0's l2: 1193.09\n",
      "[683]\tvalid_0's rmse: 34.5407\tvalid_0's l1: 25.5763\tvalid_0's l2: 1193.06\n",
      "[684]\tvalid_0's rmse: 34.5394\tvalid_0's l1: 25.5745\tvalid_0's l2: 1192.97\n"
     ]
    },
    {
     "name": "stdout",
     "output_type": "stream",
     "text": [
      "[685]\tvalid_0's rmse: 34.5368\tvalid_0's l1: 25.5712\tvalid_0's l2: 1192.79\n",
      "[686]\tvalid_0's rmse: 34.5338\tvalid_0's l1: 25.5681\tvalid_0's l2: 1192.59\n",
      "[687]\tvalid_0's rmse: 34.5352\tvalid_0's l1: 25.5665\tvalid_0's l2: 1192.68\n",
      "[688]\tvalid_0's rmse: 34.5326\tvalid_0's l1: 25.5633\tvalid_0's l2: 1192.5\n",
      "[689]\tvalid_0's rmse: 34.5327\tvalid_0's l1: 25.562\tvalid_0's l2: 1192.51\n",
      "[690]\tvalid_0's rmse: 34.5295\tvalid_0's l1: 25.5591\tvalid_0's l2: 1192.29\n",
      "[691]\tvalid_0's rmse: 34.5304\tvalid_0's l1: 25.5584\tvalid_0's l2: 1192.35\n",
      "[692]\tvalid_0's rmse: 34.5319\tvalid_0's l1: 25.5584\tvalid_0's l2: 1192.45\n",
      "[693]\tvalid_0's rmse: 34.5302\tvalid_0's l1: 25.556\tvalid_0's l2: 1192.33\n",
      "[694]\tvalid_0's rmse: 34.5295\tvalid_0's l1: 25.5529\tvalid_0's l2: 1192.29\n",
      "[695]\tvalid_0's rmse: 34.5274\tvalid_0's l1: 25.5513\tvalid_0's l2: 1192.14\n",
      "[696]\tvalid_0's rmse: 34.5266\tvalid_0's l1: 25.5504\tvalid_0's l2: 1192.09\n",
      "[697]\tvalid_0's rmse: 34.5256\tvalid_0's l1: 25.548\tvalid_0's l2: 1192.02\n",
      "[698]\tvalid_0's rmse: 34.5209\tvalid_0's l1: 25.544\tvalid_0's l2: 1191.69\n",
      "[699]\tvalid_0's rmse: 34.5204\tvalid_0's l1: 25.5409\tvalid_0's l2: 1191.66\n",
      "[700]\tvalid_0's rmse: 34.5157\tvalid_0's l1: 25.537\tvalid_0's l2: 1191.33\n",
      "[701]\tvalid_0's rmse: 34.5105\tvalid_0's l1: 25.5333\tvalid_0's l2: 1190.97\n",
      "[702]\tvalid_0's rmse: 34.5074\tvalid_0's l1: 25.5319\tvalid_0's l2: 1190.76\n",
      "[703]\tvalid_0's rmse: 34.503\tvalid_0's l1: 25.5303\tvalid_0's l2: 1190.46\n",
      "[704]\tvalid_0's rmse: 34.5004\tvalid_0's l1: 25.5293\tvalid_0's l2: 1190.28\n",
      "[705]\tvalid_0's rmse: 34.4945\tvalid_0's l1: 25.5274\tvalid_0's l2: 1189.87\n",
      "[706]\tvalid_0's rmse: 34.4929\tvalid_0's l1: 25.5268\tvalid_0's l2: 1189.76\n",
      "[707]\tvalid_0's rmse: 34.4871\tvalid_0's l1: 25.5241\tvalid_0's l2: 1189.36\n",
      "[708]\tvalid_0's rmse: 34.4803\tvalid_0's l1: 25.5202\tvalid_0's l2: 1188.89\n",
      "[709]\tvalid_0's rmse: 34.4761\tvalid_0's l1: 25.519\tvalid_0's l2: 1188.6\n",
      "[710]\tvalid_0's rmse: 34.4745\tvalid_0's l1: 25.5166\tvalid_0's l2: 1188.49\n",
      "[711]\tvalid_0's rmse: 34.4736\tvalid_0's l1: 25.5159\tvalid_0's l2: 1188.43\n",
      "[712]\tvalid_0's rmse: 34.4746\tvalid_0's l1: 25.5169\tvalid_0's l2: 1188.5\n",
      "[713]\tvalid_0's rmse: 34.4706\tvalid_0's l1: 25.5137\tvalid_0's l2: 1188.23\n",
      "[714]\tvalid_0's rmse: 34.4695\tvalid_0's l1: 25.5125\tvalid_0's l2: 1188.15\n",
      "[715]\tvalid_0's rmse: 34.4657\tvalid_0's l1: 25.5089\tvalid_0's l2: 1187.88\n",
      "[716]\tvalid_0's rmse: 34.4643\tvalid_0's l1: 25.5071\tvalid_0's l2: 1187.79\n",
      "[717]\tvalid_0's rmse: 34.4614\tvalid_0's l1: 25.5045\tvalid_0's l2: 1187.59\n",
      "[718]\tvalid_0's rmse: 34.458\tvalid_0's l1: 25.5028\tvalid_0's l2: 1187.35\n",
      "[719]\tvalid_0's rmse: 34.4556\tvalid_0's l1: 25.5008\tvalid_0's l2: 1187.19\n",
      "[720]\tvalid_0's rmse: 34.4543\tvalid_0's l1: 25.5004\tvalid_0's l2: 1187.1\n",
      "[721]\tvalid_0's rmse: 34.45\tvalid_0's l1: 25.496\tvalid_0's l2: 1186.8\n",
      "[722]\tvalid_0's rmse: 34.45\tvalid_0's l1: 25.4972\tvalid_0's l2: 1186.8\n",
      "[723]\tvalid_0's rmse: 34.4456\tvalid_0's l1: 25.4934\tvalid_0's l2: 1186.5\n",
      "[724]\tvalid_0's rmse: 34.4421\tvalid_0's l1: 25.4898\tvalid_0's l2: 1186.26\n",
      "[725]\tvalid_0's rmse: 34.4374\tvalid_0's l1: 25.485\tvalid_0's l2: 1185.93\n",
      "[726]\tvalid_0's rmse: 34.433\tvalid_0's l1: 25.4821\tvalid_0's l2: 1185.63\n",
      "[727]\tvalid_0's rmse: 34.4335\tvalid_0's l1: 25.48\tvalid_0's l2: 1185.67\n",
      "[728]\tvalid_0's rmse: 34.4297\tvalid_0's l1: 25.4774\tvalid_0's l2: 1185.41\n",
      "[729]\tvalid_0's rmse: 34.4304\tvalid_0's l1: 25.4763\tvalid_0's l2: 1185.45\n",
      "[730]\tvalid_0's rmse: 34.4256\tvalid_0's l1: 25.4722\tvalid_0's l2: 1185.12\n",
      "[731]\tvalid_0's rmse: 34.4234\tvalid_0's l1: 25.4706\tvalid_0's l2: 1184.97\n",
      "[732]\tvalid_0's rmse: 34.4248\tvalid_0's l1: 25.4697\tvalid_0's l2: 1185.06\n",
      "[733]\tvalid_0's rmse: 34.4248\tvalid_0's l1: 25.468\tvalid_0's l2: 1185.06\n",
      "[734]\tvalid_0's rmse: 34.4217\tvalid_0's l1: 25.4656\tvalid_0's l2: 1184.86\n",
      "[735]\tvalid_0's rmse: 34.4207\tvalid_0's l1: 25.4639\tvalid_0's l2: 1184.78\n",
      "[736]\tvalid_0's rmse: 34.4196\tvalid_0's l1: 25.4625\tvalid_0's l2: 1184.71\n",
      "[737]\tvalid_0's rmse: 34.4175\tvalid_0's l1: 25.4609\tvalid_0's l2: 1184.56\n",
      "[738]\tvalid_0's rmse: 34.4172\tvalid_0's l1: 25.4605\tvalid_0's l2: 1184.55\n",
      "[739]\tvalid_0's rmse: 34.4152\tvalid_0's l1: 25.4589\tvalid_0's l2: 1184.41\n",
      "[740]\tvalid_0's rmse: 34.412\tvalid_0's l1: 25.4561\tvalid_0's l2: 1184.19\n",
      "[741]\tvalid_0's rmse: 34.4088\tvalid_0's l1: 25.4507\tvalid_0's l2: 1183.96\n",
      "[742]\tvalid_0's rmse: 34.4067\tvalid_0's l1: 25.4466\tvalid_0's l2: 1183.82\n",
      "[743]\tvalid_0's rmse: 34.4045\tvalid_0's l1: 25.4428\tvalid_0's l2: 1183.67\n",
      "[744]\tvalid_0's rmse: 34.3984\tvalid_0's l1: 25.4389\tvalid_0's l2: 1183.25\n",
      "[745]\tvalid_0's rmse: 34.4005\tvalid_0's l1: 25.4382\tvalid_0's l2: 1183.4\n",
      "[746]\tvalid_0's rmse: 34.3945\tvalid_0's l1: 25.4344\tvalid_0's l2: 1182.98\n",
      "[747]\tvalid_0's rmse: 34.3917\tvalid_0's l1: 25.4317\tvalid_0's l2: 1182.79\n",
      "[748]\tvalid_0's rmse: 34.3897\tvalid_0's l1: 25.428\tvalid_0's l2: 1182.65\n",
      "[749]\tvalid_0's rmse: 34.3877\tvalid_0's l1: 25.4244\tvalid_0's l2: 1182.51\n",
      "[750]\tvalid_0's rmse: 34.3888\tvalid_0's l1: 25.4249\tvalid_0's l2: 1182.59\n",
      "[751]\tvalid_0's rmse: 34.3867\tvalid_0's l1: 25.4237\tvalid_0's l2: 1182.45\n",
      "[752]\tvalid_0's rmse: 34.3847\tvalid_0's l1: 25.4224\tvalid_0's l2: 1182.31\n",
      "[753]\tvalid_0's rmse: 34.3832\tvalid_0's l1: 25.4221\tvalid_0's l2: 1182.21\n",
      "[754]\tvalid_0's rmse: 34.3833\tvalid_0's l1: 25.4228\tvalid_0's l2: 1182.21\n",
      "[755]\tvalid_0's rmse: 34.3817\tvalid_0's l1: 25.4216\tvalid_0's l2: 1182.1\n",
      "[756]\tvalid_0's rmse: 34.381\tvalid_0's l1: 25.4207\tvalid_0's l2: 1182.05\n",
      "[757]\tvalid_0's rmse: 34.3788\tvalid_0's l1: 25.4171\tvalid_0's l2: 1181.9\n",
      "[758]\tvalid_0's rmse: 34.3783\tvalid_0's l1: 25.4159\tvalid_0's l2: 1181.87\n",
      "[759]\tvalid_0's rmse: 34.379\tvalid_0's l1: 25.4168\tvalid_0's l2: 1181.92\n",
      "[760]\tvalid_0's rmse: 34.3773\tvalid_0's l1: 25.4153\tvalid_0's l2: 1181.8\n",
      "[761]\tvalid_0's rmse: 34.3749\tvalid_0's l1: 25.4156\tvalid_0's l2: 1181.63\n",
      "[762]\tvalid_0's rmse: 34.3719\tvalid_0's l1: 25.4157\tvalid_0's l2: 1181.43\n",
      "[763]\tvalid_0's rmse: 34.3719\tvalid_0's l1: 25.4161\tvalid_0's l2: 1181.43\n",
      "[764]\tvalid_0's rmse: 34.3698\tvalid_0's l1: 25.4164\tvalid_0's l2: 1181.28\n",
      "[765]\tvalid_0's rmse: 34.3665\tvalid_0's l1: 25.416\tvalid_0's l2: 1181.05\n",
      "[766]\tvalid_0's rmse: 34.3597\tvalid_0's l1: 25.4122\tvalid_0's l2: 1180.59\n",
      "[767]\tvalid_0's rmse: 34.3565\tvalid_0's l1: 25.4118\tvalid_0's l2: 1180.37\n",
      "[768]\tvalid_0's rmse: 34.3544\tvalid_0's l1: 25.4121\tvalid_0's l2: 1180.23\n",
      "[769]\tvalid_0's rmse: 34.352\tvalid_0's l1: 25.4116\tvalid_0's l2: 1180.06\n",
      "[770]\tvalid_0's rmse: 34.3501\tvalid_0's l1: 25.4104\tvalid_0's l2: 1179.93\n",
      "[771]\tvalid_0's rmse: 34.3458\tvalid_0's l1: 25.4058\tvalid_0's l2: 1179.63\n",
      "[772]\tvalid_0's rmse: 34.3434\tvalid_0's l1: 25.4061\tvalid_0's l2: 1179.47\n",
      "[773]\tvalid_0's rmse: 34.3391\tvalid_0's l1: 25.4027\tvalid_0's l2: 1179.17\n",
      "[774]\tvalid_0's rmse: 34.3385\tvalid_0's l1: 25.4039\tvalid_0's l2: 1179.13\n",
      "[775]\tvalid_0's rmse: 34.3377\tvalid_0's l1: 25.4045\tvalid_0's l2: 1179.08\n",
      "[776]\tvalid_0's rmse: 34.3341\tvalid_0's l1: 25.4022\tvalid_0's l2: 1178.83\n",
      "[777]\tvalid_0's rmse: 34.3316\tvalid_0's l1: 25.4013\tvalid_0's l2: 1178.66\n",
      "[778]\tvalid_0's rmse: 34.3297\tvalid_0's l1: 25.401\tvalid_0's l2: 1178.53\n",
      "[779]\tvalid_0's rmse: 34.3275\tvalid_0's l1: 25.4008\tvalid_0's l2: 1178.38\n",
      "[780]\tvalid_0's rmse: 34.3273\tvalid_0's l1: 25.4017\tvalid_0's l2: 1178.36\n",
      "[781]\tvalid_0's rmse: 34.3246\tvalid_0's l1: 25.3988\tvalid_0's l2: 1178.18\n",
      "[782]\tvalid_0's rmse: 34.3222\tvalid_0's l1: 25.3969\tvalid_0's l2: 1178.01\n",
      "[783]\tvalid_0's rmse: 34.3187\tvalid_0's l1: 25.3929\tvalid_0's l2: 1177.77\n",
      "[784]\tvalid_0's rmse: 34.3154\tvalid_0's l1: 25.3891\tvalid_0's l2: 1177.55\n",
      "[785]\tvalid_0's rmse: 34.3117\tvalid_0's l1: 25.3856\tvalid_0's l2: 1177.29\n",
      "[786]\tvalid_0's rmse: 34.3086\tvalid_0's l1: 25.3823\tvalid_0's l2: 1177.08\n",
      "[787]\tvalid_0's rmse: 34.3064\tvalid_0's l1: 25.3788\tvalid_0's l2: 1176.93\n",
      "[788]\tvalid_0's rmse: 34.3041\tvalid_0's l1: 25.375\tvalid_0's l2: 1176.77\n",
      "[789]\tvalid_0's rmse: 34.3022\tvalid_0's l1: 25.3729\tvalid_0's l2: 1176.64\n",
      "[790]\tvalid_0's rmse: 34.2987\tvalid_0's l1: 25.3683\tvalid_0's l2: 1176.4\n",
      "[791]\tvalid_0's rmse: 34.2959\tvalid_0's l1: 25.3693\tvalid_0's l2: 1176.21\n",
      "[792]\tvalid_0's rmse: 34.2916\tvalid_0's l1: 25.3663\tvalid_0's l2: 1175.91\n",
      "[793]\tvalid_0's rmse: 34.2934\tvalid_0's l1: 25.3681\tvalid_0's l2: 1176.03\n",
      "[794]\tvalid_0's rmse: 34.2954\tvalid_0's l1: 25.3701\tvalid_0's l2: 1176.17\n",
      "[795]\tvalid_0's rmse: 34.2938\tvalid_0's l1: 25.3712\tvalid_0's l2: 1176.06\n",
      "[796]\tvalid_0's rmse: 34.2938\tvalid_0's l1: 25.3697\tvalid_0's l2: 1176.07\n",
      "[797]\tvalid_0's rmse: 34.2904\tvalid_0's l1: 25.37\tvalid_0's l2: 1175.83\n",
      "[798]\tvalid_0's rmse: 34.2892\tvalid_0's l1: 25.3669\tvalid_0's l2: 1175.75\n",
      "[799]\tvalid_0's rmse: 34.2842\tvalid_0's l1: 25.3631\tvalid_0's l2: 1175.4\n",
      "[800]\tvalid_0's rmse: 34.2807\tvalid_0's l1: 25.3599\tvalid_0's l2: 1175.16\n",
      "[801]\tvalid_0's rmse: 34.274\tvalid_0's l1: 25.3556\tvalid_0's l2: 1174.71\n",
      "[802]\tvalid_0's rmse: 34.2713\tvalid_0's l1: 25.3531\tvalid_0's l2: 1174.52\n",
      "[803]\tvalid_0's rmse: 34.2662\tvalid_0's l1: 25.3503\tvalid_0's l2: 1174.17\n",
      "[804]\tvalid_0's rmse: 34.2632\tvalid_0's l1: 25.3486\tvalid_0's l2: 1173.97\n",
      "[805]\tvalid_0's rmse: 34.2587\tvalid_0's l1: 25.3467\tvalid_0's l2: 1173.66\n",
      "[806]\tvalid_0's rmse: 34.2533\tvalid_0's l1: 25.3445\tvalid_0's l2: 1173.29\n",
      "[807]\tvalid_0's rmse: 34.2502\tvalid_0's l1: 25.3412\tvalid_0's l2: 1173.07\n",
      "[808]\tvalid_0's rmse: 34.2469\tvalid_0's l1: 25.3395\tvalid_0's l2: 1172.85\n",
      "[809]\tvalid_0's rmse: 34.2423\tvalid_0's l1: 25.337\tvalid_0's l2: 1172.53\n",
      "[810]\tvalid_0's rmse: 34.2414\tvalid_0's l1: 25.3376\tvalid_0's l2: 1172.48\n",
      "[811]\tvalid_0's rmse: 34.2423\tvalid_0's l1: 25.3378\tvalid_0's l2: 1172.54\n",
      "[812]\tvalid_0's rmse: 34.2425\tvalid_0's l1: 25.3396\tvalid_0's l2: 1172.55\n",
      "[813]\tvalid_0's rmse: 34.2372\tvalid_0's l1: 25.3377\tvalid_0's l2: 1172.19\n",
      "[814]\tvalid_0's rmse: 34.2316\tvalid_0's l1: 25.334\tvalid_0's l2: 1171.81\n",
      "[815]\tvalid_0's rmse: 34.2278\tvalid_0's l1: 25.3325\tvalid_0's l2: 1171.54\n",
      "[816]\tvalid_0's rmse: 34.2232\tvalid_0's l1: 25.331\tvalid_0's l2: 1171.23\n",
      "[817]\tvalid_0's rmse: 34.2183\tvalid_0's l1: 25.3299\tvalid_0's l2: 1170.89\n",
      "[818]\tvalid_0's rmse: 34.2129\tvalid_0's l1: 25.3263\tvalid_0's l2: 1170.52\n",
      "[819]\tvalid_0's rmse: 34.2078\tvalid_0's l1: 25.323\tvalid_0's l2: 1170.18\n",
      "[820]\tvalid_0's rmse: 34.2062\tvalid_0's l1: 25.322\tvalid_0's l2: 1170.07\n",
      "[821]\tvalid_0's rmse: 34.2018\tvalid_0's l1: 25.3178\tvalid_0's l2: 1169.77\n",
      "[822]\tvalid_0's rmse: 34.1988\tvalid_0's l1: 25.314\tvalid_0's l2: 1169.56\n",
      "[823]\tvalid_0's rmse: 34.1957\tvalid_0's l1: 25.3102\tvalid_0's l2: 1169.35\n",
      "[824]\tvalid_0's rmse: 34.1948\tvalid_0's l1: 25.3074\tvalid_0's l2: 1169.29\n",
      "[825]\tvalid_0's rmse: 34.1943\tvalid_0's l1: 25.305\tvalid_0's l2: 1169.25\n",
      "[826]\tvalid_0's rmse: 34.192\tvalid_0's l1: 25.3007\tvalid_0's l2: 1169.09\n",
      "[827]\tvalid_0's rmse: 34.1912\tvalid_0's l1: 25.2979\tvalid_0's l2: 1169.04\n",
      "[828]\tvalid_0's rmse: 34.1881\tvalid_0's l1: 25.2946\tvalid_0's l2: 1168.83\n",
      "[829]\tvalid_0's rmse: 34.185\tvalid_0's l1: 25.2909\tvalid_0's l2: 1168.61\n",
      "[830]\tvalid_0's rmse: 34.1838\tvalid_0's l1: 25.2886\tvalid_0's l2: 1168.53\n",
      "[831]\tvalid_0's rmse: 34.1854\tvalid_0's l1: 25.289\tvalid_0's l2: 1168.64\n",
      "[832]\tvalid_0's rmse: 34.187\tvalid_0's l1: 25.2894\tvalid_0's l2: 1168.75\n",
      "[833]\tvalid_0's rmse: 34.1899\tvalid_0's l1: 25.2903\tvalid_0's l2: 1168.95\n",
      "[834]\tvalid_0's rmse: 34.1895\tvalid_0's l1: 25.2885\tvalid_0's l2: 1168.92\n",
      "[835]\tvalid_0's rmse: 34.1915\tvalid_0's l1: 25.2885\tvalid_0's l2: 1169.06\n",
      "[836]\tvalid_0's rmse: 34.1957\tvalid_0's l1: 25.2882\tvalid_0's l2: 1169.34\n",
      "[837]\tvalid_0's rmse: 34.196\tvalid_0's l1: 25.2895\tvalid_0's l2: 1169.37\n",
      "[838]\tvalid_0's rmse: 34.1986\tvalid_0's l1: 25.2914\tvalid_0's l2: 1169.55\n",
      "[839]\tvalid_0's rmse: 34.2002\tvalid_0's l1: 25.2916\tvalid_0's l2: 1169.66\n",
      "[840]\tvalid_0's rmse: 34.2026\tvalid_0's l1: 25.2917\tvalid_0's l2: 1169.81\n",
      "[841]\tvalid_0's rmse: 34.2025\tvalid_0's l1: 25.2899\tvalid_0's l2: 1169.81\n",
      "[842]\tvalid_0's rmse: 34.2014\tvalid_0's l1: 25.2881\tvalid_0's l2: 1169.73\n",
      "[843]\tvalid_0's rmse: 34.2034\tvalid_0's l1: 25.2893\tvalid_0's l2: 1169.87\n",
      "[844]\tvalid_0's rmse: 34.2013\tvalid_0's l1: 25.2864\tvalid_0's l2: 1169.73\n",
      "[845]\tvalid_0's rmse: 34.2005\tvalid_0's l1: 25.2847\tvalid_0's l2: 1169.67\n",
      "[846]\tvalid_0's rmse: 34.1997\tvalid_0's l1: 25.2835\tvalid_0's l2: 1169.62\n",
      "[847]\tvalid_0's rmse: 34.1981\tvalid_0's l1: 25.2821\tvalid_0's l2: 1169.51\n",
      "[848]\tvalid_0's rmse: 34.1959\tvalid_0's l1: 25.2797\tvalid_0's l2: 1169.36\n",
      "[849]\tvalid_0's rmse: 34.1927\tvalid_0's l1: 25.2768\tvalid_0's l2: 1169.14\n",
      "[850]\tvalid_0's rmse: 34.1907\tvalid_0's l1: 25.275\tvalid_0's l2: 1169\n",
      "[851]\tvalid_0's rmse: 34.1869\tvalid_0's l1: 25.2719\tvalid_0's l2: 1168.74\n",
      "[852]\tvalid_0's rmse: 34.1826\tvalid_0's l1: 25.2694\tvalid_0's l2: 1168.45\n",
      "[853]\tvalid_0's rmse: 34.1788\tvalid_0's l1: 25.267\tvalid_0's l2: 1168.19\n",
      "[854]\tvalid_0's rmse: 34.1748\tvalid_0's l1: 25.2644\tvalid_0's l2: 1167.91\n"
     ]
    },
    {
     "name": "stdout",
     "output_type": "stream",
     "text": [
      "[855]\tvalid_0's rmse: 34.1695\tvalid_0's l1: 25.2615\tvalid_0's l2: 1167.55\n",
      "[856]\tvalid_0's rmse: 34.1642\tvalid_0's l1: 25.2592\tvalid_0's l2: 1167.19\n",
      "[857]\tvalid_0's rmse: 34.159\tvalid_0's l1: 25.2563\tvalid_0's l2: 1166.84\n",
      "[858]\tvalid_0's rmse: 34.1563\tvalid_0's l1: 25.2552\tvalid_0's l2: 1166.66\n",
      "[859]\tvalid_0's rmse: 34.1519\tvalid_0's l1: 25.2531\tvalid_0's l2: 1166.35\n",
      "[860]\tvalid_0's rmse: 34.1478\tvalid_0's l1: 25.2505\tvalid_0's l2: 1166.08\n",
      "[861]\tvalid_0's rmse: 34.1483\tvalid_0's l1: 25.2508\tvalid_0's l2: 1166.11\n",
      "[862]\tvalid_0's rmse: 34.1484\tvalid_0's l1: 25.2493\tvalid_0's l2: 1166.11\n",
      "[863]\tvalid_0's rmse: 34.1504\tvalid_0's l1: 25.2498\tvalid_0's l2: 1166.25\n",
      "[864]\tvalid_0's rmse: 34.152\tvalid_0's l1: 25.2493\tvalid_0's l2: 1166.36\n",
      "[865]\tvalid_0's rmse: 34.1543\tvalid_0's l1: 25.2502\tvalid_0's l2: 1166.52\n",
      "[866]\tvalid_0's rmse: 34.1563\tvalid_0's l1: 25.2493\tvalid_0's l2: 1166.65\n",
      "[867]\tvalid_0's rmse: 34.1579\tvalid_0's l1: 25.2488\tvalid_0's l2: 1166.76\n",
      "[868]\tvalid_0's rmse: 34.1607\tvalid_0's l1: 25.2491\tvalid_0's l2: 1166.95\n",
      "[869]\tvalid_0's rmse: 34.1609\tvalid_0's l1: 25.2502\tvalid_0's l2: 1166.97\n",
      "[870]\tvalid_0's rmse: 34.1612\tvalid_0's l1: 25.2481\tvalid_0's l2: 1166.99\n",
      "[871]\tvalid_0's rmse: 34.1601\tvalid_0's l1: 25.2461\tvalid_0's l2: 1166.91\n",
      "[872]\tvalid_0's rmse: 34.1586\tvalid_0's l1: 25.2431\tvalid_0's l2: 1166.81\n",
      "[873]\tvalid_0's rmse: 34.1573\tvalid_0's l1: 25.2411\tvalid_0's l2: 1166.72\n",
      "[874]\tvalid_0's rmse: 34.1547\tvalid_0's l1: 25.238\tvalid_0's l2: 1166.54\n",
      "[875]\tvalid_0's rmse: 34.1521\tvalid_0's l1: 25.235\tvalid_0's l2: 1166.36\n",
      "[876]\tvalid_0's rmse: 34.1511\tvalid_0's l1: 25.2324\tvalid_0's l2: 1166.3\n",
      "[877]\tvalid_0's rmse: 34.1493\tvalid_0's l1: 25.2301\tvalid_0's l2: 1166.18\n",
      "[878]\tvalid_0's rmse: 34.1477\tvalid_0's l1: 25.2281\tvalid_0's l2: 1166.06\n",
      "[879]\tvalid_0's rmse: 34.1461\tvalid_0's l1: 25.2255\tvalid_0's l2: 1165.96\n",
      "[880]\tvalid_0's rmse: 34.1444\tvalid_0's l1: 25.2226\tvalid_0's l2: 1165.84\n",
      "[881]\tvalid_0's rmse: 34.1439\tvalid_0's l1: 25.2228\tvalid_0's l2: 1165.81\n",
      "[882]\tvalid_0's rmse: 34.1399\tvalid_0's l1: 25.2211\tvalid_0's l2: 1165.53\n",
      "[883]\tvalid_0's rmse: 34.1392\tvalid_0's l1: 25.2213\tvalid_0's l2: 1165.49\n",
      "[884]\tvalid_0's rmse: 34.1353\tvalid_0's l1: 25.2198\tvalid_0's l2: 1165.22\n",
      "[885]\tvalid_0's rmse: 34.1352\tvalid_0's l1: 25.2206\tvalid_0's l2: 1165.21\n",
      "[886]\tvalid_0's rmse: 34.1362\tvalid_0's l1: 25.2217\tvalid_0's l2: 1165.28\n",
      "[887]\tvalid_0's rmse: 34.1331\tvalid_0's l1: 25.2212\tvalid_0's l2: 1165.07\n",
      "[888]\tvalid_0's rmse: 34.13\tvalid_0's l1: 25.2201\tvalid_0's l2: 1164.86\n",
      "[889]\tvalid_0's rmse: 34.1273\tvalid_0's l1: 25.22\tvalid_0's l2: 1164.67\n",
      "[890]\tvalid_0's rmse: 34.1253\tvalid_0's l1: 25.2197\tvalid_0's l2: 1164.54\n",
      "[891]\tvalid_0's rmse: 34.1233\tvalid_0's l1: 25.2181\tvalid_0's l2: 1164.4\n",
      "[892]\tvalid_0's rmse: 34.1212\tvalid_0's l1: 25.2165\tvalid_0's l2: 1164.26\n",
      "[893]\tvalid_0's rmse: 34.1196\tvalid_0's l1: 25.214\tvalid_0's l2: 1164.15\n",
      "[894]\tvalid_0's rmse: 34.1167\tvalid_0's l1: 25.2116\tvalid_0's l2: 1163.95\n",
      "[895]\tvalid_0's rmse: 34.1175\tvalid_0's l1: 25.2108\tvalid_0's l2: 1164.01\n",
      "[896]\tvalid_0's rmse: 34.1147\tvalid_0's l1: 25.2085\tvalid_0's l2: 1163.82\n",
      "[897]\tvalid_0's rmse: 34.1128\tvalid_0's l1: 25.2075\tvalid_0's l2: 1163.68\n",
      "[898]\tvalid_0's rmse: 34.1121\tvalid_0's l1: 25.2066\tvalid_0's l2: 1163.63\n",
      "[899]\tvalid_0's rmse: 34.115\tvalid_0's l1: 25.2067\tvalid_0's l2: 1163.83\n",
      "[900]\tvalid_0's rmse: 34.112\tvalid_0's l1: 25.205\tvalid_0's l2: 1163.63\n",
      "[901]\tvalid_0's rmse: 34.1116\tvalid_0's l1: 25.2041\tvalid_0's l2: 1163.6\n",
      "[902]\tvalid_0's rmse: 34.1134\tvalid_0's l1: 25.2042\tvalid_0's l2: 1163.73\n",
      "[903]\tvalid_0's rmse: 34.1125\tvalid_0's l1: 25.2034\tvalid_0's l2: 1163.66\n",
      "[904]\tvalid_0's rmse: 34.11\tvalid_0's l1: 25.2006\tvalid_0's l2: 1163.49\n",
      "[905]\tvalid_0's rmse: 34.1118\tvalid_0's l1: 25.2018\tvalid_0's l2: 1163.62\n",
      "[906]\tvalid_0's rmse: 34.111\tvalid_0's l1: 25.2004\tvalid_0's l2: 1163.56\n",
      "[907]\tvalid_0's rmse: 34.1088\tvalid_0's l1: 25.198\tvalid_0's l2: 1163.41\n",
      "[908]\tvalid_0's rmse: 34.1082\tvalid_0's l1: 25.1944\tvalid_0's l2: 1163.37\n",
      "[909]\tvalid_0's rmse: 34.1071\tvalid_0's l1: 25.1947\tvalid_0's l2: 1163.3\n",
      "[910]\tvalid_0's rmse: 34.106\tvalid_0's l1: 25.1933\tvalid_0's l2: 1163.22\n",
      "[911]\tvalid_0's rmse: 34.1065\tvalid_0's l1: 25.1929\tvalid_0's l2: 1163.25\n",
      "[912]\tvalid_0's rmse: 34.1089\tvalid_0's l1: 25.1922\tvalid_0's l2: 1163.42\n",
      "[913]\tvalid_0's rmse: 34.1073\tvalid_0's l1: 25.1923\tvalid_0's l2: 1163.31\n",
      "[914]\tvalid_0's rmse: 34.1083\tvalid_0's l1: 25.1926\tvalid_0's l2: 1163.38\n",
      "[915]\tvalid_0's rmse: 34.1093\tvalid_0's l1: 25.1929\tvalid_0's l2: 1163.45\n",
      "[916]\tvalid_0's rmse: 34.1121\tvalid_0's l1: 25.1935\tvalid_0's l2: 1163.64\n",
      "[917]\tvalid_0's rmse: 34.1116\tvalid_0's l1: 25.1907\tvalid_0's l2: 1163.6\n",
      "[918]\tvalid_0's rmse: 34.1111\tvalid_0's l1: 25.1877\tvalid_0's l2: 1163.57\n",
      "[919]\tvalid_0's rmse: 34.1115\tvalid_0's l1: 25.1874\tvalid_0's l2: 1163.59\n",
      "[920]\tvalid_0's rmse: 34.1129\tvalid_0's l1: 25.1872\tvalid_0's l2: 1163.69\n",
      "[921]\tvalid_0's rmse: 34.1123\tvalid_0's l1: 25.1855\tvalid_0's l2: 1163.65\n",
      "[922]\tvalid_0's rmse: 34.1155\tvalid_0's l1: 25.1878\tvalid_0's l2: 1163.87\n",
      "[923]\tvalid_0's rmse: 34.1184\tvalid_0's l1: 25.1896\tvalid_0's l2: 1164.06\n",
      "[924]\tvalid_0's rmse: 34.1205\tvalid_0's l1: 25.1907\tvalid_0's l2: 1164.21\n",
      "[925]\tvalid_0's rmse: 34.1218\tvalid_0's l1: 25.1903\tvalid_0's l2: 1164.3\n",
      "[926]\tvalid_0's rmse: 34.1204\tvalid_0's l1: 25.1878\tvalid_0's l2: 1164.2\n",
      "[927]\tvalid_0's rmse: 34.1178\tvalid_0's l1: 25.184\tvalid_0's l2: 1164.03\n",
      "[928]\tvalid_0's rmse: 34.1182\tvalid_0's l1: 25.1829\tvalid_0's l2: 1164.05\n",
      "[929]\tvalid_0's rmse: 34.1169\tvalid_0's l1: 25.182\tvalid_0's l2: 1163.97\n",
      "[930]\tvalid_0's rmse: 34.1178\tvalid_0's l1: 25.1824\tvalid_0's l2: 1164.02\n",
      "[931]\tvalid_0's rmse: 34.1149\tvalid_0's l1: 25.1795\tvalid_0's l2: 1163.83\n",
      "[932]\tvalid_0's rmse: 34.1142\tvalid_0's l1: 25.1782\tvalid_0's l2: 1163.78\n",
      "[933]\tvalid_0's rmse: 34.1155\tvalid_0's l1: 25.1789\tvalid_0's l2: 1163.87\n",
      "[934]\tvalid_0's rmse: 34.116\tvalid_0's l1: 25.178\tvalid_0's l2: 1163.9\n",
      "[935]\tvalid_0's rmse: 34.1145\tvalid_0's l1: 25.1769\tvalid_0's l2: 1163.8\n",
      "[936]\tvalid_0's rmse: 34.1139\tvalid_0's l1: 25.1761\tvalid_0's l2: 1163.76\n",
      "[937]\tvalid_0's rmse: 34.1152\tvalid_0's l1: 25.1768\tvalid_0's l2: 1163.85\n",
      "[938]\tvalid_0's rmse: 34.1134\tvalid_0's l1: 25.1746\tvalid_0's l2: 1163.72\n",
      "[939]\tvalid_0's rmse: 34.1129\tvalid_0's l1: 25.1738\tvalid_0's l2: 1163.69\n",
      "[940]\tvalid_0's rmse: 34.1143\tvalid_0's l1: 25.1745\tvalid_0's l2: 1163.79\n",
      "[941]\tvalid_0's rmse: 34.1114\tvalid_0's l1: 25.1712\tvalid_0's l2: 1163.59\n",
      "[942]\tvalid_0's rmse: 34.1102\tvalid_0's l1: 25.1692\tvalid_0's l2: 1163.5\n",
      "[943]\tvalid_0's rmse: 34.1067\tvalid_0's l1: 25.1657\tvalid_0's l2: 1163.27\n",
      "[944]\tvalid_0's rmse: 34.1057\tvalid_0's l1: 25.1627\tvalid_0's l2: 1163.2\n",
      "[945]\tvalid_0's rmse: 34.1038\tvalid_0's l1: 25.1588\tvalid_0's l2: 1163.07\n",
      "[946]\tvalid_0's rmse: 34.1025\tvalid_0's l1: 25.1569\tvalid_0's l2: 1162.98\n",
      "[947]\tvalid_0's rmse: 34.0999\tvalid_0's l1: 25.1531\tvalid_0's l2: 1162.8\n",
      "[948]\tvalid_0's rmse: 34.099\tvalid_0's l1: 25.1521\tvalid_0's l2: 1162.74\n",
      "[949]\tvalid_0's rmse: 34.0981\tvalid_0's l1: 25.1503\tvalid_0's l2: 1162.68\n",
      "[950]\tvalid_0's rmse: 34.0947\tvalid_0's l1: 25.1469\tvalid_0's l2: 1162.45\n",
      "[951]\tvalid_0's rmse: 34.0923\tvalid_0's l1: 25.1462\tvalid_0's l2: 1162.29\n",
      "[952]\tvalid_0's rmse: 34.0898\tvalid_0's l1: 25.1457\tvalid_0's l2: 1162.12\n",
      "[953]\tvalid_0's rmse: 34.09\tvalid_0's l1: 25.1468\tvalid_0's l2: 1162.13\n",
      "[954]\tvalid_0's rmse: 34.0875\tvalid_0's l1: 25.1468\tvalid_0's l2: 1161.96\n",
      "[955]\tvalid_0's rmse: 34.0832\tvalid_0's l1: 25.1455\tvalid_0's l2: 1161.66\n",
      "[956]\tvalid_0's rmse: 34.0851\tvalid_0's l1: 25.1454\tvalid_0's l2: 1161.79\n",
      "[957]\tvalid_0's rmse: 34.083\tvalid_0's l1: 25.1458\tvalid_0's l2: 1161.65\n",
      "[958]\tvalid_0's rmse: 34.0803\tvalid_0's l1: 25.1451\tvalid_0's l2: 1161.46\n",
      "[959]\tvalid_0's rmse: 34.0791\tvalid_0's l1: 25.1446\tvalid_0's l2: 1161.39\n",
      "[960]\tvalid_0's rmse: 34.081\tvalid_0's l1: 25.1445\tvalid_0's l2: 1161.52\n",
      "[961]\tvalid_0's rmse: 34.0819\tvalid_0's l1: 25.1453\tvalid_0's l2: 1161.58\n",
      "[962]\tvalid_0's rmse: 34.0816\tvalid_0's l1: 25.1423\tvalid_0's l2: 1161.56\n",
      "[963]\tvalid_0's rmse: 34.0836\tvalid_0's l1: 25.1426\tvalid_0's l2: 1161.69\n",
      "[964]\tvalid_0's rmse: 34.0839\tvalid_0's l1: 25.1429\tvalid_0's l2: 1161.71\n",
      "[965]\tvalid_0's rmse: 34.0846\tvalid_0's l1: 25.1436\tvalid_0's l2: 1161.76\n",
      "[966]\tvalid_0's rmse: 34.0865\tvalid_0's l1: 25.1439\tvalid_0's l2: 1161.89\n",
      "[967]\tvalid_0's rmse: 34.0807\tvalid_0's l1: 25.1417\tvalid_0's l2: 1161.49\n",
      "[968]\tvalid_0's rmse: 34.0814\tvalid_0's l1: 25.1424\tvalid_0's l2: 1161.54\n",
      "[969]\tvalid_0's rmse: 34.0805\tvalid_0's l1: 25.1431\tvalid_0's l2: 1161.48\n",
      "[970]\tvalid_0's rmse: 34.0809\tvalid_0's l1: 25.1432\tvalid_0's l2: 1161.51\n",
      "[971]\tvalid_0's rmse: 34.0796\tvalid_0's l1: 25.1427\tvalid_0's l2: 1161.42\n",
      "[972]\tvalid_0's rmse: 34.0795\tvalid_0's l1: 25.1444\tvalid_0's l2: 1161.41\n",
      "[973]\tvalid_0's rmse: 34.0777\tvalid_0's l1: 25.1435\tvalid_0's l2: 1161.29\n",
      "[974]\tvalid_0's rmse: 34.0772\tvalid_0's l1: 25.1443\tvalid_0's l2: 1161.26\n",
      "[975]\tvalid_0's rmse: 34.0747\tvalid_0's l1: 25.1436\tvalid_0's l2: 1161.08\n",
      "[976]\tvalid_0's rmse: 34.0752\tvalid_0's l1: 25.1457\tvalid_0's l2: 1161.12\n",
      "[977]\tvalid_0's rmse: 34.074\tvalid_0's l1: 25.1456\tvalid_0's l2: 1161.04\n",
      "[978]\tvalid_0's rmse: 34.0761\tvalid_0's l1: 25.1483\tvalid_0's l2: 1161.18\n",
      "[979]\tvalid_0's rmse: 34.0752\tvalid_0's l1: 25.1482\tvalid_0's l2: 1161.12\n",
      "[980]\tvalid_0's rmse: 34.0743\tvalid_0's l1: 25.149\tvalid_0's l2: 1161.06\n",
      "[981]\tvalid_0's rmse: 34.075\tvalid_0's l1: 25.1499\tvalid_0's l2: 1161.11\n",
      "[982]\tvalid_0's rmse: 34.0715\tvalid_0's l1: 25.1472\tvalid_0's l2: 1160.87\n",
      "[983]\tvalid_0's rmse: 34.0721\tvalid_0's l1: 25.1475\tvalid_0's l2: 1160.91\n",
      "[984]\tvalid_0's rmse: 34.0713\tvalid_0's l1: 25.1456\tvalid_0's l2: 1160.85\n",
      "[985]\tvalid_0's rmse: 34.0695\tvalid_0's l1: 25.1447\tvalid_0's l2: 1160.73\n",
      "[986]\tvalid_0's rmse: 34.0687\tvalid_0's l1: 25.1428\tvalid_0's l2: 1160.68\n",
      "[987]\tvalid_0's rmse: 34.0654\tvalid_0's l1: 25.1398\tvalid_0's l2: 1160.45\n",
      "[988]\tvalid_0's rmse: 34.0638\tvalid_0's l1: 25.1396\tvalid_0's l2: 1160.34\n",
      "[989]\tvalid_0's rmse: 34.0622\tvalid_0's l1: 25.1394\tvalid_0's l2: 1160.24\n",
      "[990]\tvalid_0's rmse: 34.061\tvalid_0's l1: 25.1389\tvalid_0's l2: 1160.15\n",
      "[991]\tvalid_0's rmse: 34.0613\tvalid_0's l1: 25.139\tvalid_0's l2: 1160.17\n",
      "[992]\tvalid_0's rmse: 34.0611\tvalid_0's l1: 25.1377\tvalid_0's l2: 1160.16\n",
      "[993]\tvalid_0's rmse: 34.0614\tvalid_0's l1: 25.1376\tvalid_0's l2: 1160.18\n",
      "[994]\tvalid_0's rmse: 34.0603\tvalid_0's l1: 25.1364\tvalid_0's l2: 1160.11\n",
      "[995]\tvalid_0's rmse: 34.0603\tvalid_0's l1: 25.135\tvalid_0's l2: 1160.1\n",
      "[996]\tvalid_0's rmse: 34.0602\tvalid_0's l1: 25.1341\tvalid_0's l2: 1160.1\n",
      "[997]\tvalid_0's rmse: 34.0607\tvalid_0's l1: 25.135\tvalid_0's l2: 1160.13\n",
      "[998]\tvalid_0's rmse: 34.0614\tvalid_0's l1: 25.1351\tvalid_0's l2: 1160.18\n",
      "[999]\tvalid_0's rmse: 34.0604\tvalid_0's l1: 25.1342\tvalid_0's l2: 1160.11\n",
      "[1000]\tvalid_0's rmse: 34.0614\tvalid_0's l1: 25.1346\tvalid_0's l2: 1160.18\n",
      "[1001]\tvalid_0's rmse: 34.0605\tvalid_0's l1: 25.1329\tvalid_0's l2: 1160.12\n",
      "[1002]\tvalid_0's rmse: 34.0601\tvalid_0's l1: 25.1332\tvalid_0's l2: 1160.09\n",
      "[1003]\tvalid_0's rmse: 34.0591\tvalid_0's l1: 25.1315\tvalid_0's l2: 1160.02\n",
      "[1004]\tvalid_0's rmse: 34.0578\tvalid_0's l1: 25.131\tvalid_0's l2: 1159.93\n",
      "[1005]\tvalid_0's rmse: 34.0574\tvalid_0's l1: 25.1313\tvalid_0's l2: 1159.9\n",
      "[1006]\tvalid_0's rmse: 34.0557\tvalid_0's l1: 25.131\tvalid_0's l2: 1159.79\n",
      "[1007]\tvalid_0's rmse: 34.0547\tvalid_0's l1: 25.1311\tvalid_0's l2: 1159.72\n",
      "[1008]\tvalid_0's rmse: 34.0545\tvalid_0's l1: 25.1314\tvalid_0's l2: 1159.71\n",
      "[1009]\tvalid_0's rmse: 34.0551\tvalid_0's l1: 25.1317\tvalid_0's l2: 1159.75\n",
      "[1010]\tvalid_0's rmse: 34.0544\tvalid_0's l1: 25.1313\tvalid_0's l2: 1159.7\n",
      "[1011]\tvalid_0's rmse: 34.0542\tvalid_0's l1: 25.1335\tvalid_0's l2: 1159.69\n",
      "[1012]\tvalid_0's rmse: 34.0524\tvalid_0's l1: 25.1344\tvalid_0's l2: 1159.57\n",
      "[1013]\tvalid_0's rmse: 34.0507\tvalid_0's l1: 25.1352\tvalid_0's l2: 1159.45\n",
      "[1014]\tvalid_0's rmse: 34.0482\tvalid_0's l1: 25.1346\tvalid_0's l2: 1159.28\n",
      "[1015]\tvalid_0's rmse: 34.0486\tvalid_0's l1: 25.1373\tvalid_0's l2: 1159.31\n",
      "[1016]\tvalid_0's rmse: 34.0502\tvalid_0's l1: 25.1407\tvalid_0's l2: 1159.42\n",
      "[1017]\tvalid_0's rmse: 34.0516\tvalid_0's l1: 25.1422\tvalid_0's l2: 1159.51\n",
      "[1018]\tvalid_0's rmse: 34.052\tvalid_0's l1: 25.1449\tvalid_0's l2: 1159.54\n",
      "[1019]\tvalid_0's rmse: 34.0512\tvalid_0's l1: 25.1454\tvalid_0's l2: 1159.48\n",
      "[1020]\tvalid_0's rmse: 34.0488\tvalid_0's l1: 25.1448\tvalid_0's l2: 1159.32\n"
     ]
    },
    {
     "name": "stdout",
     "output_type": "stream",
     "text": [
      "[1021]\tvalid_0's rmse: 34.0524\tvalid_0's l1: 25.1466\tvalid_0's l2: 1159.57\n",
      "[1022]\tvalid_0's rmse: 34.0546\tvalid_0's l1: 25.1471\tvalid_0's l2: 1159.72\n",
      "[1023]\tvalid_0's rmse: 34.0569\tvalid_0's l1: 25.1474\tvalid_0's l2: 1159.87\n",
      "[1024]\tvalid_0's rmse: 34.059\tvalid_0's l1: 25.1473\tvalid_0's l2: 1160.02\n",
      "[1025]\tvalid_0's rmse: 34.0624\tvalid_0's l1: 25.1492\tvalid_0's l2: 1160.24\n",
      "[1026]\tvalid_0's rmse: 34.0661\tvalid_0's l1: 25.1506\tvalid_0's l2: 1160.5\n",
      "[1027]\tvalid_0's rmse: 34.068\tvalid_0's l1: 25.15\tvalid_0's l2: 1160.63\n",
      "[1028]\tvalid_0's rmse: 34.0695\tvalid_0's l1: 25.1495\tvalid_0's l2: 1160.73\n",
      "[1029]\tvalid_0's rmse: 34.0685\tvalid_0's l1: 25.1485\tvalid_0's l2: 1160.66\n",
      "[1030]\tvalid_0's rmse: 34.0706\tvalid_0's l1: 25.1506\tvalid_0's l2: 1160.81\n",
      "[1031]\tvalid_0's rmse: 34.0725\tvalid_0's l1: 25.1522\tvalid_0's l2: 1160.93\n",
      "[1032]\tvalid_0's rmse: 34.0744\tvalid_0's l1: 25.1529\tvalid_0's l2: 1161.06\n",
      "[1033]\tvalid_0's rmse: 34.0742\tvalid_0's l1: 25.1523\tvalid_0's l2: 1161.05\n",
      "[1034]\tvalid_0's rmse: 34.0762\tvalid_0's l1: 25.1531\tvalid_0's l2: 1161.19\n",
      "[1035]\tvalid_0's rmse: 34.078\tvalid_0's l1: 25.1547\tvalid_0's l2: 1161.31\n",
      "[1036]\tvalid_0's rmse: 34.0773\tvalid_0's l1: 25.1535\tvalid_0's l2: 1161.26\n",
      "[1037]\tvalid_0's rmse: 34.0788\tvalid_0's l1: 25.154\tvalid_0's l2: 1161.37\n",
      "[1038]\tvalid_0's rmse: 34.0804\tvalid_0's l1: 25.1545\tvalid_0's l2: 1161.47\n",
      "[1039]\tvalid_0's rmse: 34.08\tvalid_0's l1: 25.1546\tvalid_0's l2: 1161.45\n",
      "[1040]\tvalid_0's rmse: 34.0815\tvalid_0's l1: 25.155\tvalid_0's l2: 1161.55\n",
      "[1041]\tvalid_0's rmse: 34.0773\tvalid_0's l1: 25.1529\tvalid_0's l2: 1161.26\n",
      "[1042]\tvalid_0's rmse: 34.0803\tvalid_0's l1: 25.1546\tvalid_0's l2: 1161.47\n",
      "[1043]\tvalid_0's rmse: 34.0819\tvalid_0's l1: 25.1551\tvalid_0's l2: 1161.58\n",
      "[1044]\tvalid_0's rmse: 34.0773\tvalid_0's l1: 25.1527\tvalid_0's l2: 1161.26\n",
      "[1045]\tvalid_0's rmse: 34.0732\tvalid_0's l1: 25.1506\tvalid_0's l2: 1160.98\n",
      "[1046]\tvalid_0's rmse: 34.0683\tvalid_0's l1: 25.1478\tvalid_0's l2: 1160.65\n",
      "[1047]\tvalid_0's rmse: 34.0647\tvalid_0's l1: 25.1465\tvalid_0's l2: 1160.4\n",
      "[1048]\tvalid_0's rmse: 34.0667\tvalid_0's l1: 25.1476\tvalid_0's l2: 1160.54\n",
      "[1049]\tvalid_0's rmse: 34.0641\tvalid_0's l1: 25.1476\tvalid_0's l2: 1160.36\n",
      "[1050]\tvalid_0's rmse: 34.0596\tvalid_0's l1: 25.1452\tvalid_0's l2: 1160.06\n",
      "[1051]\tvalid_0's rmse: 34.0589\tvalid_0's l1: 25.1413\tvalid_0's l2: 1160.01\n",
      "[1052]\tvalid_0's rmse: 34.0573\tvalid_0's l1: 25.1417\tvalid_0's l2: 1159.9\n",
      "[1053]\tvalid_0's rmse: 34.0566\tvalid_0's l1: 25.138\tvalid_0's l2: 1159.85\n",
      "[1054]\tvalid_0's rmse: 34.0512\tvalid_0's l1: 25.1349\tvalid_0's l2: 1159.48\n",
      "[1055]\tvalid_0's rmse: 34.047\tvalid_0's l1: 25.1328\tvalid_0's l2: 1159.2\n",
      "[1056]\tvalid_0's rmse: 34.0418\tvalid_0's l1: 25.1303\tvalid_0's l2: 1158.85\n",
      "[1057]\tvalid_0's rmse: 34.038\tvalid_0's l1: 25.1279\tvalid_0's l2: 1158.59\n",
      "[1058]\tvalid_0's rmse: 34.0337\tvalid_0's l1: 25.1258\tvalid_0's l2: 1158.29\n",
      "[1059]\tvalid_0's rmse: 34.0308\tvalid_0's l1: 25.1231\tvalid_0's l2: 1158.09\n",
      "[1060]\tvalid_0's rmse: 34.0273\tvalid_0's l1: 25.1209\tvalid_0's l2: 1157.86\n",
      "[1061]\tvalid_0's rmse: 34.0232\tvalid_0's l1: 25.1182\tvalid_0's l2: 1157.58\n",
      "[1062]\tvalid_0's rmse: 34.0185\tvalid_0's l1: 25.1147\tvalid_0's l2: 1157.26\n",
      "[1063]\tvalid_0's rmse: 34.0159\tvalid_0's l1: 25.1128\tvalid_0's l2: 1157.08\n",
      "[1064]\tvalid_0's rmse: 34.0113\tvalid_0's l1: 25.1092\tvalid_0's l2: 1156.77\n",
      "[1065]\tvalid_0's rmse: 34.0075\tvalid_0's l1: 25.1067\tvalid_0's l2: 1156.51\n",
      "[1066]\tvalid_0's rmse: 34.003\tvalid_0's l1: 25.1034\tvalid_0's l2: 1156.21\n",
      "[1067]\tvalid_0's rmse: 33.9982\tvalid_0's l1: 25.0997\tvalid_0's l2: 1155.88\n",
      "[1068]\tvalid_0's rmse: 33.9932\tvalid_0's l1: 25.0958\tvalid_0's l2: 1155.54\n",
      "[1069]\tvalid_0's rmse: 33.9884\tvalid_0's l1: 25.0919\tvalid_0's l2: 1155.21\n",
      "[1070]\tvalid_0's rmse: 33.9841\tvalid_0's l1: 25.089\tvalid_0's l2: 1154.92\n",
      "[1071]\tvalid_0's rmse: 33.9841\tvalid_0's l1: 25.0883\tvalid_0's l2: 1154.92\n",
      "[1072]\tvalid_0's rmse: 33.9832\tvalid_0's l1: 25.0861\tvalid_0's l2: 1154.86\n",
      "[1073]\tvalid_0's rmse: 33.9839\tvalid_0's l1: 25.0872\tvalid_0's l2: 1154.91\n",
      "[1074]\tvalid_0's rmse: 33.9861\tvalid_0's l1: 25.0895\tvalid_0's l2: 1155.06\n",
      "[1075]\tvalid_0's rmse: 33.9883\tvalid_0's l1: 25.0918\tvalid_0's l2: 1155.21\n",
      "[1076]\tvalid_0's rmse: 33.989\tvalid_0's l1: 25.0938\tvalid_0's l2: 1155.26\n",
      "[1077]\tvalid_0's rmse: 33.9894\tvalid_0's l1: 25.095\tvalid_0's l2: 1155.28\n",
      "[1078]\tvalid_0's rmse: 33.9901\tvalid_0's l1: 25.095\tvalid_0's l2: 1155.33\n",
      "[1079]\tvalid_0's rmse: 33.992\tvalid_0's l1: 25.0956\tvalid_0's l2: 1155.46\n",
      "[1080]\tvalid_0's rmse: 33.991\tvalid_0's l1: 25.0938\tvalid_0's l2: 1155.39\n",
      "[1081]\tvalid_0's rmse: 33.9927\tvalid_0's l1: 25.0946\tvalid_0's l2: 1155.51\n",
      "[1082]\tvalid_0's rmse: 33.993\tvalid_0's l1: 25.0945\tvalid_0's l2: 1155.52\n",
      "[1083]\tvalid_0's rmse: 33.9909\tvalid_0's l1: 25.0929\tvalid_0's l2: 1155.38\n",
      "[1084]\tvalid_0's rmse: 33.9916\tvalid_0's l1: 25.0936\tvalid_0's l2: 1155.43\n",
      "[1085]\tvalid_0's rmse: 33.9911\tvalid_0's l1: 25.0923\tvalid_0's l2: 1155.4\n",
      "[1086]\tvalid_0's rmse: 33.9916\tvalid_0's l1: 25.0939\tvalid_0's l2: 1155.43\n",
      "[1087]\tvalid_0's rmse: 33.9849\tvalid_0's l1: 25.0915\tvalid_0's l2: 1154.98\n",
      "[1088]\tvalid_0's rmse: 33.9852\tvalid_0's l1: 25.0924\tvalid_0's l2: 1154.99\n",
      "[1089]\tvalid_0's rmse: 33.9869\tvalid_0's l1: 25.0936\tvalid_0's l2: 1155.11\n",
      "[1090]\tvalid_0's rmse: 33.9804\tvalid_0's l1: 25.0913\tvalid_0's l2: 1154.67\n",
      "[1091]\tvalid_0's rmse: 33.9803\tvalid_0's l1: 25.088\tvalid_0's l2: 1154.66\n",
      "[1092]\tvalid_0's rmse: 33.9822\tvalid_0's l1: 25.091\tvalid_0's l2: 1154.79\n",
      "[1093]\tvalid_0's rmse: 33.9831\tvalid_0's l1: 25.0919\tvalid_0's l2: 1154.85\n",
      "[1094]\tvalid_0's rmse: 33.9846\tvalid_0's l1: 25.0926\tvalid_0's l2: 1154.95\n",
      "[1095]\tvalid_0's rmse: 33.9862\tvalid_0's l1: 25.095\tvalid_0's l2: 1155.06\n",
      "[1096]\tvalid_0's rmse: 33.9846\tvalid_0's l1: 25.0901\tvalid_0's l2: 1154.95\n",
      "[1097]\tvalid_0's rmse: 33.9856\tvalid_0's l1: 25.0902\tvalid_0's l2: 1155.02\n",
      "[1098]\tvalid_0's rmse: 33.9867\tvalid_0's l1: 25.0898\tvalid_0's l2: 1155.09\n",
      "[1099]\tvalid_0's rmse: 33.9884\tvalid_0's l1: 25.0922\tvalid_0's l2: 1155.21\n",
      "[1100]\tvalid_0's rmse: 33.9865\tvalid_0's l1: 25.0887\tvalid_0's l2: 1155.08\n",
      "[1101]\tvalid_0's rmse: 33.982\tvalid_0's l1: 25.0859\tvalid_0's l2: 1154.77\n",
      "[1102]\tvalid_0's rmse: 33.9775\tvalid_0's l1: 25.083\tvalid_0's l2: 1154.47\n",
      "[1103]\tvalid_0's rmse: 33.9765\tvalid_0's l1: 25.0816\tvalid_0's l2: 1154.4\n",
      "[1104]\tvalid_0's rmse: 33.9722\tvalid_0's l1: 25.0787\tvalid_0's l2: 1154.11\n",
      "[1105]\tvalid_0's rmse: 33.9707\tvalid_0's l1: 25.0767\tvalid_0's l2: 1154.01\n",
      "[1106]\tvalid_0's rmse: 33.9665\tvalid_0's l1: 25.0743\tvalid_0's l2: 1153.72\n",
      "[1107]\tvalid_0's rmse: 33.9661\tvalid_0's l1: 25.0726\tvalid_0's l2: 1153.7\n",
      "[1108]\tvalid_0's rmse: 33.9655\tvalid_0's l1: 25.0708\tvalid_0's l2: 1153.66\n",
      "[1109]\tvalid_0's rmse: 33.9619\tvalid_0's l1: 25.0691\tvalid_0's l2: 1153.41\n",
      "[1110]\tvalid_0's rmse: 33.9622\tvalid_0's l1: 25.0682\tvalid_0's l2: 1153.43\n",
      "[1111]\tvalid_0's rmse: 33.9636\tvalid_0's l1: 25.0688\tvalid_0's l2: 1153.52\n",
      "[1112]\tvalid_0's rmse: 33.9657\tvalid_0's l1: 25.0699\tvalid_0's l2: 1153.67\n",
      "[1113]\tvalid_0's rmse: 33.9638\tvalid_0's l1: 25.0687\tvalid_0's l2: 1153.54\n",
      "[1114]\tvalid_0's rmse: 33.962\tvalid_0's l1: 25.0673\tvalid_0's l2: 1153.42\n",
      "[1115]\tvalid_0's rmse: 33.9612\tvalid_0's l1: 25.0657\tvalid_0's l2: 1153.37\n",
      "[1116]\tvalid_0's rmse: 33.9621\tvalid_0's l1: 25.0659\tvalid_0's l2: 1153.43\n",
      "[1117]\tvalid_0's rmse: 33.9613\tvalid_0's l1: 25.0644\tvalid_0's l2: 1153.37\n",
      "[1118]\tvalid_0's rmse: 33.963\tvalid_0's l1: 25.0658\tvalid_0's l2: 1153.49\n",
      "[1119]\tvalid_0's rmse: 33.9654\tvalid_0's l1: 25.0658\tvalid_0's l2: 1153.65\n",
      "[1120]\tvalid_0's rmse: 33.9636\tvalid_0's l1: 25.0646\tvalid_0's l2: 1153.52\n",
      "[1121]\tvalid_0's rmse: 33.9666\tvalid_0's l1: 25.0665\tvalid_0's l2: 1153.73\n",
      "[1122]\tvalid_0's rmse: 33.9665\tvalid_0's l1: 25.0644\tvalid_0's l2: 1153.72\n",
      "[1123]\tvalid_0's rmse: 33.9652\tvalid_0's l1: 25.0633\tvalid_0's l2: 1153.63\n",
      "[1124]\tvalid_0's rmse: 33.9652\tvalid_0's l1: 25.0627\tvalid_0's l2: 1153.63\n",
      "[1125]\tvalid_0's rmse: 33.9683\tvalid_0's l1: 25.0646\tvalid_0's l2: 1153.84\n",
      "[1126]\tvalid_0's rmse: 33.9665\tvalid_0's l1: 25.0633\tvalid_0's l2: 1153.73\n",
      "[1127]\tvalid_0's rmse: 33.9657\tvalid_0's l1: 25.0627\tvalid_0's l2: 1153.67\n",
      "[1128]\tvalid_0's rmse: 33.9689\tvalid_0's l1: 25.0644\tvalid_0's l2: 1153.89\n",
      "[1129]\tvalid_0's rmse: 33.9701\tvalid_0's l1: 25.0643\tvalid_0's l2: 1153.97\n",
      "[1130]\tvalid_0's rmse: 33.9713\tvalid_0's l1: 25.0642\tvalid_0's l2: 1154.05\n",
      "[1131]\tvalid_0's rmse: 33.9681\tvalid_0's l1: 25.0605\tvalid_0's l2: 1153.83\n",
      "[1132]\tvalid_0's rmse: 33.9704\tvalid_0's l1: 25.0613\tvalid_0's l2: 1153.99\n",
      "[1133]\tvalid_0's rmse: 33.968\tvalid_0's l1: 25.0588\tvalid_0's l2: 1153.82\n",
      "[1134]\tvalid_0's rmse: 33.9661\tvalid_0's l1: 25.0565\tvalid_0's l2: 1153.69\n",
      "[1135]\tvalid_0's rmse: 33.9684\tvalid_0's l1: 25.0574\tvalid_0's l2: 1153.85\n",
      "[1136]\tvalid_0's rmse: 33.9704\tvalid_0's l1: 25.0588\tvalid_0's l2: 1153.99\n",
      "[1137]\tvalid_0's rmse: 33.968\tvalid_0's l1: 25.0563\tvalid_0's l2: 1153.82\n",
      "[1138]\tvalid_0's rmse: 33.9673\tvalid_0's l1: 25.0565\tvalid_0's l2: 1153.77\n",
      "[1139]\tvalid_0's rmse: 33.9675\tvalid_0's l1: 25.0574\tvalid_0's l2: 1153.79\n",
      "[1140]\tvalid_0's rmse: 33.9666\tvalid_0's l1: 25.0574\tvalid_0's l2: 1153.73\n",
      "[1141]\tvalid_0's rmse: 33.9664\tvalid_0's l1: 25.0572\tvalid_0's l2: 1153.71\n",
      "[1142]\tvalid_0's rmse: 33.9675\tvalid_0's l1: 25.0557\tvalid_0's l2: 1153.79\n",
      "[1143]\tvalid_0's rmse: 33.968\tvalid_0's l1: 25.0536\tvalid_0's l2: 1153.83\n",
      "[1144]\tvalid_0's rmse: 33.9686\tvalid_0's l1: 25.0515\tvalid_0's l2: 1153.87\n",
      "[1145]\tvalid_0's rmse: 33.9702\tvalid_0's l1: 25.0509\tvalid_0's l2: 1153.98\n",
      "[1146]\tvalid_0's rmse: 33.9688\tvalid_0's l1: 25.0506\tvalid_0's l2: 1153.88\n",
      "[1147]\tvalid_0's rmse: 33.9696\tvalid_0's l1: 25.0504\tvalid_0's l2: 1153.94\n",
      "[1148]\tvalid_0's rmse: 33.9698\tvalid_0's l1: 25.0492\tvalid_0's l2: 1153.95\n",
      "[1149]\tvalid_0's rmse: 33.9708\tvalid_0's l1: 25.0483\tvalid_0's l2: 1154.01\n",
      "[1150]\tvalid_0's rmse: 33.9718\tvalid_0's l1: 25.0497\tvalid_0's l2: 1154.09\n",
      "[1151]\tvalid_0's rmse: 33.9727\tvalid_0's l1: 25.0506\tvalid_0's l2: 1154.15\n",
      "[1152]\tvalid_0's rmse: 33.9747\tvalid_0's l1: 25.0518\tvalid_0's l2: 1154.28\n",
      "[1153]\tvalid_0's rmse: 33.9762\tvalid_0's l1: 25.0513\tvalid_0's l2: 1154.38\n",
      "[1154]\tvalid_0's rmse: 33.9783\tvalid_0's l1: 25.0526\tvalid_0's l2: 1154.52\n",
      "[1155]\tvalid_0's rmse: 33.9814\tvalid_0's l1: 25.0536\tvalid_0's l2: 1154.73\n",
      "[1156]\tvalid_0's rmse: 33.9804\tvalid_0's l1: 25.0542\tvalid_0's l2: 1154.67\n",
      "[1157]\tvalid_0's rmse: 33.9799\tvalid_0's l1: 25.0521\tvalid_0's l2: 1154.63\n",
      "[1158]\tvalid_0's rmse: 33.9819\tvalid_0's l1: 25.0538\tvalid_0's l2: 1154.77\n",
      "[1159]\tvalid_0's rmse: 33.9855\tvalid_0's l1: 25.0575\tvalid_0's l2: 1155.01\n",
      "[1160]\tvalid_0's rmse: 33.9868\tvalid_0's l1: 25.0583\tvalid_0's l2: 1155.1\n",
      "[1161]\tvalid_0's rmse: 33.9851\tvalid_0's l1: 25.057\tvalid_0's l2: 1154.99\n",
      "[1162]\tvalid_0's rmse: 33.9856\tvalid_0's l1: 25.0572\tvalid_0's l2: 1155.02\n",
      "[1163]\tvalid_0's rmse: 33.9847\tvalid_0's l1: 25.0563\tvalid_0's l2: 1154.96\n",
      "[1164]\tvalid_0's rmse: 33.9835\tvalid_0's l1: 25.0566\tvalid_0's l2: 1154.88\n",
      "[1165]\tvalid_0's rmse: 33.9818\tvalid_0's l1: 25.0551\tvalid_0's l2: 1154.76\n",
      "[1166]\tvalid_0's rmse: 33.979\tvalid_0's l1: 25.0533\tvalid_0's l2: 1154.57\n",
      "[1167]\tvalid_0's rmse: 33.9779\tvalid_0's l1: 25.0536\tvalid_0's l2: 1154.5\n",
      "[1168]\tvalid_0's rmse: 33.9744\tvalid_0's l1: 25.0514\tvalid_0's l2: 1154.26\n",
      "[1169]\tvalid_0's rmse: 33.9729\tvalid_0's l1: 25.0512\tvalid_0's l2: 1154.16\n",
      "[1170]\tvalid_0's rmse: 33.9712\tvalid_0's l1: 25.0514\tvalid_0's l2: 1154.04\n",
      "[1171]\tvalid_0's rmse: 33.9704\tvalid_0's l1: 25.0487\tvalid_0's l2: 1153.99\n",
      "[1172]\tvalid_0's rmse: 33.9693\tvalid_0's l1: 25.0481\tvalid_0's l2: 1153.91\n",
      "[1173]\tvalid_0's rmse: 33.9701\tvalid_0's l1: 25.0471\tvalid_0's l2: 1153.97\n",
      "[1174]\tvalid_0's rmse: 33.9698\tvalid_0's l1: 25.0455\tvalid_0's l2: 1153.95\n",
      "[1175]\tvalid_0's rmse: 33.97\tvalid_0's l1: 25.0449\tvalid_0's l2: 1153.96\n",
      "[1176]\tvalid_0's rmse: 33.9708\tvalid_0's l1: 25.044\tvalid_0's l2: 1154.02\n",
      "[1177]\tvalid_0's rmse: 33.9712\tvalid_0's l1: 25.0451\tvalid_0's l2: 1154.05\n",
      "[1178]\tvalid_0's rmse: 33.9705\tvalid_0's l1: 25.0425\tvalid_0's l2: 1154\n",
      "[1179]\tvalid_0's rmse: 33.9709\tvalid_0's l1: 25.0425\tvalid_0's l2: 1154.02\n",
      "[1180]\tvalid_0's rmse: 33.9698\tvalid_0's l1: 25.0418\tvalid_0's l2: 1153.95\n",
      "[1181]\tvalid_0's rmse: 33.9688\tvalid_0's l1: 25.0406\tvalid_0's l2: 1153.88\n",
      "[1182]\tvalid_0's rmse: 33.967\tvalid_0's l1: 25.0411\tvalid_0's l2: 1153.76\n"
     ]
    },
    {
     "name": "stdout",
     "output_type": "stream",
     "text": [
      "[1183]\tvalid_0's rmse: 33.9696\tvalid_0's l1: 25.0415\tvalid_0's l2: 1153.93\n",
      "[1184]\tvalid_0's rmse: 33.9725\tvalid_0's l1: 25.0433\tvalid_0's l2: 1154.13\n",
      "[1185]\tvalid_0's rmse: 33.971\tvalid_0's l1: 25.0418\tvalid_0's l2: 1154.03\n",
      "[1186]\tvalid_0's rmse: 33.9705\tvalid_0's l1: 25.0412\tvalid_0's l2: 1153.99\n",
      "[1187]\tvalid_0's rmse: 33.9728\tvalid_0's l1: 25.0416\tvalid_0's l2: 1154.15\n",
      "[1188]\tvalid_0's rmse: 33.9758\tvalid_0's l1: 25.0433\tvalid_0's l2: 1154.36\n",
      "[1189]\tvalid_0's rmse: 33.9768\tvalid_0's l1: 25.0438\tvalid_0's l2: 1154.42\n",
      "[1190]\tvalid_0's rmse: 33.9798\tvalid_0's l1: 25.0455\tvalid_0's l2: 1154.63\n",
      "[1191]\tvalid_0's rmse: 33.9782\tvalid_0's l1: 25.0439\tvalid_0's l2: 1154.52\n",
      "[1192]\tvalid_0's rmse: 33.978\tvalid_0's l1: 25.0424\tvalid_0's l2: 1154.51\n",
      "[1193]\tvalid_0's rmse: 33.9772\tvalid_0's l1: 25.0405\tvalid_0's l2: 1154.45\n",
      "[1194]\tvalid_0's rmse: 33.9782\tvalid_0's l1: 25.0402\tvalid_0's l2: 1154.52\n",
      "[1195]\tvalid_0's rmse: 33.9775\tvalid_0's l1: 25.0385\tvalid_0's l2: 1154.47\n",
      "[1196]\tvalid_0's rmse: 33.9748\tvalid_0's l1: 25.0372\tvalid_0's l2: 1154.29\n",
      "[1197]\tvalid_0's rmse: 33.9731\tvalid_0's l1: 25.0344\tvalid_0's l2: 1154.17\n",
      "[1198]\tvalid_0's rmse: 33.9708\tvalid_0's l1: 25.0329\tvalid_0's l2: 1154.01\n",
      "[1199]\tvalid_0's rmse: 33.9692\tvalid_0's l1: 25.0311\tvalid_0's l2: 1153.91\n",
      "[1200]\tvalid_0's rmse: 33.967\tvalid_0's l1: 25.0296\tvalid_0's l2: 1153.76\n",
      "[1201]\tvalid_0's rmse: 33.9696\tvalid_0's l1: 25.0296\tvalid_0's l2: 1153.93\n",
      "[1202]\tvalid_0's rmse: 33.972\tvalid_0's l1: 25.0313\tvalid_0's l2: 1154.09\n",
      "[1203]\tvalid_0's rmse: 33.9741\tvalid_0's l1: 25.033\tvalid_0's l2: 1154.24\n",
      "[1204]\tvalid_0's rmse: 33.9766\tvalid_0's l1: 25.0328\tvalid_0's l2: 1154.41\n",
      "[1205]\tvalid_0's rmse: 33.9778\tvalid_0's l1: 25.0322\tvalid_0's l2: 1154.49\n",
      "[1206]\tvalid_0's rmse: 33.9801\tvalid_0's l1: 25.0339\tvalid_0's l2: 1154.65\n",
      "[1207]\tvalid_0's rmse: 33.9797\tvalid_0's l1: 25.033\tvalid_0's l2: 1154.62\n",
      "[1208]\tvalid_0's rmse: 33.9806\tvalid_0's l1: 25.0344\tvalid_0's l2: 1154.68\n",
      "[1209]\tvalid_0's rmse: 33.9837\tvalid_0's l1: 25.0352\tvalid_0's l2: 1154.89\n",
      "[1210]\tvalid_0's rmse: 33.9848\tvalid_0's l1: 25.0349\tvalid_0's l2: 1154.97\n",
      "[1211]\tvalid_0's rmse: 33.9808\tvalid_0's l1: 25.0331\tvalid_0's l2: 1154.69\n",
      "[1212]\tvalid_0's rmse: 33.9752\tvalid_0's l1: 25.0299\tvalid_0's l2: 1154.31\n",
      "[1213]\tvalid_0's rmse: 33.9714\tvalid_0's l1: 25.0273\tvalid_0's l2: 1154.06\n",
      "[1214]\tvalid_0's rmse: 33.9664\tvalid_0's l1: 25.0241\tvalid_0's l2: 1153.72\n",
      "[1215]\tvalid_0's rmse: 33.963\tvalid_0's l1: 25.0228\tvalid_0's l2: 1153.48\n",
      "[1216]\tvalid_0's rmse: 33.9582\tvalid_0's l1: 25.0179\tvalid_0's l2: 1153.16\n",
      "[1217]\tvalid_0's rmse: 33.9547\tvalid_0's l1: 25.017\tvalid_0's l2: 1152.92\n",
      "[1218]\tvalid_0's rmse: 33.9502\tvalid_0's l1: 25.0145\tvalid_0's l2: 1152.61\n",
      "[1219]\tvalid_0's rmse: 33.9453\tvalid_0's l1: 25.0115\tvalid_0's l2: 1152.28\n",
      "[1220]\tvalid_0's rmse: 33.9415\tvalid_0's l1: 25.0095\tvalid_0's l2: 1152.03\n",
      "[1221]\tvalid_0's rmse: 33.9384\tvalid_0's l1: 25.0072\tvalid_0's l2: 1151.81\n",
      "[1222]\tvalid_0's rmse: 33.9358\tvalid_0's l1: 25.0059\tvalid_0's l2: 1151.64\n",
      "[1223]\tvalid_0's rmse: 33.9342\tvalid_0's l1: 25.0047\tvalid_0's l2: 1151.53\n",
      "[1224]\tvalid_0's rmse: 33.9332\tvalid_0's l1: 25.004\tvalid_0's l2: 1151.46\n",
      "[1225]\tvalid_0's rmse: 33.9322\tvalid_0's l1: 25.0042\tvalid_0's l2: 1151.39\n",
      "[1226]\tvalid_0's rmse: 33.933\tvalid_0's l1: 25.0049\tvalid_0's l2: 1151.45\n",
      "[1227]\tvalid_0's rmse: 33.9311\tvalid_0's l1: 25.0043\tvalid_0's l2: 1151.32\n",
      "[1228]\tvalid_0's rmse: 33.9292\tvalid_0's l1: 25.0036\tvalid_0's l2: 1151.19\n",
      "[1229]\tvalid_0's rmse: 33.9271\tvalid_0's l1: 25.0026\tvalid_0's l2: 1151.05\n",
      "[1230]\tvalid_0's rmse: 33.923\tvalid_0's l1: 25\tvalid_0's l2: 1150.77\n",
      "[1231]\tvalid_0's rmse: 33.9231\tvalid_0's l1: 24.9993\tvalid_0's l2: 1150.78\n",
      "[1232]\tvalid_0's rmse: 33.9235\tvalid_0's l1: 24.9988\tvalid_0's l2: 1150.81\n",
      "[1233]\tvalid_0's rmse: 33.9226\tvalid_0's l1: 24.9985\tvalid_0's l2: 1150.74\n",
      "[1234]\tvalid_0's rmse: 33.9201\tvalid_0's l1: 24.9976\tvalid_0's l2: 1150.58\n",
      "[1235]\tvalid_0's rmse: 33.9196\tvalid_0's l1: 24.997\tvalid_0's l2: 1150.54\n",
      "[1236]\tvalid_0's rmse: 33.9193\tvalid_0's l1: 24.9973\tvalid_0's l2: 1150.52\n",
      "[1237]\tvalid_0's rmse: 33.9185\tvalid_0's l1: 24.9968\tvalid_0's l2: 1150.47\n",
      "[1238]\tvalid_0's rmse: 33.9174\tvalid_0's l1: 24.9956\tvalid_0's l2: 1150.39\n",
      "[1239]\tvalid_0's rmse: 33.9173\tvalid_0's l1: 24.9964\tvalid_0's l2: 1150.39\n",
      "[1240]\tvalid_0's rmse: 33.9191\tvalid_0's l1: 24.9978\tvalid_0's l2: 1150.51\n",
      "[1241]\tvalid_0's rmse: 33.9218\tvalid_0's l1: 24.9993\tvalid_0's l2: 1150.69\n",
      "[1242]\tvalid_0's rmse: 33.9215\tvalid_0's l1: 24.9981\tvalid_0's l2: 1150.67\n",
      "[1243]\tvalid_0's rmse: 33.9238\tvalid_0's l1: 24.9989\tvalid_0's l2: 1150.83\n",
      "[1244]\tvalid_0's rmse: 33.9269\tvalid_0's l1: 25.0003\tvalid_0's l2: 1151.03\n",
      "[1245]\tvalid_0's rmse: 33.9285\tvalid_0's l1: 25.0002\tvalid_0's l2: 1151.15\n",
      "[1246]\tvalid_0's rmse: 33.9316\tvalid_0's l1: 25.0016\tvalid_0's l2: 1151.36\n",
      "[1247]\tvalid_0's rmse: 33.9343\tvalid_0's l1: 25.0025\tvalid_0's l2: 1151.54\n",
      "[1248]\tvalid_0's rmse: 33.9366\tvalid_0's l1: 25.0025\tvalid_0's l2: 1151.69\n",
      "[1249]\tvalid_0's rmse: 33.9386\tvalid_0's l1: 25.0021\tvalid_0's l2: 1151.83\n",
      "[1250]\tvalid_0's rmse: 33.9384\tvalid_0's l1: 25.0009\tvalid_0's l2: 1151.81\n",
      "[1251]\tvalid_0's rmse: 33.9404\tvalid_0's l1: 25.0016\tvalid_0's l2: 1151.95\n",
      "[1252]\tvalid_0's rmse: 33.9417\tvalid_0's l1: 25.0015\tvalid_0's l2: 1152.04\n",
      "[1253]\tvalid_0's rmse: 33.943\tvalid_0's l1: 25.0029\tvalid_0's l2: 1152.13\n",
      "[1254]\tvalid_0's rmse: 33.9434\tvalid_0's l1: 25.0023\tvalid_0's l2: 1152.15\n",
      "[1255]\tvalid_0's rmse: 33.9439\tvalid_0's l1: 25.0028\tvalid_0's l2: 1152.19\n",
      "[1256]\tvalid_0's rmse: 33.9456\tvalid_0's l1: 25.0037\tvalid_0's l2: 1152.31\n",
      "[1257]\tvalid_0's rmse: 33.9474\tvalid_0's l1: 25.0046\tvalid_0's l2: 1152.43\n",
      "[1258]\tvalid_0's rmse: 33.9462\tvalid_0's l1: 25.0031\tvalid_0's l2: 1152.35\n",
      "[1259]\tvalid_0's rmse: 33.9451\tvalid_0's l1: 25.0016\tvalid_0's l2: 1152.27\n",
      "[1260]\tvalid_0's rmse: 33.9454\tvalid_0's l1: 25.0013\tvalid_0's l2: 1152.29\n",
      "[1261]\tvalid_0's rmse: 33.9428\tvalid_0's l1: 24.998\tvalid_0's l2: 1152.11\n",
      "[1262]\tvalid_0's rmse: 33.9442\tvalid_0's l1: 24.9996\tvalid_0's l2: 1152.21\n",
      "[1263]\tvalid_0's rmse: 33.9437\tvalid_0's l1: 24.9981\tvalid_0's l2: 1152.18\n",
      "[1264]\tvalid_0's rmse: 33.9448\tvalid_0's l1: 24.9997\tvalid_0's l2: 1152.25\n",
      "[1265]\tvalid_0's rmse: 33.9423\tvalid_0's l1: 24.9986\tvalid_0's l2: 1152.08\n",
      "[1266]\tvalid_0's rmse: 33.9429\tvalid_0's l1: 24.9987\tvalid_0's l2: 1152.12\n",
      "[1267]\tvalid_0's rmse: 33.9426\tvalid_0's l1: 24.9978\tvalid_0's l2: 1152.1\n",
      "[1268]\tvalid_0's rmse: 33.9444\tvalid_0's l1: 24.9989\tvalid_0's l2: 1152.22\n",
      "[1269]\tvalid_0's rmse: 33.9426\tvalid_0's l1: 24.9974\tvalid_0's l2: 1152.1\n",
      "[1270]\tvalid_0's rmse: 33.9443\tvalid_0's l1: 24.999\tvalid_0's l2: 1152.21\n",
      "[1271]\tvalid_0's rmse: 33.9448\tvalid_0's l1: 24.9981\tvalid_0's l2: 1152.25\n",
      "[1272]\tvalid_0's rmse: 33.9445\tvalid_0's l1: 24.9966\tvalid_0's l2: 1152.23\n",
      "[1273]\tvalid_0's rmse: 33.9433\tvalid_0's l1: 24.9947\tvalid_0's l2: 1152.15\n",
      "[1274]\tvalid_0's rmse: 33.9433\tvalid_0's l1: 24.9927\tvalid_0's l2: 1152.15\n",
      "[1275]\tvalid_0's rmse: 33.9416\tvalid_0's l1: 24.9909\tvalid_0's l2: 1152.04\n",
      "[1276]\tvalid_0's rmse: 33.9419\tvalid_0's l1: 24.9895\tvalid_0's l2: 1152.05\n",
      "[1277]\tvalid_0's rmse: 33.9387\tvalid_0's l1: 24.9872\tvalid_0's l2: 1151.84\n",
      "[1278]\tvalid_0's rmse: 33.9365\tvalid_0's l1: 24.9846\tvalid_0's l2: 1151.69\n",
      "[1279]\tvalid_0's rmse: 33.936\tvalid_0's l1: 24.9833\tvalid_0's l2: 1151.65\n",
      "[1280]\tvalid_0's rmse: 33.9346\tvalid_0's l1: 24.9819\tvalid_0's l2: 1151.56\n",
      "[1281]\tvalid_0's rmse: 33.9334\tvalid_0's l1: 24.9808\tvalid_0's l2: 1151.47\n",
      "[1282]\tvalid_0's rmse: 33.9322\tvalid_0's l1: 24.9793\tvalid_0's l2: 1151.39\n",
      "[1283]\tvalid_0's rmse: 33.931\tvalid_0's l1: 24.9782\tvalid_0's l2: 1151.31\n",
      "[1284]\tvalid_0's rmse: 33.9296\tvalid_0's l1: 24.977\tvalid_0's l2: 1151.22\n",
      "[1285]\tvalid_0's rmse: 33.9287\tvalid_0's l1: 24.9761\tvalid_0's l2: 1151.16\n",
      "[1286]\tvalid_0's rmse: 33.9257\tvalid_0's l1: 24.974\tvalid_0's l2: 1150.95\n",
      "[1287]\tvalid_0's rmse: 33.9229\tvalid_0's l1: 24.9717\tvalid_0's l2: 1150.76\n",
      "[1288]\tvalid_0's rmse: 33.9215\tvalid_0's l1: 24.9711\tvalid_0's l2: 1150.67\n",
      "[1289]\tvalid_0's rmse: 33.921\tvalid_0's l1: 24.9715\tvalid_0's l2: 1150.64\n",
      "[1290]\tvalid_0's rmse: 33.9202\tvalid_0's l1: 24.9715\tvalid_0's l2: 1150.58\n",
      "[1291]\tvalid_0's rmse: 33.9191\tvalid_0's l1: 24.9711\tvalid_0's l2: 1150.5\n",
      "[1292]\tvalid_0's rmse: 33.9179\tvalid_0's l1: 24.9708\tvalid_0's l2: 1150.43\n",
      "[1293]\tvalid_0's rmse: 33.9165\tvalid_0's l1: 24.97\tvalid_0's l2: 1150.33\n",
      "[1294]\tvalid_0's rmse: 33.9174\tvalid_0's l1: 24.9705\tvalid_0's l2: 1150.39\n",
      "[1295]\tvalid_0's rmse: 33.9177\tvalid_0's l1: 24.9697\tvalid_0's l2: 1150.41\n",
      "[1296]\tvalid_0's rmse: 33.9164\tvalid_0's l1: 24.969\tvalid_0's l2: 1150.32\n",
      "[1297]\tvalid_0's rmse: 33.9161\tvalid_0's l1: 24.9684\tvalid_0's l2: 1150.3\n",
      "[1298]\tvalid_0's rmse: 33.9156\tvalid_0's l1: 24.9687\tvalid_0's l2: 1150.27\n",
      "[1299]\tvalid_0's rmse: 33.9151\tvalid_0's l1: 24.9688\tvalid_0's l2: 1150.23\n",
      "[1300]\tvalid_0's rmse: 33.9141\tvalid_0's l1: 24.9681\tvalid_0's l2: 1150.17\n",
      "[1301]\tvalid_0's rmse: 33.9104\tvalid_0's l1: 24.9662\tvalid_0's l2: 1149.92\n",
      "[1302]\tvalid_0's rmse: 33.9086\tvalid_0's l1: 24.9645\tvalid_0's l2: 1149.79\n",
      "[1303]\tvalid_0's rmse: 33.9059\tvalid_0's l1: 24.9628\tvalid_0's l2: 1149.61\n",
      "[1304]\tvalid_0's rmse: 33.9044\tvalid_0's l1: 24.9631\tvalid_0's l2: 1149.51\n",
      "[1305]\tvalid_0's rmse: 33.9014\tvalid_0's l1: 24.9614\tvalid_0's l2: 1149.31\n",
      "[1306]\tvalid_0's rmse: 33.8984\tvalid_0's l1: 24.9604\tvalid_0's l2: 1149.1\n",
      "[1307]\tvalid_0's rmse: 33.8973\tvalid_0's l1: 24.9608\tvalid_0's l2: 1149.02\n",
      "[1308]\tvalid_0's rmse: 33.8956\tvalid_0's l1: 24.9601\tvalid_0's l2: 1148.91\n",
      "[1309]\tvalid_0's rmse: 33.8954\tvalid_0's l1: 24.9609\tvalid_0's l2: 1148.9\n",
      "[1310]\tvalid_0's rmse: 33.8937\tvalid_0's l1: 24.9609\tvalid_0's l2: 1148.78\n",
      "[1311]\tvalid_0's rmse: 33.8944\tvalid_0's l1: 24.9621\tvalid_0's l2: 1148.83\n",
      "[1312]\tvalid_0's rmse: 33.8962\tvalid_0's l1: 24.9628\tvalid_0's l2: 1148.95\n",
      "[1313]\tvalid_0's rmse: 33.8987\tvalid_0's l1: 24.9659\tvalid_0's l2: 1149.12\n",
      "[1314]\tvalid_0's rmse: 33.901\tvalid_0's l1: 24.9691\tvalid_0's l2: 1149.28\n",
      "[1315]\tvalid_0's rmse: 33.9007\tvalid_0's l1: 24.97\tvalid_0's l2: 1149.26\n",
      "[1316]\tvalid_0's rmse: 33.901\tvalid_0's l1: 24.9689\tvalid_0's l2: 1149.28\n",
      "[1317]\tvalid_0's rmse: 33.9034\tvalid_0's l1: 24.972\tvalid_0's l2: 1149.44\n",
      "[1318]\tvalid_0's rmse: 33.9057\tvalid_0's l1: 24.973\tvalid_0's l2: 1149.6\n",
      "[1319]\tvalid_0's rmse: 33.9071\tvalid_0's l1: 24.9734\tvalid_0's l2: 1149.69\n",
      "[1320]\tvalid_0's rmse: 33.9102\tvalid_0's l1: 24.9763\tvalid_0's l2: 1149.9\n",
      "[1321]\tvalid_0's rmse: 33.9131\tvalid_0's l1: 24.9776\tvalid_0's l2: 1150.1\n",
      "[1322]\tvalid_0's rmse: 33.9156\tvalid_0's l1: 24.9788\tvalid_0's l2: 1150.26\n",
      "[1323]\tvalid_0's rmse: 33.9178\tvalid_0's l1: 24.9796\tvalid_0's l2: 1150.42\n",
      "[1324]\tvalid_0's rmse: 33.9164\tvalid_0's l1: 24.9801\tvalid_0's l2: 1150.33\n",
      "[1325]\tvalid_0's rmse: 33.9194\tvalid_0's l1: 24.9814\tvalid_0's l2: 1150.53\n",
      "[1326]\tvalid_0's rmse: 33.9179\tvalid_0's l1: 24.9816\tvalid_0's l2: 1150.43\n",
      "[1327]\tvalid_0's rmse: 33.9211\tvalid_0's l1: 24.9825\tvalid_0's l2: 1150.64\n",
      "[1328]\tvalid_0's rmse: 33.9224\tvalid_0's l1: 24.9832\tvalid_0's l2: 1150.73\n",
      "[1329]\tvalid_0's rmse: 33.9244\tvalid_0's l1: 24.9851\tvalid_0's l2: 1150.86\n",
      "[1330]\tvalid_0's rmse: 33.9267\tvalid_0's l1: 24.986\tvalid_0's l2: 1151.02\n",
      "[1331]\tvalid_0's rmse: 33.9258\tvalid_0's l1: 24.9832\tvalid_0's l2: 1150.96\n",
      "[1332]\tvalid_0's rmse: 33.9278\tvalid_0's l1: 24.984\tvalid_0's l2: 1151.09\n",
      "[1333]\tvalid_0's rmse: 33.9315\tvalid_0's l1: 24.9857\tvalid_0's l2: 1151.35\n",
      "[1334]\tvalid_0's rmse: 33.9338\tvalid_0's l1: 24.9865\tvalid_0's l2: 1151.5\n",
      "[1335]\tvalid_0's rmse: 33.9355\tvalid_0's l1: 24.9862\tvalid_0's l2: 1151.62\n",
      "[1336]\tvalid_0's rmse: 33.9358\tvalid_0's l1: 24.9849\tvalid_0's l2: 1151.64\n",
      "[1337]\tvalid_0's rmse: 33.9379\tvalid_0's l1: 24.9857\tvalid_0's l2: 1151.78\n",
      "[1338]\tvalid_0's rmse: 33.9393\tvalid_0's l1: 24.9848\tvalid_0's l2: 1151.88\n",
      "[1339]\tvalid_0's rmse: 33.9406\tvalid_0's l1: 24.9842\tvalid_0's l2: 1151.96\n",
      "[1340]\tvalid_0's rmse: 33.9419\tvalid_0's l1: 24.9832\tvalid_0's l2: 1152.05\n",
      "[1341]\tvalid_0's rmse: 33.9393\tvalid_0's l1: 24.9828\tvalid_0's l2: 1151.88\n",
      "[1342]\tvalid_0's rmse: 33.9373\tvalid_0's l1: 24.9832\tvalid_0's l2: 1151.74\n",
      "[1343]\tvalid_0's rmse: 33.9359\tvalid_0's l1: 24.9844\tvalid_0's l2: 1151.65\n",
      "[1344]\tvalid_0's rmse: 33.9351\tvalid_0's l1: 24.9846\tvalid_0's l2: 1151.59\n",
      "[1345]\tvalid_0's rmse: 33.9333\tvalid_0's l1: 24.9851\tvalid_0's l2: 1151.47\n",
      "[1346]\tvalid_0's rmse: 33.9315\tvalid_0's l1: 24.9857\tvalid_0's l2: 1151.35\n",
      "[1347]\tvalid_0's rmse: 33.9306\tvalid_0's l1: 24.9854\tvalid_0's l2: 1151.28\n",
      "[1348]\tvalid_0's rmse: 33.9301\tvalid_0's l1: 24.9856\tvalid_0's l2: 1151.25\n",
      "[1349]\tvalid_0's rmse: 33.9277\tvalid_0's l1: 24.9853\tvalid_0's l2: 1151.09\n"
     ]
    },
    {
     "name": "stdout",
     "output_type": "stream",
     "text": [
      "[1350]\tvalid_0's rmse: 33.9273\tvalid_0's l1: 24.9867\tvalid_0's l2: 1151.06\n",
      "[1351]\tvalid_0's rmse: 33.9259\tvalid_0's l1: 24.9855\tvalid_0's l2: 1150.97\n",
      "[1352]\tvalid_0's rmse: 33.9241\tvalid_0's l1: 24.9842\tvalid_0's l2: 1150.84\n",
      "[1353]\tvalid_0's rmse: 33.9237\tvalid_0's l1: 24.9834\tvalid_0's l2: 1150.82\n",
      "[1354]\tvalid_0's rmse: 33.9229\tvalid_0's l1: 24.9812\tvalid_0's l2: 1150.77\n",
      "[1355]\tvalid_0's rmse: 33.9222\tvalid_0's l1: 24.9811\tvalid_0's l2: 1150.72\n",
      "[1356]\tvalid_0's rmse: 33.922\tvalid_0's l1: 24.9814\tvalid_0's l2: 1150.7\n",
      "[1357]\tvalid_0's rmse: 33.9215\tvalid_0's l1: 24.9807\tvalid_0's l2: 1150.67\n",
      "[1358]\tvalid_0's rmse: 33.9217\tvalid_0's l1: 24.9818\tvalid_0's l2: 1150.68\n",
      "[1359]\tvalid_0's rmse: 33.9212\tvalid_0's l1: 24.9833\tvalid_0's l2: 1150.65\n",
      "[1360]\tvalid_0's rmse: 33.9202\tvalid_0's l1: 24.983\tvalid_0's l2: 1150.58\n",
      "[1361]\tvalid_0's rmse: 33.9203\tvalid_0's l1: 24.983\tvalid_0's l2: 1150.58\n",
      "[1362]\tvalid_0's rmse: 33.9249\tvalid_0's l1: 24.9854\tvalid_0's l2: 1150.9\n",
      "[1363]\tvalid_0's rmse: 33.93\tvalid_0's l1: 24.9882\tvalid_0's l2: 1151.25\n",
      "[1364]\tvalid_0's rmse: 33.9325\tvalid_0's l1: 24.9908\tvalid_0's l2: 1151.41\n",
      "[1365]\tvalid_0's rmse: 33.9368\tvalid_0's l1: 24.9944\tvalid_0's l2: 1151.71\n",
      "[1366]\tvalid_0's rmse: 33.9421\tvalid_0's l1: 24.9974\tvalid_0's l2: 1152.07\n",
      "[1367]\tvalid_0's rmse: 33.9421\tvalid_0's l1: 24.9972\tvalid_0's l2: 1152.07\n",
      "[1368]\tvalid_0's rmse: 33.9465\tvalid_0's l1: 25.0007\tvalid_0's l2: 1152.36\n",
      "[1369]\tvalid_0's rmse: 33.9509\tvalid_0's l1: 25.0025\tvalid_0's l2: 1152.66\n",
      "[1370]\tvalid_0's rmse: 33.951\tvalid_0's l1: 25.0025\tvalid_0's l2: 1152.67\n",
      "[1371]\tvalid_0's rmse: 33.951\tvalid_0's l1: 25.0021\tvalid_0's l2: 1152.67\n",
      "[1372]\tvalid_0's rmse: 33.95\tvalid_0's l1: 25.0009\tvalid_0's l2: 1152.6\n",
      "[1373]\tvalid_0's rmse: 33.9493\tvalid_0's l1: 25.0006\tvalid_0's l2: 1152.56\n",
      "[1374]\tvalid_0's rmse: 33.9462\tvalid_0's l1: 24.9982\tvalid_0's l2: 1152.34\n",
      "[1375]\tvalid_0's rmse: 33.9449\tvalid_0's l1: 24.9962\tvalid_0's l2: 1152.26\n",
      "[1376]\tvalid_0's rmse: 33.9445\tvalid_0's l1: 24.9957\tvalid_0's l2: 1152.23\n",
      "[1377]\tvalid_0's rmse: 33.9443\tvalid_0's l1: 24.9944\tvalid_0's l2: 1152.22\n",
      "[1378]\tvalid_0's rmse: 33.9418\tvalid_0's l1: 24.9918\tvalid_0's l2: 1152.04\n",
      "[1379]\tvalid_0's rmse: 33.9413\tvalid_0's l1: 24.99\tvalid_0's l2: 1152.01\n",
      "[1380]\tvalid_0's rmse: 33.9419\tvalid_0's l1: 24.9902\tvalid_0's l2: 1152.05\n",
      "[1381]\tvalid_0's rmse: 33.939\tvalid_0's l1: 24.9876\tvalid_0's l2: 1151.86\n",
      "[1382]\tvalid_0's rmse: 33.9365\tvalid_0's l1: 24.9856\tvalid_0's l2: 1151.69\n",
      "[1383]\tvalid_0's rmse: 33.9335\tvalid_0's l1: 24.9835\tvalid_0's l2: 1151.48\n",
      "[1384]\tvalid_0's rmse: 33.9311\tvalid_0's l1: 24.9823\tvalid_0's l2: 1151.32\n",
      "[1385]\tvalid_0's rmse: 33.9287\tvalid_0's l1: 24.9804\tvalid_0's l2: 1151.16\n",
      "[1386]\tvalid_0's rmse: 33.9267\tvalid_0's l1: 24.9789\tvalid_0's l2: 1151.02\n",
      "[1387]\tvalid_0's rmse: 33.9251\tvalid_0's l1: 24.9786\tvalid_0's l2: 1150.91\n",
      "[1388]\tvalid_0's rmse: 33.9242\tvalid_0's l1: 24.9783\tvalid_0's l2: 1150.85\n",
      "[1389]\tvalid_0's rmse: 33.9226\tvalid_0's l1: 24.9784\tvalid_0's l2: 1150.74\n",
      "[1390]\tvalid_0's rmse: 33.9214\tvalid_0's l1: 24.9773\tvalid_0's l2: 1150.66\n",
      "[1391]\tvalid_0's rmse: 33.9228\tvalid_0's l1: 24.9786\tvalid_0's l2: 1150.76\n",
      "[1392]\tvalid_0's rmse: 33.9242\tvalid_0's l1: 24.9799\tvalid_0's l2: 1150.85\n",
      "[1393]\tvalid_0's rmse: 33.926\tvalid_0's l1: 24.9794\tvalid_0's l2: 1150.98\n",
      "[1394]\tvalid_0's rmse: 33.9298\tvalid_0's l1: 24.9805\tvalid_0's l2: 1151.23\n",
      "[1395]\tvalid_0's rmse: 33.9311\tvalid_0's l1: 24.9818\tvalid_0's l2: 1151.32\n",
      "[1396]\tvalid_0's rmse: 33.9352\tvalid_0's l1: 24.984\tvalid_0's l2: 1151.6\n",
      "[1397]\tvalid_0's rmse: 33.9389\tvalid_0's l1: 24.9849\tvalid_0's l2: 1151.85\n",
      "[1398]\tvalid_0's rmse: 33.9408\tvalid_0's l1: 24.9844\tvalid_0's l2: 1151.98\n",
      "[1399]\tvalid_0's rmse: 33.9438\tvalid_0's l1: 24.9844\tvalid_0's l2: 1152.18\n",
      "[1400]\tvalid_0's rmse: 33.9476\tvalid_0's l1: 24.9852\tvalid_0's l2: 1152.44\n",
      "[1401]\tvalid_0's rmse: 33.9492\tvalid_0's l1: 24.9856\tvalid_0's l2: 1152.55\n",
      "[1402]\tvalid_0's rmse: 33.9498\tvalid_0's l1: 24.9869\tvalid_0's l2: 1152.59\n",
      "[1403]\tvalid_0's rmse: 33.9498\tvalid_0's l1: 24.9877\tvalid_0's l2: 1152.59\n",
      "[1404]\tvalid_0's rmse: 33.9503\tvalid_0's l1: 24.9893\tvalid_0's l2: 1152.62\n",
      "[1405]\tvalid_0's rmse: 33.9504\tvalid_0's l1: 24.9906\tvalid_0's l2: 1152.63\n",
      "[1406]\tvalid_0's rmse: 33.9487\tvalid_0's l1: 24.9896\tvalid_0's l2: 1152.51\n",
      "[1407]\tvalid_0's rmse: 33.9486\tvalid_0's l1: 24.9886\tvalid_0's l2: 1152.51\n",
      "[1408]\tvalid_0's rmse: 33.9493\tvalid_0's l1: 24.9893\tvalid_0's l2: 1152.55\n",
      "[1409]\tvalid_0's rmse: 33.9493\tvalid_0's l1: 24.9887\tvalid_0's l2: 1152.56\n",
      "[1410]\tvalid_0's rmse: 33.9492\tvalid_0's l1: 24.9885\tvalid_0's l2: 1152.55\n",
      "[1411]\tvalid_0's rmse: 33.9497\tvalid_0's l1: 24.9881\tvalid_0's l2: 1152.58\n",
      "[1412]\tvalid_0's rmse: 33.9503\tvalid_0's l1: 24.987\tvalid_0's l2: 1152.62\n",
      "[1413]\tvalid_0's rmse: 33.9517\tvalid_0's l1: 24.9894\tvalid_0's l2: 1152.72\n",
      "[1414]\tvalid_0's rmse: 33.9536\tvalid_0's l1: 24.9907\tvalid_0's l2: 1152.85\n",
      "[1415]\tvalid_0's rmse: 33.9553\tvalid_0's l1: 24.9921\tvalid_0's l2: 1152.96\n",
      "[1416]\tvalid_0's rmse: 33.955\tvalid_0's l1: 24.9914\tvalid_0's l2: 1152.94\n",
      "[1417]\tvalid_0's rmse: 33.9565\tvalid_0's l1: 24.9928\tvalid_0's l2: 1153.04\n",
      "[1418]\tvalid_0's rmse: 33.9584\tvalid_0's l1: 24.994\tvalid_0's l2: 1153.18\n",
      "[1419]\tvalid_0's rmse: 33.9592\tvalid_0's l1: 24.9949\tvalid_0's l2: 1153.23\n",
      "[1420]\tvalid_0's rmse: 33.9629\tvalid_0's l1: 24.9966\tvalid_0's l2: 1153.48\n",
      "[1421]\tvalid_0's rmse: 33.9623\tvalid_0's l1: 24.9956\tvalid_0's l2: 1153.44\n",
      "[1422]\tvalid_0's rmse: 33.9623\tvalid_0's l1: 24.9961\tvalid_0's l2: 1153.44\n",
      "[1423]\tvalid_0's rmse: 33.9608\tvalid_0's l1: 24.9966\tvalid_0's l2: 1153.34\n",
      "[1424]\tvalid_0's rmse: 33.9598\tvalid_0's l1: 24.9946\tvalid_0's l2: 1153.27\n",
      "[1425]\tvalid_0's rmse: 33.959\tvalid_0's l1: 24.9951\tvalid_0's l2: 1153.21\n",
      "[1426]\tvalid_0's rmse: 33.958\tvalid_0's l1: 24.9937\tvalid_0's l2: 1153.15\n",
      "[1427]\tvalid_0's rmse: 33.957\tvalid_0's l1: 24.9917\tvalid_0's l2: 1153.08\n",
      "[1428]\tvalid_0's rmse: 33.9568\tvalid_0's l1: 24.9908\tvalid_0's l2: 1153.06\n",
      "[1429]\tvalid_0's rmse: 33.9569\tvalid_0's l1: 24.9888\tvalid_0's l2: 1153.07\n",
      "[1430]\tvalid_0's rmse: 33.9561\tvalid_0's l1: 24.9893\tvalid_0's l2: 1153.02\n",
      "[1431]\tvalid_0's rmse: 33.9552\tvalid_0's l1: 24.9889\tvalid_0's l2: 1152.95\n",
      "[1432]\tvalid_0's rmse: 33.9566\tvalid_0's l1: 24.9884\tvalid_0's l2: 1153.05\n",
      "[1433]\tvalid_0's rmse: 33.9601\tvalid_0's l1: 24.9905\tvalid_0's l2: 1153.29\n",
      "[1434]\tvalid_0's rmse: 33.9627\tvalid_0's l1: 24.992\tvalid_0's l2: 1153.46\n",
      "[1435]\tvalid_0's rmse: 33.9653\tvalid_0's l1: 24.9935\tvalid_0's l2: 1153.64\n",
      "[1436]\tvalid_0's rmse: 33.9659\tvalid_0's l1: 24.9949\tvalid_0's l2: 1153.68\n",
      "[1437]\tvalid_0's rmse: 33.965\tvalid_0's l1: 24.9942\tvalid_0's l2: 1153.62\n",
      "[1438]\tvalid_0's rmse: 33.9643\tvalid_0's l1: 24.9944\tvalid_0's l2: 1153.58\n",
      "[1439]\tvalid_0's rmse: 33.9652\tvalid_0's l1: 24.994\tvalid_0's l2: 1153.64\n",
      "[1440]\tvalid_0's rmse: 33.967\tvalid_0's l1: 24.9939\tvalid_0's l2: 1153.75\n",
      "[1441]\tvalid_0's rmse: 33.9676\tvalid_0's l1: 24.994\tvalid_0's l2: 1153.8\n",
      "[1442]\tvalid_0's rmse: 33.97\tvalid_0's l1: 24.9952\tvalid_0's l2: 1153.96\n",
      "[1443]\tvalid_0's rmse: 33.9712\tvalid_0's l1: 24.9949\tvalid_0's l2: 1154.04\n",
      "[1444]\tvalid_0's rmse: 33.9738\tvalid_0's l1: 24.9966\tvalid_0's l2: 1154.22\n",
      "[1445]\tvalid_0's rmse: 33.9756\tvalid_0's l1: 24.9973\tvalid_0's l2: 1154.34\n",
      "[1446]\tvalid_0's rmse: 33.9766\tvalid_0's l1: 24.9969\tvalid_0's l2: 1154.41\n",
      "[1447]\tvalid_0's rmse: 33.9773\tvalid_0's l1: 24.997\tvalid_0's l2: 1154.45\n",
      "[1448]\tvalid_0's rmse: 33.9772\tvalid_0's l1: 24.9958\tvalid_0's l2: 1154.45\n",
      "[1449]\tvalid_0's rmse: 33.9766\tvalid_0's l1: 24.9959\tvalid_0's l2: 1154.41\n",
      "[1450]\tvalid_0's rmse: 33.9746\tvalid_0's l1: 24.9941\tvalid_0's l2: 1154.27\n",
      "[1451]\tvalid_0's rmse: 33.9747\tvalid_0's l1: 24.9938\tvalid_0's l2: 1154.28\n",
      "[1452]\tvalid_0's rmse: 33.9751\tvalid_0's l1: 24.9936\tvalid_0's l2: 1154.31\n",
      "[1453]\tvalid_0's rmse: 33.9755\tvalid_0's l1: 24.9935\tvalid_0's l2: 1154.34\n",
      "[1454]\tvalid_0's rmse: 33.9748\tvalid_0's l1: 24.9924\tvalid_0's l2: 1154.29\n",
      "[1455]\tvalid_0's rmse: 33.9747\tvalid_0's l1: 24.9911\tvalid_0's l2: 1154.28\n",
      "[1456]\tvalid_0's rmse: 33.9735\tvalid_0's l1: 24.9886\tvalid_0's l2: 1154.2\n",
      "[1457]\tvalid_0's rmse: 33.9728\tvalid_0's l1: 24.9876\tvalid_0's l2: 1154.15\n",
      "[1458]\tvalid_0's rmse: 33.9732\tvalid_0's l1: 24.9875\tvalid_0's l2: 1154.18\n",
      "[1459]\tvalid_0's rmse: 33.9722\tvalid_0's l1: 24.9866\tvalid_0's l2: 1154.11\n",
      "[1460]\tvalid_0's rmse: 33.9722\tvalid_0's l1: 24.9858\tvalid_0's l2: 1154.11\n",
      "[1461]\tvalid_0's rmse: 33.9726\tvalid_0's l1: 24.9869\tvalid_0's l2: 1154.14\n",
      "[1462]\tvalid_0's rmse: 33.9728\tvalid_0's l1: 24.9882\tvalid_0's l2: 1154.15\n",
      "[1463]\tvalid_0's rmse: 33.9724\tvalid_0's l1: 24.989\tvalid_0's l2: 1154.12\n",
      "[1464]\tvalid_0's rmse: 33.9731\tvalid_0's l1: 24.9901\tvalid_0's l2: 1154.17\n",
      "[1465]\tvalid_0's rmse: 33.9726\tvalid_0's l1: 24.9908\tvalid_0's l2: 1154.14\n",
      "[1466]\tvalid_0's rmse: 33.9724\tvalid_0's l1: 24.9908\tvalid_0's l2: 1154.12\n",
      "[1467]\tvalid_0's rmse: 33.9713\tvalid_0's l1: 24.9898\tvalid_0's l2: 1154.05\n",
      "[1468]\tvalid_0's rmse: 33.9716\tvalid_0's l1: 24.9912\tvalid_0's l2: 1154.07\n",
      "[1469]\tvalid_0's rmse: 33.9711\tvalid_0's l1: 24.9915\tvalid_0's l2: 1154.03\n",
      "[1470]\tvalid_0's rmse: 33.9721\tvalid_0's l1: 24.9928\tvalid_0's l2: 1154.1\n",
      "[1471]\tvalid_0's rmse: 33.9688\tvalid_0's l1: 24.991\tvalid_0's l2: 1153.88\n",
      "[1472]\tvalid_0's rmse: 33.9656\tvalid_0's l1: 24.9892\tvalid_0's l2: 1153.66\n",
      "[1473]\tvalid_0's rmse: 33.9632\tvalid_0's l1: 24.9876\tvalid_0's l2: 1153.5\n",
      "[1474]\tvalid_0's rmse: 33.9624\tvalid_0's l1: 24.9881\tvalid_0's l2: 1153.45\n",
      "[1475]\tvalid_0's rmse: 33.9605\tvalid_0's l1: 24.9885\tvalid_0's l2: 1153.31\n",
      "[1476]\tvalid_0's rmse: 33.957\tvalid_0's l1: 24.9867\tvalid_0's l2: 1153.08\n",
      "[1477]\tvalid_0's rmse: 33.9542\tvalid_0's l1: 24.9847\tvalid_0's l2: 1152.89\n",
      "[1478]\tvalid_0's rmse: 33.9519\tvalid_0's l1: 24.9842\tvalid_0's l2: 1152.73\n",
      "[1479]\tvalid_0's rmse: 33.9502\tvalid_0's l1: 24.9843\tvalid_0's l2: 1152.62\n",
      "[1480]\tvalid_0's rmse: 33.9493\tvalid_0's l1: 24.9849\tvalid_0's l2: 1152.55\n",
      "[1481]\tvalid_0's rmse: 33.9497\tvalid_0's l1: 24.9857\tvalid_0's l2: 1152.58\n",
      "[1482]\tvalid_0's rmse: 33.9499\tvalid_0's l1: 24.9863\tvalid_0's l2: 1152.59\n",
      "[1483]\tvalid_0's rmse: 33.95\tvalid_0's l1: 24.9868\tvalid_0's l2: 1152.6\n",
      "[1484]\tvalid_0's rmse: 33.9504\tvalid_0's l1: 24.9873\tvalid_0's l2: 1152.63\n",
      "[1485]\tvalid_0's rmse: 33.9528\tvalid_0's l1: 24.9881\tvalid_0's l2: 1152.79\n",
      "[1486]\tvalid_0's rmse: 33.9531\tvalid_0's l1: 24.9885\tvalid_0's l2: 1152.81\n",
      "[1487]\tvalid_0's rmse: 33.9533\tvalid_0's l1: 24.9894\tvalid_0's l2: 1152.82\n",
      "[1488]\tvalid_0's rmse: 33.9528\tvalid_0's l1: 24.9894\tvalid_0's l2: 1152.79\n",
      "[1489]\tvalid_0's rmse: 33.952\tvalid_0's l1: 24.9898\tvalid_0's l2: 1152.74\n",
      "[1490]\tvalid_0's rmse: 33.952\tvalid_0's l1: 24.991\tvalid_0's l2: 1152.74\n",
      "[1491]\tvalid_0's rmse: 33.9505\tvalid_0's l1: 24.9898\tvalid_0's l2: 1152.64\n",
      "[1492]\tvalid_0's rmse: 33.951\tvalid_0's l1: 24.9917\tvalid_0's l2: 1152.67\n",
      "[1493]\tvalid_0's rmse: 33.949\tvalid_0's l1: 24.9902\tvalid_0's l2: 1152.53\n",
      "[1494]\tvalid_0's rmse: 33.95\tvalid_0's l1: 24.9909\tvalid_0's l2: 1152.6\n",
      "[1495]\tvalid_0's rmse: 33.9484\tvalid_0's l1: 24.9911\tvalid_0's l2: 1152.49\n",
      "[1496]\tvalid_0's rmse: 33.9509\tvalid_0's l1: 24.9925\tvalid_0's l2: 1152.66\n",
      "[1497]\tvalid_0's rmse: 33.9489\tvalid_0's l1: 24.991\tvalid_0's l2: 1152.53\n",
      "[1498]\tvalid_0's rmse: 33.9497\tvalid_0's l1: 24.9912\tvalid_0's l2: 1152.58\n",
      "[1499]\tvalid_0's rmse: 33.9503\tvalid_0's l1: 24.993\tvalid_0's l2: 1152.62\n",
      "[1500]\tvalid_0's rmse: 33.9513\tvalid_0's l1: 24.9948\tvalid_0's l2: 1152.69\n",
      "[1501]\tvalid_0's rmse: 33.9502\tvalid_0's l1: 24.9934\tvalid_0's l2: 1152.61\n",
      "[1502]\tvalid_0's rmse: 33.9457\tvalid_0's l1: 24.991\tvalid_0's l2: 1152.31\n",
      "[1503]\tvalid_0's rmse: 33.9448\tvalid_0's l1: 24.9901\tvalid_0's l2: 1152.25\n",
      "[1504]\tvalid_0's rmse: 33.944\tvalid_0's l1: 24.9883\tvalid_0's l2: 1152.19\n",
      "[1505]\tvalid_0's rmse: 33.9438\tvalid_0's l1: 24.9889\tvalid_0's l2: 1152.18\n",
      "[1506]\tvalid_0's rmse: 33.944\tvalid_0's l1: 24.988\tvalid_0's l2: 1152.19\n",
      "[1507]\tvalid_0's rmse: 33.9442\tvalid_0's l1: 24.9876\tvalid_0's l2: 1152.21\n",
      "[1508]\tvalid_0's rmse: 33.9444\tvalid_0's l1: 24.9868\tvalid_0's l2: 1152.22\n",
      "[1509]\tvalid_0's rmse: 33.9449\tvalid_0's l1: 24.9877\tvalid_0's l2: 1152.26\n",
      "[1510]\tvalid_0's rmse: 33.9452\tvalid_0's l1: 24.9873\tvalid_0's l2: 1152.28\n",
      "[1511]\tvalid_0's rmse: 33.9433\tvalid_0's l1: 24.9859\tvalid_0's l2: 1152.15\n",
      "[1512]\tvalid_0's rmse: 33.9442\tvalid_0's l1: 24.9862\tvalid_0's l2: 1152.21\n",
      "[1513]\tvalid_0's rmse: 33.9424\tvalid_0's l1: 24.9849\tvalid_0's l2: 1152.09\n",
      "[1514]\tvalid_0's rmse: 33.9417\tvalid_0's l1: 24.9844\tvalid_0's l2: 1152.04\n",
      "[1515]\tvalid_0's rmse: 33.9405\tvalid_0's l1: 24.9839\tvalid_0's l2: 1151.96\n",
      "[1516]\tvalid_0's rmse: 33.9385\tvalid_0's l1: 24.9826\tvalid_0's l2: 1151.82\n",
      "[1517]\tvalid_0's rmse: 33.9371\tvalid_0's l1: 24.9806\tvalid_0's l2: 1151.72\n",
      "[1518]\tvalid_0's rmse: 33.9357\tvalid_0's l1: 24.9796\tvalid_0's l2: 1151.63\n",
      "[1519]\tvalid_0's rmse: 33.935\tvalid_0's l1: 24.9786\tvalid_0's l2: 1151.58\n",
      "[1520]\tvalid_0's rmse: 33.937\tvalid_0's l1: 24.9781\tvalid_0's l2: 1151.72\n",
      "[1521]\tvalid_0's rmse: 33.9365\tvalid_0's l1: 24.9786\tvalid_0's l2: 1151.68\n",
      "[1522]\tvalid_0's rmse: 33.9363\tvalid_0's l1: 24.9796\tvalid_0's l2: 1151.67\n"
     ]
    },
    {
     "name": "stdout",
     "output_type": "stream",
     "text": [
      "[1523]\tvalid_0's rmse: 33.9334\tvalid_0's l1: 24.9788\tvalid_0's l2: 1151.48\n",
      "[1524]\tvalid_0's rmse: 33.9323\tvalid_0's l1: 24.9777\tvalid_0's l2: 1151.4\n",
      "[1525]\tvalid_0's rmse: 33.9313\tvalid_0's l1: 24.9778\tvalid_0's l2: 1151.33\n",
      "[1526]\tvalid_0's rmse: 33.9282\tvalid_0's l1: 24.9775\tvalid_0's l2: 1151.12\n",
      "[1527]\tvalid_0's rmse: 33.9237\tvalid_0's l1: 24.9754\tvalid_0's l2: 1150.82\n",
      "[1528]\tvalid_0's rmse: 33.9232\tvalid_0's l1: 24.9765\tvalid_0's l2: 1150.78\n",
      "[1529]\tvalid_0's rmse: 33.9203\tvalid_0's l1: 24.9756\tvalid_0's l2: 1150.59\n",
      "[1530]\tvalid_0's rmse: 33.9193\tvalid_0's l1: 24.9749\tvalid_0's l2: 1150.52\n",
      "[1531]\tvalid_0's rmse: 33.9179\tvalid_0's l1: 24.9756\tvalid_0's l2: 1150.42\n",
      "[1532]\tvalid_0's rmse: 33.9175\tvalid_0's l1: 24.9763\tvalid_0's l2: 1150.4\n",
      "[1533]\tvalid_0's rmse: 33.9172\tvalid_0's l1: 24.9772\tvalid_0's l2: 1150.37\n",
      "[1534]\tvalid_0's rmse: 33.9163\tvalid_0's l1: 24.9782\tvalid_0's l2: 1150.32\n",
      "[1535]\tvalid_0's rmse: 33.9151\tvalid_0's l1: 24.9792\tvalid_0's l2: 1150.23\n",
      "[1536]\tvalid_0's rmse: 33.9138\tvalid_0's l1: 24.9796\tvalid_0's l2: 1150.15\n",
      "[1537]\tvalid_0's rmse: 33.9131\tvalid_0's l1: 24.9811\tvalid_0's l2: 1150.1\n",
      "[1538]\tvalid_0's rmse: 33.9121\tvalid_0's l1: 24.9817\tvalid_0's l2: 1150.03\n",
      "[1539]\tvalid_0's rmse: 33.9122\tvalid_0's l1: 24.9824\tvalid_0's l2: 1150.04\n",
      "[1540]\tvalid_0's rmse: 33.9125\tvalid_0's l1: 24.9846\tvalid_0's l2: 1150.06\n",
      "[1541]\tvalid_0's rmse: 33.9123\tvalid_0's l1: 24.9843\tvalid_0's l2: 1150.04\n",
      "[1542]\tvalid_0's rmse: 33.9125\tvalid_0's l1: 24.9843\tvalid_0's l2: 1150.06\n",
      "[1543]\tvalid_0's rmse: 33.9129\tvalid_0's l1: 24.9842\tvalid_0's l2: 1150.09\n",
      "[1544]\tvalid_0's rmse: 33.9116\tvalid_0's l1: 24.9823\tvalid_0's l2: 1150\n",
      "[1545]\tvalid_0's rmse: 33.9112\tvalid_0's l1: 24.9833\tvalid_0's l2: 1149.97\n",
      "[1546]\tvalid_0's rmse: 33.9114\tvalid_0's l1: 24.9832\tvalid_0's l2: 1149.98\n",
      "[1547]\tvalid_0's rmse: 33.9109\tvalid_0's l1: 24.9825\tvalid_0's l2: 1149.95\n",
      "[1548]\tvalid_0's rmse: 33.9101\tvalid_0's l1: 24.9811\tvalid_0's l2: 1149.9\n",
      "[1549]\tvalid_0's rmse: 33.9091\tvalid_0's l1: 24.9802\tvalid_0's l2: 1149.83\n",
      "[1550]\tvalid_0's rmse: 33.9084\tvalid_0's l1: 24.9784\tvalid_0's l2: 1149.78\n",
      "[1551]\tvalid_0's rmse: 33.9078\tvalid_0's l1: 24.9779\tvalid_0's l2: 1149.74\n",
      "[1552]\tvalid_0's rmse: 33.9089\tvalid_0's l1: 24.9777\tvalid_0's l2: 1149.81\n",
      "[1553]\tvalid_0's rmse: 33.9086\tvalid_0's l1: 24.9774\tvalid_0's l2: 1149.79\n",
      "[1554]\tvalid_0's rmse: 33.9079\tvalid_0's l1: 24.9775\tvalid_0's l2: 1149.74\n",
      "[1555]\tvalid_0's rmse: 33.908\tvalid_0's l1: 24.9777\tvalid_0's l2: 1149.75\n",
      "[1556]\tvalid_0's rmse: 33.9065\tvalid_0's l1: 24.9775\tvalid_0's l2: 1149.65\n",
      "[1557]\tvalid_0's rmse: 33.9048\tvalid_0's l1: 24.9772\tvalid_0's l2: 1149.54\n",
      "[1558]\tvalid_0's rmse: 33.9026\tvalid_0's l1: 24.976\tvalid_0's l2: 1149.39\n",
      "[1559]\tvalid_0's rmse: 33.9014\tvalid_0's l1: 24.9758\tvalid_0's l2: 1149.3\n",
      "[1560]\tvalid_0's rmse: 33.9037\tvalid_0's l1: 24.9762\tvalid_0's l2: 1149.46\n",
      "[1561]\tvalid_0's rmse: 33.9022\tvalid_0's l1: 24.9766\tvalid_0's l2: 1149.36\n",
      "[1562]\tvalid_0's rmse: 33.9002\tvalid_0's l1: 24.9745\tvalid_0's l2: 1149.22\n",
      "[1563]\tvalid_0's rmse: 33.8985\tvalid_0's l1: 24.9732\tvalid_0's l2: 1149.11\n",
      "[1564]\tvalid_0's rmse: 33.8991\tvalid_0's l1: 24.9725\tvalid_0's l2: 1149.15\n",
      "[1565]\tvalid_0's rmse: 33.8991\tvalid_0's l1: 24.9727\tvalid_0's l2: 1149.15\n",
      "[1566]\tvalid_0's rmse: 33.9003\tvalid_0's l1: 24.9725\tvalid_0's l2: 1149.23\n",
      "[1567]\tvalid_0's rmse: 33.8984\tvalid_0's l1: 24.9704\tvalid_0's l2: 1149.1\n",
      "[1568]\tvalid_0's rmse: 33.899\tvalid_0's l1: 24.9699\tvalid_0's l2: 1149.14\n",
      "[1569]\tvalid_0's rmse: 33.9028\tvalid_0's l1: 24.973\tvalid_0's l2: 1149.4\n",
      "[1570]\tvalid_0's rmse: 33.9034\tvalid_0's l1: 24.9731\tvalid_0's l2: 1149.44\n",
      "[1571]\tvalid_0's rmse: 33.9063\tvalid_0's l1: 24.9749\tvalid_0's l2: 1149.64\n",
      "[1572]\tvalid_0's rmse: 33.9099\tvalid_0's l1: 24.9776\tvalid_0's l2: 1149.88\n",
      "[1573]\tvalid_0's rmse: 33.9113\tvalid_0's l1: 24.9783\tvalid_0's l2: 1149.98\n",
      "[1574]\tvalid_0's rmse: 33.9133\tvalid_0's l1: 24.9791\tvalid_0's l2: 1150.11\n",
      "[1575]\tvalid_0's rmse: 33.9172\tvalid_0's l1: 24.9813\tvalid_0's l2: 1150.37\n",
      "[1576]\tvalid_0's rmse: 33.9204\tvalid_0's l1: 24.9827\tvalid_0's l2: 1150.59\n",
      "[1577]\tvalid_0's rmse: 33.9208\tvalid_0's l1: 24.9823\tvalid_0's l2: 1150.62\n",
      "[1578]\tvalid_0's rmse: 33.9225\tvalid_0's l1: 24.9821\tvalid_0's l2: 1150.74\n",
      "[1579]\tvalid_0's rmse: 33.9261\tvalid_0's l1: 24.9849\tvalid_0's l2: 1150.98\n",
      "[1580]\tvalid_0's rmse: 33.93\tvalid_0's l1: 24.9872\tvalid_0's l2: 1151.24\n",
      "[1581]\tvalid_0's rmse: 33.9319\tvalid_0's l1: 24.987\tvalid_0's l2: 1151.37\n",
      "[1582]\tvalid_0's rmse: 33.9332\tvalid_0's l1: 24.9865\tvalid_0's l2: 1151.46\n",
      "[1583]\tvalid_0's rmse: 33.935\tvalid_0's l1: 24.9866\tvalid_0's l2: 1151.59\n",
      "[1584]\tvalid_0's rmse: 33.9371\tvalid_0's l1: 24.9871\tvalid_0's l2: 1151.72\n",
      "[1585]\tvalid_0's rmse: 33.938\tvalid_0's l1: 24.9867\tvalid_0's l2: 1151.79\n",
      "[1586]\tvalid_0's rmse: 33.9401\tvalid_0's l1: 24.9875\tvalid_0's l2: 1151.93\n",
      "[1587]\tvalid_0's rmse: 33.9421\tvalid_0's l1: 24.9883\tvalid_0's l2: 1152.07\n",
      "[1588]\tvalid_0's rmse: 33.9432\tvalid_0's l1: 24.9886\tvalid_0's l2: 1152.14\n",
      "[1589]\tvalid_0's rmse: 33.9442\tvalid_0's l1: 24.989\tvalid_0's l2: 1152.21\n",
      "[1590]\tvalid_0's rmse: 33.9439\tvalid_0's l1: 24.988\tvalid_0's l2: 1152.19\n",
      "[1591]\tvalid_0's rmse: 33.9441\tvalid_0's l1: 24.9879\tvalid_0's l2: 1152.2\n",
      "[1592]\tvalid_0's rmse: 33.9442\tvalid_0's l1: 24.9874\tvalid_0's l2: 1152.21\n",
      "[1593]\tvalid_0's rmse: 33.9456\tvalid_0's l1: 24.9877\tvalid_0's l2: 1152.3\n",
      "[1594]\tvalid_0's rmse: 33.945\tvalid_0's l1: 24.9881\tvalid_0's l2: 1152.26\n",
      "[1595]\tvalid_0's rmse: 33.9441\tvalid_0's l1: 24.9872\tvalid_0's l2: 1152.2\n",
      "[1596]\tvalid_0's rmse: 33.9428\tvalid_0's l1: 24.9865\tvalid_0's l2: 1152.11\n",
      "[1597]\tvalid_0's rmse: 33.9435\tvalid_0's l1: 24.987\tvalid_0's l2: 1152.16\n",
      "[1598]\tvalid_0's rmse: 33.9444\tvalid_0's l1: 24.9864\tvalid_0's l2: 1152.22\n",
      "[1599]\tvalid_0's rmse: 33.9438\tvalid_0's l1: 24.986\tvalid_0's l2: 1152.18\n",
      "[1600]\tvalid_0's rmse: 33.9426\tvalid_0's l1: 24.986\tvalid_0's l2: 1152.1\n",
      "[1601]\tvalid_0's rmse: 33.941\tvalid_0's l1: 24.9846\tvalid_0's l2: 1151.99\n",
      "[1602]\tvalid_0's rmse: 33.9429\tvalid_0's l1: 24.9854\tvalid_0's l2: 1152.12\n",
      "[1603]\tvalid_0's rmse: 33.9427\tvalid_0's l1: 24.9848\tvalid_0's l2: 1152.11\n",
      "[1604]\tvalid_0's rmse: 33.9421\tvalid_0's l1: 24.9826\tvalid_0's l2: 1152.07\n",
      "[1605]\tvalid_0's rmse: 33.9404\tvalid_0's l1: 24.9812\tvalid_0's l2: 1151.95\n",
      "[1606]\tvalid_0's rmse: 33.9393\tvalid_0's l1: 24.9791\tvalid_0's l2: 1151.87\n",
      "[1607]\tvalid_0's rmse: 33.9366\tvalid_0's l1: 24.977\tvalid_0's l2: 1151.69\n",
      "[1608]\tvalid_0's rmse: 33.9364\tvalid_0's l1: 24.9765\tvalid_0's l2: 1151.68\n",
      "[1609]\tvalid_0's rmse: 33.9353\tvalid_0's l1: 24.9757\tvalid_0's l2: 1151.61\n",
      "[1610]\tvalid_0's rmse: 33.9346\tvalid_0's l1: 24.9733\tvalid_0's l2: 1151.56\n",
      "[1611]\tvalid_0's rmse: 33.9352\tvalid_0's l1: 24.9723\tvalid_0's l2: 1151.6\n",
      "[1612]\tvalid_0's rmse: 33.9366\tvalid_0's l1: 24.9718\tvalid_0's l2: 1151.7\n",
      "[1613]\tvalid_0's rmse: 33.9372\tvalid_0's l1: 24.972\tvalid_0's l2: 1151.73\n",
      "[1614]\tvalid_0's rmse: 33.9381\tvalid_0's l1: 24.9713\tvalid_0's l2: 1151.8\n",
      "[1615]\tvalid_0's rmse: 33.9393\tvalid_0's l1: 24.9717\tvalid_0's l2: 1151.87\n",
      "[1616]\tvalid_0's rmse: 33.9396\tvalid_0's l1: 24.9712\tvalid_0's l2: 1151.9\n",
      "[1617]\tvalid_0's rmse: 33.9385\tvalid_0's l1: 24.972\tvalid_0's l2: 1151.82\n",
      "[1618]\tvalid_0's rmse: 33.9386\tvalid_0's l1: 24.9718\tvalid_0's l2: 1151.83\n",
      "[1619]\tvalid_0's rmse: 33.9391\tvalid_0's l1: 24.9713\tvalid_0's l2: 1151.86\n",
      "[1620]\tvalid_0's rmse: 33.9398\tvalid_0's l1: 24.9706\tvalid_0's l2: 1151.91\n",
      "[1621]\tvalid_0's rmse: 33.9384\tvalid_0's l1: 24.9695\tvalid_0's l2: 1151.81\n",
      "[1622]\tvalid_0's rmse: 33.9381\tvalid_0's l1: 24.9693\tvalid_0's l2: 1151.79\n",
      "[1623]\tvalid_0's rmse: 33.9366\tvalid_0's l1: 24.9678\tvalid_0's l2: 1151.69\n",
      "[1624]\tvalid_0's rmse: 33.9353\tvalid_0's l1: 24.9665\tvalid_0's l2: 1151.6\n",
      "[1625]\tvalid_0's rmse: 33.9334\tvalid_0's l1: 24.9653\tvalid_0's l2: 1151.47\n",
      "[1626]\tvalid_0's rmse: 33.9321\tvalid_0's l1: 24.9647\tvalid_0's l2: 1151.38\n",
      "[1627]\tvalid_0's rmse: 33.9315\tvalid_0's l1: 24.9635\tvalid_0's l2: 1151.35\n",
      "[1628]\tvalid_0's rmse: 33.9313\tvalid_0's l1: 24.9635\tvalid_0's l2: 1151.33\n",
      "[1629]\tvalid_0's rmse: 33.9304\tvalid_0's l1: 24.9623\tvalid_0's l2: 1151.27\n",
      "[1630]\tvalid_0's rmse: 33.9292\tvalid_0's l1: 24.9623\tvalid_0's l2: 1151.19\n",
      "[1631]\tvalid_0's rmse: 33.9307\tvalid_0's l1: 24.962\tvalid_0's l2: 1151.29\n",
      "[1632]\tvalid_0's rmse: 33.9323\tvalid_0's l1: 24.9616\tvalid_0's l2: 1151.4\n",
      "[1633]\tvalid_0's rmse: 33.9329\tvalid_0's l1: 24.964\tvalid_0's l2: 1151.44\n",
      "[1634]\tvalid_0's rmse: 33.9304\tvalid_0's l1: 24.9627\tvalid_0's l2: 1151.27\n",
      "[1635]\tvalid_0's rmse: 33.932\tvalid_0's l1: 24.9624\tvalid_0's l2: 1151.38\n",
      "[1636]\tvalid_0's rmse: 33.9305\tvalid_0's l1: 24.9617\tvalid_0's l2: 1151.28\n",
      "[1637]\tvalid_0's rmse: 33.9298\tvalid_0's l1: 24.961\tvalid_0's l2: 1151.23\n",
      "[1638]\tvalid_0's rmse: 33.9293\tvalid_0's l1: 24.9606\tvalid_0's l2: 1151.19\n",
      "[1639]\tvalid_0's rmse: 33.9279\tvalid_0's l1: 24.9606\tvalid_0's l2: 1151.1\n",
      "[1640]\tvalid_0's rmse: 33.9271\tvalid_0's l1: 24.9599\tvalid_0's l2: 1151.05\n",
      "[1641]\tvalid_0's rmse: 33.9268\tvalid_0's l1: 24.9585\tvalid_0's l2: 1151.03\n",
      "[1642]\tvalid_0's rmse: 33.9264\tvalid_0's l1: 24.9576\tvalid_0's l2: 1151\n",
      "[1643]\tvalid_0's rmse: 33.9252\tvalid_0's l1: 24.9552\tvalid_0's l2: 1150.92\n",
      "[1644]\tvalid_0's rmse: 33.9254\tvalid_0's l1: 24.9549\tvalid_0's l2: 1150.93\n",
      "[1645]\tvalid_0's rmse: 33.9255\tvalid_0's l1: 24.9539\tvalid_0's l2: 1150.94\n",
      "[1646]\tvalid_0's rmse: 33.9255\tvalid_0's l1: 24.9529\tvalid_0's l2: 1150.94\n",
      "[1647]\tvalid_0's rmse: 33.9243\tvalid_0's l1: 24.9504\tvalid_0's l2: 1150.86\n",
      "[1648]\tvalid_0's rmse: 33.9244\tvalid_0's l1: 24.9496\tvalid_0's l2: 1150.87\n",
      "[1649]\tvalid_0's rmse: 33.9229\tvalid_0's l1: 24.9478\tvalid_0's l2: 1150.77\n",
      "[1650]\tvalid_0's rmse: 33.9214\tvalid_0's l1: 24.9469\tvalid_0's l2: 1150.66\n",
      "[1651]\tvalid_0's rmse: 33.9228\tvalid_0's l1: 24.9473\tvalid_0's l2: 1150.75\n",
      "[1652]\tvalid_0's rmse: 33.921\tvalid_0's l1: 24.9463\tvalid_0's l2: 1150.63\n",
      "[1653]\tvalid_0's rmse: 33.9193\tvalid_0's l1: 24.9453\tvalid_0's l2: 1150.52\n",
      "[1654]\tvalid_0's rmse: 33.917\tvalid_0's l1: 24.9447\tvalid_0's l2: 1150.36\n",
      "[1655]\tvalid_0's rmse: 33.9185\tvalid_0's l1: 24.9449\tvalid_0's l2: 1150.47\n",
      "[1656]\tvalid_0's rmse: 33.9169\tvalid_0's l1: 24.9441\tvalid_0's l2: 1150.36\n",
      "[1657]\tvalid_0's rmse: 33.9194\tvalid_0's l1: 24.9464\tvalid_0's l2: 1150.53\n",
      "[1658]\tvalid_0's rmse: 33.9175\tvalid_0's l1: 24.9453\tvalid_0's l2: 1150.4\n",
      "[1659]\tvalid_0's rmse: 33.9191\tvalid_0's l1: 24.9455\tvalid_0's l2: 1150.51\n",
      "[1660]\tvalid_0's rmse: 33.9174\tvalid_0's l1: 24.9442\tvalid_0's l2: 1150.39\n",
      "[1661]\tvalid_0's rmse: 33.9173\tvalid_0's l1: 24.9445\tvalid_0's l2: 1150.38\n",
      "[1662]\tvalid_0's rmse: 33.9169\tvalid_0's l1: 24.9449\tvalid_0's l2: 1150.36\n",
      "[1663]\tvalid_0's rmse: 33.9163\tvalid_0's l1: 24.9455\tvalid_0's l2: 1150.31\n",
      "[1664]\tvalid_0's rmse: 33.9154\tvalid_0's l1: 24.9459\tvalid_0's l2: 1150.25\n",
      "[1665]\tvalid_0's rmse: 33.9151\tvalid_0's l1: 24.945\tvalid_0's l2: 1150.23\n",
      "[1666]\tvalid_0's rmse: 33.9142\tvalid_0's l1: 24.9453\tvalid_0's l2: 1150.17\n",
      "[1667]\tvalid_0's rmse: 33.917\tvalid_0's l1: 24.9466\tvalid_0's l2: 1150.36\n",
      "[1668]\tvalid_0's rmse: 33.9157\tvalid_0's l1: 24.9469\tvalid_0's l2: 1150.28\n",
      "[1669]\tvalid_0's rmse: 33.9185\tvalid_0's l1: 24.9482\tvalid_0's l2: 1150.47\n",
      "[1670]\tvalid_0's rmse: 33.9167\tvalid_0's l1: 24.9482\tvalid_0's l2: 1150.34\n",
      "[1671]\tvalid_0's rmse: 33.9144\tvalid_0's l1: 24.9482\tvalid_0's l2: 1150.19\n",
      "[1672]\tvalid_0's rmse: 33.9127\tvalid_0's l1: 24.9487\tvalid_0's l2: 1150.07\n",
      "[1673]\tvalid_0's rmse: 33.9102\tvalid_0's l1: 24.9481\tvalid_0's l2: 1149.9\n",
      "[1674]\tvalid_0's rmse: 33.9091\tvalid_0's l1: 24.9491\tvalid_0's l2: 1149.83\n",
      "[1675]\tvalid_0's rmse: 33.9085\tvalid_0's l1: 24.9503\tvalid_0's l2: 1149.79\n",
      "[1676]\tvalid_0's rmse: 33.9067\tvalid_0's l1: 24.9504\tvalid_0's l2: 1149.66\n",
      "[1677]\tvalid_0's rmse: 33.9062\tvalid_0's l1: 24.9519\tvalid_0's l2: 1149.63\n",
      "[1678]\tvalid_0's rmse: 33.9042\tvalid_0's l1: 24.9514\tvalid_0's l2: 1149.49\n",
      "[1679]\tvalid_0's rmse: 33.9025\tvalid_0's l1: 24.9512\tvalid_0's l2: 1149.38\n",
      "[1680]\tvalid_0's rmse: 33.9016\tvalid_0's l1: 24.9523\tvalid_0's l2: 1149.32\n",
      "[1681]\tvalid_0's rmse: 33.9016\tvalid_0's l1: 24.953\tvalid_0's l2: 1149.32\n",
      "[1682]\tvalid_0's rmse: 33.9012\tvalid_0's l1: 24.9533\tvalid_0's l2: 1149.29\n",
      "[1683]\tvalid_0's rmse: 33.9012\tvalid_0's l1: 24.9542\tvalid_0's l2: 1149.29\n",
      "[1684]\tvalid_0's rmse: 33.8997\tvalid_0's l1: 24.953\tvalid_0's l2: 1149.19\n",
      "[1685]\tvalid_0's rmse: 33.9008\tvalid_0's l1: 24.9545\tvalid_0's l2: 1149.26\n",
      "[1686]\tvalid_0's rmse: 33.903\tvalid_0's l1: 24.9564\tvalid_0's l2: 1149.41\n",
      "[1687]\tvalid_0's rmse: 33.9019\tvalid_0's l1: 24.9564\tvalid_0's l2: 1149.34\n",
      "[1688]\tvalid_0's rmse: 33.9024\tvalid_0's l1: 24.9569\tvalid_0's l2: 1149.38\n",
      "[1689]\tvalid_0's rmse: 33.9014\tvalid_0's l1: 24.9572\tvalid_0's l2: 1149.3\n"
     ]
    },
    {
     "name": "stdout",
     "output_type": "stream",
     "text": [
      "[1690]\tvalid_0's rmse: 33.9035\tvalid_0's l1: 24.9579\tvalid_0's l2: 1149.45\n",
      "[1691]\tvalid_0's rmse: 33.9019\tvalid_0's l1: 24.9573\tvalid_0's l2: 1149.34\n",
      "[1692]\tvalid_0's rmse: 33.898\tvalid_0's l1: 24.9542\tvalid_0's l2: 1149.08\n",
      "[1693]\tvalid_0's rmse: 33.8972\tvalid_0's l1: 24.954\tvalid_0's l2: 1149.02\n",
      "[1694]\tvalid_0's rmse: 33.8958\tvalid_0's l1: 24.9519\tvalid_0's l2: 1148.93\n",
      "[1695]\tvalid_0's rmse: 33.8974\tvalid_0's l1: 24.953\tvalid_0's l2: 1149.03\n",
      "[1696]\tvalid_0's rmse: 33.8989\tvalid_0's l1: 24.9542\tvalid_0's l2: 1149.13\n",
      "[1697]\tvalid_0's rmse: 33.8968\tvalid_0's l1: 24.9532\tvalid_0's l2: 1148.99\n",
      "[1698]\tvalid_0's rmse: 33.897\tvalid_0's l1: 24.9538\tvalid_0's l2: 1149.01\n",
      "[1699]\tvalid_0's rmse: 33.8933\tvalid_0's l1: 24.9507\tvalid_0's l2: 1148.76\n",
      "[1700]\tvalid_0's rmse: 33.8961\tvalid_0's l1: 24.9537\tvalid_0's l2: 1148.94\n",
      "[1701]\tvalid_0's rmse: 33.8944\tvalid_0's l1: 24.9514\tvalid_0's l2: 1148.83\n",
      "[1702]\tvalid_0's rmse: 33.8938\tvalid_0's l1: 24.9513\tvalid_0's l2: 1148.79\n",
      "[1703]\tvalid_0's rmse: 33.8914\tvalid_0's l1: 24.9481\tvalid_0's l2: 1148.63\n",
      "[1704]\tvalid_0's rmse: 33.8925\tvalid_0's l1: 24.9486\tvalid_0's l2: 1148.7\n",
      "[1705]\tvalid_0's rmse: 33.8901\tvalid_0's l1: 24.9455\tvalid_0's l2: 1148.54\n",
      "[1706]\tvalid_0's rmse: 33.8882\tvalid_0's l1: 24.9434\tvalid_0's l2: 1148.41\n",
      "[1707]\tvalid_0's rmse: 33.8874\tvalid_0's l1: 24.9435\tvalid_0's l2: 1148.36\n",
      "[1708]\tvalid_0's rmse: 33.8873\tvalid_0's l1: 24.944\tvalid_0's l2: 1148.35\n",
      "[1709]\tvalid_0's rmse: 33.8884\tvalid_0's l1: 24.9449\tvalid_0's l2: 1148.43\n",
      "[1710]\tvalid_0's rmse: 33.8894\tvalid_0's l1: 24.9455\tvalid_0's l2: 1148.49\n",
      "[1711]\tvalid_0's rmse: 33.8917\tvalid_0's l1: 24.9467\tvalid_0's l2: 1148.65\n",
      "[1712]\tvalid_0's rmse: 33.8925\tvalid_0's l1: 24.9468\tvalid_0's l2: 1148.7\n",
      "[1713]\tvalid_0's rmse: 33.8932\tvalid_0's l1: 24.946\tvalid_0's l2: 1148.75\n",
      "[1714]\tvalid_0's rmse: 33.8953\tvalid_0's l1: 24.9464\tvalid_0's l2: 1148.89\n",
      "[1715]\tvalid_0's rmse: 33.8966\tvalid_0's l1: 24.9457\tvalid_0's l2: 1148.98\n",
      "[1716]\tvalid_0's rmse: 33.8998\tvalid_0's l1: 24.9476\tvalid_0's l2: 1149.2\n",
      "[1717]\tvalid_0's rmse: 33.8997\tvalid_0's l1: 24.9471\tvalid_0's l2: 1149.19\n",
      "[1718]\tvalid_0's rmse: 33.9011\tvalid_0's l1: 24.9474\tvalid_0's l2: 1149.28\n",
      "[1719]\tvalid_0's rmse: 33.9036\tvalid_0's l1: 24.9472\tvalid_0's l2: 1149.46\n",
      "[1720]\tvalid_0's rmse: 33.9046\tvalid_0's l1: 24.9469\tvalid_0's l2: 1149.52\n",
      "[1721]\tvalid_0's rmse: 33.9051\tvalid_0's l1: 24.9473\tvalid_0's l2: 1149.56\n",
      "[1722]\tvalid_0's rmse: 33.9057\tvalid_0's l1: 24.9477\tvalid_0's l2: 1149.59\n",
      "[1723]\tvalid_0's rmse: 33.9073\tvalid_0's l1: 24.949\tvalid_0's l2: 1149.71\n",
      "[1724]\tvalid_0's rmse: 33.908\tvalid_0's l1: 24.95\tvalid_0's l2: 1149.75\n",
      "[1725]\tvalid_0's rmse: 33.9088\tvalid_0's l1: 24.9498\tvalid_0's l2: 1149.81\n",
      "[1726]\tvalid_0's rmse: 33.9095\tvalid_0's l1: 24.951\tvalid_0's l2: 1149.85\n",
      "[1727]\tvalid_0's rmse: 33.9102\tvalid_0's l1: 24.9522\tvalid_0's l2: 1149.9\n",
      "[1728]\tvalid_0's rmse: 33.9108\tvalid_0's l1: 24.953\tvalid_0's l2: 1149.94\n",
      "[1729]\tvalid_0's rmse: 33.9112\tvalid_0's l1: 24.9533\tvalid_0's l2: 1149.97\n",
      "[1730]\tvalid_0's rmse: 33.9124\tvalid_0's l1: 24.9552\tvalid_0's l2: 1150.05\n",
      "[1731]\tvalid_0's rmse: 33.9125\tvalid_0's l1: 24.9556\tvalid_0's l2: 1150.05\n",
      "[1732]\tvalid_0's rmse: 33.9141\tvalid_0's l1: 24.9572\tvalid_0's l2: 1150.17\n",
      "[1733]\tvalid_0's rmse: 33.9131\tvalid_0's l1: 24.9569\tvalid_0's l2: 1150.1\n",
      "[1734]\tvalid_0's rmse: 33.9123\tvalid_0's l1: 24.9568\tvalid_0's l2: 1150.04\n",
      "[1735]\tvalid_0's rmse: 33.9118\tvalid_0's l1: 24.9568\tvalid_0's l2: 1150.01\n",
      "[1736]\tvalid_0's rmse: 33.9148\tvalid_0's l1: 24.9592\tvalid_0's l2: 1150.21\n",
      "[1737]\tvalid_0's rmse: 33.9159\tvalid_0's l1: 24.9609\tvalid_0's l2: 1150.29\n",
      "[1738]\tvalid_0's rmse: 33.9167\tvalid_0's l1: 24.9614\tvalid_0's l2: 1150.35\n",
      "[1739]\tvalid_0's rmse: 33.9176\tvalid_0's l1: 24.9615\tvalid_0's l2: 1150.4\n",
      "[1740]\tvalid_0's rmse: 33.9169\tvalid_0's l1: 24.9612\tvalid_0's l2: 1150.36\n",
      "[1741]\tvalid_0's rmse: 33.9172\tvalid_0's l1: 24.9622\tvalid_0's l2: 1150.37\n",
      "[1742]\tvalid_0's rmse: 33.9172\tvalid_0's l1: 24.9622\tvalid_0's l2: 1150.37\n",
      "[1743]\tvalid_0's rmse: 33.9181\tvalid_0's l1: 24.9634\tvalid_0's l2: 1150.43\n",
      "[1744]\tvalid_0's rmse: 33.917\tvalid_0's l1: 24.9627\tvalid_0's l2: 1150.36\n",
      "[1745]\tvalid_0's rmse: 33.9159\tvalid_0's l1: 24.9621\tvalid_0's l2: 1150.29\n",
      "[1746]\tvalid_0's rmse: 33.9158\tvalid_0's l1: 24.962\tvalid_0's l2: 1150.28\n",
      "[1747]\tvalid_0's rmse: 33.9158\tvalid_0's l1: 24.962\tvalid_0's l2: 1150.28\n",
      "[1748]\tvalid_0's rmse: 33.9143\tvalid_0's l1: 24.9613\tvalid_0's l2: 1150.18\n",
      "[1749]\tvalid_0's rmse: 33.9133\tvalid_0's l1: 24.9616\tvalid_0's l2: 1150.11\n",
      "[1750]\tvalid_0's rmse: 33.9137\tvalid_0's l1: 24.9626\tvalid_0's l2: 1150.14\n",
      "[1751]\tvalid_0's rmse: 33.9127\tvalid_0's l1: 24.9624\tvalid_0's l2: 1150.07\n",
      "[1752]\tvalid_0's rmse: 33.913\tvalid_0's l1: 24.9618\tvalid_0's l2: 1150.09\n",
      "[1753]\tvalid_0's rmse: 33.9118\tvalid_0's l1: 24.9623\tvalid_0's l2: 1150.01\n",
      "[1754]\tvalid_0's rmse: 33.9112\tvalid_0's l1: 24.9626\tvalid_0's l2: 1149.97\n",
      "[1755]\tvalid_0's rmse: 33.9103\tvalid_0's l1: 24.9617\tvalid_0's l2: 1149.91\n",
      "[1756]\tvalid_0's rmse: 33.9102\tvalid_0's l1: 24.9622\tvalid_0's l2: 1149.9\n",
      "[1757]\tvalid_0's rmse: 33.9105\tvalid_0's l1: 24.9631\tvalid_0's l2: 1149.92\n",
      "[1758]\tvalid_0's rmse: 33.9111\tvalid_0's l1: 24.964\tvalid_0's l2: 1149.96\n",
      "[1759]\tvalid_0's rmse: 33.9108\tvalid_0's l1: 24.9643\tvalid_0's l2: 1149.95\n",
      "[1760]\tvalid_0's rmse: 33.9106\tvalid_0's l1: 24.9645\tvalid_0's l2: 1149.93\n",
      "[1761]\tvalid_0's rmse: 33.9125\tvalid_0's l1: 24.9652\tvalid_0's l2: 1150.06\n",
      "[1762]\tvalid_0's rmse: 33.9144\tvalid_0's l1: 24.9655\tvalid_0's l2: 1150.19\n",
      "[1763]\tvalid_0's rmse: 33.9158\tvalid_0's l1: 24.9656\tvalid_0's l2: 1150.28\n",
      "[1764]\tvalid_0's rmse: 33.9156\tvalid_0's l1: 24.9642\tvalid_0's l2: 1150.27\n",
      "[1765]\tvalid_0's rmse: 33.9172\tvalid_0's l1: 24.9644\tvalid_0's l2: 1150.38\n",
      "[1766]\tvalid_0's rmse: 33.9198\tvalid_0's l1: 24.9648\tvalid_0's l2: 1150.55\n",
      "[1767]\tvalid_0's rmse: 33.9222\tvalid_0's l1: 24.9649\tvalid_0's l2: 1150.72\n",
      "[1768]\tvalid_0's rmse: 33.9221\tvalid_0's l1: 24.9635\tvalid_0's l2: 1150.71\n",
      "[1769]\tvalid_0's rmse: 33.9247\tvalid_0's l1: 24.9637\tvalid_0's l2: 1150.88\n",
      "[1770]\tvalid_0's rmse: 33.9263\tvalid_0's l1: 24.9633\tvalid_0's l2: 1150.99\n",
      "[1771]\tvalid_0's rmse: 33.9253\tvalid_0's l1: 24.9625\tvalid_0's l2: 1150.93\n",
      "[1772]\tvalid_0's rmse: 33.9263\tvalid_0's l1: 24.9622\tvalid_0's l2: 1150.99\n",
      "[1773]\tvalid_0's rmse: 33.9265\tvalid_0's l1: 24.962\tvalid_0's l2: 1151.01\n",
      "[1774]\tvalid_0's rmse: 33.927\tvalid_0's l1: 24.9619\tvalid_0's l2: 1151.04\n",
      "[1775]\tvalid_0's rmse: 33.9267\tvalid_0's l1: 24.9613\tvalid_0's l2: 1151.02\n",
      "[1776]\tvalid_0's rmse: 33.9299\tvalid_0's l1: 24.963\tvalid_0's l2: 1151.24\n",
      "[1777]\tvalid_0's rmse: 33.9281\tvalid_0's l1: 24.9611\tvalid_0's l2: 1151.12\n",
      "[1778]\tvalid_0's rmse: 33.9282\tvalid_0's l1: 24.9595\tvalid_0's l2: 1151.13\n",
      "[1779]\tvalid_0's rmse: 33.9284\tvalid_0's l1: 24.958\tvalid_0's l2: 1151.14\n",
      "[1780]\tvalid_0's rmse: 33.9285\tvalid_0's l1: 24.9583\tvalid_0's l2: 1151.14\n",
      "[1781]\tvalid_0's rmse: 33.9296\tvalid_0's l1: 24.9591\tvalid_0's l2: 1151.22\n",
      "[1782]\tvalid_0's rmse: 33.9307\tvalid_0's l1: 24.9605\tvalid_0's l2: 1151.3\n",
      "[1783]\tvalid_0's rmse: 33.9311\tvalid_0's l1: 24.9611\tvalid_0's l2: 1151.32\n",
      "[1784]\tvalid_0's rmse: 33.9338\tvalid_0's l1: 24.9637\tvalid_0's l2: 1151.5\n",
      "[1785]\tvalid_0's rmse: 33.9329\tvalid_0's l1: 24.9625\tvalid_0's l2: 1151.44\n",
      "[1786]\tvalid_0's rmse: 33.932\tvalid_0's l1: 24.9619\tvalid_0's l2: 1151.38\n",
      "[1787]\tvalid_0's rmse: 33.9316\tvalid_0's l1: 24.9617\tvalid_0's l2: 1151.36\n",
      "[1788]\tvalid_0's rmse: 33.932\tvalid_0's l1: 24.9622\tvalid_0's l2: 1151.38\n",
      "[1789]\tvalid_0's rmse: 33.9305\tvalid_0's l1: 24.9611\tvalid_0's l2: 1151.28\n",
      "[1790]\tvalid_0's rmse: 33.9305\tvalid_0's l1: 24.9616\tvalid_0's l2: 1151.28\n",
      "[1791]\tvalid_0's rmse: 33.9335\tvalid_0's l1: 24.9642\tvalid_0's l2: 1151.48\n",
      "[1792]\tvalid_0's rmse: 33.9348\tvalid_0's l1: 24.964\tvalid_0's l2: 1151.57\n",
      "[1793]\tvalid_0's rmse: 33.9354\tvalid_0's l1: 24.9648\tvalid_0's l2: 1151.61\n",
      "[1794]\tvalid_0's rmse: 33.9366\tvalid_0's l1: 24.9667\tvalid_0's l2: 1151.69\n",
      "[1795]\tvalid_0's rmse: 33.9371\tvalid_0's l1: 24.9675\tvalid_0's l2: 1151.73\n",
      "[1796]\tvalid_0's rmse: 33.9377\tvalid_0's l1: 24.9683\tvalid_0's l2: 1151.77\n",
      "[1797]\tvalid_0's rmse: 33.9398\tvalid_0's l1: 24.97\tvalid_0's l2: 1151.91\n",
      "[1798]\tvalid_0's rmse: 33.9424\tvalid_0's l1: 24.9701\tvalid_0's l2: 1152.09\n",
      "[1799]\tvalid_0's rmse: 33.9428\tvalid_0's l1: 24.9711\tvalid_0's l2: 1152.11\n",
      "[1800]\tvalid_0's rmse: 33.9431\tvalid_0's l1: 24.9716\tvalid_0's l2: 1152.13\n",
      "[1801]\tvalid_0's rmse: 33.9459\tvalid_0's l1: 24.9726\tvalid_0's l2: 1152.32\n",
      "[1802]\tvalid_0's rmse: 33.9481\tvalid_0's l1: 24.9728\tvalid_0's l2: 1152.47\n",
      "[1803]\tvalid_0's rmse: 33.9515\tvalid_0's l1: 24.9737\tvalid_0's l2: 1152.7\n",
      "[1804]\tvalid_0's rmse: 33.9546\tvalid_0's l1: 24.9745\tvalid_0's l2: 1152.92\n",
      "[1805]\tvalid_0's rmse: 33.9575\tvalid_0's l1: 24.9755\tvalid_0's l2: 1153.11\n",
      "[1806]\tvalid_0's rmse: 33.961\tvalid_0's l1: 24.9765\tvalid_0's l2: 1153.35\n",
      "[1807]\tvalid_0's rmse: 33.964\tvalid_0's l1: 24.9777\tvalid_0's l2: 1153.55\n",
      "[1808]\tvalid_0's rmse: 33.9674\tvalid_0's l1: 24.9785\tvalid_0's l2: 1153.78\n",
      "[1809]\tvalid_0's rmse: 33.968\tvalid_0's l1: 24.9781\tvalid_0's l2: 1153.83\n",
      "[1810]\tvalid_0's rmse: 33.9687\tvalid_0's l1: 24.9776\tvalid_0's l2: 1153.87\n",
      "[1811]\tvalid_0's rmse: 33.9677\tvalid_0's l1: 24.9758\tvalid_0's l2: 1153.81\n",
      "[1812]\tvalid_0's rmse: 33.9669\tvalid_0's l1: 24.9742\tvalid_0's l2: 1153.75\n",
      "[1813]\tvalid_0's rmse: 33.9653\tvalid_0's l1: 24.9713\tvalid_0's l2: 1153.64\n",
      "[1814]\tvalid_0's rmse: 33.9644\tvalid_0's l1: 24.9695\tvalid_0's l2: 1153.58\n",
      "[1815]\tvalid_0's rmse: 33.9641\tvalid_0's l1: 24.9677\tvalid_0's l2: 1153.56\n",
      "[1816]\tvalid_0's rmse: 33.963\tvalid_0's l1: 24.9671\tvalid_0's l2: 1153.49\n",
      "[1817]\tvalid_0's rmse: 33.9635\tvalid_0's l1: 24.9684\tvalid_0's l2: 1153.52\n",
      "[1818]\tvalid_0's rmse: 33.9641\tvalid_0's l1: 24.97\tvalid_0's l2: 1153.56\n",
      "[1819]\tvalid_0's rmse: 33.9633\tvalid_0's l1: 24.9687\tvalid_0's l2: 1153.5\n",
      "[1820]\tvalid_0's rmse: 33.9638\tvalid_0's l1: 24.97\tvalid_0's l2: 1153.54\n",
      "[1821]\tvalid_0's rmse: 33.9655\tvalid_0's l1: 24.9715\tvalid_0's l2: 1153.65\n",
      "[1822]\tvalid_0's rmse: 33.9655\tvalid_0's l1: 24.9729\tvalid_0's l2: 1153.66\n",
      "[1823]\tvalid_0's rmse: 33.9637\tvalid_0's l1: 24.9725\tvalid_0's l2: 1153.53\n",
      "[1824]\tvalid_0's rmse: 33.9627\tvalid_0's l1: 24.9724\tvalid_0's l2: 1153.46\n",
      "[1825]\tvalid_0's rmse: 33.9629\tvalid_0's l1: 24.9731\tvalid_0's l2: 1153.48\n",
      "[1826]\tvalid_0's rmse: 33.9622\tvalid_0's l1: 24.9746\tvalid_0's l2: 1153.43\n",
      "[1827]\tvalid_0's rmse: 33.959\tvalid_0's l1: 24.9744\tvalid_0's l2: 1153.21\n",
      "[1828]\tvalid_0's rmse: 33.9602\tvalid_0's l1: 24.9744\tvalid_0's l2: 1153.3\n",
      "[1829]\tvalid_0's rmse: 33.9604\tvalid_0's l1: 24.9764\tvalid_0's l2: 1153.31\n",
      "[1830]\tvalid_0's rmse: 33.9586\tvalid_0's l1: 24.9764\tvalid_0's l2: 1153.19\n",
      "[1831]\tvalid_0's rmse: 33.9586\tvalid_0's l1: 24.9752\tvalid_0's l2: 1153.19\n",
      "[1832]\tvalid_0's rmse: 33.9588\tvalid_0's l1: 24.9747\tvalid_0's l2: 1153.2\n",
      "[1833]\tvalid_0's rmse: 33.96\tvalid_0's l1: 24.9743\tvalid_0's l2: 1153.28\n",
      "[1834]\tvalid_0's rmse: 33.9602\tvalid_0's l1: 24.9738\tvalid_0's l2: 1153.29\n",
      "[1835]\tvalid_0's rmse: 33.9603\tvalid_0's l1: 24.9733\tvalid_0's l2: 1153.3\n",
      "[1836]\tvalid_0's rmse: 33.9608\tvalid_0's l1: 24.9739\tvalid_0's l2: 1153.34\n",
      "[1837]\tvalid_0's rmse: 33.9607\tvalid_0's l1: 24.9723\tvalid_0's l2: 1153.33\n",
      "[1838]\tvalid_0's rmse: 33.9607\tvalid_0's l1: 24.9715\tvalid_0's l2: 1153.33\n",
      "[1839]\tvalid_0's rmse: 33.9618\tvalid_0's l1: 24.972\tvalid_0's l2: 1153.4\n",
      "[1840]\tvalid_0's rmse: 33.9615\tvalid_0's l1: 24.9706\tvalid_0's l2: 1153.38\n",
      "[1841]\tvalid_0's rmse: 33.9608\tvalid_0's l1: 24.9685\tvalid_0's l2: 1153.33\n",
      "[1842]\tvalid_0's rmse: 33.9615\tvalid_0's l1: 24.9679\tvalid_0's l2: 1153.38\n",
      "[1843]\tvalid_0's rmse: 33.9625\tvalid_0's l1: 24.9682\tvalid_0's l2: 1153.45\n",
      "[1844]\tvalid_0's rmse: 33.9614\tvalid_0's l1: 24.9659\tvalid_0's l2: 1153.37\n",
      "[1845]\tvalid_0's rmse: 33.9631\tvalid_0's l1: 24.9672\tvalid_0's l2: 1153.49\n",
      "[1846]\tvalid_0's rmse: 33.9628\tvalid_0's l1: 24.9653\tvalid_0's l2: 1153.47\n",
      "[1847]\tvalid_0's rmse: 33.9599\tvalid_0's l1: 24.961\tvalid_0's l2: 1153.28\n",
      "[1848]\tvalid_0's rmse: 33.9596\tvalid_0's l1: 24.9595\tvalid_0's l2: 1153.25\n",
      "[1849]\tvalid_0's rmse: 33.9591\tvalid_0's l1: 24.9575\tvalid_0's l2: 1153.22\n",
      "[1850]\tvalid_0's rmse: 33.9608\tvalid_0's l1: 24.9588\tvalid_0's l2: 1153.34\n",
      "[1851]\tvalid_0's rmse: 33.9583\tvalid_0's l1: 24.9574\tvalid_0's l2: 1153.16\n",
      "[1852]\tvalid_0's rmse: 33.9564\tvalid_0's l1: 24.957\tvalid_0's l2: 1153.04\n",
      "[1853]\tvalid_0's rmse: 33.9549\tvalid_0's l1: 24.9546\tvalid_0's l2: 1152.93\n",
      "[1854]\tvalid_0's rmse: 33.953\tvalid_0's l1: 24.9541\tvalid_0's l2: 1152.81\n",
      "[1855]\tvalid_0's rmse: 33.9511\tvalid_0's l1: 24.9533\tvalid_0's l2: 1152.68\n",
      "[1856]\tvalid_0's rmse: 33.95\tvalid_0's l1: 24.9517\tvalid_0's l2: 1152.6\n"
     ]
    },
    {
     "name": "stdout",
     "output_type": "stream",
     "text": [
      "[1857]\tvalid_0's rmse: 33.949\tvalid_0's l1: 24.9517\tvalid_0's l2: 1152.53\n",
      "[1858]\tvalid_0's rmse: 33.9466\tvalid_0's l1: 24.9488\tvalid_0's l2: 1152.37\n",
      "[1859]\tvalid_0's rmse: 33.9453\tvalid_0's l1: 24.9483\tvalid_0's l2: 1152.28\n",
      "[1860]\tvalid_0's rmse: 33.943\tvalid_0's l1: 24.9454\tvalid_0's l2: 1152.13\n",
      "[1861]\tvalid_0's rmse: 33.9438\tvalid_0's l1: 24.9453\tvalid_0's l2: 1152.18\n",
      "[1862]\tvalid_0's rmse: 33.9446\tvalid_0's l1: 24.9451\tvalid_0's l2: 1152.24\n",
      "[1863]\tvalid_0's rmse: 33.9458\tvalid_0's l1: 24.9452\tvalid_0's l2: 1152.31\n",
      "[1864]\tvalid_0's rmse: 33.9471\tvalid_0's l1: 24.9456\tvalid_0's l2: 1152.41\n",
      "[1865]\tvalid_0's rmse: 33.9484\tvalid_0's l1: 24.946\tvalid_0's l2: 1152.49\n",
      "[1866]\tvalid_0's rmse: 33.9497\tvalid_0's l1: 24.9467\tvalid_0's l2: 1152.58\n",
      "[1867]\tvalid_0's rmse: 33.9505\tvalid_0's l1: 24.9482\tvalid_0's l2: 1152.63\n",
      "[1868]\tvalid_0's rmse: 33.9524\tvalid_0's l1: 24.9489\tvalid_0's l2: 1152.76\n",
      "[1869]\tvalid_0's rmse: 33.9536\tvalid_0's l1: 24.9493\tvalid_0's l2: 1152.85\n",
      "[1870]\tvalid_0's rmse: 33.955\tvalid_0's l1: 24.9496\tvalid_0's l2: 1152.94\n",
      "[1871]\tvalid_0's rmse: 33.9594\tvalid_0's l1: 24.9519\tvalid_0's l2: 1153.24\n",
      "[1872]\tvalid_0's rmse: 33.9623\tvalid_0's l1: 24.9531\tvalid_0's l2: 1153.44\n",
      "[1873]\tvalid_0's rmse: 33.9669\tvalid_0's l1: 24.9551\tvalid_0's l2: 1153.75\n",
      "[1874]\tvalid_0's rmse: 33.9701\tvalid_0's l1: 24.9563\tvalid_0's l2: 1153.97\n",
      "[1875]\tvalid_0's rmse: 33.9731\tvalid_0's l1: 24.9575\tvalid_0's l2: 1154.17\n",
      "[1876]\tvalid_0's rmse: 33.9764\tvalid_0's l1: 24.9588\tvalid_0's l2: 1154.4\n",
      "[1877]\tvalid_0's rmse: 33.9779\tvalid_0's l1: 24.96\tvalid_0's l2: 1154.5\n",
      "[1878]\tvalid_0's rmse: 33.9787\tvalid_0's l1: 24.9608\tvalid_0's l2: 1154.55\n",
      "[1879]\tvalid_0's rmse: 33.9811\tvalid_0's l1: 24.9616\tvalid_0's l2: 1154.71\n",
      "[1880]\tvalid_0's rmse: 33.983\tvalid_0's l1: 24.9633\tvalid_0's l2: 1154.84\n",
      "[1881]\tvalid_0's rmse: 33.9827\tvalid_0's l1: 24.9657\tvalid_0's l2: 1154.82\n",
      "[1882]\tvalid_0's rmse: 33.9812\tvalid_0's l1: 24.9656\tvalid_0's l2: 1154.72\n",
      "[1883]\tvalid_0's rmse: 33.9801\tvalid_0's l1: 24.9671\tvalid_0's l2: 1154.65\n",
      "[1884]\tvalid_0's rmse: 33.9781\tvalid_0's l1: 24.9669\tvalid_0's l2: 1154.51\n",
      "[1885]\tvalid_0's rmse: 33.9763\tvalid_0's l1: 24.9664\tvalid_0's l2: 1154.39\n",
      "[1886]\tvalid_0's rmse: 33.9771\tvalid_0's l1: 24.9672\tvalid_0's l2: 1154.44\n",
      "[1887]\tvalid_0's rmse: 33.977\tvalid_0's l1: 24.9693\tvalid_0's l2: 1154.44\n",
      "[1888]\tvalid_0's rmse: 33.9759\tvalid_0's l1: 24.9696\tvalid_0's l2: 1154.36\n",
      "[1889]\tvalid_0's rmse: 33.9754\tvalid_0's l1: 24.971\tvalid_0's l2: 1154.33\n",
      "[1890]\tvalid_0's rmse: 33.975\tvalid_0's l1: 24.9723\tvalid_0's l2: 1154.3\n",
      "[1891]\tvalid_0's rmse: 33.9755\tvalid_0's l1: 24.9744\tvalid_0's l2: 1154.33\n",
      "[1892]\tvalid_0's rmse: 33.9763\tvalid_0's l1: 24.9773\tvalid_0's l2: 1154.39\n",
      "[1893]\tvalid_0's rmse: 33.9768\tvalid_0's l1: 24.9794\tvalid_0's l2: 1154.42\n",
      "[1894]\tvalid_0's rmse: 33.9773\tvalid_0's l1: 24.9817\tvalid_0's l2: 1154.46\n",
      "[1895]\tvalid_0's rmse: 33.976\tvalid_0's l1: 24.9805\tvalid_0's l2: 1154.37\n",
      "[1896]\tvalid_0's rmse: 33.9761\tvalid_0's l1: 24.9823\tvalid_0's l2: 1154.38\n",
      "[1897]\tvalid_0's rmse: 33.9769\tvalid_0's l1: 24.9841\tvalid_0's l2: 1154.43\n",
      "[1898]\tvalid_0's rmse: 33.9785\tvalid_0's l1: 24.9859\tvalid_0's l2: 1154.54\n",
      "[1899]\tvalid_0's rmse: 33.9794\tvalid_0's l1: 24.9887\tvalid_0's l2: 1154.6\n",
      "[1900]\tvalid_0's rmse: 33.9791\tvalid_0's l1: 24.9881\tvalid_0's l2: 1154.58\n",
      "[1901]\tvalid_0's rmse: 33.9795\tvalid_0's l1: 24.988\tvalid_0's l2: 1154.61\n",
      "[1902]\tvalid_0's rmse: 33.9783\tvalid_0's l1: 24.9874\tvalid_0's l2: 1154.53\n",
      "[1903]\tvalid_0's rmse: 33.977\tvalid_0's l1: 24.9862\tvalid_0's l2: 1154.44\n",
      "[1904]\tvalid_0's rmse: 33.9757\tvalid_0's l1: 24.9854\tvalid_0's l2: 1154.35\n",
      "[1905]\tvalid_0's rmse: 33.9739\tvalid_0's l1: 24.9845\tvalid_0's l2: 1154.22\n",
      "[1906]\tvalid_0's rmse: 33.9731\tvalid_0's l1: 24.9839\tvalid_0's l2: 1154.17\n",
      "[1907]\tvalid_0's rmse: 33.971\tvalid_0's l1: 24.9828\tvalid_0's l2: 1154.03\n",
      "[1908]\tvalid_0's rmse: 33.9714\tvalid_0's l1: 24.9829\tvalid_0's l2: 1154.06\n",
      "[1909]\tvalid_0's rmse: 33.9705\tvalid_0's l1: 24.9825\tvalid_0's l2: 1154\n",
      "[1910]\tvalid_0's rmse: 33.9709\tvalid_0's l1: 24.9833\tvalid_0's l2: 1154.02\n",
      "[1911]\tvalid_0's rmse: 33.9711\tvalid_0's l1: 24.9822\tvalid_0's l2: 1154.03\n",
      "[1912]\tvalid_0's rmse: 33.9708\tvalid_0's l1: 24.9811\tvalid_0's l2: 1154.02\n",
      "[1913]\tvalid_0's rmse: 33.9705\tvalid_0's l1: 24.9813\tvalid_0's l2: 1153.99\n",
      "[1914]\tvalid_0's rmse: 33.9704\tvalid_0's l1: 24.9818\tvalid_0's l2: 1153.99\n",
      "[1915]\tvalid_0's rmse: 33.9694\tvalid_0's l1: 24.9825\tvalid_0's l2: 1153.92\n",
      "[1916]\tvalid_0's rmse: 33.9665\tvalid_0's l1: 24.9809\tvalid_0's l2: 1153.72\n",
      "[1917]\tvalid_0's rmse: 33.9667\tvalid_0's l1: 24.9799\tvalid_0's l2: 1153.74\n",
      "[1918]\tvalid_0's rmse: 33.9667\tvalid_0's l1: 24.9803\tvalid_0's l2: 1153.74\n",
      "[1919]\tvalid_0's rmse: 33.9636\tvalid_0's l1: 24.9781\tvalid_0's l2: 1153.52\n",
      "[1920]\tvalid_0's rmse: 33.9641\tvalid_0's l1: 24.9791\tvalid_0's l2: 1153.56\n",
      "[1921]\tvalid_0's rmse: 33.9638\tvalid_0's l1: 24.9797\tvalid_0's l2: 1153.54\n",
      "[1922]\tvalid_0's rmse: 33.9652\tvalid_0's l1: 24.9803\tvalid_0's l2: 1153.63\n",
      "[1923]\tvalid_0's rmse: 33.9639\tvalid_0's l1: 24.9789\tvalid_0's l2: 1153.55\n",
      "[1924]\tvalid_0's rmse: 33.9618\tvalid_0's l1: 24.9768\tvalid_0's l2: 1153.4\n",
      "[1925]\tvalid_0's rmse: 33.9605\tvalid_0's l1: 24.9762\tvalid_0's l2: 1153.31\n",
      "[1926]\tvalid_0's rmse: 33.9589\tvalid_0's l1: 24.9748\tvalid_0's l2: 1153.21\n",
      "[1927]\tvalid_0's rmse: 33.9577\tvalid_0's l1: 24.9734\tvalid_0's l2: 1153.13\n",
      "[1928]\tvalid_0's rmse: 33.958\tvalid_0's l1: 24.9738\tvalid_0's l2: 1153.15\n",
      "[1929]\tvalid_0's rmse: 33.9581\tvalid_0's l1: 24.9737\tvalid_0's l2: 1153.15\n",
      "[1930]\tvalid_0's rmse: 33.956\tvalid_0's l1: 24.9717\tvalid_0's l2: 1153.01\n",
      "[1931]\tvalid_0's rmse: 33.9565\tvalid_0's l1: 24.9712\tvalid_0's l2: 1153.05\n",
      "[1932]\tvalid_0's rmse: 33.9574\tvalid_0's l1: 24.971\tvalid_0's l2: 1153.11\n",
      "[1933]\tvalid_0's rmse: 33.9573\tvalid_0's l1: 24.9713\tvalid_0's l2: 1153.1\n",
      "[1934]\tvalid_0's rmse: 33.9584\tvalid_0's l1: 24.9717\tvalid_0's l2: 1153.17\n",
      "[1935]\tvalid_0's rmse: 33.9577\tvalid_0's l1: 24.9715\tvalid_0's l2: 1153.13\n",
      "[1936]\tvalid_0's rmse: 33.9576\tvalid_0's l1: 24.9718\tvalid_0's l2: 1153.12\n",
      "[1937]\tvalid_0's rmse: 33.9587\tvalid_0's l1: 24.9722\tvalid_0's l2: 1153.19\n",
      "[1938]\tvalid_0's rmse: 33.9595\tvalid_0's l1: 24.9716\tvalid_0's l2: 1153.25\n",
      "[1939]\tvalid_0's rmse: 33.9594\tvalid_0's l1: 24.9719\tvalid_0's l2: 1153.24\n",
      "[1940]\tvalid_0's rmse: 33.9595\tvalid_0's l1: 24.97\tvalid_0's l2: 1153.25\n",
      "[1941]\tvalid_0's rmse: 33.9581\tvalid_0's l1: 24.9687\tvalid_0's l2: 1153.15\n",
      "[1942]\tvalid_0's rmse: 33.9565\tvalid_0's l1: 24.9672\tvalid_0's l2: 1153.04\n",
      "[1943]\tvalid_0's rmse: 33.9565\tvalid_0's l1: 24.9685\tvalid_0's l2: 1153.05\n",
      "[1944]\tvalid_0's rmse: 33.9564\tvalid_0's l1: 24.9691\tvalid_0's l2: 1153.04\n",
      "[1945]\tvalid_0's rmse: 33.9566\tvalid_0's l1: 24.9706\tvalid_0's l2: 1153.05\n",
      "[1946]\tvalid_0's rmse: 33.9569\tvalid_0's l1: 24.9722\tvalid_0's l2: 1153.07\n",
      "[1947]\tvalid_0's rmse: 33.9554\tvalid_0's l1: 24.9706\tvalid_0's l2: 1152.97\n",
      "[1948]\tvalid_0's rmse: 33.9565\tvalid_0's l1: 24.9729\tvalid_0's l2: 1153.04\n",
      "[1949]\tvalid_0's rmse: 33.9564\tvalid_0's l1: 24.9735\tvalid_0's l2: 1153.04\n",
      "[1950]\tvalid_0's rmse: 33.9544\tvalid_0's l1: 24.9723\tvalid_0's l2: 1152.9\n",
      "[1951]\tvalid_0's rmse: 33.954\tvalid_0's l1: 24.9723\tvalid_0's l2: 1152.87\n",
      "[1952]\tvalid_0's rmse: 33.9525\tvalid_0's l1: 24.9708\tvalid_0's l2: 1152.77\n",
      "[1953]\tvalid_0's rmse: 33.9509\tvalid_0's l1: 24.9707\tvalid_0's l2: 1152.66\n",
      "[1954]\tvalid_0's rmse: 33.9472\tvalid_0's l1: 24.9686\tvalid_0's l2: 1152.42\n",
      "[1955]\tvalid_0's rmse: 33.944\tvalid_0's l1: 24.9669\tvalid_0's l2: 1152.19\n",
      "[1956]\tvalid_0's rmse: 33.9428\tvalid_0's l1: 24.9669\tvalid_0's l2: 1152.11\n",
      "[1957]\tvalid_0's rmse: 33.9414\tvalid_0's l1: 24.9657\tvalid_0's l2: 1152.02\n",
      "[1958]\tvalid_0's rmse: 33.9408\tvalid_0's l1: 24.9657\tvalid_0's l2: 1151.98\n",
      "[1959]\tvalid_0's rmse: 33.9412\tvalid_0's l1: 24.9672\tvalid_0's l2: 1152.01\n",
      "[1960]\tvalid_0's rmse: 33.9392\tvalid_0's l1: 24.9663\tvalid_0's l2: 1151.87\n",
      "[1961]\tvalid_0's rmse: 33.9398\tvalid_0's l1: 24.9665\tvalid_0's l2: 1151.91\n",
      "[1962]\tvalid_0's rmse: 33.9386\tvalid_0's l1: 24.9645\tvalid_0's l2: 1151.83\n",
      "[1963]\tvalid_0's rmse: 33.9392\tvalid_0's l1: 24.964\tvalid_0's l2: 1151.87\n",
      "[1964]\tvalid_0's rmse: 33.9398\tvalid_0's l1: 24.9634\tvalid_0's l2: 1151.91\n",
      "[1965]\tvalid_0's rmse: 33.9396\tvalid_0's l1: 24.964\tvalid_0's l2: 1151.9\n",
      "[1966]\tvalid_0's rmse: 33.9404\tvalid_0's l1: 24.9635\tvalid_0's l2: 1151.95\n",
      "[1967]\tvalid_0's rmse: 33.9409\tvalid_0's l1: 24.963\tvalid_0's l2: 1151.98\n",
      "[1968]\tvalid_0's rmse: 33.9411\tvalid_0's l1: 24.962\tvalid_0's l2: 1152\n",
      "[1969]\tvalid_0's rmse: 33.9408\tvalid_0's l1: 24.9606\tvalid_0's l2: 1151.98\n",
      "[1970]\tvalid_0's rmse: 33.9418\tvalid_0's l1: 24.9611\tvalid_0's l2: 1152.05\n",
      "[1971]\tvalid_0's rmse: 33.9408\tvalid_0's l1: 24.9592\tvalid_0's l2: 1151.98\n",
      "[1972]\tvalid_0's rmse: 33.9395\tvalid_0's l1: 24.9583\tvalid_0's l2: 1151.89\n",
      "[1973]\tvalid_0's rmse: 33.9378\tvalid_0's l1: 24.9564\tvalid_0's l2: 1151.78\n",
      "[1974]\tvalid_0's rmse: 33.938\tvalid_0's l1: 24.9562\tvalid_0's l2: 1151.79\n",
      "[1975]\tvalid_0's rmse: 33.9367\tvalid_0's l1: 24.9553\tvalid_0's l2: 1151.7\n",
      "[1976]\tvalid_0's rmse: 33.9355\tvalid_0's l1: 24.9543\tvalid_0's l2: 1151.62\n",
      "[1977]\tvalid_0's rmse: 33.9372\tvalid_0's l1: 24.9553\tvalid_0's l2: 1151.73\n",
      "[1978]\tvalid_0's rmse: 33.9403\tvalid_0's l1: 24.9572\tvalid_0's l2: 1151.95\n",
      "[1979]\tvalid_0's rmse: 33.9386\tvalid_0's l1: 24.9555\tvalid_0's l2: 1151.83\n",
      "[1980]\tvalid_0's rmse: 33.9401\tvalid_0's l1: 24.9569\tvalid_0's l2: 1151.93\n",
      "[1981]\tvalid_0's rmse: 33.9375\tvalid_0's l1: 24.9552\tvalid_0's l2: 1151.76\n",
      "[1982]\tvalid_0's rmse: 33.9354\tvalid_0's l1: 24.9534\tvalid_0's l2: 1151.61\n",
      "[1983]\tvalid_0's rmse: 33.9334\tvalid_0's l1: 24.9517\tvalid_0's l2: 1151.48\n",
      "[1984]\tvalid_0's rmse: 33.9321\tvalid_0's l1: 24.9517\tvalid_0's l2: 1151.38\n",
      "[1985]\tvalid_0's rmse: 33.9294\tvalid_0's l1: 24.9494\tvalid_0's l2: 1151.2\n",
      "[1986]\tvalid_0's rmse: 33.929\tvalid_0's l1: 24.9511\tvalid_0's l2: 1151.18\n",
      "[1987]\tvalid_0's rmse: 33.9299\tvalid_0's l1: 24.9519\tvalid_0's l2: 1151.24\n",
      "[1988]\tvalid_0's rmse: 33.9308\tvalid_0's l1: 24.9533\tvalid_0's l2: 1151.3\n",
      "[1989]\tvalid_0's rmse: 33.9269\tvalid_0's l1: 24.9508\tvalid_0's l2: 1151.04\n",
      "[1990]\tvalid_0's rmse: 33.9228\tvalid_0's l1: 24.9478\tvalid_0's l2: 1150.76\n",
      "[1991]\tvalid_0's rmse: 33.9233\tvalid_0's l1: 24.9488\tvalid_0's l2: 1150.79\n",
      "[1992]\tvalid_0's rmse: 33.9221\tvalid_0's l1: 24.948\tvalid_0's l2: 1150.71\n",
      "[1993]\tvalid_0's rmse: 33.9213\tvalid_0's l1: 24.9479\tvalid_0's l2: 1150.66\n",
      "[1994]\tvalid_0's rmse: 33.9216\tvalid_0's l1: 24.9493\tvalid_0's l2: 1150.67\n",
      "[1995]\tvalid_0's rmse: 33.9228\tvalid_0's l1: 24.951\tvalid_0's l2: 1150.76\n",
      "[1996]\tvalid_0's rmse: 33.9234\tvalid_0's l1: 24.9524\tvalid_0's l2: 1150.8\n",
      "[1997]\tvalid_0's rmse: 33.9225\tvalid_0's l1: 24.9523\tvalid_0's l2: 1150.74\n",
      "[1998]\tvalid_0's rmse: 33.9234\tvalid_0's l1: 24.9541\tvalid_0's l2: 1150.8\n",
      "[1999]\tvalid_0's rmse: 33.9238\tvalid_0's l1: 24.9556\tvalid_0's l2: 1150.82\n",
      "[2000]\tvalid_0's rmse: 33.9244\tvalid_0's l1: 24.957\tvalid_0's l2: 1150.86\n",
      "[2001]\tvalid_0's rmse: 33.9264\tvalid_0's l1: 24.9581\tvalid_0's l2: 1151\n",
      "[2002]\tvalid_0's rmse: 33.9279\tvalid_0's l1: 24.9582\tvalid_0's l2: 1151.1\n",
      "[2003]\tvalid_0's rmse: 33.932\tvalid_0's l1: 24.9611\tvalid_0's l2: 1151.38\n",
      "[2004]\tvalid_0's rmse: 33.9335\tvalid_0's l1: 24.9611\tvalid_0's l2: 1151.48\n",
      "[2005]\tvalid_0's rmse: 33.9354\tvalid_0's l1: 24.9615\tvalid_0's l2: 1151.61\n",
      "[2006]\tvalid_0's rmse: 33.9378\tvalid_0's l1: 24.9624\tvalid_0's l2: 1151.77\n",
      "[2007]\tvalid_0's rmse: 33.9357\tvalid_0's l1: 24.9597\tvalid_0's l2: 1151.63\n",
      "[2008]\tvalid_0's rmse: 33.9336\tvalid_0's l1: 24.9571\tvalid_0's l2: 1151.49\n",
      "[2009]\tvalid_0's rmse: 33.936\tvalid_0's l1: 24.9581\tvalid_0's l2: 1151.66\n",
      "[2010]\tvalid_0's rmse: 33.9343\tvalid_0's l1: 24.9555\tvalid_0's l2: 1151.53\n",
      "[2011]\tvalid_0's rmse: 33.9331\tvalid_0's l1: 24.9553\tvalid_0's l2: 1151.45\n",
      "[2012]\tvalid_0's rmse: 33.9294\tvalid_0's l1: 24.9537\tvalid_0's l2: 1151.21\n",
      "[2013]\tvalid_0's rmse: 33.9256\tvalid_0's l1: 24.9521\tvalid_0's l2: 1150.95\n",
      "[2014]\tvalid_0's rmse: 33.9234\tvalid_0's l1: 24.9505\tvalid_0's l2: 1150.8\n",
      "[2015]\tvalid_0's rmse: 33.9226\tvalid_0's l1: 24.9506\tvalid_0's l2: 1150.74\n",
      "[2016]\tvalid_0's rmse: 33.9233\tvalid_0's l1: 24.9517\tvalid_0's l2: 1150.79\n",
      "[2017]\tvalid_0's rmse: 33.9223\tvalid_0's l1: 24.9508\tvalid_0's l2: 1150.72\n",
      "[2018]\tvalid_0's rmse: 33.9203\tvalid_0's l1: 24.9493\tvalid_0's l2: 1150.59\n",
      "[2019]\tvalid_0's rmse: 33.9184\tvalid_0's l1: 24.9476\tvalid_0's l2: 1150.46\n",
      "[2020]\tvalid_0's rmse: 33.9173\tvalid_0's l1: 24.9473\tvalid_0's l2: 1150.38\n",
      "[2021]\tvalid_0's rmse: 33.916\tvalid_0's l1: 24.9455\tvalid_0's l2: 1150.3\n",
      "[2022]\tvalid_0's rmse: 33.9168\tvalid_0's l1: 24.9456\tvalid_0's l2: 1150.35\n",
      "[2023]\tvalid_0's rmse: 33.9164\tvalid_0's l1: 24.9451\tvalid_0's l2: 1150.32\n",
      "[2024]\tvalid_0's rmse: 33.9169\tvalid_0's l1: 24.9452\tvalid_0's l2: 1150.36\n",
      "[2025]\tvalid_0's rmse: 33.9186\tvalid_0's l1: 24.9459\tvalid_0's l2: 1150.47\n",
      "[2026]\tvalid_0's rmse: 33.9192\tvalid_0's l1: 24.9461\tvalid_0's l2: 1150.51\n",
      "[2027]\tvalid_0's rmse: 33.9195\tvalid_0's l1: 24.9464\tvalid_0's l2: 1150.53\n",
      "[2028]\tvalid_0's rmse: 33.9198\tvalid_0's l1: 24.9466\tvalid_0's l2: 1150.55\n",
      "[2029]\tvalid_0's rmse: 33.92\tvalid_0's l1: 24.9461\tvalid_0's l2: 1150.57\n",
      "[2030]\tvalid_0's rmse: 33.9191\tvalid_0's l1: 24.9449\tvalid_0's l2: 1150.51\n",
      "[2031]\tvalid_0's rmse: 33.9225\tvalid_0's l1: 24.9484\tvalid_0's l2: 1150.73\n",
      "[2032]\tvalid_0's rmse: 33.9256\tvalid_0's l1: 24.9514\tvalid_0's l2: 1150.95\n"
     ]
    },
    {
     "name": "stdout",
     "output_type": "stream",
     "text": [
      "[2033]\tvalid_0's rmse: 33.9291\tvalid_0's l1: 24.954\tvalid_0's l2: 1151.18\n",
      "[2034]\tvalid_0's rmse: 33.9317\tvalid_0's l1: 24.9551\tvalid_0's l2: 1151.36\n",
      "[2035]\tvalid_0's rmse: 33.9344\tvalid_0's l1: 24.9577\tvalid_0's l2: 1151.54\n",
      "[2036]\tvalid_0's rmse: 33.9365\tvalid_0's l1: 24.9579\tvalid_0's l2: 1151.69\n",
      "[2037]\tvalid_0's rmse: 33.9392\tvalid_0's l1: 24.959\tvalid_0's l2: 1151.87\n",
      "[2038]\tvalid_0's rmse: 33.9418\tvalid_0's l1: 24.9597\tvalid_0's l2: 1152.04\n",
      "[2039]\tvalid_0's rmse: 33.943\tvalid_0's l1: 24.9597\tvalid_0's l2: 1152.13\n",
      "[2040]\tvalid_0's rmse: 33.9454\tvalid_0's l1: 24.9623\tvalid_0's l2: 1152.29\n",
      "[2041]\tvalid_0's rmse: 33.944\tvalid_0's l1: 24.9627\tvalid_0's l2: 1152.19\n",
      "[2042]\tvalid_0's rmse: 33.9435\tvalid_0's l1: 24.9629\tvalid_0's l2: 1152.16\n",
      "[2043]\tvalid_0's rmse: 33.9448\tvalid_0's l1: 24.9642\tvalid_0's l2: 1152.25\n",
      "[2044]\tvalid_0's rmse: 33.9442\tvalid_0's l1: 24.964\tvalid_0's l2: 1152.21\n",
      "[2045]\tvalid_0's rmse: 33.9436\tvalid_0's l1: 24.9638\tvalid_0's l2: 1152.17\n",
      "[2046]\tvalid_0's rmse: 33.9426\tvalid_0's l1: 24.9623\tvalid_0's l2: 1152.1\n",
      "[2047]\tvalid_0's rmse: 33.943\tvalid_0's l1: 24.9613\tvalid_0's l2: 1152.12\n",
      "[2048]\tvalid_0's rmse: 33.9415\tvalid_0's l1: 24.9618\tvalid_0's l2: 1152.03\n",
      "[2049]\tvalid_0's rmse: 33.9416\tvalid_0's l1: 24.9618\tvalid_0's l2: 1152.03\n",
      "[2050]\tvalid_0's rmse: 33.9405\tvalid_0's l1: 24.9598\tvalid_0's l2: 1151.96\n",
      "[2051]\tvalid_0's rmse: 33.9413\tvalid_0's l1: 24.9602\tvalid_0's l2: 1152.01\n",
      "[2052]\tvalid_0's rmse: 33.9399\tvalid_0's l1: 24.9593\tvalid_0's l2: 1151.92\n",
      "[2053]\tvalid_0's rmse: 33.9394\tvalid_0's l1: 24.9587\tvalid_0's l2: 1151.88\n",
      "[2054]\tvalid_0's rmse: 33.9368\tvalid_0's l1: 24.9568\tvalid_0's l2: 1151.71\n",
      "[2055]\tvalid_0's rmse: 33.9363\tvalid_0's l1: 24.9562\tvalid_0's l2: 1151.68\n",
      "[2056]\tvalid_0's rmse: 33.937\tvalid_0's l1: 24.9554\tvalid_0's l2: 1151.72\n",
      "[2057]\tvalid_0's rmse: 33.9371\tvalid_0's l1: 24.9542\tvalid_0's l2: 1151.73\n",
      "[2058]\tvalid_0's rmse: 33.9363\tvalid_0's l1: 24.9533\tvalid_0's l2: 1151.67\n",
      "[2059]\tvalid_0's rmse: 33.9359\tvalid_0's l1: 24.9527\tvalid_0's l2: 1151.64\n",
      "[2060]\tvalid_0's rmse: 33.9366\tvalid_0's l1: 24.9518\tvalid_0's l2: 1151.69\n",
      "[2061]\tvalid_0's rmse: 33.9374\tvalid_0's l1: 24.9526\tvalid_0's l2: 1151.74\n",
      "[2062]\tvalid_0's rmse: 33.9374\tvalid_0's l1: 24.9534\tvalid_0's l2: 1151.75\n",
      "[2063]\tvalid_0's rmse: 33.9383\tvalid_0's l1: 24.9555\tvalid_0's l2: 1151.81\n",
      "[2064]\tvalid_0's rmse: 33.9376\tvalid_0's l1: 24.9559\tvalid_0's l2: 1151.76\n",
      "[2065]\tvalid_0's rmse: 33.937\tvalid_0's l1: 24.9564\tvalid_0's l2: 1151.72\n",
      "[2066]\tvalid_0's rmse: 33.9388\tvalid_0's l1: 24.9571\tvalid_0's l2: 1151.84\n",
      "[2067]\tvalid_0's rmse: 33.9394\tvalid_0's l1: 24.9571\tvalid_0's l2: 1151.88\n",
      "[2068]\tvalid_0's rmse: 33.941\tvalid_0's l1: 24.957\tvalid_0's l2: 1151.99\n",
      "[2069]\tvalid_0's rmse: 33.9407\tvalid_0's l1: 24.9578\tvalid_0's l2: 1151.97\n",
      "[2070]\tvalid_0's rmse: 33.9444\tvalid_0's l1: 24.9595\tvalid_0's l2: 1152.22\n",
      "[2071]\tvalid_0's rmse: 33.9452\tvalid_0's l1: 24.959\tvalid_0's l2: 1152.28\n",
      "[2072]\tvalid_0's rmse: 33.9467\tvalid_0's l1: 24.9595\tvalid_0's l2: 1152.38\n",
      "[2073]\tvalid_0's rmse: 33.9475\tvalid_0's l1: 24.9611\tvalid_0's l2: 1152.43\n",
      "[2074]\tvalid_0's rmse: 33.9478\tvalid_0's l1: 24.9607\tvalid_0's l2: 1152.45\n",
      "[2075]\tvalid_0's rmse: 33.9478\tvalid_0's l1: 24.9599\tvalid_0's l2: 1152.45\n",
      "[2076]\tvalid_0's rmse: 33.9483\tvalid_0's l1: 24.9581\tvalid_0's l2: 1152.49\n",
      "[2077]\tvalid_0's rmse: 33.9493\tvalid_0's l1: 24.9575\tvalid_0's l2: 1152.55\n",
      "[2078]\tvalid_0's rmse: 33.9482\tvalid_0's l1: 24.9562\tvalid_0's l2: 1152.48\n",
      "[2079]\tvalid_0's rmse: 33.9498\tvalid_0's l1: 24.9564\tvalid_0's l2: 1152.59\n",
      "[2080]\tvalid_0's rmse: 33.9517\tvalid_0's l1: 24.9583\tvalid_0's l2: 1152.72\n",
      "[2081]\tvalid_0's rmse: 33.9532\tvalid_0's l1: 24.9598\tvalid_0's l2: 1152.82\n",
      "[2082]\tvalid_0's rmse: 33.9545\tvalid_0's l1: 24.9611\tvalid_0's l2: 1152.91\n",
      "[2083]\tvalid_0's rmse: 33.9519\tvalid_0's l1: 24.961\tvalid_0's l2: 1152.73\n",
      "[2084]\tvalid_0's rmse: 33.9529\tvalid_0's l1: 24.9623\tvalid_0's l2: 1152.8\n",
      "[2085]\tvalid_0's rmse: 33.9534\tvalid_0's l1: 24.9626\tvalid_0's l2: 1152.83\n",
      "[2086]\tvalid_0's rmse: 33.9545\tvalid_0's l1: 24.964\tvalid_0's l2: 1152.91\n",
      "[2087]\tvalid_0's rmse: 33.9553\tvalid_0's l1: 24.965\tvalid_0's l2: 1152.96\n",
      "[2088]\tvalid_0's rmse: 33.9546\tvalid_0's l1: 24.9642\tvalid_0's l2: 1152.92\n",
      "[2089]\tvalid_0's rmse: 33.952\tvalid_0's l1: 24.9641\tvalid_0's l2: 1152.74\n",
      "[2090]\tvalid_0's rmse: 33.9524\tvalid_0's l1: 24.9645\tvalid_0's l2: 1152.77\n",
      "[2091]\tvalid_0's rmse: 33.9515\tvalid_0's l1: 24.9635\tvalid_0's l2: 1152.7\n",
      "[2092]\tvalid_0's rmse: 33.951\tvalid_0's l1: 24.9623\tvalid_0's l2: 1152.67\n",
      "[2093]\tvalid_0's rmse: 33.9515\tvalid_0's l1: 24.9617\tvalid_0's l2: 1152.7\n",
      "[2094]\tvalid_0's rmse: 33.9518\tvalid_0's l1: 24.9608\tvalid_0's l2: 1152.73\n",
      "[2095]\tvalid_0's rmse: 33.9518\tvalid_0's l1: 24.9597\tvalid_0's l2: 1152.72\n",
      "[2096]\tvalid_0's rmse: 33.9518\tvalid_0's l1: 24.9594\tvalid_0's l2: 1152.73\n",
      "[2097]\tvalid_0's rmse: 33.9505\tvalid_0's l1: 24.9592\tvalid_0's l2: 1152.64\n",
      "[2098]\tvalid_0's rmse: 33.9488\tvalid_0's l1: 24.9587\tvalid_0's l2: 1152.52\n",
      "[2099]\tvalid_0's rmse: 33.951\tvalid_0's l1: 24.9603\tvalid_0's l2: 1152.67\n",
      "[2100]\tvalid_0's rmse: 33.9503\tvalid_0's l1: 24.96\tvalid_0's l2: 1152.62\n",
      "[2101]\tvalid_0's rmse: 33.9484\tvalid_0's l1: 24.9583\tvalid_0's l2: 1152.49\n",
      "[2102]\tvalid_0's rmse: 33.9507\tvalid_0's l1: 24.9594\tvalid_0's l2: 1152.65\n",
      "[2103]\tvalid_0's rmse: 33.9503\tvalid_0's l1: 24.9588\tvalid_0's l2: 1152.62\n",
      "[2104]\tvalid_0's rmse: 33.95\tvalid_0's l1: 24.9579\tvalid_0's l2: 1152.6\n",
      "[2105]\tvalid_0's rmse: 33.948\tvalid_0's l1: 24.956\tvalid_0's l2: 1152.47\n",
      "[2106]\tvalid_0's rmse: 33.95\tvalid_0's l1: 24.9581\tvalid_0's l2: 1152.6\n",
      "[2107]\tvalid_0's rmse: 33.9487\tvalid_0's l1: 24.9565\tvalid_0's l2: 1152.51\n",
      "[2108]\tvalid_0's rmse: 33.9507\tvalid_0's l1: 24.9586\tvalid_0's l2: 1152.65\n",
      "[2109]\tvalid_0's rmse: 33.9516\tvalid_0's l1: 24.9591\tvalid_0's l2: 1152.71\n",
      "[2110]\tvalid_0's rmse: 33.9498\tvalid_0's l1: 24.9567\tvalid_0's l2: 1152.59\n",
      "[2111]\tvalid_0's rmse: 33.9494\tvalid_0's l1: 24.9573\tvalid_0's l2: 1152.56\n",
      "[2112]\tvalid_0's rmse: 33.9487\tvalid_0's l1: 24.9579\tvalid_0's l2: 1152.51\n",
      "[2113]\tvalid_0's rmse: 33.9493\tvalid_0's l1: 24.9578\tvalid_0's l2: 1152.56\n",
      "[2114]\tvalid_0's rmse: 33.9478\tvalid_0's l1: 24.9568\tvalid_0's l2: 1152.45\n",
      "[2115]\tvalid_0's rmse: 33.9458\tvalid_0's l1: 24.9547\tvalid_0's l2: 1152.32\n",
      "[2116]\tvalid_0's rmse: 33.9436\tvalid_0's l1: 24.953\tvalid_0's l2: 1152.17\n",
      "[2117]\tvalid_0's rmse: 33.9433\tvalid_0's l1: 24.9537\tvalid_0's l2: 1152.14\n",
      "[2118]\tvalid_0's rmse: 33.9416\tvalid_0's l1: 24.9525\tvalid_0's l2: 1152.03\n",
      "[2119]\tvalid_0's rmse: 33.939\tvalid_0's l1: 24.9514\tvalid_0's l2: 1151.85\n",
      "[2120]\tvalid_0's rmse: 33.9374\tvalid_0's l1: 24.9507\tvalid_0's l2: 1151.75\n",
      "[2121]\tvalid_0's rmse: 33.9345\tvalid_0's l1: 24.9483\tvalid_0's l2: 1151.55\n",
      "[2122]\tvalid_0's rmse: 33.932\tvalid_0's l1: 24.9464\tvalid_0's l2: 1151.38\n",
      "[2123]\tvalid_0's rmse: 33.9321\tvalid_0's l1: 24.9463\tvalid_0's l2: 1151.38\n",
      "[2124]\tvalid_0's rmse: 33.9292\tvalid_0's l1: 24.9439\tvalid_0's l2: 1151.19\n",
      "[2125]\tvalid_0's rmse: 33.9262\tvalid_0's l1: 24.9419\tvalid_0's l2: 1150.99\n",
      "[2126]\tvalid_0's rmse: 33.9252\tvalid_0's l1: 24.9417\tvalid_0's l2: 1150.92\n",
      "[2127]\tvalid_0's rmse: 33.923\tvalid_0's l1: 24.941\tvalid_0's l2: 1150.77\n",
      "[2128]\tvalid_0's rmse: 33.9228\tvalid_0's l1: 24.941\tvalid_0's l2: 1150.76\n",
      "[2129]\tvalid_0's rmse: 33.9259\tvalid_0's l1: 24.9433\tvalid_0's l2: 1150.97\n",
      "[2130]\tvalid_0's rmse: 33.9248\tvalid_0's l1: 24.9417\tvalid_0's l2: 1150.89\n",
      "[2131]\tvalid_0's rmse: 33.9261\tvalid_0's l1: 24.9427\tvalid_0's l2: 1150.98\n",
      "[2132]\tvalid_0's rmse: 33.9275\tvalid_0's l1: 24.9436\tvalid_0's l2: 1151.08\n",
      "[2133]\tvalid_0's rmse: 33.9284\tvalid_0's l1: 24.9452\tvalid_0's l2: 1151.14\n",
      "[2134]\tvalid_0's rmse: 33.9296\tvalid_0's l1: 24.9462\tvalid_0's l2: 1151.22\n",
      "[2135]\tvalid_0's rmse: 33.9312\tvalid_0's l1: 24.9472\tvalid_0's l2: 1151.32\n",
      "[2136]\tvalid_0's rmse: 33.9327\tvalid_0's l1: 24.9496\tvalid_0's l2: 1151.43\n",
      "[2137]\tvalid_0's rmse: 33.9322\tvalid_0's l1: 24.9494\tvalid_0's l2: 1151.39\n",
      "[2138]\tvalid_0's rmse: 33.9324\tvalid_0's l1: 24.9501\tvalid_0's l2: 1151.41\n",
      "[2139]\tvalid_0's rmse: 33.9326\tvalid_0's l1: 24.9508\tvalid_0's l2: 1151.42\n",
      "[2140]\tvalid_0's rmse: 33.9323\tvalid_0's l1: 24.9505\tvalid_0's l2: 1151.4\n",
      "[2141]\tvalid_0's rmse: 33.9313\tvalid_0's l1: 24.9482\tvalid_0's l2: 1151.33\n",
      "[2142]\tvalid_0's rmse: 33.9346\tvalid_0's l1: 24.9499\tvalid_0's l2: 1151.56\n",
      "[2143]\tvalid_0's rmse: 33.9369\tvalid_0's l1: 24.9514\tvalid_0's l2: 1151.71\n",
      "[2144]\tvalid_0's rmse: 33.9395\tvalid_0's l1: 24.953\tvalid_0's l2: 1151.89\n",
      "[2145]\tvalid_0's rmse: 33.9431\tvalid_0's l1: 24.9549\tvalid_0's l2: 1152.13\n",
      "[2146]\tvalid_0's rmse: 33.9466\tvalid_0's l1: 24.9567\tvalid_0's l2: 1152.37\n",
      "[2147]\tvalid_0's rmse: 33.9481\tvalid_0's l1: 24.9564\tvalid_0's l2: 1152.48\n",
      "[2148]\tvalid_0's rmse: 33.95\tvalid_0's l1: 24.9575\tvalid_0's l2: 1152.6\n",
      "[2149]\tvalid_0's rmse: 33.9524\tvalid_0's l1: 24.9587\tvalid_0's l2: 1152.76\n",
      "[2150]\tvalid_0's rmse: 33.9545\tvalid_0's l1: 24.9589\tvalid_0's l2: 1152.9\n",
      "[2151]\tvalid_0's rmse: 33.9541\tvalid_0's l1: 24.9588\tvalid_0's l2: 1152.88\n",
      "[2152]\tvalid_0's rmse: 33.9542\tvalid_0's l1: 24.9592\tvalid_0's l2: 1152.89\n",
      "[2153]\tvalid_0's rmse: 33.9539\tvalid_0's l1: 24.9591\tvalid_0's l2: 1152.87\n",
      "[2154]\tvalid_0's rmse: 33.9529\tvalid_0's l1: 24.9586\tvalid_0's l2: 1152.8\n",
      "[2155]\tvalid_0's rmse: 33.9516\tvalid_0's l1: 24.9583\tvalid_0's l2: 1152.71\n",
      "[2156]\tvalid_0's rmse: 33.9527\tvalid_0's l1: 24.9598\tvalid_0's l2: 1152.79\n",
      "[2157]\tvalid_0's rmse: 33.951\tvalid_0's l1: 24.9587\tvalid_0's l2: 1152.67\n",
      "[2158]\tvalid_0's rmse: 33.9504\tvalid_0's l1: 24.9581\tvalid_0's l2: 1152.63\n",
      "[2159]\tvalid_0's rmse: 33.9511\tvalid_0's l1: 24.9591\tvalid_0's l2: 1152.67\n",
      "[2160]\tvalid_0's rmse: 33.9501\tvalid_0's l1: 24.9592\tvalid_0's l2: 1152.61\n",
      "[2161]\tvalid_0's rmse: 33.9519\tvalid_0's l1: 24.9609\tvalid_0's l2: 1152.73\n",
      "[2162]\tvalid_0's rmse: 33.9531\tvalid_0's l1: 24.9633\tvalid_0's l2: 1152.81\n",
      "[2163]\tvalid_0's rmse: 33.955\tvalid_0's l1: 24.9654\tvalid_0's l2: 1152.94\n",
      "[2164]\tvalid_0's rmse: 33.9558\tvalid_0's l1: 24.9653\tvalid_0's l2: 1153\n",
      "[2165]\tvalid_0's rmse: 33.9576\tvalid_0's l1: 24.9669\tvalid_0's l2: 1153.12\n",
      "[2166]\tvalid_0's rmse: 33.9586\tvalid_0's l1: 24.9681\tvalid_0's l2: 1153.19\n",
      "[2167]\tvalid_0's rmse: 33.9609\tvalid_0's l1: 24.9703\tvalid_0's l2: 1153.34\n",
      "[2168]\tvalid_0's rmse: 33.9628\tvalid_0's l1: 24.9722\tvalid_0's l2: 1153.47\n",
      "[2169]\tvalid_0's rmse: 33.9637\tvalid_0's l1: 24.9735\tvalid_0's l2: 1153.53\n",
      "[2170]\tvalid_0's rmse: 33.9648\tvalid_0's l1: 24.9758\tvalid_0's l2: 1153.61\n",
      "[2171]\tvalid_0's rmse: 33.9645\tvalid_0's l1: 24.9763\tvalid_0's l2: 1153.59\n",
      "[2172]\tvalid_0's rmse: 33.965\tvalid_0's l1: 24.9772\tvalid_0's l2: 1153.62\n",
      "[2173]\tvalid_0's rmse: 33.9655\tvalid_0's l1: 24.977\tvalid_0's l2: 1153.66\n",
      "[2174]\tvalid_0's rmse: 33.9652\tvalid_0's l1: 24.9766\tvalid_0's l2: 1153.63\n",
      "[2175]\tvalid_0's rmse: 33.9654\tvalid_0's l1: 24.976\tvalid_0's l2: 1153.65\n",
      "[2176]\tvalid_0's rmse: 33.9645\tvalid_0's l1: 24.9767\tvalid_0's l2: 1153.58\n",
      "[2177]\tvalid_0's rmse: 33.9653\tvalid_0's l1: 24.9773\tvalid_0's l2: 1153.64\n",
      "[2178]\tvalid_0's rmse: 33.9651\tvalid_0's l1: 24.9778\tvalid_0's l2: 1153.63\n",
      "[2179]\tvalid_0's rmse: 33.9661\tvalid_0's l1: 24.9783\tvalid_0's l2: 1153.7\n",
      "[2180]\tvalid_0's rmse: 33.9667\tvalid_0's l1: 24.978\tvalid_0's l2: 1153.74\n",
      "[2181]\tvalid_0's rmse: 33.9663\tvalid_0's l1: 24.9798\tvalid_0's l2: 1153.71\n",
      "[2182]\tvalid_0's rmse: 33.9635\tvalid_0's l1: 24.9789\tvalid_0's l2: 1153.52\n",
      "[2183]\tvalid_0's rmse: 33.9606\tvalid_0's l1: 24.9782\tvalid_0's l2: 1153.32\n",
      "[2184]\tvalid_0's rmse: 33.9575\tvalid_0's l1: 24.976\tvalid_0's l2: 1153.11\n",
      "[2185]\tvalid_0's rmse: 33.9542\tvalid_0's l1: 24.974\tvalid_0's l2: 1152.89\n",
      "[2186]\tvalid_0's rmse: 33.9511\tvalid_0's l1: 24.9723\tvalid_0's l2: 1152.67\n",
      "[2187]\tvalid_0's rmse: 33.9507\tvalid_0's l1: 24.974\tvalid_0's l2: 1152.65\n",
      "[2188]\tvalid_0's rmse: 33.9482\tvalid_0's l1: 24.9738\tvalid_0's l2: 1152.48\n",
      "[2189]\tvalid_0's rmse: 33.9475\tvalid_0's l1: 24.9753\tvalid_0's l2: 1152.44\n",
      "[2190]\tvalid_0's rmse: 33.945\tvalid_0's l1: 24.9744\tvalid_0's l2: 1152.26\n",
      "[2191]\tvalid_0's rmse: 33.9455\tvalid_0's l1: 24.9759\tvalid_0's l2: 1152.3\n",
      "[2192]\tvalid_0's rmse: 33.9447\tvalid_0's l1: 24.977\tvalid_0's l2: 1152.24\n",
      "[2193]\tvalid_0's rmse: 33.9438\tvalid_0's l1: 24.9763\tvalid_0's l2: 1152.18\n",
      "[2194]\tvalid_0's rmse: 33.943\tvalid_0's l1: 24.9758\tvalid_0's l2: 1152.13\n",
      "[2195]\tvalid_0's rmse: 33.9424\tvalid_0's l1: 24.9763\tvalid_0's l2: 1152.09\n",
      "[2196]\tvalid_0's rmse: 33.9451\tvalid_0's l1: 24.9779\tvalid_0's l2: 1152.27\n",
      "[2197]\tvalid_0's rmse: 33.9441\tvalid_0's l1: 24.9774\tvalid_0's l2: 1152.2\n",
      "[2198]\tvalid_0's rmse: 33.9452\tvalid_0's l1: 24.9775\tvalid_0's l2: 1152.28\n",
      "[2199]\tvalid_0's rmse: 33.9446\tvalid_0's l1: 24.977\tvalid_0's l2: 1152.23\n",
      "[2200]\tvalid_0's rmse: 33.9438\tvalid_0's l1: 24.9767\tvalid_0's l2: 1152.18\n",
      "[2201]\tvalid_0's rmse: 33.9395\tvalid_0's l1: 24.9743\tvalid_0's l2: 1151.89\n",
      "[2202]\tvalid_0's rmse: 33.9366\tvalid_0's l1: 24.9731\tvalid_0's l2: 1151.69\n",
      "[2203]\tvalid_0's rmse: 33.934\tvalid_0's l1: 24.9716\tvalid_0's l2: 1151.52\n",
      "[2204]\tvalid_0's rmse: 33.9313\tvalid_0's l1: 24.9702\tvalid_0's l2: 1151.33\n",
      "[2205]\tvalid_0's rmse: 33.9292\tvalid_0's l1: 24.97\tvalid_0's l2: 1151.19\n",
      "[2206]\tvalid_0's rmse: 33.927\tvalid_0's l1: 24.9692\tvalid_0's l2: 1151.04\n",
      "[2207]\tvalid_0's rmse: 33.9275\tvalid_0's l1: 24.9693\tvalid_0's l2: 1151.07\n",
      "[2208]\tvalid_0's rmse: 33.9254\tvalid_0's l1: 24.9683\tvalid_0's l2: 1150.94\n",
      "[2209]\tvalid_0's rmse: 33.9226\tvalid_0's l1: 24.9671\tvalid_0's l2: 1150.74\n"
     ]
    },
    {
     "name": "stdout",
     "output_type": "stream",
     "text": [
      "[2210]\tvalid_0's rmse: 33.9204\tvalid_0's l1: 24.9661\tvalid_0's l2: 1150.59\n",
      "[2211]\tvalid_0's rmse: 33.9203\tvalid_0's l1: 24.9651\tvalid_0's l2: 1150.59\n",
      "[2212]\tvalid_0's rmse: 33.9171\tvalid_0's l1: 24.9638\tvalid_0's l2: 1150.37\n",
      "[2213]\tvalid_0's rmse: 33.9172\tvalid_0's l1: 24.9629\tvalid_0's l2: 1150.38\n",
      "[2214]\tvalid_0's rmse: 33.9173\tvalid_0's l1: 24.962\tvalid_0's l2: 1150.38\n",
      "[2215]\tvalid_0's rmse: 33.916\tvalid_0's l1: 24.9611\tvalid_0's l2: 1150.3\n",
      "[2216]\tvalid_0's rmse: 33.9145\tvalid_0's l1: 24.9601\tvalid_0's l2: 1150.2\n",
      "[2217]\tvalid_0's rmse: 33.9124\tvalid_0's l1: 24.9579\tvalid_0's l2: 1150.05\n",
      "[2218]\tvalid_0's rmse: 33.91\tvalid_0's l1: 24.9557\tvalid_0's l2: 1149.89\n",
      "[2219]\tvalid_0's rmse: 33.9083\tvalid_0's l1: 24.9543\tvalid_0's l2: 1149.78\n",
      "[2220]\tvalid_0's rmse: 33.9079\tvalid_0's l1: 24.9529\tvalid_0's l2: 1149.74\n",
      "[2221]\tvalid_0's rmse: 33.9098\tvalid_0's l1: 24.9534\tvalid_0's l2: 1149.87\n",
      "[2222]\tvalid_0's rmse: 33.9124\tvalid_0's l1: 24.9547\tvalid_0's l2: 1150.05\n",
      "[2223]\tvalid_0's rmse: 33.913\tvalid_0's l1: 24.9544\tvalid_0's l2: 1150.09\n",
      "[2224]\tvalid_0's rmse: 33.9146\tvalid_0's l1: 24.9547\tvalid_0's l2: 1150.2\n",
      "[2225]\tvalid_0's rmse: 33.915\tvalid_0's l1: 24.9532\tvalid_0's l2: 1150.23\n",
      "[2226]\tvalid_0's rmse: 33.9164\tvalid_0's l1: 24.9531\tvalid_0's l2: 1150.32\n",
      "[2227]\tvalid_0's rmse: 33.9181\tvalid_0's l1: 24.9535\tvalid_0's l2: 1150.44\n",
      "[2228]\tvalid_0's rmse: 33.9183\tvalid_0's l1: 24.9535\tvalid_0's l2: 1150.45\n",
      "[2229]\tvalid_0's rmse: 33.917\tvalid_0's l1: 24.9518\tvalid_0's l2: 1150.37\n",
      "[2230]\tvalid_0's rmse: 33.9165\tvalid_0's l1: 24.9511\tvalid_0's l2: 1150.33\n",
      "[2231]\tvalid_0's rmse: 33.9158\tvalid_0's l1: 24.9499\tvalid_0's l2: 1150.28\n",
      "[2232]\tvalid_0's rmse: 33.9136\tvalid_0's l1: 24.9488\tvalid_0's l2: 1150.13\n",
      "[2233]\tvalid_0's rmse: 33.9127\tvalid_0's l1: 24.9485\tvalid_0's l2: 1150.07\n",
      "[2234]\tvalid_0's rmse: 33.9148\tvalid_0's l1: 24.9494\tvalid_0's l2: 1150.21\n",
      "[2235]\tvalid_0's rmse: 33.9146\tvalid_0's l1: 24.9489\tvalid_0's l2: 1150.2\n",
      "[2236]\tvalid_0's rmse: 33.9145\tvalid_0's l1: 24.9485\tvalid_0's l2: 1150.19\n",
      "[2237]\tvalid_0's rmse: 33.9123\tvalid_0's l1: 24.9473\tvalid_0's l2: 1150.04\n",
      "[2238]\tvalid_0's rmse: 33.9125\tvalid_0's l1: 24.9474\tvalid_0's l2: 1150.06\n",
      "[2239]\tvalid_0's rmse: 33.9143\tvalid_0's l1: 24.9482\tvalid_0's l2: 1150.18\n",
      "[2240]\tvalid_0's rmse: 33.915\tvalid_0's l1: 24.948\tvalid_0's l2: 1150.23\n",
      "[2241]\tvalid_0's rmse: 33.9123\tvalid_0's l1: 24.9463\tvalid_0's l2: 1150.05\n",
      "[2242]\tvalid_0's rmse: 33.9138\tvalid_0's l1: 24.948\tvalid_0's l2: 1150.15\n",
      "[2243]\tvalid_0's rmse: 33.9153\tvalid_0's l1: 24.9496\tvalid_0's l2: 1150.25\n",
      "[2244]\tvalid_0's rmse: 33.916\tvalid_0's l1: 24.9505\tvalid_0's l2: 1150.3\n",
      "[2245]\tvalid_0's rmse: 33.9153\tvalid_0's l1: 24.9498\tvalid_0's l2: 1150.24\n",
      "[2246]\tvalid_0's rmse: 33.9168\tvalid_0's l1: 24.9515\tvalid_0's l2: 1150.35\n",
      "[2247]\tvalid_0's rmse: 33.9161\tvalid_0's l1: 24.9507\tvalid_0's l2: 1150.3\n",
      "[2248]\tvalid_0's rmse: 33.9172\tvalid_0's l1: 24.9515\tvalid_0's l2: 1150.38\n",
      "[2249]\tvalid_0's rmse: 33.9183\tvalid_0's l1: 24.9518\tvalid_0's l2: 1150.45\n",
      "[2250]\tvalid_0's rmse: 33.9174\tvalid_0's l1: 24.9511\tvalid_0's l2: 1150.39\n",
      "[2251]\tvalid_0's rmse: 33.916\tvalid_0's l1: 24.9505\tvalid_0's l2: 1150.3\n",
      "[2252]\tvalid_0's rmse: 33.9147\tvalid_0's l1: 24.95\tvalid_0's l2: 1150.2\n",
      "[2253]\tvalid_0's rmse: 33.9141\tvalid_0's l1: 24.9504\tvalid_0's l2: 1150.16\n",
      "[2254]\tvalid_0's rmse: 33.9123\tvalid_0's l1: 24.9501\tvalid_0's l2: 1150.05\n",
      "[2255]\tvalid_0's rmse: 33.9128\tvalid_0's l1: 24.951\tvalid_0's l2: 1150.08\n",
      "[2256]\tvalid_0's rmse: 33.9117\tvalid_0's l1: 24.9505\tvalid_0's l2: 1150.01\n",
      "[2257]\tvalid_0's rmse: 33.9103\tvalid_0's l1: 24.9497\tvalid_0's l2: 1149.91\n",
      "[2258]\tvalid_0's rmse: 33.9093\tvalid_0's l1: 24.9492\tvalid_0's l2: 1149.84\n",
      "[2259]\tvalid_0's rmse: 33.9078\tvalid_0's l1: 24.9485\tvalid_0's l2: 1149.74\n",
      "[2260]\tvalid_0's rmse: 33.9083\tvalid_0's l1: 24.9494\tvalid_0's l2: 1149.77\n",
      "[2261]\tvalid_0's rmse: 33.9079\tvalid_0's l1: 24.9496\tvalid_0's l2: 1149.75\n",
      "[2262]\tvalid_0's rmse: 33.9076\tvalid_0's l1: 24.9498\tvalid_0's l2: 1149.72\n",
      "[2263]\tvalid_0's rmse: 33.9057\tvalid_0's l1: 24.9496\tvalid_0's l2: 1149.6\n",
      "[2264]\tvalid_0's rmse: 33.9054\tvalid_0's l1: 24.9497\tvalid_0's l2: 1149.58\n",
      "[2265]\tvalid_0's rmse: 33.9034\tvalid_0's l1: 24.9493\tvalid_0's l2: 1149.44\n",
      "[2266]\tvalid_0's rmse: 33.9032\tvalid_0's l1: 24.9506\tvalid_0's l2: 1149.43\n",
      "[2267]\tvalid_0's rmse: 33.9022\tvalid_0's l1: 24.951\tvalid_0's l2: 1149.36\n",
      "[2268]\tvalid_0's rmse: 33.9001\tvalid_0's l1: 24.9509\tvalid_0's l2: 1149.22\n",
      "[2269]\tvalid_0's rmse: 33.8998\tvalid_0's l1: 24.9513\tvalid_0's l2: 1149.2\n",
      "[2270]\tvalid_0's rmse: 33.8977\tvalid_0's l1: 24.9511\tvalid_0's l2: 1149.05\n",
      "[2271]\tvalid_0's rmse: 33.8976\tvalid_0's l1: 24.9515\tvalid_0's l2: 1149.05\n",
      "[2272]\tvalid_0's rmse: 33.8967\tvalid_0's l1: 24.9503\tvalid_0's l2: 1148.99\n",
      "[2273]\tvalid_0's rmse: 33.8962\tvalid_0's l1: 24.9491\tvalid_0's l2: 1148.95\n",
      "[2274]\tvalid_0's rmse: 33.8949\tvalid_0's l1: 24.9476\tvalid_0's l2: 1148.86\n",
      "[2275]\tvalid_0's rmse: 33.8953\tvalid_0's l1: 24.9479\tvalid_0's l2: 1148.89\n",
      "[2276]\tvalid_0's rmse: 33.8947\tvalid_0's l1: 24.9472\tvalid_0's l2: 1148.85\n",
      "[2277]\tvalid_0's rmse: 33.8922\tvalid_0's l1: 24.9455\tvalid_0's l2: 1148.68\n",
      "[2278]\tvalid_0's rmse: 33.8891\tvalid_0's l1: 24.9441\tvalid_0's l2: 1148.47\n",
      "[2279]\tvalid_0's rmse: 33.8872\tvalid_0's l1: 24.9439\tvalid_0's l2: 1148.34\n",
      "[2280]\tvalid_0's rmse: 33.886\tvalid_0's l1: 24.9437\tvalid_0's l2: 1148.26\n",
      "[2281]\tvalid_0's rmse: 33.8843\tvalid_0's l1: 24.9431\tvalid_0's l2: 1148.15\n",
      "[2282]\tvalid_0's rmse: 33.8822\tvalid_0's l1: 24.9427\tvalid_0's l2: 1148.01\n",
      "[2283]\tvalid_0's rmse: 33.8829\tvalid_0's l1: 24.9425\tvalid_0's l2: 1148.05\n",
      "[2284]\tvalid_0's rmse: 33.8806\tvalid_0's l1: 24.9414\tvalid_0's l2: 1147.9\n",
      "[2285]\tvalid_0's rmse: 33.8784\tvalid_0's l1: 24.9403\tvalid_0's l2: 1147.75\n",
      "[2286]\tvalid_0's rmse: 33.8752\tvalid_0's l1: 24.9388\tvalid_0's l2: 1147.53\n",
      "[2287]\tvalid_0's rmse: 33.8759\tvalid_0's l1: 24.9388\tvalid_0's l2: 1147.58\n",
      "[2288]\tvalid_0's rmse: 33.8718\tvalid_0's l1: 24.9366\tvalid_0's l2: 1147.3\n",
      "[2289]\tvalid_0's rmse: 33.8705\tvalid_0's l1: 24.9372\tvalid_0's l2: 1147.21\n",
      "[2290]\tvalid_0's rmse: 33.8668\tvalid_0's l1: 24.935\tvalid_0's l2: 1146.96\n",
      "[2291]\tvalid_0's rmse: 33.8677\tvalid_0's l1: 24.9357\tvalid_0's l2: 1147.02\n",
      "[2292]\tvalid_0's rmse: 33.8691\tvalid_0's l1: 24.936\tvalid_0's l2: 1147.12\n",
      "[2293]\tvalid_0's rmse: 33.8698\tvalid_0's l1: 24.935\tvalid_0's l2: 1147.16\n",
      "[2294]\tvalid_0's rmse: 33.871\tvalid_0's l1: 24.9351\tvalid_0's l2: 1147.24\n",
      "[2295]\tvalid_0's rmse: 33.8723\tvalid_0's l1: 24.9344\tvalid_0's l2: 1147.33\n",
      "[2296]\tvalid_0's rmse: 33.8733\tvalid_0's l1: 24.9343\tvalid_0's l2: 1147.4\n",
      "[2297]\tvalid_0's rmse: 33.8736\tvalid_0's l1: 24.9347\tvalid_0's l2: 1147.42\n",
      "[2298]\tvalid_0's rmse: 33.8752\tvalid_0's l1: 24.9353\tvalid_0's l2: 1147.53\n",
      "[2299]\tvalid_0's rmse: 33.8762\tvalid_0's l1: 24.9346\tvalid_0's l2: 1147.6\n",
      "[2300]\tvalid_0's rmse: 33.8771\tvalid_0's l1: 24.9339\tvalid_0's l2: 1147.66\n",
      "[2301]\tvalid_0's rmse: 33.8765\tvalid_0's l1: 24.9341\tvalid_0's l2: 1147.62\n",
      "[2302]\tvalid_0's rmse: 33.8754\tvalid_0's l1: 24.9334\tvalid_0's l2: 1147.54\n",
      "[2303]\tvalid_0's rmse: 33.8753\tvalid_0's l1: 24.9342\tvalid_0's l2: 1147.54\n",
      "[2304]\tvalid_0's rmse: 33.8737\tvalid_0's l1: 24.9335\tvalid_0's l2: 1147.43\n",
      "[2305]\tvalid_0's rmse: 33.8724\tvalid_0's l1: 24.9331\tvalid_0's l2: 1147.34\n",
      "[2306]\tvalid_0's rmse: 33.8714\tvalid_0's l1: 24.9324\tvalid_0's l2: 1147.27\n",
      "[2307]\tvalid_0's rmse: 33.8688\tvalid_0's l1: 24.9313\tvalid_0's l2: 1147.09\n",
      "[2308]\tvalid_0's rmse: 33.8691\tvalid_0's l1: 24.9327\tvalid_0's l2: 1147.12\n",
      "[2309]\tvalid_0's rmse: 33.8679\tvalid_0's l1: 24.932\tvalid_0's l2: 1147.03\n",
      "[2310]\tvalid_0's rmse: 33.8666\tvalid_0's l1: 24.9316\tvalid_0's l2: 1146.95\n",
      "[2311]\tvalid_0's rmse: 33.8644\tvalid_0's l1: 24.9301\tvalid_0's l2: 1146.79\n",
      "[2312]\tvalid_0's rmse: 33.8625\tvalid_0's l1: 24.9295\tvalid_0's l2: 1146.67\n",
      "[2313]\tvalid_0's rmse: 33.8631\tvalid_0's l1: 24.9288\tvalid_0's l2: 1146.71\n",
      "[2314]\tvalid_0's rmse: 33.8631\tvalid_0's l1: 24.9277\tvalid_0's l2: 1146.71\n",
      "[2315]\tvalid_0's rmse: 33.8606\tvalid_0's l1: 24.927\tvalid_0's l2: 1146.54\n",
      "[2316]\tvalid_0's rmse: 33.8581\tvalid_0's l1: 24.9257\tvalid_0's l2: 1146.37\n",
      "[2317]\tvalid_0's rmse: 33.8574\tvalid_0's l1: 24.9242\tvalid_0's l2: 1146.32\n",
      "[2318]\tvalid_0's rmse: 33.8549\tvalid_0's l1: 24.923\tvalid_0's l2: 1146.16\n",
      "[2319]\tvalid_0's rmse: 33.8519\tvalid_0's l1: 24.9221\tvalid_0's l2: 1145.95\n",
      "[2320]\tvalid_0's rmse: 33.85\tvalid_0's l1: 24.9213\tvalid_0's l2: 1145.82\n",
      "[2321]\tvalid_0's rmse: 33.8504\tvalid_0's l1: 24.921\tvalid_0's l2: 1145.85\n",
      "[2322]\tvalid_0's rmse: 33.8489\tvalid_0's l1: 24.9187\tvalid_0's l2: 1145.75\n",
      "[2323]\tvalid_0's rmse: 33.8496\tvalid_0's l1: 24.9185\tvalid_0's l2: 1145.8\n",
      "[2324]\tvalid_0's rmse: 33.8504\tvalid_0's l1: 24.9183\tvalid_0's l2: 1145.85\n",
      "[2325]\tvalid_0's rmse: 33.8506\tvalid_0's l1: 24.9174\tvalid_0's l2: 1145.87\n",
      "[2326]\tvalid_0's rmse: 33.8518\tvalid_0's l1: 24.9177\tvalid_0's l2: 1145.94\n",
      "[2327]\tvalid_0's rmse: 33.8519\tvalid_0's l1: 24.9171\tvalid_0's l2: 1145.95\n",
      "[2328]\tvalid_0's rmse: 33.8497\tvalid_0's l1: 24.9144\tvalid_0's l2: 1145.8\n",
      "[2329]\tvalid_0's rmse: 33.848\tvalid_0's l1: 24.912\tvalid_0's l2: 1145.69\n",
      "[2330]\tvalid_0's rmse: 33.8494\tvalid_0's l1: 24.9124\tvalid_0's l2: 1145.78\n",
      "[2331]\tvalid_0's rmse: 33.8503\tvalid_0's l1: 24.9124\tvalid_0's l2: 1145.84\n",
      "[2332]\tvalid_0's rmse: 33.8488\tvalid_0's l1: 24.9112\tvalid_0's l2: 1145.74\n",
      "[2333]\tvalid_0's rmse: 33.8468\tvalid_0's l1: 24.9097\tvalid_0's l2: 1145.61\n",
      "[2334]\tvalid_0's rmse: 33.8456\tvalid_0's l1: 24.9089\tvalid_0's l2: 1145.52\n",
      "[2335]\tvalid_0's rmse: 33.8436\tvalid_0's l1: 24.9069\tvalid_0's l2: 1145.39\n",
      "[2336]\tvalid_0's rmse: 33.8416\tvalid_0's l1: 24.9052\tvalid_0's l2: 1145.25\n",
      "[2337]\tvalid_0's rmse: 33.8395\tvalid_0's l1: 24.9029\tvalid_0's l2: 1145.11\n",
      "[2338]\tvalid_0's rmse: 33.8366\tvalid_0's l1: 24.9002\tvalid_0's l2: 1144.91\n",
      "[2339]\tvalid_0's rmse: 33.8332\tvalid_0's l1: 24.8974\tvalid_0's l2: 1144.69\n",
      "[2340]\tvalid_0's rmse: 33.832\tvalid_0's l1: 24.8965\tvalid_0's l2: 1144.61\n",
      "[2341]\tvalid_0's rmse: 33.8329\tvalid_0's l1: 24.8974\tvalid_0's l2: 1144.67\n",
      "[2342]\tvalid_0's rmse: 33.8339\tvalid_0's l1: 24.8984\tvalid_0's l2: 1144.73\n",
      "[2343]\tvalid_0's rmse: 33.8331\tvalid_0's l1: 24.8991\tvalid_0's l2: 1144.68\n",
      "[2344]\tvalid_0's rmse: 33.8323\tvalid_0's l1: 24.8997\tvalid_0's l2: 1144.62\n",
      "[2345]\tvalid_0's rmse: 33.8315\tvalid_0's l1: 24.9003\tvalid_0's l2: 1144.57\n",
      "[2346]\tvalid_0's rmse: 33.8318\tvalid_0's l1: 24.9011\tvalid_0's l2: 1144.59\n",
      "[2347]\tvalid_0's rmse: 33.8316\tvalid_0's l1: 24.9028\tvalid_0's l2: 1144.58\n",
      "[2348]\tvalid_0's rmse: 33.8321\tvalid_0's l1: 24.9033\tvalid_0's l2: 1144.61\n",
      "[2349]\tvalid_0's rmse: 33.8332\tvalid_0's l1: 24.904\tvalid_0's l2: 1144.69\n",
      "[2350]\tvalid_0's rmse: 33.8337\tvalid_0's l1: 24.9041\tvalid_0's l2: 1144.72\n",
      "[2351]\tvalid_0's rmse: 33.8358\tvalid_0's l1: 24.9048\tvalid_0's l2: 1144.86\n",
      "[2352]\tvalid_0's rmse: 33.8383\tvalid_0's l1: 24.9059\tvalid_0's l2: 1145.03\n",
      "[2353]\tvalid_0's rmse: 33.8394\tvalid_0's l1: 24.9053\tvalid_0's l2: 1145.11\n",
      "[2354]\tvalid_0's rmse: 33.8399\tvalid_0's l1: 24.9054\tvalid_0's l2: 1145.14\n",
      "[2355]\tvalid_0's rmse: 33.8416\tvalid_0's l1: 24.9066\tvalid_0's l2: 1145.25\n",
      "[2356]\tvalid_0's rmse: 33.8432\tvalid_0's l1: 24.9071\tvalid_0's l2: 1145.36\n",
      "[2357]\tvalid_0's rmse: 33.8449\tvalid_0's l1: 24.9085\tvalid_0's l2: 1145.48\n",
      "[2358]\tvalid_0's rmse: 33.846\tvalid_0's l1: 24.9088\tvalid_0's l2: 1145.55\n",
      "[2359]\tvalid_0's rmse: 33.8473\tvalid_0's l1: 24.9086\tvalid_0's l2: 1145.64\n",
      "[2360]\tvalid_0's rmse: 33.8483\tvalid_0's l1: 24.9083\tvalid_0's l2: 1145.71\n",
      "[2361]\tvalid_0's rmse: 33.8493\tvalid_0's l1: 24.9087\tvalid_0's l2: 1145.78\n",
      "[2362]\tvalid_0's rmse: 33.8493\tvalid_0's l1: 24.9085\tvalid_0's l2: 1145.77\n",
      "[2363]\tvalid_0's rmse: 33.8503\tvalid_0's l1: 24.9092\tvalid_0's l2: 1145.84\n",
      "[2364]\tvalid_0's rmse: 33.85\tvalid_0's l1: 24.9103\tvalid_0's l2: 1145.82\n",
      "[2365]\tvalid_0's rmse: 33.8494\tvalid_0's l1: 24.9111\tvalid_0's l2: 1145.78\n",
      "[2366]\tvalid_0's rmse: 33.849\tvalid_0's l1: 24.9112\tvalid_0's l2: 1145.75\n",
      "[2367]\tvalid_0's rmse: 33.8499\tvalid_0's l1: 24.9117\tvalid_0's l2: 1145.82\n",
      "[2368]\tvalid_0's rmse: 33.8508\tvalid_0's l1: 24.9119\tvalid_0's l2: 1145.87\n"
     ]
    },
    {
     "name": "stdout",
     "output_type": "stream",
     "text": [
      "[2369]\tvalid_0's rmse: 33.8506\tvalid_0's l1: 24.9131\tvalid_0's l2: 1145.86\n",
      "[2370]\tvalid_0's rmse: 33.8496\tvalid_0's l1: 24.912\tvalid_0's l2: 1145.79\n",
      "[2371]\tvalid_0's rmse: 33.8485\tvalid_0's l1: 24.9106\tvalid_0's l2: 1145.72\n",
      "[2372]\tvalid_0's rmse: 33.8468\tvalid_0's l1: 24.9099\tvalid_0's l2: 1145.6\n",
      "[2373]\tvalid_0's rmse: 33.8455\tvalid_0's l1: 24.9087\tvalid_0's l2: 1145.52\n",
      "[2374]\tvalid_0's rmse: 33.8453\tvalid_0's l1: 24.9092\tvalid_0's l2: 1145.5\n",
      "[2375]\tvalid_0's rmse: 33.8456\tvalid_0's l1: 24.9098\tvalid_0's l2: 1145.52\n",
      "[2376]\tvalid_0's rmse: 33.8447\tvalid_0's l1: 24.9101\tvalid_0's l2: 1145.46\n",
      "[2377]\tvalid_0's rmse: 33.8455\tvalid_0's l1: 24.9108\tvalid_0's l2: 1145.52\n",
      "[2378]\tvalid_0's rmse: 33.8452\tvalid_0's l1: 24.9099\tvalid_0's l2: 1145.5\n",
      "[2379]\tvalid_0's rmse: 33.8437\tvalid_0's l1: 24.9103\tvalid_0's l2: 1145.39\n",
      "[2380]\tvalid_0's rmse: 33.845\tvalid_0's l1: 24.9105\tvalid_0's l2: 1145.48\n",
      "[2381]\tvalid_0's rmse: 33.8455\tvalid_0's l1: 24.9115\tvalid_0's l2: 1145.52\n",
      "[2382]\tvalid_0's rmse: 33.8448\tvalid_0's l1: 24.9119\tvalid_0's l2: 1145.47\n",
      "[2383]\tvalid_0's rmse: 33.8452\tvalid_0's l1: 24.9116\tvalid_0's l2: 1145.5\n",
      "[2384]\tvalid_0's rmse: 33.8472\tvalid_0's l1: 24.9133\tvalid_0's l2: 1145.63\n",
      "[2385]\tvalid_0's rmse: 33.8474\tvalid_0's l1: 24.9139\tvalid_0's l2: 1145.65\n",
      "[2386]\tvalid_0's rmse: 33.8491\tvalid_0's l1: 24.9147\tvalid_0's l2: 1145.76\n",
      "[2387]\tvalid_0's rmse: 33.8505\tvalid_0's l1: 24.9146\tvalid_0's l2: 1145.85\n",
      "[2388]\tvalid_0's rmse: 33.8512\tvalid_0's l1: 24.9157\tvalid_0's l2: 1145.9\n",
      "[2389]\tvalid_0's rmse: 33.8532\tvalid_0's l1: 24.9161\tvalid_0's l2: 1146.04\n",
      "[2390]\tvalid_0's rmse: 33.8553\tvalid_0's l1: 24.9182\tvalid_0's l2: 1146.18\n",
      "[2391]\tvalid_0's rmse: 33.8524\tvalid_0's l1: 24.915\tvalid_0's l2: 1145.99\n",
      "[2392]\tvalid_0's rmse: 33.8508\tvalid_0's l1: 24.9137\tvalid_0's l2: 1145.87\n",
      "[2393]\tvalid_0's rmse: 33.8482\tvalid_0's l1: 24.9105\tvalid_0's l2: 1145.7\n",
      "[2394]\tvalid_0's rmse: 33.8455\tvalid_0's l1: 24.9077\tvalid_0's l2: 1145.52\n",
      "[2395]\tvalid_0's rmse: 33.8466\tvalid_0's l1: 24.9075\tvalid_0's l2: 1145.59\n",
      "[2396]\tvalid_0's rmse: 33.844\tvalid_0's l1: 24.9047\tvalid_0's l2: 1145.42\n",
      "[2397]\tvalid_0's rmse: 33.8423\tvalid_0's l1: 24.9029\tvalid_0's l2: 1145.3\n",
      "[2398]\tvalid_0's rmse: 33.8407\tvalid_0's l1: 24.9008\tvalid_0's l2: 1145.2\n",
      "[2399]\tvalid_0's rmse: 33.8395\tvalid_0's l1: 24.8994\tvalid_0's l2: 1145.11\n",
      "[2400]\tvalid_0's rmse: 33.8369\tvalid_0's l1: 24.8986\tvalid_0's l2: 1144.94\n",
      "[2401]\tvalid_0's rmse: 33.8368\tvalid_0's l1: 24.8985\tvalid_0's l2: 1144.93\n",
      "[2402]\tvalid_0's rmse: 33.8332\tvalid_0's l1: 24.8966\tvalid_0's l2: 1144.68\n",
      "[2403]\tvalid_0's rmse: 33.8343\tvalid_0's l1: 24.8976\tvalid_0's l2: 1144.76\n",
      "[2404]\tvalid_0's rmse: 33.8327\tvalid_0's l1: 24.8962\tvalid_0's l2: 1144.65\n",
      "[2405]\tvalid_0's rmse: 33.831\tvalid_0's l1: 24.8948\tvalid_0's l2: 1144.54\n",
      "[2406]\tvalid_0's rmse: 33.8312\tvalid_0's l1: 24.8935\tvalid_0's l2: 1144.55\n",
      "[2407]\tvalid_0's rmse: 33.8298\tvalid_0's l1: 24.8914\tvalid_0's l2: 1144.46\n",
      "[2408]\tvalid_0's rmse: 33.8297\tvalid_0's l1: 24.8913\tvalid_0's l2: 1144.45\n",
      "[2409]\tvalid_0's rmse: 33.8283\tvalid_0's l1: 24.8891\tvalid_0's l2: 1144.35\n",
      "[2410]\tvalid_0's rmse: 33.8274\tvalid_0's l1: 24.8888\tvalid_0's l2: 1144.29\n",
      "[2411]\tvalid_0's rmse: 33.8261\tvalid_0's l1: 24.8863\tvalid_0's l2: 1144.2\n",
      "[2412]\tvalid_0's rmse: 33.825\tvalid_0's l1: 24.8842\tvalid_0's l2: 1144.13\n",
      "[2413]\tvalid_0's rmse: 33.8254\tvalid_0's l1: 24.8827\tvalid_0's l2: 1144.16\n",
      "[2414]\tvalid_0's rmse: 33.8243\tvalid_0's l1: 24.8828\tvalid_0's l2: 1144.08\n",
      "[2415]\tvalid_0's rmse: 33.8242\tvalid_0's l1: 24.8807\tvalid_0's l2: 1144.08\n",
      "[2416]\tvalid_0's rmse: 33.824\tvalid_0's l1: 24.8807\tvalid_0's l2: 1144.06\n",
      "[2417]\tvalid_0's rmse: 33.8229\tvalid_0's l1: 24.8809\tvalid_0's l2: 1143.99\n",
      "[2418]\tvalid_0's rmse: 33.823\tvalid_0's l1: 24.8814\tvalid_0's l2: 1144\n",
      "[2419]\tvalid_0's rmse: 33.8228\tvalid_0's l1: 24.8801\tvalid_0's l2: 1143.98\n",
      "[2420]\tvalid_0's rmse: 33.8249\tvalid_0's l1: 24.8804\tvalid_0's l2: 1144.12\n",
      "[2421]\tvalid_0's rmse: 33.8247\tvalid_0's l1: 24.8804\tvalid_0's l2: 1144.11\n",
      "[2422]\tvalid_0's rmse: 33.8248\tvalid_0's l1: 24.8809\tvalid_0's l2: 1144.12\n",
      "[2423]\tvalid_0's rmse: 33.825\tvalid_0's l1: 24.8813\tvalid_0's l2: 1144.13\n",
      "[2424]\tvalid_0's rmse: 33.825\tvalid_0's l1: 24.8822\tvalid_0's l2: 1144.13\n",
      "[2425]\tvalid_0's rmse: 33.8249\tvalid_0's l1: 24.8824\tvalid_0's l2: 1144.12\n",
      "[2426]\tvalid_0's rmse: 33.8247\tvalid_0's l1: 24.8825\tvalid_0's l2: 1144.11\n",
      "[2427]\tvalid_0's rmse: 33.8245\tvalid_0's l1: 24.8835\tvalid_0's l2: 1144.09\n",
      "[2428]\tvalid_0's rmse: 33.826\tvalid_0's l1: 24.8854\tvalid_0's l2: 1144.2\n",
      "[2429]\tvalid_0's rmse: 33.8258\tvalid_0's l1: 24.8864\tvalid_0's l2: 1144.18\n",
      "[2430]\tvalid_0's rmse: 33.8257\tvalid_0's l1: 24.8865\tvalid_0's l2: 1144.17\n",
      "[2431]\tvalid_0's rmse: 33.8253\tvalid_0's l1: 24.8857\tvalid_0's l2: 1144.15\n",
      "[2432]\tvalid_0's rmse: 33.8244\tvalid_0's l1: 24.8845\tvalid_0's l2: 1144.09\n",
      "[2433]\tvalid_0's rmse: 33.825\tvalid_0's l1: 24.883\tvalid_0's l2: 1144.13\n",
      "[2434]\tvalid_0's rmse: 33.8261\tvalid_0's l1: 24.8839\tvalid_0's l2: 1144.2\n",
      "[2435]\tvalid_0's rmse: 33.8269\tvalid_0's l1: 24.8844\tvalid_0's l2: 1144.26\n",
      "[2436]\tvalid_0's rmse: 33.829\tvalid_0's l1: 24.8858\tvalid_0's l2: 1144.4\n",
      "[2437]\tvalid_0's rmse: 33.831\tvalid_0's l1: 24.8874\tvalid_0's l2: 1144.54\n",
      "[2438]\tvalid_0's rmse: 33.8327\tvalid_0's l1: 24.8888\tvalid_0's l2: 1144.65\n",
      "[2439]\tvalid_0's rmse: 33.8343\tvalid_0's l1: 24.8889\tvalid_0's l2: 1144.76\n",
      "[2440]\tvalid_0's rmse: 33.8351\tvalid_0's l1: 24.889\tvalid_0's l2: 1144.81\n",
      "[2441]\tvalid_0's rmse: 33.8363\tvalid_0's l1: 24.8896\tvalid_0's l2: 1144.9\n",
      "[2442]\tvalid_0's rmse: 33.8379\tvalid_0's l1: 24.8901\tvalid_0's l2: 1145\n",
      "[2443]\tvalid_0's rmse: 33.8388\tvalid_0's l1: 24.8902\tvalid_0's l2: 1145.06\n",
      "[2444]\tvalid_0's rmse: 33.8416\tvalid_0's l1: 24.8915\tvalid_0's l2: 1145.26\n",
      "[2445]\tvalid_0's rmse: 33.8422\tvalid_0's l1: 24.8915\tvalid_0's l2: 1145.29\n",
      "[2446]\tvalid_0's rmse: 33.8437\tvalid_0's l1: 24.8922\tvalid_0's l2: 1145.4\n",
      "[2447]\tvalid_0's rmse: 33.8431\tvalid_0's l1: 24.8915\tvalid_0's l2: 1145.35\n",
      "[2448]\tvalid_0's rmse: 33.8448\tvalid_0's l1: 24.8925\tvalid_0's l2: 1145.47\n",
      "[2449]\tvalid_0's rmse: 33.8454\tvalid_0's l1: 24.8928\tvalid_0's l2: 1145.51\n",
      "[2450]\tvalid_0's rmse: 33.8465\tvalid_0's l1: 24.8928\tvalid_0's l2: 1145.58\n",
      "[2451]\tvalid_0's rmse: 33.8498\tvalid_0's l1: 24.8953\tvalid_0's l2: 1145.81\n",
      "[2452]\tvalid_0's rmse: 33.8497\tvalid_0's l1: 24.8943\tvalid_0's l2: 1145.8\n",
      "[2453]\tvalid_0's rmse: 33.8496\tvalid_0's l1: 24.8934\tvalid_0's l2: 1145.79\n",
      "[2454]\tvalid_0's rmse: 33.8529\tvalid_0's l1: 24.896\tvalid_0's l2: 1146.02\n",
      "[2455]\tvalid_0's rmse: 33.8535\tvalid_0's l1: 24.896\tvalid_0's l2: 1146.06\n",
      "[2456]\tvalid_0's rmse: 33.8568\tvalid_0's l1: 24.8985\tvalid_0's l2: 1146.28\n",
      "[2457]\tvalid_0's rmse: 33.8566\tvalid_0's l1: 24.8983\tvalid_0's l2: 1146.27\n",
      "[2458]\tvalid_0's rmse: 33.8568\tvalid_0's l1: 24.8978\tvalid_0's l2: 1146.28\n",
      "[2459]\tvalid_0's rmse: 33.8569\tvalid_0's l1: 24.8971\tvalid_0's l2: 1146.29\n",
      "[2460]\tvalid_0's rmse: 33.8571\tvalid_0's l1: 24.8965\tvalid_0's l2: 1146.3\n",
      "[2461]\tvalid_0's rmse: 33.8573\tvalid_0's l1: 24.8969\tvalid_0's l2: 1146.32\n",
      "[2462]\tvalid_0's rmse: 33.8578\tvalid_0's l1: 24.8965\tvalid_0's l2: 1146.35\n",
      "[2463]\tvalid_0's rmse: 33.8587\tvalid_0's l1: 24.8962\tvalid_0's l2: 1146.41\n",
      "[2464]\tvalid_0's rmse: 33.8595\tvalid_0's l1: 24.8962\tvalid_0's l2: 1146.47\n",
      "[2465]\tvalid_0's rmse: 33.8585\tvalid_0's l1: 24.8955\tvalid_0's l2: 1146.4\n",
      "[2466]\tvalid_0's rmse: 33.8584\tvalid_0's l1: 24.8941\tvalid_0's l2: 1146.39\n",
      "[2467]\tvalid_0's rmse: 33.8593\tvalid_0's l1: 24.8936\tvalid_0's l2: 1146.45\n",
      "[2468]\tvalid_0's rmse: 33.8602\tvalid_0's l1: 24.8931\tvalid_0's l2: 1146.51\n",
      "[2469]\tvalid_0's rmse: 33.8605\tvalid_0's l1: 24.8926\tvalid_0's l2: 1146.53\n",
      "[2470]\tvalid_0's rmse: 33.8606\tvalid_0's l1: 24.8913\tvalid_0's l2: 1146.54\n",
      "[2471]\tvalid_0's rmse: 33.8595\tvalid_0's l1: 24.8902\tvalid_0's l2: 1146.46\n",
      "[2472]\tvalid_0's rmse: 33.8612\tvalid_0's l1: 24.891\tvalid_0's l2: 1146.58\n",
      "[2473]\tvalid_0's rmse: 33.8607\tvalid_0's l1: 24.8912\tvalid_0's l2: 1146.55\n",
      "[2474]\tvalid_0's rmse: 33.8621\tvalid_0's l1: 24.8921\tvalid_0's l2: 1146.64\n",
      "[2475]\tvalid_0's rmse: 33.8634\tvalid_0's l1: 24.8931\tvalid_0's l2: 1146.73\n",
      "[2476]\tvalid_0's rmse: 33.8621\tvalid_0's l1: 24.8922\tvalid_0's l2: 1146.64\n",
      "[2477]\tvalid_0's rmse: 33.8637\tvalid_0's l1: 24.8929\tvalid_0's l2: 1146.75\n",
      "[2478]\tvalid_0's rmse: 33.8648\tvalid_0's l1: 24.8937\tvalid_0's l2: 1146.83\n",
      "[2479]\tvalid_0's rmse: 33.8669\tvalid_0's l1: 24.8937\tvalid_0's l2: 1146.97\n",
      "[2480]\tvalid_0's rmse: 33.8679\tvalid_0's l1: 24.8938\tvalid_0's l2: 1147.03\n",
      "[2481]\tvalid_0's rmse: 33.8675\tvalid_0's l1: 24.8951\tvalid_0's l2: 1147.01\n",
      "[2482]\tvalid_0's rmse: 33.8672\tvalid_0's l1: 24.8961\tvalid_0's l2: 1146.99\n",
      "[2483]\tvalid_0's rmse: 33.8677\tvalid_0's l1: 24.8983\tvalid_0's l2: 1147.02\n",
      "[2484]\tvalid_0's rmse: 33.8683\tvalid_0's l1: 24.898\tvalid_0's l2: 1147.06\n",
      "[2485]\tvalid_0's rmse: 33.8675\tvalid_0's l1: 24.8987\tvalid_0's l2: 1147\n",
      "[2486]\tvalid_0's rmse: 33.8672\tvalid_0's l1: 24.8999\tvalid_0's l2: 1146.99\n",
      "[2487]\tvalid_0's rmse: 33.867\tvalid_0's l1: 24.9013\tvalid_0's l2: 1146.97\n",
      "[2488]\tvalid_0's rmse: 33.8663\tvalid_0's l1: 24.9018\tvalid_0's l2: 1146.92\n",
      "[2489]\tvalid_0's rmse: 33.8656\tvalid_0's l1: 24.9028\tvalid_0's l2: 1146.88\n",
      "[2490]\tvalid_0's rmse: 33.8648\tvalid_0's l1: 24.9035\tvalid_0's l2: 1146.83\n",
      "[2491]\tvalid_0's rmse: 33.8641\tvalid_0's l1: 24.9024\tvalid_0's l2: 1146.78\n",
      "[2492]\tvalid_0's rmse: 33.8656\tvalid_0's l1: 24.903\tvalid_0's l2: 1146.88\n",
      "[2493]\tvalid_0's rmse: 33.865\tvalid_0's l1: 24.9013\tvalid_0's l2: 1146.84\n",
      "[2494]\tvalid_0's rmse: 33.865\tvalid_0's l1: 24.9011\tvalid_0's l2: 1146.84\n",
      "[2495]\tvalid_0's rmse: 33.8666\tvalid_0's l1: 24.9019\tvalid_0's l2: 1146.94\n",
      "[2496]\tvalid_0's rmse: 33.8671\tvalid_0's l1: 24.902\tvalid_0's l2: 1146.98\n",
      "[2497]\tvalid_0's rmse: 33.8667\tvalid_0's l1: 24.901\tvalid_0's l2: 1146.95\n",
      "[2498]\tvalid_0's rmse: 33.8669\tvalid_0's l1: 24.9009\tvalid_0's l2: 1146.97\n",
      "[2499]\tvalid_0's rmse: 33.8684\tvalid_0's l1: 24.9016\tvalid_0's l2: 1147.07\n",
      "[2500]\tvalid_0's rmse: 33.8687\tvalid_0's l1: 24.9015\tvalid_0's l2: 1147.09\n",
      "[2501]\tvalid_0's rmse: 33.8698\tvalid_0's l1: 24.903\tvalid_0's l2: 1147.16\n",
      "[2502]\tvalid_0's rmse: 33.8705\tvalid_0's l1: 24.9044\tvalid_0's l2: 1147.21\n",
      "[2503]\tvalid_0's rmse: 33.8709\tvalid_0's l1: 24.9056\tvalid_0's l2: 1147.24\n",
      "[2504]\tvalid_0's rmse: 33.8705\tvalid_0's l1: 24.9063\tvalid_0's l2: 1147.21\n",
      "[2505]\tvalid_0's rmse: 33.8705\tvalid_0's l1: 24.9073\tvalid_0's l2: 1147.21\n",
      "[2506]\tvalid_0's rmse: 33.8716\tvalid_0's l1: 24.9088\tvalid_0's l2: 1147.28\n",
      "[2507]\tvalid_0's rmse: 33.8727\tvalid_0's l1: 24.9103\tvalid_0's l2: 1147.36\n",
      "[2508]\tvalid_0's rmse: 33.874\tvalid_0's l1: 24.9124\tvalid_0's l2: 1147.45\n",
      "[2509]\tvalid_0's rmse: 33.8744\tvalid_0's l1: 24.9131\tvalid_0's l2: 1147.48\n",
      "[2510]\tvalid_0's rmse: 33.874\tvalid_0's l1: 24.9138\tvalid_0's l2: 1147.45\n",
      "[2511]\tvalid_0's rmse: 33.8722\tvalid_0's l1: 24.9131\tvalid_0's l2: 1147.32\n",
      "[2512]\tvalid_0's rmse: 33.8704\tvalid_0's l1: 24.9135\tvalid_0's l2: 1147.21\n",
      "[2513]\tvalid_0's rmse: 33.8697\tvalid_0's l1: 24.9137\tvalid_0's l2: 1147.16\n",
      "[2514]\tvalid_0's rmse: 33.8684\tvalid_0's l1: 24.9138\tvalid_0's l2: 1147.07\n",
      "[2515]\tvalid_0's rmse: 33.866\tvalid_0's l1: 24.9124\tvalid_0's l2: 1146.91\n",
      "[2516]\tvalid_0's rmse: 33.8653\tvalid_0's l1: 24.9113\tvalid_0's l2: 1146.86\n",
      "[2517]\tvalid_0's rmse: 33.8642\tvalid_0's l1: 24.9112\tvalid_0's l2: 1146.79\n",
      "[2518]\tvalid_0's rmse: 33.8627\tvalid_0's l1: 24.9119\tvalid_0's l2: 1146.68\n",
      "[2519]\tvalid_0's rmse: 33.8619\tvalid_0's l1: 24.9116\tvalid_0's l2: 1146.62\n",
      "[2520]\tvalid_0's rmse: 33.8617\tvalid_0's l1: 24.9116\tvalid_0's l2: 1146.62\n",
      "[2521]\tvalid_0's rmse: 33.8625\tvalid_0's l1: 24.9118\tvalid_0's l2: 1146.67\n",
      "[2522]\tvalid_0's rmse: 33.8637\tvalid_0's l1: 24.9123\tvalid_0's l2: 1146.75\n",
      "[2523]\tvalid_0's rmse: 33.8641\tvalid_0's l1: 24.9114\tvalid_0's l2: 1146.78\n",
      "[2524]\tvalid_0's rmse: 33.865\tvalid_0's l1: 24.9115\tvalid_0's l2: 1146.84\n",
      "[2525]\tvalid_0's rmse: 33.8656\tvalid_0's l1: 24.911\tvalid_0's l2: 1146.88\n",
      "[2526]\tvalid_0's rmse: 33.8664\tvalid_0's l1: 24.9112\tvalid_0's l2: 1146.93\n",
      "[2527]\tvalid_0's rmse: 33.8677\tvalid_0's l1: 24.9117\tvalid_0's l2: 1147.02\n",
      "[2528]\tvalid_0's rmse: 33.8693\tvalid_0's l1: 24.9133\tvalid_0's l2: 1147.13\n",
      "[2529]\tvalid_0's rmse: 33.8708\tvalid_0's l1: 24.9148\tvalid_0's l2: 1147.23\n",
      "[2530]\tvalid_0's rmse: 33.8728\tvalid_0's l1: 24.9164\tvalid_0's l2: 1147.37\n",
      "[2531]\tvalid_0's rmse: 33.8707\tvalid_0's l1: 24.9156\tvalid_0's l2: 1147.23\n",
      "[2532]\tvalid_0's rmse: 33.8708\tvalid_0's l1: 24.9174\tvalid_0's l2: 1147.23\n",
      "[2533]\tvalid_0's rmse: 33.8693\tvalid_0's l1: 24.9153\tvalid_0's l2: 1147.13\n",
      "[2534]\tvalid_0's rmse: 33.8692\tvalid_0's l1: 24.9142\tvalid_0's l2: 1147.13\n",
      "[2535]\tvalid_0's rmse: 33.869\tvalid_0's l1: 24.913\tvalid_0's l2: 1147.11\n",
      "[2536]\tvalid_0's rmse: 33.869\tvalid_0's l1: 24.9148\tvalid_0's l2: 1147.11\n",
      "[2537]\tvalid_0's rmse: 33.8677\tvalid_0's l1: 24.9127\tvalid_0's l2: 1147.02\n",
      "[2538]\tvalid_0's rmse: 33.8677\tvalid_0's l1: 24.9124\tvalid_0's l2: 1147.02\n",
      "[2539]\tvalid_0's rmse: 33.8677\tvalid_0's l1: 24.9115\tvalid_0's l2: 1147.02\n",
      "[2540]\tvalid_0's rmse: 33.8672\tvalid_0's l1: 24.9104\tvalid_0's l2: 1146.99\n",
      "[2541]\tvalid_0's rmse: 33.8677\tvalid_0's l1: 24.9117\tvalid_0's l2: 1147.02\n",
      "[2542]\tvalid_0's rmse: 33.8679\tvalid_0's l1: 24.9118\tvalid_0's l2: 1147.03\n"
     ]
    },
    {
     "name": "stdout",
     "output_type": "stream",
     "text": [
      "[2543]\tvalid_0's rmse: 33.8667\tvalid_0's l1: 24.9105\tvalid_0's l2: 1146.95\n",
      "[2544]\tvalid_0's rmse: 33.865\tvalid_0's l1: 24.9092\tvalid_0's l2: 1146.84\n",
      "[2545]\tvalid_0's rmse: 33.8633\tvalid_0's l1: 24.9081\tvalid_0's l2: 1146.72\n",
      "[2546]\tvalid_0's rmse: 33.8621\tvalid_0's l1: 24.9067\tvalid_0's l2: 1146.64\n",
      "[2547]\tvalid_0's rmse: 33.8604\tvalid_0's l1: 24.9056\tvalid_0's l2: 1146.53\n",
      "[2548]\tvalid_0's rmse: 33.8581\tvalid_0's l1: 24.904\tvalid_0's l2: 1146.37\n",
      "[2549]\tvalid_0's rmse: 33.8571\tvalid_0's l1: 24.903\tvalid_0's l2: 1146.3\n",
      "[2550]\tvalid_0's rmse: 33.8557\tvalid_0's l1: 24.9025\tvalid_0's l2: 1146.21\n",
      "[2551]\tvalid_0's rmse: 33.8561\tvalid_0's l1: 24.9039\tvalid_0's l2: 1146.24\n",
      "[2552]\tvalid_0's rmse: 33.8562\tvalid_0's l1: 24.9034\tvalid_0's l2: 1146.24\n",
      "[2553]\tvalid_0's rmse: 33.8533\tvalid_0's l1: 24.9019\tvalid_0's l2: 1146.04\n",
      "[2554]\tvalid_0's rmse: 33.8532\tvalid_0's l1: 24.9028\tvalid_0's l2: 1146.04\n",
      "[2555]\tvalid_0's rmse: 33.8515\tvalid_0's l1: 24.9017\tvalid_0's l2: 1145.92\n",
      "[2556]\tvalid_0's rmse: 33.8503\tvalid_0's l1: 24.902\tvalid_0's l2: 1145.84\n",
      "[2557]\tvalid_0's rmse: 33.8509\tvalid_0's l1: 24.9034\tvalid_0's l2: 1145.88\n",
      "[2558]\tvalid_0's rmse: 33.851\tvalid_0's l1: 24.9038\tvalid_0's l2: 1145.89\n",
      "[2559]\tvalid_0's rmse: 33.8482\tvalid_0's l1: 24.9028\tvalid_0's l2: 1145.7\n",
      "[2560]\tvalid_0's rmse: 33.8479\tvalid_0's l1: 24.9038\tvalid_0's l2: 1145.68\n",
      "[2561]\tvalid_0's rmse: 33.8485\tvalid_0's l1: 24.906\tvalid_0's l2: 1145.72\n",
      "[2562]\tvalid_0's rmse: 33.8489\tvalid_0's l1: 24.9078\tvalid_0's l2: 1145.74\n",
      "[2563]\tvalid_0's rmse: 33.8488\tvalid_0's l1: 24.9092\tvalid_0's l2: 1145.74\n",
      "[2564]\tvalid_0's rmse: 33.848\tvalid_0's l1: 24.9093\tvalid_0's l2: 1145.69\n",
      "[2565]\tvalid_0's rmse: 33.8477\tvalid_0's l1: 24.9093\tvalid_0's l2: 1145.67\n",
      "[2566]\tvalid_0's rmse: 33.847\tvalid_0's l1: 24.9098\tvalid_0's l2: 1145.62\n",
      "[2567]\tvalid_0's rmse: 33.8464\tvalid_0's l1: 24.9103\tvalid_0's l2: 1145.58\n",
      "[2568]\tvalid_0's rmse: 33.8471\tvalid_0's l1: 24.9128\tvalid_0's l2: 1145.62\n",
      "[2569]\tvalid_0's rmse: 33.8462\tvalid_0's l1: 24.9132\tvalid_0's l2: 1145.56\n",
      "[2570]\tvalid_0's rmse: 33.8464\tvalid_0's l1: 24.9146\tvalid_0's l2: 1145.58\n",
      "[2571]\tvalid_0's rmse: 33.8456\tvalid_0's l1: 24.9133\tvalid_0's l2: 1145.53\n",
      "[2572]\tvalid_0's rmse: 33.8476\tvalid_0's l1: 24.9147\tvalid_0's l2: 1145.66\n",
      "[2573]\tvalid_0's rmse: 33.8489\tvalid_0's l1: 24.9151\tvalid_0's l2: 1145.74\n",
      "[2574]\tvalid_0's rmse: 33.847\tvalid_0's l1: 24.9144\tvalid_0's l2: 1145.62\n",
      "[2575]\tvalid_0's rmse: 33.8484\tvalid_0's l1: 24.9146\tvalid_0's l2: 1145.71\n",
      "[2576]\tvalid_0's rmse: 33.8503\tvalid_0's l1: 24.9161\tvalid_0's l2: 1145.84\n",
      "[2577]\tvalid_0's rmse: 33.8512\tvalid_0's l1: 24.9169\tvalid_0's l2: 1145.91\n",
      "[2578]\tvalid_0's rmse: 33.8511\tvalid_0's l1: 24.9165\tvalid_0's l2: 1145.9\n",
      "[2579]\tvalid_0's rmse: 33.8524\tvalid_0's l1: 24.9169\tvalid_0's l2: 1145.98\n",
      "[2580]\tvalid_0's rmse: 33.8511\tvalid_0's l1: 24.9157\tvalid_0's l2: 1145.9\n",
      "[2581]\tvalid_0's rmse: 33.8516\tvalid_0's l1: 24.9158\tvalid_0's l2: 1145.93\n",
      "[2582]\tvalid_0's rmse: 33.8527\tvalid_0's l1: 24.9162\tvalid_0's l2: 1146.01\n",
      "[2583]\tvalid_0's rmse: 33.8514\tvalid_0's l1: 24.9158\tvalid_0's l2: 1145.92\n",
      "[2584]\tvalid_0's rmse: 33.8518\tvalid_0's l1: 24.9155\tvalid_0's l2: 1145.94\n",
      "[2585]\tvalid_0's rmse: 33.8508\tvalid_0's l1: 24.9148\tvalid_0's l2: 1145.87\n",
      "[2586]\tvalid_0's rmse: 33.8504\tvalid_0's l1: 24.9143\tvalid_0's l2: 1145.85\n",
      "[2587]\tvalid_0's rmse: 33.8515\tvalid_0's l1: 24.9145\tvalid_0's l2: 1145.92\n",
      "[2588]\tvalid_0's rmse: 33.8511\tvalid_0's l1: 24.9131\tvalid_0's l2: 1145.9\n",
      "[2589]\tvalid_0's rmse: 33.853\tvalid_0's l1: 24.9135\tvalid_0's l2: 1146.02\n",
      "[2590]\tvalid_0's rmse: 33.8523\tvalid_0's l1: 24.9128\tvalid_0's l2: 1145.98\n",
      "[2591]\tvalid_0's rmse: 33.8537\tvalid_0's l1: 24.9124\tvalid_0's l2: 1146.07\n",
      "[2592]\tvalid_0's rmse: 33.8527\tvalid_0's l1: 24.9101\tvalid_0's l2: 1146\n",
      "[2593]\tvalid_0's rmse: 33.8517\tvalid_0's l1: 24.9079\tvalid_0's l2: 1145.94\n",
      "[2594]\tvalid_0's rmse: 33.8503\tvalid_0's l1: 24.9071\tvalid_0's l2: 1145.85\n",
      "[2595]\tvalid_0's rmse: 33.8505\tvalid_0's l1: 24.9058\tvalid_0's l2: 1145.85\n",
      "[2596]\tvalid_0's rmse: 33.8495\tvalid_0's l1: 24.9048\tvalid_0's l2: 1145.79\n",
      "[2597]\tvalid_0's rmse: 33.8485\tvalid_0's l1: 24.9038\tvalid_0's l2: 1145.72\n",
      "[2598]\tvalid_0's rmse: 33.8488\tvalid_0's l1: 24.904\tvalid_0's l2: 1145.74\n",
      "[2599]\tvalid_0's rmse: 33.8501\tvalid_0's l1: 24.9042\tvalid_0's l2: 1145.83\n",
      "[2600]\tvalid_0's rmse: 33.8505\tvalid_0's l1: 24.9045\tvalid_0's l2: 1145.85\n",
      "[2601]\tvalid_0's rmse: 33.8509\tvalid_0's l1: 24.9042\tvalid_0's l2: 1145.88\n",
      "[2602]\tvalid_0's rmse: 33.849\tvalid_0's l1: 24.9029\tvalid_0's l2: 1145.76\n",
      "[2603]\tvalid_0's rmse: 33.8477\tvalid_0's l1: 24.902\tvalid_0's l2: 1145.67\n",
      "[2604]\tvalid_0's rmse: 33.8465\tvalid_0's l1: 24.9018\tvalid_0's l2: 1145.58\n",
      "[2605]\tvalid_0's rmse: 33.8454\tvalid_0's l1: 24.9012\tvalid_0's l2: 1145.51\n",
      "[2606]\tvalid_0's rmse: 33.8452\tvalid_0's l1: 24.9009\tvalid_0's l2: 1145.5\n",
      "[2607]\tvalid_0's rmse: 33.8449\tvalid_0's l1: 24.9015\tvalid_0's l2: 1145.48\n",
      "[2608]\tvalid_0's rmse: 33.844\tvalid_0's l1: 24.9015\tvalid_0's l2: 1145.42\n",
      "[2609]\tvalid_0's rmse: 33.8447\tvalid_0's l1: 24.9017\tvalid_0's l2: 1145.46\n",
      "[2610]\tvalid_0's rmse: 33.8451\tvalid_0's l1: 24.9017\tvalid_0's l2: 1145.49\n",
      "[2611]\tvalid_0's rmse: 33.8443\tvalid_0's l1: 24.9027\tvalid_0's l2: 1145.44\n",
      "[2612]\tvalid_0's rmse: 33.8451\tvalid_0's l1: 24.9044\tvalid_0's l2: 1145.49\n",
      "[2613]\tvalid_0's rmse: 33.8455\tvalid_0's l1: 24.9068\tvalid_0's l2: 1145.52\n",
      "[2614]\tvalid_0's rmse: 33.8458\tvalid_0's l1: 24.9076\tvalid_0's l2: 1145.54\n",
      "[2615]\tvalid_0's rmse: 33.8445\tvalid_0's l1: 24.9072\tvalid_0's l2: 1145.45\n",
      "[2616]\tvalid_0's rmse: 33.8432\tvalid_0's l1: 24.9068\tvalid_0's l2: 1145.36\n",
      "[2617]\tvalid_0's rmse: 33.8458\tvalid_0's l1: 24.9096\tvalid_0's l2: 1145.54\n",
      "[2618]\tvalid_0's rmse: 33.8451\tvalid_0's l1: 24.9106\tvalid_0's l2: 1145.49\n",
      "[2619]\tvalid_0's rmse: 33.8457\tvalid_0's l1: 24.9124\tvalid_0's l2: 1145.53\n",
      "[2620]\tvalid_0's rmse: 33.8462\tvalid_0's l1: 24.9142\tvalid_0's l2: 1145.57\n",
      "[2621]\tvalid_0's rmse: 33.8457\tvalid_0's l1: 24.9141\tvalid_0's l2: 1145.53\n",
      "[2622]\tvalid_0's rmse: 33.8464\tvalid_0's l1: 24.9165\tvalid_0's l2: 1145.58\n",
      "[2623]\tvalid_0's rmse: 33.8467\tvalid_0's l1: 24.9169\tvalid_0's l2: 1145.6\n",
      "[2624]\tvalid_0's rmse: 33.8469\tvalid_0's l1: 24.9168\tvalid_0's l2: 1145.61\n",
      "[2625]\tvalid_0's rmse: 33.8467\tvalid_0's l1: 24.9174\tvalid_0's l2: 1145.6\n",
      "[2626]\tvalid_0's rmse: 33.8464\tvalid_0's l1: 24.9179\tvalid_0's l2: 1145.58\n",
      "[2627]\tvalid_0's rmse: 33.8467\tvalid_0's l1: 24.9196\tvalid_0's l2: 1145.6\n",
      "[2628]\tvalid_0's rmse: 33.8471\tvalid_0's l1: 24.9214\tvalid_0's l2: 1145.62\n",
      "[2629]\tvalid_0's rmse: 33.8467\tvalid_0's l1: 24.9222\tvalid_0's l2: 1145.6\n",
      "[2630]\tvalid_0's rmse: 33.8463\tvalid_0's l1: 24.9227\tvalid_0's l2: 1145.57\n",
      "[2631]\tvalid_0's rmse: 33.8474\tvalid_0's l1: 24.9243\tvalid_0's l2: 1145.65\n",
      "[2632]\tvalid_0's rmse: 33.849\tvalid_0's l1: 24.9247\tvalid_0's l2: 1145.76\n",
      "[2633]\tvalid_0's rmse: 33.8501\tvalid_0's l1: 24.925\tvalid_0's l2: 1145.83\n",
      "[2634]\tvalid_0's rmse: 33.8511\tvalid_0's l1: 24.9253\tvalid_0's l2: 1145.9\n",
      "[2635]\tvalid_0's rmse: 33.8532\tvalid_0's l1: 24.9269\tvalid_0's l2: 1146.04\n",
      "[2636]\tvalid_0's rmse: 33.8553\tvalid_0's l1: 24.9271\tvalid_0's l2: 1146.18\n",
      "[2637]\tvalid_0's rmse: 33.8575\tvalid_0's l1: 24.9273\tvalid_0's l2: 1146.33\n",
      "[2638]\tvalid_0's rmse: 33.8602\tvalid_0's l1: 24.9289\tvalid_0's l2: 1146.51\n",
      "[2639]\tvalid_0's rmse: 33.8581\tvalid_0's l1: 24.9263\tvalid_0's l2: 1146.37\n",
      "[2640]\tvalid_0's rmse: 33.8601\tvalid_0's l1: 24.9277\tvalid_0's l2: 1146.51\n",
      "[2641]\tvalid_0's rmse: 33.8596\tvalid_0's l1: 24.9272\tvalid_0's l2: 1146.47\n",
      "[2642]\tvalid_0's rmse: 33.8601\tvalid_0's l1: 24.9274\tvalid_0's l2: 1146.51\n",
      "[2643]\tvalid_0's rmse: 33.8596\tvalid_0's l1: 24.9275\tvalid_0's l2: 1146.47\n",
      "[2644]\tvalid_0's rmse: 33.8584\tvalid_0's l1: 24.9262\tvalid_0's l2: 1146.39\n",
      "[2645]\tvalid_0's rmse: 33.8589\tvalid_0's l1: 24.9265\tvalid_0's l2: 1146.43\n",
      "[2646]\tvalid_0's rmse: 33.8584\tvalid_0's l1: 24.9261\tvalid_0's l2: 1146.39\n",
      "[2647]\tvalid_0's rmse: 33.8584\tvalid_0's l1: 24.9262\tvalid_0's l2: 1146.39\n",
      "[2648]\tvalid_0's rmse: 33.8604\tvalid_0's l1: 24.9261\tvalid_0's l2: 1146.52\n",
      "[2649]\tvalid_0's rmse: 33.8605\tvalid_0's l1: 24.9263\tvalid_0's l2: 1146.54\n",
      "[2650]\tvalid_0's rmse: 33.8596\tvalid_0's l1: 24.9254\tvalid_0's l2: 1146.47\n",
      "[2651]\tvalid_0's rmse: 33.8606\tvalid_0's l1: 24.9253\tvalid_0's l2: 1146.54\n",
      "[2652]\tvalid_0's rmse: 33.8615\tvalid_0's l1: 24.9255\tvalid_0's l2: 1146.6\n",
      "[2653]\tvalid_0's rmse: 33.8627\tvalid_0's l1: 24.9259\tvalid_0's l2: 1146.69\n",
      "[2654]\tvalid_0's rmse: 33.8636\tvalid_0's l1: 24.9269\tvalid_0's l2: 1146.74\n",
      "[2655]\tvalid_0's rmse: 33.8647\tvalid_0's l1: 24.9267\tvalid_0's l2: 1146.82\n",
      "[2656]\tvalid_0's rmse: 33.8653\tvalid_0's l1: 24.926\tvalid_0's l2: 1146.86\n",
      "[2657]\tvalid_0's rmse: 33.8657\tvalid_0's l1: 24.9248\tvalid_0's l2: 1146.88\n",
      "[2658]\tvalid_0's rmse: 33.8671\tvalid_0's l1: 24.9257\tvalid_0's l2: 1146.98\n",
      "[2659]\tvalid_0's rmse: 33.8679\tvalid_0's l1: 24.925\tvalid_0's l2: 1147.03\n",
      "[2660]\tvalid_0's rmse: 33.8684\tvalid_0's l1: 24.9234\tvalid_0's l2: 1147.07\n",
      "[2661]\tvalid_0's rmse: 33.8676\tvalid_0's l1: 24.9228\tvalid_0's l2: 1147.01\n",
      "[2662]\tvalid_0's rmse: 33.8688\tvalid_0's l1: 24.9228\tvalid_0's l2: 1147.1\n",
      "[2663]\tvalid_0's rmse: 33.8678\tvalid_0's l1: 24.9222\tvalid_0's l2: 1147.03\n",
      "[2664]\tvalid_0's rmse: 33.8659\tvalid_0's l1: 24.9208\tvalid_0's l2: 1146.9\n",
      "[2665]\tvalid_0's rmse: 33.8652\tvalid_0's l1: 24.9201\tvalid_0's l2: 1146.85\n",
      "[2666]\tvalid_0's rmse: 33.8639\tvalid_0's l1: 24.9185\tvalid_0's l2: 1146.76\n",
      "[2667]\tvalid_0's rmse: 33.8632\tvalid_0's l1: 24.9166\tvalid_0's l2: 1146.71\n",
      "[2668]\tvalid_0's rmse: 33.8612\tvalid_0's l1: 24.9146\tvalid_0's l2: 1146.58\n",
      "[2669]\tvalid_0's rmse: 33.8619\tvalid_0's l1: 24.9146\tvalid_0's l2: 1146.63\n",
      "[2670]\tvalid_0's rmse: 33.8611\tvalid_0's l1: 24.9134\tvalid_0's l2: 1146.57\n",
      "[2671]\tvalid_0's rmse: 33.8613\tvalid_0's l1: 24.9142\tvalid_0's l2: 1146.59\n",
      "[2672]\tvalid_0's rmse: 33.8639\tvalid_0's l1: 24.9155\tvalid_0's l2: 1146.76\n",
      "[2673]\tvalid_0's rmse: 33.8643\tvalid_0's l1: 24.9153\tvalid_0's l2: 1146.79\n",
      "[2674]\tvalid_0's rmse: 33.8652\tvalid_0's l1: 24.916\tvalid_0's l2: 1146.85\n",
      "[2675]\tvalid_0's rmse: 33.8653\tvalid_0's l1: 24.9157\tvalid_0's l2: 1146.86\n",
      "[2676]\tvalid_0's rmse: 33.8676\tvalid_0's l1: 24.917\tvalid_0's l2: 1147.01\n",
      "[2677]\tvalid_0's rmse: 33.867\tvalid_0's l1: 24.916\tvalid_0's l2: 1146.97\n",
      "[2678]\tvalid_0's rmse: 33.8673\tvalid_0's l1: 24.9167\tvalid_0's l2: 1146.99\n",
      "[2679]\tvalid_0's rmse: 33.8667\tvalid_0's l1: 24.9158\tvalid_0's l2: 1146.95\n",
      "[2680]\tvalid_0's rmse: 33.868\tvalid_0's l1: 24.9177\tvalid_0's l2: 1147.04\n",
      "[2681]\tvalid_0's rmse: 33.869\tvalid_0's l1: 24.9189\tvalid_0's l2: 1147.11\n",
      "[2682]\tvalid_0's rmse: 33.8672\tvalid_0's l1: 24.9182\tvalid_0's l2: 1146.99\n",
      "[2683]\tvalid_0's rmse: 33.8655\tvalid_0's l1: 24.9194\tvalid_0's l2: 1146.87\n",
      "[2684]\tvalid_0's rmse: 33.8659\tvalid_0's l1: 24.9195\tvalid_0's l2: 1146.9\n",
      "[2685]\tvalid_0's rmse: 33.8658\tvalid_0's l1: 24.9192\tvalid_0's l2: 1146.89\n",
      "[2686]\tvalid_0's rmse: 33.8638\tvalid_0's l1: 24.9192\tvalid_0's l2: 1146.75\n",
      "[2687]\tvalid_0's rmse: 33.8642\tvalid_0's l1: 24.9193\tvalid_0's l2: 1146.79\n",
      "[2688]\tvalid_0's rmse: 33.8622\tvalid_0's l1: 24.9195\tvalid_0's l2: 1146.65\n",
      "[2689]\tvalid_0's rmse: 33.8629\tvalid_0's l1: 24.9216\tvalid_0's l2: 1146.69\n",
      "[2690]\tvalid_0's rmse: 33.8612\tvalid_0's l1: 24.9227\tvalid_0's l2: 1146.58\n",
      "[2691]\tvalid_0's rmse: 33.8622\tvalid_0's l1: 24.9227\tvalid_0's l2: 1146.65\n",
      "[2692]\tvalid_0's rmse: 33.8634\tvalid_0's l1: 24.9242\tvalid_0's l2: 1146.73\n",
      "[2693]\tvalid_0's rmse: 33.8645\tvalid_0's l1: 24.9252\tvalid_0's l2: 1146.8\n",
      "[2694]\tvalid_0's rmse: 33.8668\tvalid_0's l1: 24.9266\tvalid_0's l2: 1146.96\n",
      "[2695]\tvalid_0's rmse: 33.8685\tvalid_0's l1: 24.9267\tvalid_0's l2: 1147.07\n",
      "[2696]\tvalid_0's rmse: 33.8701\tvalid_0's l1: 24.9269\tvalid_0's l2: 1147.18\n",
      "[2697]\tvalid_0's rmse: 33.871\tvalid_0's l1: 24.9282\tvalid_0's l2: 1147.24\n",
      "[2698]\tvalid_0's rmse: 33.8733\tvalid_0's l1: 24.9297\tvalid_0's l2: 1147.4\n",
      "[2699]\tvalid_0's rmse: 33.8744\tvalid_0's l1: 24.9306\tvalid_0's l2: 1147.48\n",
      "[2700]\tvalid_0's rmse: 33.875\tvalid_0's l1: 24.9321\tvalid_0's l2: 1147.51\n",
      "[2701]\tvalid_0's rmse: 33.8742\tvalid_0's l1: 24.9314\tvalid_0's l2: 1147.46\n",
      "[2702]\tvalid_0's rmse: 33.8728\tvalid_0's l1: 24.9307\tvalid_0's l2: 1147.36\n",
      "[2703]\tvalid_0's rmse: 33.8707\tvalid_0's l1: 24.929\tvalid_0's l2: 1147.22\n",
      "[2704]\tvalid_0's rmse: 33.8712\tvalid_0's l1: 24.929\tvalid_0's l2: 1147.26\n",
      "[2705]\tvalid_0's rmse: 33.8718\tvalid_0's l1: 24.9289\tvalid_0's l2: 1147.3\n",
      "[2706]\tvalid_0's rmse: 33.8713\tvalid_0's l1: 24.9282\tvalid_0's l2: 1147.26\n",
      "[2707]\tvalid_0's rmse: 33.8698\tvalid_0's l1: 24.9276\tvalid_0's l2: 1147.17\n",
      "[2708]\tvalid_0's rmse: 33.8699\tvalid_0's l1: 24.9287\tvalid_0's l2: 1147.17\n"
     ]
    },
    {
     "name": "stdout",
     "output_type": "stream",
     "text": [
      "[2709]\tvalid_0's rmse: 33.87\tvalid_0's l1: 24.9295\tvalid_0's l2: 1147.18\n",
      "[2710]\tvalid_0's rmse: 33.8688\tvalid_0's l1: 24.9296\tvalid_0's l2: 1147.1\n",
      "[2711]\tvalid_0's rmse: 33.8682\tvalid_0's l1: 24.9294\tvalid_0's l2: 1147.05\n",
      "[2712]\tvalid_0's rmse: 33.8676\tvalid_0's l1: 24.9283\tvalid_0's l2: 1147.01\n",
      "[2713]\tvalid_0's rmse: 33.8671\tvalid_0's l1: 24.9275\tvalid_0's l2: 1146.98\n",
      "[2714]\tvalid_0's rmse: 33.8664\tvalid_0's l1: 24.9271\tvalid_0's l2: 1146.93\n",
      "[2715]\tvalid_0's rmse: 33.865\tvalid_0's l1: 24.926\tvalid_0's l2: 1146.84\n",
      "[2716]\tvalid_0's rmse: 33.866\tvalid_0's l1: 24.9265\tvalid_0's l2: 1146.9\n",
      "[2717]\tvalid_0's rmse: 33.8659\tvalid_0's l1: 24.9268\tvalid_0's l2: 1146.9\n",
      "[2718]\tvalid_0's rmse: 33.8661\tvalid_0's l1: 24.9273\tvalid_0's l2: 1146.91\n",
      "[2719]\tvalid_0's rmse: 33.8661\tvalid_0's l1: 24.9276\tvalid_0's l2: 1146.91\n",
      "[2720]\tvalid_0's rmse: 33.8655\tvalid_0's l1: 24.9268\tvalid_0's l2: 1146.87\n",
      "[2721]\tvalid_0's rmse: 33.8673\tvalid_0's l1: 24.9284\tvalid_0's l2: 1147\n",
      "[2722]\tvalid_0's rmse: 33.8689\tvalid_0's l1: 24.9302\tvalid_0's l2: 1147.1\n",
      "[2723]\tvalid_0's rmse: 33.8708\tvalid_0's l1: 24.9316\tvalid_0's l2: 1147.23\n",
      "[2724]\tvalid_0's rmse: 33.8724\tvalid_0's l1: 24.9333\tvalid_0's l2: 1147.34\n",
      "[2725]\tvalid_0's rmse: 33.8717\tvalid_0's l1: 24.9321\tvalid_0's l2: 1147.29\n",
      "[2726]\tvalid_0's rmse: 33.8704\tvalid_0's l1: 24.9327\tvalid_0's l2: 1147.2\n",
      "[2727]\tvalid_0's rmse: 33.8682\tvalid_0's l1: 24.9336\tvalid_0's l2: 1147.06\n",
      "[2728]\tvalid_0's rmse: 33.8689\tvalid_0's l1: 24.9349\tvalid_0's l2: 1147.1\n",
      "[2729]\tvalid_0's rmse: 33.8694\tvalid_0's l1: 24.9362\tvalid_0's l2: 1147.13\n",
      "[2730]\tvalid_0's rmse: 33.8664\tvalid_0's l1: 24.9354\tvalid_0's l2: 1146.93\n",
      "[2731]\tvalid_0's rmse: 33.868\tvalid_0's l1: 24.9354\tvalid_0's l2: 1147.04\n",
      "[2732]\tvalid_0's rmse: 33.8694\tvalid_0's l1: 24.9371\tvalid_0's l2: 1147.14\n",
      "[2733]\tvalid_0's rmse: 33.8699\tvalid_0's l1: 24.9382\tvalid_0's l2: 1147.17\n",
      "[2734]\tvalid_0's rmse: 33.8709\tvalid_0's l1: 24.9391\tvalid_0's l2: 1147.24\n",
      "[2735]\tvalid_0's rmse: 33.8704\tvalid_0's l1: 24.9391\tvalid_0's l2: 1147.2\n",
      "[2736]\tvalid_0's rmse: 33.8695\tvalid_0's l1: 24.9388\tvalid_0's l2: 1147.14\n",
      "[2737]\tvalid_0's rmse: 33.8685\tvalid_0's l1: 24.9389\tvalid_0's l2: 1147.08\n",
      "[2738]\tvalid_0's rmse: 33.8703\tvalid_0's l1: 24.9402\tvalid_0's l2: 1147.2\n",
      "[2739]\tvalid_0's rmse: 33.8697\tvalid_0's l1: 24.9407\tvalid_0's l2: 1147.16\n",
      "[2740]\tvalid_0's rmse: 33.8704\tvalid_0's l1: 24.9419\tvalid_0's l2: 1147.2\n",
      "[2741]\tvalid_0's rmse: 33.8684\tvalid_0's l1: 24.9403\tvalid_0's l2: 1147.07\n",
      "[2742]\tvalid_0's rmse: 33.8643\tvalid_0's l1: 24.9374\tvalid_0's l2: 1146.79\n",
      "[2743]\tvalid_0's rmse: 33.8633\tvalid_0's l1: 24.9368\tvalid_0's l2: 1146.73\n",
      "[2744]\tvalid_0's rmse: 33.8606\tvalid_0's l1: 24.937\tvalid_0's l2: 1146.54\n",
      "[2745]\tvalid_0's rmse: 33.8579\tvalid_0's l1: 24.9371\tvalid_0's l2: 1146.36\n",
      "[2746]\tvalid_0's rmse: 33.8582\tvalid_0's l1: 24.9376\tvalid_0's l2: 1146.38\n",
      "[2747]\tvalid_0's rmse: 33.8557\tvalid_0's l1: 24.9379\tvalid_0's l2: 1146.21\n",
      "[2748]\tvalid_0's rmse: 33.8529\tvalid_0's l1: 24.938\tvalid_0's l2: 1146.02\n",
      "[2749]\tvalid_0's rmse: 33.85\tvalid_0's l1: 24.9372\tvalid_0's l2: 1145.82\n",
      "[2750]\tvalid_0's rmse: 33.8479\tvalid_0's l1: 24.9369\tvalid_0's l2: 1145.68\n",
      "[2751]\tvalid_0's rmse: 33.8458\tvalid_0's l1: 24.9357\tvalid_0's l2: 1145.54\n",
      "[2752]\tvalid_0's rmse: 33.8439\tvalid_0's l1: 24.9346\tvalid_0's l2: 1145.41\n",
      "[2753]\tvalid_0's rmse: 33.8451\tvalid_0's l1: 24.9366\tvalid_0's l2: 1145.49\n",
      "[2754]\tvalid_0's rmse: 33.8438\tvalid_0's l1: 24.937\tvalid_0's l2: 1145.4\n",
      "[2755]\tvalid_0's rmse: 33.8427\tvalid_0's l1: 24.9362\tvalid_0's l2: 1145.33\n",
      "[2756]\tvalid_0's rmse: 33.8422\tvalid_0's l1: 24.9368\tvalid_0's l2: 1145.29\n",
      "[2757]\tvalid_0's rmse: 33.8415\tvalid_0's l1: 24.9367\tvalid_0's l2: 1145.25\n",
      "[2758]\tvalid_0's rmse: 33.8431\tvalid_0's l1: 24.9372\tvalid_0's l2: 1145.36\n",
      "[2759]\tvalid_0's rmse: 33.844\tvalid_0's l1: 24.9393\tvalid_0's l2: 1145.42\n",
      "[2760]\tvalid_0's rmse: 33.8457\tvalid_0's l1: 24.9398\tvalid_0's l2: 1145.53\n",
      "[2761]\tvalid_0's rmse: 33.8433\tvalid_0's l1: 24.9373\tvalid_0's l2: 1145.37\n",
      "[2762]\tvalid_0's rmse: 33.8433\tvalid_0's l1: 24.9378\tvalid_0's l2: 1145.37\n",
      "[2763]\tvalid_0's rmse: 33.8413\tvalid_0's l1: 24.9374\tvalid_0's l2: 1145.23\n",
      "[2764]\tvalid_0's rmse: 33.8392\tvalid_0's l1: 24.9351\tvalid_0's l2: 1145.09\n",
      "[2765]\tvalid_0's rmse: 33.8368\tvalid_0's l1: 24.9326\tvalid_0's l2: 1144.93\n",
      "[2766]\tvalid_0's rmse: 33.8366\tvalid_0's l1: 24.9329\tvalid_0's l2: 1144.91\n",
      "[2767]\tvalid_0's rmse: 33.8348\tvalid_0's l1: 24.9313\tvalid_0's l2: 1144.8\n",
      "[2768]\tvalid_0's rmse: 33.8324\tvalid_0's l1: 24.9287\tvalid_0's l2: 1144.63\n",
      "[2769]\tvalid_0's rmse: 33.8303\tvalid_0's l1: 24.9265\tvalid_0's l2: 1144.49\n",
      "[2770]\tvalid_0's rmse: 33.8286\tvalid_0's l1: 24.9248\tvalid_0's l2: 1144.37\n",
      "[2771]\tvalid_0's rmse: 33.8298\tvalid_0's l1: 24.9251\tvalid_0's l2: 1144.46\n",
      "[2772]\tvalid_0's rmse: 33.8315\tvalid_0's l1: 24.9251\tvalid_0's l2: 1144.57\n",
      "[2773]\tvalid_0's rmse: 33.8332\tvalid_0's l1: 24.9258\tvalid_0's l2: 1144.69\n",
      "[2774]\tvalid_0's rmse: 33.8345\tvalid_0's l1: 24.9266\tvalid_0's l2: 1144.77\n",
      "[2775]\tvalid_0's rmse: 33.8341\tvalid_0's l1: 24.926\tvalid_0's l2: 1144.75\n",
      "[2776]\tvalid_0's rmse: 33.8355\tvalid_0's l1: 24.9265\tvalid_0's l2: 1144.84\n",
      "[2777]\tvalid_0's rmse: 33.8358\tvalid_0's l1: 24.9262\tvalid_0's l2: 1144.86\n",
      "[2778]\tvalid_0's rmse: 33.8373\tvalid_0's l1: 24.9267\tvalid_0's l2: 1144.96\n",
      "[2779]\tvalid_0's rmse: 33.8387\tvalid_0's l1: 24.9276\tvalid_0's l2: 1145.05\n",
      "[2780]\tvalid_0's rmse: 33.8403\tvalid_0's l1: 24.9282\tvalid_0's l2: 1145.17\n",
      "[2781]\tvalid_0's rmse: 33.8398\tvalid_0's l1: 24.9282\tvalid_0's l2: 1145.13\n",
      "[2782]\tvalid_0's rmse: 33.8408\tvalid_0's l1: 24.9289\tvalid_0's l2: 1145.2\n",
      "[2783]\tvalid_0's rmse: 33.8402\tvalid_0's l1: 24.9294\tvalid_0's l2: 1145.16\n",
      "[2784]\tvalid_0's rmse: 33.8395\tvalid_0's l1: 24.9309\tvalid_0's l2: 1145.11\n",
      "[2785]\tvalid_0's rmse: 33.8392\tvalid_0's l1: 24.9314\tvalid_0's l2: 1145.09\n",
      "[2786]\tvalid_0's rmse: 33.8388\tvalid_0's l1: 24.9299\tvalid_0's l2: 1145.06\n",
      "[2787]\tvalid_0's rmse: 33.8399\tvalid_0's l1: 24.9305\tvalid_0's l2: 1145.14\n",
      "[2788]\tvalid_0's rmse: 33.8411\tvalid_0's l1: 24.9311\tvalid_0's l2: 1145.22\n",
      "[2789]\tvalid_0's rmse: 33.8425\tvalid_0's l1: 24.9327\tvalid_0's l2: 1145.32\n",
      "[2790]\tvalid_0's rmse: 33.8425\tvalid_0's l1: 24.9337\tvalid_0's l2: 1145.32\n",
      "[2791]\tvalid_0's rmse: 33.8417\tvalid_0's l1: 24.9337\tvalid_0's l2: 1145.26\n",
      "[2792]\tvalid_0's rmse: 33.8424\tvalid_0's l1: 24.9337\tvalid_0's l2: 1145.31\n",
      "[2793]\tvalid_0's rmse: 33.843\tvalid_0's l1: 24.9337\tvalid_0's l2: 1145.35\n",
      "[2794]\tvalid_0's rmse: 33.844\tvalid_0's l1: 24.9356\tvalid_0's l2: 1145.42\n",
      "[2795]\tvalid_0's rmse: 33.8449\tvalid_0's l1: 24.9358\tvalid_0's l2: 1145.48\n",
      "[2796]\tvalid_0's rmse: 33.846\tvalid_0's l1: 24.9362\tvalid_0's l2: 1145.55\n",
      "[2797]\tvalid_0's rmse: 33.8462\tvalid_0's l1: 24.9356\tvalid_0's l2: 1145.56\n",
      "[2798]\tvalid_0's rmse: 33.8464\tvalid_0's l1: 24.935\tvalid_0's l2: 1145.58\n",
      "[2799]\tvalid_0's rmse: 33.8477\tvalid_0's l1: 24.9354\tvalid_0's l2: 1145.66\n",
      "[2800]\tvalid_0's rmse: 33.8493\tvalid_0's l1: 24.9369\tvalid_0's l2: 1145.77\n",
      "[2801]\tvalid_0's rmse: 33.8507\tvalid_0's l1: 24.9382\tvalid_0's l2: 1145.87\n",
      "[2802]\tvalid_0's rmse: 33.8522\tvalid_0's l1: 24.9404\tvalid_0's l2: 1145.97\n",
      "[2803]\tvalid_0's rmse: 33.8537\tvalid_0's l1: 24.9417\tvalid_0's l2: 1146.07\n",
      "[2804]\tvalid_0's rmse: 33.8539\tvalid_0's l1: 24.9413\tvalid_0's l2: 1146.08\n",
      "[2805]\tvalid_0's rmse: 33.8538\tvalid_0's l1: 24.9423\tvalid_0's l2: 1146.08\n",
      "[2806]\tvalid_0's rmse: 33.8547\tvalid_0's l1: 24.9434\tvalid_0's l2: 1146.14\n",
      "[2807]\tvalid_0's rmse: 33.8548\tvalid_0's l1: 24.943\tvalid_0's l2: 1146.15\n",
      "[2808]\tvalid_0's rmse: 33.8559\tvalid_0's l1: 24.9446\tvalid_0's l2: 1146.22\n",
      "[2809]\tvalid_0's rmse: 33.8566\tvalid_0's l1: 24.9455\tvalid_0's l2: 1146.27\n",
      "[2810]\tvalid_0's rmse: 33.8568\tvalid_0's l1: 24.945\tvalid_0's l2: 1146.28\n",
      "[2811]\tvalid_0's rmse: 33.8558\tvalid_0's l1: 24.9437\tvalid_0's l2: 1146.21\n",
      "[2812]\tvalid_0's rmse: 33.8529\tvalid_0's l1: 24.9437\tvalid_0's l2: 1146.02\n",
      "[2813]\tvalid_0's rmse: 33.8522\tvalid_0's l1: 24.9428\tvalid_0's l2: 1145.97\n",
      "[2814]\tvalid_0's rmse: 33.8502\tvalid_0's l1: 24.941\tvalid_0's l2: 1145.83\n",
      "[2815]\tvalid_0's rmse: 33.8485\tvalid_0's l1: 24.9392\tvalid_0's l2: 1145.72\n",
      "[2816]\tvalid_0's rmse: 33.8479\tvalid_0's l1: 24.939\tvalid_0's l2: 1145.68\n",
      "[2817]\tvalid_0's rmse: 33.8481\tvalid_0's l1: 24.9383\tvalid_0's l2: 1145.69\n",
      "[2818]\tvalid_0's rmse: 33.8469\tvalid_0's l1: 24.9372\tvalid_0's l2: 1145.61\n",
      "[2819]\tvalid_0's rmse: 33.8459\tvalid_0's l1: 24.9359\tvalid_0's l2: 1145.54\n",
      "[2820]\tvalid_0's rmse: 33.8454\tvalid_0's l1: 24.9356\tvalid_0's l2: 1145.51\n",
      "[2821]\tvalid_0's rmse: 33.8436\tvalid_0's l1: 24.9346\tvalid_0's l2: 1145.39\n",
      "[2822]\tvalid_0's rmse: 33.8432\tvalid_0's l1: 24.9348\tvalid_0's l2: 1145.37\n",
      "[2823]\tvalid_0's rmse: 33.8425\tvalid_0's l1: 24.9347\tvalid_0's l2: 1145.31\n",
      "[2824]\tvalid_0's rmse: 33.8428\tvalid_0's l1: 24.9363\tvalid_0's l2: 1145.34\n",
      "[2825]\tvalid_0's rmse: 33.8437\tvalid_0's l1: 24.9365\tvalid_0's l2: 1145.39\n",
      "[2826]\tvalid_0's rmse: 33.8423\tvalid_0's l1: 24.936\tvalid_0's l2: 1145.3\n",
      "[2827]\tvalid_0's rmse: 33.8407\tvalid_0's l1: 24.9354\tvalid_0's l2: 1145.19\n",
      "[2828]\tvalid_0's rmse: 33.8387\tvalid_0's l1: 24.9336\tvalid_0's l2: 1145.06\n",
      "[2829]\tvalid_0's rmse: 33.8389\tvalid_0's l1: 24.9341\tvalid_0's l2: 1145.07\n",
      "[2830]\tvalid_0's rmse: 33.8376\tvalid_0's l1: 24.9336\tvalid_0's l2: 1144.98\n",
      "[2831]\tvalid_0's rmse: 33.8383\tvalid_0's l1: 24.9353\tvalid_0's l2: 1145.03\n",
      "[2832]\tvalid_0's rmse: 33.838\tvalid_0's l1: 24.9352\tvalid_0's l2: 1145.01\n",
      "[2833]\tvalid_0's rmse: 33.838\tvalid_0's l1: 24.9359\tvalid_0's l2: 1145.01\n",
      "[2834]\tvalid_0's rmse: 33.838\tvalid_0's l1: 24.9361\tvalid_0's l2: 1145.01\n",
      "[2835]\tvalid_0's rmse: 33.8378\tvalid_0's l1: 24.936\tvalid_0's l2: 1145\n",
      "[2836]\tvalid_0's rmse: 33.8382\tvalid_0's l1: 24.9374\tvalid_0's l2: 1145.02\n",
      "[2837]\tvalid_0's rmse: 33.8392\tvalid_0's l1: 24.9395\tvalid_0's l2: 1145.09\n",
      "[2838]\tvalid_0's rmse: 33.8397\tvalid_0's l1: 24.9411\tvalid_0's l2: 1145.13\n",
      "[2839]\tvalid_0's rmse: 33.8407\tvalid_0's l1: 24.943\tvalid_0's l2: 1145.19\n",
      "[2840]\tvalid_0's rmse: 33.8417\tvalid_0's l1: 24.945\tvalid_0's l2: 1145.26\n",
      "[2841]\tvalid_0's rmse: 33.8419\tvalid_0's l1: 24.9466\tvalid_0's l2: 1145.27\n",
      "[2842]\tvalid_0's rmse: 33.8422\tvalid_0's l1: 24.9473\tvalid_0's l2: 1145.3\n",
      "[2843]\tvalid_0's rmse: 33.8425\tvalid_0's l1: 24.9487\tvalid_0's l2: 1145.31\n",
      "[2844]\tvalid_0's rmse: 33.8436\tvalid_0's l1: 24.9507\tvalid_0's l2: 1145.39\n",
      "[2845]\tvalid_0's rmse: 33.8427\tvalid_0's l1: 24.9515\tvalid_0's l2: 1145.33\n",
      "[2846]\tvalid_0's rmse: 33.8431\tvalid_0's l1: 24.9521\tvalid_0's l2: 1145.36\n",
      "[2847]\tvalid_0's rmse: 33.8444\tvalid_0's l1: 24.9543\tvalid_0's l2: 1145.44\n",
      "[2848]\tvalid_0's rmse: 33.8459\tvalid_0's l1: 24.9563\tvalid_0's l2: 1145.54\n",
      "[2849]\tvalid_0's rmse: 33.8462\tvalid_0's l1: 24.9568\tvalid_0's l2: 1145.56\n",
      "[2850]\tvalid_0's rmse: 33.8472\tvalid_0's l1: 24.9589\tvalid_0's l2: 1145.64\n",
      "[2851]\tvalid_0's rmse: 33.8481\tvalid_0's l1: 24.96\tvalid_0's l2: 1145.69\n",
      "[2852]\tvalid_0's rmse: 33.8487\tvalid_0's l1: 24.9607\tvalid_0's l2: 1145.73\n",
      "[2853]\tvalid_0's rmse: 33.849\tvalid_0's l1: 24.9617\tvalid_0's l2: 1145.76\n",
      "[2854]\tvalid_0's rmse: 33.8501\tvalid_0's l1: 24.9628\tvalid_0's l2: 1145.83\n",
      "[2855]\tvalid_0's rmse: 33.8523\tvalid_0's l1: 24.9649\tvalid_0's l2: 1145.98\n",
      "[2856]\tvalid_0's rmse: 33.8528\tvalid_0's l1: 24.9657\tvalid_0's l2: 1146.01\n",
      "[2857]\tvalid_0's rmse: 33.8537\tvalid_0's l1: 24.9664\tvalid_0's l2: 1146.07\n",
      "[2858]\tvalid_0's rmse: 33.8525\tvalid_0's l1: 24.9658\tvalid_0's l2: 1145.99\n",
      "[2859]\tvalid_0's rmse: 33.8534\tvalid_0's l1: 24.9665\tvalid_0's l2: 1146.06\n",
      "[2860]\tvalid_0's rmse: 33.8547\tvalid_0's l1: 24.9675\tvalid_0's l2: 1146.14\n",
      "[2861]\tvalid_0's rmse: 33.8557\tvalid_0's l1: 24.9676\tvalid_0's l2: 1146.21\n",
      "[2862]\tvalid_0's rmse: 33.8576\tvalid_0's l1: 24.9688\tvalid_0's l2: 1146.33\n",
      "[2863]\tvalid_0's rmse: 33.8587\tvalid_0's l1: 24.9684\tvalid_0's l2: 1146.41\n",
      "[2864]\tvalid_0's rmse: 33.8601\tvalid_0's l1: 24.9686\tvalid_0's l2: 1146.51\n",
      "[2865]\tvalid_0's rmse: 33.8607\tvalid_0's l1: 24.9689\tvalid_0's l2: 1146.54\n",
      "[2866]\tvalid_0's rmse: 33.8613\tvalid_0's l1: 24.9704\tvalid_0's l2: 1146.59\n",
      "[2867]\tvalid_0's rmse: 33.8615\tvalid_0's l1: 24.9712\tvalid_0's l2: 1146.6\n",
      "[2868]\tvalid_0's rmse: 33.8622\tvalid_0's l1: 24.9728\tvalid_0's l2: 1146.65\n",
      "[2869]\tvalid_0's rmse: 33.8643\tvalid_0's l1: 24.9752\tvalid_0's l2: 1146.79\n",
      "[2870]\tvalid_0's rmse: 33.8651\tvalid_0's l1: 24.9768\tvalid_0's l2: 1146.85\n",
      "[2871]\tvalid_0's rmse: 33.8641\tvalid_0's l1: 24.9748\tvalid_0's l2: 1146.78\n",
      "[2872]\tvalid_0's rmse: 33.8641\tvalid_0's l1: 24.9747\tvalid_0's l2: 1146.77\n",
      "[2873]\tvalid_0's rmse: 33.8646\tvalid_0's l1: 24.9752\tvalid_0's l2: 1146.81\n",
      "[2874]\tvalid_0's rmse: 33.8656\tvalid_0's l1: 24.9753\tvalid_0's l2: 1146.88\n",
      "[2875]\tvalid_0's rmse: 33.8648\tvalid_0's l1: 24.9734\tvalid_0's l2: 1146.82\n",
      "[2876]\tvalid_0's rmse: 33.8637\tvalid_0's l1: 24.9713\tvalid_0's l2: 1146.75\n",
      "[2877]\tvalid_0's rmse: 33.8641\tvalid_0's l1: 24.9715\tvalid_0's l2: 1146.77\n",
      "[2878]\tvalid_0's rmse: 33.8656\tvalid_0's l1: 24.9723\tvalid_0's l2: 1146.88\n",
      "[2879]\tvalid_0's rmse: 33.865\tvalid_0's l1: 24.9707\tvalid_0's l2: 1146.84\n",
      "[2880]\tvalid_0's rmse: 33.866\tvalid_0's l1: 24.9708\tvalid_0's l2: 1146.91\n",
      "[2881]\tvalid_0's rmse: 33.8655\tvalid_0's l1: 24.9707\tvalid_0's l2: 1146.87\n",
      "[2882]\tvalid_0's rmse: 33.8646\tvalid_0's l1: 24.9701\tvalid_0's l2: 1146.81\n",
      "[2883]\tvalid_0's rmse: 33.8645\tvalid_0's l1: 24.9697\tvalid_0's l2: 1146.8\n",
      "[2884]\tvalid_0's rmse: 33.8639\tvalid_0's l1: 24.9693\tvalid_0's l2: 1146.76\n"
     ]
    },
    {
     "name": "stdout",
     "output_type": "stream",
     "text": [
      "[2885]\tvalid_0's rmse: 33.8636\tvalid_0's l1: 24.9697\tvalid_0's l2: 1146.74\n",
      "[2886]\tvalid_0's rmse: 33.8627\tvalid_0's l1: 24.9691\tvalid_0's l2: 1146.68\n",
      "[2887]\tvalid_0's rmse: 33.8628\tvalid_0's l1: 24.9691\tvalid_0's l2: 1146.69\n",
      "[2888]\tvalid_0's rmse: 33.8619\tvalid_0's l1: 24.9679\tvalid_0's l2: 1146.63\n",
      "[2889]\tvalid_0's rmse: 33.8608\tvalid_0's l1: 24.9669\tvalid_0's l2: 1146.55\n",
      "[2890]\tvalid_0's rmse: 33.8596\tvalid_0's l1: 24.966\tvalid_0's l2: 1146.47\n",
      "[2891]\tvalid_0's rmse: 33.8604\tvalid_0's l1: 24.9675\tvalid_0's l2: 1146.53\n",
      "[2892]\tvalid_0's rmse: 33.8621\tvalid_0's l1: 24.969\tvalid_0's l2: 1146.64\n",
      "[2893]\tvalid_0's rmse: 33.8623\tvalid_0's l1: 24.9694\tvalid_0's l2: 1146.65\n",
      "[2894]\tvalid_0's rmse: 33.8622\tvalid_0's l1: 24.9691\tvalid_0's l2: 1146.65\n",
      "[2895]\tvalid_0's rmse: 33.8622\tvalid_0's l1: 24.9684\tvalid_0's l2: 1146.65\n",
      "[2896]\tvalid_0's rmse: 33.8628\tvalid_0's l1: 24.9695\tvalid_0's l2: 1146.69\n",
      "[2897]\tvalid_0's rmse: 33.8624\tvalid_0's l1: 24.9695\tvalid_0's l2: 1146.66\n",
      "[2898]\tvalid_0's rmse: 33.8627\tvalid_0's l1: 24.9706\tvalid_0's l2: 1146.68\n",
      "[2899]\tvalid_0's rmse: 33.8631\tvalid_0's l1: 24.9705\tvalid_0's l2: 1146.71\n",
      "[2900]\tvalid_0's rmse: 33.8629\tvalid_0's l1: 24.9705\tvalid_0's l2: 1146.7\n",
      "[2901]\tvalid_0's rmse: 33.8628\tvalid_0's l1: 24.9701\tvalid_0's l2: 1146.69\n",
      "[2902]\tvalid_0's rmse: 33.8603\tvalid_0's l1: 24.9688\tvalid_0's l2: 1146.52\n",
      "[2903]\tvalid_0's rmse: 33.8589\tvalid_0's l1: 24.9679\tvalid_0's l2: 1146.42\n",
      "[2904]\tvalid_0's rmse: 33.8561\tvalid_0's l1: 24.9662\tvalid_0's l2: 1146.23\n",
      "[2905]\tvalid_0's rmse: 33.8541\tvalid_0's l1: 24.9644\tvalid_0's l2: 1146.1\n",
      "[2906]\tvalid_0's rmse: 33.8521\tvalid_0's l1: 24.9626\tvalid_0's l2: 1145.96\n",
      "[2907]\tvalid_0's rmse: 33.8496\tvalid_0's l1: 24.9612\tvalid_0's l2: 1145.79\n",
      "[2908]\tvalid_0's rmse: 33.848\tvalid_0's l1: 24.9604\tvalid_0's l2: 1145.69\n",
      "[2909]\tvalid_0's rmse: 33.8462\tvalid_0's l1: 24.9607\tvalid_0's l2: 1145.56\n",
      "[2910]\tvalid_0's rmse: 33.8465\tvalid_0's l1: 24.9612\tvalid_0's l2: 1145.58\n",
      "[2911]\tvalid_0's rmse: 33.847\tvalid_0's l1: 24.9628\tvalid_0's l2: 1145.62\n",
      "[2912]\tvalid_0's rmse: 33.8474\tvalid_0's l1: 24.9642\tvalid_0's l2: 1145.65\n",
      "[2913]\tvalid_0's rmse: 33.8484\tvalid_0's l1: 24.9662\tvalid_0's l2: 1145.72\n",
      "[2914]\tvalid_0's rmse: 33.8496\tvalid_0's l1: 24.9675\tvalid_0's l2: 1145.8\n",
      "[2915]\tvalid_0's rmse: 33.8507\tvalid_0's l1: 24.9681\tvalid_0's l2: 1145.87\n",
      "[2916]\tvalid_0's rmse: 33.8512\tvalid_0's l1: 24.9698\tvalid_0's l2: 1145.9\n",
      "[2917]\tvalid_0's rmse: 33.8502\tvalid_0's l1: 24.9692\tvalid_0's l2: 1145.83\n",
      "[2918]\tvalid_0's rmse: 33.8492\tvalid_0's l1: 24.9678\tvalid_0's l2: 1145.77\n",
      "[2919]\tvalid_0's rmse: 33.8482\tvalid_0's l1: 24.9672\tvalid_0's l2: 1145.7\n",
      "[2920]\tvalid_0's rmse: 33.8472\tvalid_0's l1: 24.9667\tvalid_0's l2: 1145.63\n",
      "[2921]\tvalid_0's rmse: 33.8464\tvalid_0's l1: 24.9651\tvalid_0's l2: 1145.58\n",
      "[2922]\tvalid_0's rmse: 33.845\tvalid_0's l1: 24.9631\tvalid_0's l2: 1145.48\n",
      "[2923]\tvalid_0's rmse: 33.8454\tvalid_0's l1: 24.9637\tvalid_0's l2: 1145.51\n",
      "[2924]\tvalid_0's rmse: 33.8465\tvalid_0's l1: 24.9651\tvalid_0's l2: 1145.58\n",
      "[2925]\tvalid_0's rmse: 33.8467\tvalid_0's l1: 24.9645\tvalid_0's l2: 1145.6\n",
      "[2926]\tvalid_0's rmse: 33.8467\tvalid_0's l1: 24.9628\tvalid_0's l2: 1145.6\n",
      "[2927]\tvalid_0's rmse: 33.8453\tvalid_0's l1: 24.9608\tvalid_0's l2: 1145.5\n",
      "[2928]\tvalid_0's rmse: 33.846\tvalid_0's l1: 24.9614\tvalid_0's l2: 1145.55\n",
      "[2929]\tvalid_0's rmse: 33.8462\tvalid_0's l1: 24.9608\tvalid_0's l2: 1145.57\n",
      "[2930]\tvalid_0's rmse: 33.8468\tvalid_0's l1: 24.9601\tvalid_0's l2: 1145.61\n",
      "[2931]\tvalid_0's rmse: 33.8473\tvalid_0's l1: 24.96\tvalid_0's l2: 1145.64\n",
      "[2932]\tvalid_0's rmse: 33.8475\tvalid_0's l1: 24.96\tvalid_0's l2: 1145.65\n",
      "[2933]\tvalid_0's rmse: 33.8489\tvalid_0's l1: 24.9605\tvalid_0's l2: 1145.75\n",
      "[2934]\tvalid_0's rmse: 33.8503\tvalid_0's l1: 24.961\tvalid_0's l2: 1145.84\n",
      "[2935]\tvalid_0's rmse: 33.8511\tvalid_0's l1: 24.961\tvalid_0's l2: 1145.9\n",
      "[2936]\tvalid_0's rmse: 33.851\tvalid_0's l1: 24.9608\tvalid_0's l2: 1145.89\n",
      "[2937]\tvalid_0's rmse: 33.8522\tvalid_0's l1: 24.9611\tvalid_0's l2: 1145.97\n",
      "[2938]\tvalid_0's rmse: 33.8515\tvalid_0's l1: 24.9606\tvalid_0's l2: 1145.92\n",
      "[2939]\tvalid_0's rmse: 33.8528\tvalid_0's l1: 24.9614\tvalid_0's l2: 1146.02\n",
      "[2940]\tvalid_0's rmse: 33.8526\tvalid_0's l1: 24.9612\tvalid_0's l2: 1146\n",
      "[2941]\tvalid_0's rmse: 33.8531\tvalid_0's l1: 24.9617\tvalid_0's l2: 1146.03\n",
      "[2942]\tvalid_0's rmse: 33.8525\tvalid_0's l1: 24.9608\tvalid_0's l2: 1146\n",
      "[2943]\tvalid_0's rmse: 33.8549\tvalid_0's l1: 24.9625\tvalid_0's l2: 1146.15\n",
      "[2944]\tvalid_0's rmse: 33.8572\tvalid_0's l1: 24.9641\tvalid_0's l2: 1146.31\n",
      "[2945]\tvalid_0's rmse: 33.8552\tvalid_0's l1: 24.962\tvalid_0's l2: 1146.17\n",
      "[2946]\tvalid_0's rmse: 33.8565\tvalid_0's l1: 24.9634\tvalid_0's l2: 1146.26\n",
      "[2947]\tvalid_0's rmse: 33.8564\tvalid_0's l1: 24.9636\tvalid_0's l2: 1146.26\n",
      "[2948]\tvalid_0's rmse: 33.8562\tvalid_0's l1: 24.9633\tvalid_0's l2: 1146.24\n",
      "[2949]\tvalid_0's rmse: 33.856\tvalid_0's l1: 24.963\tvalid_0's l2: 1146.23\n",
      "[2950]\tvalid_0's rmse: 33.8559\tvalid_0's l1: 24.9623\tvalid_0's l2: 1146.22\n",
      "[2951]\tvalid_0's rmse: 33.8555\tvalid_0's l1: 24.9621\tvalid_0's l2: 1146.19\n",
      "[2952]\tvalid_0's rmse: 33.8545\tvalid_0's l1: 24.9618\tvalid_0's l2: 1146.12\n",
      "[2953]\tvalid_0's rmse: 33.8537\tvalid_0's l1: 24.9621\tvalid_0's l2: 1146.07\n",
      "[2954]\tvalid_0's rmse: 33.8529\tvalid_0's l1: 24.9623\tvalid_0's l2: 1146.02\n",
      "[2955]\tvalid_0's rmse: 33.8541\tvalid_0's l1: 24.9642\tvalid_0's l2: 1146.1\n",
      "[2956]\tvalid_0's rmse: 33.8522\tvalid_0's l1: 24.9627\tvalid_0's l2: 1145.97\n",
      "[2957]\tvalid_0's rmse: 33.8518\tvalid_0's l1: 24.963\tvalid_0's l2: 1145.94\n",
      "[2958]\tvalid_0's rmse: 33.8505\tvalid_0's l1: 24.9617\tvalid_0's l2: 1145.86\n",
      "[2959]\tvalid_0's rmse: 33.8498\tvalid_0's l1: 24.9617\tvalid_0's l2: 1145.81\n",
      "[2960]\tvalid_0's rmse: 33.8484\tvalid_0's l1: 24.9604\tvalid_0's l2: 1145.71\n",
      "[2961]\tvalid_0's rmse: 33.8481\tvalid_0's l1: 24.96\tvalid_0's l2: 1145.69\n",
      "[2962]\tvalid_0's rmse: 33.8457\tvalid_0's l1: 24.9581\tvalid_0's l2: 1145.53\n",
      "[2963]\tvalid_0's rmse: 33.8454\tvalid_0's l1: 24.9585\tvalid_0's l2: 1145.51\n",
      "[2964]\tvalid_0's rmse: 33.8448\tvalid_0's l1: 24.9577\tvalid_0's l2: 1145.47\n",
      "[2965]\tvalid_0's rmse: 33.8437\tvalid_0's l1: 24.9569\tvalid_0's l2: 1145.4\n",
      "[2966]\tvalid_0's rmse: 33.8438\tvalid_0's l1: 24.9574\tvalid_0's l2: 1145.4\n",
      "[2967]\tvalid_0's rmse: 33.8446\tvalid_0's l1: 24.9582\tvalid_0's l2: 1145.46\n",
      "[2968]\tvalid_0's rmse: 33.8438\tvalid_0's l1: 24.9579\tvalid_0's l2: 1145.4\n",
      "[2969]\tvalid_0's rmse: 33.8433\tvalid_0's l1: 24.958\tvalid_0's l2: 1145.37\n",
      "[2970]\tvalid_0's rmse: 33.8425\tvalid_0's l1: 24.9577\tvalid_0's l2: 1145.31\n",
      "[2971]\tvalid_0's rmse: 33.843\tvalid_0's l1: 24.9575\tvalid_0's l2: 1145.35\n",
      "[2972]\tvalid_0's rmse: 33.8435\tvalid_0's l1: 24.9564\tvalid_0's l2: 1145.38\n",
      "[2973]\tvalid_0's rmse: 33.8446\tvalid_0's l1: 24.9564\tvalid_0's l2: 1145.46\n",
      "[2974]\tvalid_0's rmse: 33.8456\tvalid_0's l1: 24.9567\tvalid_0's l2: 1145.53\n",
      "[2975]\tvalid_0's rmse: 33.8463\tvalid_0's l1: 24.9566\tvalid_0's l2: 1145.57\n",
      "[2976]\tvalid_0's rmse: 33.8472\tvalid_0's l1: 24.9565\tvalid_0's l2: 1145.63\n",
      "[2977]\tvalid_0's rmse: 33.8468\tvalid_0's l1: 24.9557\tvalid_0's l2: 1145.6\n",
      "[2978]\tvalid_0's rmse: 33.8485\tvalid_0's l1: 24.9582\tvalid_0's l2: 1145.72\n",
      "[2979]\tvalid_0's rmse: 33.849\tvalid_0's l1: 24.9586\tvalid_0's l2: 1145.76\n",
      "[2980]\tvalid_0's rmse: 33.8498\tvalid_0's l1: 24.9585\tvalid_0's l2: 1145.81\n",
      "[2981]\tvalid_0's rmse: 33.8493\tvalid_0's l1: 24.9569\tvalid_0's l2: 1145.77\n",
      "[2982]\tvalid_0's rmse: 33.8505\tvalid_0's l1: 24.9559\tvalid_0's l2: 1145.86\n",
      "[2983]\tvalid_0's rmse: 33.8505\tvalid_0's l1: 24.9551\tvalid_0's l2: 1145.85\n",
      "[2984]\tvalid_0's rmse: 33.8513\tvalid_0's l1: 24.957\tvalid_0's l2: 1145.91\n",
      "[2985]\tvalid_0's rmse: 33.8519\tvalid_0's l1: 24.956\tvalid_0's l2: 1145.95\n",
      "[2986]\tvalid_0's rmse: 33.8526\tvalid_0's l1: 24.9556\tvalid_0's l2: 1146\n",
      "[2987]\tvalid_0's rmse: 33.8533\tvalid_0's l1: 24.9551\tvalid_0's l2: 1146.05\n",
      "[2988]\tvalid_0's rmse: 33.8533\tvalid_0's l1: 24.9544\tvalid_0's l2: 1146.04\n",
      "[2989]\tvalid_0's rmse: 33.8533\tvalid_0's l1: 24.9536\tvalid_0's l2: 1146.05\n",
      "[2990]\tvalid_0's rmse: 33.8527\tvalid_0's l1: 24.952\tvalid_0's l2: 1146\n",
      "[2991]\tvalid_0's rmse: 33.8516\tvalid_0's l1: 24.9511\tvalid_0's l2: 1145.93\n",
      "[2992]\tvalid_0's rmse: 33.8507\tvalid_0's l1: 24.9504\tvalid_0's l2: 1145.87\n",
      "[2993]\tvalid_0's rmse: 33.848\tvalid_0's l1: 24.9487\tvalid_0's l2: 1145.69\n",
      "[2994]\tvalid_0's rmse: 33.8478\tvalid_0's l1: 24.9493\tvalid_0's l2: 1145.67\n",
      "[2995]\tvalid_0's rmse: 33.8463\tvalid_0's l1: 24.9479\tvalid_0's l2: 1145.57\n",
      "[2996]\tvalid_0's rmse: 33.8448\tvalid_0's l1: 24.9467\tvalid_0's l2: 1145.47\n",
      "[2997]\tvalid_0's rmse: 33.8442\tvalid_0's l1: 24.946\tvalid_0's l2: 1145.43\n",
      "[2998]\tvalid_0's rmse: 33.8442\tvalid_0's l1: 24.945\tvalid_0's l2: 1145.43\n",
      "[2999]\tvalid_0's rmse: 33.8432\tvalid_0's l1: 24.9441\tvalid_0's l2: 1145.36\n",
      "[3000]\tvalid_0's rmse: 33.843\tvalid_0's l1: 24.9434\tvalid_0's l2: 1145.35\n",
      "[3001]\tvalid_0's rmse: 33.8427\tvalid_0's l1: 24.9429\tvalid_0's l2: 1145.33\n",
      "[3002]\tvalid_0's rmse: 33.8411\tvalid_0's l1: 24.9412\tvalid_0's l2: 1145.22\n",
      "[3003]\tvalid_0's rmse: 33.8412\tvalid_0's l1: 24.9413\tvalid_0's l2: 1145.23\n",
      "[3004]\tvalid_0's rmse: 33.8401\tvalid_0's l1: 24.9407\tvalid_0's l2: 1145.15\n",
      "[3005]\tvalid_0's rmse: 33.838\tvalid_0's l1: 24.9391\tvalid_0's l2: 1145.01\n",
      "[3006]\tvalid_0's rmse: 33.8375\tvalid_0's l1: 24.9387\tvalid_0's l2: 1144.98\n",
      "[3007]\tvalid_0's rmse: 33.8363\tvalid_0's l1: 24.9377\tvalid_0's l2: 1144.89\n",
      "[3008]\tvalid_0's rmse: 33.8343\tvalid_0's l1: 24.9364\tvalid_0's l2: 1144.76\n",
      "[3009]\tvalid_0's rmse: 33.8345\tvalid_0's l1: 24.9362\tvalid_0's l2: 1144.78\n",
      "[3010]\tvalid_0's rmse: 33.8334\tvalid_0's l1: 24.9367\tvalid_0's l2: 1144.7\n",
      "[3011]\tvalid_0's rmse: 33.8351\tvalid_0's l1: 24.9371\tvalid_0's l2: 1144.81\n",
      "[3012]\tvalid_0's rmse: 33.8356\tvalid_0's l1: 24.9373\tvalid_0's l2: 1144.85\n",
      "[3013]\tvalid_0's rmse: 33.8348\tvalid_0's l1: 24.9361\tvalid_0's l2: 1144.79\n",
      "[3014]\tvalid_0's rmse: 33.8362\tvalid_0's l1: 24.9359\tvalid_0's l2: 1144.89\n",
      "[3015]\tvalid_0's rmse: 33.8367\tvalid_0's l1: 24.935\tvalid_0's l2: 1144.92\n",
      "[3016]\tvalid_0's rmse: 33.8365\tvalid_0's l1: 24.9341\tvalid_0's l2: 1144.91\n",
      "[3017]\tvalid_0's rmse: 33.8362\tvalid_0's l1: 24.933\tvalid_0's l2: 1144.89\n",
      "[3018]\tvalid_0's rmse: 33.8373\tvalid_0's l1: 24.9339\tvalid_0's l2: 1144.96\n",
      "[3019]\tvalid_0's rmse: 33.8379\tvalid_0's l1: 24.933\tvalid_0's l2: 1145\n",
      "[3020]\tvalid_0's rmse: 33.838\tvalid_0's l1: 24.9323\tvalid_0's l2: 1145.01\n",
      "[3021]\tvalid_0's rmse: 33.8387\tvalid_0's l1: 24.9324\tvalid_0's l2: 1145.06\n",
      "[3022]\tvalid_0's rmse: 33.8398\tvalid_0's l1: 24.9322\tvalid_0's l2: 1145.14\n",
      "[3023]\tvalid_0's rmse: 33.8398\tvalid_0's l1: 24.9315\tvalid_0's l2: 1145.13\n",
      "[3024]\tvalid_0's rmse: 33.8392\tvalid_0's l1: 24.931\tvalid_0's l2: 1145.09\n",
      "[3025]\tvalid_0's rmse: 33.8392\tvalid_0's l1: 24.9306\tvalid_0's l2: 1145.09\n",
      "[3026]\tvalid_0's rmse: 33.8392\tvalid_0's l1: 24.9302\tvalid_0's l2: 1145.09\n",
      "[3027]\tvalid_0's rmse: 33.8383\tvalid_0's l1: 24.9295\tvalid_0's l2: 1145.03\n",
      "[3028]\tvalid_0's rmse: 33.8383\tvalid_0's l1: 24.929\tvalid_0's l2: 1145.03\n",
      "[3029]\tvalid_0's rmse: 33.8384\tvalid_0's l1: 24.9289\tvalid_0's l2: 1145.04\n",
      "[3030]\tvalid_0's rmse: 33.8388\tvalid_0's l1: 24.9288\tvalid_0's l2: 1145.07\n",
      "[3031]\tvalid_0's rmse: 33.8386\tvalid_0's l1: 24.9289\tvalid_0's l2: 1145.05\n",
      "[3032]\tvalid_0's rmse: 33.8365\tvalid_0's l1: 24.9281\tvalid_0's l2: 1144.91\n",
      "[3033]\tvalid_0's rmse: 33.834\tvalid_0's l1: 24.9266\tvalid_0's l2: 1144.74\n",
      "[3034]\tvalid_0's rmse: 33.8325\tvalid_0's l1: 24.9258\tvalid_0's l2: 1144.64\n",
      "[3035]\tvalid_0's rmse: 33.8317\tvalid_0's l1: 24.926\tvalid_0's l2: 1144.58\n",
      "[3036]\tvalid_0's rmse: 33.8289\tvalid_0's l1: 24.9244\tvalid_0's l2: 1144.4\n",
      "[3037]\tvalid_0's rmse: 33.8278\tvalid_0's l1: 24.9242\tvalid_0's l2: 1144.32\n",
      "[3038]\tvalid_0's rmse: 33.825\tvalid_0's l1: 24.9226\tvalid_0's l2: 1144.13\n",
      "[3039]\tvalid_0's rmse: 33.8232\tvalid_0's l1: 24.9213\tvalid_0's l2: 1144.01\n",
      "[3040]\tvalid_0's rmse: 33.8208\tvalid_0's l1: 24.9198\tvalid_0's l2: 1143.85\n",
      "[3041]\tvalid_0's rmse: 33.8219\tvalid_0's l1: 24.9208\tvalid_0's l2: 1143.92\n",
      "[3042]\tvalid_0's rmse: 33.8231\tvalid_0's l1: 24.9217\tvalid_0's l2: 1144\n",
      "[3043]\tvalid_0's rmse: 33.8223\tvalid_0's l1: 24.921\tvalid_0's l2: 1143.95\n",
      "[3044]\tvalid_0's rmse: 33.8236\tvalid_0's l1: 24.9221\tvalid_0's l2: 1144.03\n",
      "[3045]\tvalid_0's rmse: 33.8248\tvalid_0's l1: 24.9228\tvalid_0's l2: 1144.11\n",
      "[3046]\tvalid_0's rmse: 33.8243\tvalid_0's l1: 24.9227\tvalid_0's l2: 1144.08\n",
      "[3047]\tvalid_0's rmse: 33.8236\tvalid_0's l1: 24.9222\tvalid_0's l2: 1144.03\n",
      "[3048]\tvalid_0's rmse: 33.8249\tvalid_0's l1: 24.9231\tvalid_0's l2: 1144.12\n",
      "[3049]\tvalid_0's rmse: 33.8241\tvalid_0's l1: 24.9222\tvalid_0's l2: 1144.07\n",
      "[3050]\tvalid_0's rmse: 33.8235\tvalid_0's l1: 24.922\tvalid_0's l2: 1144.03\n",
      "[3051]\tvalid_0's rmse: 33.8249\tvalid_0's l1: 24.9247\tvalid_0's l2: 1144.13\n",
      "[3052]\tvalid_0's rmse: 33.8244\tvalid_0's l1: 24.9259\tvalid_0's l2: 1144.09\n",
      "[3053]\tvalid_0's rmse: 33.8259\tvalid_0's l1: 24.9286\tvalid_0's l2: 1144.19\n",
      "[3054]\tvalid_0's rmse: 33.8255\tvalid_0's l1: 24.9292\tvalid_0's l2: 1144.16\n",
      "[3055]\tvalid_0's rmse: 33.8265\tvalid_0's l1: 24.9318\tvalid_0's l2: 1144.23\n",
      "[3056]\tvalid_0's rmse: 33.8261\tvalid_0's l1: 24.9323\tvalid_0's l2: 1144.21\n",
      "[3057]\tvalid_0's rmse: 33.8268\tvalid_0's l1: 24.9347\tvalid_0's l2: 1144.25\n",
      "[3058]\tvalid_0's rmse: 33.8264\tvalid_0's l1: 24.9353\tvalid_0's l2: 1144.23\n",
      "[3059]\tvalid_0's rmse: 33.827\tvalid_0's l1: 24.9375\tvalid_0's l2: 1144.26\n",
      "[3060]\tvalid_0's rmse: 33.8271\tvalid_0's l1: 24.9392\tvalid_0's l2: 1144.28\n",
      "[3061]\tvalid_0's rmse: 33.8275\tvalid_0's l1: 24.9391\tvalid_0's l2: 1144.3\n"
     ]
    },
    {
     "name": "stdout",
     "output_type": "stream",
     "text": [
      "[3062]\tvalid_0's rmse: 33.828\tvalid_0's l1: 24.9393\tvalid_0's l2: 1144.34\n",
      "[3063]\tvalid_0's rmse: 33.8284\tvalid_0's l1: 24.9388\tvalid_0's l2: 1144.36\n",
      "[3064]\tvalid_0's rmse: 33.8277\tvalid_0's l1: 24.9372\tvalid_0's l2: 1144.31\n",
      "[3065]\tvalid_0's rmse: 33.8279\tvalid_0's l1: 24.9368\tvalid_0's l2: 1144.33\n",
      "[3066]\tvalid_0's rmse: 33.8262\tvalid_0's l1: 24.9359\tvalid_0's l2: 1144.21\n",
      "[3067]\tvalid_0's rmse: 33.8276\tvalid_0's l1: 24.9372\tvalid_0's l2: 1144.3\n",
      "[3068]\tvalid_0's rmse: 33.829\tvalid_0's l1: 24.9375\tvalid_0's l2: 1144.4\n",
      "[3069]\tvalid_0's rmse: 33.8292\tvalid_0's l1: 24.9372\tvalid_0's l2: 1144.42\n",
      "[3070]\tvalid_0's rmse: 33.8306\tvalid_0's l1: 24.9373\tvalid_0's l2: 1144.51\n",
      "[3071]\tvalid_0's rmse: 33.8322\tvalid_0's l1: 24.9378\tvalid_0's l2: 1144.62\n",
      "[3072]\tvalid_0's rmse: 33.8339\tvalid_0's l1: 24.9382\tvalid_0's l2: 1144.73\n",
      "[3073]\tvalid_0's rmse: 33.833\tvalid_0's l1: 24.9369\tvalid_0's l2: 1144.67\n",
      "[3074]\tvalid_0's rmse: 33.8362\tvalid_0's l1: 24.9394\tvalid_0's l2: 1144.89\n",
      "[3075]\tvalid_0's rmse: 33.839\tvalid_0's l1: 24.9414\tvalid_0's l2: 1145.08\n",
      "[3076]\tvalid_0's rmse: 33.8401\tvalid_0's l1: 24.9416\tvalid_0's l2: 1145.15\n",
      "[3077]\tvalid_0's rmse: 33.8433\tvalid_0's l1: 24.944\tvalid_0's l2: 1145.37\n",
      "[3078]\tvalid_0's rmse: 33.8458\tvalid_0's l1: 24.9457\tvalid_0's l2: 1145.54\n",
      "[3079]\tvalid_0's rmse: 33.8481\tvalid_0's l1: 24.9475\tvalid_0's l2: 1145.7\n",
      "[3080]\tvalid_0's rmse: 33.849\tvalid_0's l1: 24.9478\tvalid_0's l2: 1145.76\n",
      "[3081]\tvalid_0's rmse: 33.8485\tvalid_0's l1: 24.9472\tvalid_0's l2: 1145.72\n",
      "[3082]\tvalid_0's rmse: 33.8476\tvalid_0's l1: 24.9463\tvalid_0's l2: 1145.66\n",
      "[3083]\tvalid_0's rmse: 33.8478\tvalid_0's l1: 24.9462\tvalid_0's l2: 1145.67\n",
      "[3084]\tvalid_0's rmse: 33.8465\tvalid_0's l1: 24.9457\tvalid_0's l2: 1145.59\n",
      "[3085]\tvalid_0's rmse: 33.8461\tvalid_0's l1: 24.9461\tvalid_0's l2: 1145.56\n",
      "[3086]\tvalid_0's rmse: 33.8454\tvalid_0's l1: 24.9462\tvalid_0's l2: 1145.51\n",
      "[3087]\tvalid_0's rmse: 33.8447\tvalid_0's l1: 24.9458\tvalid_0's l2: 1145.46\n",
      "[3088]\tvalid_0's rmse: 33.8433\tvalid_0's l1: 24.9459\tvalid_0's l2: 1145.37\n",
      "[3089]\tvalid_0's rmse: 33.8429\tvalid_0's l1: 24.9454\tvalid_0's l2: 1145.34\n",
      "[3090]\tvalid_0's rmse: 33.8434\tvalid_0's l1: 24.9463\tvalid_0's l2: 1145.38\n",
      "[3091]\tvalid_0's rmse: 33.8426\tvalid_0's l1: 24.9454\tvalid_0's l2: 1145.32\n",
      "[3092]\tvalid_0's rmse: 33.8441\tvalid_0's l1: 24.9459\tvalid_0's l2: 1145.42\n",
      "[3093]\tvalid_0's rmse: 33.8449\tvalid_0's l1: 24.9467\tvalid_0's l2: 1145.48\n",
      "[3094]\tvalid_0's rmse: 33.8454\tvalid_0's l1: 24.9468\tvalid_0's l2: 1145.51\n",
      "[3095]\tvalid_0's rmse: 33.8469\tvalid_0's l1: 24.947\tvalid_0's l2: 1145.61\n",
      "[3096]\tvalid_0's rmse: 33.8473\tvalid_0's l1: 24.9466\tvalid_0's l2: 1145.64\n",
      "[3097]\tvalid_0's rmse: 33.8472\tvalid_0's l1: 24.9466\tvalid_0's l2: 1145.64\n",
      "[3098]\tvalid_0's rmse: 33.8485\tvalid_0's l1: 24.9467\tvalid_0's l2: 1145.72\n",
      "[3099]\tvalid_0's rmse: 33.8498\tvalid_0's l1: 24.9469\tvalid_0's l2: 1145.81\n",
      "[3100]\tvalid_0's rmse: 33.8524\tvalid_0's l1: 24.9488\tvalid_0's l2: 1145.99\n",
      "[3101]\tvalid_0's rmse: 33.8535\tvalid_0's l1: 24.9494\tvalid_0's l2: 1146.06\n",
      "[3102]\tvalid_0's rmse: 33.855\tvalid_0's l1: 24.9517\tvalid_0's l2: 1146.16\n",
      "[3103]\tvalid_0's rmse: 33.8558\tvalid_0's l1: 24.9531\tvalid_0's l2: 1146.22\n",
      "[3104]\tvalid_0's rmse: 33.8573\tvalid_0's l1: 24.9554\tvalid_0's l2: 1146.32\n",
      "[3105]\tvalid_0's rmse: 33.8577\tvalid_0's l1: 24.9565\tvalid_0's l2: 1146.35\n",
      "[3106]\tvalid_0's rmse: 33.8586\tvalid_0's l1: 24.958\tvalid_0's l2: 1146.4\n",
      "[3107]\tvalid_0's rmse: 33.8596\tvalid_0's l1: 24.9592\tvalid_0's l2: 1146.47\n",
      "[3108]\tvalid_0's rmse: 33.8611\tvalid_0's l1: 24.9604\tvalid_0's l2: 1146.58\n",
      "[3109]\tvalid_0's rmse: 33.8627\tvalid_0's l1: 24.9626\tvalid_0's l2: 1146.68\n",
      "[3110]\tvalid_0's rmse: 33.8637\tvalid_0's l1: 24.9638\tvalid_0's l2: 1146.75\n",
      "[3111]\tvalid_0's rmse: 33.8643\tvalid_0's l1: 24.9635\tvalid_0's l2: 1146.79\n",
      "[3112]\tvalid_0's rmse: 33.8652\tvalid_0's l1: 24.9636\tvalid_0's l2: 1146.85\n",
      "[3113]\tvalid_0's rmse: 33.8666\tvalid_0's l1: 24.9643\tvalid_0's l2: 1146.95\n",
      "[3114]\tvalid_0's rmse: 33.8683\tvalid_0's l1: 24.9654\tvalid_0's l2: 1147.06\n",
      "[3115]\tvalid_0's rmse: 33.8697\tvalid_0's l1: 24.9665\tvalid_0's l2: 1147.16\n",
      "[3116]\tvalid_0's rmse: 33.8701\tvalid_0's l1: 24.9661\tvalid_0's l2: 1147.18\n",
      "[3117]\tvalid_0's rmse: 33.8712\tvalid_0's l1: 24.9663\tvalid_0's l2: 1147.26\n",
      "[3118]\tvalid_0's rmse: 33.8725\tvalid_0's l1: 24.9667\tvalid_0's l2: 1147.35\n",
      "[3119]\tvalid_0's rmse: 33.8716\tvalid_0's l1: 24.9658\tvalid_0's l2: 1147.29\n",
      "[3120]\tvalid_0's rmse: 33.8729\tvalid_0's l1: 24.9665\tvalid_0's l2: 1147.38\n",
      "[3121]\tvalid_0's rmse: 33.8725\tvalid_0's l1: 24.9659\tvalid_0's l2: 1147.35\n",
      "[3122]\tvalid_0's rmse: 33.8717\tvalid_0's l1: 24.9648\tvalid_0's l2: 1147.29\n",
      "[3123]\tvalid_0's rmse: 33.8718\tvalid_0's l1: 24.9652\tvalid_0's l2: 1147.3\n",
      "[3124]\tvalid_0's rmse: 33.8716\tvalid_0's l1: 24.9655\tvalid_0's l2: 1147.28\n",
      "[3125]\tvalid_0's rmse: 33.8713\tvalid_0's l1: 24.9652\tvalid_0's l2: 1147.26\n",
      "[3126]\tvalid_0's rmse: 33.8714\tvalid_0's l1: 24.9657\tvalid_0's l2: 1147.27\n",
      "[3127]\tvalid_0's rmse: 33.8704\tvalid_0's l1: 24.9647\tvalid_0's l2: 1147.2\n",
      "[3128]\tvalid_0's rmse: 33.87\tvalid_0's l1: 24.9641\tvalid_0's l2: 1147.18\n",
      "[3129]\tvalid_0's rmse: 33.8706\tvalid_0's l1: 24.965\tvalid_0's l2: 1147.22\n",
      "[3130]\tvalid_0's rmse: 33.8712\tvalid_0's l1: 24.9658\tvalid_0's l2: 1147.25\n",
      "[3131]\tvalid_0's rmse: 33.8701\tvalid_0's l1: 24.9662\tvalid_0's l2: 1147.19\n",
      "[3132]\tvalid_0's rmse: 33.8686\tvalid_0's l1: 24.9662\tvalid_0's l2: 1147.08\n",
      "[3133]\tvalid_0's rmse: 33.8677\tvalid_0's l1: 24.9665\tvalid_0's l2: 1147.02\n",
      "[3134]\tvalid_0's rmse: 33.8664\tvalid_0's l1: 24.9661\tvalid_0's l2: 1146.94\n",
      "[3135]\tvalid_0's rmse: 33.8664\tvalid_0's l1: 24.966\tvalid_0's l2: 1146.93\n",
      "[3136]\tvalid_0's rmse: 33.8667\tvalid_0's l1: 24.9668\tvalid_0's l2: 1146.96\n",
      "[3137]\tvalid_0's rmse: 33.8655\tvalid_0's l1: 24.9675\tvalid_0's l2: 1146.87\n",
      "[3138]\tvalid_0's rmse: 33.8634\tvalid_0's l1: 24.9669\tvalid_0's l2: 1146.73\n",
      "[3139]\tvalid_0's rmse: 33.8661\tvalid_0's l1: 24.968\tvalid_0's l2: 1146.91\n",
      "[3140]\tvalid_0's rmse: 33.8665\tvalid_0's l1: 24.9689\tvalid_0's l2: 1146.94\n",
      "[3141]\tvalid_0's rmse: 33.8665\tvalid_0's l1: 24.9691\tvalid_0's l2: 1146.94\n",
      "[3142]\tvalid_0's rmse: 33.8657\tvalid_0's l1: 24.9688\tvalid_0's l2: 1146.88\n",
      "[3143]\tvalid_0's rmse: 33.8654\tvalid_0's l1: 24.9684\tvalid_0's l2: 1146.87\n",
      "[3144]\tvalid_0's rmse: 33.8659\tvalid_0's l1: 24.9689\tvalid_0's l2: 1146.9\n",
      "[3145]\tvalid_0's rmse: 33.8652\tvalid_0's l1: 24.9683\tvalid_0's l2: 1146.85\n",
      "[3146]\tvalid_0's rmse: 33.8654\tvalid_0's l1: 24.9687\tvalid_0's l2: 1146.87\n",
      "[3147]\tvalid_0's rmse: 33.8648\tvalid_0's l1: 24.9681\tvalid_0's l2: 1146.82\n",
      "[3148]\tvalid_0's rmse: 33.865\tvalid_0's l1: 24.9686\tvalid_0's l2: 1146.84\n",
      "[3149]\tvalid_0's rmse: 33.8654\tvalid_0's l1: 24.9692\tvalid_0's l2: 1146.86\n",
      "[3150]\tvalid_0's rmse: 33.8649\tvalid_0's l1: 24.9687\tvalid_0's l2: 1146.83\n",
      "[3151]\tvalid_0's rmse: 33.865\tvalid_0's l1: 24.9677\tvalid_0's l2: 1146.84\n",
      "[3152]\tvalid_0's rmse: 33.867\tvalid_0's l1: 24.9693\tvalid_0's l2: 1146.97\n",
      "[3153]\tvalid_0's rmse: 33.8666\tvalid_0's l1: 24.9684\tvalid_0's l2: 1146.94\n",
      "[3154]\tvalid_0's rmse: 33.8689\tvalid_0's l1: 24.9704\tvalid_0's l2: 1147.1\n",
      "[3155]\tvalid_0's rmse: 33.8677\tvalid_0's l1: 24.9688\tvalid_0's l2: 1147.02\n",
      "[3156]\tvalid_0's rmse: 33.8679\tvalid_0's l1: 24.9686\tvalid_0's l2: 1147.03\n",
      "[3157]\tvalid_0's rmse: 33.8676\tvalid_0's l1: 24.9686\tvalid_0's l2: 1147.02\n",
      "[3158]\tvalid_0's rmse: 33.8699\tvalid_0's l1: 24.9706\tvalid_0's l2: 1147.17\n",
      "[3159]\tvalid_0's rmse: 33.8699\tvalid_0's l1: 24.9701\tvalid_0's l2: 1147.17\n",
      "[3160]\tvalid_0's rmse: 33.8704\tvalid_0's l1: 24.9701\tvalid_0's l2: 1147.2\n",
      "[3161]\tvalid_0's rmse: 33.8706\tvalid_0's l1: 24.9699\tvalid_0's l2: 1147.22\n",
      "[3162]\tvalid_0's rmse: 33.8714\tvalid_0's l1: 24.9696\tvalid_0's l2: 1147.27\n",
      "[3163]\tvalid_0's rmse: 33.8695\tvalid_0's l1: 24.9676\tvalid_0's l2: 1147.14\n",
      "[3164]\tvalid_0's rmse: 33.8699\tvalid_0's l1: 24.9675\tvalid_0's l2: 1147.17\n",
      "[3165]\tvalid_0's rmse: 33.8699\tvalid_0's l1: 24.9663\tvalid_0's l2: 1147.17\n",
      "[3166]\tvalid_0's rmse: 33.8691\tvalid_0's l1: 24.9661\tvalid_0's l2: 1147.11\n",
      "[3167]\tvalid_0's rmse: 33.8678\tvalid_0's l1: 24.9644\tvalid_0's l2: 1147.03\n",
      "[3168]\tvalid_0's rmse: 33.8687\tvalid_0's l1: 24.9652\tvalid_0's l2: 1147.09\n",
      "[3169]\tvalid_0's rmse: 33.8693\tvalid_0's l1: 24.9649\tvalid_0's l2: 1147.13\n",
      "[3170]\tvalid_0's rmse: 33.8699\tvalid_0's l1: 24.965\tvalid_0's l2: 1147.17\n",
      "[3171]\tvalid_0's rmse: 33.8703\tvalid_0's l1: 24.9639\tvalid_0's l2: 1147.19\n",
      "[3172]\tvalid_0's rmse: 33.8687\tvalid_0's l1: 24.9638\tvalid_0's l2: 1147.09\n",
      "[3173]\tvalid_0's rmse: 33.8696\tvalid_0's l1: 24.9634\tvalid_0's l2: 1147.15\n",
      "[3174]\tvalid_0's rmse: 33.8696\tvalid_0's l1: 24.9623\tvalid_0's l2: 1147.15\n",
      "[3175]\tvalid_0's rmse: 33.8698\tvalid_0's l1: 24.9609\tvalid_0's l2: 1147.16\n",
      "[3176]\tvalid_0's rmse: 33.8687\tvalid_0's l1: 24.9603\tvalid_0's l2: 1147.09\n",
      "[3177]\tvalid_0's rmse: 33.8685\tvalid_0's l1: 24.9596\tvalid_0's l2: 1147.08\n",
      "[3178]\tvalid_0's rmse: 33.867\tvalid_0's l1: 24.9577\tvalid_0's l2: 1146.97\n",
      "[3179]\tvalid_0's rmse: 33.8677\tvalid_0's l1: 24.9566\tvalid_0's l2: 1147.02\n",
      "[3180]\tvalid_0's rmse: 33.8678\tvalid_0's l1: 24.9565\tvalid_0's l2: 1147.03\n",
      "[3181]\tvalid_0's rmse: 33.8678\tvalid_0's l1: 24.9554\tvalid_0's l2: 1147.03\n",
      "[3182]\tvalid_0's rmse: 33.8679\tvalid_0's l1: 24.9544\tvalid_0's l2: 1147.03\n",
      "[3183]\tvalid_0's rmse: 33.8683\tvalid_0's l1: 24.9545\tvalid_0's l2: 1147.06\n",
      "[3184]\tvalid_0's rmse: 33.8693\tvalid_0's l1: 24.9547\tvalid_0's l2: 1147.13\n",
      "[3185]\tvalid_0's rmse: 33.8702\tvalid_0's l1: 24.9546\tvalid_0's l2: 1147.19\n",
      "[3186]\tvalid_0's rmse: 33.8709\tvalid_0's l1: 24.9539\tvalid_0's l2: 1147.24\n",
      "[3187]\tvalid_0's rmse: 33.8716\tvalid_0's l1: 24.9548\tvalid_0's l2: 1147.29\n",
      "[3188]\tvalid_0's rmse: 33.874\tvalid_0's l1: 24.9545\tvalid_0's l2: 1147.45\n",
      "[3189]\tvalid_0's rmse: 33.8752\tvalid_0's l1: 24.9551\tvalid_0's l2: 1147.53\n",
      "[3190]\tvalid_0's rmse: 33.8766\tvalid_0's l1: 24.956\tvalid_0's l2: 1147.62\n",
      "[3191]\tvalid_0's rmse: 33.879\tvalid_0's l1: 24.9574\tvalid_0's l2: 1147.79\n",
      "[3192]\tvalid_0's rmse: 33.877\tvalid_0's l1: 24.9559\tvalid_0's l2: 1147.65\n",
      "[3193]\tvalid_0's rmse: 33.8757\tvalid_0's l1: 24.9556\tvalid_0's l2: 1147.56\n",
      "[3194]\tvalid_0's rmse: 33.875\tvalid_0's l1: 24.9562\tvalid_0's l2: 1147.52\n",
      "[3195]\tvalid_0's rmse: 33.8747\tvalid_0's l1: 24.9567\tvalid_0's l2: 1147.5\n",
      "[3196]\tvalid_0's rmse: 33.8738\tvalid_0's l1: 24.957\tvalid_0's l2: 1147.43\n",
      "[3197]\tvalid_0's rmse: 33.8739\tvalid_0's l1: 24.9576\tvalid_0's l2: 1147.44\n",
      "[3198]\tvalid_0's rmse: 33.8741\tvalid_0's l1: 24.9582\tvalid_0's l2: 1147.45\n",
      "[3199]\tvalid_0's rmse: 33.873\tvalid_0's l1: 24.9575\tvalid_0's l2: 1147.38\n",
      "[3200]\tvalid_0's rmse: 33.8729\tvalid_0's l1: 24.958\tvalid_0's l2: 1147.37\n",
      "[3201]\tvalid_0's rmse: 33.8726\tvalid_0's l1: 24.9589\tvalid_0's l2: 1147.35\n",
      "[3202]\tvalid_0's rmse: 33.8728\tvalid_0's l1: 24.9605\tvalid_0's l2: 1147.37\n",
      "[3203]\tvalid_0's rmse: 33.8715\tvalid_0's l1: 24.9605\tvalid_0's l2: 1147.28\n",
      "[3204]\tvalid_0's rmse: 33.8714\tvalid_0's l1: 24.9622\tvalid_0's l2: 1147.27\n",
      "[3205]\tvalid_0's rmse: 33.8719\tvalid_0's l1: 24.964\tvalid_0's l2: 1147.3\n",
      "[3206]\tvalid_0's rmse: 33.8722\tvalid_0's l1: 24.9656\tvalid_0's l2: 1147.32\n",
      "[3207]\tvalid_0's rmse: 33.8724\tvalid_0's l1: 24.967\tvalid_0's l2: 1147.34\n",
      "[3208]\tvalid_0's rmse: 33.8738\tvalid_0's l1: 24.97\tvalid_0's l2: 1147.43\n",
      "[3209]\tvalid_0's rmse: 33.8725\tvalid_0's l1: 24.9701\tvalid_0's l2: 1147.35\n",
      "[3210]\tvalid_0's rmse: 33.8725\tvalid_0's l1: 24.9705\tvalid_0's l2: 1147.35\n",
      "[3211]\tvalid_0's rmse: 33.8728\tvalid_0's l1: 24.9702\tvalid_0's l2: 1147.37\n",
      "[3212]\tvalid_0's rmse: 33.8721\tvalid_0's l1: 24.9697\tvalid_0's l2: 1147.32\n",
      "[3213]\tvalid_0's rmse: 33.8716\tvalid_0's l1: 24.9701\tvalid_0's l2: 1147.28\n",
      "[3214]\tvalid_0's rmse: 33.8722\tvalid_0's l1: 24.9699\tvalid_0's l2: 1147.33\n",
      "[3215]\tvalid_0's rmse: 33.8716\tvalid_0's l1: 24.9703\tvalid_0's l2: 1147.28\n",
      "[3216]\tvalid_0's rmse: 33.8721\tvalid_0's l1: 24.9704\tvalid_0's l2: 1147.32\n",
      "[3217]\tvalid_0's rmse: 33.8729\tvalid_0's l1: 24.9711\tvalid_0's l2: 1147.37\n",
      "[3218]\tvalid_0's rmse: 33.8723\tvalid_0's l1: 24.9705\tvalid_0's l2: 1147.33\n",
      "[3219]\tvalid_0's rmse: 33.8731\tvalid_0's l1: 24.9708\tvalid_0's l2: 1147.39\n",
      "[3220]\tvalid_0's rmse: 33.8742\tvalid_0's l1: 24.9713\tvalid_0's l2: 1147.46\n",
      "[3221]\tvalid_0's rmse: 33.8745\tvalid_0's l1: 24.9725\tvalid_0's l2: 1147.48\n",
      "[3222]\tvalid_0's rmse: 33.8738\tvalid_0's l1: 24.9724\tvalid_0's l2: 1147.43\n",
      "[3223]\tvalid_0's rmse: 33.8735\tvalid_0's l1: 24.9732\tvalid_0's l2: 1147.42\n",
      "[3224]\tvalid_0's rmse: 33.8733\tvalid_0's l1: 24.9739\tvalid_0's l2: 1147.4\n",
      "[3225]\tvalid_0's rmse: 33.8722\tvalid_0's l1: 24.9731\tvalid_0's l2: 1147.33\n",
      "[3226]\tvalid_0's rmse: 33.8724\tvalid_0's l1: 24.9727\tvalid_0's l2: 1147.34\n",
      "[3227]\tvalid_0's rmse: 33.8715\tvalid_0's l1: 24.9721\tvalid_0's l2: 1147.28\n",
      "[3228]\tvalid_0's rmse: 33.8714\tvalid_0's l1: 24.9715\tvalid_0's l2: 1147.27\n",
      "[3229]\tvalid_0's rmse: 33.8712\tvalid_0's l1: 24.9722\tvalid_0's l2: 1147.26\n",
      "[3230]\tvalid_0's rmse: 33.8713\tvalid_0's l1: 24.9728\tvalid_0's l2: 1147.26\n",
      "[3231]\tvalid_0's rmse: 33.8716\tvalid_0's l1: 24.9724\tvalid_0's l2: 1147.28\n",
      "[3232]\tvalid_0's rmse: 33.8704\tvalid_0's l1: 24.9709\tvalid_0's l2: 1147.2\n",
      "[3233]\tvalid_0's rmse: 33.8693\tvalid_0's l1: 24.9695\tvalid_0's l2: 1147.13\n",
      "[3234]\tvalid_0's rmse: 33.8691\tvalid_0's l1: 24.9696\tvalid_0's l2: 1147.12\n",
      "[3235]\tvalid_0's rmse: 33.8687\tvalid_0's l1: 24.9696\tvalid_0's l2: 1147.09\n",
      "[3236]\tvalid_0's rmse: 33.8693\tvalid_0's l1: 24.9696\tvalid_0's l2: 1147.13\n"
     ]
    },
    {
     "name": "stdout",
     "output_type": "stream",
     "text": [
      "[3237]\tvalid_0's rmse: 33.8688\tvalid_0's l1: 24.9686\tvalid_0's l2: 1147.09\n",
      "[3238]\tvalid_0's rmse: 33.8683\tvalid_0's l1: 24.9678\tvalid_0's l2: 1147.06\n",
      "[3239]\tvalid_0's rmse: 33.8671\tvalid_0's l1: 24.9664\tvalid_0's l2: 1146.98\n",
      "[3240]\tvalid_0's rmse: 33.8668\tvalid_0's l1: 24.9658\tvalid_0's l2: 1146.96\n",
      "[3241]\tvalid_0's rmse: 33.8678\tvalid_0's l1: 24.9666\tvalid_0's l2: 1147.03\n",
      "[3242]\tvalid_0's rmse: 33.8678\tvalid_0's l1: 24.9667\tvalid_0's l2: 1147.03\n",
      "[3243]\tvalid_0's rmse: 33.8691\tvalid_0's l1: 24.9669\tvalid_0's l2: 1147.11\n",
      "[3244]\tvalid_0's rmse: 33.8693\tvalid_0's l1: 24.9671\tvalid_0's l2: 1147.13\n",
      "[3245]\tvalid_0's rmse: 33.8686\tvalid_0's l1: 24.9669\tvalid_0's l2: 1147.09\n",
      "[3246]\tvalid_0's rmse: 33.8699\tvalid_0's l1: 24.9671\tvalid_0's l2: 1147.17\n",
      "[3247]\tvalid_0's rmse: 33.8693\tvalid_0's l1: 24.9668\tvalid_0's l2: 1147.13\n",
      "[3248]\tvalid_0's rmse: 33.8695\tvalid_0's l1: 24.9667\tvalid_0's l2: 1147.14\n",
      "[3249]\tvalid_0's rmse: 33.8689\tvalid_0's l1: 24.9664\tvalid_0's l2: 1147.1\n",
      "[3250]\tvalid_0's rmse: 33.8687\tvalid_0's l1: 24.9662\tvalid_0's l2: 1147.09\n",
      "[3251]\tvalid_0's rmse: 33.8687\tvalid_0's l1: 24.9661\tvalid_0's l2: 1147.09\n",
      "[3252]\tvalid_0's rmse: 33.8682\tvalid_0's l1: 24.9657\tvalid_0's l2: 1147.05\n",
      "[3253]\tvalid_0's rmse: 33.8685\tvalid_0's l1: 24.9656\tvalid_0's l2: 1147.08\n",
      "[3254]\tvalid_0's rmse: 33.8689\tvalid_0's l1: 24.9656\tvalid_0's l2: 1147.1\n",
      "[3255]\tvalid_0's rmse: 33.8699\tvalid_0's l1: 24.9662\tvalid_0's l2: 1147.17\n",
      "[3256]\tvalid_0's rmse: 33.8702\tvalid_0's l1: 24.9662\tvalid_0's l2: 1147.19\n",
      "[3257]\tvalid_0's rmse: 33.8706\tvalid_0's l1: 24.9662\tvalid_0's l2: 1147.22\n",
      "[3258]\tvalid_0's rmse: 33.872\tvalid_0's l1: 24.9672\tvalid_0's l2: 1147.31\n",
      "[3259]\tvalid_0's rmse: 33.8741\tvalid_0's l1: 24.9688\tvalid_0's l2: 1147.46\n",
      "[3260]\tvalid_0's rmse: 33.8755\tvalid_0's l1: 24.9698\tvalid_0's l2: 1147.55\n",
      "[3261]\tvalid_0's rmse: 33.8769\tvalid_0's l1: 24.9698\tvalid_0's l2: 1147.64\n",
      "[3262]\tvalid_0's rmse: 33.878\tvalid_0's l1: 24.9696\tvalid_0's l2: 1147.72\n",
      "[3263]\tvalid_0's rmse: 33.8791\tvalid_0's l1: 24.9686\tvalid_0's l2: 1147.8\n",
      "[3264]\tvalid_0's rmse: 33.8807\tvalid_0's l1: 24.9682\tvalid_0's l2: 1147.9\n",
      "[3265]\tvalid_0's rmse: 33.8818\tvalid_0's l1: 24.9671\tvalid_0's l2: 1147.98\n",
      "[3266]\tvalid_0's rmse: 33.8833\tvalid_0's l1: 24.9669\tvalid_0's l2: 1148.08\n",
      "[3267]\tvalid_0's rmse: 33.885\tvalid_0's l1: 24.9672\tvalid_0's l2: 1148.19\n",
      "[3268]\tvalid_0's rmse: 33.8865\tvalid_0's l1: 24.9671\tvalid_0's l2: 1148.3\n",
      "[3269]\tvalid_0's rmse: 33.8872\tvalid_0's l1: 24.9667\tvalid_0's l2: 1148.34\n",
      "[3270]\tvalid_0's rmse: 33.8878\tvalid_0's l1: 24.966\tvalid_0's l2: 1148.38\n",
      "[3271]\tvalid_0's rmse: 33.8871\tvalid_0's l1: 24.9658\tvalid_0's l2: 1148.33\n",
      "[3272]\tvalid_0's rmse: 33.8875\tvalid_0's l1: 24.9658\tvalid_0's l2: 1148.36\n",
      "[3273]\tvalid_0's rmse: 33.8877\tvalid_0's l1: 24.966\tvalid_0's l2: 1148.37\n",
      "[3274]\tvalid_0's rmse: 33.8864\tvalid_0's l1: 24.965\tvalid_0's l2: 1148.29\n",
      "[3275]\tvalid_0's rmse: 33.8856\tvalid_0's l1: 24.9651\tvalid_0's l2: 1148.23\n",
      "[3276]\tvalid_0's rmse: 33.8861\tvalid_0's l1: 24.9658\tvalid_0's l2: 1148.27\n",
      "[3277]\tvalid_0's rmse: 33.8849\tvalid_0's l1: 24.9648\tvalid_0's l2: 1148.19\n",
      "[3278]\tvalid_0's rmse: 33.8856\tvalid_0's l1: 24.9654\tvalid_0's l2: 1148.23\n",
      "[3279]\tvalid_0's rmse: 33.8865\tvalid_0's l1: 24.9658\tvalid_0's l2: 1148.29\n",
      "[3280]\tvalid_0's rmse: 33.8858\tvalid_0's l1: 24.9654\tvalid_0's l2: 1148.25\n",
      "[3281]\tvalid_0's rmse: 33.8877\tvalid_0's l1: 24.9671\tvalid_0's l2: 1148.38\n",
      "[3282]\tvalid_0's rmse: 33.8884\tvalid_0's l1: 24.9666\tvalid_0's l2: 1148.42\n",
      "[3283]\tvalid_0's rmse: 33.8898\tvalid_0's l1: 24.9673\tvalid_0's l2: 1148.52\n",
      "[3284]\tvalid_0's rmse: 33.8908\tvalid_0's l1: 24.9673\tvalid_0's l2: 1148.59\n",
      "[3285]\tvalid_0's rmse: 33.8918\tvalid_0's l1: 24.9667\tvalid_0's l2: 1148.65\n",
      "[3286]\tvalid_0's rmse: 33.8906\tvalid_0's l1: 24.9663\tvalid_0's l2: 1148.57\n",
      "[3287]\tvalid_0's rmse: 33.893\tvalid_0's l1: 24.9676\tvalid_0's l2: 1148.74\n",
      "[3288]\tvalid_0's rmse: 33.8907\tvalid_0's l1: 24.9661\tvalid_0's l2: 1148.58\n",
      "[3289]\tvalid_0's rmse: 33.8901\tvalid_0's l1: 24.9663\tvalid_0's l2: 1148.54\n",
      "[3290]\tvalid_0's rmse: 33.8897\tvalid_0's l1: 24.9666\tvalid_0's l2: 1148.51\n",
      "[3291]\tvalid_0's rmse: 33.8901\tvalid_0's l1: 24.9659\tvalid_0's l2: 1148.54\n",
      "[3292]\tvalid_0's rmse: 33.8904\tvalid_0's l1: 24.9649\tvalid_0's l2: 1148.56\n",
      "[3293]\tvalid_0's rmse: 33.8895\tvalid_0's l1: 24.9635\tvalid_0's l2: 1148.5\n",
      "[3294]\tvalid_0's rmse: 33.8903\tvalid_0's l1: 24.9638\tvalid_0's l2: 1148.55\n",
      "[3295]\tvalid_0's rmse: 33.89\tvalid_0's l1: 24.9643\tvalid_0's l2: 1148.53\n",
      "[3296]\tvalid_0's rmse: 33.8894\tvalid_0's l1: 24.9643\tvalid_0's l2: 1148.49\n",
      "[3297]\tvalid_0's rmse: 33.8896\tvalid_0's l1: 24.9638\tvalid_0's l2: 1148.5\n",
      "[3298]\tvalid_0's rmse: 33.8905\tvalid_0's l1: 24.9641\tvalid_0's l2: 1148.57\n",
      "[3299]\tvalid_0's rmse: 33.8918\tvalid_0's l1: 24.9643\tvalid_0's l2: 1148.65\n",
      "[3300]\tvalid_0's rmse: 33.8924\tvalid_0's l1: 24.9648\tvalid_0's l2: 1148.7\n",
      "[3301]\tvalid_0's rmse: 33.8932\tvalid_0's l1: 24.9662\tvalid_0's l2: 1148.75\n",
      "[3302]\tvalid_0's rmse: 33.8931\tvalid_0's l1: 24.9661\tvalid_0's l2: 1148.74\n",
      "[3303]\tvalid_0's rmse: 33.894\tvalid_0's l1: 24.9679\tvalid_0's l2: 1148.8\n",
      "[3304]\tvalid_0's rmse: 33.8947\tvalid_0's l1: 24.9693\tvalid_0's l2: 1148.85\n",
      "[3305]\tvalid_0's rmse: 33.8959\tvalid_0's l1: 24.9703\tvalid_0's l2: 1148.93\n",
      "[3306]\tvalid_0's rmse: 33.8965\tvalid_0's l1: 24.9718\tvalid_0's l2: 1148.97\n",
      "[3307]\tvalid_0's rmse: 33.8966\tvalid_0's l1: 24.9719\tvalid_0's l2: 1148.98\n",
      "[3308]\tvalid_0's rmse: 33.8974\tvalid_0's l1: 24.973\tvalid_0's l2: 1149.04\n",
      "[3309]\tvalid_0's rmse: 33.8976\tvalid_0's l1: 24.9731\tvalid_0's l2: 1149.05\n",
      "[3310]\tvalid_0's rmse: 33.8979\tvalid_0's l1: 24.9736\tvalid_0's l2: 1149.07\n",
      "[3311]\tvalid_0's rmse: 33.8974\tvalid_0's l1: 24.9726\tvalid_0's l2: 1149.04\n",
      "[3312]\tvalid_0's rmse: 33.8964\tvalid_0's l1: 24.9708\tvalid_0's l2: 1148.97\n",
      "[3313]\tvalid_0's rmse: 33.8973\tvalid_0's l1: 24.9712\tvalid_0's l2: 1149.03\n",
      "[3314]\tvalid_0's rmse: 33.8963\tvalid_0's l1: 24.9696\tvalid_0's l2: 1148.96\n",
      "[3315]\tvalid_0's rmse: 33.8953\tvalid_0's l1: 24.9673\tvalid_0's l2: 1148.89\n",
      "[3316]\tvalid_0's rmse: 33.8961\tvalid_0's l1: 24.9675\tvalid_0's l2: 1148.94\n",
      "[3317]\tvalid_0's rmse: 33.8969\tvalid_0's l1: 24.9678\tvalid_0's l2: 1149\n",
      "[3318]\tvalid_0's rmse: 33.8959\tvalid_0's l1: 24.9655\tvalid_0's l2: 1148.93\n",
      "[3319]\tvalid_0's rmse: 33.8946\tvalid_0's l1: 24.9629\tvalid_0's l2: 1148.84\n",
      "[3320]\tvalid_0's rmse: 33.8936\tvalid_0's l1: 24.9606\tvalid_0's l2: 1148.78\n",
      "[3321]\tvalid_0's rmse: 33.8935\tvalid_0's l1: 24.9595\tvalid_0's l2: 1148.77\n",
      "[3322]\tvalid_0's rmse: 33.8928\tvalid_0's l1: 24.9579\tvalid_0's l2: 1148.72\n",
      "[3323]\tvalid_0's rmse: 33.8943\tvalid_0's l1: 24.958\tvalid_0's l2: 1148.82\n",
      "[3324]\tvalid_0's rmse: 33.8946\tvalid_0's l1: 24.9571\tvalid_0's l2: 1148.84\n",
      "[3325]\tvalid_0's rmse: 33.8961\tvalid_0's l1: 24.9572\tvalid_0's l2: 1148.95\n",
      "[3326]\tvalid_0's rmse: 33.8971\tvalid_0's l1: 24.9574\tvalid_0's l2: 1149.01\n",
      "[3327]\tvalid_0's rmse: 33.8981\tvalid_0's l1: 24.9575\tvalid_0's l2: 1149.08\n",
      "[3328]\tvalid_0's rmse: 33.899\tvalid_0's l1: 24.9571\tvalid_0's l2: 1149.14\n",
      "[3329]\tvalid_0's rmse: 33.8996\tvalid_0's l1: 24.9566\tvalid_0's l2: 1149.18\n",
      "[3330]\tvalid_0's rmse: 33.8978\tvalid_0's l1: 24.9562\tvalid_0's l2: 1149.06\n",
      "[3331]\tvalid_0's rmse: 33.8976\tvalid_0's l1: 24.9572\tvalid_0's l2: 1149.05\n",
      "[3332]\tvalid_0's rmse: 33.8973\tvalid_0's l1: 24.9577\tvalid_0's l2: 1149.02\n",
      "[3333]\tvalid_0's rmse: 33.8972\tvalid_0's l1: 24.9579\tvalid_0's l2: 1149.02\n",
      "[3334]\tvalid_0's rmse: 33.8971\tvalid_0's l1: 24.959\tvalid_0's l2: 1149.02\n",
      "[3335]\tvalid_0's rmse: 33.897\tvalid_0's l1: 24.96\tvalid_0's l2: 1149.01\n",
      "[3336]\tvalid_0's rmse: 33.8984\tvalid_0's l1: 24.9611\tvalid_0's l2: 1149.1\n",
      "[3337]\tvalid_0's rmse: 33.8985\tvalid_0's l1: 24.9621\tvalid_0's l2: 1149.11\n",
      "[3338]\tvalid_0's rmse: 33.8984\tvalid_0's l1: 24.9628\tvalid_0's l2: 1149.1\n",
      "[3339]\tvalid_0's rmse: 33.8977\tvalid_0's l1: 24.9621\tvalid_0's l2: 1149.05\n",
      "[3340]\tvalid_0's rmse: 33.8979\tvalid_0's l1: 24.9625\tvalid_0's l2: 1149.07\n",
      "[3341]\tvalid_0's rmse: 33.898\tvalid_0's l1: 24.9632\tvalid_0's l2: 1149.08\n",
      "[3342]\tvalid_0's rmse: 33.8983\tvalid_0's l1: 24.9649\tvalid_0's l2: 1149.09\n",
      "[3343]\tvalid_0's rmse: 33.8953\tvalid_0's l1: 24.9644\tvalid_0's l2: 1148.89\n",
      "[3344]\tvalid_0's rmse: 33.8956\tvalid_0's l1: 24.9661\tvalid_0's l2: 1148.91\n",
      "[3345]\tvalid_0's rmse: 33.8944\tvalid_0's l1: 24.9663\tvalid_0's l2: 1148.83\n",
      "[3346]\tvalid_0's rmse: 33.8916\tvalid_0's l1: 24.9657\tvalid_0's l2: 1148.64\n",
      "[3347]\tvalid_0's rmse: 33.8887\tvalid_0's l1: 24.9648\tvalid_0's l2: 1148.44\n",
      "[3348]\tvalid_0's rmse: 33.8864\tvalid_0's l1: 24.9643\tvalid_0's l2: 1148.29\n",
      "[3349]\tvalid_0's rmse: 33.884\tvalid_0's l1: 24.9636\tvalid_0's l2: 1148.13\n",
      "[3350]\tvalid_0's rmse: 33.8816\tvalid_0's l1: 24.9644\tvalid_0's l2: 1147.97\n",
      "[3351]\tvalid_0's rmse: 33.8805\tvalid_0's l1: 24.9632\tvalid_0's l2: 1147.89\n",
      "[3352]\tvalid_0's rmse: 33.8807\tvalid_0's l1: 24.964\tvalid_0's l2: 1147.9\n",
      "[3353]\tvalid_0's rmse: 33.8779\tvalid_0's l1: 24.9623\tvalid_0's l2: 1147.71\n",
      "[3354]\tvalid_0's rmse: 33.8781\tvalid_0's l1: 24.963\tvalid_0's l2: 1147.73\n",
      "[3355]\tvalid_0's rmse: 33.8768\tvalid_0's l1: 24.9626\tvalid_0's l2: 1147.64\n",
      "[3356]\tvalid_0's rmse: 33.877\tvalid_0's l1: 24.9632\tvalid_0's l2: 1147.65\n",
      "[3357]\tvalid_0's rmse: 33.8764\tvalid_0's l1: 24.9623\tvalid_0's l2: 1147.61\n",
      "[3358]\tvalid_0's rmse: 33.8757\tvalid_0's l1: 24.9616\tvalid_0's l2: 1147.57\n",
      "[3359]\tvalid_0's rmse: 33.876\tvalid_0's l1: 24.9619\tvalid_0's l2: 1147.59\n",
      "[3360]\tvalid_0's rmse: 33.875\tvalid_0's l1: 24.9602\tvalid_0's l2: 1147.52\n",
      "[3361]\tvalid_0's rmse: 33.8757\tvalid_0's l1: 24.9604\tvalid_0's l2: 1147.56\n",
      "[3362]\tvalid_0's rmse: 33.8767\tvalid_0's l1: 24.9602\tvalid_0's l2: 1147.63\n",
      "[3363]\tvalid_0's rmse: 33.878\tvalid_0's l1: 24.9603\tvalid_0's l2: 1147.72\n",
      "[3364]\tvalid_0's rmse: 33.8789\tvalid_0's l1: 24.9598\tvalid_0's l2: 1147.78\n",
      "[3365]\tvalid_0's rmse: 33.8792\tvalid_0's l1: 24.9592\tvalid_0's l2: 1147.8\n",
      "[3366]\tvalid_0's rmse: 33.8802\tvalid_0's l1: 24.959\tvalid_0's l2: 1147.87\n",
      "[3367]\tvalid_0's rmse: 33.8783\tvalid_0's l1: 24.9568\tvalid_0's l2: 1147.74\n",
      "[3368]\tvalid_0's rmse: 33.8794\tvalid_0's l1: 24.9566\tvalid_0's l2: 1147.82\n",
      "[3369]\tvalid_0's rmse: 33.8799\tvalid_0's l1: 24.9566\tvalid_0's l2: 1147.85\n",
      "[3370]\tvalid_0's rmse: 33.8808\tvalid_0's l1: 24.9563\tvalid_0's l2: 1147.91\n",
      "[3371]\tvalid_0's rmse: 33.8805\tvalid_0's l1: 24.9556\tvalid_0's l2: 1147.89\n",
      "[3372]\tvalid_0's rmse: 33.8789\tvalid_0's l1: 24.9545\tvalid_0's l2: 1147.78\n",
      "[3373]\tvalid_0's rmse: 33.8771\tvalid_0's l1: 24.953\tvalid_0's l2: 1147.66\n",
      "[3374]\tvalid_0's rmse: 33.8758\tvalid_0's l1: 24.9518\tvalid_0's l2: 1147.57\n",
      "[3375]\tvalid_0's rmse: 33.8742\tvalid_0's l1: 24.9507\tvalid_0's l2: 1147.46\n",
      "[3376]\tvalid_0's rmse: 33.8731\tvalid_0's l1: 24.9496\tvalid_0's l2: 1147.39\n",
      "[3377]\tvalid_0's rmse: 33.8707\tvalid_0's l1: 24.9467\tvalid_0's l2: 1147.23\n",
      "[3378]\tvalid_0's rmse: 33.8693\tvalid_0's l1: 24.9445\tvalid_0's l2: 1147.13\n",
      "[3379]\tvalid_0's rmse: 33.8682\tvalid_0's l1: 24.9435\tvalid_0's l2: 1147.05\n",
      "[3380]\tvalid_0's rmse: 33.8671\tvalid_0's l1: 24.9424\tvalid_0's l2: 1146.98\n",
      "[3381]\tvalid_0's rmse: 33.867\tvalid_0's l1: 24.9419\tvalid_0's l2: 1146.97\n",
      "[3382]\tvalid_0's rmse: 33.8662\tvalid_0's l1: 24.9413\tvalid_0's l2: 1146.92\n",
      "[3383]\tvalid_0's rmse: 33.866\tvalid_0's l1: 24.9408\tvalid_0's l2: 1146.91\n",
      "[3384]\tvalid_0's rmse: 33.8655\tvalid_0's l1: 24.9395\tvalid_0's l2: 1146.87\n",
      "[3385]\tvalid_0's rmse: 33.8654\tvalid_0's l1: 24.939\tvalid_0's l2: 1146.87\n",
      "[3386]\tvalid_0's rmse: 33.8638\tvalid_0's l1: 24.937\tvalid_0's l2: 1146.76\n",
      "[3387]\tvalid_0's rmse: 33.8641\tvalid_0's l1: 24.9373\tvalid_0's l2: 1146.78\n",
      "[3388]\tvalid_0's rmse: 33.8629\tvalid_0's l1: 24.9348\tvalid_0's l2: 1146.7\n",
      "[3389]\tvalid_0's rmse: 33.8639\tvalid_0's l1: 24.9346\tvalid_0's l2: 1146.76\n",
      "[3390]\tvalid_0's rmse: 33.8623\tvalid_0's l1: 24.9326\tvalid_0's l2: 1146.65\n",
      "[3391]\tvalid_0's rmse: 33.8614\tvalid_0's l1: 24.9317\tvalid_0's l2: 1146.59\n",
      "[3392]\tvalid_0's rmse: 33.8615\tvalid_0's l1: 24.9312\tvalid_0's l2: 1146.6\n",
      "[3393]\tvalid_0's rmse: 33.8617\tvalid_0's l1: 24.9315\tvalid_0's l2: 1146.61\n",
      "[3394]\tvalid_0's rmse: 33.8615\tvalid_0's l1: 24.9319\tvalid_0's l2: 1146.6\n",
      "[3395]\tvalid_0's rmse: 33.8607\tvalid_0's l1: 24.9311\tvalid_0's l2: 1146.55\n",
      "[3396]\tvalid_0's rmse: 33.8598\tvalid_0's l1: 24.9301\tvalid_0's l2: 1146.49\n",
      "[3397]\tvalid_0's rmse: 33.8587\tvalid_0's l1: 24.9285\tvalid_0's l2: 1146.41\n",
      "[3398]\tvalid_0's rmse: 33.8596\tvalid_0's l1: 24.9298\tvalid_0's l2: 1146.48\n",
      "[3399]\tvalid_0's rmse: 33.8593\tvalid_0's l1: 24.9312\tvalid_0's l2: 1146.45\n",
      "[3400]\tvalid_0's rmse: 33.8596\tvalid_0's l1: 24.9316\tvalid_0's l2: 1146.47\n",
      "[3401]\tvalid_0's rmse: 33.8584\tvalid_0's l1: 24.9308\tvalid_0's l2: 1146.39\n",
      "[3402]\tvalid_0's rmse: 33.8573\tvalid_0's l1: 24.9297\tvalid_0's l2: 1146.32\n",
      "[3403]\tvalid_0's rmse: 33.8559\tvalid_0's l1: 24.9283\tvalid_0's l2: 1146.22\n",
      "[3404]\tvalid_0's rmse: 33.8559\tvalid_0's l1: 24.9281\tvalid_0's l2: 1146.22\n",
      "[3405]\tvalid_0's rmse: 33.855\tvalid_0's l1: 24.9272\tvalid_0's l2: 1146.16\n",
      "[3406]\tvalid_0's rmse: 33.8536\tvalid_0's l1: 24.9258\tvalid_0's l2: 1146.06\n",
      "[3407]\tvalid_0's rmse: 33.8528\tvalid_0's l1: 24.9255\tvalid_0's l2: 1146.01\n",
      "[3408]\tvalid_0's rmse: 33.8527\tvalid_0's l1: 24.9252\tvalid_0's l2: 1146.01\n",
      "[3409]\tvalid_0's rmse: 33.8519\tvalid_0's l1: 24.9245\tvalid_0's l2: 1145.95\n",
      "[3410]\tvalid_0's rmse: 33.851\tvalid_0's l1: 24.9239\tvalid_0's l2: 1145.89\n",
      "[3411]\tvalid_0's rmse: 33.8516\tvalid_0's l1: 24.9239\tvalid_0's l2: 1145.93\n"
     ]
    },
    {
     "name": "stdout",
     "output_type": "stream",
     "text": [
      "[3412]\tvalid_0's rmse: 33.8504\tvalid_0's l1: 24.9237\tvalid_0's l2: 1145.85\n",
      "[3413]\tvalid_0's rmse: 33.8498\tvalid_0's l1: 24.9235\tvalid_0's l2: 1145.81\n",
      "[3414]\tvalid_0's rmse: 33.8477\tvalid_0's l1: 24.9229\tvalid_0's l2: 1145.67\n",
      "[3415]\tvalid_0's rmse: 33.8459\tvalid_0's l1: 24.922\tvalid_0's l2: 1145.55\n",
      "[3416]\tvalid_0's rmse: 33.844\tvalid_0's l1: 24.9219\tvalid_0's l2: 1145.42\n",
      "[3417]\tvalid_0's rmse: 33.8432\tvalid_0's l1: 24.9214\tvalid_0's l2: 1145.36\n",
      "[3418]\tvalid_0's rmse: 33.8414\tvalid_0's l1: 24.9212\tvalid_0's l2: 1145.24\n",
      "[3419]\tvalid_0's rmse: 33.8398\tvalid_0's l1: 24.921\tvalid_0's l2: 1145.13\n"
     ]
    },
    {
     "data": {
      "text/plain": [
       "LGBMRegressor(bagging_fraction=0.7, bagging_freq=10, feature_fraction=0.9,\n",
       "              learning_rate=0.005, max_depth=20, metric=['l1', 'l2'],\n",
       "              n_estimators=100000, objective='rmse', task='train', verbose=0)"
      ]
     },
     "execution_count": 33,
     "metadata": {},
     "output_type": "execute_result"
    }
   ],
   "source": [
    "import lightgbm as lgb\n",
    "gbm = lgb.LGBMRegressor(**hyper_params)\n",
    "\n",
    "gbm.fit(features_train, target_train,\n",
    "        eval_set=[(features_valid, target_valid)],\n",
    "        eval_metric='rmse',\n",
    "        early_stopping_rounds=1000)\n"
   ]
  },
  {
   "cell_type": "code",
   "execution_count": 34,
   "metadata": {},
   "outputs": [
    {
     "name": "stdout",
     "output_type": "stream",
     "text": [
      "The rmse of prediction is: 28.495976122885843\n"
     ]
    }
   ],
   "source": [
    "y_pred2 = gbm.predict(features_test, num_iteration=gbm.best_iteration_)\n",
    "mse2=mean_squared_error(target_test,y_pred2)\n",
    "rmse2=np.sqrt(mse2)\n",
    "print('The rmse of prediction is:',rmse2 )"
   ]
  },
  {
   "cell_type": "markdown",
   "metadata": {},
   "source": [
    "## Model Testing"
   ]
  },
  {
   "cell_type": "markdown",
   "metadata": {},
   "source": [
    "Testing the models with Best Parameters tuned during training"
   ]
  },
  {
   "cell_type": "markdown",
   "metadata": {},
   "source": [
    "#### Random Forest"
   ]
  },
  {
   "cell_type": "code",
   "execution_count": 35,
   "metadata": {},
   "outputs": [
    {
     "name": "stdout",
     "output_type": "stream",
     "text": [
      "RMSE for the test set: 34.168105638703565\n"
     ]
    }
   ],
   "source": [
    "RF1 = RandomForestRegressor(random_state=12345, n_estimators=162) .fit(features_valid, target_valid)\n",
    "pred_test1 = RF1.predict(features_test)\n",
    "\n",
    "print(\n",
    "    'RMSE for the test set:', math.sqrt(mean_squared_error(target_test, pred_test1)))"
   ]
  },
  {
   "cell_type": "markdown",
   "metadata": {},
   "source": [
    "#### Desion Tree"
   ]
  },
  {
   "cell_type": "code",
   "execution_count": 36,
   "metadata": {},
   "outputs": [
    {
     "name": "stdout",
     "output_type": "stream",
     "text": [
      "RMSE for the test set: 48.214695043957484\n"
     ]
    }
   ],
   "source": [
    "DT = DecisionTreeRegressor(random_state=12345, max_depth=20) .fit(features_valid, target_valid)\n",
    "pred_test2 = DT.predict(features_test)\n",
    "\n",
    "print(\n",
    "    'RMSE for the test set:', math.sqrt(mean_squared_error(target_test, pred_test2)))"
   ]
  },
  {
   "cell_type": "markdown",
   "metadata": {},
   "source": [
    "#### LightGBM "
   ]
  },
  {
   "cell_type": "code",
   "execution_count": 37,
   "metadata": {},
   "outputs": [
    {
     "name": "stdout",
     "output_type": "stream",
     "text": [
      "The rmse of prediction is: 28.495976122885843\n"
     ]
    }
   ],
   "source": [
    "y_pred2 = gbm.predict(features_test, num_iteration=gbm.best_iteration_)\n",
    "mse2=mean_squared_error(target_test,y_pred2)\n",
    "rmse2=np.sqrt(mse2)\n",
    "print('The rmse of prediction is:',rmse2 )"
   ]
  },
  {
   "cell_type": "markdown",
   "metadata": {},
   "source": [
    "Among all 3 models,Light GMB gave the lowest RMSE in the test set which is 28.59."
   ]
  },
  {
   "cell_type": "markdown",
   "metadata": {},
   "source": [
    "## Sanity Check"
   ]
  },
  {
   "cell_type": "code",
   "execution_count": 38,
   "metadata": {},
   "outputs": [
    {
     "name": "stdout",
     "output_type": "stream",
     "text": [
      "RMSE for the training set: 36.46751599701262\n"
     ]
    }
   ],
   "source": [
    "model = LinearRegression(fit_intercept=True, normalize=False, copy_X=True, n_jobs=-1)\n",
    "model.fit(features_train, target_train)\n",
    "\n",
    "pred_train = model.predict(features_valid)\n",
    "\n",
    "\n",
    "print(\n",
    "    'RMSE for the training set:', math.sqrt(mean_squared_error(target_valid, pred_train)))"
   ]
  },
  {
   "cell_type": "code",
   "execution_count": 41,
   "metadata": {},
   "outputs": [
    {
     "name": "stdout",
     "output_type": "stream",
     "text": [
      "RMSE for the test set: 32.412519549189774\n"
     ]
    }
   ],
   "source": [
    "pred_tst = model.predict(features_test)\n",
    "\n",
    "\n",
    "print(\n",
    "    'RMSE for the test set:', math.sqrt(mean_squared_error(target_test, pred_tst)))"
   ]
  },
  {
   "cell_type": "markdown",
   "metadata": {},
   "source": [
    "# Conclusion"
   ]
  },
  {
   "cell_type": "markdown",
   "metadata": {},
   "source": [
    "Among the 4 different models, Light GMB gave the lowest RMSE score i.e. 28.59"
   ]
  }
 ],
 "metadata": {
  "ExecuteTimeLog": [
   {
    "duration": 1490,
    "start_time": "2022-02-23T22:52:57.101Z"
   },
   {
    "duration": 72,
    "start_time": "2022-02-23T22:53:15.889Z"
   },
   {
    "duration": 5,
    "start_time": "2022-02-23T22:53:44.877Z"
   },
   {
    "duration": 10,
    "start_time": "2022-02-23T22:54:30.205Z"
   },
   {
    "duration": 877,
    "start_time": "2022-02-23T22:55:24.413Z"
   },
   {
    "duration": 116,
    "start_time": "2022-02-23T22:55:41.781Z"
   },
   {
    "duration": 17,
    "start_time": "2022-02-23T22:56:10.687Z"
   },
   {
    "duration": 10,
    "start_time": "2022-02-23T22:56:21.181Z"
   },
   {
    "duration": 535,
    "start_time": "2022-02-23T22:56:45.865Z"
   },
   {
    "duration": 2739,
    "start_time": "2022-02-23T22:56:55.743Z"
   },
   {
    "duration": 6,
    "start_time": "2022-02-23T22:57:18.602Z"
   },
   {
    "duration": 9,
    "start_time": "2022-02-23T22:57:43.595Z"
   },
   {
    "duration": 5,
    "start_time": "2022-02-23T22:57:53.839Z"
   },
   {
    "duration": 6,
    "start_time": "2022-02-23T22:58:02.629Z"
   },
   {
    "duration": 11,
    "start_time": "2022-02-23T22:58:20.786Z"
   },
   {
    "duration": 9,
    "start_time": "2022-02-23T22:58:34.907Z"
   },
   {
    "duration": 1190,
    "start_time": "2022-02-24T03:08:35.851Z"
   },
   {
    "duration": 83,
    "start_time": "2022-02-24T03:08:37.879Z"
   },
   {
    "duration": 6,
    "start_time": "2022-02-24T03:08:55.576Z"
   },
   {
    "duration": 5,
    "start_time": "2022-02-24T03:09:10.611Z"
   },
   {
    "duration": 4,
    "start_time": "2022-02-24T03:10:06.085Z"
   },
   {
    "duration": 36,
    "start_time": "2022-02-24T03:11:24.490Z"
   },
   {
    "duration": 5,
    "start_time": "2022-02-24T03:11:27.056Z"
   },
   {
    "duration": 4,
    "start_time": "2022-02-24T03:12:47.158Z"
   },
   {
    "duration": 7,
    "start_time": "2022-02-24T03:12:48.465Z"
   },
   {
    "duration": 674,
    "start_time": "2022-02-24T03:12:50.023Z"
   },
   {
    "duration": 3,
    "start_time": "2022-02-24T03:13:41.707Z"
   },
   {
    "duration": 215,
    "start_time": "2022-02-24T03:13:51.235Z"
   },
   {
    "duration": 14,
    "start_time": "2022-02-24T03:14:36.509Z"
   },
   {
    "duration": 7,
    "start_time": "2022-02-24T03:14:37.454Z"
   },
   {
    "duration": 67,
    "start_time": "2022-02-24T03:15:48.791Z"
   },
   {
    "duration": 335,
    "start_time": "2022-02-24T03:16:10.702Z"
   },
   {
    "duration": 4,
    "start_time": "2022-02-24T03:18:48.777Z"
   },
   {
    "duration": 321,
    "start_time": "2022-02-24T03:18:51.837Z"
   },
   {
    "duration": 5,
    "start_time": "2022-02-24T03:19:06.498Z"
   },
   {
    "duration": 328,
    "start_time": "2022-02-24T03:19:07.100Z"
   },
   {
    "duration": 4,
    "start_time": "2022-02-24T03:19:33.534Z"
   },
   {
    "duration": 337,
    "start_time": "2022-02-24T03:19:35.014Z"
   },
   {
    "duration": 276,
    "start_time": "2022-02-24T03:21:16.224Z"
   },
   {
    "duration": 532,
    "start_time": "2022-02-24T03:21:34.666Z"
   },
   {
    "duration": 383,
    "start_time": "2022-02-24T03:22:31.357Z"
   },
   {
    "duration": 521,
    "start_time": "2022-02-24T03:23:04.862Z"
   },
   {
    "duration": 306,
    "start_time": "2022-02-24T03:23:06.763Z"
   },
   {
    "duration": 9,
    "start_time": "2022-02-24T03:23:44.342Z"
   },
   {
    "duration": 229,
    "start_time": "2022-02-24T03:23:53.156Z"
   },
   {
    "duration": 9,
    "start_time": "2022-02-24T03:24:22.788Z"
   },
   {
    "duration": 5,
    "start_time": "2022-02-24T03:24:23.874Z"
   },
   {
    "duration": 226,
    "start_time": "2022-02-24T03:24:25.462Z"
   },
   {
    "duration": 199,
    "start_time": "2022-02-24T03:25:11.122Z"
   },
   {
    "duration": 239,
    "start_time": "2022-02-24T03:25:16.292Z"
   },
   {
    "duration": 287,
    "start_time": "2022-02-24T03:26:29.483Z"
   },
   {
    "duration": 248,
    "start_time": "2022-02-24T03:28:06.915Z"
   },
   {
    "duration": 246,
    "start_time": "2022-02-24T03:28:25.342Z"
   },
   {
    "duration": 1833,
    "start_time": "2022-02-24T03:28:30.088Z"
   },
   {
    "duration": 245,
    "start_time": "2022-02-24T03:28:33.692Z"
   },
   {
    "duration": 1131,
    "start_time": "2022-02-24T03:29:20.386Z"
   },
   {
    "duration": 1131,
    "start_time": "2022-02-24T03:29:37.404Z"
   },
   {
    "duration": 263,
    "start_time": "2022-02-24T03:30:04.736Z"
   },
   {
    "duration": 1580,
    "start_time": "2022-02-24T03:31:20.656Z"
   },
   {
    "duration": 1310,
    "start_time": "2022-02-24T03:32:12.294Z"
   },
   {
    "duration": 231,
    "start_time": "2022-02-24T03:32:20.398Z"
   },
   {
    "duration": 233,
    "start_time": "2022-02-24T03:32:30.669Z"
   },
   {
    "duration": 4,
    "start_time": "2022-02-24T03:36:12.094Z"
   },
   {
    "duration": 3,
    "start_time": "2022-02-24T03:36:22.180Z"
   },
   {
    "duration": 40,
    "start_time": "2022-02-24T03:36:23.010Z"
   },
   {
    "duration": 5,
    "start_time": "2022-02-24T03:36:23.584Z"
   },
   {
    "duration": 5,
    "start_time": "2022-02-24T03:36:24.589Z"
   },
   {
    "duration": 6,
    "start_time": "2022-02-24T03:36:25.397Z"
   },
   {
    "duration": 622,
    "start_time": "2022-02-24T03:36:26.159Z"
   },
   {
    "duration": 8,
    "start_time": "2022-02-24T03:36:27.116Z"
   },
   {
    "duration": 4,
    "start_time": "2022-02-24T03:36:29.194Z"
   },
   {
    "duration": 11,
    "start_time": "2022-02-24T03:36:46.033Z"
   },
   {
    "duration": 5,
    "start_time": "2022-02-24T03:36:48.637Z"
   },
   {
    "duration": 227,
    "start_time": "2022-02-24T03:36:49.778Z"
   },
   {
    "duration": 194,
    "start_time": "2022-02-24T03:36:50.887Z"
   },
   {
    "duration": 238,
    "start_time": "2022-02-24T03:36:51.646Z"
   },
   {
    "duration": 1742,
    "start_time": "2022-02-24T03:36:53.012Z"
   },
   {
    "duration": 1182,
    "start_time": "2022-02-24T03:36:54.757Z"
   },
   {
    "duration": 1166,
    "start_time": "2022-02-24T03:37:02.274Z"
   },
   {
    "duration": 246,
    "start_time": "2022-02-24T03:37:04.415Z"
   },
   {
    "duration": 5,
    "start_time": "2022-02-24T03:37:09.131Z"
   },
   {
    "duration": 5,
    "start_time": "2022-02-24T03:37:45.665Z"
   },
   {
    "duration": 13,
    "start_time": "2022-02-24T03:37:51.411Z"
   },
   {
    "duration": 9,
    "start_time": "2022-02-24T03:38:03.004Z"
   },
   {
    "duration": 4,
    "start_time": "2022-02-24T03:38:16.765Z"
   },
   {
    "duration": 4,
    "start_time": "2022-02-24T03:38:55.439Z"
   },
   {
    "duration": 35,
    "start_time": "2022-02-24T03:38:56.522Z"
   },
   {
    "duration": 3,
    "start_time": "2022-02-24T03:39:15.740Z"
   },
   {
    "duration": 34,
    "start_time": "2022-02-24T03:39:16.364Z"
   },
   {
    "duration": 5,
    "start_time": "2022-02-24T03:39:16.970Z"
   },
   {
    "duration": 3,
    "start_time": "2022-02-24T03:39:17.990Z"
   },
   {
    "duration": 7,
    "start_time": "2022-02-24T03:39:18.953Z"
   },
   {
    "duration": 900,
    "start_time": "2022-02-24T03:39:19.860Z"
   },
   {
    "duration": 12,
    "start_time": "2022-02-24T03:39:22.479Z"
   },
   {
    "duration": 5,
    "start_time": "2022-02-24T03:39:23.931Z"
   },
   {
    "duration": 231,
    "start_time": "2022-02-24T03:39:25.566Z"
   },
   {
    "duration": 185,
    "start_time": "2022-02-24T03:39:27.765Z"
   },
   {
    "duration": 251,
    "start_time": "2022-02-24T03:39:29.000Z"
   },
   {
    "duration": 1154,
    "start_time": "2022-02-24T03:39:31.536Z"
   },
   {
    "duration": 240,
    "start_time": "2022-02-24T03:39:36.946Z"
   },
   {
    "duration": 4,
    "start_time": "2022-02-24T03:39:38.642Z"
   },
   {
    "duration": 12,
    "start_time": "2022-02-24T03:39:41.128Z"
   },
   {
    "duration": 10,
    "start_time": "2022-02-24T03:39:42.291Z"
   },
   {
    "duration": 5,
    "start_time": "2022-02-24T03:40:11.988Z"
   },
   {
    "duration": 20,
    "start_time": "2022-02-24T03:40:12.714Z"
   },
   {
    "duration": 17,
    "start_time": "2022-02-24T03:40:13.543Z"
   },
   {
    "duration": 8,
    "start_time": "2022-02-24T03:42:44.955Z"
   },
   {
    "duration": 540,
    "start_time": "2022-02-24T03:42:46.070Z"
   },
   {
    "duration": 23,
    "start_time": "2022-02-24T03:43:16.286Z"
   },
   {
    "duration": 23,
    "start_time": "2022-02-24T03:43:42.686Z"
   },
   {
    "duration": 7,
    "start_time": "2022-02-24T03:48:08.320Z"
   },
   {
    "duration": 11,
    "start_time": "2022-02-24T03:48:16.076Z"
   },
   {
    "duration": 8,
    "start_time": "2022-02-24T03:48:57.549Z"
   },
   {
    "duration": 80,
    "start_time": "2022-02-24T03:51:32.016Z"
   },
   {
    "duration": 298,
    "start_time": "2022-02-24T03:51:40.283Z"
   },
   {
    "duration": 4,
    "start_time": "2022-02-24T03:52:51.961Z"
   },
   {
    "duration": 302,
    "start_time": "2022-02-24T03:53:01.386Z"
   },
   {
    "duration": 19,
    "start_time": "2022-02-24T03:53:18.557Z"
   },
   {
    "duration": 278,
    "start_time": "2022-02-24T03:53:38.423Z"
   },
   {
    "duration": 13,
    "start_time": "2022-02-24T03:53:50.044Z"
   },
   {
    "duration": 10,
    "start_time": "2022-02-24T03:54:04.215Z"
   },
   {
    "duration": 9,
    "start_time": "2022-02-24T03:54:10.177Z"
   },
   {
    "duration": 7,
    "start_time": "2022-02-24T03:54:12.083Z"
   },
   {
    "duration": 13,
    "start_time": "2022-02-24T03:54:19.725Z"
   },
   {
    "duration": 10,
    "start_time": "2022-02-24T03:54:53.807Z"
   },
   {
    "duration": 9,
    "start_time": "2022-02-24T03:56:01.501Z"
   },
   {
    "duration": 6,
    "start_time": "2022-02-24T03:56:02.651Z"
   },
   {
    "duration": 12,
    "start_time": "2022-02-24T03:56:06.575Z"
   },
   {
    "duration": 12,
    "start_time": "2022-02-24T03:56:12.753Z"
   },
   {
    "duration": 10,
    "start_time": "2022-02-24T03:56:18.415Z"
   },
   {
    "duration": 13,
    "start_time": "2022-02-24T03:57:50.913Z"
   },
   {
    "duration": 294,
    "start_time": "2022-02-24T03:58:35.711Z"
   },
   {
    "duration": 11,
    "start_time": "2022-02-24T03:58:41.725Z"
   },
   {
    "duration": 274,
    "start_time": "2022-02-24T04:00:19.325Z"
   },
   {
    "duration": 12,
    "start_time": "2022-02-24T04:00:30.939Z"
   },
   {
    "duration": 262,
    "start_time": "2022-02-24T04:00:32.287Z"
   },
   {
    "duration": 12,
    "start_time": "2022-02-24T04:02:09.043Z"
   },
   {
    "duration": 254,
    "start_time": "2022-02-24T04:02:09.657Z"
   },
   {
    "duration": 16,
    "start_time": "2022-02-24T04:03:56.377Z"
   },
   {
    "duration": 5,
    "start_time": "2022-02-24T04:04:17.391Z"
   },
   {
    "duration": 551,
    "start_time": "2022-02-24T04:04:31.971Z"
   },
   {
    "duration": 15,
    "start_time": "2022-02-24T04:05:21.656Z"
   },
   {
    "duration": 14,
    "start_time": "2022-02-24T04:05:25.857Z"
   },
   {
    "duration": 6,
    "start_time": "2022-02-24T04:05:26.980Z"
   },
   {
    "duration": 312,
    "start_time": "2022-02-24T04:05:27.779Z"
   },
   {
    "duration": 476,
    "start_time": "2022-02-24T04:05:55.141Z"
   },
   {
    "duration": 592,
    "start_time": "2022-02-24T04:06:13.998Z"
   },
   {
    "duration": 578,
    "start_time": "2022-02-24T04:06:20.643Z"
   },
   {
    "duration": 3,
    "start_time": "2022-02-24T04:08:06.351Z"
   },
   {
    "duration": 35,
    "start_time": "2022-02-24T04:08:07.641Z"
   },
   {
    "duration": 36,
    "start_time": "2022-02-24T04:08:29.673Z"
   },
   {
    "duration": 7,
    "start_time": "2022-02-24T04:08:33.699Z"
   },
   {
    "duration": 4,
    "start_time": "2022-02-24T04:08:45.367Z"
   },
   {
    "duration": 6,
    "start_time": "2022-02-24T04:08:50.347Z"
   },
   {
    "duration": 622,
    "start_time": "2022-02-24T04:08:55.192Z"
   },
   {
    "duration": 4,
    "start_time": "2022-02-24T04:10:28.381Z"
   },
   {
    "duration": 2592,
    "start_time": "2022-02-24T04:10:33.087Z"
   },
   {
    "duration": 4,
    "start_time": "2022-02-24T04:10:48.660Z"
   },
   {
    "duration": 2638,
    "start_time": "2022-02-24T04:10:54.051Z"
   },
   {
    "duration": 5,
    "start_time": "2022-02-24T04:11:39.211Z"
   },
   {
    "duration": 324,
    "start_time": "2022-02-24T04:11:51.330Z"
   },
   {
    "duration": 2518,
    "start_time": "2022-02-24T04:11:56.716Z"
   },
   {
    "duration": 324,
    "start_time": "2022-02-24T04:12:02.691Z"
   },
   {
    "duration": 4,
    "start_time": "2022-02-24T04:13:43.830Z"
   },
   {
    "duration": 36,
    "start_time": "2022-02-24T04:13:44.723Z"
   },
   {
    "duration": 6,
    "start_time": "2022-02-24T04:13:45.054Z"
   },
   {
    "duration": 4,
    "start_time": "2022-02-24T04:13:45.611Z"
   },
   {
    "duration": 7,
    "start_time": "2022-02-24T04:13:46.192Z"
   },
   {
    "duration": 633,
    "start_time": "2022-02-24T04:13:46.798Z"
   },
   {
    "duration": 5,
    "start_time": "2022-02-24T04:13:47.479Z"
   },
   {
    "duration": 331,
    "start_time": "2022-02-24T04:13:47.854Z"
   },
   {
    "duration": 13,
    "start_time": "2022-02-24T04:13:51.374Z"
   },
   {
    "duration": 83,
    "start_time": "2022-02-24T04:13:52.278Z"
   },
   {
    "duration": 214,
    "start_time": "2022-02-24T04:14:01.232Z"
   },
   {
    "duration": 264,
    "start_time": "2022-02-24T04:14:02.516Z"
   },
   {
    "duration": 1211,
    "start_time": "2022-02-24T04:14:03.732Z"
   },
   {
    "duration": 241,
    "start_time": "2022-02-24T04:14:10.187Z"
   },
   {
    "duration": 4,
    "start_time": "2022-02-24T04:14:49.368Z"
   },
   {
    "duration": 12,
    "start_time": "2022-02-24T04:14:50.253Z"
   },
   {
    "duration": 18,
    "start_time": "2022-02-24T04:14:51.330Z"
   },
   {
    "duration": 8,
    "start_time": "2022-02-24T04:14:54.178Z"
   },
   {
    "duration": 9,
    "start_time": "2022-02-24T04:15:01.312Z"
   },
   {
    "duration": 6,
    "start_time": "2022-02-24T04:15:05.414Z"
   },
   {
    "duration": 11,
    "start_time": "2022-02-24T04:15:07.546Z"
   },
   {
    "duration": 6,
    "start_time": "2022-02-24T04:15:10.638Z"
   },
   {
    "duration": 1513,
    "start_time": "2022-02-25T03:49:42.730Z"
   },
   {
    "duration": 59,
    "start_time": "2022-02-25T03:49:46.210Z"
   },
   {
    "duration": 7,
    "start_time": "2022-02-25T03:49:47.528Z"
   },
   {
    "duration": 5,
    "start_time": "2022-02-25T03:51:46.389Z"
   },
   {
    "duration": 46,
    "start_time": "2022-02-25T03:51:47.774Z"
   },
   {
    "duration": 7,
    "start_time": "2022-02-25T03:51:48.189Z"
   },
   {
    "duration": 5,
    "start_time": "2022-02-25T03:51:49.033Z"
   },
   {
    "duration": 8,
    "start_time": "2022-02-25T03:51:49.811Z"
   },
   {
    "duration": 863,
    "start_time": "2022-02-25T03:51:50.903Z"
   },
   {
    "duration": 5,
    "start_time": "2022-02-25T03:51:54.754Z"
   },
   {
    "duration": 503,
    "start_time": "2022-02-25T03:51:55.775Z"
   },
   {
    "duration": 20,
    "start_time": "2022-02-25T03:51:59.255Z"
   },
   {
    "duration": 379,
    "start_time": "2022-02-25T03:52:01.267Z"
   },
   {
    "duration": 386,
    "start_time": "2022-02-25T03:52:04.427Z"
   },
   {
    "duration": 1865,
    "start_time": "2022-02-25T03:52:14.937Z"
   },
   {
    "duration": 375,
    "start_time": "2022-02-25T03:52:24.845Z"
   },
   {
    "duration": 6,
    "start_time": "2022-02-25T03:52:26.993Z"
   },
   {
    "duration": 19,
    "start_time": "2022-02-25T03:52:30.975Z"
   },
   {
    "duration": 25,
    "start_time": "2022-02-25T03:52:31.919Z"
   },
   {
    "duration": 10,
    "start_time": "2022-02-25T03:52:33.943Z"
   },
   {
    "duration": 7,
    "start_time": "2022-02-25T03:52:36.623Z"
   },
   {
    "duration": 18,
    "start_time": "2022-02-25T03:52:37.611Z"
   },
   {
    "duration": 7,
    "start_time": "2022-02-25T04:02:08.611Z"
   },
   {
    "duration": 12,
    "start_time": "2022-02-25T04:07:04.373Z"
   },
   {
    "duration": 7,
    "start_time": "2022-02-25T04:07:14.971Z"
   },
   {
    "duration": 30,
    "start_time": "2022-02-25T04:09:22.681Z"
   },
   {
    "duration": 3,
    "start_time": "2022-02-25T04:10:06.809Z"
   },
   {
    "duration": 524,
    "start_time": "2022-02-25T04:10:55.545Z"
   },
   {
    "duration": 1023,
    "start_time": "2022-02-25T04:11:05.055Z"
   },
   {
    "duration": 1223,
    "start_time": "2022-02-25T04:11:11.417Z"
   },
   {
    "duration": 1760,
    "start_time": "2022-02-25T04:11:19.558Z"
   },
   {
    "duration": 2083,
    "start_time": "2022-02-25T04:11:30.509Z"
   },
   {
    "duration": 30,
    "start_time": "2022-02-25T04:12:06.571Z"
   },
   {
    "duration": 7,
    "start_time": "2022-02-25T04:12:27.993Z"
   },
   {
    "duration": 29,
    "start_time": "2022-02-25T04:12:28.769Z"
   },
   {
    "duration": 2554,
    "start_time": "2022-02-25T04:12:36.225Z"
   },
   {
    "duration": 34,
    "start_time": "2022-02-25T04:12:53.241Z"
   },
   {
    "duration": 2779,
    "start_time": "2022-02-25T04:13:09.954Z"
   },
   {
    "duration": 7,
    "start_time": "2022-02-25T04:13:16.648Z"
   },
   {
    "duration": 36,
    "start_time": "2022-02-25T04:13:17.475Z"
   },
   {
    "duration": 3648,
    "start_time": "2022-02-25T04:13:34.469Z"
   },
   {
    "duration": 7,
    "start_time": "2022-02-25T04:13:40.619Z"
   },
   {
    "duration": 41,
    "start_time": "2022-02-25T04:13:41.459Z"
   },
   {
    "duration": 4073,
    "start_time": "2022-02-25T04:13:56.307Z"
   },
   {
    "duration": 4239,
    "start_time": "2022-02-25T04:14:07.061Z"
   },
   {
    "duration": 5166,
    "start_time": "2022-02-25T04:14:15.733Z"
   },
   {
    "duration": 8,
    "start_time": "2022-02-25T04:14:25.223Z"
   },
   {
    "duration": 52,
    "start_time": "2022-02-25T04:14:26.557Z"
   },
   {
    "duration": 4729,
    "start_time": "2022-02-25T04:15:07.543Z"
   },
   {
    "duration": 7,
    "start_time": "2022-02-25T04:15:16.151Z"
   },
   {
    "duration": 52,
    "start_time": "2022-02-25T04:15:17.520Z"
   },
   {
    "duration": 3871,
    "start_time": "2022-02-25T04:15:28.623Z"
   },
   {
    "duration": 8,
    "start_time": "2022-02-25T04:15:35.060Z"
   },
   {
    "duration": 49,
    "start_time": "2022-02-25T04:15:36.123Z"
   },
   {
    "duration": 13,
    "start_time": "2022-02-25T04:17:21.033Z"
   },
   {
    "duration": 9,
    "start_time": "2022-02-25T04:18:53.347Z"
   },
   {
    "duration": 73,
    "start_time": "2022-02-25T04:18:54.389Z"
   },
   {
    "duration": 10,
    "start_time": "2022-02-25T04:19:44.278Z"
   },
   {
    "duration": 7,
    "start_time": "2022-02-25T04:20:05.791Z"
   },
   {
    "duration": 19,
    "start_time": "2022-02-25T04:20:26.563Z"
   },
   {
    "duration": 10,
    "start_time": "2022-02-25T04:21:26.985Z"
   },
   {
    "duration": 9,
    "start_time": "2022-02-25T04:23:33.117Z"
   },
   {
    "duration": 9,
    "start_time": "2022-02-25T04:24:01.937Z"
   },
   {
    "duration": 8,
    "start_time": "2022-02-25T04:24:07.739Z"
   },
   {
    "duration": 12,
    "start_time": "2022-02-25T04:24:11.071Z"
   },
   {
    "duration": 17,
    "start_time": "2022-02-25T04:25:22.093Z"
   },
   {
    "duration": 5,
    "start_time": "2022-02-25T04:25:49.894Z"
   },
   {
    "duration": 55,
    "start_time": "2022-02-25T04:25:49.902Z"
   },
   {
    "duration": 7,
    "start_time": "2022-02-25T04:25:49.960Z"
   },
   {
    "duration": 5,
    "start_time": "2022-02-25T04:25:49.970Z"
   },
   {
    "duration": 10,
    "start_time": "2022-02-25T04:25:49.977Z"
   },
   {
    "duration": 1005,
    "start_time": "2022-02-25T04:25:49.989Z"
   },
   {
    "duration": 5,
    "start_time": "2022-02-25T04:25:50.997Z"
   },
   {
    "duration": 532,
    "start_time": "2022-02-25T04:25:51.006Z"
   },
   {
    "duration": 28,
    "start_time": "2022-02-25T04:25:51.544Z"
   },
   {
    "duration": 357,
    "start_time": "2022-02-25T04:25:51.576Z"
   },
   {
    "duration": 404,
    "start_time": "2022-02-25T04:25:51.935Z"
   },
   {
    "duration": 2169,
    "start_time": "2022-02-25T04:25:52.342Z"
   },
   {
    "duration": 401,
    "start_time": "2022-02-25T04:25:54.514Z"
   },
   {
    "duration": 6,
    "start_time": "2022-02-25T04:25:54.918Z"
   },
   {
    "duration": 39,
    "start_time": "2022-02-25T04:25:54.926Z"
   },
   {
    "duration": 33,
    "start_time": "2022-02-25T04:25:54.967Z"
   },
   {
    "duration": 13,
    "start_time": "2022-02-25T04:25:55.003Z"
   },
   {
    "duration": 43,
    "start_time": "2022-02-25T04:25:55.019Z"
   },
   {
    "duration": 101,
    "start_time": "2022-02-25T04:25:55.065Z"
   },
   {
    "duration": 97,
    "start_time": "2022-02-25T04:25:55.169Z"
   },
   {
    "duration": 6143,
    "start_time": "2022-02-25T04:25:55.269Z"
   },
   {
    "duration": 7,
    "start_time": "2022-02-25T04:26:01.415Z"
   },
   {
    "duration": 71,
    "start_time": "2022-02-25T04:26:01.424Z"
   },
   {
    "duration": 12,
    "start_time": "2022-02-25T04:26:56.795Z"
   },
   {
    "duration": 29,
    "start_time": "2022-02-25T04:26:58.312Z"
   },
   {
    "duration": 6,
    "start_time": "2022-02-25T04:27:02.985Z"
   },
   {
    "duration": 13,
    "start_time": "2022-02-25T04:27:04.255Z"
   },
   {
    "duration": 27,
    "start_time": "2022-02-25T04:27:05.089Z"
   },
   {
    "duration": 4,
    "start_time": "2022-02-25T04:27:09.969Z"
   },
   {
    "duration": 48,
    "start_time": "2022-02-25T04:27:09.976Z"
   },
   {
    "duration": 7,
    "start_time": "2022-02-25T04:27:10.027Z"
   },
   {
    "duration": 28,
    "start_time": "2022-02-25T04:27:10.036Z"
   },
   {
    "duration": 13,
    "start_time": "2022-02-25T04:27:10.066Z"
   },
   {
    "duration": 898,
    "start_time": "2022-02-25T04:27:10.082Z"
   },
   {
    "duration": 6,
    "start_time": "2022-02-25T04:27:10.983Z"
   },
   {
    "duration": 528,
    "start_time": "2022-02-25T04:27:10.992Z"
   },
   {
    "duration": 15,
    "start_time": "2022-02-25T04:27:11.523Z"
   },
   {
    "duration": 348,
    "start_time": "2022-02-25T04:27:11.540Z"
   },
   {
    "duration": 410,
    "start_time": "2022-02-25T04:27:11.890Z"
   },
   {
    "duration": 2109,
    "start_time": "2022-02-25T04:27:12.302Z"
   },
   {
    "duration": 409,
    "start_time": "2022-02-25T04:27:14.414Z"
   },
   {
    "duration": 6,
    "start_time": "2022-02-25T04:27:14.826Z"
   },
   {
    "duration": 36,
    "start_time": "2022-02-25T04:27:14.835Z"
   },
   {
    "duration": 28,
    "start_time": "2022-02-25T04:27:14.874Z"
   },
   {
    "duration": 9,
    "start_time": "2022-02-25T04:27:14.905Z"
   },
   {
    "duration": 7,
    "start_time": "2022-02-25T04:27:14.917Z"
   },
   {
    "duration": 235,
    "start_time": "2022-02-25T04:27:14.926Z"
   },
   {
    "duration": 3,
    "start_time": "2022-02-25T04:27:15.164Z"
   },
   {
    "duration": 5162,
    "start_time": "2022-02-25T04:27:15.170Z"
   },
   {
    "duration": 7,
    "start_time": "2022-02-25T04:27:20.334Z"
   },
   {
    "duration": 62,
    "start_time": "2022-02-25T04:27:20.345Z"
   },
   {
    "duration": 13,
    "start_time": "2022-02-25T04:30:25.018Z"
   },
   {
    "duration": 25,
    "start_time": "2022-02-25T04:30:25.620Z"
   },
   {
    "duration": 7,
    "start_time": "2022-02-25T04:30:31.404Z"
   },
   {
    "duration": 12,
    "start_time": "2022-02-25T04:30:32.669Z"
   },
   {
    "duration": 24,
    "start_time": "2022-02-25T04:30:33.443Z"
   },
   {
    "duration": 6,
    "start_time": "2022-02-25T04:30:38.726Z"
   },
   {
    "duration": 47,
    "start_time": "2022-02-25T04:30:38.735Z"
   },
   {
    "duration": 8,
    "start_time": "2022-02-25T04:30:38.786Z"
   },
   {
    "duration": 4,
    "start_time": "2022-02-25T04:30:38.798Z"
   },
   {
    "duration": 14,
    "start_time": "2022-02-25T04:30:38.805Z"
   },
   {
    "duration": 913,
    "start_time": "2022-02-25T04:30:38.822Z"
   },
   {
    "duration": 5,
    "start_time": "2022-02-25T04:30:39.738Z"
   },
   {
    "duration": 498,
    "start_time": "2022-02-25T04:30:39.763Z"
   },
   {
    "duration": 17,
    "start_time": "2022-02-25T04:30:40.264Z"
   },
   {
    "duration": 353,
    "start_time": "2022-02-25T04:30:40.283Z"
   },
   {
    "duration": 391,
    "start_time": "2022-02-25T04:30:40.638Z"
   },
   {
    "duration": 1906,
    "start_time": "2022-02-25T04:30:41.032Z"
   },
   {
    "duration": 367,
    "start_time": "2022-02-25T04:30:42.940Z"
   },
   {
    "duration": 6,
    "start_time": "2022-02-25T04:30:43.309Z"
   },
   {
    "duration": 43,
    "start_time": "2022-02-25T04:30:43.318Z"
   },
   {
    "duration": 25,
    "start_time": "2022-02-25T04:30:43.364Z"
   },
   {
    "duration": 10,
    "start_time": "2022-02-25T04:30:43.391Z"
   },
   {
    "duration": 7,
    "start_time": "2022-02-25T04:30:43.403Z"
   },
   {
    "duration": 148,
    "start_time": "2022-02-25T04:30:43.413Z"
   },
   {
    "duration": 4,
    "start_time": "2022-02-25T04:30:43.564Z"
   },
   {
    "duration": 4397,
    "start_time": "2022-02-25T04:30:43.570Z"
   },
   {
    "duration": 6,
    "start_time": "2022-02-25T04:30:47.970Z"
   },
   {
    "duration": 53,
    "start_time": "2022-02-25T04:30:47.981Z"
   },
   {
    "duration": 15,
    "start_time": "2022-02-25T04:32:54.383Z"
   },
   {
    "duration": 29,
    "start_time": "2022-02-25T04:32:55.038Z"
   },
   {
    "duration": 11,
    "start_time": "2022-02-25T04:33:03.777Z"
   },
   {
    "duration": 8,
    "start_time": "2022-02-25T04:33:05.071Z"
   },
   {
    "duration": 15,
    "start_time": "2022-02-25T04:33:05.921Z"
   },
   {
    "duration": 3,
    "start_time": "2022-02-25T04:33:07.121Z"
   },
   {
    "duration": 5554,
    "start_time": "2022-02-25T04:33:08.381Z"
   },
   {
    "duration": 8,
    "start_time": "2022-02-25T04:33:17.657Z"
   },
   {
    "duration": 54,
    "start_time": "2022-02-25T04:33:18.782Z"
   },
   {
    "duration": 424,
    "start_time": "2022-02-25T04:34:27.369Z"
   },
   {
    "duration": 285,
    "start_time": "2022-02-25T04:34:42.917Z"
   },
   {
    "duration": 35065,
    "start_time": "2022-02-25T04:35:08.726Z"
   },
   {
    "duration": 311,
    "start_time": "2022-02-25T04:36:19.825Z"
   },
   {
    "duration": 125,
    "start_time": "2022-02-25T04:39:55.772Z"
   },
   {
    "duration": 96,
    "start_time": "2022-02-25T04:40:15.269Z"
   },
   {
    "duration": 95,
    "start_time": "2022-02-25T04:40:22.217Z"
   },
   {
    "duration": 1112,
    "start_time": "2022-02-25T04:40:29.172Z"
   },
   {
    "duration": 294,
    "start_time": "2022-02-25T04:42:46.700Z"
   },
   {
    "duration": 6935,
    "start_time": "2022-02-25T04:42:54.960Z"
   },
   {
    "duration": 291,
    "start_time": "2022-02-25T04:43:23.174Z"
   },
   {
    "duration": 300,
    "start_time": "2022-02-25T04:43:27.686Z"
   },
   {
    "duration": 280,
    "start_time": "2022-02-25T04:43:45.970Z"
   },
   {
    "duration": 276,
    "start_time": "2022-02-25T04:44:05.671Z"
   },
   {
    "duration": 8,
    "start_time": "2022-02-25T04:44:12.191Z"
   },
   {
    "duration": 295,
    "start_time": "2022-02-25T04:44:15.920Z"
   },
   {
    "duration": 8,
    "start_time": "2022-02-25T04:44:33.466Z"
   },
   {
    "duration": 281,
    "start_time": "2022-02-25T04:44:34.118Z"
   },
   {
    "duration": 298,
    "start_time": "2022-02-25T04:45:00.996Z"
   },
   {
    "duration": 287,
    "start_time": "2022-02-25T04:45:08.888Z"
   },
   {
    "duration": 364,
    "start_time": "2022-02-25T04:45:30.336Z"
   },
   {
    "duration": 8,
    "start_time": "2022-02-25T04:45:38.952Z"
   },
   {
    "duration": 266,
    "start_time": "2022-02-25T04:45:43.061Z"
   },
   {
    "duration": 54,
    "start_time": "2022-02-25T04:45:49.312Z"
   },
   {
    "duration": 5,
    "start_time": "2022-02-25T04:45:50.502Z"
   },
   {
    "duration": 5297,
    "start_time": "2022-02-25T04:45:51.350Z"
   },
   {
    "duration": 8,
    "start_time": "2022-02-25T04:46:03.151Z"
   },
   {
    "duration": 50,
    "start_time": "2022-02-25T04:46:04.521Z"
   },
   {
    "duration": 8,
    "start_time": "2022-02-25T04:46:46.450Z"
   },
   {
    "duration": 52,
    "start_time": "2022-02-25T04:46:48.340Z"
   },
   {
    "duration": 8924,
    "start_time": "2022-02-25T04:47:15.727Z"
   },
   {
    "duration": 1560,
    "start_time": "2022-02-26T17:38:47.681Z"
   },
   {
    "duration": 7,
    "start_time": "2022-02-26T17:38:52.704Z"
   },
   {
    "duration": 96,
    "start_time": "2022-02-26T17:38:52.714Z"
   },
   {
    "duration": 8,
    "start_time": "2022-02-26T17:38:52.814Z"
   },
   {
    "duration": 5,
    "start_time": "2022-02-26T17:38:52.826Z"
   },
   {
    "duration": 11,
    "start_time": "2022-02-26T17:38:52.834Z"
   },
   {
    "duration": 1500,
    "start_time": "2022-02-26T17:38:52.848Z"
   },
   {
    "duration": 7,
    "start_time": "2022-02-26T17:38:54.351Z"
   },
   {
    "duration": 752,
    "start_time": "2022-02-26T17:38:54.361Z"
   },
   {
    "duration": 21,
    "start_time": "2022-02-26T17:38:55.119Z"
   },
   {
    "duration": 403,
    "start_time": "2022-02-26T17:38:55.144Z"
   },
   {
    "duration": 407,
    "start_time": "2022-02-26T17:38:55.550Z"
   },
   {
    "duration": 2008,
    "start_time": "2022-02-26T17:38:55.959Z"
   },
   {
    "duration": 556,
    "start_time": "2022-02-26T17:38:57.974Z"
   },
   {
    "duration": 8,
    "start_time": "2022-02-26T17:38:58.533Z"
   },
   {
    "duration": 40,
    "start_time": "2022-02-26T17:38:58.544Z"
   },
   {
    "duration": 30,
    "start_time": "2022-02-26T17:38:58.586Z"
   },
   {
    "duration": 10,
    "start_time": "2022-02-26T17:38:58.619Z"
   },
   {
    "duration": 7,
    "start_time": "2022-02-26T17:38:58.632Z"
   },
   {
    "duration": 100,
    "start_time": "2022-02-26T17:38:58.673Z"
   },
   {
    "duration": 126,
    "start_time": "2022-02-26T17:38:58.778Z"
   },
   {
    "duration": 9016,
    "start_time": "2022-02-26T17:38:58.906Z"
   },
   {
    "duration": 7,
    "start_time": "2022-02-26T17:39:07.924Z"
   },
   {
    "duration": 94,
    "start_time": "2022-02-26T17:39:07.934Z"
   },
   {
    "duration": 8985,
    "start_time": "2022-02-26T17:39:50.144Z"
   },
   {
    "duration": 128,
    "start_time": "2022-02-26T17:40:14.197Z"
   },
   {
    "duration": 9,
    "start_time": "2022-02-26T17:40:17.692Z"
   },
   {
    "duration": 14,
    "start_time": "2022-02-26T17:40:44.452Z"
   },
   {
    "duration": 28,
    "start_time": "2022-02-26T17:40:45.589Z"
   },
   {
    "duration": 11,
    "start_time": "2022-02-26T17:40:47.858Z"
   },
   {
    "duration": 8,
    "start_time": "2022-02-26T17:40:49.775Z"
   },
   {
    "duration": 157,
    "start_time": "2022-02-26T17:40:50.315Z"
   },
   {
    "duration": 4,
    "start_time": "2022-02-26T17:40:54.298Z"
   },
   {
    "duration": 9949,
    "start_time": "2022-02-26T17:40:55.194Z"
   },
   {
    "duration": 7,
    "start_time": "2022-02-26T17:41:08.439Z"
   },
   {
    "duration": 13,
    "start_time": "2022-02-26T17:49:03.986Z"
   },
   {
    "duration": 28,
    "start_time": "2022-02-26T17:49:05.189Z"
   },
   {
    "duration": 10,
    "start_time": "2022-02-26T17:49:07.627Z"
   },
   {
    "duration": 9,
    "start_time": "2022-02-26T17:49:08.924Z"
   },
   {
    "duration": 17,
    "start_time": "2022-02-26T17:49:09.475Z"
   },
   {
    "duration": 5,
    "start_time": "2022-02-26T17:49:10.576Z"
   },
   {
    "duration": 11692,
    "start_time": "2022-02-26T17:49:11.381Z"
   },
   {
    "duration": 8,
    "start_time": "2022-02-26T17:49:27.663Z"
   },
   {
    "duration": 155,
    "start_time": "2022-02-26T17:49:29.005Z"
   },
   {
    "duration": 1441,
    "start_time": "2022-03-02T02:00:50.772Z"
   },
   {
    "duration": 56,
    "start_time": "2022-03-02T02:00:52.215Z"
   },
   {
    "duration": 12,
    "start_time": "2022-03-02T02:00:52.274Z"
   },
   {
    "duration": 8,
    "start_time": "2022-03-02T02:00:52.288Z"
   },
   {
    "duration": 9,
    "start_time": "2022-03-02T02:00:52.298Z"
   },
   {
    "duration": 894,
    "start_time": "2022-03-02T02:00:52.310Z"
   },
   {
    "duration": 5,
    "start_time": "2022-03-02T02:00:53.207Z"
   },
   {
    "duration": 500,
    "start_time": "2022-03-02T02:00:53.216Z"
   },
   {
    "duration": 17,
    "start_time": "2022-03-02T02:00:53.721Z"
   },
   {
    "duration": 400,
    "start_time": "2022-03-02T02:00:53.741Z"
   },
   {
    "duration": 380,
    "start_time": "2022-03-02T02:00:54.144Z"
   },
   {
    "duration": 1802,
    "start_time": "2022-03-02T02:00:54.527Z"
   },
   {
    "duration": 370,
    "start_time": "2022-03-02T02:00:56.332Z"
   },
   {
    "duration": 6,
    "start_time": "2022-03-02T02:00:56.704Z"
   },
   {
    "duration": 25,
    "start_time": "2022-03-02T02:00:56.712Z"
   },
   {
    "duration": 47,
    "start_time": "2022-03-02T02:00:56.739Z"
   },
   {
    "duration": 10,
    "start_time": "2022-03-02T02:00:56.789Z"
   },
   {
    "duration": 10,
    "start_time": "2022-03-02T02:00:56.802Z"
   },
   {
    "duration": 169,
    "start_time": "2022-03-02T02:00:56.814Z"
   },
   {
    "duration": 30,
    "start_time": "2022-03-02T02:00:56.985Z"
   },
   {
    "duration": 7603,
    "start_time": "2022-03-02T02:00:57.018Z"
   },
   {
    "duration": 7,
    "start_time": "2022-03-02T02:01:04.624Z"
   },
   {
    "duration": 95,
    "start_time": "2022-03-02T02:01:04.635Z"
   },
   {
    "duration": 394,
    "start_time": "2022-03-02T02:52:38.635Z"
   },
   {
    "duration": 223,
    "start_time": "2022-03-02T02:52:51.551Z"
   },
   {
    "duration": 43,
    "start_time": "2022-03-02T02:54:11.746Z"
   },
   {
    "duration": 219,
    "start_time": "2022-03-02T02:54:56.248Z"
   },
   {
    "duration": 216,
    "start_time": "2022-03-02T02:55:08.712Z"
   },
   {
    "duration": 242,
    "start_time": "2022-03-02T02:56:30.416Z"
   },
   {
    "duration": 223,
    "start_time": "2022-03-02T02:57:07.454Z"
   },
   {
    "duration": 108,
    "start_time": "2022-03-02T02:57:22.180Z"
   },
   {
    "duration": 12,
    "start_time": "2022-03-02T02:57:32.450Z"
   },
   {
    "duration": 25,
    "start_time": "2022-03-02T02:57:33.512Z"
   },
   {
    "duration": 11,
    "start_time": "2022-03-02T02:57:38.113Z"
   },
   {
    "duration": 9,
    "start_time": "2022-03-02T02:57:39.530Z"
   },
   {
    "duration": 18,
    "start_time": "2022-03-02T02:57:39.966Z"
   },
   {
    "duration": 3,
    "start_time": "2022-03-02T02:57:41.876Z"
   },
   {
    "duration": 7716,
    "start_time": "2022-03-02T02:57:42.570Z"
   },
   {
    "duration": 7,
    "start_time": "2022-03-02T02:57:54.133Z"
   },
   {
    "duration": 75,
    "start_time": "2022-03-02T02:57:55.598Z"
   },
   {
    "duration": 10,
    "start_time": "2022-03-02T02:59:00.204Z"
   },
   {
    "duration": 10,
    "start_time": "2022-03-02T02:59:02.120Z"
   },
   {
    "duration": 17,
    "start_time": "2022-03-02T02:59:03.302Z"
   },
   {
    "duration": 251,
    "start_time": "2022-03-02T02:59:13.823Z"
   },
   {
    "duration": 13,
    "start_time": "2022-03-02T02:59:27.396Z"
   },
   {
    "duration": 4,
    "start_time": "2022-03-02T02:59:41.072Z"
   },
   {
    "duration": 7440,
    "start_time": "2022-03-02T02:59:41.806Z"
   },
   {
    "duration": 11,
    "start_time": "2022-03-02T03:00:40.202Z"
   },
   {
    "duration": 7,
    "start_time": "2022-03-02T03:00:41.834Z"
   },
   {
    "duration": 57,
    "start_time": "2022-03-02T03:00:42.727Z"
   },
   {
    "duration": 4,
    "start_time": "2022-03-02T03:00:44.962Z"
   },
   {
    "duration": 7610,
    "start_time": "2022-03-02T03:00:45.523Z"
   },
   {
    "duration": 7,
    "start_time": "2022-03-02T03:00:55.874Z"
   },
   {
    "duration": 166,
    "start_time": "2022-03-02T03:00:57.193Z"
   },
   {
    "duration": 5,
    "start_time": "2022-03-02T03:01:09.904Z"
   },
   {
    "duration": 51,
    "start_time": "2022-03-02T03:01:09.912Z"
   },
   {
    "duration": 7,
    "start_time": "2022-03-02T03:01:09.965Z"
   },
   {
    "duration": 8,
    "start_time": "2022-03-02T03:01:09.974Z"
   },
   {
    "duration": 7,
    "start_time": "2022-03-02T03:01:09.985Z"
   },
   {
    "duration": 894,
    "start_time": "2022-03-02T03:01:09.994Z"
   },
   {
    "duration": 6,
    "start_time": "2022-03-02T03:01:10.891Z"
   },
   {
    "duration": 495,
    "start_time": "2022-03-02T03:01:10.901Z"
   },
   {
    "duration": 16,
    "start_time": "2022-03-02T03:01:11.399Z"
   },
   {
    "duration": 337,
    "start_time": "2022-03-02T03:01:11.417Z"
   },
   {
    "duration": 372,
    "start_time": "2022-03-02T03:01:11.757Z"
   },
   {
    "duration": 1907,
    "start_time": "2022-03-02T03:01:12.132Z"
   },
   {
    "duration": 367,
    "start_time": "2022-03-02T03:01:14.041Z"
   },
   {
    "duration": 6,
    "start_time": "2022-03-02T03:01:14.411Z"
   },
   {
    "duration": 21,
    "start_time": "2022-03-02T03:01:14.419Z"
   },
   {
    "duration": 49,
    "start_time": "2022-03-02T03:01:14.443Z"
   },
   {
    "duration": 10,
    "start_time": "2022-03-02T03:01:14.495Z"
   },
   {
    "duration": 7,
    "start_time": "2022-03-02T03:01:14.508Z"
   },
   {
    "duration": 70,
    "start_time": "2022-03-02T03:01:14.518Z"
   },
   {
    "duration": 97,
    "start_time": "2022-03-02T03:01:14.591Z"
   },
   {
    "duration": 7592,
    "start_time": "2022-03-02T03:01:14.690Z"
   },
   {
    "duration": 7,
    "start_time": "2022-03-02T03:01:22.285Z"
   },
   {
    "duration": 105,
    "start_time": "2022-03-02T03:01:22.296Z"
   },
   {
    "duration": 5,
    "start_time": "2022-03-02T03:01:31.196Z"
   },
   {
    "duration": 61,
    "start_time": "2022-03-02T03:01:31.204Z"
   },
   {
    "duration": 7,
    "start_time": "2022-03-02T03:01:31.268Z"
   },
   {
    "duration": 11,
    "start_time": "2022-03-02T03:01:31.283Z"
   },
   {
    "duration": 29,
    "start_time": "2022-03-02T03:01:31.296Z"
   },
   {
    "duration": 834,
    "start_time": "2022-03-02T03:01:31.327Z"
   },
   {
    "duration": 6,
    "start_time": "2022-03-02T03:01:32.163Z"
   },
   {
    "duration": 481,
    "start_time": "2022-03-02T03:01:32.184Z"
   },
   {
    "duration": 24,
    "start_time": "2022-03-02T03:01:32.668Z"
   },
   {
    "duration": 317,
    "start_time": "2022-03-02T03:01:32.695Z"
   },
   {
    "duration": 380,
    "start_time": "2022-03-02T03:01:33.015Z"
   },
   {
    "duration": 1917,
    "start_time": "2022-03-02T03:01:33.398Z"
   },
   {
    "duration": 371,
    "start_time": "2022-03-02T03:01:35.318Z"
   },
   {
    "duration": 6,
    "start_time": "2022-03-02T03:01:35.691Z"
   },
   {
    "duration": 24,
    "start_time": "2022-03-02T03:01:35.699Z"
   },
   {
    "duration": 27,
    "start_time": "2022-03-02T03:01:35.726Z"
   },
   {
    "duration": 36,
    "start_time": "2022-03-02T03:01:35.755Z"
   },
   {
    "duration": 8,
    "start_time": "2022-03-02T03:01:35.793Z"
   },
   {
    "duration": 85,
    "start_time": "2022-03-02T03:01:35.803Z"
   },
   {
    "duration": 101,
    "start_time": "2022-03-02T03:01:35.891Z"
   },
   {
    "duration": 7792,
    "start_time": "2022-03-02T03:01:35.995Z"
   },
   {
    "duration": 8,
    "start_time": "2022-03-02T03:01:43.790Z"
   },
   {
    "duration": 113,
    "start_time": "2022-03-02T03:01:43.804Z"
   },
   {
    "duration": 3,
    "start_time": "2022-03-02T03:03:29.214Z"
   },
   {
    "duration": 3,
    "start_time": "2022-03-02T03:04:42.662Z"
   },
   {
    "duration": 259,
    "start_time": "2022-03-02T03:05:06.494Z"
   },
   {
    "duration": 239,
    "start_time": "2022-03-02T03:07:27.752Z"
   },
   {
    "duration": 215,
    "start_time": "2022-03-02T03:07:59.402Z"
   },
   {
    "duration": 44,
    "start_time": "2022-03-02T03:08:25.188Z"
   },
   {
    "duration": 7,
    "start_time": "2022-03-02T03:08:35.756Z"
   },
   {
    "duration": 84,
    "start_time": "2022-03-02T03:08:36.936Z"
   },
   {
    "duration": 241,
    "start_time": "2022-03-02T03:08:39.960Z"
   },
   {
    "duration": 7,
    "start_time": "2022-03-02T03:09:01.545Z"
   },
   {
    "duration": 1089,
    "start_time": "2022-03-07T02:11:20.390Z"
   },
   {
    "duration": 53,
    "start_time": "2022-03-07T02:11:21.481Z"
   },
   {
    "duration": 4,
    "start_time": "2022-03-07T02:11:21.536Z"
   },
   {
    "duration": 4,
    "start_time": "2022-03-07T02:11:21.541Z"
   },
   {
    "duration": 5,
    "start_time": "2022-03-07T02:11:21.547Z"
   },
   {
    "duration": 567,
    "start_time": "2022-03-07T02:11:21.553Z"
   },
   {
    "duration": 4,
    "start_time": "2022-03-07T02:11:22.121Z"
   },
   {
    "duration": 300,
    "start_time": "2022-03-07T02:11:22.127Z"
   },
   {
    "duration": 12,
    "start_time": "2022-03-07T02:11:22.429Z"
   },
   {
    "duration": 254,
    "start_time": "2022-03-07T02:11:22.442Z"
   },
   {
    "duration": 228,
    "start_time": "2022-03-07T02:11:22.697Z"
   },
   {
    "duration": 1027,
    "start_time": "2022-03-07T02:11:22.926Z"
   },
   {
    "duration": 216,
    "start_time": "2022-03-07T02:11:23.955Z"
   },
   {
    "duration": 4,
    "start_time": "2022-03-07T02:11:24.173Z"
   },
   {
    "duration": 23,
    "start_time": "2022-03-07T02:11:24.178Z"
   },
   {
    "duration": 16,
    "start_time": "2022-03-07T02:11:24.203Z"
   },
   {
    "duration": 6,
    "start_time": "2022-03-07T02:11:24.220Z"
   },
   {
    "duration": 5,
    "start_time": "2022-03-07T02:11:24.227Z"
   },
   {
    "duration": 73,
    "start_time": "2022-03-07T02:11:24.233Z"
   },
   {
    "duration": 111,
    "start_time": "2022-03-07T02:11:24.308Z"
   },
   {
    "duration": 6010,
    "start_time": "2022-03-07T02:11:24.421Z"
   },
   {
    "duration": 3,
    "start_time": "2022-03-07T02:11:30.432Z"
   },
   {
    "duration": 38,
    "start_time": "2022-03-07T02:11:30.438Z"
   },
   {
    "duration": 6,
    "start_time": "2022-03-07T02:11:30.478Z"
   },
   {
    "duration": 55,
    "start_time": "2022-03-07T02:11:30.501Z"
   },
   {
    "duration": 5,
    "start_time": "2022-03-07T02:11:30.558Z"
   },
   {
    "duration": 9,
    "start_time": "2022-03-07T02:12:50.528Z"
   },
   {
    "duration": 6,
    "start_time": "2022-03-07T02:13:22.380Z"
   },
   {
    "duration": 440,
    "start_time": "2022-03-07T02:13:38.111Z"
   },
   {
    "duration": 328,
    "start_time": "2022-03-07T02:14:14.034Z"
   },
   {
    "duration": 306,
    "start_time": "2022-03-07T02:14:24.660Z"
   },
   {
    "duration": 5242,
    "start_time": "2022-03-07T02:15:41.680Z"
   },
   {
    "duration": 7,
    "start_time": "2022-03-07T02:17:40.306Z"
   },
   {
    "duration": 2,
    "start_time": "2022-03-07T02:17:50.920Z"
   },
   {
    "duration": 4971,
    "start_time": "2022-03-07T02:18:00.635Z"
   },
   {
    "duration": 95,
    "start_time": "2022-03-07T02:18:51.392Z"
   },
   {
    "duration": 307,
    "start_time": "2022-03-07T02:18:55.532Z"
   },
   {
    "duration": 7,
    "start_time": "2022-03-07T02:19:20.570Z"
   },
   {
    "duration": 3,
    "start_time": "2022-03-07T02:19:24.664Z"
   },
   {
    "duration": 5025,
    "start_time": "2022-03-07T02:19:25.496Z"
   },
   {
    "duration": 297,
    "start_time": "2022-03-07T02:22:19.583Z"
   },
   {
    "duration": 293,
    "start_time": "2022-03-07T02:22:31.900Z"
   },
   {
    "duration": 290,
    "start_time": "2022-03-07T02:22:36.876Z"
   },
   {
    "duration": 26275,
    "start_time": "2022-03-07T02:25:47.911Z"
   },
   {
    "duration": 3,
    "start_time": "2022-03-07T02:26:33.475Z"
   },
   {
    "duration": 50,
    "start_time": "2022-03-07T02:26:33.480Z"
   },
   {
    "duration": 5,
    "start_time": "2022-03-07T02:26:33.533Z"
   },
   {
    "duration": 3,
    "start_time": "2022-03-07T02:26:33.540Z"
   },
   {
    "duration": 6,
    "start_time": "2022-03-07T02:26:33.545Z"
   },
   {
    "duration": 567,
    "start_time": "2022-03-07T02:26:33.553Z"
   },
   {
    "duration": 4,
    "start_time": "2022-03-07T02:26:34.122Z"
   },
   {
    "duration": 294,
    "start_time": "2022-03-07T02:26:34.127Z"
   },
   {
    "duration": 10,
    "start_time": "2022-03-07T02:26:34.423Z"
   },
   {
    "duration": 188,
    "start_time": "2022-03-07T02:26:34.436Z"
   },
   {
    "duration": 232,
    "start_time": "2022-03-07T02:26:34.626Z"
   },
   {
    "duration": 1117,
    "start_time": "2022-03-07T02:26:34.860Z"
   },
   {
    "duration": 217,
    "start_time": "2022-03-07T02:26:35.978Z"
   },
   {
    "duration": 5,
    "start_time": "2022-03-07T02:26:36.196Z"
   },
   {
    "duration": 11,
    "start_time": "2022-03-07T02:26:36.203Z"
   },
   {
    "duration": 16,
    "start_time": "2022-03-07T02:26:36.216Z"
   },
   {
    "duration": 112,
    "start_time": "2022-03-07T02:26:36.233Z"
   },
   {
    "duration": 24476,
    "start_time": "2022-03-07T02:26:11.871Z"
   },
   {
    "duration": 24475,
    "start_time": "2022-03-07T02:26:11.873Z"
   },
   {
    "duration": 24474,
    "start_time": "2022-03-07T02:26:11.875Z"
   },
   {
    "duration": 24418,
    "start_time": "2022-03-07T02:26:11.932Z"
   },
   {
    "duration": 24413,
    "start_time": "2022-03-07T02:26:11.938Z"
   },
   {
    "duration": 24403,
    "start_time": "2022-03-07T02:26:11.949Z"
   },
   {
    "duration": 24399,
    "start_time": "2022-03-07T02:26:11.954Z"
   },
   {
    "duration": 24386,
    "start_time": "2022-03-07T02:26:11.968Z"
   },
   {
    "duration": 24378,
    "start_time": "2022-03-07T02:26:11.977Z"
   },
   {
    "duration": 8,
    "start_time": "2022-03-07T02:26:46.856Z"
   },
   {
    "duration": 6,
    "start_time": "2022-03-07T02:26:48.361Z"
   },
   {
    "duration": 8,
    "start_time": "2022-03-07T02:26:49.487Z"
   },
   {
    "duration": 3,
    "start_time": "2022-03-07T02:26:51.056Z"
   },
   {
    "duration": 137673,
    "start_time": "2022-03-07T02:26:51.798Z"
   },
   {
    "duration": 2,
    "start_time": "2022-03-07T02:29:31.368Z"
   },
   {
    "duration": 330,
    "start_time": "2022-03-07T02:29:32.022Z"
   },
   {
    "duration": 519,
    "start_time": "2022-03-07T02:29:56.282Z"
   },
   {
    "duration": 302,
    "start_time": "2022-03-07T02:30:07.929Z"
   },
   {
    "duration": 2497,
    "start_time": "2022-03-07T02:33:01.280Z"
   },
   {
    "duration": 25,
    "start_time": "2022-03-07T02:33:25.366Z"
   },
   {
    "duration": 4769,
    "start_time": "2022-03-07T02:33:38.234Z"
   },
   {
    "duration": 7694,
    "start_time": "2022-03-07T02:33:51.570Z"
   },
   {
    "duration": 9,
    "start_time": "2022-03-07T02:34:16.132Z"
   },
   {
    "duration": 6,
    "start_time": "2022-03-07T02:34:17.342Z"
   },
   {
    "duration": 328,
    "start_time": "2022-03-07T02:34:18.238Z"
   },
   {
    "duration": 2,
    "start_time": "2022-03-07T02:34:26.862Z"
   },
   {
    "duration": 2648,
    "start_time": "2022-03-07T02:34:27.606Z"
   },
   {
    "duration": 7,
    "start_time": "2022-03-07T02:35:02.451Z"
   },
   {
    "duration": 6,
    "start_time": "2022-03-07T02:35:03.654Z"
   },
   {
    "duration": 8,
    "start_time": "2022-03-07T02:35:04.919Z"
   },
   {
    "duration": 3,
    "start_time": "2022-03-07T02:35:06.550Z"
   },
   {
    "duration": 135916,
    "start_time": "2022-03-07T02:35:07.310Z"
   },
   {
    "duration": 3,
    "start_time": "2022-03-07T02:39:52.334Z"
   },
   {
    "duration": 525,
    "start_time": "2022-03-07T02:39:53.270Z"
   },
   {
    "duration": 8140,
    "start_time": "2022-03-07T02:39:59.742Z"
   },
   {
    "duration": 3361,
    "start_time": "2022-03-07T02:40:38.202Z"
   },
   {
    "duration": 3149,
    "start_time": "2022-03-07T02:41:18.487Z"
   },
   {
    "duration": 3282,
    "start_time": "2022-03-07T02:41:36.682Z"
   },
   {
    "duration": 322,
    "start_time": "2022-03-07T02:42:36.200Z"
   },
   {
    "duration": 734,
    "start_time": "2022-03-07T02:45:07.809Z"
   },
   {
    "duration": 3,
    "start_time": "2022-03-07T02:46:07.330Z"
   },
   {
    "duration": 308,
    "start_time": "2022-03-07T02:46:25.065Z"
   },
   {
    "duration": 45893,
    "start_time": "2022-03-07T02:46:34.727Z"
   },
   {
    "duration": 70,
    "start_time": "2022-03-07T02:48:22.742Z"
   },
   {
    "duration": 58,
    "start_time": "2022-03-07T02:50:13.353Z"
   },
   {
    "duration": 9,
    "start_time": "2022-03-07T02:51:47.945Z"
   },
   {
    "duration": 293,
    "start_time": "2022-03-07T02:52:30.741Z"
   },
   {
    "duration": 10,
    "start_time": "2022-03-07T02:54:43.854Z"
   },
   {
    "duration": 6,
    "start_time": "2022-03-07T02:54:45.165Z"
   },
   {
    "duration": 7,
    "start_time": "2022-03-07T02:54:46.584Z"
   },
   {
    "duration": 2,
    "start_time": "2022-03-07T02:54:49.189Z"
   },
   {
    "duration": 136365,
    "start_time": "2022-03-07T02:54:49.957Z"
   },
   {
    "duration": 3,
    "start_time": "2022-03-07T02:57:06.323Z"
   },
   {
    "duration": 549,
    "start_time": "2022-03-07T02:57:06.327Z"
   },
   {
    "duration": 3,
    "start_time": "2022-03-07T02:57:06.878Z"
   },
   {
    "duration": 40384,
    "start_time": "2022-03-07T02:57:10.336Z"
   },
   {
    "duration": 46,
    "start_time": "2022-03-07T02:58:19.273Z"
   },
   {
    "duration": 100,
    "start_time": "2022-03-07T02:58:39.525Z"
   },
   {
    "duration": 9,
    "start_time": "2022-03-07T02:58:43.636Z"
   },
   {
    "duration": 5,
    "start_time": "2022-03-07T02:58:45.205Z"
   },
   {
    "duration": 89,
    "start_time": "2022-03-07T02:59:44.925Z"
   },
   {
    "duration": 362,
    "start_time": "2022-03-07T03:00:46.376Z"
   },
   {
    "duration": 678,
    "start_time": "2022-03-07T03:02:18.452Z"
   },
   {
    "duration": 364,
    "start_time": "2022-03-07T03:02:24.209Z"
   },
   {
    "duration": 10,
    "start_time": "2022-03-07T03:03:50.608Z"
   }
  ],
  "kernelspec": {
   "display_name": "Python 3 (ipykernel)",
   "language": "python",
   "name": "python3"
  },
  "language_info": {
   "codemirror_mode": {
    "name": "ipython",
    "version": 3
   },
   "file_extension": ".py",
   "mimetype": "text/x-python",
   "name": "python",
   "nbconvert_exporter": "python",
   "pygments_lexer": "ipython3",
   "version": "3.9.7"
  },
  "toc": {
   "base_numbering": 1,
   "nav_menu": {},
   "number_sections": true,
   "sideBar": true,
   "skip_h1_title": true,
   "title_cell": "Table of Contents",
   "title_sidebar": "Contents",
   "toc_cell": false,
   "toc_position": {},
   "toc_section_display": true,
   "toc_window_display": false
  }
 },
 "nbformat": 4,
 "nbformat_minor": 2
}
