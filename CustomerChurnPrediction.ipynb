{
 "cells": [
  {
   "cell_type": "markdown",
   "metadata": {},
   "source": [
    "# Background and Objectives"
   ]
  },
  {
   "cell_type": "markdown",
   "metadata": {},
   "source": [
    "## Background\n",
    "The telecom operator Interconnect would like to be able to forecast their churn of clients. If it's discovered that a user is planning to leave, they will be offered promotional codes and special plan options. Interconnect's marketing team has collected some of their clientele's personal data, including information about their plans and contracts.\n",
    "\n",
    "\n",
    "### Interconnect's services\n",
    "\n",
    "Interconnect mainly provides two types of services:\n",
    "\n",
    "1. Landline communication. The telephone can be connected to several lines simultaneously.\n",
    "2. Internet. The network can be set up via a telephone line (DSL, *digital subscriber line*) or through a fiber optic cable.\n",
    "\n",
    "Some other services the company provides include:\n",
    "\n",
    "- Internet security: antivirus software (*DeviceProtection*) and a malicious website blocker (*OnlineSecurity*)\n",
    "- A dedicated technical support line (*TechSupport*)\n",
    "- Cloud file storage and data backup (*OnlineBackup*)\n",
    "- TV streaming (*StreamingTV*) and a movie directory (*StreamingMovies*)\n",
    "\n",
    "The clients can choose either a monthly payment or sign a 1- or 2-year contract. They can use various payment methods and receive an electronic invoice after a transaction.\n",
    "\n",
    "## Objectives\n",
    "\n",
    "The task starts with the data exploration where I have compared the monthly payment distribution (MonthlyCharges) of all active clients with the clients who have left and numerically documenting the statistical summary of these groups and visualizing the data distribution.\n",
    "\n",
    "I have segmented the data of Telephone Users and the Internet users and compared and contrasted their behavior.\n",
    "Then, I have trained the data of the client for predicting the customer churn and tested the data in the best performing model.\n",
    "\n",
    "\n",
    "### Data Description\n",
    "\n",
    "The data consists of files obtained from different sources:\n",
    "\n",
    "- `contract.csv` — contract information\n",
    "- `personal.csv` — the client's personal data\n",
    "- `internet.csv` — information about Internet services\n",
    "- `phone.csv` — information about telephone services\n",
    "\n",
    "In each file, the column `customerID` contains a unique code assigned to each client.\n",
    "\n",
    "The contract information is valid as of February 1, 2020.\n"
   ]
  },
  {
   "cell_type": "code",
   "execution_count": 15,
   "metadata": {},
   "outputs": [],
   "source": [
    "import pandas as pd\n",
    "import numpy as np\n",
    "import random\n",
    "%matplotlib inline\n",
    "import seaborn as sns\n",
    "import matplotlib.pyplot as plt\n",
    "from sklearn.metrics import f1_score\n",
    "from sklearn.tree import DecisionTreeClassifier\n",
    "from sklearn.ensemble import RandomForestClassifier\n",
    "from sklearn.ensemble import RandomForestRegressor\n",
    "from sklearn.linear_model import LogisticRegression\n",
    "from sklearn.metrics import accuracy_score \n",
    "from sklearn.model_selection import train_test_split\n",
    "from sklearn.dummy import DummyClassifier\n",
    "from sklearn.metrics import roc_auc_score\n",
    "from sklearn.utils import shuffle"
   ]
  },
  {
   "cell_type": "code",
   "execution_count": 47,
   "metadata": {},
   "outputs": [],
   "source": [
    "contract = pd.read_csv(\"/Users/rsavy/Downloads/final_provider/contract.csv\")\n",
    "personal = pd.read_csv(\"/Users/rsavy/Downloads/final_provider/personal.csv\")\n",
    "internet = pd.read_csv(\"/Users/rsavy/Downloads/final_provider/internet.csv\")\n",
    "phone = pd.read_csv(\"/Users/rsavy/Downloads/final_provider/phone.csv\")"
   ]
  },
  {
   "cell_type": "markdown",
   "metadata": {},
   "source": [
    "## Explore Dataset"
   ]
  },
  {
   "cell_type": "markdown",
   "metadata": {},
   "source": [
    "### Explore all data files and look for duplicates"
   ]
  },
  {
   "cell_type": "code",
   "execution_count": 48,
   "metadata": {},
   "outputs": [
    {
     "data": {
      "text/html": [
       "<div>\n",
       "<style scoped>\n",
       "    .dataframe tbody tr th:only-of-type {\n",
       "        vertical-align: middle;\n",
       "    }\n",
       "\n",
       "    .dataframe tbody tr th {\n",
       "        vertical-align: top;\n",
       "    }\n",
       "\n",
       "    .dataframe thead th {\n",
       "        text-align: right;\n",
       "    }\n",
       "</style>\n",
       "<table border=\"1\" class=\"dataframe\">\n",
       "  <thead>\n",
       "    <tr style=\"text-align: right;\">\n",
       "      <th></th>\n",
       "      <th>customerID</th>\n",
       "      <th>BeginDate</th>\n",
       "      <th>EndDate</th>\n",
       "      <th>Type</th>\n",
       "      <th>PaperlessBilling</th>\n",
       "      <th>PaymentMethod</th>\n",
       "      <th>MonthlyCharges</th>\n",
       "      <th>TotalCharges</th>\n",
       "    </tr>\n",
       "  </thead>\n",
       "  <tbody>\n",
       "    <tr>\n",
       "      <th>0</th>\n",
       "      <td>7590-VHVEG</td>\n",
       "      <td>2020-01-01</td>\n",
       "      <td>No</td>\n",
       "      <td>Month-to-month</td>\n",
       "      <td>Yes</td>\n",
       "      <td>Electronic check</td>\n",
       "      <td>29.85</td>\n",
       "      <td>29.85</td>\n",
       "    </tr>\n",
       "    <tr>\n",
       "      <th>1</th>\n",
       "      <td>5575-GNVDE</td>\n",
       "      <td>2017-04-01</td>\n",
       "      <td>No</td>\n",
       "      <td>One year</td>\n",
       "      <td>No</td>\n",
       "      <td>Mailed check</td>\n",
       "      <td>56.95</td>\n",
       "      <td>1889.5</td>\n",
       "    </tr>\n",
       "    <tr>\n",
       "      <th>2</th>\n",
       "      <td>3668-QPYBK</td>\n",
       "      <td>2019-10-01</td>\n",
       "      <td>2019-12-01 00:00:00</td>\n",
       "      <td>Month-to-month</td>\n",
       "      <td>Yes</td>\n",
       "      <td>Mailed check</td>\n",
       "      <td>53.85</td>\n",
       "      <td>108.15</td>\n",
       "    </tr>\n",
       "    <tr>\n",
       "      <th>3</th>\n",
       "      <td>7795-CFOCW</td>\n",
       "      <td>2016-05-01</td>\n",
       "      <td>No</td>\n",
       "      <td>One year</td>\n",
       "      <td>No</td>\n",
       "      <td>Bank transfer (automatic)</td>\n",
       "      <td>42.30</td>\n",
       "      <td>1840.75</td>\n",
       "    </tr>\n",
       "    <tr>\n",
       "      <th>4</th>\n",
       "      <td>9237-HQITU</td>\n",
       "      <td>2019-09-01</td>\n",
       "      <td>2019-11-01 00:00:00</td>\n",
       "      <td>Month-to-month</td>\n",
       "      <td>Yes</td>\n",
       "      <td>Electronic check</td>\n",
       "      <td>70.70</td>\n",
       "      <td>151.65</td>\n",
       "    </tr>\n",
       "  </tbody>\n",
       "</table>\n",
       "</div>"
      ],
      "text/plain": [
       "   customerID   BeginDate              EndDate            Type  \\\n",
       "0  7590-VHVEG  2020-01-01                   No  Month-to-month   \n",
       "1  5575-GNVDE  2017-04-01                   No        One year   \n",
       "2  3668-QPYBK  2019-10-01  2019-12-01 00:00:00  Month-to-month   \n",
       "3  7795-CFOCW  2016-05-01                   No        One year   \n",
       "4  9237-HQITU  2019-09-01  2019-11-01 00:00:00  Month-to-month   \n",
       "\n",
       "  PaperlessBilling              PaymentMethod  MonthlyCharges TotalCharges  \n",
       "0              Yes           Electronic check           29.85        29.85  \n",
       "1               No               Mailed check           56.95       1889.5  \n",
       "2              Yes               Mailed check           53.85       108.15  \n",
       "3               No  Bank transfer (automatic)           42.30      1840.75  \n",
       "4              Yes           Electronic check           70.70       151.65  "
      ]
     },
     "execution_count": 48,
     "metadata": {},
     "output_type": "execute_result"
    }
   ],
   "source": [
    "contract.head()"
   ]
  },
  {
   "cell_type": "code",
   "execution_count": 49,
   "metadata": {},
   "outputs": [
    {
     "name": "stdout",
     "output_type": "stream",
     "text": [
      "The number of duplicates in Contract dataframe is 0\n"
     ]
    }
   ],
   "source": [
    "print(\"The number of duplicates in Contract dataframe is\",contract.duplicated().sum())"
   ]
  },
  {
   "cell_type": "code",
   "execution_count": 50,
   "metadata": {},
   "outputs": [
    {
     "data": {
      "text/html": [
       "<div>\n",
       "<style scoped>\n",
       "    .dataframe tbody tr th:only-of-type {\n",
       "        vertical-align: middle;\n",
       "    }\n",
       "\n",
       "    .dataframe tbody tr th {\n",
       "        vertical-align: top;\n",
       "    }\n",
       "\n",
       "    .dataframe thead th {\n",
       "        text-align: right;\n",
       "    }\n",
       "</style>\n",
       "<table border=\"1\" class=\"dataframe\">\n",
       "  <thead>\n",
       "    <tr style=\"text-align: right;\">\n",
       "      <th></th>\n",
       "      <th>customerID</th>\n",
       "      <th>gender</th>\n",
       "      <th>SeniorCitizen</th>\n",
       "      <th>Partner</th>\n",
       "      <th>Dependents</th>\n",
       "    </tr>\n",
       "  </thead>\n",
       "  <tbody>\n",
       "    <tr>\n",
       "      <th>0</th>\n",
       "      <td>7590-VHVEG</td>\n",
       "      <td>Female</td>\n",
       "      <td>0</td>\n",
       "      <td>Yes</td>\n",
       "      <td>No</td>\n",
       "    </tr>\n",
       "    <tr>\n",
       "      <th>1</th>\n",
       "      <td>5575-GNVDE</td>\n",
       "      <td>Male</td>\n",
       "      <td>0</td>\n",
       "      <td>No</td>\n",
       "      <td>No</td>\n",
       "    </tr>\n",
       "    <tr>\n",
       "      <th>2</th>\n",
       "      <td>3668-QPYBK</td>\n",
       "      <td>Male</td>\n",
       "      <td>0</td>\n",
       "      <td>No</td>\n",
       "      <td>No</td>\n",
       "    </tr>\n",
       "    <tr>\n",
       "      <th>3</th>\n",
       "      <td>7795-CFOCW</td>\n",
       "      <td>Male</td>\n",
       "      <td>0</td>\n",
       "      <td>No</td>\n",
       "      <td>No</td>\n",
       "    </tr>\n",
       "    <tr>\n",
       "      <th>4</th>\n",
       "      <td>9237-HQITU</td>\n",
       "      <td>Female</td>\n",
       "      <td>0</td>\n",
       "      <td>No</td>\n",
       "      <td>No</td>\n",
       "    </tr>\n",
       "  </tbody>\n",
       "</table>\n",
       "</div>"
      ],
      "text/plain": [
       "   customerID  gender  SeniorCitizen Partner Dependents\n",
       "0  7590-VHVEG  Female              0     Yes         No\n",
       "1  5575-GNVDE    Male              0      No         No\n",
       "2  3668-QPYBK    Male              0      No         No\n",
       "3  7795-CFOCW    Male              0      No         No\n",
       "4  9237-HQITU  Female              0      No         No"
      ]
     },
     "execution_count": 50,
     "metadata": {},
     "output_type": "execute_result"
    }
   ],
   "source": [
    "personal.head()"
   ]
  },
  {
   "cell_type": "code",
   "execution_count": 51,
   "metadata": {},
   "outputs": [
    {
     "name": "stdout",
     "output_type": "stream",
     "text": [
      "The number of duplicates in Personal dataframe is 0\n"
     ]
    }
   ],
   "source": [
    "print(\"The number of duplicates in Personal dataframe is\",personal.duplicated().sum())"
   ]
  },
  {
   "cell_type": "code",
   "execution_count": 52,
   "metadata": {},
   "outputs": [
    {
     "data": {
      "text/html": [
       "<div>\n",
       "<style scoped>\n",
       "    .dataframe tbody tr th:only-of-type {\n",
       "        vertical-align: middle;\n",
       "    }\n",
       "\n",
       "    .dataframe tbody tr th {\n",
       "        vertical-align: top;\n",
       "    }\n",
       "\n",
       "    .dataframe thead th {\n",
       "        text-align: right;\n",
       "    }\n",
       "</style>\n",
       "<table border=\"1\" class=\"dataframe\">\n",
       "  <thead>\n",
       "    <tr style=\"text-align: right;\">\n",
       "      <th></th>\n",
       "      <th>customerID</th>\n",
       "      <th>InternetService</th>\n",
       "      <th>OnlineSecurity</th>\n",
       "      <th>OnlineBackup</th>\n",
       "      <th>DeviceProtection</th>\n",
       "      <th>TechSupport</th>\n",
       "      <th>StreamingTV</th>\n",
       "      <th>StreamingMovies</th>\n",
       "    </tr>\n",
       "  </thead>\n",
       "  <tbody>\n",
       "    <tr>\n",
       "      <th>0</th>\n",
       "      <td>7590-VHVEG</td>\n",
       "      <td>DSL</td>\n",
       "      <td>No</td>\n",
       "      <td>Yes</td>\n",
       "      <td>No</td>\n",
       "      <td>No</td>\n",
       "      <td>No</td>\n",
       "      <td>No</td>\n",
       "    </tr>\n",
       "    <tr>\n",
       "      <th>1</th>\n",
       "      <td>5575-GNVDE</td>\n",
       "      <td>DSL</td>\n",
       "      <td>Yes</td>\n",
       "      <td>No</td>\n",
       "      <td>Yes</td>\n",
       "      <td>No</td>\n",
       "      <td>No</td>\n",
       "      <td>No</td>\n",
       "    </tr>\n",
       "    <tr>\n",
       "      <th>2</th>\n",
       "      <td>3668-QPYBK</td>\n",
       "      <td>DSL</td>\n",
       "      <td>Yes</td>\n",
       "      <td>Yes</td>\n",
       "      <td>No</td>\n",
       "      <td>No</td>\n",
       "      <td>No</td>\n",
       "      <td>No</td>\n",
       "    </tr>\n",
       "    <tr>\n",
       "      <th>3</th>\n",
       "      <td>7795-CFOCW</td>\n",
       "      <td>DSL</td>\n",
       "      <td>Yes</td>\n",
       "      <td>No</td>\n",
       "      <td>Yes</td>\n",
       "      <td>Yes</td>\n",
       "      <td>No</td>\n",
       "      <td>No</td>\n",
       "    </tr>\n",
       "    <tr>\n",
       "      <th>4</th>\n",
       "      <td>9237-HQITU</td>\n",
       "      <td>Fiber optic</td>\n",
       "      <td>No</td>\n",
       "      <td>No</td>\n",
       "      <td>No</td>\n",
       "      <td>No</td>\n",
       "      <td>No</td>\n",
       "      <td>No</td>\n",
       "    </tr>\n",
       "  </tbody>\n",
       "</table>\n",
       "</div>"
      ],
      "text/plain": [
       "   customerID InternetService OnlineSecurity OnlineBackup DeviceProtection  \\\n",
       "0  7590-VHVEG             DSL             No          Yes               No   \n",
       "1  5575-GNVDE             DSL            Yes           No              Yes   \n",
       "2  3668-QPYBK             DSL            Yes          Yes               No   \n",
       "3  7795-CFOCW             DSL            Yes           No              Yes   \n",
       "4  9237-HQITU     Fiber optic             No           No               No   \n",
       "\n",
       "  TechSupport StreamingTV StreamingMovies  \n",
       "0          No          No              No  \n",
       "1          No          No              No  \n",
       "2          No          No              No  \n",
       "3         Yes          No              No  \n",
       "4          No          No              No  "
      ]
     },
     "execution_count": 52,
     "metadata": {},
     "output_type": "execute_result"
    }
   ],
   "source": [
    "internet.head()"
   ]
  },
  {
   "cell_type": "code",
   "execution_count": 53,
   "metadata": {},
   "outputs": [
    {
     "name": "stdout",
     "output_type": "stream",
     "text": [
      "The number of duplicates in Internet dataframe is 0\n"
     ]
    }
   ],
   "source": [
    "print(\"The number of duplicates in Internet dataframe is\",internet.duplicated().sum())"
   ]
  },
  {
   "cell_type": "code",
   "execution_count": 54,
   "metadata": {},
   "outputs": [
    {
     "data": {
      "text/html": [
       "<div>\n",
       "<style scoped>\n",
       "    .dataframe tbody tr th:only-of-type {\n",
       "        vertical-align: middle;\n",
       "    }\n",
       "\n",
       "    .dataframe tbody tr th {\n",
       "        vertical-align: top;\n",
       "    }\n",
       "\n",
       "    .dataframe thead th {\n",
       "        text-align: right;\n",
       "    }\n",
       "</style>\n",
       "<table border=\"1\" class=\"dataframe\">\n",
       "  <thead>\n",
       "    <tr style=\"text-align: right;\">\n",
       "      <th></th>\n",
       "      <th>customerID</th>\n",
       "      <th>MultipleLines</th>\n",
       "    </tr>\n",
       "  </thead>\n",
       "  <tbody>\n",
       "    <tr>\n",
       "      <th>0</th>\n",
       "      <td>5575-GNVDE</td>\n",
       "      <td>No</td>\n",
       "    </tr>\n",
       "    <tr>\n",
       "      <th>1</th>\n",
       "      <td>3668-QPYBK</td>\n",
       "      <td>No</td>\n",
       "    </tr>\n",
       "    <tr>\n",
       "      <th>2</th>\n",
       "      <td>9237-HQITU</td>\n",
       "      <td>No</td>\n",
       "    </tr>\n",
       "    <tr>\n",
       "      <th>3</th>\n",
       "      <td>9305-CDSKC</td>\n",
       "      <td>Yes</td>\n",
       "    </tr>\n",
       "    <tr>\n",
       "      <th>4</th>\n",
       "      <td>1452-KIOVK</td>\n",
       "      <td>Yes</td>\n",
       "    </tr>\n",
       "  </tbody>\n",
       "</table>\n",
       "</div>"
      ],
      "text/plain": [
       "   customerID MultipleLines\n",
       "0  5575-GNVDE            No\n",
       "1  3668-QPYBK            No\n",
       "2  9237-HQITU            No\n",
       "3  9305-CDSKC           Yes\n",
       "4  1452-KIOVK           Yes"
      ]
     },
     "execution_count": 54,
     "metadata": {},
     "output_type": "execute_result"
    }
   ],
   "source": [
    "phone.head()"
   ]
  },
  {
   "cell_type": "code",
   "execution_count": 55,
   "metadata": {},
   "outputs": [
    {
     "name": "stdout",
     "output_type": "stream",
     "text": [
      "The number of duplicates in Phone dataframe is 0\n"
     ]
    }
   ],
   "source": [
    "print(\"The number of duplicates in Phone dataframe is\",phone.duplicated().sum())"
   ]
  },
  {
   "cell_type": "markdown",
   "metadata": {},
   "source": [
    "#### Conclusion"
   ]
  },
  {
   "cell_type": "markdown",
   "metadata": {},
   "source": [
    "- There are no duplicated in all 4 dataframes.\n",
    "- The contract dataframe contains the client's information on the contract plan such as start date, end date, plan type, payment method, payment amount, etc.\n",
    "- The Personal dataframe contain client's demographic information.\n",
    "- The internet dataframe contains information on the internet service and other software and security services that clients are enrolled in.\n",
    "- The Phone dataframe contains information on telephone service.\n",
    "\n",
    "\n",
    "\n"
   ]
  },
  {
   "cell_type": "markdown",
   "metadata": {},
   "source": [
    "### Combine all data tables into 1 single dataframe"
   ]
  },
  {
   "cell_type": "code",
   "execution_count": 56,
   "metadata": {
    "scrolled": true
   },
   "outputs": [
    {
     "data": {
      "text/html": [
       "<div>\n",
       "<style scoped>\n",
       "    .dataframe tbody tr th:only-of-type {\n",
       "        vertical-align: middle;\n",
       "    }\n",
       "\n",
       "    .dataframe tbody tr th {\n",
       "        vertical-align: top;\n",
       "    }\n",
       "\n",
       "    .dataframe thead th {\n",
       "        text-align: right;\n",
       "    }\n",
       "</style>\n",
       "<table border=\"1\" class=\"dataframe\">\n",
       "  <thead>\n",
       "    <tr style=\"text-align: right;\">\n",
       "      <th></th>\n",
       "      <th>customerID</th>\n",
       "      <th>BeginDate</th>\n",
       "      <th>EndDate</th>\n",
       "      <th>Type</th>\n",
       "      <th>PaperlessBilling</th>\n",
       "      <th>PaymentMethod</th>\n",
       "      <th>MonthlyCharges</th>\n",
       "      <th>TotalCharges</th>\n",
       "      <th>gender</th>\n",
       "      <th>SeniorCitizen</th>\n",
       "      <th>Partner</th>\n",
       "      <th>Dependents</th>\n",
       "      <th>InternetService</th>\n",
       "      <th>OnlineSecurity</th>\n",
       "      <th>OnlineBackup</th>\n",
       "      <th>DeviceProtection</th>\n",
       "      <th>TechSupport</th>\n",
       "      <th>StreamingTV</th>\n",
       "      <th>StreamingMovies</th>\n",
       "      <th>MultipleLines</th>\n",
       "    </tr>\n",
       "  </thead>\n",
       "  <tbody>\n",
       "    <tr>\n",
       "      <th>0</th>\n",
       "      <td>7590-VHVEG</td>\n",
       "      <td>2020-01-01</td>\n",
       "      <td>No</td>\n",
       "      <td>Month-to-month</td>\n",
       "      <td>Yes</td>\n",
       "      <td>Electronic check</td>\n",
       "      <td>29.85</td>\n",
       "      <td>29.85</td>\n",
       "      <td>Female</td>\n",
       "      <td>0</td>\n",
       "      <td>Yes</td>\n",
       "      <td>No</td>\n",
       "      <td>DSL</td>\n",
       "      <td>No</td>\n",
       "      <td>Yes</td>\n",
       "      <td>No</td>\n",
       "      <td>No</td>\n",
       "      <td>No</td>\n",
       "      <td>No</td>\n",
       "      <td>NaN</td>\n",
       "    </tr>\n",
       "    <tr>\n",
       "      <th>1</th>\n",
       "      <td>5575-GNVDE</td>\n",
       "      <td>2017-04-01</td>\n",
       "      <td>No</td>\n",
       "      <td>One year</td>\n",
       "      <td>No</td>\n",
       "      <td>Mailed check</td>\n",
       "      <td>56.95</td>\n",
       "      <td>1889.5</td>\n",
       "      <td>Male</td>\n",
       "      <td>0</td>\n",
       "      <td>No</td>\n",
       "      <td>No</td>\n",
       "      <td>DSL</td>\n",
       "      <td>Yes</td>\n",
       "      <td>No</td>\n",
       "      <td>Yes</td>\n",
       "      <td>No</td>\n",
       "      <td>No</td>\n",
       "      <td>No</td>\n",
       "      <td>No</td>\n",
       "    </tr>\n",
       "    <tr>\n",
       "      <th>2</th>\n",
       "      <td>3668-QPYBK</td>\n",
       "      <td>2019-10-01</td>\n",
       "      <td>2019-12-01 00:00:00</td>\n",
       "      <td>Month-to-month</td>\n",
       "      <td>Yes</td>\n",
       "      <td>Mailed check</td>\n",
       "      <td>53.85</td>\n",
       "      <td>108.15</td>\n",
       "      <td>Male</td>\n",
       "      <td>0</td>\n",
       "      <td>No</td>\n",
       "      <td>No</td>\n",
       "      <td>DSL</td>\n",
       "      <td>Yes</td>\n",
       "      <td>Yes</td>\n",
       "      <td>No</td>\n",
       "      <td>No</td>\n",
       "      <td>No</td>\n",
       "      <td>No</td>\n",
       "      <td>No</td>\n",
       "    </tr>\n",
       "    <tr>\n",
       "      <th>3</th>\n",
       "      <td>7795-CFOCW</td>\n",
       "      <td>2016-05-01</td>\n",
       "      <td>No</td>\n",
       "      <td>One year</td>\n",
       "      <td>No</td>\n",
       "      <td>Bank transfer (automatic)</td>\n",
       "      <td>42.30</td>\n",
       "      <td>1840.75</td>\n",
       "      <td>Male</td>\n",
       "      <td>0</td>\n",
       "      <td>No</td>\n",
       "      <td>No</td>\n",
       "      <td>DSL</td>\n",
       "      <td>Yes</td>\n",
       "      <td>No</td>\n",
       "      <td>Yes</td>\n",
       "      <td>Yes</td>\n",
       "      <td>No</td>\n",
       "      <td>No</td>\n",
       "      <td>NaN</td>\n",
       "    </tr>\n",
       "    <tr>\n",
       "      <th>4</th>\n",
       "      <td>9237-HQITU</td>\n",
       "      <td>2019-09-01</td>\n",
       "      <td>2019-11-01 00:00:00</td>\n",
       "      <td>Month-to-month</td>\n",
       "      <td>Yes</td>\n",
       "      <td>Electronic check</td>\n",
       "      <td>70.70</td>\n",
       "      <td>151.65</td>\n",
       "      <td>Female</td>\n",
       "      <td>0</td>\n",
       "      <td>No</td>\n",
       "      <td>No</td>\n",
       "      <td>Fiber optic</td>\n",
       "      <td>No</td>\n",
       "      <td>No</td>\n",
       "      <td>No</td>\n",
       "      <td>No</td>\n",
       "      <td>No</td>\n",
       "      <td>No</td>\n",
       "      <td>No</td>\n",
       "    </tr>\n",
       "  </tbody>\n",
       "</table>\n",
       "</div>"
      ],
      "text/plain": [
       "   customerID   BeginDate              EndDate            Type  \\\n",
       "0  7590-VHVEG  2020-01-01                   No  Month-to-month   \n",
       "1  5575-GNVDE  2017-04-01                   No        One year   \n",
       "2  3668-QPYBK  2019-10-01  2019-12-01 00:00:00  Month-to-month   \n",
       "3  7795-CFOCW  2016-05-01                   No        One year   \n",
       "4  9237-HQITU  2019-09-01  2019-11-01 00:00:00  Month-to-month   \n",
       "\n",
       "  PaperlessBilling              PaymentMethod  MonthlyCharges TotalCharges  \\\n",
       "0              Yes           Electronic check           29.85        29.85   \n",
       "1               No               Mailed check           56.95       1889.5   \n",
       "2              Yes               Mailed check           53.85       108.15   \n",
       "3               No  Bank transfer (automatic)           42.30      1840.75   \n",
       "4              Yes           Electronic check           70.70       151.65   \n",
       "\n",
       "   gender  SeniorCitizen Partner Dependents InternetService OnlineSecurity  \\\n",
       "0  Female              0     Yes         No             DSL             No   \n",
       "1    Male              0      No         No             DSL            Yes   \n",
       "2    Male              0      No         No             DSL            Yes   \n",
       "3    Male              0      No         No             DSL            Yes   \n",
       "4  Female              0      No         No     Fiber optic             No   \n",
       "\n",
       "  OnlineBackup DeviceProtection TechSupport StreamingTV StreamingMovies  \\\n",
       "0          Yes               No          No          No              No   \n",
       "1           No              Yes          No          No              No   \n",
       "2          Yes               No          No          No              No   \n",
       "3           No              Yes         Yes          No              No   \n",
       "4           No               No          No          No              No   \n",
       "\n",
       "  MultipleLines  \n",
       "0           NaN  \n",
       "1            No  \n",
       "2            No  \n",
       "3           NaN  \n",
       "4            No  "
      ]
     },
     "execution_count": 56,
     "metadata": {},
     "output_type": "execute_result"
    }
   ],
   "source": [
    "Data = contract.merge(personal, on=\"customerID\", how='outer').merge(internet, on = \"customerID\",how='outer').merge(phone, on= \"customerID\",how='outer')\n",
    "Data.head()"
   ]
  },
  {
   "cell_type": "markdown",
   "metadata": {},
   "source": [
    "#### Conclusion\n",
    "- Merged all data sources into 1 dataframe"
   ]
  },
  {
   "cell_type": "markdown",
   "metadata": {},
   "source": [
    "### Convert all required columns to desired types such as convert dates columns from object to datetime in contract table."
   ]
  },
  {
   "cell_type": "code",
   "execution_count": 57,
   "metadata": {},
   "outputs": [
    {
     "name": "stdout",
     "output_type": "stream",
     "text": [
      "<class 'pandas.core.frame.DataFrame'>\n",
      "Int64Index: 7043 entries, 0 to 7042\n",
      "Data columns (total 20 columns):\n",
      " #   Column            Non-Null Count  Dtype  \n",
      "---  ------            --------------  -----  \n",
      " 0   customerID        7043 non-null   object \n",
      " 1   BeginDate         7043 non-null   object \n",
      " 2   EndDate           7043 non-null   object \n",
      " 3   Type              7043 non-null   object \n",
      " 4   PaperlessBilling  7043 non-null   object \n",
      " 5   PaymentMethod     7043 non-null   object \n",
      " 6   MonthlyCharges    7043 non-null   float64\n",
      " 7   TotalCharges      7043 non-null   object \n",
      " 8   gender            7043 non-null   object \n",
      " 9   SeniorCitizen     7043 non-null   int64  \n",
      " 10  Partner           7043 non-null   object \n",
      " 11  Dependents        7043 non-null   object \n",
      " 12  InternetService   5517 non-null   object \n",
      " 13  OnlineSecurity    5517 non-null   object \n",
      " 14  OnlineBackup      5517 non-null   object \n",
      " 15  DeviceProtection  5517 non-null   object \n",
      " 16  TechSupport       5517 non-null   object \n",
      " 17  StreamingTV       5517 non-null   object \n",
      " 18  StreamingMovies   5517 non-null   object \n",
      " 19  MultipleLines     6361 non-null   object \n",
      "dtypes: float64(1), int64(1), object(18)\n",
      "memory usage: 1.1+ MB\n"
     ]
    }
   ],
   "source": [
    "Data.info()"
   ]
  },
  {
   "cell_type": "code",
   "execution_count": 58,
   "metadata": {},
   "outputs": [
    {
     "name": "stdout",
     "output_type": "stream",
     "text": [
      "<class 'pandas.core.frame.DataFrame'>\n",
      "Int64Index: 7043 entries, 0 to 7042\n",
      "Data columns (total 20 columns):\n",
      " #   Column            Non-Null Count  Dtype         \n",
      "---  ------            --------------  -----         \n",
      " 0   customerID        7043 non-null   object        \n",
      " 1   BeginDate         7043 non-null   datetime64[ns]\n",
      " 2   EndDate           7043 non-null   object        \n",
      " 3   Type              7043 non-null   object        \n",
      " 4   PaperlessBilling  7043 non-null   object        \n",
      " 5   PaymentMethod     7043 non-null   object        \n",
      " 6   MonthlyCharges    7043 non-null   float64       \n",
      " 7   TotalCharges      7032 non-null   float64       \n",
      " 8   gender            7043 non-null   object        \n",
      " 9   SeniorCitizen     7043 non-null   int64         \n",
      " 10  Partner           7043 non-null   object        \n",
      " 11  Dependents        7043 non-null   object        \n",
      " 12  InternetService   5517 non-null   object        \n",
      " 13  OnlineSecurity    5517 non-null   object        \n",
      " 14  OnlineBackup      5517 non-null   object        \n",
      " 15  DeviceProtection  5517 non-null   object        \n",
      " 16  TechSupport       5517 non-null   object        \n",
      " 17  StreamingTV       5517 non-null   object        \n",
      " 18  StreamingMovies   5517 non-null   object        \n",
      " 19  MultipleLines     6361 non-null   object        \n",
      "dtypes: datetime64[ns](1), float64(2), int64(1), object(16)\n",
      "memory usage: 1.1+ MB\n"
     ]
    }
   ],
   "source": [
    "Data['BeginDate'] = pd.to_datetime(Data['BeginDate'] )\n",
    "Data['EndDate'] = pd.to_datetime(Data['EndDate'], errors = \"ignore\")\n",
    "Data['TotalCharges'] = pd.to_numeric(Data['TotalCharges'], errors='coerce')\n",
    "Data.info()"
   ]
  },
  {
   "cell_type": "markdown",
   "metadata": {},
   "source": [
    "#### Conclusion\n",
    "\n",
    "- Converted BeginDate and EndDate to datatime datatype, Total Charges to numeric datatype"
   ]
  },
  {
   "cell_type": "markdown",
   "metadata": {},
   "source": [
    "### Compare the monthly payment distribution (MonthlyCharges) of all active clients with the clients who have left."
   ]
  },
  {
   "cell_type": "code",
   "execution_count": 59,
   "metadata": {},
   "outputs": [
    {
     "data": {
      "text/plain": [
       "(5174, 20)"
      ]
     },
     "execution_count": 59,
     "metadata": {},
     "output_type": "execute_result"
    }
   ],
   "source": [
    "active = Data.query('EndDate == \"No\"')\n",
    "active.shape"
   ]
  },
  {
   "cell_type": "code",
   "execution_count": 60,
   "metadata": {},
   "outputs": [
    {
     "data": {
      "text/html": [
       "<div>\n",
       "<style scoped>\n",
       "    .dataframe tbody tr th:only-of-type {\n",
       "        vertical-align: middle;\n",
       "    }\n",
       "\n",
       "    .dataframe tbody tr th {\n",
       "        vertical-align: top;\n",
       "    }\n",
       "\n",
       "    .dataframe thead th {\n",
       "        text-align: right;\n",
       "    }\n",
       "</style>\n",
       "<table border=\"1\" class=\"dataframe\">\n",
       "  <thead>\n",
       "    <tr style=\"text-align: right;\">\n",
       "      <th></th>\n",
       "      <th>customerID</th>\n",
       "      <th>BeginDate</th>\n",
       "      <th>EndDate</th>\n",
       "      <th>Type</th>\n",
       "      <th>PaperlessBilling</th>\n",
       "      <th>PaymentMethod</th>\n",
       "      <th>MonthlyCharges</th>\n",
       "      <th>TotalCharges</th>\n",
       "      <th>gender</th>\n",
       "      <th>SeniorCitizen</th>\n",
       "      <th>Partner</th>\n",
       "      <th>Dependents</th>\n",
       "      <th>InternetService</th>\n",
       "      <th>OnlineSecurity</th>\n",
       "      <th>OnlineBackup</th>\n",
       "      <th>DeviceProtection</th>\n",
       "      <th>TechSupport</th>\n",
       "      <th>StreamingTV</th>\n",
       "      <th>StreamingMovies</th>\n",
       "      <th>MultipleLines</th>\n",
       "    </tr>\n",
       "  </thead>\n",
       "  <tbody>\n",
       "    <tr>\n",
       "      <th>0</th>\n",
       "      <td>7590-VHVEG</td>\n",
       "      <td>2020-01-01</td>\n",
       "      <td>No</td>\n",
       "      <td>Month-to-month</td>\n",
       "      <td>Yes</td>\n",
       "      <td>Electronic check</td>\n",
       "      <td>29.85</td>\n",
       "      <td>29.85</td>\n",
       "      <td>Female</td>\n",
       "      <td>0</td>\n",
       "      <td>Yes</td>\n",
       "      <td>No</td>\n",
       "      <td>DSL</td>\n",
       "      <td>No</td>\n",
       "      <td>Yes</td>\n",
       "      <td>No</td>\n",
       "      <td>No</td>\n",
       "      <td>No</td>\n",
       "      <td>No</td>\n",
       "      <td>NaN</td>\n",
       "    </tr>\n",
       "    <tr>\n",
       "      <th>1</th>\n",
       "      <td>5575-GNVDE</td>\n",
       "      <td>2017-04-01</td>\n",
       "      <td>No</td>\n",
       "      <td>One year</td>\n",
       "      <td>No</td>\n",
       "      <td>Mailed check</td>\n",
       "      <td>56.95</td>\n",
       "      <td>1889.50</td>\n",
       "      <td>Male</td>\n",
       "      <td>0</td>\n",
       "      <td>No</td>\n",
       "      <td>No</td>\n",
       "      <td>DSL</td>\n",
       "      <td>Yes</td>\n",
       "      <td>No</td>\n",
       "      <td>Yes</td>\n",
       "      <td>No</td>\n",
       "      <td>No</td>\n",
       "      <td>No</td>\n",
       "      <td>No</td>\n",
       "    </tr>\n",
       "    <tr>\n",
       "      <th>3</th>\n",
       "      <td>7795-CFOCW</td>\n",
       "      <td>2016-05-01</td>\n",
       "      <td>No</td>\n",
       "      <td>One year</td>\n",
       "      <td>No</td>\n",
       "      <td>Bank transfer (automatic)</td>\n",
       "      <td>42.30</td>\n",
       "      <td>1840.75</td>\n",
       "      <td>Male</td>\n",
       "      <td>0</td>\n",
       "      <td>No</td>\n",
       "      <td>No</td>\n",
       "      <td>DSL</td>\n",
       "      <td>Yes</td>\n",
       "      <td>No</td>\n",
       "      <td>Yes</td>\n",
       "      <td>Yes</td>\n",
       "      <td>No</td>\n",
       "      <td>No</td>\n",
       "      <td>NaN</td>\n",
       "    </tr>\n",
       "    <tr>\n",
       "      <th>6</th>\n",
       "      <td>1452-KIOVK</td>\n",
       "      <td>2018-04-01</td>\n",
       "      <td>No</td>\n",
       "      <td>Month-to-month</td>\n",
       "      <td>Yes</td>\n",
       "      <td>Credit card (automatic)</td>\n",
       "      <td>89.10</td>\n",
       "      <td>1949.40</td>\n",
       "      <td>Male</td>\n",
       "      <td>0</td>\n",
       "      <td>No</td>\n",
       "      <td>Yes</td>\n",
       "      <td>Fiber optic</td>\n",
       "      <td>No</td>\n",
       "      <td>Yes</td>\n",
       "      <td>No</td>\n",
       "      <td>No</td>\n",
       "      <td>Yes</td>\n",
       "      <td>No</td>\n",
       "      <td>Yes</td>\n",
       "    </tr>\n",
       "    <tr>\n",
       "      <th>7</th>\n",
       "      <td>6713-OKOMC</td>\n",
       "      <td>2019-04-01</td>\n",
       "      <td>No</td>\n",
       "      <td>Month-to-month</td>\n",
       "      <td>No</td>\n",
       "      <td>Mailed check</td>\n",
       "      <td>29.75</td>\n",
       "      <td>301.90</td>\n",
       "      <td>Female</td>\n",
       "      <td>0</td>\n",
       "      <td>No</td>\n",
       "      <td>No</td>\n",
       "      <td>DSL</td>\n",
       "      <td>Yes</td>\n",
       "      <td>No</td>\n",
       "      <td>No</td>\n",
       "      <td>No</td>\n",
       "      <td>No</td>\n",
       "      <td>No</td>\n",
       "      <td>NaN</td>\n",
       "    </tr>\n",
       "  </tbody>\n",
       "</table>\n",
       "</div>"
      ],
      "text/plain": [
       "   customerID  BeginDate EndDate            Type PaperlessBilling  \\\n",
       "0  7590-VHVEG 2020-01-01      No  Month-to-month              Yes   \n",
       "1  5575-GNVDE 2017-04-01      No        One year               No   \n",
       "3  7795-CFOCW 2016-05-01      No        One year               No   \n",
       "6  1452-KIOVK 2018-04-01      No  Month-to-month              Yes   \n",
       "7  6713-OKOMC 2019-04-01      No  Month-to-month               No   \n",
       "\n",
       "               PaymentMethod  MonthlyCharges  TotalCharges  gender  \\\n",
       "0           Electronic check           29.85         29.85  Female   \n",
       "1               Mailed check           56.95       1889.50    Male   \n",
       "3  Bank transfer (automatic)           42.30       1840.75    Male   \n",
       "6    Credit card (automatic)           89.10       1949.40    Male   \n",
       "7               Mailed check           29.75        301.90  Female   \n",
       "\n",
       "   SeniorCitizen Partner Dependents InternetService OnlineSecurity  \\\n",
       "0              0     Yes         No             DSL             No   \n",
       "1              0      No         No             DSL            Yes   \n",
       "3              0      No         No             DSL            Yes   \n",
       "6              0      No        Yes     Fiber optic             No   \n",
       "7              0      No         No             DSL            Yes   \n",
       "\n",
       "  OnlineBackup DeviceProtection TechSupport StreamingTV StreamingMovies  \\\n",
       "0          Yes               No          No          No              No   \n",
       "1           No              Yes          No          No              No   \n",
       "3           No              Yes         Yes          No              No   \n",
       "6          Yes               No          No         Yes              No   \n",
       "7           No               No          No          No              No   \n",
       "\n",
       "  MultipleLines  \n",
       "0           NaN  \n",
       "1            No  \n",
       "3           NaN  \n",
       "6           Yes  \n",
       "7           NaN  "
      ]
     },
     "execution_count": 60,
     "metadata": {},
     "output_type": "execute_result"
    }
   ],
   "source": [
    "active.head()"
   ]
  },
  {
   "cell_type": "code",
   "execution_count": 61,
   "metadata": {},
   "outputs": [
    {
     "data": {
      "text/plain": [
       "array(['No'], dtype=object)"
      ]
     },
     "execution_count": 61,
     "metadata": {},
     "output_type": "execute_result"
    }
   ],
   "source": [
    "active['EndDate'].unique()"
   ]
  },
  {
   "cell_type": "code",
   "execution_count": 62,
   "metadata": {},
   "outputs": [
    {
     "data": {
      "text/plain": [
       "count    5174.000000\n",
       "mean       61.265124\n",
       "std        31.092648\n",
       "min        18.250000\n",
       "25%        25.100000\n",
       "50%        64.425000\n",
       "75%        88.400000\n",
       "max       118.750000\n",
       "Name: MonthlyCharges, dtype: float64"
      ]
     },
     "execution_count": 62,
     "metadata": {},
     "output_type": "execute_result"
    }
   ],
   "source": [
    "active['MonthlyCharges'].describe()"
   ]
  },
  {
   "cell_type": "markdown",
   "metadata": {},
   "source": [
    "- There are 5174 active clients\n",
    "- The average monthly spent of active client is \\\\$61\n",
    "- The monthly minimum spent is \\\\$18 and the maximum spent is \\\\$119\n"
   ]
  },
  {
   "cell_type": "code",
   "execution_count": 63,
   "metadata": {},
   "outputs": [
    {
     "data": {
      "text/plain": [
       "Text(0.5, 1.0, 'Monthly Payment Distribution of Active Clients')"
      ]
     },
     "execution_count": 63,
     "metadata": {},
     "output_type": "execute_result"
    },
    {
     "data": {
      "image/png": "[encoded data removed]",
      "text/plain": [
       "<Figure size 432x288 with 1 Axes>"
      ]
     },
     "metadata": {
      "needs_background": "light"
     },
     "output_type": "display_data"
    }
   ],
   "source": [
    "active.hist('MonthlyCharges', bins=15, align = 'left', color='g', range = (10,120))\n",
    "plt.xlabel(\"Monthly Spent\")\n",
    "plt.ylabel(\"Number of clients\")\n",
    "plt.title(\"Monthly Payment Distribution of Active Clients\")"
   ]
  },
  {
   "cell_type": "code",
   "execution_count": 64,
   "metadata": {},
   "outputs": [
    {
     "data": {
      "text/plain": [
       "(1869, 20)"
      ]
     },
     "execution_count": 64,
     "metadata": {},
     "output_type": "execute_result"
    }
   ],
   "source": [
    "inactive = Data.query('EndDate != \"No\"')\n",
    "inactive.shape"
   ]
  },
  {
   "cell_type": "code",
   "execution_count": 65,
   "metadata": {},
   "outputs": [
    {
     "data": {
      "text/plain": [
       "count    1869.000000\n",
       "mean       74.441332\n",
       "std        24.666053\n",
       "min        18.850000\n",
       "25%        56.150000\n",
       "50%        79.650000\n",
       "75%        94.200000\n",
       "max       118.350000\n",
       "Name: MonthlyCharges, dtype: float64"
      ]
     },
     "execution_count": 65,
     "metadata": {},
     "output_type": "execute_result"
    }
   ],
   "source": [
    "inactive['MonthlyCharges'].describe()"
   ]
  },
  {
   "cell_type": "markdown",
   "metadata": {},
   "source": [
    "- 1869 clients ended the service\n",
    "- The average monthly spent of inactive client is \\\\$74\n",
    "- The monthly minimum spent is \\\\$18 and the maximum spent is \\\\$119"
   ]
  },
  {
   "cell_type": "code",
   "execution_count": 66,
   "metadata": {},
   "outputs": [
    {
     "data": {
      "text/plain": [
       "Text(0.5, 1.0, 'Monthly Payment Distribution of inactive Clients')"
      ]
     },
     "execution_count": 66,
     "metadata": {},
     "output_type": "execute_result"
    },
    {
     "data": {
      "image/png": "[encoded data removed]",
      "text/plain": [
       "<Figure size 432x288 with 1 Axes>"
      ]
     },
     "metadata": {
      "needs_background": "light"
     },
     "output_type": "display_data"
    }
   ],
   "source": [
    "inactive.hist('MonthlyCharges', bins=15, color='b', align='left', range = (10,120))\n",
    "plt.xlabel(\"Monthly Spent\")\n",
    "plt.ylabel(\"Number of clients\")\n",
    "plt.title(\"Monthly Payment Distribution of inactive Clients\")"
   ]
  },
  {
   "cell_type": "markdown",
   "metadata": {},
   "source": [
    "#### Conclusion"
   ]
  },
  {
   "cell_type": "markdown",
   "metadata": {},
   "source": [
    "- Segmented the dataframe into active and inactive clients data\n",
    "- Calculated the statistical summary on monthly and total spent of both type of clients\n",
    "   - There are 5174 active clients\n",
    "   - The average monthly spent of active client is \\\\$61 which is lower than the monthly spent of the client who left (\\\\$74)\n",
    "   - The monthly minimum spent is \\\\$18 and the maximum spent is \\\\$119 for both active and inactive clients\n",
    "   - The active client's monthly spent distribution is not normally distributed. Looks like lost of the client paid around \\\\$20 for monthly bill but rest of the distribution look normal.\n",
    "   - The inactive client's monthly spent distribution is very random. The reasons could be some of the client paid very high monthly bill while some paid very low due to the different services they were using."
   ]
  },
  {
   "cell_type": "markdown",
   "metadata": {},
   "source": [
    "## Compare the behavior of the Telephone users and Internet users.\n",
    "\n",
    "- Segment data into 2 groups\n",
    "- Visualize the data to show the share of telephone users and the share of internet users"
   ]
  },
  {
   "cell_type": "markdown",
   "metadata": {},
   "source": [
    "### Internet Users"
   ]
  },
  {
   "cell_type": "code",
   "execution_count": 67,
   "metadata": {},
   "outputs": [
    {
     "data": {
      "text/plain": [
       "array(['DSL', 'Fiber optic', nan], dtype=object)"
      ]
     },
     "execution_count": 67,
     "metadata": {},
     "output_type": "execute_result"
    }
   ],
   "source": [
    "Data['InternetService'].unique()"
   ]
  },
  {
   "cell_type": "code",
   "execution_count": 68,
   "metadata": {},
   "outputs": [],
   "source": [
    "Internetusers = Data.dropna(subset=['InternetService'])"
   ]
  },
  {
   "cell_type": "code",
   "execution_count": 69,
   "metadata": {},
   "outputs": [
    {
     "data": {
      "text/html": [
       "<div>\n",
       "<style scoped>\n",
       "    .dataframe tbody tr th:only-of-type {\n",
       "        vertical-align: middle;\n",
       "    }\n",
       "\n",
       "    .dataframe tbody tr th {\n",
       "        vertical-align: top;\n",
       "    }\n",
       "\n",
       "    .dataframe thead th {\n",
       "        text-align: right;\n",
       "    }\n",
       "</style>\n",
       "<table border=\"1\" class=\"dataframe\">\n",
       "  <thead>\n",
       "    <tr style=\"text-align: right;\">\n",
       "      <th></th>\n",
       "      <th>customerID</th>\n",
       "      <th>BeginDate</th>\n",
       "      <th>EndDate</th>\n",
       "      <th>Type</th>\n",
       "      <th>PaperlessBilling</th>\n",
       "      <th>PaymentMethod</th>\n",
       "      <th>MonthlyCharges</th>\n",
       "      <th>TotalCharges</th>\n",
       "      <th>gender</th>\n",
       "      <th>SeniorCitizen</th>\n",
       "      <th>Partner</th>\n",
       "      <th>Dependents</th>\n",
       "      <th>InternetService</th>\n",
       "      <th>OnlineSecurity</th>\n",
       "      <th>OnlineBackup</th>\n",
       "      <th>DeviceProtection</th>\n",
       "      <th>TechSupport</th>\n",
       "      <th>StreamingTV</th>\n",
       "      <th>StreamingMovies</th>\n",
       "      <th>MultipleLines</th>\n",
       "    </tr>\n",
       "  </thead>\n",
       "  <tbody>\n",
       "    <tr>\n",
       "      <th>0</th>\n",
       "      <td>7590-VHVEG</td>\n",
       "      <td>2020-01-01</td>\n",
       "      <td>No</td>\n",
       "      <td>Month-to-month</td>\n",
       "      <td>Yes</td>\n",
       "      <td>Electronic check</td>\n",
       "      <td>29.85</td>\n",
       "      <td>29.85</td>\n",
       "      <td>Female</td>\n",
       "      <td>0</td>\n",
       "      <td>Yes</td>\n",
       "      <td>No</td>\n",
       "      <td>DSL</td>\n",
       "      <td>No</td>\n",
       "      <td>Yes</td>\n",
       "      <td>No</td>\n",
       "      <td>No</td>\n",
       "      <td>No</td>\n",
       "      <td>No</td>\n",
       "      <td>NaN</td>\n",
       "    </tr>\n",
       "    <tr>\n",
       "      <th>1</th>\n",
       "      <td>5575-GNVDE</td>\n",
       "      <td>2017-04-01</td>\n",
       "      <td>No</td>\n",
       "      <td>One year</td>\n",
       "      <td>No</td>\n",
       "      <td>Mailed check</td>\n",
       "      <td>56.95</td>\n",
       "      <td>1889.50</td>\n",
       "      <td>Male</td>\n",
       "      <td>0</td>\n",
       "      <td>No</td>\n",
       "      <td>No</td>\n",
       "      <td>DSL</td>\n",
       "      <td>Yes</td>\n",
       "      <td>No</td>\n",
       "      <td>Yes</td>\n",
       "      <td>No</td>\n",
       "      <td>No</td>\n",
       "      <td>No</td>\n",
       "      <td>No</td>\n",
       "    </tr>\n",
       "    <tr>\n",
       "      <th>2</th>\n",
       "      <td>3668-QPYBK</td>\n",
       "      <td>2019-10-01</td>\n",
       "      <td>2019-12-01 00:00:00</td>\n",
       "      <td>Month-to-month</td>\n",
       "      <td>Yes</td>\n",
       "      <td>Mailed check</td>\n",
       "      <td>53.85</td>\n",
       "      <td>108.15</td>\n",
       "      <td>Male</td>\n",
       "      <td>0</td>\n",
       "      <td>No</td>\n",
       "      <td>No</td>\n",
       "      <td>DSL</td>\n",
       "      <td>Yes</td>\n",
       "      <td>Yes</td>\n",
       "      <td>No</td>\n",
       "      <td>No</td>\n",
       "      <td>No</td>\n",
       "      <td>No</td>\n",
       "      <td>No</td>\n",
       "    </tr>\n",
       "    <tr>\n",
       "      <th>3</th>\n",
       "      <td>7795-CFOCW</td>\n",
       "      <td>2016-05-01</td>\n",
       "      <td>No</td>\n",
       "      <td>One year</td>\n",
       "      <td>No</td>\n",
       "      <td>Bank transfer (automatic)</td>\n",
       "      <td>42.30</td>\n",
       "      <td>1840.75</td>\n",
       "      <td>Male</td>\n",
       "      <td>0</td>\n",
       "      <td>No</td>\n",
       "      <td>No</td>\n",
       "      <td>DSL</td>\n",
       "      <td>Yes</td>\n",
       "      <td>No</td>\n",
       "      <td>Yes</td>\n",
       "      <td>Yes</td>\n",
       "      <td>No</td>\n",
       "      <td>No</td>\n",
       "      <td>NaN</td>\n",
       "    </tr>\n",
       "    <tr>\n",
       "      <th>4</th>\n",
       "      <td>9237-HQITU</td>\n",
       "      <td>2019-09-01</td>\n",
       "      <td>2019-11-01 00:00:00</td>\n",
       "      <td>Month-to-month</td>\n",
       "      <td>Yes</td>\n",
       "      <td>Electronic check</td>\n",
       "      <td>70.70</td>\n",
       "      <td>151.65</td>\n",
       "      <td>Female</td>\n",
       "      <td>0</td>\n",
       "      <td>No</td>\n",
       "      <td>No</td>\n",
       "      <td>Fiber optic</td>\n",
       "      <td>No</td>\n",
       "      <td>No</td>\n",
       "      <td>No</td>\n",
       "      <td>No</td>\n",
       "      <td>No</td>\n",
       "      <td>No</td>\n",
       "      <td>No</td>\n",
       "    </tr>\n",
       "  </tbody>\n",
       "</table>\n",
       "</div>"
      ],
      "text/plain": [
       "   customerID  BeginDate              EndDate            Type  \\\n",
       "0  7590-VHVEG 2020-01-01                   No  Month-to-month   \n",
       "1  5575-GNVDE 2017-04-01                   No        One year   \n",
       "2  3668-QPYBK 2019-10-01  2019-12-01 00:00:00  Month-to-month   \n",
       "3  7795-CFOCW 2016-05-01                   No        One year   \n",
       "4  9237-HQITU 2019-09-01  2019-11-01 00:00:00  Month-to-month   \n",
       "\n",
       "  PaperlessBilling              PaymentMethod  MonthlyCharges  TotalCharges  \\\n",
       "0              Yes           Electronic check           29.85         29.85   \n",
       "1               No               Mailed check           56.95       1889.50   \n",
       "2              Yes               Mailed check           53.85        108.15   \n",
       "3               No  Bank transfer (automatic)           42.30       1840.75   \n",
       "4              Yes           Electronic check           70.70        151.65   \n",
       "\n",
       "   gender  SeniorCitizen Partner Dependents InternetService OnlineSecurity  \\\n",
       "0  Female              0     Yes         No             DSL             No   \n",
       "1    Male              0      No         No             DSL            Yes   \n",
       "2    Male              0      No         No             DSL            Yes   \n",
       "3    Male              0      No         No             DSL            Yes   \n",
       "4  Female              0      No         No     Fiber optic             No   \n",
       "\n",
       "  OnlineBackup DeviceProtection TechSupport StreamingTV StreamingMovies  \\\n",
       "0          Yes               No          No          No              No   \n",
       "1           No              Yes          No          No              No   \n",
       "2          Yes               No          No          No              No   \n",
       "3           No              Yes         Yes          No              No   \n",
       "4           No               No          No          No              No   \n",
       "\n",
       "  MultipleLines  \n",
       "0           NaN  \n",
       "1            No  \n",
       "2            No  \n",
       "3           NaN  \n",
       "4            No  "
      ]
     },
     "execution_count": 69,
     "metadata": {},
     "output_type": "execute_result"
    }
   ],
   "source": [
    "Internetusers.head()"
   ]
  },
  {
   "cell_type": "code",
   "execution_count": 70,
   "metadata": {},
   "outputs": [
    {
     "data": {
      "text/plain": [
       "count    5517.000000\n",
       "mean       76.844254\n",
       "std        21.924661\n",
       "min        23.450000\n",
       "25%        59.950000\n",
       "50%        79.450000\n",
       "75%        94.450000\n",
       "max       118.750000\n",
       "Name: MonthlyCharges, dtype: float64"
      ]
     },
     "execution_count": 70,
     "metadata": {},
     "output_type": "execute_result"
    }
   ],
   "source": [
    "Internetusers['MonthlyCharges'].describe()"
   ]
  },
  {
   "cell_type": "code",
   "execution_count": 71,
   "metadata": {},
   "outputs": [
    {
     "data": {
      "text/plain": [
       "Male      2776\n",
       "Female    2741\n",
       "Name: gender, dtype: int64"
      ]
     },
     "execution_count": 71,
     "metadata": {},
     "output_type": "execute_result"
    }
   ],
   "source": [
    "Internetusers['gender'].value_counts()"
   ]
  },
  {
   "cell_type": "code",
   "execution_count": 72,
   "metadata": {},
   "outputs": [
    {
     "name": "stdout",
     "output_type": "stream",
     "text": [
      "Yes    3725\n",
      "No     1792\n",
      "Name: PaperlessBilling, dtype: int64\n"
     ]
    }
   ],
   "source": [
    "print(Internetusers['PaperlessBilling'].value_counts())"
   ]
  },
  {
   "cell_type": "code",
   "execution_count": 73,
   "metadata": {},
   "outputs": [
    {
     "name": "stdout",
     "output_type": "stream",
     "text": [
      "Month-to-month    3351\n",
      "One year          1109\n",
      "Two year          1057\n",
      "Name: Type, dtype: int64\n"
     ]
    }
   ],
   "source": [
    "print(Internetusers['Type'].value_counts())"
   ]
  },
  {
   "cell_type": "code",
   "execution_count": 74,
   "metadata": {},
   "outputs": [
    {
     "name": "stdout",
     "output_type": "stream",
     "text": [
      "Electronic check             2243\n",
      "Bank transfer (automatic)    1212\n",
      "Credit card (automatic)      1191\n",
      "Mailed check                  871\n",
      "Name: PaymentMethod, dtype: int64\n"
     ]
    }
   ],
   "source": [
    "print(Internetusers['PaymentMethod'].value_counts())"
   ]
  },
  {
   "cell_type": "code",
   "execution_count": 77,
   "metadata": {},
   "outputs": [
    {
     "data": {
      "text/plain": [
       "array([[<AxesSubplot:title={'center':'MonthlyCharges'}>]], dtype=object)"
      ]
     },
     "execution_count": 77,
     "metadata": {},
     "output_type": "execute_result"
    },
    {
     "data": {
      "image/png": "[encoded data removed]",
      "text/plain": [
       "<Figure size 432x288 with 1 Axes>"
      ]
     },
     "metadata": {
      "needs_background": "light"
     },
     "output_type": "display_data"
    }
   ],
   "source": [
    "Internetusers.hist('MonthlyCharges', bins=15, color='orange', range = (10,120))"
   ]
  },
  {
   "cell_type": "markdown",
   "metadata": {},
   "source": [
    "### Telephone Users"
   ]
  },
  {
   "cell_type": "code",
   "execution_count": 78,
   "metadata": {},
   "outputs": [
    {
     "data": {
      "text/html": [
       "<div>\n",
       "<style scoped>\n",
       "    .dataframe tbody tr th:only-of-type {\n",
       "        vertical-align: middle;\n",
       "    }\n",
       "\n",
       "    .dataframe tbody tr th {\n",
       "        vertical-align: top;\n",
       "    }\n",
       "\n",
       "    .dataframe thead th {\n",
       "        text-align: right;\n",
       "    }\n",
       "</style>\n",
       "<table border=\"1\" class=\"dataframe\">\n",
       "  <thead>\n",
       "    <tr style=\"text-align: right;\">\n",
       "      <th></th>\n",
       "      <th>customerID</th>\n",
       "      <th>BeginDate</th>\n",
       "      <th>EndDate</th>\n",
       "      <th>Type</th>\n",
       "      <th>PaperlessBilling</th>\n",
       "      <th>PaymentMethod</th>\n",
       "      <th>MonthlyCharges</th>\n",
       "      <th>TotalCharges</th>\n",
       "      <th>gender</th>\n",
       "      <th>SeniorCitizen</th>\n",
       "      <th>Partner</th>\n",
       "      <th>Dependents</th>\n",
       "      <th>InternetService</th>\n",
       "      <th>OnlineSecurity</th>\n",
       "      <th>OnlineBackup</th>\n",
       "      <th>DeviceProtection</th>\n",
       "      <th>TechSupport</th>\n",
       "      <th>StreamingTV</th>\n",
       "      <th>StreamingMovies</th>\n",
       "      <th>MultipleLines</th>\n",
       "    </tr>\n",
       "  </thead>\n",
       "  <tbody>\n",
       "    <tr>\n",
       "      <th>11</th>\n",
       "      <td>7469-LKBCI</td>\n",
       "      <td>2018-10-01</td>\n",
       "      <td>No</td>\n",
       "      <td>Two year</td>\n",
       "      <td>No</td>\n",
       "      <td>Credit card (automatic)</td>\n",
       "      <td>18.95</td>\n",
       "      <td>326.80</td>\n",
       "      <td>Male</td>\n",
       "      <td>0</td>\n",
       "      <td>No</td>\n",
       "      <td>No</td>\n",
       "      <td>NaN</td>\n",
       "      <td>NaN</td>\n",
       "      <td>NaN</td>\n",
       "      <td>NaN</td>\n",
       "      <td>NaN</td>\n",
       "      <td>NaN</td>\n",
       "      <td>NaN</td>\n",
       "      <td>No</td>\n",
       "    </tr>\n",
       "    <tr>\n",
       "      <th>16</th>\n",
       "      <td>8191-XWSZG</td>\n",
       "      <td>2015-10-01</td>\n",
       "      <td>No</td>\n",
       "      <td>One year</td>\n",
       "      <td>No</td>\n",
       "      <td>Mailed check</td>\n",
       "      <td>20.65</td>\n",
       "      <td>1022.95</td>\n",
       "      <td>Female</td>\n",
       "      <td>0</td>\n",
       "      <td>No</td>\n",
       "      <td>No</td>\n",
       "      <td>NaN</td>\n",
       "      <td>NaN</td>\n",
       "      <td>NaN</td>\n",
       "      <td>NaN</td>\n",
       "      <td>NaN</td>\n",
       "      <td>NaN</td>\n",
       "      <td>NaN</td>\n",
       "      <td>No</td>\n",
       "    </tr>\n",
       "    <tr>\n",
       "      <th>21</th>\n",
       "      <td>1680-VDCWW</td>\n",
       "      <td>2019-02-01</td>\n",
       "      <td>No</td>\n",
       "      <td>One year</td>\n",
       "      <td>No</td>\n",
       "      <td>Bank transfer (automatic)</td>\n",
       "      <td>19.80</td>\n",
       "      <td>202.25</td>\n",
       "      <td>Male</td>\n",
       "      <td>0</td>\n",
       "      <td>Yes</td>\n",
       "      <td>No</td>\n",
       "      <td>NaN</td>\n",
       "      <td>NaN</td>\n",
       "      <td>NaN</td>\n",
       "      <td>NaN</td>\n",
       "      <td>NaN</td>\n",
       "      <td>NaN</td>\n",
       "      <td>NaN</td>\n",
       "      <td>No</td>\n",
       "    </tr>\n",
       "    <tr>\n",
       "      <th>22</th>\n",
       "      <td>1066-JKSGK</td>\n",
       "      <td>2019-11-01</td>\n",
       "      <td>2019-12-01 00:00:00</td>\n",
       "      <td>Month-to-month</td>\n",
       "      <td>No</td>\n",
       "      <td>Mailed check</td>\n",
       "      <td>20.15</td>\n",
       "      <td>20.15</td>\n",
       "      <td>Male</td>\n",
       "      <td>0</td>\n",
       "      <td>No</td>\n",
       "      <td>No</td>\n",
       "      <td>NaN</td>\n",
       "      <td>NaN</td>\n",
       "      <td>NaN</td>\n",
       "      <td>NaN</td>\n",
       "      <td>NaN</td>\n",
       "      <td>NaN</td>\n",
       "      <td>NaN</td>\n",
       "      <td>No</td>\n",
       "    </tr>\n",
       "    <tr>\n",
       "      <th>33</th>\n",
       "      <td>7310-EGVHZ</td>\n",
       "      <td>2020-01-01</td>\n",
       "      <td>No</td>\n",
       "      <td>Month-to-month</td>\n",
       "      <td>No</td>\n",
       "      <td>Bank transfer (automatic)</td>\n",
       "      <td>20.20</td>\n",
       "      <td>20.20</td>\n",
       "      <td>Male</td>\n",
       "      <td>0</td>\n",
       "      <td>No</td>\n",
       "      <td>No</td>\n",
       "      <td>NaN</td>\n",
       "      <td>NaN</td>\n",
       "      <td>NaN</td>\n",
       "      <td>NaN</td>\n",
       "      <td>NaN</td>\n",
       "      <td>NaN</td>\n",
       "      <td>NaN</td>\n",
       "      <td>No</td>\n",
       "    </tr>\n",
       "  </tbody>\n",
       "</table>\n",
       "</div>"
      ],
      "text/plain": [
       "    customerID  BeginDate              EndDate            Type  \\\n",
       "11  7469-LKBCI 2018-10-01                   No        Two year   \n",
       "16  8191-XWSZG 2015-10-01                   No        One year   \n",
       "21  1680-VDCWW 2019-02-01                   No        One year   \n",
       "22  1066-JKSGK 2019-11-01  2019-12-01 00:00:00  Month-to-month   \n",
       "33  7310-EGVHZ 2020-01-01                   No  Month-to-month   \n",
       "\n",
       "   PaperlessBilling              PaymentMethod  MonthlyCharges  TotalCharges  \\\n",
       "11               No    Credit card (automatic)           18.95        326.80   \n",
       "16               No               Mailed check           20.65       1022.95   \n",
       "21               No  Bank transfer (automatic)           19.80        202.25   \n",
       "22               No               Mailed check           20.15         20.15   \n",
       "33               No  Bank transfer (automatic)           20.20         20.20   \n",
       "\n",
       "    gender  SeniorCitizen Partner Dependents InternetService OnlineSecurity  \\\n",
       "11    Male              0      No         No             NaN            NaN   \n",
       "16  Female              0      No         No             NaN            NaN   \n",
       "21    Male              0     Yes         No             NaN            NaN   \n",
       "22    Male              0      No         No             NaN            NaN   \n",
       "33    Male              0      No         No             NaN            NaN   \n",
       "\n",
       "   OnlineBackup DeviceProtection TechSupport StreamingTV StreamingMovies  \\\n",
       "11          NaN              NaN         NaN         NaN             NaN   \n",
       "16          NaN              NaN         NaN         NaN             NaN   \n",
       "21          NaN              NaN         NaN         NaN             NaN   \n",
       "22          NaN              NaN         NaN         NaN             NaN   \n",
       "33          NaN              NaN         NaN         NaN             NaN   \n",
       "\n",
       "   MultipleLines  \n",
       "11            No  \n",
       "16            No  \n",
       "21            No  \n",
       "22            No  \n",
       "33            No  "
      ]
     },
     "execution_count": 78,
     "metadata": {},
     "output_type": "execute_result"
    }
   ],
   "source": [
    "Telephoneusers= (Data[Data.InternetService.isnull()])\n",
    "Telephoneusers.head()"
   ]
  },
  {
   "cell_type": "code",
   "execution_count": 79,
   "metadata": {},
   "outputs": [
    {
     "data": {
      "text/plain": [
       "count    1526.000000\n",
       "mean       21.079194\n",
       "std         2.164221\n",
       "min        18.250000\n",
       "25%        19.700000\n",
       "50%        20.150000\n",
       "75%        20.900000\n",
       "max        26.900000\n",
       "Name: MonthlyCharges, dtype: float64"
      ]
     },
     "execution_count": 79,
     "metadata": {},
     "output_type": "execute_result"
    }
   ],
   "source": [
    "Telephoneusers['MonthlyCharges'].describe()"
   ]
  },
  {
   "cell_type": "code",
   "execution_count": 80,
   "metadata": {},
   "outputs": [
    {
     "name": "stdout",
     "output_type": "stream",
     "text": [
      "<class 'pandas.core.frame.DataFrame'>\n",
      "Int64Index: 1526 entries, 11 to 7037\n",
      "Data columns (total 20 columns):\n",
      " #   Column            Non-Null Count  Dtype         \n",
      "---  ------            --------------  -----         \n",
      " 0   customerID        1526 non-null   object        \n",
      " 1   BeginDate         1526 non-null   datetime64[ns]\n",
      " 2   EndDate           1526 non-null   object        \n",
      " 3   Type              1526 non-null   object        \n",
      " 4   PaperlessBilling  1526 non-null   object        \n",
      " 5   PaymentMethod     1526 non-null   object        \n",
      " 6   MonthlyCharges    1526 non-null   float64       \n",
      " 7   TotalCharges      1520 non-null   float64       \n",
      " 8   gender            1526 non-null   object        \n",
      " 9   SeniorCitizen     1526 non-null   int64         \n",
      " 10  Partner           1526 non-null   object        \n",
      " 11  Dependents        1526 non-null   object        \n",
      " 12  InternetService   0 non-null      object        \n",
      " 13  OnlineSecurity    0 non-null      object        \n",
      " 14  OnlineBackup      0 non-null      object        \n",
      " 15  DeviceProtection  0 non-null      object        \n",
      " 16  TechSupport       0 non-null      object        \n",
      " 17  StreamingTV       0 non-null      object        \n",
      " 18  StreamingMovies   0 non-null      object        \n",
      " 19  MultipleLines     1526 non-null   object        \n",
      "dtypes: datetime64[ns](1), float64(2), int64(1), object(16)\n",
      "memory usage: 250.4+ KB\n"
     ]
    }
   ],
   "source": [
    "Telephoneusers.info()"
   ]
  },
  {
   "cell_type": "code",
   "execution_count": 82,
   "metadata": {},
   "outputs": [
    {
     "data": {
      "text/plain": [
       "array([[<AxesSubplot:title={'center':'MonthlyCharges'}>]], dtype=object)"
      ]
     },
     "execution_count": 82,
     "metadata": {},
     "output_type": "execute_result"
    },
    {
     "data": {
      "image/png": "[encoded data removed]",
      "text/plain": [
       "<Figure size 432x288 with 1 Axes>"
      ]
     },
     "metadata": {
      "needs_background": "light"
     },
     "output_type": "display_data"
    }
   ],
   "source": [
    "Telephoneusers.hist('MonthlyCharges', bins=5, color='b', range = (10,30))"
   ]
  },
  {
   "cell_type": "code",
   "execution_count": 83,
   "metadata": {},
   "outputs": [
    {
     "name": "stdout",
     "output_type": "stream",
     "text": [
      "<class 'pandas.core.frame.DataFrame'>\n",
      "Int64Index: 1526 entries, 11 to 7037\n",
      "Data columns (total 20 columns):\n",
      " #   Column            Non-Null Count  Dtype         \n",
      "---  ------            --------------  -----         \n",
      " 0   customerID        1526 non-null   object        \n",
      " 1   BeginDate         1526 non-null   datetime64[ns]\n",
      " 2   EndDate           1526 non-null   object        \n",
      " 3   Type              1526 non-null   object        \n",
      " 4   PaperlessBilling  1526 non-null   object        \n",
      " 5   PaymentMethod     1526 non-null   object        \n",
      " 6   MonthlyCharges    1526 non-null   float64       \n",
      " 7   TotalCharges      1520 non-null   float64       \n",
      " 8   gender            1526 non-null   object        \n",
      " 9   SeniorCitizen     1526 non-null   int64         \n",
      " 10  Partner           1526 non-null   object        \n",
      " 11  Dependents        1526 non-null   object        \n",
      " 12  InternetService   0 non-null      object        \n",
      " 13  OnlineSecurity    0 non-null      object        \n",
      " 14  OnlineBackup      0 non-null      object        \n",
      " 15  DeviceProtection  0 non-null      object        \n",
      " 16  TechSupport       0 non-null      object        \n",
      " 17  StreamingTV       0 non-null      object        \n",
      " 18  StreamingMovies   0 non-null      object        \n",
      " 19  MultipleLines     1526 non-null   object        \n",
      "dtypes: datetime64[ns](1), float64(2), int64(1), object(16)\n",
      "memory usage: 250.4+ KB\n"
     ]
    }
   ],
   "source": [
    "Telephoneusers.info()"
   ]
  },
  {
   "cell_type": "code",
   "execution_count": 84,
   "metadata": {},
   "outputs": [
    {
     "name": "stdout",
     "output_type": "stream",
     "text": [
      "Male      779\n",
      "Female    747\n",
      "Name: gender, dtype: int64\n",
      "Two year          638\n",
      "Month-to-month    524\n",
      "One year          364\n",
      "Name: Type, dtype: int64\n"
     ]
    }
   ],
   "source": [
    "print(Telephoneusers['gender'].value_counts())\n",
    "print(Telephoneusers['Type'].value_counts())"
   ]
  },
  {
   "cell_type": "code",
   "execution_count": 85,
   "metadata": {},
   "outputs": [
    {
     "name": "stdout",
     "output_type": "stream",
     "text": [
      "Mailed check                 741\n",
      "Bank transfer (automatic)    332\n",
      "Credit card (automatic)      331\n",
      "Electronic check             122\n",
      "Name: PaymentMethod, dtype: int64\n"
     ]
    }
   ],
   "source": [
    "print(Telephoneusers['PaymentMethod'].value_counts())"
   ]
  },
  {
   "cell_type": "code",
   "execution_count": 86,
   "metadata": {},
   "outputs": [
    {
     "name": "stdout",
     "output_type": "stream",
     "text": [
      "No     1080\n",
      "Yes     446\n",
      "Name: PaperlessBilling, dtype: int64\n"
     ]
    }
   ],
   "source": [
    "print(Telephoneusers['PaperlessBilling'].value_counts())"
   ]
  },
  {
   "cell_type": "markdown",
   "metadata": {},
   "source": [
    "#### Conclusion\n",
    "   - There are ~5500 internet users and ~1500 Telephone users only\n",
    "   - There is almost 50/50 gender split among both Internet and telephone users\n",
    "   - Majority of Internet users pay their bills in monthly basis while most of the Telephone users pay their bills for 2 years\n",
    "   - Majority of Internet users opt out for paperless billings; however over 72% of Telephone users are getting their bills in the mail. Almost 50% of telephone users pay their bills via mailed checks while some use Bank Transfer and Credit cards as automatic payments. Electronic check is the least used payment method among the telephone users. On the other hand, interestingly, Electronic Check is the most used payment method among the Internet users and mailed check is the least used payment method which is right opposite.\n",
    "   - Telephone users spent at least \\\\$18 monthly. The highest spent by telephone users was \\\\$27 and the average was \\\\$21\n",
    "   - Internet users spent at least \\\\$60 monthly. The highest spent by internet users was \\\\$27 and the average was \\\\$77\n",
    "   - In average Internet users spent more than 3 times of telephone users and Internet users spent 5 times as much as the telephone users spent in monthly service\n",
    "      "
   ]
  },
  {
   "cell_type": "markdown",
   "metadata": {},
   "source": [
    "## Model Training and Testing"
   ]
  },
  {
   "cell_type": "code",
   "execution_count": 87,
   "metadata": {},
   "outputs": [],
   "source": [
    "Data = Data.fillna(value='No')"
   ]
  },
  {
   "cell_type": "code",
   "execution_count": 88,
   "metadata": {},
   "outputs": [
    {
     "name": "stdout",
     "output_type": "stream",
     "text": [
      "<class 'pandas.core.frame.DataFrame'>\n",
      "Int64Index: 7043 entries, 0 to 7042\n",
      "Data columns (total 20 columns):\n",
      " #   Column            Non-Null Count  Dtype         \n",
      "---  ------            --------------  -----         \n",
      " 0   customerID        7043 non-null   object        \n",
      " 1   BeginDate         7043 non-null   datetime64[ns]\n",
      " 2   EndDate           7043 non-null   object        \n",
      " 3   Type              7043 non-null   object        \n",
      " 4   PaperlessBilling  7043 non-null   object        \n",
      " 5   PaymentMethod     7043 non-null   object        \n",
      " 6   MonthlyCharges    7043 non-null   float64       \n",
      " 7   TotalCharges      7043 non-null   object        \n",
      " 8   gender            7043 non-null   object        \n",
      " 9   SeniorCitizen     7043 non-null   int64         \n",
      " 10  Partner           7043 non-null   object        \n",
      " 11  Dependents        7043 non-null   object        \n",
      " 12  InternetService   7043 non-null   object        \n",
      " 13  OnlineSecurity    7043 non-null   object        \n",
      " 14  OnlineBackup      7043 non-null   object        \n",
      " 15  DeviceProtection  7043 non-null   object        \n",
      " 16  TechSupport       7043 non-null   object        \n",
      " 17  StreamingTV       7043 non-null   object        \n",
      " 18  StreamingMovies   7043 non-null   object        \n",
      " 19  MultipleLines     7043 non-null   object        \n",
      "dtypes: datetime64[ns](1), float64(1), int64(1), object(17)\n",
      "memory usage: 1.1+ MB\n"
     ]
    }
   ],
   "source": [
    "Data.info()"
   ]
  },
  {
   "cell_type": "code",
   "execution_count": 89,
   "metadata": {},
   "outputs": [],
   "source": [
    "def client(row):\n",
    "    active = row['EndDate']\n",
    "    \n",
    "    if active != \"No\":\n",
    "        return 0\n",
    "    return 1"
   ]
  },
  {
   "cell_type": "code",
   "execution_count": 90,
   "metadata": {},
   "outputs": [],
   "source": [
    "Data['status'] = Data.apply(client,axis=1)"
   ]
  },
  {
   "cell_type": "code",
   "execution_count": 91,
   "metadata": {},
   "outputs": [
    {
     "data": {
      "text/html": [
       "<div>\n",
       "<style scoped>\n",
       "    .dataframe tbody tr th:only-of-type {\n",
       "        vertical-align: middle;\n",
       "    }\n",
       "\n",
       "    .dataframe tbody tr th {\n",
       "        vertical-align: top;\n",
       "    }\n",
       "\n",
       "    .dataframe thead th {\n",
       "        text-align: right;\n",
       "    }\n",
       "</style>\n",
       "<table border=\"1\" class=\"dataframe\">\n",
       "  <thead>\n",
       "    <tr style=\"text-align: right;\">\n",
       "      <th></th>\n",
       "      <th>customerID</th>\n",
       "      <th>BeginDate</th>\n",
       "      <th>EndDate</th>\n",
       "      <th>Type</th>\n",
       "      <th>PaperlessBilling</th>\n",
       "      <th>PaymentMethod</th>\n",
       "      <th>MonthlyCharges</th>\n",
       "      <th>TotalCharges</th>\n",
       "      <th>gender</th>\n",
       "      <th>SeniorCitizen</th>\n",
       "      <th>...</th>\n",
       "      <th>Dependents</th>\n",
       "      <th>InternetService</th>\n",
       "      <th>OnlineSecurity</th>\n",
       "      <th>OnlineBackup</th>\n",
       "      <th>DeviceProtection</th>\n",
       "      <th>TechSupport</th>\n",
       "      <th>StreamingTV</th>\n",
       "      <th>StreamingMovies</th>\n",
       "      <th>MultipleLines</th>\n",
       "      <th>status</th>\n",
       "    </tr>\n",
       "  </thead>\n",
       "  <tbody>\n",
       "    <tr>\n",
       "      <th>0</th>\n",
       "      <td>7590-VHVEG</td>\n",
       "      <td>2020-01-01</td>\n",
       "      <td>No</td>\n",
       "      <td>Month-to-month</td>\n",
       "      <td>Yes</td>\n",
       "      <td>Electronic check</td>\n",
       "      <td>29.85</td>\n",
       "      <td>29.85</td>\n",
       "      <td>Female</td>\n",
       "      <td>0</td>\n",
       "      <td>...</td>\n",
       "      <td>No</td>\n",
       "      <td>DSL</td>\n",
       "      <td>No</td>\n",
       "      <td>Yes</td>\n",
       "      <td>No</td>\n",
       "      <td>No</td>\n",
       "      <td>No</td>\n",
       "      <td>No</td>\n",
       "      <td>No</td>\n",
       "      <td>1</td>\n",
       "    </tr>\n",
       "    <tr>\n",
       "      <th>1</th>\n",
       "      <td>5575-GNVDE</td>\n",
       "      <td>2017-04-01</td>\n",
       "      <td>No</td>\n",
       "      <td>One year</td>\n",
       "      <td>No</td>\n",
       "      <td>Mailed check</td>\n",
       "      <td>56.95</td>\n",
       "      <td>1889.5</td>\n",
       "      <td>Male</td>\n",
       "      <td>0</td>\n",
       "      <td>...</td>\n",
       "      <td>No</td>\n",
       "      <td>DSL</td>\n",
       "      <td>Yes</td>\n",
       "      <td>No</td>\n",
       "      <td>Yes</td>\n",
       "      <td>No</td>\n",
       "      <td>No</td>\n",
       "      <td>No</td>\n",
       "      <td>No</td>\n",
       "      <td>1</td>\n",
       "    </tr>\n",
       "    <tr>\n",
       "      <th>2</th>\n",
       "      <td>3668-QPYBK</td>\n",
       "      <td>2019-10-01</td>\n",
       "      <td>2019-12-01 00:00:00</td>\n",
       "      <td>Month-to-month</td>\n",
       "      <td>Yes</td>\n",
       "      <td>Mailed check</td>\n",
       "      <td>53.85</td>\n",
       "      <td>108.15</td>\n",
       "      <td>Male</td>\n",
       "      <td>0</td>\n",
       "      <td>...</td>\n",
       "      <td>No</td>\n",
       "      <td>DSL</td>\n",
       "      <td>Yes</td>\n",
       "      <td>Yes</td>\n",
       "      <td>No</td>\n",
       "      <td>No</td>\n",
       "      <td>No</td>\n",
       "      <td>No</td>\n",
       "      <td>No</td>\n",
       "      <td>0</td>\n",
       "    </tr>\n",
       "    <tr>\n",
       "      <th>3</th>\n",
       "      <td>7795-CFOCW</td>\n",
       "      <td>2016-05-01</td>\n",
       "      <td>No</td>\n",
       "      <td>One year</td>\n",
       "      <td>No</td>\n",
       "      <td>Bank transfer (automatic)</td>\n",
       "      <td>42.30</td>\n",
       "      <td>1840.75</td>\n",
       "      <td>Male</td>\n",
       "      <td>0</td>\n",
       "      <td>...</td>\n",
       "      <td>No</td>\n",
       "      <td>DSL</td>\n",
       "      <td>Yes</td>\n",
       "      <td>No</td>\n",
       "      <td>Yes</td>\n",
       "      <td>Yes</td>\n",
       "      <td>No</td>\n",
       "      <td>No</td>\n",
       "      <td>No</td>\n",
       "      <td>1</td>\n",
       "    </tr>\n",
       "    <tr>\n",
       "      <th>4</th>\n",
       "      <td>9237-HQITU</td>\n",
       "      <td>2019-09-01</td>\n",
       "      <td>2019-11-01 00:00:00</td>\n",
       "      <td>Month-to-month</td>\n",
       "      <td>Yes</td>\n",
       "      <td>Electronic check</td>\n",
       "      <td>70.70</td>\n",
       "      <td>151.65</td>\n",
       "      <td>Female</td>\n",
       "      <td>0</td>\n",
       "      <td>...</td>\n",
       "      <td>No</td>\n",
       "      <td>Fiber optic</td>\n",
       "      <td>No</td>\n",
       "      <td>No</td>\n",
       "      <td>No</td>\n",
       "      <td>No</td>\n",
       "      <td>No</td>\n",
       "      <td>No</td>\n",
       "      <td>No</td>\n",
       "      <td>0</td>\n",
       "    </tr>\n",
       "  </tbody>\n",
       "</table>\n",
       "<p>5 rows × 21 columns</p>\n",
       "</div>"
      ],
      "text/plain": [
       "   customerID  BeginDate              EndDate            Type  \\\n",
       "0  7590-VHVEG 2020-01-01                   No  Month-to-month   \n",
       "1  5575-GNVDE 2017-04-01                   No        One year   \n",
       "2  3668-QPYBK 2019-10-01  2019-12-01 00:00:00  Month-to-month   \n",
       "3  7795-CFOCW 2016-05-01                   No        One year   \n",
       "4  9237-HQITU 2019-09-01  2019-11-01 00:00:00  Month-to-month   \n",
       "\n",
       "  PaperlessBilling              PaymentMethod  MonthlyCharges TotalCharges  \\\n",
       "0              Yes           Electronic check           29.85        29.85   \n",
       "1               No               Mailed check           56.95       1889.5   \n",
       "2              Yes               Mailed check           53.85       108.15   \n",
       "3               No  Bank transfer (automatic)           42.30      1840.75   \n",
       "4              Yes           Electronic check           70.70       151.65   \n",
       "\n",
       "   gender  SeniorCitizen  ... Dependents InternetService OnlineSecurity  \\\n",
       "0  Female              0  ...         No             DSL             No   \n",
       "1    Male              0  ...         No             DSL            Yes   \n",
       "2    Male              0  ...         No             DSL            Yes   \n",
       "3    Male              0  ...         No             DSL            Yes   \n",
       "4  Female              0  ...         No     Fiber optic             No   \n",
       "\n",
       "  OnlineBackup DeviceProtection TechSupport StreamingTV StreamingMovies  \\\n",
       "0          Yes               No          No          No              No   \n",
       "1           No              Yes          No          No              No   \n",
       "2          Yes               No          No          No              No   \n",
       "3           No              Yes         Yes          No              No   \n",
       "4           No               No          No          No              No   \n",
       "\n",
       "  MultipleLines status  \n",
       "0            No      1  \n",
       "1            No      1  \n",
       "2            No      0  \n",
       "3            No      1  \n",
       "4            No      0  \n",
       "\n",
       "[5 rows x 21 columns]"
      ]
     },
     "execution_count": 91,
     "metadata": {},
     "output_type": "execute_result"
    }
   ],
   "source": [
    "Data.head()"
   ]
  },
  {
   "cell_type": "code",
   "execution_count": 92,
   "metadata": {},
   "outputs": [],
   "source": [
    "data = Data.drop(['customerID','BeginDate','EndDate','SeniorCitizen'], axis=1)"
   ]
  },
  {
   "cell_type": "markdown",
   "metadata": {},
   "source": [
    "**One Hot Endcoding**"
   ]
  },
  {
   "cell_type": "code",
   "execution_count": 93,
   "metadata": {},
   "outputs": [],
   "source": [
    "data_ohe = pd.get_dummies(data, drop_first=True)\n",
    "target = data_ohe['status']\n",
    "features = data_ohe.drop('status', axis=1)"
   ]
  },
  {
   "cell_type": "code",
   "execution_count": 94,
   "metadata": {},
   "outputs": [
    {
     "data": {
      "text/plain": [
       "1    5174\n",
       "0    1869\n",
       "Name: status, dtype: int64"
      ]
     },
     "execution_count": 94,
     "metadata": {},
     "output_type": "execute_result"
    }
   ],
   "source": [
    "target.value_counts()"
   ]
  },
  {
   "cell_type": "markdown",
   "metadata": {},
   "source": [
    "Split the dataset to train_test"
   ]
  },
  {
   "cell_type": "code",
   "execution_count": 95,
   "metadata": {},
   "outputs": [],
   "source": [
    "features_train,feature_rem,target_train, target_rem = train_test_split(features,target,train_size=0.60,random_state=12345)\n",
    "features_valid,features_test,target_valid,target_test = train_test_split(feature_rem,target_rem, test_size=0.5,random_state=12345)"
   ]
  },
  {
   "cell_type": "markdown",
   "metadata": {},
   "source": [
    "### Model Training"
   ]
  },
  {
   "cell_type": "markdown",
   "metadata": {},
   "source": [
    "#### Logistic Regression"
   ]
  },
  {
   "cell_type": "code",
   "execution_count": 96,
   "metadata": {},
   "outputs": [
    {
     "name": "stdout",
     "output_type": "stream",
     "text": [
      "F1: 0.855650522317189\n",
      "0.83579352253552\n"
     ]
    }
   ],
   "source": [
    "model = LogisticRegression(random_state=12345,solver='liblinear')\n",
    "model.fit(features_train, target_train)\n",
    "predicted_valid = model.predict(features_valid)\n",
    "print('F1:', f1_score(target_valid, predicted_valid))\n",
    "\n",
    "probabilities_test = model.predict_proba(features_valid)\n",
    "probabilities_one_test = probabilities_test[:, 1]\n",
    "\n",
    "auc_roc = roc_auc_score(target_valid,probabilities_one_test)\n",
    "\n",
    "print(auc_roc)\n"
   ]
  },
  {
   "cell_type": "markdown",
   "metadata": {},
   "source": [
    "#### Decision Tree Classifier"
   ]
  },
  {
   "cell_type": "code",
   "execution_count": 97,
   "metadata": {},
   "outputs": [
    {
     "name": "stdout",
     "output_type": "stream",
     "text": [
      "0.815267175572519\n",
      "0.7107023965497026\n"
     ]
    }
   ],
   "source": [
    "model = DecisionTreeClassifier(random_state=12345,class_weight='balanced')\n",
    "model.fit(features_train, target_train)\n",
    "predicted_valid = model.predict(features_valid)\n",
    "print(f1_score(target_valid,predicted_valid))\n",
    "\n",
    "probabilities_test = model.predict_proba(features_valid)\n",
    "probabilities_one_test = probabilities_test[:, 1]\n",
    "\n",
    "auc_roc = roc_auc_score(target_valid,probabilities_one_test)\n",
    "\n",
    "print(auc_roc)"
   ]
  },
  {
   "cell_type": "markdown",
   "metadata": {},
   "source": [
    "#### Random Forest Classifier"
   ]
  },
  {
   "cell_type": "code",
   "execution_count": 98,
   "metadata": {},
   "outputs": [
    {
     "name": "stdout",
     "output_type": "stream",
     "text": [
      "estimators = 1 F1 Score: 0.806171648987464\n",
      "estimators = 2 F1 Score: 0.7799472295514512\n",
      "estimators = 3 F1 Score: 0.8344370860927153\n",
      "estimators = 4 F1 Score: 0.8186785891703924\n",
      "estimators = 5 F1 Score: 0.8400374181478016\n",
      "estimators = 6 F1 Score: 0.8347826086956522\n",
      "estimators = 7 F1 Score: 0.8447955390334574\n",
      "estimators = 8 F1 Score: 0.8406072106261859\n",
      "estimators = 9 F1 Score: 0.846971798428109\n"
     ]
    }
   ],
   "source": [
    "for estimators in range(1,10):\n",
    "    model = RandomForestClassifier(random_state=12345, n_estimators=estimators)\n",
    "    fit=model.fit(features_train, target_train)\n",
    "    predicted_valid = fit.predict(features_valid)\n",
    "    \n",
    "    print(\"estimators =\", estimators, \"F1 Score: \", end='')\n",
    "    print(f1_score(target_valid, predicted_valid))"
   ]
  },
  {
   "cell_type": "markdown",
   "metadata": {},
   "source": [
    "#### CatBoost Classifier"
   ]
  },
  {
   "cell_type": "code",
   "execution_count": 99,
   "metadata": {},
   "outputs": [
    {
     "name": "stdout",
     "output_type": "stream",
     "text": [
      "CatBoost model is fitted: True\n",
      "CatBoost model parameters:\n",
      "{'iterations': 5, 'learning_rate': 0.1}\n"
     ]
    }
   ],
   "source": [
    "from catboost import CatBoostClassifier\n",
    "\n",
    "clf = CatBoostClassifier(\n",
    "    iterations=5, \n",
    "    learning_rate=0.1, \n",
    "    #loss_function='CrossEntropy'\n",
    ")\n",
    "\n",
    "clf.fit(features_train, target_train,  \n",
    "        eval_set=(features_valid, target_valid), \n",
    "        verbose=False\n",
    ")\n",
    "\n",
    "print('CatBoost model is fitted: ' + str(clf.is_fitted()))\n",
    "print('CatBoost model parameters:')\n",
    "print(clf.get_params())"
   ]
  },
  {
   "cell_type": "code",
   "execution_count": 100,
   "metadata": {},
   "outputs": [
    {
     "data": {
      "application/vnd.jupyter.widget-view+json": {
       "model_id": "56e260e9d265499fac78a14079e4b454",
       "version_major": 2,
       "version_minor": 0
      },
      "text/plain": [
       "MetricVisualizer(layout=Layout(align_self='stretch', height='500px'))"
      ]
     },
     "metadata": {},
     "output_type": "display_data"
    },
    {
     "data": {
      "text/plain": [
       "<catboost.core.CatBoostClassifier at 0x2432d778250>"
      ]
     },
     "execution_count": 100,
     "metadata": {},
     "output_type": "execute_result"
    }
   ],
   "source": [
    "from catboost import CatBoostClassifier\n",
    "clf = CatBoostClassifier(\n",
    "    iterations=5,\n",
    "    random_state=12345,\n",
    "    learning_rate=0.1,\n",
    "    custom_loss=['AUC', 'Accuracy']\n",
    ")\n",
    "\n",
    "clf.fit(\n",
    "    features_train, target_train, \n",
    "    eval_set=(features_valid, target_valid),\n",
    "    verbose=False,\n",
    "    plot=True\n",
    ")"
   ]
  },
  {
   "cell_type": "markdown",
   "metadata": {},
   "source": [
    "#### Upsampling the training set"
   ]
  },
  {
   "cell_type": "code",
   "execution_count": 101,
   "metadata": {},
   "outputs": [],
   "source": [
    "features_zeros = features_train[target_train == 0]\n",
    "features_ones = features_train[target_train== 1]\n",
    "target_zeros = target_train[target_train == 0]\n",
    "target_ones = target_train[target_train == 1]"
   ]
  },
  {
   "cell_type": "code",
   "execution_count": 102,
   "metadata": {},
   "outputs": [
    {
     "name": "stdout",
     "output_type": "stream",
     "text": [
      "(1101, 6549)\n",
      "(3124, 6549)\n",
      "(1101,)\n",
      "(3124,)\n"
     ]
    }
   ],
   "source": [
    "print(features_zeros.shape)\n",
    "print(features_ones.shape)\n",
    "print(target_zeros.shape)\n",
    "print(target_ones.shape)"
   ]
  },
  {
   "cell_type": "code",
   "execution_count": 103,
   "metadata": {},
   "outputs": [],
   "source": [
    "features_upsampled = pd.concat([features_ones] + [features_zeros] * 3)\n",
    "target_upsampled = pd.concat([target_ones] + [target_zeros] * 3)"
   ]
  },
  {
   "cell_type": "code",
   "execution_count": 104,
   "metadata": {},
   "outputs": [],
   "source": [
    "features_upsampled, target_upsampled = shuffle(features_upsampled, target_upsampled, random_state=12345)"
   ]
  },
  {
   "cell_type": "code",
   "execution_count": 105,
   "metadata": {},
   "outputs": [
    {
     "name": "stdout",
     "output_type": "stream",
     "text": [
      "(6427, 6549)\n",
      "(6427,)\n"
     ]
    }
   ],
   "source": [
    "print(features_upsampled.shape)\n",
    "print(target_upsampled.shape)"
   ]
  },
  {
   "cell_type": "code",
   "execution_count": 106,
   "metadata": {},
   "outputs": [
    {
     "name": "stdout",
     "output_type": "stream",
     "text": [
      "(3303, 6549)\n",
      "(3124, 6549)\n",
      "(3303,)\n",
      "(3124,)\n"
     ]
    },
    {
     "name": "stderr",
     "output_type": "stream",
     "text": [
      "C:\\Users\\rsavy\\AppData\\Local\\Temp/ipykernel_19220/3641812669.py:1: UserWarning: Boolean Series key will be reindexed to match DataFrame index.\n",
      "  features_zeros = features_upsampled[target_train == 0]\n",
      "C:\\Users\\rsavy\\AppData\\Local\\Temp/ipykernel_19220/3641812669.py:2: UserWarning: Boolean Series key will be reindexed to match DataFrame index.\n",
      "  features_ones = features_upsampled[target_train == 1]\n"
     ]
    }
   ],
   "source": [
    "features_zeros = features_upsampled[target_train == 0]\n",
    "features_ones = features_upsampled[target_train == 1]\n",
    "target_zeros = target_upsampled[target_train == 0]\n",
    "target_ones = target_upsampled[target_train == 1]\n",
    "print(features_zeros.shape)\n",
    "print(features_ones.shape)\n",
    "print(target_zeros.shape)\n",
    "print(target_ones.shape)"
   ]
  },
  {
   "cell_type": "markdown",
   "metadata": {},
   "source": [
    "##### Logistic Regression on Upsampled training set"
   ]
  },
  {
   "cell_type": "code",
   "execution_count": 107,
   "metadata": {},
   "outputs": [
    {
     "name": "stdout",
     "output_type": "stream",
     "text": [
      "F1: 0.8146964856230032\n",
      "0.8365658630586723\n"
     ]
    }
   ],
   "source": [
    "model = LogisticRegression(random_state=12345, solver='liblinear')\n",
    "model.fit(features_upsampled,target_upsampled)\n",
    "predicted_valid= model.predict(features_valid)\n",
    "\n",
    "print('F1:', f1_score(target_valid, predicted_valid))\n",
    "\n",
    "probabilities_test = model.predict_proba(features_valid)\n",
    "probabilities_one_test = probabilities_test[:, 1]\n",
    "\n",
    "auc_roc = roc_auc_score(target_valid,probabilities_one_test)\n",
    "\n",
    "print(auc_roc)"
   ]
  },
  {
   "cell_type": "markdown",
   "metadata": {},
   "source": [
    "##### Decision Tree Classifier on upsampled training set"
   ]
  },
  {
   "cell_type": "code",
   "execution_count": 109,
   "metadata": {},
   "outputs": [
    {
     "name": "stdout",
     "output_type": "stream",
     "text": [
      "F1: 0.8098918083462133\n",
      "0.7151643836314788\n"
     ]
    }
   ],
   "source": [
    "model = DecisionTreeClassifier(random_state=12345)\n",
    "model.fit(features_upsampled,target_upsampled)\n",
    "predicted_valid= model.predict(features_valid)\n",
    "\n",
    "print('F1:', f1_score(target_valid, predicted_valid))\n",
    "\n",
    "probabilities_test = model.predict_proba(features_valid)\n",
    "probabilities_one_test = probabilities_test[:, 1]\n",
    "\n",
    "auc_roc = roc_auc_score(target_valid,probabilities_one_test)\n",
    "\n",
    "print(auc_roc)"
   ]
  },
  {
   "cell_type": "markdown",
   "metadata": {},
   "source": [
    "##### Random Forest Classifier on upsampled dataset"
   ]
  },
  {
   "cell_type": "code",
   "execution_count": 110,
   "metadata": {},
   "outputs": [
    {
     "name": "stdout",
     "output_type": "stream",
     "text": [
      "estimators = 1 : 0.7912646013204673\n",
      "estimators = 2 : 0.7355134825014342\n",
      "estimators = 3 : 0.8122137404580153\n",
      "estimators = 4 : 0.784524449220849\n",
      "estimators = 5 : 0.815935451336359\n",
      "estimators = 6 : 0.802088772845953\n",
      "estimators = 7 : 0.8238835925740091\n",
      "estimators = 8 : 0.8062015503875969\n",
      "estimators = 9 : 0.8264132066033016\n",
      "estimators = 10 : 0.8159509202453987\n",
      "estimators = 11 : 0.831505483549352\n",
      "estimators = 12 : 0.8189216683621567\n",
      "estimators = 13 : 0.8266932270916335\n",
      "estimators = 14 : 0.8213740458015266\n",
      "estimators = 15 : 0.8317617866004963\n",
      "estimators = 16 : 0.8252525252525253\n",
      "estimators = 17 : 0.8313373253493013\n",
      "estimators = 18 : 0.8280060882800608\n",
      "estimators = 19 : 0.8333333333333334\n",
      "estimators = 20 : 0.8308934881373043\n",
      "estimators = 21 : 0.8355822088955522\n",
      "estimators = 22 : 0.8307225871652351\n",
      "estimators = 23 : 0.8348348348348348\n",
      "estimators = 24 : 0.8320726172465962\n",
      "estimators = 25 : 0.8344965104685943\n",
      "estimators = 26 : 0.8333333333333334\n",
      "estimators = 27 : 0.8349127182044888\n",
      "estimators = 28 : 0.8333333333333334\n",
      "estimators = 29 : 0.8359102244389028\n"
     ]
    }
   ],
   "source": [
    "for estimators in range(1,30):\n",
    "    model = RandomForestClassifier(random_state=12345, n_estimators=estimators)\n",
    "    model.fit(features_upsampled, target_upsampled)\n",
    "    predicted_valid = model.predict(features_valid)\n",
    "   \n",
    "    \n",
    "    print(\"estimators =\", estimators, \": \", end='')\n",
    "    print(f1_score(target_valid, predicted_valid))"
   ]
  },
  {
   "cell_type": "code",
   "execution_count": 111,
   "metadata": {},
   "outputs": [
    {
     "name": "stdout",
     "output_type": "stream",
     "text": [
      "F1: 0.8166491043203372\n",
      "0.8270823880870934\n"
     ]
    }
   ],
   "source": [
    "model = RandomForestClassifier(random_state=12345, max_depth = 50, n_estimators=200)\n",
    "\n",
    "model.fit(features_upsampled, target_upsampled)\n",
    "predicted_valid = model.predict(features_valid)\n",
    "\n",
    "print('F1:', f1_score(target_valid, predicted_valid))\n",
    "\n",
    "probabilities_test = model.predict_proba(features_valid)\n",
    "probabilities_one_test = probabilities_test[:, 1]\n",
    "\n",
    "auc_roc = roc_auc_score(target_valid,probabilities_one_test)\n",
    "\n",
    "print(auc_roc)"
   ]
  },
  {
   "cell_type": "markdown",
   "metadata": {},
   "source": [
    "#### CatBoost Classifier"
   ]
  },
  {
   "cell_type": "code",
   "execution_count": 112,
   "metadata": {},
   "outputs": [
    {
     "name": "stdout",
     "output_type": "stream",
     "text": [
      "CatBoost model is fitted: True\n",
      "CatBoost model parameters:\n",
      "{'iterations': 5, 'learning_rate': 0.1}\n"
     ]
    }
   ],
   "source": [
    "from catboost import CatBoostClassifier\n",
    "\n",
    "clf = CatBoostClassifier(\n",
    "    iterations=5, \n",
    "    learning_rate=0.1, \n",
    "    #loss_function='CrossEntropy'\n",
    ")\n",
    "\n",
    "clf.fit(features_upsampled, target_upsampled,  \n",
    "        eval_set=(features_valid, target_valid), \n",
    "        verbose=False\n",
    ")\n",
    "\n",
    "print('CatBoost model is fitted: ' + str(clf.is_fitted()))\n",
    "print('CatBoost model parameters:')\n",
    "print(clf.get_params())"
   ]
  },
  {
   "cell_type": "code",
   "execution_count": 113,
   "metadata": {},
   "outputs": [
    {
     "data": {
      "application/vnd.jupyter.widget-view+json": {
       "model_id": "618e213a42b74d879f228ed2956bfee0",
       "version_major": 2,
       "version_minor": 0
      },
      "text/plain": [
       "MetricVisualizer(layout=Layout(align_self='stretch', height='500px'))"
      ]
     },
     "metadata": {},
     "output_type": "display_data"
    },
    {
     "data": {
      "text/plain": [
       "<catboost.core.CatBoostClassifier at 0x24339696be0>"
      ]
     },
     "execution_count": 113,
     "metadata": {},
     "output_type": "execute_result"
    }
   ],
   "source": [
    "from catboost import CatBoostClassifier\n",
    "\n",
    "clf = CatBoostClassifier(\n",
    "    iterations=100,\n",
    "    random_state=12345,\n",
    "    learning_rate=0.005,\n",
    "    custom_loss=['AUC', 'Accuracy']\n",
    ")\n",
    "\n",
    "clf.fit(\n",
    "    features_upsampled, target_upsampled, \n",
    "    eval_set=(features_valid, target_valid),\n",
    "    verbose=False,\n",
    "    plot=True\n",
    ")"
   ]
  },
  {
   "cell_type": "markdown",
   "metadata": {},
   "source": [
    "In the model training, the best performing model is Random Forest Classifier with 77% accuracy and 89% score on auc_roc when 9 estimators are used in the upsampled dataset."
   ]
  },
  {
   "cell_type": "markdown",
   "metadata": {},
   "source": [
    "### Model Testing"
   ]
  },
  {
   "cell_type": "markdown",
   "metadata": {},
   "source": [
    "Picking the best model and parameters from previous step and measuring f1 score in test set"
   ]
  },
  {
   "cell_type": "markdown",
   "metadata": {},
   "source": [
    "#### Random Forest Classifier in upsampled train set"
   ]
  },
  {
   "cell_type": "code",
   "execution_count": 114,
   "metadata": {},
   "outputs": [
    {
     "name": "stdout",
     "output_type": "stream",
     "text": [
      "F1: 0.8094488188976378\n",
      "AUC-ROC Score in the test set is 0.7973867878180096\n"
     ]
    }
   ],
   "source": [
    "model = RandomForestClassifier(random_state=12345,max_depth = 50, n_estimators=200)\n",
    "model.fit(features_upsampled, target_upsampled)\n",
    "predicted_test= model.predict(features_test)\n",
    "\n",
    "print('F1:', f1_score(target_test, predicted_test))\n",
    "\n",
    "probabilities_test = model.predict_proba(features_test)\n",
    "probabilities_one_test = probabilities_test[:, 1]\n",
    "\n",
    "auc_roc = roc_auc_score(target_test,probabilities_one_test)\n",
    "\n",
    "print(\"AUC-ROC Score in the test set is\",auc_roc)"
   ]
  },
  {
   "cell_type": "markdown",
   "metadata": {},
   "source": [
    "#### Random Forest Classifier in original trainset"
   ]
  },
  {
   "cell_type": "code",
   "execution_count": 115,
   "metadata": {},
   "outputs": [
    {
     "name": "stdout",
     "output_type": "stream",
     "text": [
      "F1: 0.8514588859416446\n",
      "AUC-ROC Score in the test set is 0.7967245579647384\n"
     ]
    }
   ],
   "source": [
    "model = RandomForestClassifier(random_state=12345,max_depth = 50, n_estimators=200)\n",
    "model.fit(features_train, target_train)\n",
    "predicted_test= model.predict(features_test)\n",
    "\n",
    "print('F1:', f1_score(target_test, predicted_test))\n",
    "\n",
    "probabilities_test = model.predict_proba(features_test)\n",
    "probabilities_one_test = probabilities_test[:, 1]\n",
    "\n",
    "auc_roc = roc_auc_score(target_test,probabilities_one_test)\n",
    "\n",
    "print(\"AUC-ROC Score in the test set is\",auc_roc)"
   ]
  },
  {
   "cell_type": "markdown",
   "metadata": {},
   "source": [
    "#### Logistic Regression in upsampled train set"
   ]
  },
  {
   "cell_type": "code",
   "execution_count": 116,
   "metadata": {},
   "outputs": [
    {
     "name": "stdout",
     "output_type": "stream",
     "text": [
      "F1: 0.8059227921734531\n",
      "AUC-ROC Score in the test set is 0.8088688151783588\n"
     ]
    }
   ],
   "source": [
    "model = LogisticRegression(random_state=12345,class_weight='balanced',solver='liblinear')\n",
    "model.fit(features_upsampled,target_upsampled)\n",
    "predicted_test= model.predict(features_test)\n",
    "\n",
    "print('F1:', f1_score(target_test, predicted_test))\n",
    "\n",
    "probabilities_test = model.predict_proba(features_test)\n",
    "probabilities_one_test = probabilities_test[:, 1]\n",
    "\n",
    "auc_roc = roc_auc_score(target_test,probabilities_one_test)\n",
    "\n",
    "print(\"AUC-ROC Score in the test set is\",auc_roc)"
   ]
  },
  {
   "cell_type": "markdown",
   "metadata": {},
   "source": [
    "#### Logistic Regression in original trainset"
   ]
  },
  {
   "cell_type": "code",
   "execution_count": 117,
   "metadata": {},
   "outputs": [
    {
     "name": "stdout",
     "output_type": "stream",
     "text": [
      "F1: 0.8004257583821182\n",
      "AUC-ROC Score in the test set is 0.8096969190484149\n"
     ]
    }
   ],
   "source": [
    "model = LogisticRegression(random_state=12345,class_weight='balanced',solver='liblinear')\n",
    "model.fit(features_train,target_train)\n",
    "predicted_test= model.predict(features_test)\n",
    "\n",
    "print('F1:', f1_score(target_test, predicted_test))\n",
    "\n",
    "probabilities_test = model.predict_proba(features_test)\n",
    "probabilities_one_test = probabilities_test[:, 1]\n",
    "\n",
    "auc_roc = roc_auc_score(target_test,probabilities_one_test)\n",
    "\n",
    "print(\"AUC-ROC Score in the test set is\",auc_roc)"
   ]
  },
  {
   "cell_type": "markdown",
   "metadata": {},
   "source": [
    "#### CatBoost Classifier in upsampled trainset"
   ]
  },
  {
   "cell_type": "code",
   "execution_count": 118,
   "metadata": {},
   "outputs": [
    {
     "data": {
      "application/vnd.jupyter.widget-view+json": {
       "model_id": "98fe1a5d70b24dbea06860f78ea1b914",
       "version_major": 2,
       "version_minor": 0
      },
      "text/plain": [
       "MetricVisualizer(layout=Layout(align_self='stretch', height='500px'))"
      ]
     },
     "metadata": {},
     "output_type": "display_data"
    },
    {
     "name": "stdout",
     "output_type": "stream",
     "text": [
      "{'learn': {'Accuracy': 0.785125252839583, 'Logloss': 0.44602376305764624, 'AUC': 0.8655796557895802}, 'validation': {'Accuracy': 0.7196593328601846, 'Logloss': 0.5294694377486461, 'AUC': 0.8109517369921849}}\n"
     ]
    }
   ],
   "source": [
    "from catboost import CatBoostClassifier, Pool\n",
    "eval_dataset = Pool(features_test, target_test)\n",
    "clf = CatBoostClassifier(\n",
    "    eval_metric = 'AUC',\n",
    "    random_seed=42,\n",
    "    learning_rate=0.3,\n",
    "    iterations=50,\n",
    "    max_depth=4,\n",
    "    custom_metric=['Accuracy','AUC:hints=skip_train~false']\n",
    "\n",
    ")\n",
    "\n",
    "clf.fit(features_upsampled, target_upsampled,  \n",
    "        eval_set=eval_dataset,\n",
    "        verbose=False,\n",
    "        plot=True\n",
    "       )\n",
    "print(clf.get_best_score())"
   ]
  },
  {
   "cell_type": "markdown",
   "metadata": {},
   "source": [
    "#### CatBoost Classifier in original trainset"
   ]
  },
  {
   "cell_type": "code",
   "execution_count": 119,
   "metadata": {},
   "outputs": [
    {
     "data": {
      "application/vnd.jupyter.widget-view+json": {
       "model_id": "7d36b8b528f14f6dbc8a6920519675cc",
       "version_major": 2,
       "version_minor": 0
      },
      "text/plain": [
       "MetricVisualizer(layout=Layout(align_self='stretch', height='500px'))"
      ]
     },
     "metadata": {},
     "output_type": "display_data"
    },
    {
     "name": "stdout",
     "output_type": "stream",
     "text": [
      "{'learn': {'Accuracy': 0.7957396449704142, 'Logloss': 0.4029746589217374, 'AUC': 0.8578367239187749}, 'validation': {'Accuracy': 0.7771469127040455, 'Logloss': 0.46243162671982874, 'AUC': 0.8103946028900065}}\n"
     ]
    }
   ],
   "source": [
    "from catboost import CatBoostClassifier, Pool\n",
    "eval_dataset = Pool(features_test, target_test)\n",
    "clf = CatBoostClassifier(\n",
    "    eval_metric = 'AUC',\n",
    "    random_seed=42,\n",
    "    learning_rate=0.3,\n",
    "    iterations=50,\n",
    "    max_depth=4,\n",
    "    custom_metric=['Accuracy','AUC:hints=skip_train~false']\n",
    "\n",
    ")\n",
    "\n",
    "clf.fit(features_train, target_train,  \n",
    "        eval_set=eval_dataset,\n",
    "        verbose=False,\n",
    "        plot=True\n",
    "       )\n",
    "print(clf.get_best_score())"
   ]
  },
  {
   "cell_type": "markdown",
   "metadata": {},
   "source": [
    "#### Conclusion"
   ]
  },
  {
   "cell_type": "markdown",
   "metadata": {},
   "source": [
    "The best AUC score was achieved in CatBoost Classifier original dataset with 80% accuracy and 86% AUC_ROC score in learning and 81% AUC-ROC score in validation of test set."
   ]
  },
  {
   "cell_type": "markdown",
   "metadata": {},
   "source": [
    "## Detailed Conclusions"
   ]
  },
  {
   "cell_type": "markdown",
   "metadata": {},
   "source": [
    "### Data Exploration and pre-processing\n",
    "\n",
    "\n",
    "\n",
    "- The contract dataframe contains the client's information on the contract plan such as start date, end date, plan type, payment method, payment amount, etc.\n",
    "- The Personal dataframe contain client's demographic information\n",
    "- The internet dataframe contains information on the internet service and other software and security services that clients are enrolled in.\n",
    "- The Phone dataframe contains information on telephone service.\n",
    "- There are no duplicated in all 4 dataframes\n",
    "- Merged all data sources into 1 dataframe\n",
    "- Converted BeginDate and EndDate to datatime datatype, Total Charges to numeric datatype\n",
    "\n",
    "### Compared the monthly payment distribution (MonthlyCharges) of all active clients with the clients who have left.\n",
    "\n",
    "   - Sliced the dataframe into active and inactive clients data\n",
    "   - Calculated the statistical summary on monthly and total spent of both type of clients\n",
    "   - There are 5174 active clients\n",
    "   - The average monthly spent of active client is \\\\$61 which is lower than the monthly spent of the client who left (\\\\$74)\n",
    "   - The monthly minimum spent is \\\\$18 and the maximum spent is \\\\$119 for both active and inactive clients\n",
    "   - The active client's monthly spent distribution is not normally distributed. Looks like lost of the client paid around \\\\$20 for monthly bill but rest of the distribution look normal.\n",
    "   - The inactive client's monthly spent distribution is very random. The reasons could be some of the client paid very high monthly bill while some paid very low due to the different services they were using.\n",
    "   \n",
    "   \n",
    "   \n",
    "### Compare the behavior of the telephone users and Internet users\n",
    "   - There are ~5500 internet users and ~1500 Telephone users only\n",
    "   - There is almost 50/50 gender split among both Internet and telephone users\n",
    "   - Majority of Internet users pay their bills in monthly basis while most of the Telephone users pay their bills for 2 years\n",
    "   - Majority of Internet users opt out for paperless billings; however over 72% of Telephone users are getting their bills in the mail. Almost 50% of telephone users pay their bills via mailed checks while some use Bank Transfer and Credit cards as automatic payments. Electronic check is the least used payment method among the telephone users. On the other hand, interestingly, Electronic Check is the most used payment method among the Internet users and mailed check is the least used payment method which is right opposite.\n",
    "   - Telephone users spent at least \\\\$18 monthly. The highest spent by telephone users was \\\\$27 and the average was \\\\$21\n",
    "   - Internet users spent at least \\\\$60 monthly. The highest spent by internet users was \\\\$27 and the average was \\\\$77\n",
    "   - In average Internet users spent more than 3 times of telephone users and Internet users spent 5 times as much as the telephone users spent in monthly service\n",
    "      \n",
    "      \n",
    "### Model Training and Testing\n",
    "\n",
    "   - Splited the dataset into train, valid and test set\n",
    "   - Performed one hot encoding and replaced all Nans with No\n",
    "   - Trained the model in Logistic Regression, Random Forest, CatBoost and Decision Tree Classifier using original dataset\n",
    "   - Upsampled the zeros by 3 times so that we have a equal proportion of zeros and ones, splitted the upsampled data into train/validation and test set. Trained and tested the model with upsampled dataset as well as original dataset.\n",
    "   - Took the best performing model for final evaluation.\n",
    "\n",
    "  \n",
    " \n",
    "**The best AUC score was achieved in CatBoost Classifier original dataset with 80% accuracy and 86% AUC_ROC score in learning and 81% AUC-ROC score in the validation of test set.**"
   ]
  }
 ],
 "metadata": {
  "ExecuteTimeLog": [
   {
    "duration": 69,
    "start_time": "2022-06-01T10:52:16.963Z"
   },
   {
    "duration": 1537,
    "start_time": "2022-06-01T10:52:33.358Z"
   },
   {
    "duration": 117,
    "start_time": "2022-06-01T10:52:37.299Z"
   },
   {
    "duration": 59,
    "start_time": "2022-06-01T10:52:45.598Z"
   },
   {
    "duration": 123,
    "start_time": "2022-06-01T10:53:27.028Z"
   },
   {
    "duration": 76,
    "start_time": "2022-06-01T10:54:28.006Z"
   },
   {
    "duration": 99,
    "start_time": "2022-06-01T10:55:01.576Z"
   },
   {
    "duration": 60,
    "start_time": "2022-06-01T10:58:54.502Z"
   },
   {
    "duration": 49,
    "start_time": "2022-06-01T10:59:02.459Z"
   },
   {
    "duration": 52,
    "start_time": "2022-06-01T10:59:09.707Z"
   },
   {
    "duration": 50,
    "start_time": "2022-06-01T10:59:17.385Z"
   },
   {
    "duration": 63,
    "start_time": "2022-06-01T11:04:45.975Z"
   },
   {
    "duration": 69,
    "start_time": "2022-06-01T11:05:01.124Z"
   },
   {
    "duration": 61,
    "start_time": "2022-06-01T11:05:37.314Z"
   },
   {
    "duration": 56,
    "start_time": "2022-06-01T11:05:59.431Z"
   },
   {
    "duration": 56,
    "start_time": "2022-06-01T11:06:10.991Z"
   },
   {
    "duration": 1492,
    "start_time": "2022-06-04T14:42:06.069Z"
   },
   {
    "duration": 134,
    "start_time": "2022-06-04T14:42:07.563Z"
   },
   {
    "duration": 175,
    "start_time": "2022-06-04T14:42:07.698Z"
   },
   {
    "duration": 59,
    "start_time": "2022-06-04T14:42:07.875Z"
   },
   {
    "duration": 95,
    "start_time": "2022-06-04T14:42:07.935Z"
   },
   {
    "duration": 116,
    "start_time": "2022-06-04T14:42:34.910Z"
   },
   {
    "duration": 14,
    "start_time": "2022-06-04T14:42:39.799Z"
   },
   {
    "duration": 12,
    "start_time": "2022-06-04T14:43:07.302Z"
   },
   {
    "duration": 18,
    "start_time": "2022-06-04T14:52:53.423Z"
   },
   {
    "duration": 10,
    "start_time": "2022-06-04T14:53:31.504Z"
   },
   {
    "duration": 11,
    "start_time": "2022-06-04T14:53:50.944Z"
   },
   {
    "duration": 15,
    "start_time": "2022-06-04T14:53:54.156Z"
   },
   {
    "duration": 10,
    "start_time": "2022-06-04T14:54:33.671Z"
   },
   {
    "duration": 8,
    "start_time": "2022-06-04T14:54:55.343Z"
   },
   {
    "duration": 16,
    "start_time": "2022-06-04T14:55:16.659Z"
   },
   {
    "duration": 11,
    "start_time": "2022-06-04T14:55:38.050Z"
   },
   {
    "duration": 8,
    "start_time": "2022-06-04T14:55:59.468Z"
   },
   {
    "duration": 8,
    "start_time": "2022-06-04T14:59:23.674Z"
   },
   {
    "duration": 7,
    "start_time": "2022-06-04T14:59:50.331Z"
   },
   {
    "duration": 16,
    "start_time": "2022-06-04T15:13:13.611Z"
   },
   {
    "duration": 10,
    "start_time": "2022-06-05T22:45:25.453Z"
   },
   {
    "duration": 18,
    "start_time": "2022-06-05T22:45:32.977Z"
   },
   {
    "duration": 19,
    "start_time": "2022-06-05T22:45:44.676Z"
   },
   {
    "duration": 512,
    "start_time": "2022-06-05T22:46:11.394Z"
   },
   {
    "duration": 44,
    "start_time": "2022-06-05T22:52:01.763Z"
   },
   {
    "duration": 20,
    "start_time": "2022-06-05T22:52:07.093Z"
   },
   {
    "duration": 21,
    "start_time": "2022-06-05T22:52:12.334Z"
   },
   {
    "duration": 21,
    "start_time": "2022-06-05T22:52:23.337Z"
   },
   {
    "duration": 8,
    "start_time": "2022-06-05T22:55:49.213Z"
   },
   {
    "duration": 26,
    "start_time": "2022-06-05T22:55:58.131Z"
   },
   {
    "duration": 9,
    "start_time": "2022-06-05T22:56:55.603Z"
   },
   {
    "duration": 24,
    "start_time": "2022-06-05T22:57:22.893Z"
   },
   {
    "duration": 25,
    "start_time": "2022-06-05T22:57:34.839Z"
   },
   {
    "duration": 8,
    "start_time": "2022-06-05T22:59:39.841Z"
   },
   {
    "duration": 9,
    "start_time": "2022-06-05T23:01:33.835Z"
   },
   {
    "duration": 10,
    "start_time": "2022-06-05T23:22:54.134Z"
   },
   {
    "duration": 9,
    "start_time": "2022-06-05T23:23:05.052Z"
   },
   {
    "duration": 55,
    "start_time": "2022-06-07T01:05:18.440Z"
   },
   {
    "duration": 77,
    "start_time": "2022-06-07T01:05:28.562Z"
   },
   {
    "duration": 7,
    "start_time": "2022-06-07T01:05:40.900Z"
   },
   {
    "duration": 1556,
    "start_time": "2022-06-07T01:06:01.389Z"
   },
   {
    "duration": 165,
    "start_time": "2022-06-07T01:06:02.947Z"
   },
   {
    "duration": 120,
    "start_time": "2022-06-07T01:06:03.114Z"
   },
   {
    "duration": 76,
    "start_time": "2022-06-07T01:06:03.236Z"
   },
   {
    "duration": 64,
    "start_time": "2022-06-07T01:06:03.313Z"
   },
   {
    "duration": 22,
    "start_time": "2022-06-07T01:06:03.378Z"
   },
   {
    "duration": 12,
    "start_time": "2022-06-07T01:06:03.401Z"
   },
   {
    "duration": 8,
    "start_time": "2022-06-07T01:06:03.414Z"
   },
   {
    "duration": 11,
    "start_time": "2022-06-07T01:06:03.424Z"
   },
   {
    "duration": 10,
    "start_time": "2022-06-07T01:06:03.437Z"
   },
   {
    "duration": 37,
    "start_time": "2022-06-07T01:06:03.464Z"
   },
   {
    "duration": 6,
    "start_time": "2022-06-07T01:06:03.503Z"
   },
   {
    "duration": 8,
    "start_time": "2022-06-07T01:06:03.511Z"
   },
   {
    "duration": 17,
    "start_time": "2022-06-07T01:06:03.521Z"
   },
   {
    "duration": 23,
    "start_time": "2022-06-07T01:06:03.540Z"
   },
   {
    "duration": 73,
    "start_time": "2022-06-07T01:06:03.565Z"
   },
   {
    "duration": 46,
    "start_time": "2022-06-07T01:07:50.596Z"
   },
   {
    "duration": 16,
    "start_time": "2022-06-07T01:08:30.797Z"
   },
   {
    "duration": 25,
    "start_time": "2022-06-07T01:08:50.947Z"
   },
   {
    "duration": 18,
    "start_time": "2022-06-07T01:09:13.649Z"
   },
   {
    "duration": 50,
    "start_time": "2022-06-07T01:09:48.295Z"
   },
   {
    "duration": 11,
    "start_time": "2022-06-07T01:10:31.695Z"
   },
   {
    "duration": 15,
    "start_time": "2022-06-07T01:10:39.934Z"
   },
   {
    "duration": 35,
    "start_time": "2022-06-07T01:11:25.357Z"
   },
   {
    "duration": 4,
    "start_time": "2022-06-07T01:11:38.096Z"
   },
   {
    "duration": 73,
    "start_time": "2022-06-07T01:11:38.102Z"
   },
   {
    "duration": 35,
    "start_time": "2022-06-07T01:11:38.176Z"
   },
   {
    "duration": 33,
    "start_time": "2022-06-07T01:11:38.212Z"
   },
   {
    "duration": 36,
    "start_time": "2022-06-07T01:11:38.247Z"
   },
   {
    "duration": 16,
    "start_time": "2022-06-07T01:11:38.284Z"
   },
   {
    "duration": 12,
    "start_time": "2022-06-07T01:11:38.302Z"
   },
   {
    "duration": 11,
    "start_time": "2022-06-07T01:11:38.316Z"
   },
   {
    "duration": 13,
    "start_time": "2022-06-07T01:11:38.329Z"
   },
   {
    "duration": 10,
    "start_time": "2022-06-07T01:11:38.344Z"
   },
   {
    "duration": 44,
    "start_time": "2022-06-07T01:11:38.356Z"
   },
   {
    "duration": 8,
    "start_time": "2022-06-07T01:11:38.402Z"
   },
   {
    "duration": 7,
    "start_time": "2022-06-07T01:11:38.557Z"
   },
   {
    "duration": 85,
    "start_time": "2022-06-07T01:11:38.567Z"
   },
   {
    "duration": 20,
    "start_time": "2022-06-07T01:11:38.654Z"
   },
   {
    "duration": 37,
    "start_time": "2022-06-07T01:11:38.682Z"
   },
   {
    "duration": 242,
    "start_time": "2022-06-07T01:14:41.363Z"
   },
   {
    "duration": 30,
    "start_time": "2022-06-07T01:15:20.185Z"
   },
   {
    "duration": 23,
    "start_time": "2022-06-07T01:17:04.434Z"
   },
   {
    "duration": 109,
    "start_time": "2022-06-07T01:20:48.363Z"
   },
   {
    "duration": 8,
    "start_time": "2022-06-07T01:21:04.041Z"
   },
   {
    "duration": 6,
    "start_time": "2022-06-07T01:21:30.424Z"
   },
   {
    "duration": 21,
    "start_time": "2022-06-07T01:21:37.978Z"
   },
   {
    "duration": 9,
    "start_time": "2022-06-07T01:21:40.802Z"
   },
   {
    "duration": 226,
    "start_time": "2022-06-07T01:22:52.711Z"
   },
   {
    "duration": 172,
    "start_time": "2022-06-07T01:23:04.644Z"
   },
   {
    "duration": 167,
    "start_time": "2022-06-07T01:24:47.232Z"
   },
   {
    "duration": 18,
    "start_time": "2022-06-07T01:25:02.426Z"
   },
   {
    "duration": 24,
    "start_time": "2022-06-07T01:30:14.492Z"
   },
   {
    "duration": 14,
    "start_time": "2022-06-07T01:30:24.871Z"
   },
   {
    "duration": 15,
    "start_time": "2022-06-07T01:30:25.795Z"
   },
   {
    "duration": 173,
    "start_time": "2022-06-07T01:30:27.941Z"
   },
   {
    "duration": 173,
    "start_time": "2022-06-07T01:31:49.725Z"
   },
   {
    "duration": 174,
    "start_time": "2022-06-07T01:32:02.138Z"
   },
   {
    "duration": 159,
    "start_time": "2022-06-07T01:32:06.388Z"
   },
   {
    "duration": 199,
    "start_time": "2022-06-07T01:32:12.833Z"
   },
   {
    "duration": 279,
    "start_time": "2022-06-07T01:32:20.778Z"
   },
   {
    "duration": 14,
    "start_time": "2022-06-07T01:32:33.676Z"
   },
   {
    "duration": 14,
    "start_time": "2022-06-07T01:33:03.955Z"
   },
   {
    "duration": 14,
    "start_time": "2022-06-07T01:33:04.507Z"
   },
   {
    "duration": 213,
    "start_time": "2022-06-07T01:33:12.086Z"
   },
   {
    "duration": 230,
    "start_time": "2022-06-07T01:34:09.702Z"
   },
   {
    "duration": 233,
    "start_time": "2022-06-07T01:34:15.656Z"
   },
   {
    "duration": 208,
    "start_time": "2022-06-07T01:34:34.582Z"
   },
   {
    "duration": 219,
    "start_time": "2022-06-07T01:34:45.863Z"
   },
   {
    "duration": 212,
    "start_time": "2022-06-07T01:34:51.055Z"
   },
   {
    "duration": 184,
    "start_time": "2022-06-07T01:44:57.478Z"
   },
   {
    "duration": 212,
    "start_time": "2022-06-07T01:45:05.198Z"
   },
   {
    "duration": 17,
    "start_time": "2022-06-07T01:56:02.486Z"
   },
   {
    "duration": 49,
    "start_time": "2022-06-07T01:57:57.872Z"
   },
   {
    "duration": 61,
    "start_time": "2022-06-07T02:03:13.246Z"
   },
   {
    "duration": 33,
    "start_time": "2022-06-07T02:03:17.362Z"
   },
   {
    "duration": 41,
    "start_time": "2022-06-07T02:03:31.960Z"
   },
   {
    "duration": 11,
    "start_time": "2022-06-07T02:03:35.835Z"
   },
   {
    "duration": 17,
    "start_time": "2022-06-07T02:03:37.199Z"
   },
   {
    "duration": 205,
    "start_time": "2022-06-07T02:03:40.531Z"
   },
   {
    "duration": 227,
    "start_time": "2022-06-07T02:03:58.815Z"
   },
   {
    "duration": 338,
    "start_time": "2022-06-07T02:04:10.080Z"
   },
   {
    "duration": 163,
    "start_time": "2022-06-07T02:04:15.496Z"
   },
   {
    "duration": 8,
    "start_time": "2022-06-07T02:04:20.224Z"
   },
   {
    "duration": 16,
    "start_time": "2022-06-07T02:04:22.533Z"
   },
   {
    "duration": 173,
    "start_time": "2022-06-07T02:04:39.924Z"
   },
   {
    "duration": 168,
    "start_time": "2022-06-07T02:08:34.992Z"
   },
   {
    "duration": 185,
    "start_time": "2022-06-07T02:10:30.701Z"
   },
   {
    "duration": 7,
    "start_time": "2022-06-07T02:10:31.196Z"
   },
   {
    "duration": 16,
    "start_time": "2022-06-07T02:10:35.020Z"
   },
   {
    "duration": 180,
    "start_time": "2022-06-07T02:11:31.420Z"
   },
   {
    "duration": 168,
    "start_time": "2022-06-07T02:11:42.089Z"
   },
   {
    "duration": 453,
    "start_time": "2022-06-07T02:17:13.409Z"
   },
   {
    "duration": 389,
    "start_time": "2022-06-07T02:17:42.128Z"
   },
   {
    "duration": 5,
    "start_time": "2022-06-07T02:17:49.847Z"
   },
   {
    "duration": 52,
    "start_time": "2022-06-07T02:19:56.241Z"
   },
   {
    "duration": 30,
    "start_time": "2022-06-07T02:20:20.994Z"
   },
   {
    "duration": 51,
    "start_time": "2022-06-07T02:21:38.258Z"
   },
   {
    "duration": 6,
    "start_time": "2022-06-07T02:23:09.824Z"
   },
   {
    "duration": 26,
    "start_time": "2022-06-07T02:23:24.403Z"
   },
   {
    "duration": 17,
    "start_time": "2022-06-07T02:23:51.392Z"
   },
   {
    "duration": 3,
    "start_time": "2022-06-07T02:24:59.850Z"
   },
   {
    "duration": 8,
    "start_time": "2022-06-07T02:25:05.791Z"
   },
   {
    "duration": 19,
    "start_time": "2022-06-07T02:25:06.646Z"
   },
   {
    "duration": 16,
    "start_time": "2022-06-07T02:25:09.439Z"
   },
   {
    "duration": 28,
    "start_time": "2022-06-07T02:25:56.360Z"
   },
   {
    "duration": 23,
    "start_time": "2022-06-07T02:26:02.576Z"
   },
   {
    "duration": 4,
    "start_time": "2022-06-07T02:28:41.305Z"
   },
   {
    "duration": 24,
    "start_time": "2022-06-07T02:28:53.023Z"
   },
   {
    "duration": 25,
    "start_time": "2022-06-07T02:30:23.775Z"
   },
   {
    "duration": 30,
    "start_time": "2022-06-07T02:30:41.470Z"
   },
   {
    "duration": 195,
    "start_time": "2022-06-07T02:31:26.114Z"
   },
   {
    "duration": 185,
    "start_time": "2022-06-07T02:31:49.808Z"
   },
   {
    "duration": 180,
    "start_time": "2022-06-07T02:31:57.495Z"
   },
   {
    "duration": 195,
    "start_time": "2022-06-07T02:32:03.919Z"
   },
   {
    "duration": 184,
    "start_time": "2022-06-07T02:32:11.405Z"
   },
   {
    "duration": 19,
    "start_time": "2022-06-07T02:41:38.623Z"
   },
   {
    "duration": 4,
    "start_time": "2022-06-07T02:41:56.199Z"
   },
   {
    "duration": 671,
    "start_time": "2022-06-07T02:42:12.829Z"
   },
   {
    "duration": 831,
    "start_time": "2022-06-07T02:42:44.819Z"
   },
   {
    "duration": 9,
    "start_time": "2022-06-07T02:43:04.582Z"
   },
   {
    "duration": 12,
    "start_time": "2022-06-07T02:43:07.509Z"
   },
   {
    "duration": 165,
    "start_time": "2022-06-07T02:43:34.915Z"
   },
   {
    "duration": 9,
    "start_time": "2022-06-07T02:43:41.326Z"
   },
   {
    "duration": 184,
    "start_time": "2022-06-07T02:43:52.555Z"
   },
   {
    "duration": 280,
    "start_time": "2022-06-07T02:45:28.008Z"
   },
   {
    "duration": 720,
    "start_time": "2022-06-07T02:45:48.998Z"
   },
   {
    "duration": 298,
    "start_time": "2022-06-07T02:46:25.601Z"
   },
   {
    "duration": 6,
    "start_time": "2022-06-07T02:46:52.599Z"
   },
   {
    "duration": 8,
    "start_time": "2022-06-07T02:46:53.298Z"
   },
   {
    "duration": 48,
    "start_time": "2022-06-07T02:46:58.890Z"
   },
   {
    "duration": 20,
    "start_time": "2022-06-07T02:47:39.535Z"
   },
   {
    "duration": 14,
    "start_time": "2022-06-07T02:47:53.401Z"
   },
   {
    "duration": 6,
    "start_time": "2022-06-07T02:48:03.009Z"
   },
   {
    "duration": 25,
    "start_time": "2022-06-07T02:48:11.294Z"
   },
   {
    "duration": 12,
    "start_time": "2022-06-07T02:49:14.549Z"
   },
   {
    "duration": 15,
    "start_time": "2022-06-07T02:49:25.947Z"
   },
   {
    "duration": 27,
    "start_time": "2022-06-07T02:49:39.412Z"
   },
   {
    "duration": 10,
    "start_time": "2022-06-07T02:49:41.901Z"
   },
   {
    "duration": 28,
    "start_time": "2022-06-07T02:49:42.497Z"
   },
   {
    "duration": 24,
    "start_time": "2022-06-07T02:50:07.977Z"
   },
   {
    "duration": 5,
    "start_time": "2022-06-07T02:52:49.164Z"
   },
   {
    "duration": 525,
    "start_time": "2022-06-07T02:53:06.912Z"
   },
   {
    "duration": 486,
    "start_time": "2022-06-07T02:53:51.942Z"
   },
   {
    "duration": 21,
    "start_time": "2022-06-07T02:54:20.604Z"
   },
   {
    "duration": 18,
    "start_time": "2022-06-07T02:54:34.398Z"
   },
   {
    "duration": 457,
    "start_time": "2022-06-07T02:54:56.950Z"
   },
   {
    "duration": 20,
    "start_time": "2022-06-07T02:55:11.289Z"
   },
   {
    "duration": 8,
    "start_time": "2022-06-07T02:55:45.510Z"
   },
   {
    "duration": 26,
    "start_time": "2022-06-07T02:55:46.162Z"
   },
   {
    "duration": 489,
    "start_time": "2022-06-07T02:58:07.619Z"
   },
   {
    "duration": 24,
    "start_time": "2022-06-07T02:59:45.995Z"
   },
   {
    "duration": 8,
    "start_time": "2022-06-07T02:59:48.836Z"
   },
   {
    "duration": 17,
    "start_time": "2022-06-07T02:59:49.496Z"
   },
   {
    "duration": 5,
    "start_time": "2022-06-07T03:00:24.713Z"
   },
   {
    "duration": 23,
    "start_time": "2022-06-07T03:00:25.523Z"
   },
   {
    "duration": 7,
    "start_time": "2022-06-07T03:00:26.033Z"
   },
   {
    "duration": 18,
    "start_time": "2022-06-07T03:00:26.733Z"
   },
   {
    "duration": 18,
    "start_time": "2022-06-07T03:01:16.323Z"
   },
   {
    "duration": 16,
    "start_time": "2022-06-07T03:01:48.494Z"
   },
   {
    "duration": 20,
    "start_time": "2022-06-07T03:03:37.689Z"
   },
   {
    "duration": 5,
    "start_time": "2022-06-07T03:03:45.240Z"
   },
   {
    "duration": 29,
    "start_time": "2022-06-07T03:03:46.146Z"
   },
   {
    "duration": 29,
    "start_time": "2022-06-07T03:03:47.962Z"
   },
   {
    "duration": 8,
    "start_time": "2022-06-07T03:04:26.823Z"
   },
   {
    "duration": 24,
    "start_time": "2022-06-07T03:04:30.698Z"
   },
   {
    "duration": 9,
    "start_time": "2022-06-07T03:04:32.135Z"
   },
   {
    "duration": 20,
    "start_time": "2022-06-07T03:04:32.713Z"
   },
   {
    "duration": 194,
    "start_time": "2022-06-07T03:04:33.834Z"
   },
   {
    "duration": 14,
    "start_time": "2022-06-07T03:07:06.093Z"
   },
   {
    "duration": 17,
    "start_time": "2022-06-07T03:07:16.193Z"
   },
   {
    "duration": 13,
    "start_time": "2022-06-07T03:08:45.832Z"
   },
   {
    "duration": 6,
    "start_time": "2022-06-07T03:09:00.744Z"
   },
   {
    "duration": 100,
    "start_time": "2022-06-07T03:09:00.752Z"
   },
   {
    "duration": 50,
    "start_time": "2022-06-07T03:09:00.854Z"
   },
   {
    "duration": 39,
    "start_time": "2022-06-07T03:09:00.907Z"
   },
   {
    "duration": 33,
    "start_time": "2022-06-07T03:09:00.948Z"
   },
   {
    "duration": 18,
    "start_time": "2022-06-07T03:09:00.983Z"
   },
   {
    "duration": 18,
    "start_time": "2022-06-07T03:09:01.003Z"
   },
   {
    "duration": 9,
    "start_time": "2022-06-07T03:09:01.023Z"
   },
   {
    "duration": 25,
    "start_time": "2022-06-07T03:09:01.034Z"
   },
   {
    "duration": 36,
    "start_time": "2022-06-07T03:09:01.062Z"
   },
   {
    "duration": 13,
    "start_time": "2022-06-07T03:09:01.100Z"
   },
   {
    "duration": 9,
    "start_time": "2022-06-07T03:09:01.115Z"
   },
   {
    "duration": 11,
    "start_time": "2022-06-07T03:09:01.126Z"
   },
   {
    "duration": 58,
    "start_time": "2022-06-07T03:09:01.139Z"
   },
   {
    "duration": 17,
    "start_time": "2022-06-07T03:09:01.199Z"
   },
   {
    "duration": 37,
    "start_time": "2022-06-07T03:09:01.218Z"
   },
   {
    "duration": 11,
    "start_time": "2022-06-07T03:09:01.257Z"
   },
   {
    "duration": 53,
    "start_time": "2022-06-07T03:09:01.269Z"
   },
   {
    "duration": 20,
    "start_time": "2022-06-07T03:09:01.323Z"
   },
   {
    "duration": 53,
    "start_time": "2022-06-07T03:09:01.354Z"
   },
   {
    "duration": 196,
    "start_time": "2022-06-07T03:09:01.410Z"
   },
   {
    "duration": 7,
    "start_time": "2022-06-07T03:09:01.608Z"
   },
   {
    "duration": 34,
    "start_time": "2022-06-07T03:09:01.617Z"
   },
   {
    "duration": 210,
    "start_time": "2022-06-07T03:09:01.653Z"
   },
   {
    "duration": 11,
    "start_time": "2022-06-07T03:09:01.864Z"
   },
   {
    "duration": 60,
    "start_time": "2022-06-07T03:09:01.878Z"
   },
   {
    "duration": 76,
    "start_time": "2022-06-07T03:09:01.940Z"
   },
   {
    "duration": 85,
    "start_time": "2022-06-07T03:09:02.019Z"
   },
   {
    "duration": 210,
    "start_time": "2022-06-07T03:09:02.106Z"
   },
   {
    "duration": 21,
    "start_time": "2022-06-07T03:09:02.318Z"
   },
   {
    "duration": 30,
    "start_time": "2022-06-07T03:09:02.341Z"
   },
   {
    "duration": 205,
    "start_time": "2022-06-07T03:09:02.373Z"
   },
   {
    "duration": 24,
    "start_time": "2022-06-07T03:09:02.581Z"
   },
   {
    "duration": 24,
    "start_time": "2022-06-07T03:09:02.607Z"
   },
   {
    "duration": 8,
    "start_time": "2022-06-07T03:09:02.633Z"
   },
   {
    "duration": 29,
    "start_time": "2022-06-07T03:09:02.642Z"
   },
   {
    "duration": 15,
    "start_time": "2022-06-07T03:09:02.678Z"
   },
   {
    "duration": 25,
    "start_time": "2022-06-07T03:09:02.699Z"
   },
   {
    "duration": 15,
    "start_time": "2022-06-07T03:09:34.923Z"
   },
   {
    "duration": 37,
    "start_time": "2022-06-07T03:09:49.355Z"
   },
   {
    "duration": 15,
    "start_time": "2022-06-07T03:10:26.685Z"
   },
   {
    "duration": 24,
    "start_time": "2022-06-07T03:10:32.855Z"
   },
   {
    "duration": 37,
    "start_time": "2022-06-07T03:13:39.348Z"
   },
   {
    "duration": 23,
    "start_time": "2022-06-07T03:14:05.891Z"
   },
   {
    "duration": 16,
    "start_time": "2022-06-07T03:14:14.415Z"
   },
   {
    "duration": 26,
    "start_time": "2022-06-07T03:15:02.703Z"
   },
   {
    "duration": 9,
    "start_time": "2022-06-07T03:15:09.689Z"
   },
   {
    "duration": 64,
    "start_time": "2022-06-07T03:15:10.107Z"
   },
   {
    "duration": 29,
    "start_time": "2022-06-07T03:15:10.505Z"
   },
   {
    "duration": 34,
    "start_time": "2022-06-07T03:15:10.786Z"
   },
   {
    "duration": 28,
    "start_time": "2022-06-07T03:15:10.991Z"
   },
   {
    "duration": 11,
    "start_time": "2022-06-07T03:15:11.716Z"
   },
   {
    "duration": 13,
    "start_time": "2022-06-07T03:15:11.911Z"
   },
   {
    "duration": 12,
    "start_time": "2022-06-07T03:15:12.096Z"
   },
   {
    "duration": 11,
    "start_time": "2022-06-07T03:15:12.292Z"
   },
   {
    "duration": 17,
    "start_time": "2022-06-07T03:15:12.490Z"
   },
   {
    "duration": 8,
    "start_time": "2022-06-07T03:15:12.744Z"
   },
   {
    "duration": 7,
    "start_time": "2022-06-07T03:15:13.017Z"
   },
   {
    "duration": 6,
    "start_time": "2022-06-07T03:15:13.419Z"
   },
   {
    "duration": 43,
    "start_time": "2022-06-07T03:15:14.993Z"
   },
   {
    "duration": 18,
    "start_time": "2022-06-07T03:15:15.945Z"
   },
   {
    "duration": 27,
    "start_time": "2022-06-07T03:15:16.609Z"
   },
   {
    "duration": 12,
    "start_time": "2022-06-07T03:15:19.263Z"
   },
   {
    "duration": 18,
    "start_time": "2022-06-07T03:15:19.744Z"
   },
   {
    "duration": 10,
    "start_time": "2022-06-07T03:15:20.074Z"
   },
   {
    "duration": 17,
    "start_time": "2022-06-07T03:15:20.607Z"
   },
   {
    "duration": 175,
    "start_time": "2022-06-07T03:15:21.425Z"
   },
   {
    "duration": 9,
    "start_time": "2022-06-07T03:15:21.794Z"
   },
   {
    "duration": 21,
    "start_time": "2022-06-07T03:15:22.092Z"
   },
   {
    "duration": 183,
    "start_time": "2022-06-07T03:15:22.704Z"
   },
   {
    "duration": 5,
    "start_time": "2022-06-07T03:15:24.651Z"
   },
   {
    "duration": 10,
    "start_time": "2022-06-07T03:15:24.994Z"
   },
   {
    "duration": 21,
    "start_time": "2022-06-07T03:15:25.327Z"
   },
   {
    "duration": 46,
    "start_time": "2022-06-07T03:15:26.905Z"
   },
   {
    "duration": 20,
    "start_time": "2022-06-07T03:15:33.885Z"
   },
   {
    "duration": 210,
    "start_time": "2022-06-07T03:15:40.988Z"
   },
   {
    "duration": 22,
    "start_time": "2022-06-07T03:15:43.083Z"
   },
   {
    "duration": 25,
    "start_time": "2022-06-07T03:15:44.446Z"
   },
   {
    "duration": 13,
    "start_time": "2022-06-07T03:15:46.613Z"
   },
   {
    "duration": 193,
    "start_time": "2022-06-07T03:15:49.711Z"
   },
   {
    "duration": 38,
    "start_time": "2022-06-07T03:16:34.198Z"
   },
   {
    "duration": 16,
    "start_time": "2022-06-07T03:16:49.982Z"
   },
   {
    "duration": 7,
    "start_time": "2022-06-07T03:18:01.811Z"
   },
   {
    "duration": 17,
    "start_time": "2022-06-07T03:18:03.014Z"
   },
   {
    "duration": 10,
    "start_time": "2022-06-07T03:18:24.731Z"
   },
   {
    "duration": 18,
    "start_time": "2022-06-07T03:18:26.406Z"
   },
   {
    "duration": 192,
    "start_time": "2022-06-07T03:18:29.408Z"
   },
   {
    "duration": 20,
    "start_time": "2022-06-07T03:18:31.494Z"
   },
   {
    "duration": 18,
    "start_time": "2022-06-07T03:18:32.635Z"
   },
   {
    "duration": 12,
    "start_time": "2022-06-07T03:18:50.260Z"
   },
   {
    "duration": 9,
    "start_time": "2022-06-07T03:19:07.003Z"
   },
   {
    "duration": 9,
    "start_time": "2022-06-07T03:19:13.144Z"
   },
   {
    "duration": 9,
    "start_time": "2022-06-07T03:19:19.531Z"
   },
   {
    "duration": 16,
    "start_time": "2022-06-07T03:20:17.523Z"
   },
   {
    "duration": 22,
    "start_time": "2022-06-07T03:21:03.805Z"
   },
   {
    "duration": 18,
    "start_time": "2022-06-07T03:21:05.528Z"
   },
   {
    "duration": 9,
    "start_time": "2022-06-07T03:22:42.499Z"
   },
   {
    "duration": 18,
    "start_time": "2022-06-07T03:22:44.395Z"
   },
   {
    "duration": 8,
    "start_time": "2022-06-07T03:22:55.942Z"
   },
   {
    "duration": 80,
    "start_time": "2022-06-07T03:22:55.953Z"
   },
   {
    "duration": 29,
    "start_time": "2022-06-07T03:22:56.035Z"
   },
   {
    "duration": 44,
    "start_time": "2022-06-07T03:22:56.071Z"
   },
   {
    "duration": 26,
    "start_time": "2022-06-07T03:22:56.117Z"
   },
   {
    "duration": 11,
    "start_time": "2022-06-07T03:22:56.144Z"
   },
   {
    "duration": 26,
    "start_time": "2022-06-07T03:22:56.157Z"
   },
   {
    "duration": 19,
    "start_time": "2022-06-07T03:22:56.192Z"
   },
   {
    "duration": 23,
    "start_time": "2022-06-07T03:22:56.213Z"
   },
   {
    "duration": 13,
    "start_time": "2022-06-07T03:22:56.240Z"
   },
   {
    "duration": 23,
    "start_time": "2022-06-07T03:22:56.255Z"
   },
   {
    "duration": 23,
    "start_time": "2022-06-07T03:22:56.288Z"
   },
   {
    "duration": 8,
    "start_time": "2022-06-07T03:22:56.313Z"
   },
   {
    "duration": 61,
    "start_time": "2022-06-07T03:22:56.323Z"
   },
   {
    "duration": 23,
    "start_time": "2022-06-07T03:22:56.386Z"
   },
   {
    "duration": 24,
    "start_time": "2022-06-07T03:22:56.411Z"
   },
   {
    "duration": 30,
    "start_time": "2022-06-07T03:22:56.437Z"
   },
   {
    "duration": 33,
    "start_time": "2022-06-07T03:22:56.470Z"
   },
   {
    "duration": 13,
    "start_time": "2022-06-07T03:22:56.505Z"
   },
   {
    "duration": 11,
    "start_time": "2022-06-07T03:22:56.520Z"
   },
   {
    "duration": 201,
    "start_time": "2022-06-07T03:22:56.533Z"
   },
   {
    "duration": 10,
    "start_time": "2022-06-07T03:22:56.736Z"
   },
   {
    "duration": 26,
    "start_time": "2022-06-07T03:22:56.747Z"
   },
   {
    "duration": 213,
    "start_time": "2022-06-07T03:22:56.775Z"
   },
   {
    "duration": 12,
    "start_time": "2022-06-07T03:22:56.990Z"
   },
   {
    "duration": 11,
    "start_time": "2022-06-07T03:22:57.004Z"
   },
   {
    "duration": 24,
    "start_time": "2022-06-07T03:22:57.017Z"
   },
   {
    "duration": 12,
    "start_time": "2022-06-07T03:22:57.044Z"
   },
   {
    "duration": 25,
    "start_time": "2022-06-07T03:22:57.058Z"
   },
   {
    "duration": 213,
    "start_time": "2022-06-07T03:22:57.088Z"
   },
   {
    "duration": 20,
    "start_time": "2022-06-07T03:22:57.304Z"
   },
   {
    "duration": 13,
    "start_time": "2022-06-07T03:22:57.326Z"
   },
   {
    "duration": 17,
    "start_time": "2022-06-07T03:22:57.341Z"
   },
   {
    "duration": 220,
    "start_time": "2022-06-07T03:22:57.365Z"
   },
   {
    "duration": 11,
    "start_time": "2022-06-07T03:22:57.595Z"
   },
   {
    "duration": 15,
    "start_time": "2022-06-07T03:22:57.608Z"
   },
   {
    "duration": 7,
    "start_time": "2022-06-07T03:22:57.625Z"
   },
   {
    "duration": 21,
    "start_time": "2022-06-07T03:22:57.633Z"
   },
   {
    "duration": 24,
    "start_time": "2022-06-07T03:22:57.656Z"
   },
   {
    "duration": 42,
    "start_time": "2022-06-07T03:22:57.682Z"
   },
   {
    "duration": 17,
    "start_time": "2022-06-07T03:22:57.725Z"
   },
   {
    "duration": 10,
    "start_time": "2022-06-07T03:23:26.596Z"
   },
   {
    "duration": 17,
    "start_time": "2022-06-07T03:23:28.237Z"
   },
   {
    "duration": 29,
    "start_time": "2022-06-07T03:24:25.218Z"
   },
   {
    "duration": 7,
    "start_time": "2022-06-07T03:24:32.748Z"
   },
   {
    "duration": 17,
    "start_time": "2022-06-07T03:24:35.328Z"
   },
   {
    "duration": 6,
    "start_time": "2022-06-07T03:25:07.020Z"
   },
   {
    "duration": 15,
    "start_time": "2022-06-07T03:25:07.997Z"
   },
   {
    "duration": 5,
    "start_time": "2022-06-07T03:25:33.358Z"
   },
   {
    "duration": 14,
    "start_time": "2022-06-07T03:25:33.890Z"
   },
   {
    "duration": 5,
    "start_time": "2022-06-07T03:25:41.732Z"
   },
   {
    "duration": 17,
    "start_time": "2022-06-07T03:25:42.356Z"
   },
   {
    "duration": 18,
    "start_time": "2022-06-07T03:25:58.962Z"
   },
   {
    "duration": 103,
    "start_time": "2022-06-07T03:25:58.983Z"
   },
   {
    "duration": 41,
    "start_time": "2022-06-07T03:25:59.088Z"
   },
   {
    "duration": 48,
    "start_time": "2022-06-07T03:25:59.132Z"
   },
   {
    "duration": 32,
    "start_time": "2022-06-07T03:25:59.189Z"
   },
   {
    "duration": 13,
    "start_time": "2022-06-07T03:25:59.223Z"
   },
   {
    "duration": 17,
    "start_time": "2022-06-07T03:25:59.239Z"
   },
   {
    "duration": 10,
    "start_time": "2022-06-07T03:25:59.258Z"
   },
   {
    "duration": 48,
    "start_time": "2022-06-07T03:25:59.270Z"
   },
   {
    "duration": 17,
    "start_time": "2022-06-07T03:25:59.320Z"
   },
   {
    "duration": 9,
    "start_time": "2022-06-07T03:25:59.339Z"
   },
   {
    "duration": 8,
    "start_time": "2022-06-07T03:25:59.349Z"
   },
   {
    "duration": 11,
    "start_time": "2022-06-07T03:25:59.359Z"
   },
   {
    "duration": 56,
    "start_time": "2022-06-07T03:25:59.376Z"
   },
   {
    "duration": 16,
    "start_time": "2022-06-07T03:25:59.434Z"
   },
   {
    "duration": 31,
    "start_time": "2022-06-07T03:25:59.452Z"
   },
   {
    "duration": 9,
    "start_time": "2022-06-07T03:25:59.488Z"
   },
   {
    "duration": 18,
    "start_time": "2022-06-07T03:25:59.499Z"
   },
   {
    "duration": 12,
    "start_time": "2022-06-07T03:25:59.519Z"
   },
   {
    "duration": 29,
    "start_time": "2022-06-07T03:25:59.533Z"
   },
   {
    "duration": 199,
    "start_time": "2022-06-07T03:25:59.564Z"
   },
   {
    "duration": 19,
    "start_time": "2022-06-07T03:25:59.764Z"
   },
   {
    "duration": 17,
    "start_time": "2022-06-07T03:25:59.785Z"
   },
   {
    "duration": 181,
    "start_time": "2022-06-07T03:25:59.803Z"
   },
   {
    "duration": 7,
    "start_time": "2022-06-07T03:25:59.990Z"
   },
   {
    "duration": 18,
    "start_time": "2022-06-07T03:25:59.999Z"
   },
   {
    "duration": 32,
    "start_time": "2022-06-07T03:26:00.020Z"
   },
   {
    "duration": 54,
    "start_time": "2022-06-07T03:26:00.054Z"
   },
   {
    "duration": 11,
    "start_time": "2022-06-07T03:26:00.110Z"
   },
   {
    "duration": 363,
    "start_time": "2022-06-07T03:26:00.123Z"
   },
   {
    "duration": 21,
    "start_time": "2022-06-07T03:26:00.487Z"
   },
   {
    "duration": 10,
    "start_time": "2022-06-07T03:26:00.510Z"
   },
   {
    "duration": 32,
    "start_time": "2022-06-07T03:26:00.521Z"
   },
   {
    "duration": 199,
    "start_time": "2022-06-07T03:26:00.556Z"
   },
   {
    "duration": 11,
    "start_time": "2022-06-07T03:26:00.757Z"
   },
   {
    "duration": 44,
    "start_time": "2022-06-07T03:26:00.770Z"
   },
   {
    "duration": 5,
    "start_time": "2022-06-07T03:26:00.816Z"
   },
   {
    "duration": 22,
    "start_time": "2022-06-07T03:26:00.823Z"
   },
   {
    "duration": 32,
    "start_time": "2022-06-07T03:26:00.847Z"
   },
   {
    "duration": 33,
    "start_time": "2022-06-07T03:26:00.880Z"
   },
   {
    "duration": 15,
    "start_time": "2022-06-07T03:26:00.917Z"
   },
   {
    "duration": 29,
    "start_time": "2022-06-07T03:27:02.757Z"
   },
   {
    "duration": 18,
    "start_time": "2022-06-07T03:27:03.495Z"
   },
   {
    "duration": 3,
    "start_time": "2022-06-07T03:32:11.398Z"
   },
   {
    "duration": 37,
    "start_time": "2022-06-07T03:32:50.794Z"
   },
   {
    "duration": 3,
    "start_time": "2022-06-07T03:34:45.328Z"
   },
   {
    "duration": 75,
    "start_time": "2022-06-07T03:34:47.239Z"
   },
   {
    "duration": 97,
    "start_time": "2022-06-07T03:34:56.948Z"
   },
   {
    "duration": 22,
    "start_time": "2022-06-07T03:35:07.238Z"
   },
   {
    "duration": 26,
    "start_time": "2022-06-07T03:36:39.165Z"
   },
   {
    "duration": 12,
    "start_time": "2022-06-07T03:37:00.989Z"
   },
   {
    "duration": 5,
    "start_time": "2022-06-07T03:37:15.490Z"
   },
   {
    "duration": 609,
    "start_time": "2022-06-07T03:39:50.116Z"
   },
   {
    "duration": 458,
    "start_time": "2022-06-07T03:40:00.627Z"
   },
   {
    "duration": 27,
    "start_time": "2022-06-07T03:40:15.361Z"
   },
   {
    "duration": 27,
    "start_time": "2022-06-07T03:40:39.049Z"
   },
   {
    "duration": 20,
    "start_time": "2022-06-07T03:40:40.059Z"
   },
   {
    "duration": 464,
    "start_time": "2022-06-07T03:41:00.704Z"
   },
   {
    "duration": 237,
    "start_time": "2022-06-07T03:41:01.463Z"
   },
   {
    "duration": 690,
    "start_time": "2022-06-07T03:41:03.599Z"
   },
   {
    "duration": 5,
    "start_time": "2022-06-07T03:41:45.727Z"
   },
   {
    "duration": 437,
    "start_time": "2022-06-07T03:41:46.349Z"
   },
   {
    "duration": 223,
    "start_time": "2022-06-07T03:41:46.886Z"
   },
   {
    "duration": 680,
    "start_time": "2022-06-07T03:41:47.403Z"
   },
   {
    "duration": 5,
    "start_time": "2022-06-07T03:42:36.796Z"
   },
   {
    "duration": 11,
    "start_time": "2022-06-07T03:42:37.894Z"
   },
   {
    "duration": 20,
    "start_time": "2022-06-07T03:42:38.605Z"
   },
   {
    "duration": 859,
    "start_time": "2022-06-07T03:43:32.927Z"
   },
   {
    "duration": 885,
    "start_time": "2022-06-07T03:43:45.368Z"
   },
   {
    "duration": 10,
    "start_time": "2022-06-07T03:44:36.959Z"
   },
   {
    "duration": 7,
    "start_time": "2022-06-07T03:44:37.784Z"
   },
   {
    "duration": 8,
    "start_time": "2022-06-07T03:44:42.952Z"
   },
   {
    "duration": 18,
    "start_time": "2022-06-07T03:44:43.790Z"
   },
   {
    "duration": 3,
    "start_time": "2022-06-07T03:45:34.453Z"
   },
   {
    "duration": 109,
    "start_time": "2022-06-07T03:45:35.538Z"
   },
   {
    "duration": 46,
    "start_time": "2022-06-07T03:45:38.026Z"
   },
   {
    "duration": 7,
    "start_time": "2022-06-07T03:45:43.531Z"
   },
   {
    "duration": 9,
    "start_time": "2022-06-07T03:45:51.292Z"
   },
   {
    "duration": 590,
    "start_time": "2022-06-07T03:46:17.086Z"
   },
   {
    "duration": 190,
    "start_time": "2022-06-07T03:46:18.514Z"
   },
   {
    "duration": 869,
    "start_time": "2022-06-07T03:46:19.307Z"
   },
   {
    "duration": 7149,
    "start_time": "2022-06-07T03:47:00.492Z"
   },
   {
    "duration": 856,
    "start_time": "2022-06-07T03:47:54.328Z"
   },
   {
    "duration": 107,
    "start_time": "2022-06-07T03:48:07.079Z"
   },
   {
    "duration": 753,
    "start_time": "2022-06-07T03:48:26.529Z"
   },
   {
    "duration": 72,
    "start_time": "2022-06-07T03:49:04.600Z"
   },
   {
    "duration": 11,
    "start_time": "2022-06-07T03:49:08.918Z"
   },
   {
    "duration": 2279,
    "start_time": "2022-06-07T03:49:18.976Z"
   },
   {
    "duration": 168,
    "start_time": "2022-06-07T03:49:21.257Z"
   },
   {
    "duration": 127,
    "start_time": "2022-06-07T03:49:21.427Z"
   },
   {
    "duration": 79,
    "start_time": "2022-06-07T03:49:21.556Z"
   },
   {
    "duration": 74,
    "start_time": "2022-06-07T03:49:21.637Z"
   },
   {
    "duration": 15,
    "start_time": "2022-06-07T03:49:21.712Z"
   },
   {
    "duration": 11,
    "start_time": "2022-06-07T03:49:21.728Z"
   },
   {
    "duration": 8,
    "start_time": "2022-06-07T03:49:21.741Z"
   },
   {
    "duration": 8,
    "start_time": "2022-06-07T03:49:21.750Z"
   },
   {
    "duration": 14,
    "start_time": "2022-06-07T03:49:21.760Z"
   },
   {
    "duration": 31,
    "start_time": "2022-06-07T03:49:21.776Z"
   },
   {
    "duration": 6,
    "start_time": "2022-06-07T03:49:21.809Z"
   },
   {
    "duration": 6,
    "start_time": "2022-06-07T03:49:21.816Z"
   },
   {
    "duration": 36,
    "start_time": "2022-06-07T03:49:21.825Z"
   },
   {
    "duration": 25,
    "start_time": "2022-06-07T03:49:21.862Z"
   },
   {
    "duration": 31,
    "start_time": "2022-06-07T03:49:21.889Z"
   },
   {
    "duration": 9,
    "start_time": "2022-06-07T03:49:21.922Z"
   },
   {
    "duration": 18,
    "start_time": "2022-06-07T03:49:21.933Z"
   },
   {
    "duration": 10,
    "start_time": "2022-06-07T03:49:21.971Z"
   },
   {
    "duration": 27,
    "start_time": "2022-06-07T03:49:21.982Z"
   },
   {
    "duration": 197,
    "start_time": "2022-06-07T03:49:22.010Z"
   },
   {
    "duration": 8,
    "start_time": "2022-06-07T03:49:22.209Z"
   },
   {
    "duration": 10,
    "start_time": "2022-06-07T03:49:22.218Z"
   },
   {
    "duration": 205,
    "start_time": "2022-06-07T03:49:22.229Z"
   },
   {
    "duration": 4,
    "start_time": "2022-06-07T03:49:22.436Z"
   },
   {
    "duration": 9,
    "start_time": "2022-06-07T03:49:22.441Z"
   },
   {
    "duration": 47,
    "start_time": "2022-06-07T03:49:22.452Z"
   },
   {
    "duration": 11,
    "start_time": "2022-06-07T03:49:22.501Z"
   },
   {
    "duration": 7,
    "start_time": "2022-06-07T03:49:22.514Z"
   },
   {
    "duration": 195,
    "start_time": "2022-06-07T03:49:22.523Z"
   },
   {
    "duration": 17,
    "start_time": "2022-06-07T03:49:22.720Z"
   },
   {
    "duration": 9,
    "start_time": "2022-06-07T03:49:22.739Z"
   },
   {
    "duration": 55,
    "start_time": "2022-06-07T03:49:22.750Z"
   },
   {
    "duration": 183,
    "start_time": "2022-06-07T03:49:22.807Z"
   },
   {
    "duration": 8,
    "start_time": "2022-06-07T03:49:22.997Z"
   },
   {
    "duration": 16,
    "start_time": "2022-06-07T03:49:23.006Z"
   },
   {
    "duration": 13,
    "start_time": "2022-06-07T03:49:23.023Z"
   },
   {
    "duration": 35,
    "start_time": "2022-06-07T03:49:23.038Z"
   },
   {
    "duration": 8,
    "start_time": "2022-06-07T03:49:23.075Z"
   },
   {
    "duration": 90,
    "start_time": "2022-06-07T03:49:23.088Z"
   },
   {
    "duration": 27,
    "start_time": "2022-06-07T03:49:23.182Z"
   },
   {
    "duration": 6,
    "start_time": "2022-06-07T03:49:23.211Z"
   },
   {
    "duration": 559,
    "start_time": "2022-06-07T03:49:23.218Z"
   },
   {
    "duration": 192,
    "start_time": "2022-06-07T03:49:23.779Z"
   },
   {
    "duration": 713,
    "start_time": "2022-06-07T03:49:23.972Z"
   },
   {
    "duration": 218,
    "start_time": "2022-06-07T03:49:24.687Z"
   },
   {
    "duration": 863,
    "start_time": "2022-06-07T03:49:24.907Z"
   },
   {
    "duration": 741,
    "start_time": "2022-06-07T03:49:25.777Z"
   },
   {
    "duration": 2677,
    "start_time": "2022-06-07T03:52:08.661Z"
   },
   {
    "duration": 222,
    "start_time": "2022-06-07T03:52:11.341Z"
   },
   {
    "duration": 129,
    "start_time": "2022-06-07T03:52:11.578Z"
   },
   {
    "duration": 95,
    "start_time": "2022-06-07T03:52:11.713Z"
   },
   {
    "duration": 69,
    "start_time": "2022-06-07T03:52:11.811Z"
   },
   {
    "duration": 19,
    "start_time": "2022-06-07T03:52:11.882Z"
   },
   {
    "duration": 36,
    "start_time": "2022-06-07T03:52:11.903Z"
   },
   {
    "duration": 47,
    "start_time": "2022-06-07T03:52:11.942Z"
   },
   {
    "duration": 30,
    "start_time": "2022-06-07T03:52:11.998Z"
   },
   {
    "duration": 17,
    "start_time": "2022-06-07T03:52:12.030Z"
   },
   {
    "duration": 23,
    "start_time": "2022-06-07T03:52:12.050Z"
   },
   {
    "duration": 46,
    "start_time": "2022-06-07T03:52:12.075Z"
   },
   {
    "duration": 11,
    "start_time": "2022-06-07T03:52:12.123Z"
   },
   {
    "duration": 66,
    "start_time": "2022-06-07T03:52:12.138Z"
   },
   {
    "duration": 26,
    "start_time": "2022-06-07T03:52:12.211Z"
   },
   {
    "duration": 38,
    "start_time": "2022-06-07T03:52:12.239Z"
   },
   {
    "duration": 19,
    "start_time": "2022-06-07T03:52:12.280Z"
   },
   {
    "duration": 73,
    "start_time": "2022-06-07T03:52:12.305Z"
   },
   {
    "duration": 53,
    "start_time": "2022-06-07T03:52:12.380Z"
   },
   {
    "duration": 12,
    "start_time": "2022-06-07T03:52:12.436Z"
   },
   {
    "duration": 233,
    "start_time": "2022-06-07T03:52:12.450Z"
   },
   {
    "duration": 13,
    "start_time": "2022-06-07T03:52:12.688Z"
   },
   {
    "duration": 28,
    "start_time": "2022-06-07T03:52:12.705Z"
   },
   {
    "duration": 241,
    "start_time": "2022-06-07T03:52:12.735Z"
   },
   {
    "duration": 17,
    "start_time": "2022-06-07T03:52:12.978Z"
   },
   {
    "duration": 22,
    "start_time": "2022-06-07T03:52:13.002Z"
   },
   {
    "duration": 26,
    "start_time": "2022-06-07T03:52:13.026Z"
   },
   {
    "duration": 18,
    "start_time": "2022-06-07T03:52:13.054Z"
   },
   {
    "duration": 62,
    "start_time": "2022-06-07T03:52:13.073Z"
   },
   {
    "duration": 212,
    "start_time": "2022-06-07T03:52:13.138Z"
   },
   {
    "duration": 31,
    "start_time": "2022-06-07T03:52:13.352Z"
   },
   {
    "duration": 40,
    "start_time": "2022-06-07T03:52:13.392Z"
   },
   {
    "duration": 22,
    "start_time": "2022-06-07T03:52:13.435Z"
   },
   {
    "duration": 220,
    "start_time": "2022-06-07T03:52:13.459Z"
   },
   {
    "duration": 15,
    "start_time": "2022-06-07T03:52:13.688Z"
   },
   {
    "duration": 49,
    "start_time": "2022-06-07T03:52:13.706Z"
   },
   {
    "duration": 75,
    "start_time": "2022-06-07T03:52:13.757Z"
   },
   {
    "duration": 42,
    "start_time": "2022-06-07T03:52:13.835Z"
   },
   {
    "duration": 8,
    "start_time": "2022-06-07T03:52:13.888Z"
   },
   {
    "duration": 119,
    "start_time": "2022-06-07T03:52:13.898Z"
   },
   {
    "duration": 29,
    "start_time": "2022-06-07T03:52:14.023Z"
   },
   {
    "duration": 12,
    "start_time": "2022-06-07T03:52:14.055Z"
   },
   {
    "duration": 573,
    "start_time": "2022-06-07T03:52:14.075Z"
   },
   {
    "duration": 228,
    "start_time": "2022-06-07T03:52:14.650Z"
   },
   {
    "duration": 885,
    "start_time": "2022-06-07T03:52:14.886Z"
   },
   {
    "duration": 195,
    "start_time": "2022-06-07T03:52:15.777Z"
   },
   {
    "duration": 911,
    "start_time": "2022-06-07T03:52:15.974Z"
   },
   {
    "duration": 848,
    "start_time": "2022-06-07T03:52:16.893Z"
   },
   {
    "duration": 95,
    "start_time": "2022-06-07T03:53:03.851Z"
   },
   {
    "duration": 1629,
    "start_time": "2022-06-07T03:53:12.112Z"
   },
   {
    "duration": 188,
    "start_time": "2022-06-07T03:53:13.743Z"
   },
   {
    "duration": 146,
    "start_time": "2022-06-07T03:53:13.934Z"
   },
   {
    "duration": 76,
    "start_time": "2022-06-07T03:53:14.082Z"
   },
   {
    "duration": 86,
    "start_time": "2022-06-07T03:53:14.161Z"
   },
   {
    "duration": 25,
    "start_time": "2022-06-07T03:53:14.249Z"
   },
   {
    "duration": 26,
    "start_time": "2022-06-07T03:53:14.283Z"
   },
   {
    "duration": 13,
    "start_time": "2022-06-07T03:53:14.311Z"
   },
   {
    "duration": 9,
    "start_time": "2022-06-07T03:53:14.326Z"
   },
   {
    "duration": 14,
    "start_time": "2022-06-07T03:53:14.337Z"
   },
   {
    "duration": 20,
    "start_time": "2022-06-07T03:53:14.353Z"
   },
   {
    "duration": 34,
    "start_time": "2022-06-07T03:53:14.380Z"
   },
   {
    "duration": 8,
    "start_time": "2022-06-07T03:53:14.416Z"
   },
   {
    "duration": 58,
    "start_time": "2022-06-07T03:53:14.427Z"
   },
   {
    "duration": 27,
    "start_time": "2022-06-07T03:53:14.492Z"
   },
   {
    "duration": 30,
    "start_time": "2022-06-07T03:53:14.521Z"
   },
   {
    "duration": 35,
    "start_time": "2022-06-07T03:53:14.553Z"
   },
   {
    "duration": 34,
    "start_time": "2022-06-07T03:53:14.598Z"
   },
   {
    "duration": 10,
    "start_time": "2022-06-07T03:53:14.634Z"
   },
   {
    "duration": 16,
    "start_time": "2022-06-07T03:53:14.647Z"
   },
   {
    "duration": 254,
    "start_time": "2022-06-07T03:53:14.665Z"
   },
   {
    "duration": 8,
    "start_time": "2022-06-07T03:53:14.921Z"
   },
   {
    "duration": 13,
    "start_time": "2022-06-07T03:53:14.931Z"
   },
   {
    "duration": 202,
    "start_time": "2022-06-07T03:53:14.945Z"
   },
   {
    "duration": 33,
    "start_time": "2022-06-07T03:53:15.148Z"
   },
   {
    "duration": 10,
    "start_time": "2022-06-07T03:53:15.190Z"
   },
   {
    "duration": 30,
    "start_time": "2022-06-07T03:53:15.202Z"
   },
   {
    "duration": 24,
    "start_time": "2022-06-07T03:53:15.234Z"
   },
   {
    "duration": 19,
    "start_time": "2022-06-07T03:53:15.259Z"
   },
   {
    "duration": 225,
    "start_time": "2022-06-07T03:53:15.280Z"
   },
   {
    "duration": 20,
    "start_time": "2022-06-07T03:53:15.507Z"
   },
   {
    "duration": 11,
    "start_time": "2022-06-07T03:53:15.529Z"
   },
   {
    "duration": 38,
    "start_time": "2022-06-07T03:53:15.541Z"
   },
   {
    "duration": 219,
    "start_time": "2022-06-07T03:53:15.582Z"
   },
   {
    "duration": 9,
    "start_time": "2022-06-07T03:53:15.805Z"
   },
   {
    "duration": 25,
    "start_time": "2022-06-07T03:53:15.816Z"
   },
   {
    "duration": 16,
    "start_time": "2022-06-07T03:53:15.843Z"
   },
   {
    "duration": 33,
    "start_time": "2022-06-07T03:53:15.862Z"
   },
   {
    "duration": 13,
    "start_time": "2022-06-07T03:53:15.896Z"
   },
   {
    "duration": 100,
    "start_time": "2022-06-07T03:53:15.912Z"
   },
   {
    "duration": 25,
    "start_time": "2022-06-07T03:53:16.016Z"
   },
   {
    "duration": 14,
    "start_time": "2022-06-07T03:53:16.043Z"
   },
   {
    "duration": 569,
    "start_time": "2022-06-07T03:53:16.059Z"
   },
   {
    "duration": 206,
    "start_time": "2022-06-07T03:53:16.630Z"
   },
   {
    "duration": 761,
    "start_time": "2022-06-07T03:53:16.838Z"
   },
   {
    "duration": 281,
    "start_time": "2022-06-07T03:53:17.600Z"
   },
   {
    "duration": 997,
    "start_time": "2022-06-07T03:53:17.883Z"
   },
   {
    "duration": 794,
    "start_time": "2022-06-07T03:53:18.891Z"
   },
   {
    "duration": 779,
    "start_time": "2022-06-07T03:53:19.687Z"
   },
   {
    "duration": 7622,
    "start_time": "2022-06-07T03:53:20.474Z"
   },
   {
    "duration": 625,
    "start_time": "2022-06-07T03:53:53.957Z"
   },
   {
    "duration": 1467,
    "start_time": "2022-06-07T03:54:41.286Z"
   },
   {
    "duration": 193,
    "start_time": "2022-06-07T03:54:42.755Z"
   },
   {
    "duration": 148,
    "start_time": "2022-06-07T03:54:42.949Z"
   },
   {
    "duration": 60,
    "start_time": "2022-06-07T03:54:43.099Z"
   },
   {
    "duration": 84,
    "start_time": "2022-06-07T03:54:43.161Z"
   },
   {
    "duration": 18,
    "start_time": "2022-06-07T03:54:43.247Z"
   },
   {
    "duration": 16,
    "start_time": "2022-06-07T03:54:43.267Z"
   },
   {
    "duration": 44,
    "start_time": "2022-06-07T03:54:43.286Z"
   },
   {
    "duration": 9,
    "start_time": "2022-06-07T03:54:43.331Z"
   },
   {
    "duration": 12,
    "start_time": "2022-06-07T03:54:43.342Z"
   },
   {
    "duration": 19,
    "start_time": "2022-06-07T03:54:43.356Z"
   },
   {
    "duration": 37,
    "start_time": "2022-06-07T03:54:43.381Z"
   },
   {
    "duration": 9,
    "start_time": "2022-06-07T03:54:43.420Z"
   },
   {
    "duration": 64,
    "start_time": "2022-06-07T03:54:43.432Z"
   },
   {
    "duration": 22,
    "start_time": "2022-06-07T03:54:43.502Z"
   },
   {
    "duration": 21,
    "start_time": "2022-06-07T03:54:43.526Z"
   },
   {
    "duration": 10,
    "start_time": "2022-06-07T03:54:43.549Z"
   },
   {
    "duration": 33,
    "start_time": "2022-06-07T03:54:43.561Z"
   },
   {
    "duration": 27,
    "start_time": "2022-06-07T03:54:43.596Z"
   },
   {
    "duration": 11,
    "start_time": "2022-06-07T03:54:43.625Z"
   },
   {
    "duration": 207,
    "start_time": "2022-06-07T03:54:43.638Z"
   },
   {
    "duration": 8,
    "start_time": "2022-06-07T03:54:43.847Z"
   },
   {
    "duration": 10,
    "start_time": "2022-06-07T03:54:43.866Z"
   },
   {
    "duration": 213,
    "start_time": "2022-06-07T03:54:43.878Z"
   },
   {
    "duration": 4,
    "start_time": "2022-06-07T03:54:44.093Z"
   },
   {
    "duration": 24,
    "start_time": "2022-06-07T03:54:44.099Z"
   },
   {
    "duration": 20,
    "start_time": "2022-06-07T03:54:44.124Z"
   },
   {
    "duration": 14,
    "start_time": "2022-06-07T03:54:44.145Z"
   },
   {
    "duration": 13,
    "start_time": "2022-06-07T03:54:44.160Z"
   },
   {
    "duration": 216,
    "start_time": "2022-06-07T03:54:44.178Z"
   },
   {
    "duration": 22,
    "start_time": "2022-06-07T03:54:44.404Z"
   },
   {
    "duration": 8,
    "start_time": "2022-06-07T03:54:44.427Z"
   },
   {
    "duration": 12,
    "start_time": "2022-06-07T03:54:44.437Z"
   },
   {
    "duration": 195,
    "start_time": "2022-06-07T03:54:44.450Z"
   },
   {
    "duration": 7,
    "start_time": "2022-06-07T03:54:44.647Z"
   },
   {
    "duration": 26,
    "start_time": "2022-06-07T03:54:44.655Z"
   },
   {
    "duration": 47,
    "start_time": "2022-06-07T03:54:44.682Z"
   },
   {
    "duration": 19,
    "start_time": "2022-06-07T03:54:44.730Z"
   },
   {
    "duration": 3,
    "start_time": "2022-06-07T03:54:44.751Z"
   },
   {
    "duration": 103,
    "start_time": "2022-06-07T03:54:44.756Z"
   },
   {
    "duration": 62,
    "start_time": "2022-06-07T03:54:44.863Z"
   },
   {
    "duration": 10,
    "start_time": "2022-06-07T03:54:44.927Z"
   },
   {
    "duration": 544,
    "start_time": "2022-06-07T03:54:44.939Z"
   },
   {
    "duration": 200,
    "start_time": "2022-06-07T03:54:45.490Z"
   },
   {
    "duration": 783,
    "start_time": "2022-06-07T03:54:45.698Z"
   },
   {
    "duration": 222,
    "start_time": "2022-06-07T03:54:46.485Z"
   },
   {
    "duration": 1032,
    "start_time": "2022-06-07T03:54:46.716Z"
   },
   {
    "duration": 797,
    "start_time": "2022-06-07T03:54:47.766Z"
   },
   {
    "duration": 750,
    "start_time": "2022-06-07T03:54:48.568Z"
   },
   {
    "duration": 756,
    "start_time": "2022-06-07T03:54:49.319Z"
   },
   {
    "duration": 6990,
    "start_time": "2022-06-07T03:54:50.081Z"
   },
   {
    "duration": 783,
    "start_time": "2022-06-07T03:55:16.539Z"
   },
   {
    "duration": 1489,
    "start_time": "2022-06-07T04:03:16.108Z"
   },
   {
    "duration": 108,
    "start_time": "2022-06-07T04:03:18.789Z"
   },
   {
    "duration": 40,
    "start_time": "2022-06-07T04:03:19.522Z"
   },
   {
    "duration": 65,
    "start_time": "2022-06-07T04:03:20.012Z"
   },
   {
    "duration": 38,
    "start_time": "2022-06-07T04:03:20.643Z"
   },
   {
    "duration": 28,
    "start_time": "2022-06-07T04:03:22.691Z"
   },
   {
    "duration": 13,
    "start_time": "2022-06-07T04:03:22.940Z"
   },
   {
    "duration": 12,
    "start_time": "2022-06-07T04:03:23.206Z"
   },
   {
    "duration": 16,
    "start_time": "2022-06-07T04:03:23.491Z"
   },
   {
    "duration": 16,
    "start_time": "2022-06-07T04:03:23.746Z"
   },
   {
    "duration": 8,
    "start_time": "2022-06-07T04:03:24.021Z"
   },
   {
    "duration": 12,
    "start_time": "2022-06-07T04:03:24.298Z"
   },
   {
    "duration": 7,
    "start_time": "2022-06-07T04:03:24.554Z"
   },
   {
    "duration": 68,
    "start_time": "2022-06-07T04:03:25.692Z"
   },
   {
    "duration": 27,
    "start_time": "2022-06-07T04:03:26.528Z"
   },
   {
    "duration": 28,
    "start_time": "2022-06-07T04:03:26.807Z"
   },
   {
    "duration": 18,
    "start_time": "2022-06-07T04:03:27.512Z"
   },
   {
    "duration": 26,
    "start_time": "2022-06-07T04:03:27.799Z"
   },
   {
    "duration": 7,
    "start_time": "2022-06-07T04:03:28.034Z"
   },
   {
    "duration": 11,
    "start_time": "2022-06-07T04:03:28.231Z"
   },
   {
    "duration": 285,
    "start_time": "2022-06-07T04:03:28.837Z"
   },
   {
    "duration": 11,
    "start_time": "2022-06-07T04:03:29.124Z"
   },
   {
    "duration": 12,
    "start_time": "2022-06-07T04:03:29.339Z"
   },
   {
    "duration": 222,
    "start_time": "2022-06-07T04:03:29.860Z"
   },
   {
    "duration": 5,
    "start_time": "2022-06-07T04:03:30.848Z"
   },
   {
    "duration": 10,
    "start_time": "2022-06-07T04:03:31.116Z"
   },
   {
    "duration": 45,
    "start_time": "2022-06-07T04:03:31.361Z"
   },
   {
    "duration": 18,
    "start_time": "2022-06-07T04:03:31.620Z"
   },
   {
    "duration": 12,
    "start_time": "2022-06-07T04:03:31.869Z"
   },
   {
    "duration": 295,
    "start_time": "2022-06-07T04:03:32.129Z"
   },
   {
    "duration": 34,
    "start_time": "2022-06-07T04:03:32.430Z"
   },
   {
    "duration": 26,
    "start_time": "2022-06-07T04:03:32.605Z"
   },
   {
    "duration": 38,
    "start_time": "2022-06-07T04:03:32.847Z"
   },
   {
    "duration": 255,
    "start_time": "2022-06-07T04:03:33.290Z"
   },
   {
    "duration": 23,
    "start_time": "2022-06-07T04:03:33.551Z"
   },
   {
    "duration": 61,
    "start_time": "2022-06-07T04:03:33.712Z"
   },
   {
    "duration": 42,
    "start_time": "2022-06-07T04:03:34.570Z"
   },
   {
    "duration": 41,
    "start_time": "2022-06-07T04:03:34.753Z"
   },
   {
    "duration": 4,
    "start_time": "2022-06-07T04:03:35.013Z"
   },
   {
    "duration": 113,
    "start_time": "2022-06-07T04:03:35.222Z"
   },
   {
    "duration": 41,
    "start_time": "2022-06-07T04:03:35.440Z"
   },
   {
    "duration": 7,
    "start_time": "2022-06-07T04:03:35.642Z"
   },
   {
    "duration": 666,
    "start_time": "2022-06-07T04:03:35.806Z"
   },
   {
    "duration": 237,
    "start_time": "2022-06-07T04:03:36.479Z"
   },
   {
    "duration": 993,
    "start_time": "2022-06-07T04:03:36.718Z"
   },
   {
    "duration": 270,
    "start_time": "2022-06-07T04:03:37.722Z"
   },
   {
    "duration": 914,
    "start_time": "2022-06-07T04:03:38.001Z"
   },
   {
    "duration": 906,
    "start_time": "2022-06-07T04:03:38.925Z"
   },
   {
    "duration": 956,
    "start_time": "2022-06-07T04:03:39.838Z"
   },
   {
    "duration": 905,
    "start_time": "2022-06-07T04:03:40.796Z"
   },
   {
    "duration": 8813,
    "start_time": "2022-06-07T04:03:41.710Z"
   },
   {
    "duration": 901,
    "start_time": "2022-06-07T04:03:50.529Z"
   },
   {
    "duration": 0,
    "start_time": "2022-06-07T04:05:35.468Z"
   },
   {
    "duration": 0,
    "start_time": "2022-06-07T04:05:35.469Z"
   },
   {
    "duration": 0,
    "start_time": "2022-06-07T04:05:35.471Z"
   },
   {
    "duration": 15950,
    "start_time": "2022-06-07T04:05:42.696Z"
   },
   {
    "duration": 1752,
    "start_time": "2022-06-07T04:06:36.253Z"
   },
   {
    "duration": 174,
    "start_time": "2022-06-07T04:06:39.930Z"
   },
   {
    "duration": 164,
    "start_time": "2022-06-07T04:06:40.354Z"
   },
   {
    "duration": 92,
    "start_time": "2022-06-07T04:06:40.623Z"
   },
   {
    "duration": 69,
    "start_time": "2022-06-07T04:06:40.893Z"
   },
   {
    "duration": 19,
    "start_time": "2022-06-07T04:06:41.643Z"
   },
   {
    "duration": 11,
    "start_time": "2022-06-07T04:06:41.803Z"
   },
   {
    "duration": 13,
    "start_time": "2022-06-07T04:06:41.991Z"
   },
   {
    "duration": 22,
    "start_time": "2022-06-07T04:06:42.162Z"
   },
   {
    "duration": 16,
    "start_time": "2022-06-07T04:06:42.340Z"
   },
   {
    "duration": 10,
    "start_time": "2022-06-07T04:06:42.524Z"
   },
   {
    "duration": 8,
    "start_time": "2022-06-07T04:06:42.710Z"
   },
   {
    "duration": 14,
    "start_time": "2022-06-07T04:06:42.889Z"
   },
   {
    "duration": 66,
    "start_time": "2022-06-07T04:06:43.636Z"
   },
   {
    "duration": 32,
    "start_time": "2022-06-07T04:06:44.152Z"
   },
   {
    "duration": 30,
    "start_time": "2022-06-07T04:06:44.343Z"
   },
   {
    "duration": 20,
    "start_time": "2022-06-07T04:06:44.862Z"
   },
   {
    "duration": 20,
    "start_time": "2022-06-07T04:06:45.042Z"
   },
   {
    "duration": 6,
    "start_time": "2022-06-07T04:06:45.228Z"
   },
   {
    "duration": 11,
    "start_time": "2022-06-07T04:06:45.418Z"
   },
   {
    "duration": 200,
    "start_time": "2022-06-07T04:06:45.823Z"
   },
   {
    "duration": 9,
    "start_time": "2022-06-07T04:06:46.026Z"
   },
   {
    "duration": 10,
    "start_time": "2022-06-07T04:06:46.207Z"
   },
   {
    "duration": 256,
    "start_time": "2022-06-07T04:06:46.603Z"
   },
   {
    "duration": 6,
    "start_time": "2022-06-07T04:06:47.315Z"
   },
   {
    "duration": 10,
    "start_time": "2022-06-07T04:06:47.510Z"
   },
   {
    "duration": 30,
    "start_time": "2022-06-07T04:06:47.693Z"
   },
   {
    "duration": 11,
    "start_time": "2022-06-07T04:06:47.850Z"
   },
   {
    "duration": 10,
    "start_time": "2022-06-07T04:06:48.019Z"
   },
   {
    "duration": 197,
    "start_time": "2022-06-07T04:06:48.206Z"
   },
   {
    "duration": 22,
    "start_time": "2022-06-07T04:06:48.404Z"
   },
   {
    "duration": 19,
    "start_time": "2022-06-07T04:06:48.600Z"
   },
   {
    "duration": 37,
    "start_time": "2022-06-07T04:06:48.764Z"
   },
   {
    "duration": 268,
    "start_time": "2022-06-07T04:06:48.933Z"
   },
   {
    "duration": 20,
    "start_time": "2022-06-07T04:06:49.203Z"
   },
   {
    "duration": 18,
    "start_time": "2022-06-07T04:06:49.324Z"
   },
   {
    "duration": 25,
    "start_time": "2022-06-07T04:06:50.011Z"
   },
   {
    "duration": 34,
    "start_time": "2022-06-07T04:06:50.197Z"
   },
   {
    "duration": 3,
    "start_time": "2022-06-07T04:06:50.355Z"
   },
   {
    "duration": 115,
    "start_time": "2022-06-07T04:06:50.533Z"
   },
   {
    "duration": 30,
    "start_time": "2022-06-07T04:06:50.717Z"
   },
   {
    "duration": 8,
    "start_time": "2022-06-07T04:06:50.907Z"
   },
   {
    "duration": 544,
    "start_time": "2022-06-07T04:06:51.098Z"
   },
   {
    "duration": 226,
    "start_time": "2022-06-07T04:06:51.644Z"
   },
   {
    "duration": 802,
    "start_time": "2022-06-07T04:06:51.872Z"
   },
   {
    "duration": 202,
    "start_time": "2022-06-07T04:06:52.680Z"
   },
   {
    "duration": 926,
    "start_time": "2022-06-07T04:06:52.890Z"
   },
   {
    "duration": 688,
    "start_time": "2022-06-07T04:06:54.909Z"
   },
   {
    "duration": 775,
    "start_time": "2022-06-07T04:06:55.829Z"
   },
   {
    "duration": 773,
    "start_time": "2022-06-07T04:06:58.409Z"
   },
   {
    "duration": 7956,
    "start_time": "2022-06-07T04:07:02.024Z"
   },
   {
    "duration": 795,
    "start_time": "2022-06-07T04:07:12.438Z"
   },
   {
    "duration": 35466,
    "start_time": "2022-06-07T04:07:57.421Z"
   },
   {
    "duration": 55248,
    "start_time": "2022-06-07T04:08:57.057Z"
   },
   {
    "duration": 235898,
    "start_time": "2022-06-07T04:10:06.612Z"
   },
   {
    "duration": 5489,
    "start_time": "2022-06-07T04:17:40.116Z"
   },
   {
    "duration": 5660,
    "start_time": "2022-06-07T04:20:01.957Z"
   },
   {
    "duration": 650,
    "start_time": "2022-06-07T04:21:43.612Z"
   },
   {
    "duration": 622,
    "start_time": "2022-06-07T04:21:50.899Z"
   },
   {
    "duration": 5598,
    "start_time": "2022-06-07T04:22:03.295Z"
   },
   {
    "duration": 25905,
    "start_time": "2022-06-07T04:22:19.244Z"
   },
   {
    "duration": 8418,
    "start_time": "2022-06-07T04:22:59.590Z"
   },
   {
    "duration": 988,
    "start_time": "2022-06-07T04:25:53.992Z"
   },
   {
    "duration": 8798,
    "start_time": "2022-06-07T04:26:49.365Z"
   },
   {
    "duration": 8882,
    "start_time": "2022-06-07T04:28:19.376Z"
   },
   {
    "duration": 565,
    "start_time": "2022-06-07T04:30:40.807Z"
   },
   {
    "duration": 744,
    "start_time": "2022-06-07T04:31:30.438Z"
   },
   {
    "duration": 773,
    "start_time": "2022-06-07T04:32:20.401Z"
   },
   {
    "duration": 951,
    "start_time": "2022-06-07T04:32:51.559Z"
   },
   {
    "duration": 638,
    "start_time": "2022-06-07T04:33:48.546Z"
   },
   {
    "duration": 202,
    "start_time": "2022-06-07T04:41:01.515Z"
   },
   {
    "duration": 853,
    "start_time": "2022-06-07T04:41:02.555Z"
   },
   {
    "duration": 163,
    "start_time": "2022-06-07T04:41:05.332Z"
   },
   {
    "duration": 860,
    "start_time": "2022-06-07T04:42:33.653Z"
   },
   {
    "duration": 913,
    "start_time": "2022-06-07T04:43:04.261Z"
   },
   {
    "duration": 860,
    "start_time": "2022-06-07T04:43:25.854Z"
   },
   {
    "duration": 754,
    "start_time": "2022-06-07T04:43:44.227Z"
   },
   {
    "duration": 788,
    "start_time": "2022-06-07T04:44:56.597Z"
   },
   {
    "duration": 8532,
    "start_time": "2022-06-07T04:45:02.311Z"
   },
   {
    "duration": 885,
    "start_time": "2022-06-07T04:45:19.390Z"
   },
   {
    "duration": 121652,
    "start_time": "2022-06-07T04:45:29.051Z"
   },
   {
    "duration": 11282,
    "start_time": "2022-06-07T04:47:52.098Z"
   },
   {
    "duration": 662,
    "start_time": "2022-06-07T04:48:16.611Z"
   },
   {
    "duration": 789,
    "start_time": "2022-06-07T04:48:22.718Z"
   },
   {
    "duration": 440,
    "start_time": "2022-06-07T04:49:35.906Z"
   },
   {
    "duration": 964,
    "start_time": "2022-06-07T04:50:26.830Z"
   },
   {
    "duration": 1023,
    "start_time": "2022-06-07T04:50:44.120Z"
   },
   {
    "duration": 1711,
    "start_time": "2022-06-07T04:51:19.321Z"
   },
   {
    "duration": 996,
    "start_time": "2022-06-07T04:52:06.293Z"
   },
   {
    "duration": 1602,
    "start_time": "2022-06-07T04:52:22.648Z"
   },
   {
    "duration": 159,
    "start_time": "2022-06-07T04:52:54.681Z"
   },
   {
    "duration": 643,
    "start_time": "2022-06-07T04:52:55.072Z"
   },
   {
    "duration": 698,
    "start_time": "2022-06-07T04:53:02.293Z"
   },
   {
    "duration": 123,
    "start_time": "2022-06-07T04:54:01.806Z"
   },
   {
    "duration": 3228,
    "start_time": "2022-06-07T04:55:08.992Z"
   },
   {
    "duration": 239,
    "start_time": "2022-06-07T04:55:12.223Z"
   },
   {
    "duration": 183,
    "start_time": "2022-06-07T04:55:12.465Z"
   },
   {
    "duration": 133,
    "start_time": "2022-06-07T04:55:12.650Z"
   },
   {
    "duration": 83,
    "start_time": "2022-06-07T04:55:12.788Z"
   },
   {
    "duration": 40,
    "start_time": "2022-06-07T04:55:12.873Z"
   },
   {
    "duration": 32,
    "start_time": "2022-06-07T04:55:12.915Z"
   },
   {
    "duration": 20,
    "start_time": "2022-06-07T04:55:12.949Z"
   },
   {
    "duration": 62,
    "start_time": "2022-06-07T04:55:12.971Z"
   },
   {
    "duration": 36,
    "start_time": "2022-06-07T04:55:13.035Z"
   },
   {
    "duration": 72,
    "start_time": "2022-06-07T04:55:13.074Z"
   },
   {
    "duration": 16,
    "start_time": "2022-06-07T04:55:13.149Z"
   },
   {
    "duration": 76,
    "start_time": "2022-06-07T04:55:13.170Z"
   },
   {
    "duration": 71,
    "start_time": "2022-06-07T04:55:13.250Z"
   },
   {
    "duration": 24,
    "start_time": "2022-06-07T04:55:13.327Z"
   },
   {
    "duration": 61,
    "start_time": "2022-06-07T04:55:13.353Z"
   },
   {
    "duration": 34,
    "start_time": "2022-06-07T04:55:13.418Z"
   },
   {
    "duration": 51,
    "start_time": "2022-06-07T04:55:13.454Z"
   },
   {
    "duration": 29,
    "start_time": "2022-06-07T04:55:13.507Z"
   },
   {
    "duration": 13,
    "start_time": "2022-06-07T04:55:13.539Z"
   },
   {
    "duration": 296,
    "start_time": "2022-06-07T04:55:13.554Z"
   },
   {
    "duration": 14,
    "start_time": "2022-06-07T04:55:13.852Z"
   },
   {
    "duration": 85,
    "start_time": "2022-06-07T04:55:13.868Z"
   },
   {
    "duration": 217,
    "start_time": "2022-06-07T04:55:13.955Z"
   },
   {
    "duration": 5,
    "start_time": "2022-06-07T04:55:14.174Z"
   },
   {
    "duration": 7,
    "start_time": "2022-06-07T04:55:14.180Z"
   },
   {
    "duration": 70,
    "start_time": "2022-06-07T04:55:14.189Z"
   },
   {
    "duration": 23,
    "start_time": "2022-06-07T04:55:14.260Z"
   },
   {
    "duration": 278,
    "start_time": "2022-06-07T04:55:14.285Z"
   },
   {
    "duration": 44,
    "start_time": "2022-06-07T04:55:14.579Z"
   },
   {
    "duration": 25,
    "start_time": "2022-06-07T04:55:14.627Z"
   },
   {
    "duration": 78,
    "start_time": "2022-06-07T04:55:14.656Z"
   },
   {
    "duration": 266,
    "start_time": "2022-06-07T04:55:14.737Z"
   },
   {
    "duration": 31,
    "start_time": "2022-06-07T04:55:15.006Z"
   },
   {
    "duration": 19,
    "start_time": "2022-06-07T04:55:15.044Z"
   },
   {
    "duration": 67,
    "start_time": "2022-06-07T04:55:15.076Z"
   },
   {
    "duration": 4,
    "start_time": "2022-06-07T04:55:15.145Z"
   },
   {
    "duration": 114,
    "start_time": "2022-06-07T04:55:15.151Z"
   },
   {
    "duration": 39,
    "start_time": "2022-06-07T04:55:15.267Z"
   },
   {
    "duration": 35,
    "start_time": "2022-06-07T04:55:15.311Z"
   },
   {
    "duration": 547,
    "start_time": "2022-06-07T04:55:15.351Z"
   },
   {
    "duration": 271,
    "start_time": "2022-06-07T04:55:15.900Z"
   },
   {
    "duration": 903,
    "start_time": "2022-06-07T04:55:16.173Z"
   },
   {
    "duration": 999,
    "start_time": "2022-06-07T04:55:17.081Z"
   },
   {
    "duration": 978,
    "start_time": "2022-06-07T04:55:18.108Z"
   },
   {
    "duration": 982,
    "start_time": "2022-06-07T04:55:19.089Z"
   },
   {
    "duration": 8132,
    "start_time": "2022-06-07T04:55:20.076Z"
   },
   {
    "duration": 933,
    "start_time": "2022-06-07T04:55:28.209Z"
   },
   {
    "duration": 96134,
    "start_time": "2022-06-07T04:55:29.144Z"
   },
   {
    "duration": 10603,
    "start_time": "2022-06-07T04:57:05.280Z"
   },
   {
    "duration": 1060,
    "start_time": "2022-06-07T04:57:15.887Z"
   },
   {
    "duration": 1673,
    "start_time": "2022-06-07T04:57:16.949Z"
   },
   {
    "duration": 798,
    "start_time": "2022-06-07T04:57:18.630Z"
   },
   {
    "duration": 999,
    "start_time": "2022-06-07T04:57:19.466Z"
   },
   {
    "duration": 565,
    "start_time": "2022-06-07T04:57:20.475Z"
   },
   {
    "duration": 10,
    "start_time": "2022-06-07T05:07:57.212Z"
   },
   {
    "duration": 76,
    "start_time": "2022-06-07T05:07:57.225Z"
   },
   {
    "duration": 40,
    "start_time": "2022-06-07T05:07:57.303Z"
   },
   {
    "duration": 48,
    "start_time": "2022-06-07T05:07:57.346Z"
   },
   {
    "duration": 42,
    "start_time": "2022-06-07T05:07:57.404Z"
   },
   {
    "duration": 29,
    "start_time": "2022-06-07T05:07:57.448Z"
   },
   {
    "duration": 60,
    "start_time": "2022-06-07T05:07:57.481Z"
   },
   {
    "duration": 13,
    "start_time": "2022-06-07T05:07:57.542Z"
   },
   {
    "duration": 12,
    "start_time": "2022-06-07T05:07:57.556Z"
   },
   {
    "duration": 60,
    "start_time": "2022-06-07T05:07:57.573Z"
   },
   {
    "duration": 11,
    "start_time": "2022-06-07T05:07:57.634Z"
   },
   {
    "duration": 11,
    "start_time": "2022-06-07T05:07:57.647Z"
   },
   {
    "duration": 51,
    "start_time": "2022-06-07T05:07:57.660Z"
   },
   {
    "duration": 44,
    "start_time": "2022-06-07T05:07:57.715Z"
   },
   {
    "duration": 32,
    "start_time": "2022-06-07T05:07:57.761Z"
   },
   {
    "duration": 58,
    "start_time": "2022-06-07T05:07:57.794Z"
   },
   {
    "duration": 17,
    "start_time": "2022-06-07T05:07:57.855Z"
   },
   {
    "duration": 73,
    "start_time": "2022-06-07T05:07:57.876Z"
   },
   {
    "duration": 7,
    "start_time": "2022-06-07T05:07:57.951Z"
   },
   {
    "duration": 56,
    "start_time": "2022-06-07T05:07:57.960Z"
   },
   {
    "duration": 206,
    "start_time": "2022-06-07T05:07:58.017Z"
   },
   {
    "duration": 10,
    "start_time": "2022-06-07T05:07:58.226Z"
   },
   {
    "duration": 23,
    "start_time": "2022-06-07T05:07:58.238Z"
   },
   {
    "duration": 281,
    "start_time": "2022-06-07T05:07:58.265Z"
   },
   {
    "duration": 8,
    "start_time": "2022-06-07T05:07:58.548Z"
   },
   {
    "duration": 70,
    "start_time": "2022-06-07T05:07:58.558Z"
   },
   {
    "duration": 22,
    "start_time": "2022-06-07T05:07:58.631Z"
   },
   {
    "duration": 12,
    "start_time": "2022-06-07T05:07:58.656Z"
   },
   {
    "duration": 332,
    "start_time": "2022-06-07T05:07:58.670Z"
   },
   {
    "duration": 31,
    "start_time": "2022-06-07T05:07:59.003Z"
   },
   {
    "duration": 14,
    "start_time": "2022-06-07T05:07:59.037Z"
   },
   {
    "duration": 62,
    "start_time": "2022-06-07T05:07:59.053Z"
   },
   {
    "duration": 278,
    "start_time": "2022-06-07T05:07:59.125Z"
   },
   {
    "duration": 23,
    "start_time": "2022-06-07T05:07:59.410Z"
   },
   {
    "duration": 40,
    "start_time": "2022-06-07T05:07:59.435Z"
   },
   {
    "duration": 67,
    "start_time": "2022-06-07T05:07:59.478Z"
   },
   {
    "duration": 62,
    "start_time": "2022-06-07T05:07:59.547Z"
   },
   {
    "duration": 127,
    "start_time": "2022-06-07T05:07:59.616Z"
   },
   {
    "duration": 40,
    "start_time": "2022-06-07T05:07:59.745Z"
   },
   {
    "duration": 57,
    "start_time": "2022-06-07T05:07:59.786Z"
   },
   {
    "duration": 615,
    "start_time": "2022-06-07T05:07:59.845Z"
   },
   {
    "duration": 197,
    "start_time": "2022-06-07T05:08:00.462Z"
   },
   {
    "duration": 844,
    "start_time": "2022-06-07T05:08:00.661Z"
   },
   {
    "duration": 975,
    "start_time": "2022-06-07T05:08:01.508Z"
   },
   {
    "duration": 991,
    "start_time": "2022-06-07T05:08:02.490Z"
   },
   {
    "duration": 880,
    "start_time": "2022-06-07T05:08:03.486Z"
   },
   {
    "duration": 7954,
    "start_time": "2022-06-07T05:08:04.368Z"
   },
   {
    "duration": 934,
    "start_time": "2022-06-07T05:08:12.324Z"
   },
   {
    "duration": 112589,
    "start_time": "2022-06-07T05:08:13.260Z"
   },
   {
    "duration": 9565,
    "start_time": "2022-06-07T05:10:05.851Z"
   },
   {
    "duration": 1003,
    "start_time": "2022-06-07T05:10:15.420Z"
   },
   {
    "duration": 1703,
    "start_time": "2022-06-07T05:10:16.427Z"
   },
   {
    "duration": 662,
    "start_time": "2022-06-07T05:10:18.132Z"
   },
   {
    "duration": 990,
    "start_time": "2022-06-07T05:10:18.799Z"
   },
   {
    "duration": 563,
    "start_time": "2022-06-07T05:10:19.795Z"
   },
   {
    "duration": 77,
    "start_time": "2022-06-07T22:24:14.392Z"
   },
   {
    "duration": 1563,
    "start_time": "2022-06-07T22:24:21.118Z"
   },
   {
    "duration": 164,
    "start_time": "2022-06-07T22:24:22.683Z"
   },
   {
    "duration": 123,
    "start_time": "2022-06-07T22:24:22.849Z"
   },
   {
    "duration": 59,
    "start_time": "2022-06-07T22:24:22.974Z"
   },
   {
    "duration": 70,
    "start_time": "2022-06-07T22:24:23.036Z"
   },
   {
    "duration": 13,
    "start_time": "2022-06-07T22:24:23.107Z"
   },
   {
    "duration": 57,
    "start_time": "2022-06-07T22:24:23.122Z"
   },
   {
    "duration": 9,
    "start_time": "2022-06-07T22:24:23.181Z"
   },
   {
    "duration": 11,
    "start_time": "2022-06-07T22:24:23.192Z"
   },
   {
    "duration": 10,
    "start_time": "2022-06-07T22:24:23.205Z"
   },
   {
    "duration": 12,
    "start_time": "2022-06-07T22:24:23.217Z"
   },
   {
    "duration": 40,
    "start_time": "2022-06-07T22:24:23.236Z"
   },
   {
    "duration": 8,
    "start_time": "2022-06-07T22:24:23.278Z"
   },
   {
    "duration": 36,
    "start_time": "2022-06-07T22:24:23.289Z"
   },
   {
    "duration": 38,
    "start_time": "2022-06-07T22:24:23.327Z"
   },
   {
    "duration": 39,
    "start_time": "2022-06-07T22:24:23.367Z"
   },
   {
    "duration": 10,
    "start_time": "2022-06-07T22:24:23.408Z"
   },
   {
    "duration": 30,
    "start_time": "2022-06-07T22:24:23.420Z"
   },
   {
    "duration": 22,
    "start_time": "2022-06-07T22:24:23.457Z"
   },
   {
    "duration": 10,
    "start_time": "2022-06-07T22:24:23.480Z"
   },
   {
    "duration": 188,
    "start_time": "2022-06-07T22:24:23.492Z"
   },
   {
    "duration": 9,
    "start_time": "2022-06-07T22:24:23.682Z"
   },
   {
    "duration": 21,
    "start_time": "2022-06-07T22:24:23.692Z"
   },
   {
    "duration": 193,
    "start_time": "2022-06-07T22:24:23.714Z"
   },
   {
    "duration": 5,
    "start_time": "2022-06-07T22:24:23.910Z"
   },
   {
    "duration": 16,
    "start_time": "2022-06-07T22:24:23.917Z"
   },
   {
    "duration": 42,
    "start_time": "2022-06-07T22:24:23.940Z"
   },
   {
    "duration": 13,
    "start_time": "2022-06-07T22:24:23.983Z"
   },
   {
    "duration": 172,
    "start_time": "2022-06-07T22:24:23.998Z"
   },
   {
    "duration": 17,
    "start_time": "2022-06-07T22:24:24.172Z"
   },
   {
    "duration": 15,
    "start_time": "2022-06-07T22:24:24.190Z"
   },
   {
    "duration": 23,
    "start_time": "2022-06-07T22:24:24.207Z"
   },
   {
    "duration": 189,
    "start_time": "2022-06-07T22:24:24.231Z"
   },
   {
    "duration": 13,
    "start_time": "2022-06-07T22:24:24.421Z"
   },
   {
    "duration": 50,
    "start_time": "2022-06-07T22:24:24.440Z"
   },
   {
    "duration": 20,
    "start_time": "2022-06-07T22:24:24.491Z"
   },
   {
    "duration": 3,
    "start_time": "2022-06-07T22:24:24.512Z"
   },
   {
    "duration": 80,
    "start_time": "2022-06-07T22:24:24.516Z"
   },
   {
    "duration": 20,
    "start_time": "2022-06-07T22:24:24.598Z"
   },
   {
    "duration": 14,
    "start_time": "2022-06-07T22:24:24.628Z"
   },
   {
    "duration": 542,
    "start_time": "2022-06-07T22:24:24.646Z"
   },
   {
    "duration": 196,
    "start_time": "2022-06-07T22:24:25.189Z"
   },
   {
    "duration": 950,
    "start_time": "2022-06-07T22:24:25.389Z"
   },
   {
    "duration": 887,
    "start_time": "2022-06-07T22:24:26.341Z"
   },
   {
    "duration": 805,
    "start_time": "2022-06-07T22:24:27.230Z"
   },
   {
    "duration": 815,
    "start_time": "2022-06-07T22:24:28.037Z"
   },
   {
    "duration": 7037,
    "start_time": "2022-06-07T22:24:28.854Z"
   },
   {
    "duration": 812,
    "start_time": "2022-06-07T22:24:35.893Z"
   },
   {
    "duration": 85111,
    "start_time": "2022-06-07T22:24:36.707Z"
   },
   {
    "duration": 9030,
    "start_time": "2022-06-07T22:26:01.820Z"
   },
   {
    "duration": 926,
    "start_time": "2022-06-07T22:26:10.852Z"
   },
   {
    "duration": 1412,
    "start_time": "2022-06-07T22:26:11.779Z"
   },
   {
    "duration": 568,
    "start_time": "2022-06-07T22:26:13.193Z"
   },
   {
    "duration": 971,
    "start_time": "2022-06-07T22:26:13.767Z"
   },
   {
    "duration": 481,
    "start_time": "2022-06-07T22:26:14.740Z"
   },
   {
    "duration": 1371,
    "start_time": "2022-06-07T22:26:40.269Z"
   },
   {
    "duration": 1002,
    "start_time": "2022-06-07T22:27:03.247Z"
   },
   {
    "duration": 6,
    "start_time": "2022-06-07T22:29:47.138Z"
   },
   {
    "duration": 112,
    "start_time": "2022-06-07T22:29:56.692Z"
   },
   {
    "duration": 9,
    "start_time": "2022-06-07T22:30:48.684Z"
   },
   {
    "duration": 4,
    "start_time": "2022-06-07T22:31:13.201Z"
   },
   {
    "duration": 6,
    "start_time": "2022-06-07T22:32:35.236Z"
   },
   {
    "duration": 966,
    "start_time": "2022-06-07T22:43:45.571Z"
   },
   {
    "duration": 171,
    "start_time": "2022-06-07T22:47:17.386Z"
   },
   {
    "duration": 796,
    "start_time": "2022-06-07T22:47:20.240Z"
   },
   {
    "duration": 861,
    "start_time": "2022-06-07T22:47:24.270Z"
   },
   {
    "duration": 482,
    "start_time": "2022-06-07T22:47:47.525Z"
   },
   {
    "duration": 5578,
    "start_time": "2022-06-07T22:47:56.952Z"
   },
   {
    "duration": 11994,
    "start_time": "2022-06-07T22:48:16.332Z"
   },
   {
    "duration": 51,
    "start_time": "2022-06-07T22:52:40.103Z"
   },
   {
    "duration": 4,
    "start_time": "2022-06-07T22:52:57.942Z"
   },
   {
    "duration": 25,
    "start_time": "2022-06-07T22:55:28.439Z"
   },
   {
    "duration": 3,
    "start_time": "2022-06-07T22:55:42.210Z"
   },
   {
    "duration": 95,
    "start_time": "2022-06-07T22:58:06.675Z"
   },
   {
    "duration": 3,
    "start_time": "2022-06-07T22:58:08.905Z"
   },
   {
    "duration": 81,
    "start_time": "2022-06-07T23:00:06.626Z"
   },
   {
    "duration": 47,
    "start_time": "2022-06-07T23:00:25.553Z"
   },
   {
    "duration": 10,
    "start_time": "2022-06-07T23:00:31.762Z"
   },
   {
    "duration": 44,
    "start_time": "2022-06-07T23:00:45.890Z"
   },
   {
    "duration": 183,
    "start_time": "2022-06-07T23:00:47.226Z"
   },
   {
    "duration": 4,
    "start_time": "2022-06-07T23:00:48.208Z"
   },
   {
    "duration": 172,
    "start_time": "2022-06-07T23:00:50.176Z"
   },
   {
    "duration": 1844,
    "start_time": "2022-06-07T23:01:05.595Z"
   },
   {
    "duration": 5032,
    "start_time": "2022-06-07T23:01:50.456Z"
   },
   {
    "duration": 1720,
    "start_time": "2022-06-07T23:03:12.733Z"
   },
   {
    "duration": 5144,
    "start_time": "2022-06-08T00:07:28.659Z"
   },
   {
    "duration": 1878,
    "start_time": "2022-06-08T00:07:48.159Z"
   },
   {
    "duration": 1942,
    "start_time": "2022-06-08T00:08:13.492Z"
   },
   {
    "duration": 540,
    "start_time": "2022-06-08T00:11:56.892Z"
   },
   {
    "duration": 593,
    "start_time": "2022-06-08T00:12:11.217Z"
   },
   {
    "duration": 1328,
    "start_time": "2022-06-08T00:12:39.395Z"
   },
   {
    "duration": 12003,
    "start_time": "2022-06-08T00:13:00.178Z"
   },
   {
    "duration": 29307,
    "start_time": "2022-06-08T00:13:45.095Z"
   },
   {
    "duration": 100,
    "start_time": "2022-06-08T00:15:44.103Z"
   },
   {
    "duration": 8,
    "start_time": "2022-06-08T00:15:45.069Z"
   },
   {
    "duration": 50,
    "start_time": "2022-06-08T00:15:47.848Z"
   },
   {
    "duration": 170,
    "start_time": "2022-06-08T00:15:52.963Z"
   },
   {
    "duration": 4,
    "start_time": "2022-06-08T00:15:54.119Z"
   },
   {
    "duration": 3563,
    "start_time": "2022-06-08T00:15:55.383Z"
   },
   {
    "duration": 170,
    "start_time": "2022-06-08T00:17:15.910Z"
   },
   {
    "duration": 2082,
    "start_time": "2022-06-08T00:17:29.958Z"
   },
   {
    "duration": 575,
    "start_time": "2022-06-08T00:17:43.993Z"
   },
   {
    "duration": 2279,
    "start_time": "2022-06-08T00:17:49.970Z"
   },
   {
    "duration": 5847,
    "start_time": "2022-06-08T00:18:02.890Z"
   },
   {
    "duration": 2234,
    "start_time": "2022-06-08T00:18:22.222Z"
   },
   {
    "duration": 5753,
    "start_time": "2022-06-08T00:18:32.690Z"
   },
   {
    "duration": 18499,
    "start_time": "2022-06-08T00:18:47.807Z"
   },
   {
    "duration": 19270,
    "start_time": "2022-06-08T00:19:54.120Z"
   },
   {
    "duration": 3654,
    "start_time": "2022-06-08T00:21:22.549Z"
   },
   {
    "duration": 3523,
    "start_time": "2022-06-08T00:23:52.416Z"
   },
   {
    "duration": 669,
    "start_time": "2022-06-08T00:26:55.957Z"
   },
   {
    "duration": 5873,
    "start_time": "2022-06-08T00:27:28.392Z"
   },
   {
    "duration": 10481,
    "start_time": "2022-06-08T00:27:40.638Z"
   },
   {
    "duration": 13009,
    "start_time": "2022-06-08T00:27:59.766Z"
   },
   {
    "duration": 6277,
    "start_time": "2022-06-08T00:29:12.376Z"
   },
   {
    "duration": 110,
    "start_time": "2022-06-08T00:29:34.075Z"
   },
   {
    "duration": 4,
    "start_time": "2022-06-08T00:29:35.182Z"
   },
   {
    "duration": 40,
    "start_time": "2022-06-08T00:29:39.992Z"
   },
   {
    "duration": 179,
    "start_time": "2022-06-08T00:29:40.705Z"
   },
   {
    "duration": 3,
    "start_time": "2022-06-08T00:29:41.447Z"
   },
   {
    "duration": 177,
    "start_time": "2022-06-08T00:29:43.966Z"
   },
   {
    "duration": 269,
    "start_time": "2022-06-08T00:31:32.304Z"
   },
   {
    "duration": 1081,
    "start_time": "2022-06-08T00:31:54.650Z"
   },
   {
    "duration": 999,
    "start_time": "2022-06-08T00:33:02.954Z"
   },
   {
    "duration": 1170,
    "start_time": "2022-06-08T00:33:13.375Z"
   },
   {
    "duration": 1185,
    "start_time": "2022-06-08T00:33:29.959Z"
   },
   {
    "duration": 1268,
    "start_time": "2022-06-08T00:34:49.957Z"
   },
   {
    "duration": 8956,
    "start_time": "2022-06-08T00:35:11.193Z"
   },
   {
    "duration": 8721,
    "start_time": "2022-06-08T00:35:29.044Z"
   },
   {
    "duration": 10267,
    "start_time": "2022-06-08T00:36:17.031Z"
   },
   {
    "duration": 1813,
    "start_time": "2022-06-08T00:36:50.601Z"
   },
   {
    "duration": 1870,
    "start_time": "2022-06-08T00:37:55.171Z"
   },
   {
    "duration": 2284,
    "start_time": "2022-06-08T00:38:20.214Z"
   },
   {
    "duration": 3,
    "start_time": "2022-06-08T00:44:15.213Z"
   },
   {
    "duration": 12,
    "start_time": "2022-06-08T00:47:50.853Z"
   },
   {
    "duration": 3,
    "start_time": "2022-06-08T00:48:10.274Z"
   },
   {
    "duration": 6,
    "start_time": "2022-06-08T00:48:11.129Z"
   },
   {
    "duration": 160,
    "start_time": "2022-06-08T00:48:31.935Z"
   },
   {
    "duration": 21,
    "start_time": "2022-06-08T00:50:02.704Z"
   },
   {
    "duration": 4,
    "start_time": "2022-06-08T00:50:29.506Z"
   },
   {
    "duration": 7,
    "start_time": "2022-06-08T00:51:26.484Z"
   },
   {
    "duration": 28,
    "start_time": "2022-06-08T00:55:41.484Z"
   },
   {
    "duration": 1371,
    "start_time": "2022-06-08T22:58:46.381Z"
   },
   {
    "duration": 212,
    "start_time": "2022-06-08T22:58:47.754Z"
   },
   {
    "duration": 108,
    "start_time": "2022-06-08T22:58:47.968Z"
   },
   {
    "duration": 61,
    "start_time": "2022-06-08T22:58:48.078Z"
   },
   {
    "duration": 71,
    "start_time": "2022-06-08T22:58:48.565Z"
   },
   {
    "duration": 12,
    "start_time": "2022-06-08T22:58:50.557Z"
   },
   {
    "duration": 9,
    "start_time": "2022-06-08T22:58:51.094Z"
   },
   {
    "duration": 8,
    "start_time": "2022-06-08T22:58:51.517Z"
   },
   {
    "duration": 7,
    "start_time": "2022-06-08T22:58:51.911Z"
   },
   {
    "duration": 10,
    "start_time": "2022-06-08T22:58:52.189Z"
   },
   {
    "duration": 9,
    "start_time": "2022-06-08T22:58:52.515Z"
   },
   {
    "duration": 6,
    "start_time": "2022-06-08T22:58:52.737Z"
   },
   {
    "duration": 6,
    "start_time": "2022-06-08T22:58:53.399Z"
   },
   {
    "duration": 36,
    "start_time": "2022-06-08T22:58:54.868Z"
   },
   {
    "duration": 14,
    "start_time": "2022-06-08T22:58:56.505Z"
   },
   {
    "duration": 23,
    "start_time": "2022-06-08T22:58:56.707Z"
   },
   {
    "duration": 10,
    "start_time": "2022-06-08T22:58:57.517Z"
   },
   {
    "duration": 16,
    "start_time": "2022-06-08T22:58:57.841Z"
   },
   {
    "duration": 5,
    "start_time": "2022-06-08T22:58:58.166Z"
   },
   {
    "duration": 9,
    "start_time": "2022-06-08T22:58:58.500Z"
   },
   {
    "duration": 154,
    "start_time": "2022-06-08T22:58:59.095Z"
   },
   {
    "duration": 8,
    "start_time": "2022-06-08T22:58:59.415Z"
   },
   {
    "duration": 8,
    "start_time": "2022-06-08T22:58:59.739Z"
   },
   {
    "duration": 144,
    "start_time": "2022-06-08T22:59:00.357Z"
   },
   {
    "duration": 4,
    "start_time": "2022-06-08T22:59:02.155Z"
   },
   {
    "duration": 7,
    "start_time": "2022-06-08T22:59:02.524Z"
   },
   {
    "duration": 17,
    "start_time": "2022-06-08T22:59:03.020Z"
   },
   {
    "duration": 8,
    "start_time": "2022-06-08T22:59:03.339Z"
   },
   {
    "duration": 159,
    "start_time": "2022-06-08T22:59:03.781Z"
   },
   {
    "duration": 24,
    "start_time": "2022-06-08T22:59:04.109Z"
   },
   {
    "duration": 7,
    "start_time": "2022-06-08T22:59:04.783Z"
   },
   {
    "duration": 12,
    "start_time": "2022-06-08T22:59:05.114Z"
   },
   {
    "duration": 211,
    "start_time": "2022-06-08T22:59:05.381Z"
   },
   {
    "duration": 11,
    "start_time": "2022-06-08T22:59:05.711Z"
   },
   {
    "duration": 13,
    "start_time": "2022-06-08T22:59:06.676Z"
   },
   {
    "duration": 16,
    "start_time": "2022-06-08T22:59:07.051Z"
   },
   {
    "duration": 3,
    "start_time": "2022-06-08T22:59:07.383Z"
   },
   {
    "duration": 65,
    "start_time": "2022-06-08T22:59:07.747Z"
   },
   {
    "duration": 19,
    "start_time": "2022-06-08T22:59:08.175Z"
   },
   {
    "duration": 5,
    "start_time": "2022-06-08T22:59:09.786Z"
   },
   {
    "duration": 489,
    "start_time": "2022-06-08T22:59:23.857Z"
   },
   {
    "duration": 5,
    "start_time": "2022-06-08T22:59:28.919Z"
   },
   {
    "duration": 151,
    "start_time": "2022-06-08T22:59:36.413Z"
   },
   {
    "duration": 901,
    "start_time": "2022-06-08T22:59:42.552Z"
   },
   {
    "duration": 869,
    "start_time": "2022-06-08T22:59:48.683Z"
   },
   {
    "duration": 679,
    "start_time": "2022-06-08T23:00:01.591Z"
   },
   {
    "duration": 14238,
    "start_time": "2022-06-08T23:00:07.249Z"
   },
   {
    "duration": 6894,
    "start_time": "2022-06-08T23:00:29.781Z"
   },
   {
    "duration": 60,
    "start_time": "2022-06-08T23:00:56.903Z"
   },
   {
    "duration": 55,
    "start_time": "2022-06-08T23:01:34.756Z"
   },
   {
    "duration": 3,
    "start_time": "2022-06-08T23:01:36.061Z"
   },
   {
    "duration": 27,
    "start_time": "2022-06-08T23:01:54.491Z"
   },
   {
    "duration": 86,
    "start_time": "2022-06-08T23:01:57.827Z"
   },
   {
    "duration": 3,
    "start_time": "2022-06-08T23:02:01.138Z"
   },
   {
    "duration": 71,
    "start_time": "2022-06-08T23:02:26.842Z"
   },
   {
    "duration": 1175,
    "start_time": "2022-06-08T23:04:18.079Z"
   },
   {
    "duration": 1155,
    "start_time": "2022-06-08T23:04:32.998Z"
   },
   {
    "duration": 907,
    "start_time": "2022-06-08T23:04:55.644Z"
   },
   {
    "duration": 8731,
    "start_time": "2022-06-08T23:05:30.764Z"
   },
   {
    "duration": 8441,
    "start_time": "2022-06-08T23:06:57.256Z"
   },
   {
    "duration": 23,
    "start_time": "2022-06-08T23:07:32.024Z"
   },
   {
    "duration": 21,
    "start_time": "2022-06-08T23:07:34.899Z"
   },
   {
    "duration": 8721,
    "start_time": "2022-06-08T23:07:50.229Z"
   },
   {
    "duration": 497,
    "start_time": "2022-06-08T23:08:25.899Z"
   },
   {
    "duration": 474,
    "start_time": "2022-06-08T23:08:29.530Z"
   },
   {
    "duration": 9710,
    "start_time": "2022-06-08T23:08:34.542Z"
   },
   {
    "duration": 9670,
    "start_time": "2022-06-08T23:09:23.546Z"
   },
   {
    "duration": 9,
    "start_time": "2022-06-08T23:09:38.250Z"
   },
   {
    "duration": 531,
    "start_time": "2022-06-08T23:10:08.934Z"
   },
   {
    "duration": 76479,
    "start_time": "2022-06-08T23:10:52.108Z"
   },
   {
    "duration": 899,
    "start_time": "2022-06-08T23:13:59.480Z"
   },
   {
    "duration": 1086,
    "start_time": "2022-06-08T23:14:09.094Z"
   },
   {
    "duration": 1269,
    "start_time": "2022-06-08T23:14:15.388Z"
   },
   {
    "duration": 2038,
    "start_time": "2022-06-08T23:14:22.502Z"
   },
   {
    "duration": 894,
    "start_time": "2022-06-08T23:14:32.322Z"
   },
   {
    "duration": 3993,
    "start_time": "2022-06-08T23:14:37.946Z"
   },
   {
    "duration": 4754,
    "start_time": "2022-06-08T23:14:48.735Z"
   },
   {
    "duration": 5614,
    "start_time": "2022-06-08T23:14:58.214Z"
   },
   {
    "duration": 6297,
    "start_time": "2022-06-08T23:15:10.153Z"
   },
   {
    "duration": 7755,
    "start_time": "2022-06-08T23:15:20.439Z"
   },
   {
    "duration": 14933,
    "start_time": "2022-06-08T23:15:31.893Z"
   },
   {
    "duration": 19019,
    "start_time": "2022-06-08T23:15:54.728Z"
   },
   {
    "duration": 1768,
    "start_time": "2022-06-08T23:16:45.362Z"
   },
   {
    "duration": 19014,
    "start_time": "2022-06-08T23:17:06.950Z"
   },
   {
    "duration": 1094,
    "start_time": "2022-06-08T23:18:30.205Z"
   },
   {
    "duration": 3,
    "start_time": "2022-06-08T23:21:02.559Z"
   },
   {
    "duration": 4,
    "start_time": "2022-06-08T23:21:12.702Z"
   },
   {
    "duration": 2,
    "start_time": "2022-06-08T23:21:31.248Z"
   },
   {
    "duration": 9,
    "start_time": "2022-06-08T23:21:40.799Z"
   },
   {
    "duration": 2,
    "start_time": "2022-06-08T23:21:48.482Z"
   },
   {
    "duration": 1248,
    "start_time": "2022-06-09T02:11:36.007Z"
   },
   {
    "duration": 65,
    "start_time": "2022-06-09T02:11:39.707Z"
   },
   {
    "duration": 31,
    "start_time": "2022-06-09T02:11:40.497Z"
   },
   {
    "duration": 55,
    "start_time": "2022-06-09T02:11:41.101Z"
   },
   {
    "duration": 26,
    "start_time": "2022-06-09T02:11:41.436Z"
   },
   {
    "duration": 14,
    "start_time": "2022-06-09T02:11:42.182Z"
   },
   {
    "duration": 9,
    "start_time": "2022-06-09T02:11:42.362Z"
   },
   {
    "duration": 8,
    "start_time": "2022-06-09T02:11:42.547Z"
   },
   {
    "duration": 6,
    "start_time": "2022-06-09T02:11:42.708Z"
   },
   {
    "duration": 9,
    "start_time": "2022-06-09T02:11:42.885Z"
   },
   {
    "duration": 7,
    "start_time": "2022-06-09T02:11:43.055Z"
   },
   {
    "duration": 7,
    "start_time": "2022-06-09T02:11:43.220Z"
   },
   {
    "duration": 5,
    "start_time": "2022-06-09T02:11:43.385Z"
   },
   {
    "duration": 44,
    "start_time": "2022-06-09T02:11:44.021Z"
   },
   {
    "duration": 15,
    "start_time": "2022-06-09T02:11:44.507Z"
   },
   {
    "duration": 23,
    "start_time": "2022-06-09T02:11:44.681Z"
   },
   {
    "duration": 11,
    "start_time": "2022-06-09T02:11:45.204Z"
   },
   {
    "duration": 18,
    "start_time": "2022-06-09T02:11:45.383Z"
   },
   {
    "duration": 4,
    "start_time": "2022-06-09T02:11:45.551Z"
   },
   {
    "duration": 8,
    "start_time": "2022-06-09T02:11:45.727Z"
   },
   {
    "duration": 159,
    "start_time": "2022-06-09T02:11:46.053Z"
   },
   {
    "duration": 7,
    "start_time": "2022-06-09T02:11:46.237Z"
   },
   {
    "duration": 8,
    "start_time": "2022-06-09T02:11:46.396Z"
   },
   {
    "duration": 144,
    "start_time": "2022-06-09T02:11:46.734Z"
   },
   {
    "duration": 4,
    "start_time": "2022-06-09T02:11:47.438Z"
   },
   {
    "duration": 6,
    "start_time": "2022-06-09T02:11:47.615Z"
   },
   {
    "duration": 16,
    "start_time": "2022-06-09T02:11:47.785Z"
   },
   {
    "duration": 7,
    "start_time": "2022-06-09T02:11:47.950Z"
   },
   {
    "duration": 175,
    "start_time": "2022-06-09T02:11:48.112Z"
   },
   {
    "duration": 19,
    "start_time": "2022-06-09T02:11:48.398Z"
   },
   {
    "duration": 7,
    "start_time": "2022-06-09T02:11:48.556Z"
   },
   {
    "duration": 11,
    "start_time": "2022-06-09T02:11:48.615Z"
   },
   {
    "duration": 209,
    "start_time": "2022-06-09T02:11:48.785Z"
   },
   {
    "duration": 12,
    "start_time": "2022-06-09T02:11:48.995Z"
   },
   {
    "duration": 18,
    "start_time": "2022-06-09T02:11:49.591Z"
   },
   {
    "duration": 30,
    "start_time": "2022-06-09T02:11:49.647Z"
   },
   {
    "duration": 2,
    "start_time": "2022-06-09T02:11:49.814Z"
   },
   {
    "duration": 69,
    "start_time": "2022-06-09T02:11:49.995Z"
   },
   {
    "duration": 24,
    "start_time": "2022-06-09T02:11:50.200Z"
   },
   {
    "duration": 4,
    "start_time": "2022-06-09T02:11:50.405Z"
   },
   {
    "duration": 486,
    "start_time": "2022-06-09T02:11:51.027Z"
   },
   {
    "duration": 5,
    "start_time": "2022-06-09T02:11:51.515Z"
   },
   {
    "duration": 144,
    "start_time": "2022-06-09T02:11:52.138Z"
   },
   {
    "duration": 986,
    "start_time": "2022-06-09T02:11:54.868Z"
   },
   {
    "duration": 877,
    "start_time": "2022-06-09T02:11:55.975Z"
   },
   {
    "duration": 760,
    "start_time": "2022-06-09T02:11:56.854Z"
   },
   {
    "duration": 14283,
    "start_time": "2022-06-09T02:11:57.616Z"
   },
   {
    "duration": 6787,
    "start_time": "2022-06-09T02:12:11.902Z"
   },
   {
    "duration": 88,
    "start_time": "2022-06-09T02:12:35.215Z"
   },
   {
    "duration": 4,
    "start_time": "2022-06-09T02:12:37.237Z"
   },
   {
    "duration": 29,
    "start_time": "2022-06-09T02:12:38.690Z"
   },
   {
    "duration": 90,
    "start_time": "2022-06-09T02:12:39.322Z"
   },
   {
    "duration": 3,
    "start_time": "2022-06-09T02:12:39.827Z"
   },
   {
    "duration": 78,
    "start_time": "2022-06-09T02:12:40.919Z"
   },
   {
    "duration": 1175,
    "start_time": "2022-06-09T02:12:49.277Z"
   },
   {
    "duration": 20,
    "start_time": "2022-06-09T02:13:45.679Z"
   },
   {
    "duration": 4,
    "start_time": "2022-06-09T02:15:30.775Z"
   },
   {
    "duration": 682,
    "start_time": "2022-06-09T02:15:42.380Z"
   },
   {
    "duration": 1365,
    "start_time": "2022-06-09T02:17:11.450Z"
   },
   {
    "duration": 35,
    "start_time": "2022-06-09T02:18:29.306Z"
   },
   {
    "duration": 877,
    "start_time": "2022-06-09T02:18:57.190Z"
   },
   {
    "duration": 824,
    "start_time": "2022-06-09T02:20:25.779Z"
   },
   {
    "duration": 770,
    "start_time": "2022-06-09T02:20:40.007Z"
   },
   {
    "duration": 34,
    "start_time": "2022-06-09T02:22:01.331Z"
   },
   {
    "duration": 842,
    "start_time": "2022-06-09T02:22:12.050Z"
   },
   {
    "duration": 755,
    "start_time": "2022-06-09T02:22:31.097Z"
   },
   {
    "duration": 735,
    "start_time": "2022-06-09T02:22:46.177Z"
   },
   {
    "duration": 863,
    "start_time": "2022-06-09T02:23:24.088Z"
   },
   {
    "duration": 865,
    "start_time": "2022-06-09T02:24:31.005Z"
   },
   {
    "duration": 42,
    "start_time": "2022-06-09T02:25:46.697Z"
   },
   {
    "duration": 3,
    "start_time": "2022-06-09T02:25:47.514Z"
   },
   {
    "duration": 26,
    "start_time": "2022-06-09T02:25:48.240Z"
   },
   {
    "duration": 88,
    "start_time": "2022-06-09T02:25:48.791Z"
   },
   {
    "duration": 3,
    "start_time": "2022-06-09T02:25:49.443Z"
   },
   {
    "duration": 85,
    "start_time": "2022-06-09T02:25:50.057Z"
   },
   {
    "duration": 1155,
    "start_time": "2022-06-09T02:25:52.509Z"
   },
   {
    "duration": 1386,
    "start_time": "2022-06-09T02:25:53.666Z"
   },
   {
    "duration": 1060,
    "start_time": "2022-06-09T02:25:55.054Z"
   },
   {
    "duration": 8449,
    "start_time": "2022-06-09T02:25:56.116Z"
   },
   {
    "duration": 76972,
    "start_time": "2022-06-09T02:26:04.567Z"
   },
   {
    "duration": 19327,
    "start_time": "2022-06-09T02:27:21.541Z"
   },
   {
    "duration": 1352,
    "start_time": "2022-06-09T02:28:52.034Z"
   },
   {
    "duration": 982,
    "start_time": "2022-06-09T02:29:23.933Z"
   },
   {
    "duration": 985,
    "start_time": "2022-06-09T02:29:43.301Z"
   },
   {
    "duration": 1030,
    "start_time": "2022-06-09T02:30:17.111Z"
   },
   {
    "duration": 1021,
    "start_time": "2022-06-09T02:31:55.654Z"
   },
   {
    "duration": 11826,
    "start_time": "2022-06-09T02:32:18.651Z"
   },
   {
    "duration": 914,
    "start_time": "2022-06-09T02:33:05.453Z"
   },
   {
    "duration": 986,
    "start_time": "2022-06-09T02:34:03.331Z"
   },
   {
    "duration": 1510,
    "start_time": "2022-06-09T02:34:39.657Z"
   },
   {
    "duration": 1495,
    "start_time": "2022-06-09T02:34:56.831Z"
   },
   {
    "duration": 1426,
    "start_time": "2022-06-09T02:35:16.371Z"
   },
   {
    "duration": 2226,
    "start_time": "2022-06-09T02:35:35.508Z"
   },
   {
    "duration": 2259,
    "start_time": "2022-06-09T02:42:39.977Z"
   },
   {
    "duration": 1069,
    "start_time": "2022-06-09T02:43:09.107Z"
   },
   {
    "duration": 1023,
    "start_time": "2022-06-09T02:43:20.405Z"
   },
   {
    "duration": 1154,
    "start_time": "2022-06-09T02:44:21.967Z"
   },
   {
    "duration": 2209,
    "start_time": "2022-06-09T02:44:29.770Z"
   },
   {
    "duration": 14825,
    "start_time": "2022-06-09T02:44:54.875Z"
   },
   {
    "duration": 4744,
    "start_time": "2022-06-09T02:45:34.466Z"
   },
   {
    "duration": 14024,
    "start_time": "2022-06-09T02:47:15.552Z"
   },
   {
    "duration": 4210,
    "start_time": "2022-06-09T02:48:24.467Z"
   },
   {
    "duration": 31,
    "start_time": "2022-06-09T02:49:00.734Z"
   },
   {
    "duration": 256,
    "start_time": "2022-06-09T02:49:05.652Z"
   },
   {
    "duration": 105515,
    "start_time": "2022-06-09T02:49:14.652Z"
   },
   {
    "duration": 955,
    "start_time": "2022-06-09T02:51:10.913Z"
   },
   {
    "duration": 4115,
    "start_time": "2022-06-09T02:51:15.632Z"
   },
   {
    "duration": 960,
    "start_time": "2022-06-09T02:51:47.645Z"
   },
   {
    "duration": 1019,
    "start_time": "2022-06-09T02:52:11.396Z"
   },
   {
    "duration": 1766,
    "start_time": "2022-06-09T02:52:27.950Z"
   },
   {
    "duration": 2849,
    "start_time": "2022-06-09T02:53:11.737Z"
   },
   {
    "duration": 997,
    "start_time": "2022-06-09T02:53:39.534Z"
   },
   {
    "duration": 1751,
    "start_time": "2022-06-09T02:53:50.938Z"
   },
   {
    "duration": 1244,
    "start_time": "2022-06-09T02:54:10.767Z"
   },
   {
    "duration": 10,
    "start_time": "2022-06-09T02:58:55.509Z"
   },
   {
    "duration": 1042,
    "start_time": "2022-06-09T02:59:07.378Z"
   },
   {
    "duration": 1075,
    "start_time": "2022-06-09T02:59:40.897Z"
   },
   {
    "duration": 1141,
    "start_time": "2022-06-09T03:00:08.354Z"
   },
   {
    "duration": 1084,
    "start_time": "2022-06-09T03:01:20.651Z"
   },
   {
    "duration": 1034,
    "start_time": "2022-06-09T03:01:44.596Z"
   },
   {
    "duration": 945,
    "start_time": "2022-06-09T03:02:04.913Z"
   },
   {
    "duration": 1090,
    "start_time": "2022-06-09T03:02:16.866Z"
   },
   {
    "duration": 1176,
    "start_time": "2022-06-09T03:02:38.200Z"
   },
   {
    "duration": 1357,
    "start_time": "2022-06-09T03:02:50.350Z"
   },
   {
    "duration": 1856,
    "start_time": "2022-06-09T03:03:07.996Z"
   },
   {
    "duration": 3334,
    "start_time": "2022-06-09T03:03:30.389Z"
   },
   {
    "duration": 7841,
    "start_time": "2022-06-09T03:03:54.494Z"
   },
   {
    "duration": 7541,
    "start_time": "2022-06-09T03:05:56.364Z"
   },
   {
    "duration": 90,
    "start_time": "2022-06-09T03:09:48.418Z"
   },
   {
    "duration": 2321,
    "start_time": "2022-06-09T03:10:12.944Z"
   },
   {
    "duration": 4338,
    "start_time": "2022-06-09T03:10:25.072Z"
   },
   {
    "duration": 4928,
    "start_time": "2022-06-09T03:10:39.907Z"
   },
   {
    "duration": 7469,
    "start_time": "2022-06-09T03:10:58.967Z"
   },
   {
    "duration": 17072,
    "start_time": "2022-06-09T03:11:22.217Z"
   },
   {
    "duration": 3127,
    "start_time": "2022-06-09T03:11:55.125Z"
   },
   {
    "duration": 5418,
    "start_time": "2022-06-09T03:12:18.669Z"
   },
   {
    "duration": 5293,
    "start_time": "2022-06-09T03:12:37.871Z"
   },
   {
    "duration": 5464,
    "start_time": "2022-06-09T03:12:56.209Z"
   },
   {
    "duration": 5434,
    "start_time": "2022-06-09T03:13:12.901Z"
   },
   {
    "duration": 5836,
    "start_time": "2022-06-09T03:13:31.591Z"
   },
   {
    "duration": 5885,
    "start_time": "2022-06-09T03:13:50.703Z"
   },
   {
    "duration": 5390,
    "start_time": "2022-06-09T03:14:07.996Z"
   },
   {
    "duration": 5821,
    "start_time": "2022-06-09T03:14:33.783Z"
   },
   {
    "duration": 5661,
    "start_time": "2022-06-09T03:15:04.147Z"
   },
   {
    "duration": 6243,
    "start_time": "2022-06-09T03:17:50.871Z"
   },
   {
    "duration": 5632,
    "start_time": "2022-06-09T03:18:27.886Z"
   },
   {
    "duration": 24502,
    "start_time": "2022-06-09T03:18:44.489Z"
   },
   {
    "duration": 48011,
    "start_time": "2022-06-09T03:19:34.227Z"
   },
   {
    "duration": 176195,
    "start_time": "2022-06-09T03:20:47.107Z"
   },
   {
    "duration": 43525,
    "start_time": "2022-06-09T03:24:13.354Z"
   },
   {
    "duration": 44230,
    "start_time": "2022-06-09T03:25:35.700Z"
   },
   {
    "duration": 427769,
    "start_time": "2022-06-09T03:28:27.760Z"
   },
   {
    "duration": 84,
    "start_time": "2022-06-09T03:36:16.493Z"
   },
   {
    "duration": 91,
    "start_time": "2022-06-09T03:36:34.675Z"
   },
   {
    "duration": 136,
    "start_time": "2022-06-09T03:36:55.101Z"
   },
   {
    "duration": 106,
    "start_time": "2022-06-09T03:37:05.295Z"
   },
   {
    "duration": 20401,
    "start_time": "2022-06-09T03:37:36.435Z"
   },
   {
    "duration": 76274,
    "start_time": "2022-06-09T03:37:58.770Z"
   },
   {
    "duration": 8514,
    "start_time": "2022-06-09T03:40:10.123Z"
   },
   {
    "duration": 9241,
    "start_time": "2022-06-09T03:40:48.430Z"
   },
   {
    "duration": 35163,
    "start_time": "2022-06-09T03:41:10.686Z"
   },
   {
    "duration": 37078,
    "start_time": "2022-06-09T03:42:06.003Z"
   },
   {
    "duration": 100,
    "start_time": "2022-06-09T03:42:54.059Z"
   },
   {
    "duration": 76,
    "start_time": "2022-06-09T03:43:32.025Z"
   },
   {
    "duration": 37046,
    "start_time": "2022-06-09T03:44:20.639Z"
   },
   {
    "duration": 34185,
    "start_time": "2022-06-09T03:45:16.919Z"
   },
   {
    "duration": 16296,
    "start_time": "2022-06-09T03:46:09.379Z"
   },
   {
    "duration": 929,
    "start_time": "2022-06-09T03:46:32.647Z"
   },
   {
    "duration": 925,
    "start_time": "2022-06-09T03:46:40.257Z"
   },
   {
    "duration": 899,
    "start_time": "2022-06-09T03:46:47.170Z"
   },
   {
    "duration": 931,
    "start_time": "2022-06-09T03:46:56.971Z"
   },
   {
    "duration": 875,
    "start_time": "2022-06-09T03:47:04.213Z"
   },
   {
    "duration": 902,
    "start_time": "2022-06-09T03:47:09.403Z"
   },
   {
    "duration": 965,
    "start_time": "2022-06-09T03:47:17.977Z"
   },
   {
    "duration": 911,
    "start_time": "2022-06-09T03:47:25.377Z"
   },
   {
    "duration": 920,
    "start_time": "2022-06-09T03:47:37.393Z"
   },
   {
    "duration": 899,
    "start_time": "2022-06-09T03:47:48.660Z"
   },
   {
    "duration": 894,
    "start_time": "2022-06-09T03:47:56.719Z"
   },
   {
    "duration": 998,
    "start_time": "2022-06-09T03:48:05.058Z"
   },
   {
    "duration": 967,
    "start_time": "2022-06-09T03:48:17.697Z"
   },
   {
    "duration": 872,
    "start_time": "2022-06-09T03:48:26.515Z"
   },
   {
    "duration": 972,
    "start_time": "2022-06-09T03:48:33.184Z"
   },
   {
    "duration": 912,
    "start_time": "2022-06-09T03:48:41.298Z"
   },
   {
    "duration": 1663,
    "start_time": "2022-06-09T03:48:48.741Z"
   },
   {
    "duration": 2466,
    "start_time": "2022-06-09T03:49:04.012Z"
   },
   {
    "duration": 3126,
    "start_time": "2022-06-09T03:49:18.320Z"
   },
   {
    "duration": 1667,
    "start_time": "2022-06-09T03:49:42.746Z"
   },
   {
    "duration": 1612,
    "start_time": "2022-06-09T03:49:49.013Z"
   },
   {
    "duration": 19235,
    "start_time": "2022-06-09T03:50:09.160Z"
   },
   {
    "duration": 1161,
    "start_time": "2022-06-09T03:50:45.901Z"
   },
   {
    "duration": 1361,
    "start_time": "2022-06-09T03:51:08.073Z"
   },
   {
    "duration": 1218,
    "start_time": "2022-06-09T03:51:19.094Z"
   },
   {
    "duration": 1397,
    "start_time": "2022-06-09T03:51:40.835Z"
   },
   {
    "duration": 1228,
    "start_time": "2022-06-09T03:51:48.710Z"
   },
   {
    "duration": 1283,
    "start_time": "2022-06-09T03:51:53.323Z"
   },
   {
    "duration": 1267,
    "start_time": "2022-06-09T03:52:11.941Z"
   },
   {
    "duration": 1369,
    "start_time": "2022-06-09T03:52:34.413Z"
   },
   {
    "duration": 1320,
    "start_time": "2022-06-09T03:52:53.841Z"
   },
   {
    "duration": 1279,
    "start_time": "2022-06-09T03:53:27.775Z"
   },
   {
    "duration": 2155,
    "start_time": "2022-06-09T03:55:19.854Z"
   },
   {
    "duration": 2121,
    "start_time": "2022-06-09T03:56:13.091Z"
   },
   {
    "duration": 3529,
    "start_time": "2022-06-09T03:56:29.225Z"
   },
   {
    "duration": 2085,
    "start_time": "2022-06-09T03:56:50.367Z"
   },
   {
    "duration": 1222,
    "start_time": "2022-06-09T03:57:18.196Z"
   },
   {
    "duration": 1159,
    "start_time": "2022-06-09T03:59:09.859Z"
   },
   {
    "duration": 942,
    "start_time": "2022-06-09T04:00:04.611Z"
   },
   {
    "duration": 13184,
    "start_time": "2022-06-09T04:00:37.758Z"
   },
   {
    "duration": 898,
    "start_time": "2022-06-09T04:02:37.655Z"
   },
   {
    "duration": 1410,
    "start_time": "2022-06-09T04:02:47.277Z"
   },
   {
    "duration": 46,
    "start_time": "2022-06-09T23:00:03.511Z"
   },
   {
    "duration": 1467,
    "start_time": "2022-06-09T23:00:19.865Z"
   },
   {
    "duration": 130,
    "start_time": "2022-06-09T23:00:21.333Z"
   },
   {
    "duration": 125,
    "start_time": "2022-06-09T23:00:22.441Z"
   },
   {
    "duration": 67,
    "start_time": "2022-06-09T23:00:22.863Z"
   },
   {
    "duration": 78,
    "start_time": "2022-06-09T23:00:23.322Z"
   },
   {
    "duration": 15,
    "start_time": "2022-06-09T23:00:24.934Z"
   },
   {
    "duration": 9,
    "start_time": "2022-06-09T23:00:25.268Z"
   },
   {
    "duration": 8,
    "start_time": "2022-06-09T23:00:25.623Z"
   },
   {
    "duration": 7,
    "start_time": "2022-06-09T23:00:25.927Z"
   },
   {
    "duration": 15,
    "start_time": "2022-06-09T23:00:26.241Z"
   },
   {
    "duration": 7,
    "start_time": "2022-06-09T23:00:26.610Z"
   },
   {
    "duration": 7,
    "start_time": "2022-06-09T23:00:26.927Z"
   },
   {
    "duration": 6,
    "start_time": "2022-06-09T23:00:27.265Z"
   },
   {
    "duration": 38,
    "start_time": "2022-06-09T23:00:29.268Z"
   },
   {
    "duration": 16,
    "start_time": "2022-06-09T23:00:31.503Z"
   },
   {
    "duration": 27,
    "start_time": "2022-06-09T23:00:31.909Z"
   },
   {
    "duration": 11,
    "start_time": "2022-06-09T23:00:33.199Z"
   },
   {
    "duration": 17,
    "start_time": "2022-06-09T23:00:33.623Z"
   },
   {
    "duration": 5,
    "start_time": "2022-06-09T23:00:34.045Z"
   },
   {
    "duration": 9,
    "start_time": "2022-06-09T23:00:34.607Z"
   },
   {
    "duration": 163,
    "start_time": "2022-06-09T23:00:37.687Z"
   },
   {
    "duration": 7,
    "start_time": "2022-06-09T23:00:38.398Z"
   },
   {
    "duration": 8,
    "start_time": "2022-06-09T23:00:39.045Z"
   },
   {
    "duration": 169,
    "start_time": "2022-06-09T23:00:40.241Z"
   },
   {
    "duration": 4,
    "start_time": "2022-06-09T23:00:44.456Z"
   },
   {
    "duration": 7,
    "start_time": "2022-06-09T23:00:44.955Z"
   },
   {
    "duration": 18,
    "start_time": "2022-06-09T23:00:45.429Z"
   },
   {
    "duration": 8,
    "start_time": "2022-06-09T23:00:46.952Z"
   },
   {
    "duration": 232,
    "start_time": "2022-06-09T23:00:47.630Z"
   },
   {
    "duration": 18,
    "start_time": "2022-06-09T23:00:48.656Z"
   },
   {
    "duration": 8,
    "start_time": "2022-06-09T23:00:50.913Z"
   },
   {
    "duration": 11,
    "start_time": "2022-06-09T23:00:51.558Z"
   },
   {
    "duration": 17,
    "start_time": "2022-06-09T23:02:02.642Z"
   },
   {
    "duration": 9,
    "start_time": "2022-06-09T23:02:05.709Z"
   },
   {
    "duration": 15,
    "start_time": "2022-06-09T23:02:06.161Z"
   },
   {
    "duration": 157,
    "start_time": "2022-06-09T23:02:06.821Z"
   },
   {
    "duration": 12,
    "start_time": "2022-06-09T23:02:07.449Z"
   },
   {
    "duration": 5,
    "start_time": "2022-06-09T23:02:08.357Z"
   },
   {
    "duration": 6,
    "start_time": "2022-06-09T23:02:52.755Z"
   },
   {
    "duration": 7,
    "start_time": "2022-06-09T23:04:36.011Z"
   },
   {
    "duration": 436,
    "start_time": "2022-06-09T23:05:43.626Z"
   },
   {
    "duration": 292,
    "start_time": "2022-06-09T23:05:58.318Z"
   },
   {
    "duration": 6,
    "start_time": "2022-06-09T23:06:06.026Z"
   },
   {
    "duration": 6,
    "start_time": "2022-06-09T23:06:21.126Z"
   },
   {
    "duration": 5,
    "start_time": "2022-06-09T23:07:02.758Z"
   },
   {
    "duration": 5,
    "start_time": "2022-06-09T23:10:31.619Z"
   },
   {
    "duration": 5,
    "start_time": "2022-06-09T23:10:32.598Z"
   },
   {
    "duration": 9,
    "start_time": "2022-06-09T23:10:56.526Z"
   },
   {
    "duration": 6,
    "start_time": "2022-06-09T23:11:01.757Z"
   },
   {
    "duration": 5,
    "start_time": "2022-06-09T23:13:41.512Z"
   },
   {
    "duration": 6,
    "start_time": "2022-06-09T23:16:03.262Z"
   },
   {
    "duration": 51,
    "start_time": "2022-06-09T23:22:05.996Z"
   }
  ],
  "kernelspec": {
   "display_name": "Python 3 (ipykernel)",
   "language": "python",
   "name": "python3"
  },
  "language_info": {
   "codemirror_mode": {
    "name": "ipython",
    "version": 3
   },
   "file_extension": ".py",
   "mimetype": "text/x-python",
   "name": "python",
   "nbconvert_exporter": "python",
   "pygments_lexer": "ipython3",
   "version": "3.9.7"
  },
  "toc": {
   "base_numbering": 1,
   "nav_menu": {},
   "number_sections": true,
   "sideBar": true,
   "skip_h1_title": true,
   "title_cell": "Table of Contents",
   "title_sidebar": "Contents",
   "toc_cell": false,
   "toc_position": {},
   "toc_section_display": true,
   "toc_window_display": false
  }
 },
 "nbformat": 4,
 "nbformat_minor": 2
}
