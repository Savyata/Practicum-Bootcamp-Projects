{
 "cells": [
  {
   "cell_type": "markdown",
   "metadata": {},
   "source": [
    "# Project Background\n",
    "\n",
    "Beta Bank customers are leaving: little by little, chipping away every month. The bankers figured out it’s cheaper to save the existing customers rather than to attract new ones.\n",
    "We need to predict whether a customer will leave the bank soon. You have the data on clients’ past behavior and termination of contracts with the bank."
   ]
  },
  {
   "cell_type": "markdown",
   "metadata": {},
   "source": [
    "# Data Description\n",
    "\n",
    "- RowNumber — data string index\n",
    "- CustomerId — unique customer identifier\n",
    "- Surname — surname\n",
    "- CreditScore — credit score\n",
    "- Geography — country of residence\n",
    "- Gender — gender\n",
    "- Age — age\n",
    "- Tenure — period of maturation for a customer’s fixed deposit (years)\n",
    "- Balance — account balance\n",
    "- NumOfProducts — number of banking products used by the customer\n",
    "- HasCrCard — customer has a credit card\n",
    "- IsActiveMember — customer’s activeness\n",
    "- EstimatedSalary — estimated salary\n",
    "- Exited — сustomer has left"
   ]
  },
  {
   "cell_type": "markdown",
   "metadata": {},
   "source": [
    "**Importing Necessary Libraries**"
   ]
  },
  {
   "cell_type": "code",
   "execution_count": 128,
   "metadata": {},
   "outputs": [],
   "source": [
    "import pandas as pd\n",
    "import numpy as np\n",
    "from sklearn.metrics import f1_score\n",
    "from sklearn.tree import DecisionTreeClassifier\n",
    "from sklearn.ensemble import RandomForestClassifier\n",
    "from sklearn.linear_model import LogisticRegression\n",
    "from sklearn.metrics import accuracy_score \n",
    "from sklearn.model_selection import train_test_split\n",
    "from catboost import CatBoostClassifier, Pool\n",
    "from sklearn.metrics import roc_auc_score\n",
    "from sklearn.utils import shuffle"
   ]
  },
  {
   "cell_type": "markdown",
   "metadata": {},
   "source": [
    "#### Data Exploration"
   ]
  },
  {
   "cell_type": "code",
   "execution_count": 129,
   "metadata": {},
   "outputs": [
    {
     "data": {
      "text/html": [
       "<div>\n",
       "<style scoped>\n",
       "    .dataframe tbody tr th:only-of-type {\n",
       "        vertical-align: middle;\n",
       "    }\n",
       "\n",
       "    .dataframe tbody tr th {\n",
       "        vertical-align: top;\n",
       "    }\n",
       "\n",
       "    .dataframe thead th {\n",
       "        text-align: right;\n",
       "    }\n",
       "</style>\n",
       "<table border=\"1\" class=\"dataframe\">\n",
       "  <thead>\n",
       "    <tr style=\"text-align: right;\">\n",
       "      <th></th>\n",
       "      <th>RowNumber</th>\n",
       "      <th>CustomerId</th>\n",
       "      <th>Surname</th>\n",
       "      <th>CreditScore</th>\n",
       "      <th>Geography</th>\n",
       "      <th>Gender</th>\n",
       "      <th>Age</th>\n",
       "      <th>Tenure</th>\n",
       "      <th>Balance</th>\n",
       "      <th>NumOfProducts</th>\n",
       "      <th>HasCrCard</th>\n",
       "      <th>IsActiveMember</th>\n",
       "      <th>EstimatedSalary</th>\n",
       "      <th>Exited</th>\n",
       "    </tr>\n",
       "  </thead>\n",
       "  <tbody>\n",
       "    <tr>\n",
       "      <th>0</th>\n",
       "      <td>1</td>\n",
       "      <td>15634602</td>\n",
       "      <td>Hargrave</td>\n",
       "      <td>619</td>\n",
       "      <td>France</td>\n",
       "      <td>Female</td>\n",
       "      <td>42</td>\n",
       "      <td>2.0</td>\n",
       "      <td>0.00</td>\n",
       "      <td>1</td>\n",
       "      <td>1</td>\n",
       "      <td>1</td>\n",
       "      <td>101348.88</td>\n",
       "      <td>1</td>\n",
       "    </tr>\n",
       "    <tr>\n",
       "      <th>1</th>\n",
       "      <td>2</td>\n",
       "      <td>15647311</td>\n",
       "      <td>Hill</td>\n",
       "      <td>608</td>\n",
       "      <td>Spain</td>\n",
       "      <td>Female</td>\n",
       "      <td>41</td>\n",
       "      <td>1.0</td>\n",
       "      <td>83807.86</td>\n",
       "      <td>1</td>\n",
       "      <td>0</td>\n",
       "      <td>1</td>\n",
       "      <td>112542.58</td>\n",
       "      <td>0</td>\n",
       "    </tr>\n",
       "    <tr>\n",
       "      <th>2</th>\n",
       "      <td>3</td>\n",
       "      <td>15619304</td>\n",
       "      <td>Onio</td>\n",
       "      <td>502</td>\n",
       "      <td>France</td>\n",
       "      <td>Female</td>\n",
       "      <td>42</td>\n",
       "      <td>8.0</td>\n",
       "      <td>159660.80</td>\n",
       "      <td>3</td>\n",
       "      <td>1</td>\n",
       "      <td>0</td>\n",
       "      <td>113931.57</td>\n",
       "      <td>1</td>\n",
       "    </tr>\n",
       "    <tr>\n",
       "      <th>3</th>\n",
       "      <td>4</td>\n",
       "      <td>15701354</td>\n",
       "      <td>Boni</td>\n",
       "      <td>699</td>\n",
       "      <td>France</td>\n",
       "      <td>Female</td>\n",
       "      <td>39</td>\n",
       "      <td>1.0</td>\n",
       "      <td>0.00</td>\n",
       "      <td>2</td>\n",
       "      <td>0</td>\n",
       "      <td>0</td>\n",
       "      <td>93826.63</td>\n",
       "      <td>0</td>\n",
       "    </tr>\n",
       "    <tr>\n",
       "      <th>4</th>\n",
       "      <td>5</td>\n",
       "      <td>15737888</td>\n",
       "      <td>Mitchell</td>\n",
       "      <td>850</td>\n",
       "      <td>Spain</td>\n",
       "      <td>Female</td>\n",
       "      <td>43</td>\n",
       "      <td>2.0</td>\n",
       "      <td>125510.82</td>\n",
       "      <td>1</td>\n",
       "      <td>1</td>\n",
       "      <td>1</td>\n",
       "      <td>79084.10</td>\n",
       "      <td>0</td>\n",
       "    </tr>\n",
       "    <tr>\n",
       "      <th>5</th>\n",
       "      <td>6</td>\n",
       "      <td>15574012</td>\n",
       "      <td>Chu</td>\n",
       "      <td>645</td>\n",
       "      <td>Spain</td>\n",
       "      <td>Male</td>\n",
       "      <td>44</td>\n",
       "      <td>8.0</td>\n",
       "      <td>113755.78</td>\n",
       "      <td>2</td>\n",
       "      <td>1</td>\n",
       "      <td>0</td>\n",
       "      <td>149756.71</td>\n",
       "      <td>1</td>\n",
       "    </tr>\n",
       "    <tr>\n",
       "      <th>6</th>\n",
       "      <td>7</td>\n",
       "      <td>15592531</td>\n",
       "      <td>Bartlett</td>\n",
       "      <td>822</td>\n",
       "      <td>France</td>\n",
       "      <td>Male</td>\n",
       "      <td>50</td>\n",
       "      <td>7.0</td>\n",
       "      <td>0.00</td>\n",
       "      <td>2</td>\n",
       "      <td>1</td>\n",
       "      <td>1</td>\n",
       "      <td>10062.80</td>\n",
       "      <td>0</td>\n",
       "    </tr>\n",
       "    <tr>\n",
       "      <th>7</th>\n",
       "      <td>8</td>\n",
       "      <td>15656148</td>\n",
       "      <td>Obinna</td>\n",
       "      <td>376</td>\n",
       "      <td>Germany</td>\n",
       "      <td>Female</td>\n",
       "      <td>29</td>\n",
       "      <td>4.0</td>\n",
       "      <td>115046.74</td>\n",
       "      <td>4</td>\n",
       "      <td>1</td>\n",
       "      <td>0</td>\n",
       "      <td>119346.88</td>\n",
       "      <td>1</td>\n",
       "    </tr>\n",
       "    <tr>\n",
       "      <th>8</th>\n",
       "      <td>9</td>\n",
       "      <td>15792365</td>\n",
       "      <td>He</td>\n",
       "      <td>501</td>\n",
       "      <td>France</td>\n",
       "      <td>Male</td>\n",
       "      <td>44</td>\n",
       "      <td>4.0</td>\n",
       "      <td>142051.07</td>\n",
       "      <td>2</td>\n",
       "      <td>0</td>\n",
       "      <td>1</td>\n",
       "      <td>74940.50</td>\n",
       "      <td>0</td>\n",
       "    </tr>\n",
       "    <tr>\n",
       "      <th>9</th>\n",
       "      <td>10</td>\n",
       "      <td>15592389</td>\n",
       "      <td>H?</td>\n",
       "      <td>684</td>\n",
       "      <td>France</td>\n",
       "      <td>Male</td>\n",
       "      <td>27</td>\n",
       "      <td>2.0</td>\n",
       "      <td>134603.88</td>\n",
       "      <td>1</td>\n",
       "      <td>1</td>\n",
       "      <td>1</td>\n",
       "      <td>71725.73</td>\n",
       "      <td>0</td>\n",
       "    </tr>\n",
       "  </tbody>\n",
       "</table>\n",
       "</div>"
      ],
      "text/plain": [
       "   RowNumber  CustomerId   Surname  CreditScore Geography  Gender  Age  \\\n",
       "0          1    15634602  Hargrave          619    France  Female   42   \n",
       "1          2    15647311      Hill          608     Spain  Female   41   \n",
       "2          3    15619304      Onio          502    France  Female   42   \n",
       "3          4    15701354      Boni          699    France  Female   39   \n",
       "4          5    15737888  Mitchell          850     Spain  Female   43   \n",
       "5          6    15574012       Chu          645     Spain    Male   44   \n",
       "6          7    15592531  Bartlett          822    France    Male   50   \n",
       "7          8    15656148    Obinna          376   Germany  Female   29   \n",
       "8          9    15792365        He          501    France    Male   44   \n",
       "9         10    15592389        H?          684    France    Male   27   \n",
       "\n",
       "   Tenure    Balance  NumOfProducts  HasCrCard  IsActiveMember  \\\n",
       "0     2.0       0.00              1          1               1   \n",
       "1     1.0   83807.86              1          0               1   \n",
       "2     8.0  159660.80              3          1               0   \n",
       "3     1.0       0.00              2          0               0   \n",
       "4     2.0  125510.82              1          1               1   \n",
       "5     8.0  113755.78              2          1               0   \n",
       "6     7.0       0.00              2          1               1   \n",
       "7     4.0  115046.74              4          1               0   \n",
       "8     4.0  142051.07              2          0               1   \n",
       "9     2.0  134603.88              1          1               1   \n",
       "\n",
       "   EstimatedSalary  Exited  \n",
       "0        101348.88       1  \n",
       "1        112542.58       0  \n",
       "2        113931.57       1  \n",
       "3         93826.63       0  \n",
       "4         79084.10       0  \n",
       "5        149756.71       1  \n",
       "6         10062.80       0  \n",
       "7        119346.88       1  \n",
       "8         74940.50       0  \n",
       "9         71725.73       0  "
      ]
     },
     "execution_count": 129,
     "metadata": {},
     "output_type": "execute_result"
    }
   ],
   "source": [
    "data = pd.read_csv('/Users/rsavy/Downloads/Churn.csv')\n",
    "data.head(10)"
   ]
  },
  {
   "cell_type": "code",
   "execution_count": 130,
   "metadata": {},
   "outputs": [
    {
     "name": "stdout",
     "output_type": "stream",
     "text": [
      "The size of table is (10000, 14)\n"
     ]
    }
   ],
   "source": [
    "print(\"The size of table is\", data.shape)"
   ]
  },
  {
   "cell_type": "code",
   "execution_count": 131,
   "metadata": {},
   "outputs": [
    {
     "data": {
      "text/plain": [
       "RowNumber            0\n",
       "CustomerId           0\n",
       "Surname              0\n",
       "CreditScore          0\n",
       "Geography            0\n",
       "Gender               0\n",
       "Age                  0\n",
       "Tenure             909\n",
       "Balance              0\n",
       "NumOfProducts        0\n",
       "HasCrCard            0\n",
       "IsActiveMember       0\n",
       "EstimatedSalary      0\n",
       "Exited               0\n",
       "dtype: int64"
      ]
     },
     "execution_count": 131,
     "metadata": {},
     "output_type": "execute_result"
    }
   ],
   "source": [
    "data.isnull().sum()"
   ]
  },
  {
   "cell_type": "markdown",
   "metadata": {},
   "source": [
    "We have 909 missing values in Tenure column. Tenure reflects period of maturation for a customer’s fixed deposit (years). Lets look closely into the missing values dataframe."
   ]
  },
  {
   "cell_type": "code",
   "execution_count": 132,
   "metadata": {},
   "outputs": [
    {
     "data": {
      "text/html": [
       "<div>\n",
       "<style scoped>\n",
       "    .dataframe tbody tr th:only-of-type {\n",
       "        vertical-align: middle;\n",
       "    }\n",
       "\n",
       "    .dataframe tbody tr th {\n",
       "        vertical-align: top;\n",
       "    }\n",
       "\n",
       "    .dataframe thead th {\n",
       "        text-align: right;\n",
       "    }\n",
       "</style>\n",
       "<table border=\"1\" class=\"dataframe\">\n",
       "  <thead>\n",
       "    <tr style=\"text-align: right;\">\n",
       "      <th></th>\n",
       "      <th>RowNumber</th>\n",
       "      <th>CustomerId</th>\n",
       "      <th>Surname</th>\n",
       "      <th>CreditScore</th>\n",
       "      <th>Geography</th>\n",
       "      <th>Gender</th>\n",
       "      <th>Age</th>\n",
       "      <th>Tenure</th>\n",
       "      <th>Balance</th>\n",
       "      <th>NumOfProducts</th>\n",
       "      <th>HasCrCard</th>\n",
       "      <th>IsActiveMember</th>\n",
       "      <th>EstimatedSalary</th>\n",
       "      <th>Exited</th>\n",
       "    </tr>\n",
       "  </thead>\n",
       "  <tbody>\n",
       "    <tr>\n",
       "      <th>992</th>\n",
       "      <td>993</td>\n",
       "      <td>15724563</td>\n",
       "      <td>Hawkins</td>\n",
       "      <td>752</td>\n",
       "      <td>Germany</td>\n",
       "      <td>Female</td>\n",
       "      <td>42</td>\n",
       "      <td>NaN</td>\n",
       "      <td>65046.08</td>\n",
       "      <td>2</td>\n",
       "      <td>0</td>\n",
       "      <td>1</td>\n",
       "      <td>140139.28</td>\n",
       "      <td>0</td>\n",
       "    </tr>\n",
       "    <tr>\n",
       "      <th>353</th>\n",
       "      <td>354</td>\n",
       "      <td>15812007</td>\n",
       "      <td>Power</td>\n",
       "      <td>670</td>\n",
       "      <td>Spain</td>\n",
       "      <td>Male</td>\n",
       "      <td>25</td>\n",
       "      <td>NaN</td>\n",
       "      <td>0.00</td>\n",
       "      <td>2</td>\n",
       "      <td>1</td>\n",
       "      <td>1</td>\n",
       "      <td>78358.94</td>\n",
       "      <td>0</td>\n",
       "    </tr>\n",
       "    <tr>\n",
       "      <th>3586</th>\n",
       "      <td>3587</td>\n",
       "      <td>15652626</td>\n",
       "      <td>Grave</td>\n",
       "      <td>826</td>\n",
       "      <td>France</td>\n",
       "      <td>Male</td>\n",
       "      <td>55</td>\n",
       "      <td>NaN</td>\n",
       "      <td>115285.85</td>\n",
       "      <td>1</td>\n",
       "      <td>1</td>\n",
       "      <td>0</td>\n",
       "      <td>140126.17</td>\n",
       "      <td>0</td>\n",
       "    </tr>\n",
       "    <tr>\n",
       "      <th>8148</th>\n",
       "      <td>8149</td>\n",
       "      <td>15572777</td>\n",
       "      <td>Meng</td>\n",
       "      <td>780</td>\n",
       "      <td>Spain</td>\n",
       "      <td>Male</td>\n",
       "      <td>47</td>\n",
       "      <td>NaN</td>\n",
       "      <td>86006.21</td>\n",
       "      <td>1</td>\n",
       "      <td>1</td>\n",
       "      <td>1</td>\n",
       "      <td>37973.13</td>\n",
       "      <td>0</td>\n",
       "    </tr>\n",
       "    <tr>\n",
       "      <th>8430</th>\n",
       "      <td>8431</td>\n",
       "      <td>15775949</td>\n",
       "      <td>Trevisani</td>\n",
       "      <td>612</td>\n",
       "      <td>France</td>\n",
       "      <td>Female</td>\n",
       "      <td>38</td>\n",
       "      <td>NaN</td>\n",
       "      <td>110615.47</td>\n",
       "      <td>1</td>\n",
       "      <td>1</td>\n",
       "      <td>1</td>\n",
       "      <td>193502.93</td>\n",
       "      <td>0</td>\n",
       "    </tr>\n",
       "    <tr>\n",
       "      <th>5866</th>\n",
       "      <td>5867</td>\n",
       "      <td>15600392</td>\n",
       "      <td>Amaechi</td>\n",
       "      <td>735</td>\n",
       "      <td>France</td>\n",
       "      <td>Female</td>\n",
       "      <td>53</td>\n",
       "      <td>NaN</td>\n",
       "      <td>123845.36</td>\n",
       "      <td>2</td>\n",
       "      <td>0</td>\n",
       "      <td>1</td>\n",
       "      <td>170454.93</td>\n",
       "      <td>1</td>\n",
       "    </tr>\n",
       "    <tr>\n",
       "      <th>1771</th>\n",
       "      <td>1772</td>\n",
       "      <td>15633260</td>\n",
       "      <td>Dumetochukwu</td>\n",
       "      <td>600</td>\n",
       "      <td>France</td>\n",
       "      <td>Male</td>\n",
       "      <td>37</td>\n",
       "      <td>NaN</td>\n",
       "      <td>142663.46</td>\n",
       "      <td>1</td>\n",
       "      <td>0</td>\n",
       "      <td>1</td>\n",
       "      <td>88669.89</td>\n",
       "      <td>0</td>\n",
       "    </tr>\n",
       "    <tr>\n",
       "      <th>9281</th>\n",
       "      <td>9282</td>\n",
       "      <td>15679966</td>\n",
       "      <td>Marsh</td>\n",
       "      <td>661</td>\n",
       "      <td>France</td>\n",
       "      <td>Female</td>\n",
       "      <td>31</td>\n",
       "      <td>NaN</td>\n",
       "      <td>133964.30</td>\n",
       "      <td>1</td>\n",
       "      <td>1</td>\n",
       "      <td>1</td>\n",
       "      <td>166187.10</td>\n",
       "      <td>0</td>\n",
       "    </tr>\n",
       "    <tr>\n",
       "      <th>3778</th>\n",
       "      <td>3779</td>\n",
       "      <td>15658486</td>\n",
       "      <td>Gidney</td>\n",
       "      <td>579</td>\n",
       "      <td>Spain</td>\n",
       "      <td>Female</td>\n",
       "      <td>59</td>\n",
       "      <td>NaN</td>\n",
       "      <td>148021.12</td>\n",
       "      <td>1</td>\n",
       "      <td>1</td>\n",
       "      <td>1</td>\n",
       "      <td>74878.22</td>\n",
       "      <td>0</td>\n",
       "    </tr>\n",
       "    <tr>\n",
       "      <th>8766</th>\n",
       "      <td>8767</td>\n",
       "      <td>15638159</td>\n",
       "      <td>Trentino</td>\n",
       "      <td>649</td>\n",
       "      <td>Spain</td>\n",
       "      <td>Female</td>\n",
       "      <td>36</td>\n",
       "      <td>NaN</td>\n",
       "      <td>86607.39</td>\n",
       "      <td>1</td>\n",
       "      <td>0</td>\n",
       "      <td>0</td>\n",
       "      <td>19825.09</td>\n",
       "      <td>0</td>\n",
       "    </tr>\n",
       "    <tr>\n",
       "      <th>6936</th>\n",
       "      <td>6937</td>\n",
       "      <td>15679928</td>\n",
       "      <td>Horsfall</td>\n",
       "      <td>592</td>\n",
       "      <td>France</td>\n",
       "      <td>Female</td>\n",
       "      <td>31</td>\n",
       "      <td>NaN</td>\n",
       "      <td>84102.11</td>\n",
       "      <td>2</td>\n",
       "      <td>0</td>\n",
       "      <td>1</td>\n",
       "      <td>116385.24</td>\n",
       "      <td>0</td>\n",
       "    </tr>\n",
       "    <tr>\n",
       "      <th>7705</th>\n",
       "      <td>7706</td>\n",
       "      <td>15647306</td>\n",
       "      <td>Gibbs</td>\n",
       "      <td>777</td>\n",
       "      <td>France</td>\n",
       "      <td>Female</td>\n",
       "      <td>29</td>\n",
       "      <td>NaN</td>\n",
       "      <td>131240.61</td>\n",
       "      <td>1</td>\n",
       "      <td>1</td>\n",
       "      <td>1</td>\n",
       "      <td>163746.09</td>\n",
       "      <td>1</td>\n",
       "    </tr>\n",
       "    <tr>\n",
       "      <th>3066</th>\n",
       "      <td>3067</td>\n",
       "      <td>15789815</td>\n",
       "      <td>Fallaci</td>\n",
       "      <td>503</td>\n",
       "      <td>France</td>\n",
       "      <td>Female</td>\n",
       "      <td>28</td>\n",
       "      <td>NaN</td>\n",
       "      <td>0.00</td>\n",
       "      <td>2</td>\n",
       "      <td>1</td>\n",
       "      <td>0</td>\n",
       "      <td>125918.17</td>\n",
       "      <td>0</td>\n",
       "    </tr>\n",
       "    <tr>\n",
       "      <th>4037</th>\n",
       "      <td>4038</td>\n",
       "      <td>15807563</td>\n",
       "      <td>Ch'iu</td>\n",
       "      <td>841</td>\n",
       "      <td>France</td>\n",
       "      <td>Female</td>\n",
       "      <td>52</td>\n",
       "      <td>NaN</td>\n",
       "      <td>0.00</td>\n",
       "      <td>1</td>\n",
       "      <td>0</td>\n",
       "      <td>0</td>\n",
       "      <td>183239.71</td>\n",
       "      <td>1</td>\n",
       "    </tr>\n",
       "    <tr>\n",
       "      <th>6006</th>\n",
       "      <td>6007</td>\n",
       "      <td>15636395</td>\n",
       "      <td>King</td>\n",
       "      <td>529</td>\n",
       "      <td>France</td>\n",
       "      <td>Female</td>\n",
       "      <td>31</td>\n",
       "      <td>NaN</td>\n",
       "      <td>0.00</td>\n",
       "      <td>2</td>\n",
       "      <td>1</td>\n",
       "      <td>0</td>\n",
       "      <td>26817.23</td>\n",
       "      <td>0</td>\n",
       "    </tr>\n",
       "    <tr>\n",
       "      <th>9864</th>\n",
       "      <td>9865</td>\n",
       "      <td>15652999</td>\n",
       "      <td>Milne</td>\n",
       "      <td>742</td>\n",
       "      <td>Germany</td>\n",
       "      <td>Male</td>\n",
       "      <td>33</td>\n",
       "      <td>NaN</td>\n",
       "      <td>137937.95</td>\n",
       "      <td>1</td>\n",
       "      <td>1</td>\n",
       "      <td>1</td>\n",
       "      <td>51387.10</td>\n",
       "      <td>0</td>\n",
       "    </tr>\n",
       "    <tr>\n",
       "      <th>4994</th>\n",
       "      <td>4995</td>\n",
       "      <td>15585580</td>\n",
       "      <td>Chang</td>\n",
       "      <td>796</td>\n",
       "      <td>Germany</td>\n",
       "      <td>Female</td>\n",
       "      <td>52</td>\n",
       "      <td>NaN</td>\n",
       "      <td>167194.36</td>\n",
       "      <td>1</td>\n",
       "      <td>1</td>\n",
       "      <td>1</td>\n",
       "      <td>62808.93</td>\n",
       "      <td>1</td>\n",
       "    </tr>\n",
       "    <tr>\n",
       "      <th>6013</th>\n",
       "      <td>6014</td>\n",
       "      <td>15609899</td>\n",
       "      <td>Obiora</td>\n",
       "      <td>548</td>\n",
       "      <td>Spain</td>\n",
       "      <td>Male</td>\n",
       "      <td>37</td>\n",
       "      <td>NaN</td>\n",
       "      <td>0.00</td>\n",
       "      <td>1</td>\n",
       "      <td>1</td>\n",
       "      <td>0</td>\n",
       "      <td>121763.68</td>\n",
       "      <td>0</td>\n",
       "    </tr>\n",
       "    <tr>\n",
       "      <th>9938</th>\n",
       "      <td>9939</td>\n",
       "      <td>15593496</td>\n",
       "      <td>Korovin</td>\n",
       "      <td>526</td>\n",
       "      <td>Spain</td>\n",
       "      <td>Female</td>\n",
       "      <td>36</td>\n",
       "      <td>NaN</td>\n",
       "      <td>91132.18</td>\n",
       "      <td>1</td>\n",
       "      <td>0</td>\n",
       "      <td>0</td>\n",
       "      <td>58111.71</td>\n",
       "      <td>0</td>\n",
       "    </tr>\n",
       "    <tr>\n",
       "      <th>1965</th>\n",
       "      <td>1966</td>\n",
       "      <td>15772243</td>\n",
       "      <td>MacDonald</td>\n",
       "      <td>612</td>\n",
       "      <td>France</td>\n",
       "      <td>Female</td>\n",
       "      <td>33</td>\n",
       "      <td>NaN</td>\n",
       "      <td>0.00</td>\n",
       "      <td>1</td>\n",
       "      <td>0</td>\n",
       "      <td>0</td>\n",
       "      <td>142797.50</td>\n",
       "      <td>1</td>\n",
       "    </tr>\n",
       "  </tbody>\n",
       "</table>\n",
       "</div>"
      ],
      "text/plain": [
       "      RowNumber  CustomerId       Surname  CreditScore Geography  Gender  Age  \\\n",
       "992         993    15724563       Hawkins          752   Germany  Female   42   \n",
       "353         354    15812007         Power          670     Spain    Male   25   \n",
       "3586       3587    15652626         Grave          826    France    Male   55   \n",
       "8148       8149    15572777          Meng          780     Spain    Male   47   \n",
       "8430       8431    15775949     Trevisani          612    France  Female   38   \n",
       "5866       5867    15600392       Amaechi          735    France  Female   53   \n",
       "1771       1772    15633260  Dumetochukwu          600    France    Male   37   \n",
       "9281       9282    15679966         Marsh          661    France  Female   31   \n",
       "3778       3779    15658486        Gidney          579     Spain  Female   59   \n",
       "8766       8767    15638159      Trentino          649     Spain  Female   36   \n",
       "6936       6937    15679928      Horsfall          592    France  Female   31   \n",
       "7705       7706    15647306         Gibbs          777    France  Female   29   \n",
       "3066       3067    15789815       Fallaci          503    France  Female   28   \n",
       "4037       4038    15807563         Ch'iu          841    France  Female   52   \n",
       "6006       6007    15636395          King          529    France  Female   31   \n",
       "9864       9865    15652999         Milne          742   Germany    Male   33   \n",
       "4994       4995    15585580         Chang          796   Germany  Female   52   \n",
       "6013       6014    15609899        Obiora          548     Spain    Male   37   \n",
       "9938       9939    15593496       Korovin          526     Spain  Female   36   \n",
       "1965       1966    15772243     MacDonald          612    France  Female   33   \n",
       "\n",
       "      Tenure    Balance  NumOfProducts  HasCrCard  IsActiveMember  \\\n",
       "992      NaN   65046.08              2          0               1   \n",
       "353      NaN       0.00              2          1               1   \n",
       "3586     NaN  115285.85              1          1               0   \n",
       "8148     NaN   86006.21              1          1               1   \n",
       "8430     NaN  110615.47              1          1               1   \n",
       "5866     NaN  123845.36              2          0               1   \n",
       "1771     NaN  142663.46              1          0               1   \n",
       "9281     NaN  133964.30              1          1               1   \n",
       "3778     NaN  148021.12              1          1               1   \n",
       "8766     NaN   86607.39              1          0               0   \n",
       "6936     NaN   84102.11              2          0               1   \n",
       "7705     NaN  131240.61              1          1               1   \n",
       "3066     NaN       0.00              2          1               0   \n",
       "4037     NaN       0.00              1          0               0   \n",
       "6006     NaN       0.00              2          1               0   \n",
       "9864     NaN  137937.95              1          1               1   \n",
       "4994     NaN  167194.36              1          1               1   \n",
       "6013     NaN       0.00              1          1               0   \n",
       "9938     NaN   91132.18              1          0               0   \n",
       "1965     NaN       0.00              1          0               0   \n",
       "\n",
       "      EstimatedSalary  Exited  \n",
       "992         140139.28       0  \n",
       "353          78358.94       0  \n",
       "3586        140126.17       0  \n",
       "8148         37973.13       0  \n",
       "8430        193502.93       0  \n",
       "5866        170454.93       1  \n",
       "1771         88669.89       0  \n",
       "9281        166187.10       0  \n",
       "3778         74878.22       0  \n",
       "8766         19825.09       0  \n",
       "6936        116385.24       0  \n",
       "7705        163746.09       1  \n",
       "3066        125918.17       0  \n",
       "4037        183239.71       1  \n",
       "6006         26817.23       0  \n",
       "9864         51387.10       0  \n",
       "4994         62808.93       1  \n",
       "6013        121763.68       0  \n",
       "9938         58111.71       0  \n",
       "1965        142797.50       1  "
      ]
     },
     "execution_count": 132,
     "metadata": {},
     "output_type": "execute_result"
    }
   ],
   "source": [
    "null_data = data[data.isna().any(axis=1)]\n",
    "null_data.sample(20)"
   ]
  },
  {
   "cell_type": "markdown",
   "metadata": {},
   "source": [
    "Above we can see some of the customers with missing Tenure have 0 balance in their account.Lets see how many of them exist."
   ]
  },
  {
   "cell_type": "code",
   "execution_count": 133,
   "metadata": {},
   "outputs": [
    {
     "data": {
      "text/plain": [
       "334"
      ]
     },
     "execution_count": 133,
     "metadata": {},
     "output_type": "execute_result"
    }
   ],
   "source": [
    "(null_data['Balance'].values == 0.00).sum()"
   ]
  },
  {
   "cell_type": "code",
   "execution_count": 134,
   "metadata": {},
   "outputs": [
    {
     "data": {
      "text/plain": [
       "3617"
      ]
     },
     "execution_count": 134,
     "metadata": {},
     "output_type": "execute_result"
    }
   ],
   "source": [
    "(data['Balance'].values == 0.00).sum()"
   ]
  },
  {
   "cell_type": "markdown",
   "metadata": {},
   "source": [
    "There are 334 customers with missing Tenure and zero balance. It is safe to fill those missing values with zero."
   ]
  },
  {
   "cell_type": "markdown",
   "metadata": {},
   "source": [
    "Also, lets figure out the mean/median Tenure for the whole dataset."
   ]
  },
  {
   "cell_type": "code",
   "execution_count": 135,
   "metadata": {},
   "outputs": [
    {
     "data": {
      "text/plain": [
       "count    9091.000000\n",
       "mean        4.997690\n",
       "std         2.894723\n",
       "min         0.000000\n",
       "25%         2.000000\n",
       "50%         5.000000\n",
       "75%         7.000000\n",
       "max        10.000000\n",
       "Name: Tenure, dtype: float64"
      ]
     },
     "execution_count": 135,
     "metadata": {},
     "output_type": "execute_result"
    }
   ],
   "source": [
    "data['Tenure'].describe()"
   ]
  },
  {
   "cell_type": "markdown",
   "metadata": {},
   "source": [
    "In average, 5 years is the total Tenure period. Now, lets fill some missing values in Tenure with zero where customer's balance is zero and fill rest of the missing values with median of the column."
   ]
  },
  {
   "cell_type": "code",
   "execution_count": 136,
   "metadata": {},
   "outputs": [],
   "source": [
    "data['Tenure'] = np.where(data['Balance'] == 0.00, data['Tenure'].fillna(0), data['Tenure'])"
   ]
  },
  {
   "cell_type": "code",
   "execution_count": 137,
   "metadata": {},
   "outputs": [
    {
     "data": {
      "text/plain": [
       "RowNumber            0\n",
       "CustomerId           0\n",
       "Surname              0\n",
       "CreditScore          0\n",
       "Geography            0\n",
       "Gender               0\n",
       "Age                  0\n",
       "Tenure             575\n",
       "Balance              0\n",
       "NumOfProducts        0\n",
       "HasCrCard            0\n",
       "IsActiveMember       0\n",
       "EstimatedSalary      0\n",
       "Exited               0\n",
       "dtype: int64"
      ]
     },
     "execution_count": 137,
     "metadata": {},
     "output_type": "execute_result"
    }
   ],
   "source": [
    "data.isnull().sum()"
   ]
  },
  {
   "cell_type": "code",
   "execution_count": 138,
   "metadata": {},
   "outputs": [],
   "source": [
    "data.fillna(data['Tenure'].median(), inplace=True)"
   ]
  },
  {
   "cell_type": "code",
   "execution_count": 139,
   "metadata": {},
   "outputs": [
    {
     "data": {
      "text/plain": [
       "RowNumber          0\n",
       "CustomerId         0\n",
       "Surname            0\n",
       "CreditScore        0\n",
       "Geography          0\n",
       "Gender             0\n",
       "Age                0\n",
       "Tenure             0\n",
       "Balance            0\n",
       "NumOfProducts      0\n",
       "HasCrCard          0\n",
       "IsActiveMember     0\n",
       "EstimatedSalary    0\n",
       "Exited             0\n",
       "dtype: int64"
      ]
     },
     "execution_count": 139,
     "metadata": {},
     "output_type": "execute_result"
    }
   ],
   "source": [
    "data.isnull().sum()"
   ]
  },
  {
   "cell_type": "markdown",
   "metadata": {},
   "source": [
    "# Model Training and Testing"
   ]
  },
  {
   "cell_type": "markdown",
   "metadata": {},
   "source": [
    "**Dummyy Trap**"
   ]
  },
  {
   "cell_type": "code",
   "execution_count": 140,
   "metadata": {},
   "outputs": [],
   "source": [
    "data_ohe = pd.get_dummies(data, drop_first=True)\n",
    "target = data_ohe['Exited']\n",
    "features = data_ohe.drop('Exited', axis=1)"
   ]
  },
  {
   "cell_type": "markdown",
   "metadata": {},
   "source": [
    "**Splitting Dataset**"
   ]
  },
  {
   "cell_type": "code",
   "execution_count": 141,
   "metadata": {},
   "outputs": [],
   "source": [
    "features_train,feature_rem,target_train, target_rem = train_test_split(features,target,train_size=0.60,random_state=12345)\n",
    "features_valid,features_test,target_valid,target_test = train_test_split(feature_rem,target_rem, test_size=0.5,random_state=12345)"
   ]
  },
  {
   "cell_type": "markdown",
   "metadata": {},
   "source": [
    "# Model Training"
   ]
  },
  {
   "cell_type": "markdown",
   "metadata": {},
   "source": [
    "**Logistic Regression**"
   ]
  },
  {
   "cell_type": "code",
   "execution_count": 142,
   "metadata": {},
   "outputs": [
    {
     "name": "stdout",
     "output_type": "stream",
     "text": [
      "F1: 0.5034602076124567\n"
     ]
    }
   ],
   "source": [
    "model = LogisticRegression(random_state=12345,class_weight='balanced',solver='liblinear')\n",
    "model.fit(features_train, target_train)\n",
    "predicted_valid = model.predict(features_valid)\n",
    "print('F1:', f1_score(target_valid, predicted_valid))\n"
   ]
  },
  {
   "cell_type": "markdown",
   "metadata": {},
   "source": [
    "**Random Forest Classifier**"
   ]
  },
  {
   "cell_type": "code",
   "execution_count": 143,
   "metadata": {},
   "outputs": [
    {
     "name": "stdout",
     "output_type": "stream",
     "text": [
      "estimators = 1 F1 Score: 0.43283582089552236\n",
      "estimators = 2 F1 Score: 0.2935779816513761\n",
      "estimators = 3 F1 Score: 0.45454545454545453\n",
      "estimators = 4 F1 Score: 0.3596330275229358\n",
      "estimators = 5 F1 Score: 0.44976076555023925\n",
      "estimators = 6 F1 Score: 0.38686131386861317\n",
      "estimators = 7 F1 Score: 0.49190938511326865\n",
      "estimators = 8 F1 Score: 0.450354609929078\n",
      "estimators = 9 F1 Score: 0.4750830564784053\n"
     ]
    }
   ],
   "source": [
    "for estimators in range(1,10):\n",
    "    model = RandomForestClassifier(random_state=12345, n_estimators=estimators)\n",
    "    fit=model.fit(features_train, target_train)\n",
    "    predicted_valid = fit.predict(features_valid)\n",
    "    \n",
    "    print(\"estimators =\", estimators, \"F1 Score: \", end='')\n",
    "    print(f1_score(target_valid, predicted_valid))"
   ]
  },
  {
   "cell_type": "markdown",
   "metadata": {},
   "source": [
    "**Class Weight Adjustment**"
   ]
  },
  {
   "cell_type": "code",
   "execution_count": 144,
   "metadata": {},
   "outputs": [],
   "source": [
    "features_zeros = features_train[target_train == 0]\n",
    "features_ones = features_train[target_train== 1]\n",
    "target_zeros = target_train[target_train == 0]\n",
    "target_ones = target_train[target_train == 1]"
   ]
  },
  {
   "cell_type": "code",
   "execution_count": 145,
   "metadata": {},
   "outputs": [
    {
     "name": "stdout",
     "output_type": "stream",
     "text": [
      "(4804, 2944)\n",
      "(1196, 2944)\n",
      "(4804,)\n",
      "(1196,)\n"
     ]
    }
   ],
   "source": [
    "print(features_zeros.shape)\n",
    "print(features_ones.shape)\n",
    "print(target_zeros.shape)\n",
    "print(target_ones.shape)"
   ]
  },
  {
   "cell_type": "code",
   "execution_count": 146,
   "metadata": {},
   "outputs": [],
   "source": [
    "#Downsampling the train dataset\n",
    "\n",
    "def downsample(features, target, fraction):\n",
    "    features_zeros = features_train[target_train == 0]\n",
    "    features_ones = features_train[target_train== 1]\n",
    "    target_zeros = target_train[target_train == 0]\n",
    "    target_ones = target_train[target_train == 1]\n",
    "\n",
    "    features_downsampled = pd.concat(\n",
    "        [features_zeros.sample(frac=fraction, random_state=12345)]\n",
    "        + [features_ones]\n",
    "    )\n",
    "    target_downsampled = pd.concat(\n",
    "        [target_zeros.sample(frac=fraction, random_state=12345)]\n",
    "        + [target_ones]\n",
    "    )\n",
    "\n",
    "    features_downsampled, target_downsampled = shuffle(\n",
    "        features_downsampled, target_downsampled, random_state=12345\n",
    "    )\n",
    "\n",
    "    return features_downsampled, target_downsampled\n",
    "\n",
    "\n",
    "features_downsampled, target_downsampled = downsample(\n",
    "    features_train, target_train, 0.24\n",
    ")\n"
   ]
  },
  {
   "cell_type": "code",
   "execution_count": 147,
   "metadata": {},
   "outputs": [
    {
     "name": "stdout",
     "output_type": "stream",
     "text": [
      "(1153, 2944)\n",
      "(1196, 2944)\n",
      "(1153,)\n",
      "(1196,)\n"
     ]
    },
    {
     "name": "stderr",
     "output_type": "stream",
     "text": [
      "C:\\Users\\rsavy\\AppData\\Local\\Temp/ipykernel_19016/3887466920.py:1: UserWarning: Boolean Series key will be reindexed to match DataFrame index.\n",
      "  features_zeros = features_downsampled[target_train == 0]\n",
      "C:\\Users\\rsavy\\AppData\\Local\\Temp/ipykernel_19016/3887466920.py:2: UserWarning: Boolean Series key will be reindexed to match DataFrame index.\n",
      "  features_ones = features_downsampled[target_train == 1]\n"
     ]
    }
   ],
   "source": [
    "features_zeros = features_downsampled[target_train == 0]\n",
    "features_ones = features_downsampled[target_train == 1]\n",
    "target_zeros = target_downsampled[target_train == 0]\n",
    "target_ones = target_downsampled[target_train == 1]\n",
    "print(features_zeros.shape)\n",
    "print(features_ones.shape)\n",
    "print(target_zeros.shape)\n",
    "print(target_ones.shape)"
   ]
  },
  {
   "cell_type": "markdown",
   "metadata": {},
   "source": [
    "#### Traning model in downsampled data set"
   ]
  },
  {
   "cell_type": "markdown",
   "metadata": {},
   "source": [
    "**Logistic Regression**"
   ]
  },
  {
   "cell_type": "code",
   "execution_count": 148,
   "metadata": {},
   "outputs": [
    {
     "name": "stdout",
     "output_type": "stream",
     "text": [
      "F1: 0.4888123924268503\n",
      "0.745854983395738\n"
     ]
    }
   ],
   "source": [
    "model = LogisticRegression(random_state=12345, solver='liblinear',class_weight='balanced')\n",
    "model.fit(features_downsampled,target_downsampled)\n",
    "predicted_valid= model.predict(features_valid)\n",
    "\n",
    "print('F1:', f1_score(target_valid, predicted_valid))\n",
    "\n",
    "probabilities_test = model.predict_proba(features_valid)\n",
    "probabilities_one_test = probabilities_test[:, 1]\n",
    "\n",
    "auc_roc = roc_auc_score(target_valid,probabilities_one_test)\n",
    "\n",
    "print(auc_roc)"
   ]
  },
  {
   "cell_type": "markdown",
   "metadata": {},
   "source": [
    "**DecisionTree Classifier**"
   ]
  },
  {
   "cell_type": "code",
   "execution_count": 149,
   "metadata": {},
   "outputs": [
    {
     "name": "stdout",
     "output_type": "stream",
     "text": [
      "F1: 0.511864406779661\n",
      "0.715858431275292\n"
     ]
    }
   ],
   "source": [
    "model = DecisionTreeClassifier(random_state=12345)\n",
    "model.fit(features_downsampled,target_downsampled)\n",
    "predicted_valid= model.predict(features_valid)\n",
    "\n",
    "print('F1:', f1_score(target_valid, predicted_valid))\n",
    "\n",
    "probabilities_test = model.predict_proba(features_valid)\n",
    "probabilities_one_test = probabilities_test[:, 1]\n",
    "\n",
    "auc_roc = roc_auc_score(target_valid,probabilities_one_test)\n",
    "\n",
    "print(auc_roc)"
   ]
  },
  {
   "cell_type": "markdown",
   "metadata": {},
   "source": [
    "**RandomForestClassifier**"
   ]
  },
  {
   "cell_type": "code",
   "execution_count": 150,
   "metadata": {},
   "outputs": [
    {
     "name": "stdout",
     "output_type": "stream",
     "text": [
      "F1: 0.5653333333333332\n",
      "0.8311733678524549\n"
     ]
    }
   ],
   "source": [
    "model = RandomForestClassifier(random_state=12345, max_depth = 50, n_estimators=200)\n",
    "\n",
    "model.fit(features_downsampled, target_downsampled)\n",
    "predicted_valid = model.predict(features_valid)\n",
    "\n",
    "print('F1:', f1_score(target_valid, predicted_valid))\n",
    "\n",
    "probabilities_test = model.predict_proba(features_valid)\n",
    "probabilities_one_test = probabilities_test[:, 1]\n",
    "\n",
    "auc_roc = roc_auc_score(target_valid,probabilities_one_test)\n",
    "\n",
    "print(auc_roc)"
   ]
  },
  {
   "cell_type": "markdown",
   "metadata": {},
   "source": [
    "**CatBoost Classifier**"
   ]
  },
  {
   "cell_type": "code",
   "execution_count": 151,
   "metadata": {},
   "outputs": [
    {
     "name": "stdout",
     "output_type": "stream",
     "text": [
      "CatBoost model is fitted: True\n",
      "CatBoost model parameters:\n",
      "{'iterations': 5, 'learning_rate': 0.1}\n"
     ]
    }
   ],
   "source": [
    "clf = CatBoostClassifier(\n",
    "    iterations=5, \n",
    "    learning_rate=0.1, \n",
    "    #loss_function='CrossEntropy'\n",
    ")\n",
    "\n",
    "clf.fit(features_upsampled, target_upsampled,  \n",
    "        eval_set=(features_valid, target_valid), \n",
    "        verbose=False\n",
    ")\n",
    "\n",
    "print('CatBoost model is fitted: ' + str(clf.is_fitted()))\n",
    "print('CatBoost model parameters:')\n",
    "print(clf.get_params())"
   ]
  },
  {
   "cell_type": "code",
   "execution_count": 152,
   "metadata": {},
   "outputs": [
    {
     "data": {
      "application/vnd.jupyter.widget-view+json": {
       "model_id": "d26386c5207944829113988f121805ce",
       "version_major": 2,
       "version_minor": 0
      },
      "text/plain": [
       "MetricVisualizer(layout=Layout(align_self='stretch', height='500px'))"
      ]
     },
     "metadata": {},
     "output_type": "display_data"
    },
    {
     "data": {
      "text/plain": [
       "<catboost.core.CatBoostClassifier at 0x21f014a2460>"
      ]
     },
     "execution_count": 152,
     "metadata": {},
     "output_type": "execute_result"
    }
   ],
   "source": [
    "clf = CatBoostClassifier(\n",
    "    iterations=100,\n",
    "    random_state=12345,\n",
    "    learning_rate=0.005,\n",
    "    custom_loss=['AUC', 'Accuracy']\n",
    ")\n",
    "\n",
    "clf.fit(\n",
    "    features_downsampled, target_downsampled, \n",
    "    eval_set=(features_valid, target_valid),\n",
    "    verbose=False,\n",
    "    plot=True\n",
    ")"
   ]
  },
  {
   "cell_type": "markdown",
   "metadata": {},
   "source": [
    "**The highest accuracy score is obtained in CatBoost model, hence using CatBoost model for testing**"
   ]
  },
  {
   "cell_type": "markdown",
   "metadata": {},
   "source": [
    "**Model Testing**"
   ]
  },
  {
   "cell_type": "code",
   "execution_count": 153,
   "metadata": {},
   "outputs": [
    {
     "data": {
      "application/vnd.jupyter.widget-view+json": {
       "model_id": "b5b38b54a550454bad8a0ee185310fe3",
       "version_major": 2,
       "version_minor": 0
      },
      "text/plain": [
       "MetricVisualizer(layout=Layout(align_self='stretch', height='500px'))"
      ]
     },
     "metadata": {},
     "output_type": "display_data"
    },
    {
     "name": "stdout",
     "output_type": "stream",
     "text": [
      "{'learn': {'Accuracy': 0.7696892294593444, 'Logloss': 0.558415257585487, 'AUC': 0.8581158791809645}, 'validation': {'Accuracy': 0.7765, 'Logloss': 0.5808155945029289, 'AUC': 0.8337478319399284}}\n"
     ]
    }
   ],
   "source": [
    "eval_dataset = Pool(features_test, target_test)\n",
    "clf = CatBoostClassifier(\n",
    "    eval_metric = 'AUC',\n",
    "    random_seed=12345,\n",
    "    learning_rate=0.1,\n",
    "    iterations=5,\n",
    "    custom_metric=['Accuracy','AUC:hints=skip_train~false']\n",
    "\n",
    ")\n",
    "\n",
    "clf.fit(features_downsampled, target_downsampled,  \n",
    "        eval_set=eval_dataset,\n",
    "        verbose=False,\n",
    "        plot=True\n",
    "       )\n",
    "print(clf.get_best_score())"
   ]
  }
 ],
 "metadata": {
  "ExecuteTimeLog": [
   {
    "duration": 1167,
    "start_time": "2021-10-13T02:00:58.264Z"
   },
   {
    "duration": 2224,
    "start_time": "2021-10-13T02:02:09.520Z"
   },
   {
    "duration": 47,
    "start_time": "2021-10-13T02:02:23.820Z"
   },
   {
    "duration": 3,
    "start_time": "2021-10-13T02:05:56.527Z"
   },
   {
    "duration": 10,
    "start_time": "2021-10-13T02:06:06.575Z"
   },
   {
    "duration": 40,
    "start_time": "2021-10-13T02:08:17.377Z"
   },
   {
    "duration": 4,
    "start_time": "2021-10-13T02:08:30.683Z"
   },
   {
    "duration": 8829,
    "start_time": "2021-10-13T02:08:32.001Z"
   },
   {
    "duration": 256,
    "start_time": "2021-10-13T02:08:49.835Z"
   },
   {
    "duration": 293,
    "start_time": "2021-10-13T02:13:17.949Z"
   },
   {
    "duration": 173,
    "start_time": "2021-10-13T02:13:29.586Z"
   },
   {
    "duration": 707,
    "start_time": "2021-10-13T02:13:31.683Z"
   },
   {
    "duration": 646,
    "start_time": "2021-10-13T02:13:57.061Z"
   },
   {
    "duration": 7,
    "start_time": "2021-10-13T02:14:23.690Z"
   },
   {
    "duration": 331,
    "start_time": "2021-10-13T02:16:02.060Z"
   },
   {
    "duration": 330,
    "start_time": "2021-10-13T02:16:20.454Z"
   },
   {
    "duration": 101,
    "start_time": "2021-10-13T02:18:44.630Z"
   },
   {
    "duration": 455,
    "start_time": "2021-10-13T02:18:51.648Z"
   },
   {
    "duration": 17,
    "start_time": "2021-10-13T02:19:08.808Z"
   },
   {
    "duration": 11,
    "start_time": "2021-10-13T02:19:44.674Z"
   },
   {
    "duration": 6,
    "start_time": "2021-10-13T02:20:18.360Z"
   },
   {
    "duration": 22,
    "start_time": "2021-10-13T02:20:31.474Z"
   },
   {
    "duration": 7,
    "start_time": "2021-10-13T02:23:15.738Z"
   },
   {
    "duration": 11,
    "start_time": "2021-10-13T02:23:25.250Z"
   },
   {
    "duration": 261,
    "start_time": "2021-10-13T02:23:34.415Z"
   },
   {
    "duration": 167,
    "start_time": "2021-10-13T02:23:36.096Z"
   },
   {
    "duration": 416,
    "start_time": "2021-10-13T02:23:37.766Z"
   },
   {
    "duration": 780,
    "start_time": "2021-10-13T02:24:46.674Z"
   },
   {
    "duration": 4,
    "start_time": "2021-10-13T02:25:03.270Z"
   },
   {
    "duration": 476,
    "start_time": "2021-10-13T02:25:06.401Z"
   },
   {
    "duration": 438,
    "start_time": "2021-10-13T02:25:13.040Z"
   },
   {
    "duration": 332,
    "start_time": "2021-10-13T02:26:55.078Z"
   },
   {
    "duration": 4,
    "start_time": "2021-10-13T02:27:09.261Z"
   },
   {
    "duration": 37,
    "start_time": "2021-10-13T02:27:13.270Z"
   },
   {
    "duration": 3,
    "start_time": "2021-10-13T02:27:13.640Z"
   },
   {
    "duration": 7,
    "start_time": "2021-10-13T02:27:14.012Z"
   },
   {
    "duration": 10,
    "start_time": "2021-10-13T02:27:14.351Z"
   },
   {
    "duration": 248,
    "start_time": "2021-10-13T02:27:15.578Z"
   },
   {
    "duration": 167,
    "start_time": "2021-10-13T02:27:16.842Z"
   },
   {
    "duration": 400,
    "start_time": "2021-10-13T02:27:17.904Z"
   },
   {
    "duration": 202,
    "start_time": "2021-10-13T02:27:18.378Z"
   },
   {
    "duration": 462,
    "start_time": "2021-10-13T02:29:55.521Z"
   },
   {
    "duration": 1210,
    "start_time": "2021-10-13T02:30:28.814Z"
   },
   {
    "duration": 4,
    "start_time": "2021-10-13T02:30:48.715Z"
   },
   {
    "duration": 1536,
    "start_time": "2021-10-13T02:30:53.457Z"
   },
   {
    "duration": 360,
    "start_time": "2021-10-13T02:31:32.717Z"
   },
   {
    "duration": 105,
    "start_time": "2021-10-13T02:34:56.411Z"
   },
   {
    "duration": 304,
    "start_time": "2021-10-13T02:37:02.034Z"
   },
   {
    "duration": 468,
    "start_time": "2021-10-13T02:37:08.865Z"
   },
   {
    "duration": 520,
    "start_time": "2021-10-13T02:37:14.649Z"
   },
   {
    "duration": 1660,
    "start_time": "2021-10-13T02:37:23.362Z"
   },
   {
    "duration": 3938,
    "start_time": "2021-10-13T02:38:05.904Z"
   },
   {
    "duration": 2129,
    "start_time": "2021-10-13T02:38:19.803Z"
   },
   {
    "duration": 3191,
    "start_time": "2021-10-13T02:38:31.229Z"
   },
   {
    "duration": 823,
    "start_time": "2021-10-13T02:39:43.516Z"
   },
   {
    "duration": 8276,
    "start_time": "2021-10-13T02:40:09.488Z"
   },
   {
    "duration": 299,
    "start_time": "2021-10-13T02:41:54.517Z"
   },
   {
    "duration": 529,
    "start_time": "2021-10-13T02:42:42.910Z"
   },
   {
    "duration": 117,
    "start_time": "2021-10-13T02:44:41.605Z"
   },
   {
    "duration": 541,
    "start_time": "2021-10-13T02:44:49.719Z"
   },
   {
    "duration": 553,
    "start_time": "2021-10-13T02:45:27.041Z"
   },
   {
    "duration": 530,
    "start_time": "2021-10-13T02:45:47.717Z"
   },
   {
    "duration": 536,
    "start_time": "2021-10-13T02:52:36.286Z"
   },
   {
    "duration": 1069,
    "start_time": "2021-10-13T02:53:01.214Z"
   },
   {
    "duration": 303,
    "start_time": "2021-10-13T02:56:31.212Z"
   },
   {
    "duration": 4,
    "start_time": "2021-10-13T02:57:23.061Z"
   },
   {
    "duration": 1199,
    "start_time": "2021-10-13T02:57:33.753Z"
   },
   {
    "duration": 313,
    "start_time": "2021-10-13T02:57:38.072Z"
   },
   {
    "duration": 938,
    "start_time": "2021-10-13T02:57:50.252Z"
   },
   {
    "duration": 1686,
    "start_time": "2021-10-13T02:59:40.999Z"
   },
   {
    "duration": 313,
    "start_time": "2021-10-13T02:59:50.386Z"
   },
   {
    "duration": 476,
    "start_time": "2021-10-13T03:00:00.402Z"
   },
   {
    "duration": 1848,
    "start_time": "2021-10-13T03:01:26.338Z"
   },
   {
    "duration": 1563,
    "start_time": "2021-10-13T03:01:36.915Z"
   },
   {
    "duration": 34,
    "start_time": "2021-10-13T03:03:42.543Z"
   },
   {
    "duration": 211,
    "start_time": "2021-10-26T00:46:43.104Z"
   },
   {
    "duration": 993,
    "start_time": "2021-10-26T00:46:55.624Z"
   },
   {
    "duration": 46,
    "start_time": "2021-10-26T00:46:58.796Z"
   },
   {
    "duration": 4,
    "start_time": "2021-10-26T00:46:59.481Z"
   },
   {
    "duration": 7,
    "start_time": "2021-10-26T00:47:00.138Z"
   },
   {
    "duration": 9,
    "start_time": "2021-10-26T00:47:02.154Z"
   },
   {
    "duration": 261,
    "start_time": "2021-10-26T00:47:05.390Z"
   },
   {
    "duration": 395,
    "start_time": "2021-10-26T00:47:09.652Z"
   },
   {
    "duration": 8,
    "start_time": "2021-10-26T00:48:20.070Z"
   },
   {
    "duration": 215,
    "start_time": "2021-10-26T00:49:03.126Z"
   },
   {
    "duration": 183,
    "start_time": "2021-10-26T00:49:06.792Z"
   },
   {
    "duration": 4561,
    "start_time": "2021-10-26T00:49:36.209Z"
   },
   {
    "duration": 184,
    "start_time": "2021-10-26T00:50:28.472Z"
   },
   {
    "duration": 3,
    "start_time": "2021-10-26T00:50:49.060Z"
   },
   {
    "duration": 14,
    "start_time": "2021-10-26T00:51:03.210Z"
   },
   {
    "duration": 14,
    "start_time": "2021-10-26T00:51:21.044Z"
   },
   {
    "duration": 165,
    "start_time": "2021-10-26T00:55:42.231Z"
   },
   {
    "duration": 223,
    "start_time": "2021-10-26T00:57:14.220Z"
   },
   {
    "duration": 215,
    "start_time": "2021-10-26T00:58:29.224Z"
   },
   {
    "duration": 4,
    "start_time": "2021-10-26T00:58:44.083Z"
   },
   {
    "duration": 215,
    "start_time": "2021-10-26T00:58:52.615Z"
   },
   {
    "duration": 180,
    "start_time": "2021-10-26T00:58:54.953Z"
   },
   {
    "duration": 214,
    "start_time": "2021-10-26T00:59:17.030Z"
   },
   {
    "duration": 396,
    "start_time": "2021-10-26T00:59:21.500Z"
   },
   {
    "duration": 48,
    "start_time": "2021-10-26T00:59:25.144Z"
   },
   {
    "duration": 403,
    "start_time": "2021-10-26T00:59:26.690Z"
   },
   {
    "duration": 1440,
    "start_time": "2021-10-26T00:59:27.554Z"
   },
   {
    "duration": 244,
    "start_time": "2021-10-26T00:59:38.553Z"
   },
   {
    "duration": 2412,
    "start_time": "2021-10-26T00:59:43.668Z"
   },
   {
    "duration": 674,
    "start_time": "2021-10-26T00:59:46.081Z"
   },
   {
    "duration": 6193,
    "start_time": "2021-10-26T00:59:49.820Z"
   },
   {
    "duration": 17869,
    "start_time": "2021-10-26T01:00:23.716Z"
   },
   {
    "duration": 29481,
    "start_time": "2021-10-26T01:00:52.106Z"
   },
   {
    "duration": 1748,
    "start_time": "2021-10-26T01:01:32.393Z"
   },
   {
    "duration": 2824,
    "start_time": "2021-10-26T01:01:52.991Z"
   },
   {
    "duration": 4977,
    "start_time": "2021-10-26T01:03:41.185Z"
   },
   {
    "duration": 1429,
    "start_time": "2021-10-26T01:04:35.966Z"
   },
   {
    "duration": 273,
    "start_time": "2021-10-26T01:04:46.520Z"
   },
   {
    "duration": 1233,
    "start_time": "2021-10-26T01:05:50.381Z"
   },
   {
    "duration": 4993,
    "start_time": "2021-10-26T01:06:07.849Z"
   },
   {
    "duration": 397,
    "start_time": "2021-10-26T01:08:13.300Z"
   },
   {
    "duration": 30,
    "start_time": "2021-10-26T01:11:27.092Z"
   },
   {
    "duration": 392,
    "start_time": "2021-10-26T01:12:55.763Z"
   },
   {
    "duration": 395,
    "start_time": "2021-10-26T01:13:56.437Z"
   },
   {
    "duration": 588,
    "start_time": "2021-10-26T01:16:48.185Z"
   },
   {
    "duration": 397,
    "start_time": "2021-10-26T01:16:53.641Z"
   },
   {
    "duration": 588,
    "start_time": "2021-10-26T22:09:19.218Z"
   },
   {
    "duration": 1367,
    "start_time": "2021-10-26T22:09:27.250Z"
   },
   {
    "duration": 59,
    "start_time": "2021-10-26T22:09:29.748Z"
   },
   {
    "duration": 5,
    "start_time": "2021-10-26T22:09:30.358Z"
   },
   {
    "duration": 11,
    "start_time": "2021-10-26T22:09:30.855Z"
   },
   {
    "duration": 15,
    "start_time": "2021-10-26T22:09:31.252Z"
   },
   {
    "duration": 378,
    "start_time": "2021-10-26T22:09:32.530Z"
   },
   {
    "duration": 326,
    "start_time": "2021-10-26T22:09:33.210Z"
   },
   {
    "duration": 489,
    "start_time": "2021-10-26T22:09:33.894Z"
   },
   {
    "duration": 103,
    "start_time": "2021-10-26T22:09:34.387Z"
   },
   {
    "duration": 457,
    "start_time": "2021-10-26T22:09:35.428Z"
   },
   {
    "duration": 2194,
    "start_time": "2021-10-26T22:09:35.890Z"
   },
   {
    "duration": 494,
    "start_time": "2021-10-26T22:09:38.089Z"
   },
   {
    "duration": 6134,
    "start_time": "2021-10-26T22:09:38.586Z"
   },
   {
    "duration": 401,
    "start_time": "2021-10-26T22:09:44.723Z"
   },
   {
    "duration": 789,
    "start_time": "2021-10-26T22:10:04.318Z"
   },
   {
    "duration": 1126,
    "start_time": "2021-10-26T22:11:11.068Z"
   },
   {
    "duration": 480,
    "start_time": "2021-10-26T22:11:37.790Z"
   },
   {
    "duration": 477,
    "start_time": "2021-10-26T22:11:55.322Z"
   },
   {
    "duration": 510,
    "start_time": "2021-10-26T22:13:34.612Z"
   },
   {
    "duration": 103,
    "start_time": "2021-10-26T22:13:47.002Z"
   },
   {
    "duration": 476,
    "start_time": "2021-10-26T22:15:14.665Z"
   },
   {
    "duration": 1141,
    "start_time": "2021-10-28T00:44:14.076Z"
   },
   {
    "duration": 55,
    "start_time": "2021-10-28T00:44:15.746Z"
   },
   {
    "duration": 4,
    "start_time": "2021-10-28T00:44:16.214Z"
   },
   {
    "duration": 8,
    "start_time": "2021-10-28T00:44:16.858Z"
   },
   {
    "duration": 10,
    "start_time": "2021-10-28T00:44:17.289Z"
   },
   {
    "duration": 272,
    "start_time": "2021-10-28T00:44:18.419Z"
   },
   {
    "duration": 240,
    "start_time": "2021-10-28T00:44:19.693Z"
   },
   {
    "duration": 402,
    "start_time": "2021-10-28T00:44:21.465Z"
   },
   {
    "duration": 81,
    "start_time": "2021-10-28T00:44:21.983Z"
   },
   {
    "duration": 416,
    "start_time": "2021-10-28T00:44:22.549Z"
   },
   {
    "duration": 1497,
    "start_time": "2021-10-28T00:44:23.767Z"
   },
   {
    "duration": 269,
    "start_time": "2021-10-28T00:44:26.498Z"
   },
   {
    "duration": 5632,
    "start_time": "2021-10-28T00:44:28.597Z"
   },
   {
    "duration": 456,
    "start_time": "2021-10-28T00:44:34.230Z"
   },
   {
    "duration": 452,
    "start_time": "2021-10-28T00:44:34.688Z"
   },
   {
    "duration": 454,
    "start_time": "2021-10-28T00:47:45.307Z"
   },
   {
    "duration": 460,
    "start_time": "2021-10-28T00:48:29.396Z"
   },
   {
    "duration": 450,
    "start_time": "2021-10-28T00:52:39.026Z"
   },
   {
    "duration": 5615,
    "start_time": "2021-10-28T00:53:21.209Z"
   },
   {
    "duration": 15548,
    "start_time": "2021-10-28T00:53:47.193Z"
   },
   {
    "duration": 23078,
    "start_time": "2021-10-28T00:58:54.908Z"
   },
   {
    "duration": 189,
    "start_time": "2021-10-28T01:09:23.474Z"
   },
   {
    "duration": 47670,
    "start_time": "2021-10-28T01:10:42.298Z"
   },
   {
    "duration": 14034,
    "start_time": "2021-10-28T01:12:13.541Z"
   },
   {
    "duration": 7053,
    "start_time": "2021-10-28T01:12:31.958Z"
   },
   {
    "duration": 47953,
    "start_time": "2021-10-28T01:44:53.943Z"
   },
   {
    "duration": 75695,
    "start_time": "2021-10-28T01:46:11.725Z"
   },
   {
    "duration": 86,
    "start_time": "2021-10-28T01:49:41.151Z"
   },
   {
    "duration": 6495,
    "start_time": "2021-10-28T01:49:47.041Z"
   },
   {
    "duration": 955,
    "start_time": "2021-10-28T02:47:30.633Z"
   },
   {
    "duration": 11186,
    "start_time": "2021-10-28T02:49:47.655Z"
   },
   {
    "duration": 11119,
    "start_time": "2021-10-28T02:50:06.289Z"
   },
   {
    "duration": 30694,
    "start_time": "2021-10-28T02:52:08.393Z"
   },
   {
    "duration": 327706,
    "start_time": "2021-10-28T02:57:14.274Z"
   },
   {
    "duration": 326024,
    "start_time": "2021-10-28T03:05:48.587Z"
   },
   {
    "duration": 4189,
    "start_time": "2021-10-28T03:30:52.731Z"
   },
   {
    "duration": 11364,
    "start_time": "2021-10-28T03:31:05.709Z"
   },
   {
    "duration": 11493,
    "start_time": "2021-10-28T03:33:45.637Z"
   },
   {
    "duration": 5563,
    "start_time": "2021-10-28T03:35:01.861Z"
   },
   {
    "duration": 81,
    "start_time": "2021-10-28T03:35:49.077Z"
   },
   {
    "duration": 84,
    "start_time": "2021-10-28T03:38:31.547Z"
   },
   {
    "duration": 79,
    "start_time": "2021-10-28T03:43:39.811Z"
   },
   {
    "duration": 13806,
    "start_time": "2021-10-28T03:44:09.461Z"
   },
   {
    "duration": 26911,
    "start_time": "2021-10-28T03:44:44.776Z"
   },
   {
    "duration": 54083,
    "start_time": "2021-10-28T03:46:07.527Z"
   },
   {
    "duration": 68501,
    "start_time": "2021-10-28T03:47:27.951Z"
   },
   {
    "duration": 5872,
    "start_time": "2021-10-28T03:48:54.520Z"
   },
   {
    "duration": 90154,
    "start_time": "2021-10-28T03:49:22.151Z"
   },
   {
    "duration": 44553,
    "start_time": "2021-10-28T03:51:20.705Z"
   },
   {
    "duration": 1980,
    "start_time": "2021-10-28T03:56:49.584Z"
   },
   {
    "duration": 273,
    "start_time": "2021-10-28T03:56:54.292Z"
   },
   {
    "duration": 139,
    "start_time": "2021-10-28T03:56:55.033Z"
   },
   {
    "duration": 5793,
    "start_time": "2021-10-28T03:56:57.238Z"
   },
   {
    "duration": 5573,
    "start_time": "2021-10-28T03:57:42.573Z"
   },
   {
    "duration": 44198,
    "start_time": "2021-10-28T03:59:00.438Z"
   },
   {
    "duration": 1326,
    "start_time": "2021-10-28T04:04:02.388Z"
   },
   {
    "duration": 18520,
    "start_time": "2021-10-28T04:04:16.497Z"
   },
   {
    "duration": 1265,
    "start_time": "2021-10-28T04:04:37.100Z"
   },
   {
    "duration": 1525,
    "start_time": "2021-10-28T04:04:45.945Z"
   },
   {
    "duration": 2334,
    "start_time": "2021-10-28T04:04:52.232Z"
   },
   {
    "duration": 1481,
    "start_time": "2021-10-28T04:05:02.485Z"
   },
   {
    "duration": 316,
    "start_time": "2021-10-28T04:05:10.149Z"
   },
   {
    "duration": 129,
    "start_time": "2021-10-28T04:05:12.855Z"
   },
   {
    "duration": 5574,
    "start_time": "2021-10-28T04:05:17.889Z"
   },
   {
    "duration": 5551,
    "start_time": "2021-10-28T04:05:49.319Z"
   },
   {
    "duration": 14000,
    "start_time": "2021-10-28T04:06:01.271Z"
   },
   {
    "duration": 26686,
    "start_time": "2021-10-28T04:06:23.328Z"
   },
   {
    "duration": 39868,
    "start_time": "2021-10-28T04:06:59.999Z"
   },
   {
    "duration": 26299,
    "start_time": "2021-10-28T04:08:07.523Z"
   },
   {
    "duration": 53644,
    "start_time": "2021-10-28T04:08:33.824Z"
   },
   {
    "duration": 11693,
    "start_time": "2021-10-28T04:09:27.470Z"
   },
   {
    "duration": 599,
    "start_time": "2021-10-28T04:10:11.448Z"
   },
   {
    "duration": 1258,
    "start_time": "2021-10-28T04:10:39.685Z"
   },
   {
    "duration": 434,
    "start_time": "2021-10-30T02:08:58.648Z"
   },
   {
    "duration": 1417,
    "start_time": "2021-10-30T02:09:03.887Z"
   },
   {
    "duration": 63,
    "start_time": "2021-10-30T02:09:10.669Z"
   },
   {
    "duration": 6,
    "start_time": "2021-10-30T02:09:11.058Z"
   },
   {
    "duration": 10,
    "start_time": "2021-10-30T02:09:11.487Z"
   },
   {
    "duration": 13,
    "start_time": "2021-10-30T02:09:11.816Z"
   },
   {
    "duration": 393,
    "start_time": "2021-10-30T02:09:12.544Z"
   },
   {
    "duration": 316,
    "start_time": "2021-10-30T02:09:13.559Z"
   },
   {
    "duration": 412,
    "start_time": "2021-10-30T02:09:15.593Z"
   },
   {
    "duration": 63,
    "start_time": "2021-10-30T02:09:16.339Z"
   },
   {
    "duration": 483,
    "start_time": "2021-10-30T02:09:17.019Z"
   },
   {
    "duration": 2169,
    "start_time": "2021-10-30T02:09:17.651Z"
   },
   {
    "duration": 499,
    "start_time": "2021-10-30T02:09:19.904Z"
   },
   {
    "duration": 232,
    "start_time": "2021-10-30T02:09:34.971Z"
   },
   {
    "duration": 6926,
    "start_time": "2021-10-30T02:09:37.965Z"
   },
   {
    "duration": 3157,
    "start_time": "2021-10-30T02:09:45.391Z"
   },
   {
    "duration": 7853,
    "start_time": "2021-10-30T02:13:21.533Z"
   },
   {
    "duration": 2935,
    "start_time": "2021-10-30T02:13:40.385Z"
   },
   {
    "duration": 2965,
    "start_time": "2021-10-30T02:13:56.263Z"
   },
   {
    "duration": 9150,
    "start_time": "2021-10-30T02:14:46.110Z"
   },
   {
    "duration": 23869,
    "start_time": "2021-10-30T02:15:32.203Z"
   },
   {
    "duration": 64728,
    "start_time": "2021-10-30T02:16:01.862Z"
   },
   {
    "duration": 1954,
    "start_time": "2021-10-30T02:18:47.513Z"
   },
   {
    "duration": 4874,
    "start_time": "2021-10-30T02:19:15.529Z"
   },
   {
    "duration": 1433,
    "start_time": "2021-10-30T02:19:43.959Z"
   },
   {
    "duration": 1403,
    "start_time": "2021-10-30T02:20:01.291Z"
   },
   {
    "duration": 4618,
    "start_time": "2021-10-30T02:20:35.028Z"
   },
   {
    "duration": 64844,
    "start_time": "2021-10-30T02:21:13.275Z"
   },
   {
    "duration": 4729,
    "start_time": "2021-10-30T02:22:18.122Z"
   },
   {
    "duration": 1567,
    "start_time": "2021-10-30T02:22:30.180Z"
   },
   {
    "duration": 339,
    "start_time": "2021-10-30T13:19:10.311Z"
   },
   {
    "duration": 1333,
    "start_time": "2021-10-30T13:19:16.853Z"
   },
   {
    "duration": 60,
    "start_time": "2021-10-30T13:19:20.299Z"
   },
   {
    "duration": 5,
    "start_time": "2021-10-30T13:19:20.902Z"
   },
   {
    "duration": 11,
    "start_time": "2021-10-30T13:19:21.561Z"
   },
   {
    "duration": 15,
    "start_time": "2021-10-30T13:19:21.940Z"
   },
   {
    "duration": 379,
    "start_time": "2021-10-30T13:19:23.025Z"
   },
   {
    "duration": 299,
    "start_time": "2021-10-30T13:19:24.189Z"
   },
   {
    "duration": 427,
    "start_time": "2021-10-30T13:19:25.701Z"
   },
   {
    "duration": 100,
    "start_time": "2021-10-30T13:19:26.224Z"
   },
   {
    "duration": 517,
    "start_time": "2021-10-30T13:19:26.607Z"
   },
   {
    "duration": 2256,
    "start_time": "2021-10-30T13:19:27.375Z"
   },
   {
    "duration": 506,
    "start_time": "2021-10-30T13:19:29.725Z"
   },
   {
    "duration": 301,
    "start_time": "2021-10-30T13:19:30.323Z"
   },
   {
    "duration": 6127,
    "start_time": "2021-10-30T13:19:30.628Z"
   },
   {
    "duration": 426,
    "start_time": "2021-10-30T13:20:22.509Z"
   },
   {
    "duration": 31452,
    "start_time": "2021-10-30T13:20:50.679Z"
   },
   {
    "duration": 142816,
    "start_time": "2021-10-30T13:22:34.406Z"
   },
   {
    "duration": 264889,
    "start_time": "2021-10-30T13:25:22.470Z"
   },
   {
    "duration": 264480,
    "start_time": "2021-10-30T13:30:16.442Z"
   },
   {
    "duration": 7077,
    "start_time": "2021-10-30T13:52:19.782Z"
   },
   {
    "duration": 336942,
    "start_time": "2021-10-30T13:52:56.270Z"
   },
   {
    "duration": 627,
    "start_time": "2021-10-30T14:01:24.579Z"
   },
   {
    "duration": 1320,
    "start_time": "2021-10-30T19:53:08.646Z"
   },
   {
    "duration": 63,
    "start_time": "2021-10-30T19:54:35.295Z"
   },
   {
    "duration": 5,
    "start_time": "2021-10-30T19:54:36.427Z"
   },
   {
    "duration": 10,
    "start_time": "2021-10-30T19:54:37.085Z"
   },
   {
    "duration": 14,
    "start_time": "2021-10-30T19:54:38.103Z"
   },
   {
    "duration": 379,
    "start_time": "2021-10-30T19:54:40.641Z"
   },
   {
    "duration": 304,
    "start_time": "2021-10-30T19:54:41.678Z"
   },
   {
    "duration": 424,
    "start_time": "2021-10-30T19:54:42.909Z"
   },
   {
    "duration": 193,
    "start_time": "2021-10-30T19:54:43.338Z"
   },
   {
    "duration": 598,
    "start_time": "2021-10-30T19:54:43.535Z"
   },
   {
    "duration": 2094,
    "start_time": "2021-10-30T19:54:44.137Z"
   },
   {
    "duration": 667,
    "start_time": "2021-10-30T19:56:47.535Z"
   },
   {
    "duration": 339,
    "start_time": "2021-10-30T19:57:06.811Z"
   },
   {
    "duration": 159,
    "start_time": "2021-10-30T19:57:09.591Z"
   },
   {
    "duration": 6035,
    "start_time": "2021-10-30T19:57:12.570Z"
   },
   {
    "duration": 74,
    "start_time": "2021-10-30T19:58:20.218Z"
   },
   {
    "duration": 382,
    "start_time": "2021-10-30T19:58:47.058Z"
   },
   {
    "duration": 126,
    "start_time": "2021-10-30T19:58:55.210Z"
   },
   {
    "duration": 124,
    "start_time": "2021-10-30T19:59:05.392Z"
   },
   {
    "duration": 1980,
    "start_time": "2021-10-30T20:02:57.338Z"
   },
   {
    "duration": 1783,
    "start_time": "2021-10-30T20:11:05.556Z"
   },
   {
    "duration": 5540,
    "start_time": "2021-10-30T20:11:14.954Z"
   },
   {
    "duration": 25191,
    "start_time": "2021-10-30T20:11:52.364Z"
   },
   {
    "duration": 101112,
    "start_time": "2021-10-30T20:12:27.723Z"
   },
   {
    "duration": 285156,
    "start_time": "2021-10-30T20:14:25.587Z"
   },
   {
    "duration": 1407866,
    "start_time": "2021-10-30T20:55:51.475Z"
   },
   {
    "duration": 542,
    "start_time": "2021-10-30T21:25:27.122Z"
   },
   {
    "duration": 30653,
    "start_time": "2021-10-30T21:25:40.438Z"
   },
   {
    "duration": 2146,
    "start_time": "2021-10-30T21:26:41.334Z"
   },
   {
    "duration": 446574,
    "start_time": "2021-10-30T21:28:08.578Z"
   },
   {
    "duration": 492586,
    "start_time": "2021-10-30T21:35:35.156Z"
   },
   {
    "duration": 15665,
    "start_time": "2021-10-30T21:57:56.541Z"
   },
   {
    "duration": 15528,
    "start_time": "2021-10-30T21:58:55.585Z"
   },
   {
    "duration": 148564,
    "start_time": "2021-10-30T21:59:31.868Z"
   },
   {
    "duration": 521,
    "start_time": "2021-10-30T22:05:21.253Z"
   },
   {
    "duration": 148826,
    "start_time": "2021-10-30T22:05:28.289Z"
   },
   {
    "duration": 3130,
    "start_time": "2021-10-30T22:25:18.431Z"
   },
   {
    "duration": 23787,
    "start_time": "2021-10-30T22:25:21.632Z"
   },
   {
    "duration": 495,
    "start_time": "2021-10-30T22:27:46.347Z"
   },
   {
    "duration": 1296293,
    "start_time": "2021-10-30T22:28:25.552Z"
   },
   {
    "duration": 1294,
    "start_time": "2021-10-31T01:05:37.574Z"
   },
   {
    "duration": 62,
    "start_time": "2021-10-31T01:05:42.999Z"
   },
   {
    "duration": 5,
    "start_time": "2021-10-31T01:05:43.956Z"
   },
   {
    "duration": 10,
    "start_time": "2021-10-31T01:05:44.558Z"
   },
   {
    "duration": 14,
    "start_time": "2021-10-31T01:05:45.266Z"
   },
   {
    "duration": 387,
    "start_time": "2021-10-31T01:05:46.642Z"
   },
   {
    "duration": 301,
    "start_time": "2021-10-31T01:05:48.385Z"
   },
   {
    "duration": 419,
    "start_time": "2021-10-31T01:05:50.613Z"
   },
   {
    "duration": 108,
    "start_time": "2021-10-31T01:05:53.622Z"
   },
   {
    "duration": 440,
    "start_time": "2021-10-31T01:05:55.201Z"
   },
   {
    "duration": 3181,
    "start_time": "2021-10-31T01:05:55.950Z"
   },
   {
    "duration": 341,
    "start_time": "2021-10-31T01:06:04.009Z"
   },
   {
    "duration": 225,
    "start_time": "2021-10-31T01:06:07.306Z"
   },
   {
    "duration": 6219,
    "start_time": "2021-10-31T01:06:09.710Z"
   },
   {
    "duration": 1827,
    "start_time": "2021-10-31T01:10:40.149Z"
   },
   {
    "duration": 7571,
    "start_time": "2021-10-31T01:11:18.929Z"
   },
   {
    "duration": 18091,
    "start_time": "2021-10-31T01:11:43.221Z"
   },
   {
    "duration": 15334,
    "start_time": "2021-10-31T01:12:13.085Z"
   },
   {
    "duration": 235853,
    "start_time": "2021-10-31T01:13:08.161Z"
   },
   {
    "duration": 273326,
    "start_time": "2021-10-31T01:17:39.925Z"
   },
   {
    "duration": 16360,
    "start_time": "2021-10-31T01:23:44.434Z"
   },
   {
    "duration": 16374,
    "start_time": "2021-10-31T01:29:06.283Z"
   },
   {
    "duration": 131,
    "start_time": "2021-10-31T01:29:22.659Z"
   },
   {
    "duration": 516,
    "start_time": "2021-10-31T01:29:37.565Z"
   },
   {
    "duration": 844156,
    "start_time": "2021-10-31T01:29:55.635Z"
   },
   {
    "duration": 1764160,
    "start_time": "2021-10-31T01:44:06.604Z"
   },
   {
    "duration": -255,
    "start_time": "2021-10-31T02:14:07.404Z"
   },
   {
    "duration": 811,
    "start_time": "2021-10-31T02:14:32.380Z"
   },
   {
    "duration": 836,
    "start_time": "2021-10-31T02:16:48.590Z"
   },
   {
    "duration": 473,
    "start_time": "2021-10-31T02:18:30.143Z"
   },
   {
    "duration": 11561,
    "start_time": "2021-10-31T02:18:43.560Z"
   },
   {
    "duration": 32935,
    "start_time": "2021-10-31T02:19:11.820Z"
   },
   {
    "duration": 73682,
    "start_time": "2021-10-31T02:19:58.863Z"
   },
   {
    "duration": 296690,
    "start_time": "2021-10-31T02:43:59.725Z"
   },
   {
    "duration": 154344,
    "start_time": "2021-10-31T02:49:41.738Z"
   },
   {
    "duration": 212923,
    "start_time": "2021-10-31T03:21:00.835Z"
   },
   {
    "duration": 17474,
    "start_time": "2021-10-31T03:41:12.459Z"
   },
   {
    "duration": 18226,
    "start_time": "2021-10-31T03:43:17.179Z"
   },
   {
    "duration": 51046,
    "start_time": "2021-10-31T03:43:40.774Z"
   },
   {
    "duration": 18076,
    "start_time": "2021-10-31T03:45:12.690Z"
   },
   {
    "duration": 1721,
    "start_time": "2021-10-31T03:46:26.249Z"
   },
   {
    "duration": 1859,
    "start_time": "2021-10-31T03:46:44.320Z"
   },
   {
    "duration": 2163,
    "start_time": "2021-10-31T03:46:59.922Z"
   },
   {
    "duration": 2484,
    "start_time": "2021-10-31T03:47:08.882Z"
   },
   {
    "duration": 205762,
    "start_time": "2021-10-31T03:47:46.324Z"
   },
   {
    "duration": 181022,
    "start_time": "2021-10-31T03:53:07.110Z"
   },
   {
    "duration": 32352,
    "start_time": "2021-10-31T03:56:30.624Z"
   },
   {
    "duration": 511,
    "start_time": "2021-10-31T03:58:22.422Z"
   },
   {
    "duration": 186663,
    "start_time": "2021-10-31T03:58:50.905Z"
   },
   {
    "duration": 213358,
    "start_time": "2021-10-31T04:01:57.570Z"
   },
   {
    "duration": 3,
    "start_time": "2021-10-31T04:05:30.932Z"
   },
   {
    "duration": 1615,
    "start_time": "2021-10-31T04:05:30.939Z"
   },
   {
    "duration": 1614,
    "start_time": "2021-10-31T04:05:38.536Z"
   },
   {
    "duration": 1593,
    "start_time": "2021-10-31T04:05:44.976Z"
   },
   {
    "duration": 1852,
    "start_time": "2021-10-31T04:05:53.600Z"
   },
   {
    "duration": 1688,
    "start_time": "2021-10-31T04:06:21.268Z"
   },
   {
    "duration": 90,
    "start_time": "2021-10-31T04:07:16.775Z"
   },
   {
    "duration": 1257,
    "start_time": "2021-10-31T20:56:32.900Z"
   },
   {
    "duration": 4,
    "start_time": "2021-10-31T20:56:41.626Z"
   },
   {
    "duration": 45,
    "start_time": "2021-10-31T20:56:43.485Z"
   },
   {
    "duration": 4,
    "start_time": "2021-10-31T20:56:43.737Z"
   },
   {
    "duration": 7,
    "start_time": "2021-10-31T20:56:43.978Z"
   },
   {
    "duration": 9,
    "start_time": "2021-10-31T20:56:44.322Z"
   },
   {
    "duration": 260,
    "start_time": "2021-10-31T20:56:45.006Z"
   },
   {
    "duration": 222,
    "start_time": "2021-10-31T20:56:45.663Z"
   },
   {
    "duration": 340,
    "start_time": "2021-10-31T20:56:46.760Z"
   },
   {
    "duration": 197,
    "start_time": "2021-10-31T20:56:47.195Z"
   },
   {
    "duration": 498,
    "start_time": "2021-10-31T20:56:47.395Z"
   },
   {
    "duration": 2497,
    "start_time": "2021-10-31T20:56:47.896Z"
   },
   {
    "duration": 395,
    "start_time": "2021-10-31T20:56:50.397Z"
   },
   {
    "duration": 215,
    "start_time": "2021-10-31T20:56:50.794Z"
   },
   {
    "duration": 5122,
    "start_time": "2021-10-31T20:56:51.011Z"
   },
   {
    "duration": 389,
    "start_time": "2021-10-31T20:56:56.135Z"
   },
   {
    "duration": 41533,
    "start_time": "2021-10-31T20:56:56.526Z"
   },
   {
    "duration": -4834,
    "start_time": "2021-10-31T20:57:42.897Z"
   },
   {
    "duration": -4839,
    "start_time": "2021-10-31T20:57:42.902Z"
   },
   {
    "duration": -4840,
    "start_time": "2021-10-31T20:57:42.904Z"
   },
   {
    "duration": -4840,
    "start_time": "2021-10-31T20:57:42.905Z"
   },
   {
    "duration": -4841,
    "start_time": "2021-10-31T20:57:42.907Z"
   },
   {
    "duration": 124606,
    "start_time": "2021-10-31T20:58:07.208Z"
   },
   {
    "duration": 527441,
    "start_time": "2021-10-31T21:01:21.042Z"
   },
   {
    "duration": 15545,
    "start_time": "2021-10-31T21:11:08.741Z"
   },
   {
    "duration": 14546,
    "start_time": "2021-10-31T21:12:02.323Z"
   },
   {
    "duration": 581196,
    "start_time": "2021-10-31T21:18:53.955Z"
   },
   {
    "duration": 14612,
    "start_time": "2021-10-31T21:28:35.153Z"
   },
   {
    "duration": 14479,
    "start_time": "2021-10-31T21:30:07.686Z"
   },
   {
    "duration": 12714,
    "start_time": "2021-10-31T21:31:07.570Z"
   },
   {
    "duration": 12845,
    "start_time": "2021-10-31T21:31:51.047Z"
   },
   {
    "duration": 13865,
    "start_time": "2021-10-31T21:32:59.200Z"
   },
   {
    "duration": 616119,
    "start_time": "2021-10-31T21:34:18.861Z"
   },
   {
    "duration": 1290074,
    "start_time": "2021-10-31T21:45:10.840Z"
   },
   {
    "duration": 2956,
    "start_time": "2021-10-31T22:06:40.916Z"
   },
   {
    "duration": 17841,
    "start_time": "2021-10-31T22:06:43.874Z"
   },
   {
    "duration": 19525,
    "start_time": "2021-10-31T22:09:18.906Z"
   },
   {
    "duration": 20713,
    "start_time": "2021-10-31T22:09:46.484Z"
   },
   {
    "duration": 21460,
    "start_time": "2021-10-31T22:10:14.160Z"
   },
   {
    "duration": 21826,
    "start_time": "2021-10-31T22:11:17.203Z"
   },
   {
    "duration": 21951,
    "start_time": "2021-10-31T22:11:53.127Z"
   },
   {
    "duration": 24271,
    "start_time": "2021-10-31T22:12:54.940Z"
   },
   {
    "duration": 17671,
    "start_time": "2021-10-31T22:13:40.306Z"
   },
   {
    "duration": 18554,
    "start_time": "2021-10-31T22:17:36.112Z"
   },
   {
    "duration": 1953,
    "start_time": "2021-10-31T23:58:06.349Z"
   },
   {
    "duration": 62,
    "start_time": "2021-10-31T23:58:08.509Z"
   },
   {
    "duration": 5,
    "start_time": "2021-10-31T23:58:08.755Z"
   },
   {
    "duration": 10,
    "start_time": "2021-10-31T23:58:09.021Z"
   },
   {
    "duration": 13,
    "start_time": "2021-10-31T23:58:09.268Z"
   },
   {
    "duration": 378,
    "start_time": "2021-10-31T23:58:10.011Z"
   },
   {
    "duration": 324,
    "start_time": "2021-10-31T23:58:10.795Z"
   },
   {
    "duration": 397,
    "start_time": "2021-10-31T23:58:11.833Z"
   },
   {
    "duration": 103,
    "start_time": "2021-10-31T23:58:12.324Z"
   },
   {
    "duration": 593,
    "start_time": "2021-10-31T23:58:12.431Z"
   },
   {
    "duration": 3295,
    "start_time": "2021-10-31T23:58:13.029Z"
   },
   {
    "duration": 496,
    "start_time": "2021-10-31T23:58:16.328Z"
   },
   {
    "duration": 295,
    "start_time": "2021-10-31T23:58:16.829Z"
   },
   {
    "duration": 6407,
    "start_time": "2021-10-31T23:58:17.128Z"
   },
   {
    "duration": 509,
    "start_time": "2021-10-31T23:58:23.537Z"
   },
   {
    "duration": 740471,
    "start_time": "2021-10-31T23:58:24.048Z"
   },
   {
    "duration": 17275,
    "start_time": "2021-11-01T00:10:44.523Z"
   },
   {
    "duration": 30877,
    "start_time": "2021-11-01T00:11:01.801Z"
   },
   {
    "duration": 23542,
    "start_time": "2021-11-01T00:11:32.680Z"
   },
   {
    "duration": 1798,
    "start_time": "2021-11-01T00:11:56.224Z"
   },
   {
    "duration": 1043,
    "start_time": "2021-11-03T00:00:11.048Z"
   },
   {
    "duration": 46,
    "start_time": "2021-11-03T00:04:55.039Z"
   },
   {
    "duration": 4,
    "start_time": "2021-11-03T00:04:56.123Z"
   },
   {
    "duration": 8,
    "start_time": "2021-11-03T00:04:56.779Z"
   },
   {
    "duration": 10,
    "start_time": "2021-11-03T00:04:57.253Z"
   },
   {
    "duration": 260,
    "start_time": "2021-11-03T00:04:58.823Z"
   },
   {
    "duration": 236,
    "start_time": "2021-11-03T00:04:59.480Z"
   },
   {
    "duration": 366,
    "start_time": "2021-11-03T00:05:00.187Z"
   },
   {
    "duration": 189,
    "start_time": "2021-11-03T00:05:00.557Z"
   },
   {
    "duration": 497,
    "start_time": "2021-11-03T00:05:00.749Z"
   },
   {
    "duration": 2397,
    "start_time": "2021-11-03T00:05:01.249Z"
   },
   {
    "duration": 499,
    "start_time": "2021-11-03T00:05:03.649Z"
   },
   {
    "duration": 218,
    "start_time": "2021-11-03T00:05:04.151Z"
   },
   {
    "duration": 5323,
    "start_time": "2021-11-03T00:05:04.371Z"
   },
   {
    "duration": 403,
    "start_time": "2021-11-03T00:05:09.696Z"
   },
   {
    "duration": 581614,
    "start_time": "2021-11-03T00:05:13.160Z"
   },
   {
    "duration": 575977,
    "start_time": "2021-11-03T00:16:16.832Z"
   },
   {
    "duration": 24362,
    "start_time": "2021-11-03T00:28:12.771Z"
   },
   {
    "duration": 17840,
    "start_time": "2021-11-03T00:29:01.245Z"
   },
   {
    "duration": 18757,
    "start_time": "2021-11-03T00:29:39.478Z"
   },
   {
    "duration": 2234,
    "start_time": "2021-11-03T00:31:35.645Z"
   },
   {
    "duration": 15868,
    "start_time": "2021-11-03T00:31:47.827Z"
   },
   {
    "duration": 16168,
    "start_time": "2021-11-03T00:39:51.657Z"
   },
   {
    "duration": 16126,
    "start_time": "2021-11-03T00:40:17.719Z"
   },
   {
    "duration": 15922,
    "start_time": "2021-11-03T00:40:52.787Z"
   },
   {
    "duration": 16925,
    "start_time": "2021-11-03T00:41:25.565Z"
   },
   {
    "duration": 16800,
    "start_time": "2021-11-03T00:41:49.637Z"
   },
   {
    "duration": 629121,
    "start_time": "2021-11-03T00:42:31.797Z"
   },
   {
    "duration": 4,
    "start_time": "2021-11-03T01:40:57.970Z"
   },
   {
    "duration": 35,
    "start_time": "2021-11-03T01:40:59.448Z"
   },
   {
    "duration": 3,
    "start_time": "2021-11-03T01:40:59.966Z"
   },
   {
    "duration": 7,
    "start_time": "2021-11-03T01:41:00.992Z"
   },
   {
    "duration": 9,
    "start_time": "2021-11-03T01:41:01.800Z"
   },
   {
    "duration": 232,
    "start_time": "2021-11-03T01:41:03.192Z"
   },
   {
    "duration": 222,
    "start_time": "2021-11-03T01:41:03.876Z"
   },
   {
    "duration": 399,
    "start_time": "2021-11-03T01:41:04.846Z"
   },
   {
    "duration": 197,
    "start_time": "2021-11-03T01:41:05.248Z"
   },
   {
    "duration": 497,
    "start_time": "2021-11-03T01:41:05.448Z"
   },
   {
    "duration": 2318,
    "start_time": "2021-11-03T01:41:05.947Z"
   },
   {
    "duration": 400,
    "start_time": "2021-11-03T01:41:08.346Z"
   },
   {
    "duration": 219,
    "start_time": "2021-11-03T01:41:08.748Z"
   },
   {
    "duration": 5266,
    "start_time": "2021-11-03T01:41:08.969Z"
   },
   {
    "duration": 377,
    "start_time": "2021-11-03T01:41:32.344Z"
   },
   {
    "duration": 573903,
    "start_time": "2021-11-03T01:41:34.974Z"
   },
   {
    "duration": 595214,
    "start_time": "2021-11-03T02:06:10.723Z"
   },
   {
    "duration": 19832,
    "start_time": "2021-11-03T02:17:46.615Z"
   },
   {
    "duration": 19188,
    "start_time": "2021-11-03T02:18:18.181Z"
   },
   {
    "duration": 19732,
    "start_time": "2021-11-03T02:19:48.044Z"
   },
   {
    "duration": 16192,
    "start_time": "2021-11-03T02:20:20.111Z"
   },
   {
    "duration": 17596,
    "start_time": "2021-11-03T02:21:07.376Z"
   },
   {
    "duration": 18006,
    "start_time": "2021-11-03T02:21:57.355Z"
   },
   {
    "duration": 1433,
    "start_time": "2021-11-04T00:35:17.852Z"
   },
   {
    "duration": 58,
    "start_time": "2021-11-04T00:35:22.979Z"
   },
   {
    "duration": 5,
    "start_time": "2021-11-04T00:35:23.339Z"
   },
   {
    "duration": 10,
    "start_time": "2021-11-04T00:35:23.683Z"
   },
   {
    "duration": 12,
    "start_time": "2021-11-04T00:35:24.009Z"
   },
   {
    "duration": 354,
    "start_time": "2021-11-04T00:35:25.069Z"
   },
   {
    "duration": 288,
    "start_time": "2021-11-04T00:35:27.595Z"
   },
   {
    "duration": 425,
    "start_time": "2021-11-04T00:35:28.739Z"
   },
   {
    "duration": 191,
    "start_time": "2021-11-04T00:35:29.169Z"
   },
   {
    "duration": 596,
    "start_time": "2021-11-04T00:35:29.365Z"
   },
   {
    "duration": 3198,
    "start_time": "2021-11-04T00:35:29.965Z"
   },
   {
    "duration": 424,
    "start_time": "2021-11-04T00:35:33.167Z"
   },
   {
    "duration": 301,
    "start_time": "2021-11-04T00:35:33.660Z"
   },
   {
    "duration": 5902,
    "start_time": "2021-11-04T00:35:33.965Z"
   },
   {
    "duration": 499,
    "start_time": "2021-11-04T00:35:39.870Z"
   },
   {
    "duration": -241,
    "start_time": "2021-11-04T01:02:54.442Z"
   },
   {
    "duration": 5,
    "start_time": "2021-11-04T01:04:20.120Z"
   },
   {
    "duration": 49,
    "start_time": "2021-11-04T01:04:23.289Z"
   },
   {
    "duration": 5,
    "start_time": "2021-11-04T01:04:24.694Z"
   },
   {
    "duration": 10,
    "start_time": "2021-11-04T01:04:25.436Z"
   },
   {
    "duration": 14,
    "start_time": "2021-11-04T01:04:28.326Z"
   },
   {
    "duration": 327,
    "start_time": "2021-11-04T01:04:31.884Z"
   },
   {
    "duration": 278,
    "start_time": "2021-11-04T01:04:35.204Z"
   },
   {
    "duration": 471,
    "start_time": "2021-11-04T01:04:38.790Z"
   },
   {
    "duration": 63,
    "start_time": "2021-11-04T01:04:56.798Z"
   },
   {
    "duration": 459,
    "start_time": "2021-11-04T01:04:58.105Z"
   },
   {
    "duration": 3078,
    "start_time": "2021-11-04T01:04:58.889Z"
   },
   {
    "duration": 574,
    "start_time": "2021-11-04T01:05:17.788Z"
   },
   {
    "duration": 319,
    "start_time": "2021-11-04T01:05:21.749Z"
   },
   {
    "duration": 6303,
    "start_time": "2021-11-04T01:05:25.205Z"
   },
   {
    "duration": 528,
    "start_time": "2021-11-04T01:05:39.432Z"
   },
   {
    "duration": 714509,
    "start_time": "2021-11-04T01:05:42.808Z"
   },
   {
    "duration": 18239,
    "start_time": "2021-11-04T01:19:50.508Z"
   },
   {
    "duration": 18395,
    "start_time": "2021-11-04T01:20:57.965Z"
   },
   {
    "duration": 18153,
    "start_time": "2021-11-04T01:21:27.098Z"
   },
   {
    "duration": 18698,
    "start_time": "2021-11-04T01:21:58.330Z"
   },
   {
    "duration": 18785,
    "start_time": "2021-11-04T01:22:31.706Z"
   },
   {
    "duration": 19293,
    "start_time": "2021-11-04T01:23:11.662Z"
   },
   {
    "duration": 24089,
    "start_time": "2021-11-04T01:23:30.960Z"
   },
   {
    "duration": 18208,
    "start_time": "2021-11-04T01:24:36.803Z"
   }
  ],
  "kernelspec": {
   "display_name": "Python 3 (ipykernel)",
   "language": "python",
   "name": "python3"
  },
  "language_info": {
   "codemirror_mode": {
    "name": "ipython",
    "version": 3
   },
   "file_extension": ".py",
   "mimetype": "text/x-python",
   "name": "python",
   "nbconvert_exporter": "python",
   "pygments_lexer": "ipython3",
   "version": "3.9.7"
  },
  "toc": {
   "base_numbering": 1,
   "nav_menu": {},
   "number_sections": true,
   "sideBar": true,
   "skip_h1_title": true,
   "title_cell": "Table of Contents",
   "title_sidebar": "Contents",
   "toc_cell": false,
   "toc_position": {},
   "toc_section_display": true,
   "toc_window_display": false
  }
 },
 "nbformat": 4,
 "nbformat_minor": 2
}
